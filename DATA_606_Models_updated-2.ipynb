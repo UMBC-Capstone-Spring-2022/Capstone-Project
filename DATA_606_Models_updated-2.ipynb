{
  "nbformat": 4,
  "nbformat_minor": 0,
  "metadata": {
    "colab": {
      "provenance": [],
      "collapsed_sections": [
        "TLj0uLtegFSQ",
        "KGN2Yycb4GHK"
      ]
    },
    "kernelspec": {
      "name": "python3",
      "display_name": "Python 3"
    },
    "language_info": {
      "name": "python"
    },
    "gpuClass": "standard",
    "accelerator": "GPU",
    "widgets": {
      "application/vnd.jupyter.widget-state+json": {
        "ad30d24c0de340beb63a124e4164a80b": {
          "model_module": "@jupyter-widgets/controls",
          "model_name": "HBoxModel",
          "model_module_version": "1.5.0",
          "state": {
            "_dom_classes": [],
            "_model_module": "@jupyter-widgets/controls",
            "_model_module_version": "1.5.0",
            "_model_name": "HBoxModel",
            "_view_count": null,
            "_view_module": "@jupyter-widgets/controls",
            "_view_module_version": "1.5.0",
            "_view_name": "HBoxView",
            "box_style": "",
            "children": [
              "IPY_MODEL_dad6d63e2649427a9f40aa53fac93765",
              "IPY_MODEL_8b3587a976394023b07ef8089ecdaa69",
              "IPY_MODEL_60e14d12a9174723a84ac94cf6aadd9c"
            ],
            "layout": "IPY_MODEL_00e09263dece46f2bb4bf87fc702924d"
          }
        },
        "dad6d63e2649427a9f40aa53fac93765": {
          "model_module": "@jupyter-widgets/controls",
          "model_name": "HTMLModel",
          "model_module_version": "1.5.0",
          "state": {
            "_dom_classes": [],
            "_model_module": "@jupyter-widgets/controls",
            "_model_module_version": "1.5.0",
            "_model_name": "HTMLModel",
            "_view_count": null,
            "_view_module": "@jupyter-widgets/controls",
            "_view_module_version": "1.5.0",
            "_view_name": "HTMLView",
            "description": "",
            "description_tooltip": null,
            "layout": "IPY_MODEL_cc529038da864c14832f0ca2454bae65",
            "placeholder": "​",
            "style": "IPY_MODEL_36dbe016f6d646028ee80eb6923c01f9",
            "value": "Downloading (…)rocessor_config.json: 100%"
          }
        },
        "8b3587a976394023b07ef8089ecdaa69": {
          "model_module": "@jupyter-widgets/controls",
          "model_name": "FloatProgressModel",
          "model_module_version": "1.5.0",
          "state": {
            "_dom_classes": [],
            "_model_module": "@jupyter-widgets/controls",
            "_model_module_version": "1.5.0",
            "_model_name": "FloatProgressModel",
            "_view_count": null,
            "_view_module": "@jupyter-widgets/controls",
            "_view_module_version": "1.5.0",
            "_view_name": "ProgressView",
            "bar_style": "success",
            "description": "",
            "description_tooltip": null,
            "layout": "IPY_MODEL_922774cbed4a4d19ac1848d5bcd3b2ef",
            "max": 160,
            "min": 0,
            "orientation": "horizontal",
            "style": "IPY_MODEL_9e117c8e5f2241ab932ad9473b8be7cc",
            "value": 160
          }
        },
        "60e14d12a9174723a84ac94cf6aadd9c": {
          "model_module": "@jupyter-widgets/controls",
          "model_name": "HTMLModel",
          "model_module_version": "1.5.0",
          "state": {
            "_dom_classes": [],
            "_model_module": "@jupyter-widgets/controls",
            "_model_module_version": "1.5.0",
            "_model_name": "HTMLModel",
            "_view_count": null,
            "_view_module": "@jupyter-widgets/controls",
            "_view_module_version": "1.5.0",
            "_view_name": "HTMLView",
            "description": "",
            "description_tooltip": null,
            "layout": "IPY_MODEL_c42f23248bd3464cb80cd8a75249217e",
            "placeholder": "​",
            "style": "IPY_MODEL_73f0386da7b3446aa696d628747891e1",
            "value": " 160/160 [00:00&lt;00:00, 3.87kB/s]"
          }
        },
        "00e09263dece46f2bb4bf87fc702924d": {
          "model_module": "@jupyter-widgets/base",
          "model_name": "LayoutModel",
          "model_module_version": "1.2.0",
          "state": {
            "_model_module": "@jupyter-widgets/base",
            "_model_module_version": "1.2.0",
            "_model_name": "LayoutModel",
            "_view_count": null,
            "_view_module": "@jupyter-widgets/base",
            "_view_module_version": "1.2.0",
            "_view_name": "LayoutView",
            "align_content": null,
            "align_items": null,
            "align_self": null,
            "border": null,
            "bottom": null,
            "display": null,
            "flex": null,
            "flex_flow": null,
            "grid_area": null,
            "grid_auto_columns": null,
            "grid_auto_flow": null,
            "grid_auto_rows": null,
            "grid_column": null,
            "grid_gap": null,
            "grid_row": null,
            "grid_template_areas": null,
            "grid_template_columns": null,
            "grid_template_rows": null,
            "height": null,
            "justify_content": null,
            "justify_items": null,
            "left": null,
            "margin": null,
            "max_height": null,
            "max_width": null,
            "min_height": null,
            "min_width": null,
            "object_fit": null,
            "object_position": null,
            "order": null,
            "overflow": null,
            "overflow_x": null,
            "overflow_y": null,
            "padding": null,
            "right": null,
            "top": null,
            "visibility": null,
            "width": null
          }
        },
        "cc529038da864c14832f0ca2454bae65": {
          "model_module": "@jupyter-widgets/base",
          "model_name": "LayoutModel",
          "model_module_version": "1.2.0",
          "state": {
            "_model_module": "@jupyter-widgets/base",
            "_model_module_version": "1.2.0",
            "_model_name": "LayoutModel",
            "_view_count": null,
            "_view_module": "@jupyter-widgets/base",
            "_view_module_version": "1.2.0",
            "_view_name": "LayoutView",
            "align_content": null,
            "align_items": null,
            "align_self": null,
            "border": null,
            "bottom": null,
            "display": null,
            "flex": null,
            "flex_flow": null,
            "grid_area": null,
            "grid_auto_columns": null,
            "grid_auto_flow": null,
            "grid_auto_rows": null,
            "grid_column": null,
            "grid_gap": null,
            "grid_row": null,
            "grid_template_areas": null,
            "grid_template_columns": null,
            "grid_template_rows": null,
            "height": null,
            "justify_content": null,
            "justify_items": null,
            "left": null,
            "margin": null,
            "max_height": null,
            "max_width": null,
            "min_height": null,
            "min_width": null,
            "object_fit": null,
            "object_position": null,
            "order": null,
            "overflow": null,
            "overflow_x": null,
            "overflow_y": null,
            "padding": null,
            "right": null,
            "top": null,
            "visibility": null,
            "width": null
          }
        },
        "36dbe016f6d646028ee80eb6923c01f9": {
          "model_module": "@jupyter-widgets/controls",
          "model_name": "DescriptionStyleModel",
          "model_module_version": "1.5.0",
          "state": {
            "_model_module": "@jupyter-widgets/controls",
            "_model_module_version": "1.5.0",
            "_model_name": "DescriptionStyleModel",
            "_view_count": null,
            "_view_module": "@jupyter-widgets/base",
            "_view_module_version": "1.2.0",
            "_view_name": "StyleView",
            "description_width": ""
          }
        },
        "922774cbed4a4d19ac1848d5bcd3b2ef": {
          "model_module": "@jupyter-widgets/base",
          "model_name": "LayoutModel",
          "model_module_version": "1.2.0",
          "state": {
            "_model_module": "@jupyter-widgets/base",
            "_model_module_version": "1.2.0",
            "_model_name": "LayoutModel",
            "_view_count": null,
            "_view_module": "@jupyter-widgets/base",
            "_view_module_version": "1.2.0",
            "_view_name": "LayoutView",
            "align_content": null,
            "align_items": null,
            "align_self": null,
            "border": null,
            "bottom": null,
            "display": null,
            "flex": null,
            "flex_flow": null,
            "grid_area": null,
            "grid_auto_columns": null,
            "grid_auto_flow": null,
            "grid_auto_rows": null,
            "grid_column": null,
            "grid_gap": null,
            "grid_row": null,
            "grid_template_areas": null,
            "grid_template_columns": null,
            "grid_template_rows": null,
            "height": null,
            "justify_content": null,
            "justify_items": null,
            "left": null,
            "margin": null,
            "max_height": null,
            "max_width": null,
            "min_height": null,
            "min_width": null,
            "object_fit": null,
            "object_position": null,
            "order": null,
            "overflow": null,
            "overflow_x": null,
            "overflow_y": null,
            "padding": null,
            "right": null,
            "top": null,
            "visibility": null,
            "width": null
          }
        },
        "9e117c8e5f2241ab932ad9473b8be7cc": {
          "model_module": "@jupyter-widgets/controls",
          "model_name": "ProgressStyleModel",
          "model_module_version": "1.5.0",
          "state": {
            "_model_module": "@jupyter-widgets/controls",
            "_model_module_version": "1.5.0",
            "_model_name": "ProgressStyleModel",
            "_view_count": null,
            "_view_module": "@jupyter-widgets/base",
            "_view_module_version": "1.2.0",
            "_view_name": "StyleView",
            "bar_color": null,
            "description_width": ""
          }
        },
        "c42f23248bd3464cb80cd8a75249217e": {
          "model_module": "@jupyter-widgets/base",
          "model_name": "LayoutModel",
          "model_module_version": "1.2.0",
          "state": {
            "_model_module": "@jupyter-widgets/base",
            "_model_module_version": "1.2.0",
            "_model_name": "LayoutModel",
            "_view_count": null,
            "_view_module": "@jupyter-widgets/base",
            "_view_module_version": "1.2.0",
            "_view_name": "LayoutView",
            "align_content": null,
            "align_items": null,
            "align_self": null,
            "border": null,
            "bottom": null,
            "display": null,
            "flex": null,
            "flex_flow": null,
            "grid_area": null,
            "grid_auto_columns": null,
            "grid_auto_flow": null,
            "grid_auto_rows": null,
            "grid_column": null,
            "grid_gap": null,
            "grid_row": null,
            "grid_template_areas": null,
            "grid_template_columns": null,
            "grid_template_rows": null,
            "height": null,
            "justify_content": null,
            "justify_items": null,
            "left": null,
            "margin": null,
            "max_height": null,
            "max_width": null,
            "min_height": null,
            "min_width": null,
            "object_fit": null,
            "object_position": null,
            "order": null,
            "overflow": null,
            "overflow_x": null,
            "overflow_y": null,
            "padding": null,
            "right": null,
            "top": null,
            "visibility": null,
            "width": null
          }
        },
        "73f0386da7b3446aa696d628747891e1": {
          "model_module": "@jupyter-widgets/controls",
          "model_name": "DescriptionStyleModel",
          "model_module_version": "1.5.0",
          "state": {
            "_model_module": "@jupyter-widgets/controls",
            "_model_module_version": "1.5.0",
            "_model_name": "DescriptionStyleModel",
            "_view_count": null,
            "_view_module": "@jupyter-widgets/base",
            "_view_module_version": "1.2.0",
            "_view_name": "StyleView",
            "description_width": ""
          }
        },
        "4a1d410508a845e08bc14220fed2dc9c": {
          "model_module": "@jupyter-widgets/controls",
          "model_name": "HBoxModel",
          "model_module_version": "1.5.0",
          "state": {
            "_dom_classes": [],
            "_model_module": "@jupyter-widgets/controls",
            "_model_module_version": "1.5.0",
            "_model_name": "HBoxModel",
            "_view_count": null,
            "_view_module": "@jupyter-widgets/controls",
            "_view_module_version": "1.5.0",
            "_view_name": "HBoxView",
            "box_style": "",
            "children": [
              "IPY_MODEL_1ae340862566434b9598fc5a7d4b4719",
              "IPY_MODEL_86c4d5f3d839416b90bf90f47918cacb",
              "IPY_MODEL_a88e460b3661484c82f938926c4ffc1d"
            ],
            "layout": "IPY_MODEL_0fbbb19a2213414394e85b914152a928"
          }
        },
        "1ae340862566434b9598fc5a7d4b4719": {
          "model_module": "@jupyter-widgets/controls",
          "model_name": "HTMLModel",
          "model_module_version": "1.5.0",
          "state": {
            "_dom_classes": [],
            "_model_module": "@jupyter-widgets/controls",
            "_model_module_version": "1.5.0",
            "_model_name": "HTMLModel",
            "_view_count": null,
            "_view_module": "@jupyter-widgets/controls",
            "_view_module_version": "1.5.0",
            "_view_name": "HTMLView",
            "description": "",
            "description_tooltip": null,
            "layout": "IPY_MODEL_b50fd62bc02d4f9fb5f313282b89db81",
            "placeholder": "​",
            "style": "IPY_MODEL_61512858a87e48b28aae0998f3a425de",
            "value": "Downloading builder script: "
          }
        },
        "86c4d5f3d839416b90bf90f47918cacb": {
          "model_module": "@jupyter-widgets/controls",
          "model_name": "FloatProgressModel",
          "model_module_version": "1.5.0",
          "state": {
            "_dom_classes": [],
            "_model_module": "@jupyter-widgets/controls",
            "_model_module_version": "1.5.0",
            "_model_name": "FloatProgressModel",
            "_view_count": null,
            "_view_module": "@jupyter-widgets/controls",
            "_view_module_version": "1.5.0",
            "_view_name": "ProgressView",
            "bar_style": "success",
            "description": "",
            "description_tooltip": null,
            "layout": "IPY_MODEL_8ce8974802a64e2e98fbaf94ff9bf252",
            "max": 1652,
            "min": 0,
            "orientation": "horizontal",
            "style": "IPY_MODEL_d17c9dcd65cc4dd7b099c5f3e007a6db",
            "value": 1652
          }
        },
        "a88e460b3661484c82f938926c4ffc1d": {
          "model_module": "@jupyter-widgets/controls",
          "model_name": "HTMLModel",
          "model_module_version": "1.5.0",
          "state": {
            "_dom_classes": [],
            "_model_module": "@jupyter-widgets/controls",
            "_model_module_version": "1.5.0",
            "_model_name": "HTMLModel",
            "_view_count": null,
            "_view_module": "@jupyter-widgets/controls",
            "_view_module_version": "1.5.0",
            "_view_name": "HTMLView",
            "description": "",
            "description_tooltip": null,
            "layout": "IPY_MODEL_698a3f985aca4d94ae57ca70b5908ac8",
            "placeholder": "​",
            "style": "IPY_MODEL_34dfbbe3d995445ebba8dae85b910489",
            "value": " 4.21k/? [00:00&lt;00:00, 219kB/s]"
          }
        },
        "0fbbb19a2213414394e85b914152a928": {
          "model_module": "@jupyter-widgets/base",
          "model_name": "LayoutModel",
          "model_module_version": "1.2.0",
          "state": {
            "_model_module": "@jupyter-widgets/base",
            "_model_module_version": "1.2.0",
            "_model_name": "LayoutModel",
            "_view_count": null,
            "_view_module": "@jupyter-widgets/base",
            "_view_module_version": "1.2.0",
            "_view_name": "LayoutView",
            "align_content": null,
            "align_items": null,
            "align_self": null,
            "border": null,
            "bottom": null,
            "display": null,
            "flex": null,
            "flex_flow": null,
            "grid_area": null,
            "grid_auto_columns": null,
            "grid_auto_flow": null,
            "grid_auto_rows": null,
            "grid_column": null,
            "grid_gap": null,
            "grid_row": null,
            "grid_template_areas": null,
            "grid_template_columns": null,
            "grid_template_rows": null,
            "height": null,
            "justify_content": null,
            "justify_items": null,
            "left": null,
            "margin": null,
            "max_height": null,
            "max_width": null,
            "min_height": null,
            "min_width": null,
            "object_fit": null,
            "object_position": null,
            "order": null,
            "overflow": null,
            "overflow_x": null,
            "overflow_y": null,
            "padding": null,
            "right": null,
            "top": null,
            "visibility": null,
            "width": null
          }
        },
        "b50fd62bc02d4f9fb5f313282b89db81": {
          "model_module": "@jupyter-widgets/base",
          "model_name": "LayoutModel",
          "model_module_version": "1.2.0",
          "state": {
            "_model_module": "@jupyter-widgets/base",
            "_model_module_version": "1.2.0",
            "_model_name": "LayoutModel",
            "_view_count": null,
            "_view_module": "@jupyter-widgets/base",
            "_view_module_version": "1.2.0",
            "_view_name": "LayoutView",
            "align_content": null,
            "align_items": null,
            "align_self": null,
            "border": null,
            "bottom": null,
            "display": null,
            "flex": null,
            "flex_flow": null,
            "grid_area": null,
            "grid_auto_columns": null,
            "grid_auto_flow": null,
            "grid_auto_rows": null,
            "grid_column": null,
            "grid_gap": null,
            "grid_row": null,
            "grid_template_areas": null,
            "grid_template_columns": null,
            "grid_template_rows": null,
            "height": null,
            "justify_content": null,
            "justify_items": null,
            "left": null,
            "margin": null,
            "max_height": null,
            "max_width": null,
            "min_height": null,
            "min_width": null,
            "object_fit": null,
            "object_position": null,
            "order": null,
            "overflow": null,
            "overflow_x": null,
            "overflow_y": null,
            "padding": null,
            "right": null,
            "top": null,
            "visibility": null,
            "width": null
          }
        },
        "61512858a87e48b28aae0998f3a425de": {
          "model_module": "@jupyter-widgets/controls",
          "model_name": "DescriptionStyleModel",
          "model_module_version": "1.5.0",
          "state": {
            "_model_module": "@jupyter-widgets/controls",
            "_model_module_version": "1.5.0",
            "_model_name": "DescriptionStyleModel",
            "_view_count": null,
            "_view_module": "@jupyter-widgets/base",
            "_view_module_version": "1.2.0",
            "_view_name": "StyleView",
            "description_width": ""
          }
        },
        "8ce8974802a64e2e98fbaf94ff9bf252": {
          "model_module": "@jupyter-widgets/base",
          "model_name": "LayoutModel",
          "model_module_version": "1.2.0",
          "state": {
            "_model_module": "@jupyter-widgets/base",
            "_model_module_version": "1.2.0",
            "_model_name": "LayoutModel",
            "_view_count": null,
            "_view_module": "@jupyter-widgets/base",
            "_view_module_version": "1.2.0",
            "_view_name": "LayoutView",
            "align_content": null,
            "align_items": null,
            "align_self": null,
            "border": null,
            "bottom": null,
            "display": null,
            "flex": null,
            "flex_flow": null,
            "grid_area": null,
            "grid_auto_columns": null,
            "grid_auto_flow": null,
            "grid_auto_rows": null,
            "grid_column": null,
            "grid_gap": null,
            "grid_row": null,
            "grid_template_areas": null,
            "grid_template_columns": null,
            "grid_template_rows": null,
            "height": null,
            "justify_content": null,
            "justify_items": null,
            "left": null,
            "margin": null,
            "max_height": null,
            "max_width": null,
            "min_height": null,
            "min_width": null,
            "object_fit": null,
            "object_position": null,
            "order": null,
            "overflow": null,
            "overflow_x": null,
            "overflow_y": null,
            "padding": null,
            "right": null,
            "top": null,
            "visibility": null,
            "width": null
          }
        },
        "d17c9dcd65cc4dd7b099c5f3e007a6db": {
          "model_module": "@jupyter-widgets/controls",
          "model_name": "ProgressStyleModel",
          "model_module_version": "1.5.0",
          "state": {
            "_model_module": "@jupyter-widgets/controls",
            "_model_module_version": "1.5.0",
            "_model_name": "ProgressStyleModel",
            "_view_count": null,
            "_view_module": "@jupyter-widgets/base",
            "_view_module_version": "1.2.0",
            "_view_name": "StyleView",
            "bar_color": null,
            "description_width": ""
          }
        },
        "698a3f985aca4d94ae57ca70b5908ac8": {
          "model_module": "@jupyter-widgets/base",
          "model_name": "LayoutModel",
          "model_module_version": "1.2.0",
          "state": {
            "_model_module": "@jupyter-widgets/base",
            "_model_module_version": "1.2.0",
            "_model_name": "LayoutModel",
            "_view_count": null,
            "_view_module": "@jupyter-widgets/base",
            "_view_module_version": "1.2.0",
            "_view_name": "LayoutView",
            "align_content": null,
            "align_items": null,
            "align_self": null,
            "border": null,
            "bottom": null,
            "display": null,
            "flex": null,
            "flex_flow": null,
            "grid_area": null,
            "grid_auto_columns": null,
            "grid_auto_flow": null,
            "grid_auto_rows": null,
            "grid_column": null,
            "grid_gap": null,
            "grid_row": null,
            "grid_template_areas": null,
            "grid_template_columns": null,
            "grid_template_rows": null,
            "height": null,
            "justify_content": null,
            "justify_items": null,
            "left": null,
            "margin": null,
            "max_height": null,
            "max_width": null,
            "min_height": null,
            "min_width": null,
            "object_fit": null,
            "object_position": null,
            "order": null,
            "overflow": null,
            "overflow_x": null,
            "overflow_y": null,
            "padding": null,
            "right": null,
            "top": null,
            "visibility": null,
            "width": null
          }
        },
        "34dfbbe3d995445ebba8dae85b910489": {
          "model_module": "@jupyter-widgets/controls",
          "model_name": "DescriptionStyleModel",
          "model_module_version": "1.5.0",
          "state": {
            "_model_module": "@jupyter-widgets/controls",
            "_model_module_version": "1.5.0",
            "_model_name": "DescriptionStyleModel",
            "_view_count": null,
            "_view_module": "@jupyter-widgets/base",
            "_view_module_version": "1.2.0",
            "_view_name": "StyleView",
            "description_width": ""
          }
        },
        "3093438513a64168926ee9f335db7ef6": {
          "model_module": "@jupyter-widgets/controls",
          "model_name": "HBoxModel",
          "model_module_version": "1.5.0",
          "state": {
            "_dom_classes": [],
            "_model_module": "@jupyter-widgets/controls",
            "_model_module_version": "1.5.0",
            "_model_name": "HBoxModel",
            "_view_count": null,
            "_view_module": "@jupyter-widgets/controls",
            "_view_module_version": "1.5.0",
            "_view_name": "HBoxView",
            "box_style": "",
            "children": [
              "IPY_MODEL_3422851e615f4e68aa3635aa3fcd3ccf",
              "IPY_MODEL_003e136f6b32449abba1b2e549fcb8ee",
              "IPY_MODEL_a2347fa134c04d5db02202d8a73c86b1"
            ],
            "layout": "IPY_MODEL_14b3b1a0a4b943558c1348de5a3156e7"
          }
        },
        "3422851e615f4e68aa3635aa3fcd3ccf": {
          "model_module": "@jupyter-widgets/controls",
          "model_name": "HTMLModel",
          "model_module_version": "1.5.0",
          "state": {
            "_dom_classes": [],
            "_model_module": "@jupyter-widgets/controls",
            "_model_module_version": "1.5.0",
            "_model_name": "HTMLModel",
            "_view_count": null,
            "_view_module": "@jupyter-widgets/controls",
            "_view_module_version": "1.5.0",
            "_view_name": "HTMLView",
            "description": "",
            "description_tooltip": null,
            "layout": "IPY_MODEL_33a5ff833315429e8771b8f6e21e6a0e",
            "placeholder": "​",
            "style": "IPY_MODEL_22dff9301e8d4dde8cc5031cd396c161",
            "value": "Downloading (…)lve/main/config.json: 100%"
          }
        },
        "003e136f6b32449abba1b2e549fcb8ee": {
          "model_module": "@jupyter-widgets/controls",
          "model_name": "FloatProgressModel",
          "model_module_version": "1.5.0",
          "state": {
            "_dom_classes": [],
            "_model_module": "@jupyter-widgets/controls",
            "_model_module_version": "1.5.0",
            "_model_name": "FloatProgressModel",
            "_view_count": null,
            "_view_module": "@jupyter-widgets/controls",
            "_view_module_version": "1.5.0",
            "_view_name": "ProgressView",
            "bar_style": "success",
            "description": "",
            "description_tooltip": null,
            "layout": "IPY_MODEL_6d3b53d15e0a43428c32a15919db33f3",
            "max": 502,
            "min": 0,
            "orientation": "horizontal",
            "style": "IPY_MODEL_90564192aaec4d26ae99303689190ba0",
            "value": 502
          }
        },
        "a2347fa134c04d5db02202d8a73c86b1": {
          "model_module": "@jupyter-widgets/controls",
          "model_name": "HTMLModel",
          "model_module_version": "1.5.0",
          "state": {
            "_dom_classes": [],
            "_model_module": "@jupyter-widgets/controls",
            "_model_module_version": "1.5.0",
            "_model_name": "HTMLModel",
            "_view_count": null,
            "_view_module": "@jupyter-widgets/controls",
            "_view_module_version": "1.5.0",
            "_view_name": "HTMLView",
            "description": "",
            "description_tooltip": null,
            "layout": "IPY_MODEL_65b749ffa05b4d299c263dfd9c9d77c2",
            "placeholder": "​",
            "style": "IPY_MODEL_052be2359a484c2ab2b49c93d1625981",
            "value": " 502/502 [00:00&lt;00:00, 26.9kB/s]"
          }
        },
        "14b3b1a0a4b943558c1348de5a3156e7": {
          "model_module": "@jupyter-widgets/base",
          "model_name": "LayoutModel",
          "model_module_version": "1.2.0",
          "state": {
            "_model_module": "@jupyter-widgets/base",
            "_model_module_version": "1.2.0",
            "_model_name": "LayoutModel",
            "_view_count": null,
            "_view_module": "@jupyter-widgets/base",
            "_view_module_version": "1.2.0",
            "_view_name": "LayoutView",
            "align_content": null,
            "align_items": null,
            "align_self": null,
            "border": null,
            "bottom": null,
            "display": null,
            "flex": null,
            "flex_flow": null,
            "grid_area": null,
            "grid_auto_columns": null,
            "grid_auto_flow": null,
            "grid_auto_rows": null,
            "grid_column": null,
            "grid_gap": null,
            "grid_row": null,
            "grid_template_areas": null,
            "grid_template_columns": null,
            "grid_template_rows": null,
            "height": null,
            "justify_content": null,
            "justify_items": null,
            "left": null,
            "margin": null,
            "max_height": null,
            "max_width": null,
            "min_height": null,
            "min_width": null,
            "object_fit": null,
            "object_position": null,
            "order": null,
            "overflow": null,
            "overflow_x": null,
            "overflow_y": null,
            "padding": null,
            "right": null,
            "top": null,
            "visibility": null,
            "width": null
          }
        },
        "33a5ff833315429e8771b8f6e21e6a0e": {
          "model_module": "@jupyter-widgets/base",
          "model_name": "LayoutModel",
          "model_module_version": "1.2.0",
          "state": {
            "_model_module": "@jupyter-widgets/base",
            "_model_module_version": "1.2.0",
            "_model_name": "LayoutModel",
            "_view_count": null,
            "_view_module": "@jupyter-widgets/base",
            "_view_module_version": "1.2.0",
            "_view_name": "LayoutView",
            "align_content": null,
            "align_items": null,
            "align_self": null,
            "border": null,
            "bottom": null,
            "display": null,
            "flex": null,
            "flex_flow": null,
            "grid_area": null,
            "grid_auto_columns": null,
            "grid_auto_flow": null,
            "grid_auto_rows": null,
            "grid_column": null,
            "grid_gap": null,
            "grid_row": null,
            "grid_template_areas": null,
            "grid_template_columns": null,
            "grid_template_rows": null,
            "height": null,
            "justify_content": null,
            "justify_items": null,
            "left": null,
            "margin": null,
            "max_height": null,
            "max_width": null,
            "min_height": null,
            "min_width": null,
            "object_fit": null,
            "object_position": null,
            "order": null,
            "overflow": null,
            "overflow_x": null,
            "overflow_y": null,
            "padding": null,
            "right": null,
            "top": null,
            "visibility": null,
            "width": null
          }
        },
        "22dff9301e8d4dde8cc5031cd396c161": {
          "model_module": "@jupyter-widgets/controls",
          "model_name": "DescriptionStyleModel",
          "model_module_version": "1.5.0",
          "state": {
            "_model_module": "@jupyter-widgets/controls",
            "_model_module_version": "1.5.0",
            "_model_name": "DescriptionStyleModel",
            "_view_count": null,
            "_view_module": "@jupyter-widgets/base",
            "_view_module_version": "1.2.0",
            "_view_name": "StyleView",
            "description_width": ""
          }
        },
        "6d3b53d15e0a43428c32a15919db33f3": {
          "model_module": "@jupyter-widgets/base",
          "model_name": "LayoutModel",
          "model_module_version": "1.2.0",
          "state": {
            "_model_module": "@jupyter-widgets/base",
            "_model_module_version": "1.2.0",
            "_model_name": "LayoutModel",
            "_view_count": null,
            "_view_module": "@jupyter-widgets/base",
            "_view_module_version": "1.2.0",
            "_view_name": "LayoutView",
            "align_content": null,
            "align_items": null,
            "align_self": null,
            "border": null,
            "bottom": null,
            "display": null,
            "flex": null,
            "flex_flow": null,
            "grid_area": null,
            "grid_auto_columns": null,
            "grid_auto_flow": null,
            "grid_auto_rows": null,
            "grid_column": null,
            "grid_gap": null,
            "grid_row": null,
            "grid_template_areas": null,
            "grid_template_columns": null,
            "grid_template_rows": null,
            "height": null,
            "justify_content": null,
            "justify_items": null,
            "left": null,
            "margin": null,
            "max_height": null,
            "max_width": null,
            "min_height": null,
            "min_width": null,
            "object_fit": null,
            "object_position": null,
            "order": null,
            "overflow": null,
            "overflow_x": null,
            "overflow_y": null,
            "padding": null,
            "right": null,
            "top": null,
            "visibility": null,
            "width": null
          }
        },
        "90564192aaec4d26ae99303689190ba0": {
          "model_module": "@jupyter-widgets/controls",
          "model_name": "ProgressStyleModel",
          "model_module_version": "1.5.0",
          "state": {
            "_model_module": "@jupyter-widgets/controls",
            "_model_module_version": "1.5.0",
            "_model_name": "ProgressStyleModel",
            "_view_count": null,
            "_view_module": "@jupyter-widgets/base",
            "_view_module_version": "1.2.0",
            "_view_name": "StyleView",
            "bar_color": null,
            "description_width": ""
          }
        },
        "65b749ffa05b4d299c263dfd9c9d77c2": {
          "model_module": "@jupyter-widgets/base",
          "model_name": "LayoutModel",
          "model_module_version": "1.2.0",
          "state": {
            "_model_module": "@jupyter-widgets/base",
            "_model_module_version": "1.2.0",
            "_model_name": "LayoutModel",
            "_view_count": null,
            "_view_module": "@jupyter-widgets/base",
            "_view_module_version": "1.2.0",
            "_view_name": "LayoutView",
            "align_content": null,
            "align_items": null,
            "align_self": null,
            "border": null,
            "bottom": null,
            "display": null,
            "flex": null,
            "flex_flow": null,
            "grid_area": null,
            "grid_auto_columns": null,
            "grid_auto_flow": null,
            "grid_auto_rows": null,
            "grid_column": null,
            "grid_gap": null,
            "grid_row": null,
            "grid_template_areas": null,
            "grid_template_columns": null,
            "grid_template_rows": null,
            "height": null,
            "justify_content": null,
            "justify_items": null,
            "left": null,
            "margin": null,
            "max_height": null,
            "max_width": null,
            "min_height": null,
            "min_width": null,
            "object_fit": null,
            "object_position": null,
            "order": null,
            "overflow": null,
            "overflow_x": null,
            "overflow_y": null,
            "padding": null,
            "right": null,
            "top": null,
            "visibility": null,
            "width": null
          }
        },
        "052be2359a484c2ab2b49c93d1625981": {
          "model_module": "@jupyter-widgets/controls",
          "model_name": "DescriptionStyleModel",
          "model_module_version": "1.5.0",
          "state": {
            "_model_module": "@jupyter-widgets/controls",
            "_model_module_version": "1.5.0",
            "_model_name": "DescriptionStyleModel",
            "_view_count": null,
            "_view_module": "@jupyter-widgets/base",
            "_view_module_version": "1.2.0",
            "_view_name": "StyleView",
            "description_width": ""
          }
        },
        "220eb66d3d6d4195a08771145e0eded1": {
          "model_module": "@jupyter-widgets/controls",
          "model_name": "HBoxModel",
          "model_module_version": "1.5.0",
          "state": {
            "_dom_classes": [],
            "_model_module": "@jupyter-widgets/controls",
            "_model_module_version": "1.5.0",
            "_model_name": "HBoxModel",
            "_view_count": null,
            "_view_module": "@jupyter-widgets/controls",
            "_view_module_version": "1.5.0",
            "_view_name": "HBoxView",
            "box_style": "",
            "children": [
              "IPY_MODEL_8decc903de0b4f28810dc0589c785774",
              "IPY_MODEL_9c513b52a9e345feb0a294c115633ee7",
              "IPY_MODEL_53c79205cd4e4ecabe7549a50dc1f59a"
            ],
            "layout": "IPY_MODEL_0dd4bf1735834648950f532e7c92b468"
          }
        },
        "8decc903de0b4f28810dc0589c785774": {
          "model_module": "@jupyter-widgets/controls",
          "model_name": "HTMLModel",
          "model_module_version": "1.5.0",
          "state": {
            "_dom_classes": [],
            "_model_module": "@jupyter-widgets/controls",
            "_model_module_version": "1.5.0",
            "_model_name": "HTMLModel",
            "_view_count": null,
            "_view_module": "@jupyter-widgets/controls",
            "_view_module_version": "1.5.0",
            "_view_name": "HTMLView",
            "description": "",
            "description_tooltip": null,
            "layout": "IPY_MODEL_c32de2da8ab844b2b25f960e8cfab741",
            "placeholder": "​",
            "style": "IPY_MODEL_8a50324e644e4ceb80cfb0b11afcc13b",
            "value": "Downloading pytorch_model.bin: 100%"
          }
        },
        "9c513b52a9e345feb0a294c115633ee7": {
          "model_module": "@jupyter-widgets/controls",
          "model_name": "FloatProgressModel",
          "model_module_version": "1.5.0",
          "state": {
            "_dom_classes": [],
            "_model_module": "@jupyter-widgets/controls",
            "_model_module_version": "1.5.0",
            "_model_name": "FloatProgressModel",
            "_view_count": null,
            "_view_module": "@jupyter-widgets/controls",
            "_view_module_version": "1.5.0",
            "_view_name": "ProgressView",
            "bar_style": "success",
            "description": "",
            "description_tooltip": null,
            "layout": "IPY_MODEL_2454ea30f6fc4500a9d09641c8243f9d",
            "max": 345636463,
            "min": 0,
            "orientation": "horizontal",
            "style": "IPY_MODEL_a149efae76444ab389dc3e6a315b998a",
            "value": 345636463
          }
        },
        "53c79205cd4e4ecabe7549a50dc1f59a": {
          "model_module": "@jupyter-widgets/controls",
          "model_name": "HTMLModel",
          "model_module_version": "1.5.0",
          "state": {
            "_dom_classes": [],
            "_model_module": "@jupyter-widgets/controls",
            "_model_module_version": "1.5.0",
            "_model_name": "HTMLModel",
            "_view_count": null,
            "_view_module": "@jupyter-widgets/controls",
            "_view_module_version": "1.5.0",
            "_view_name": "HTMLView",
            "description": "",
            "description_tooltip": null,
            "layout": "IPY_MODEL_de30d6e7142e429982fb7a803a749c42",
            "placeholder": "​",
            "style": "IPY_MODEL_b3229e7a8f12429bab61f71dec9ed6c0",
            "value": " 346M/346M [00:01&lt;00:00, 299MB/s]"
          }
        },
        "0dd4bf1735834648950f532e7c92b468": {
          "model_module": "@jupyter-widgets/base",
          "model_name": "LayoutModel",
          "model_module_version": "1.2.0",
          "state": {
            "_model_module": "@jupyter-widgets/base",
            "_model_module_version": "1.2.0",
            "_model_name": "LayoutModel",
            "_view_count": null,
            "_view_module": "@jupyter-widgets/base",
            "_view_module_version": "1.2.0",
            "_view_name": "LayoutView",
            "align_content": null,
            "align_items": null,
            "align_self": null,
            "border": null,
            "bottom": null,
            "display": null,
            "flex": null,
            "flex_flow": null,
            "grid_area": null,
            "grid_auto_columns": null,
            "grid_auto_flow": null,
            "grid_auto_rows": null,
            "grid_column": null,
            "grid_gap": null,
            "grid_row": null,
            "grid_template_areas": null,
            "grid_template_columns": null,
            "grid_template_rows": null,
            "height": null,
            "justify_content": null,
            "justify_items": null,
            "left": null,
            "margin": null,
            "max_height": null,
            "max_width": null,
            "min_height": null,
            "min_width": null,
            "object_fit": null,
            "object_position": null,
            "order": null,
            "overflow": null,
            "overflow_x": null,
            "overflow_y": null,
            "padding": null,
            "right": null,
            "top": null,
            "visibility": null,
            "width": null
          }
        },
        "c32de2da8ab844b2b25f960e8cfab741": {
          "model_module": "@jupyter-widgets/base",
          "model_name": "LayoutModel",
          "model_module_version": "1.2.0",
          "state": {
            "_model_module": "@jupyter-widgets/base",
            "_model_module_version": "1.2.0",
            "_model_name": "LayoutModel",
            "_view_count": null,
            "_view_module": "@jupyter-widgets/base",
            "_view_module_version": "1.2.0",
            "_view_name": "LayoutView",
            "align_content": null,
            "align_items": null,
            "align_self": null,
            "border": null,
            "bottom": null,
            "display": null,
            "flex": null,
            "flex_flow": null,
            "grid_area": null,
            "grid_auto_columns": null,
            "grid_auto_flow": null,
            "grid_auto_rows": null,
            "grid_column": null,
            "grid_gap": null,
            "grid_row": null,
            "grid_template_areas": null,
            "grid_template_columns": null,
            "grid_template_rows": null,
            "height": null,
            "justify_content": null,
            "justify_items": null,
            "left": null,
            "margin": null,
            "max_height": null,
            "max_width": null,
            "min_height": null,
            "min_width": null,
            "object_fit": null,
            "object_position": null,
            "order": null,
            "overflow": null,
            "overflow_x": null,
            "overflow_y": null,
            "padding": null,
            "right": null,
            "top": null,
            "visibility": null,
            "width": null
          }
        },
        "8a50324e644e4ceb80cfb0b11afcc13b": {
          "model_module": "@jupyter-widgets/controls",
          "model_name": "DescriptionStyleModel",
          "model_module_version": "1.5.0",
          "state": {
            "_model_module": "@jupyter-widgets/controls",
            "_model_module_version": "1.5.0",
            "_model_name": "DescriptionStyleModel",
            "_view_count": null,
            "_view_module": "@jupyter-widgets/base",
            "_view_module_version": "1.2.0",
            "_view_name": "StyleView",
            "description_width": ""
          }
        },
        "2454ea30f6fc4500a9d09641c8243f9d": {
          "model_module": "@jupyter-widgets/base",
          "model_name": "LayoutModel",
          "model_module_version": "1.2.0",
          "state": {
            "_model_module": "@jupyter-widgets/base",
            "_model_module_version": "1.2.0",
            "_model_name": "LayoutModel",
            "_view_count": null,
            "_view_module": "@jupyter-widgets/base",
            "_view_module_version": "1.2.0",
            "_view_name": "LayoutView",
            "align_content": null,
            "align_items": null,
            "align_self": null,
            "border": null,
            "bottom": null,
            "display": null,
            "flex": null,
            "flex_flow": null,
            "grid_area": null,
            "grid_auto_columns": null,
            "grid_auto_flow": null,
            "grid_auto_rows": null,
            "grid_column": null,
            "grid_gap": null,
            "grid_row": null,
            "grid_template_areas": null,
            "grid_template_columns": null,
            "grid_template_rows": null,
            "height": null,
            "justify_content": null,
            "justify_items": null,
            "left": null,
            "margin": null,
            "max_height": null,
            "max_width": null,
            "min_height": null,
            "min_width": null,
            "object_fit": null,
            "object_position": null,
            "order": null,
            "overflow": null,
            "overflow_x": null,
            "overflow_y": null,
            "padding": null,
            "right": null,
            "top": null,
            "visibility": null,
            "width": null
          }
        },
        "a149efae76444ab389dc3e6a315b998a": {
          "model_module": "@jupyter-widgets/controls",
          "model_name": "ProgressStyleModel",
          "model_module_version": "1.5.0",
          "state": {
            "_model_module": "@jupyter-widgets/controls",
            "_model_module_version": "1.5.0",
            "_model_name": "ProgressStyleModel",
            "_view_count": null,
            "_view_module": "@jupyter-widgets/base",
            "_view_module_version": "1.2.0",
            "_view_name": "StyleView",
            "bar_color": null,
            "description_width": ""
          }
        },
        "de30d6e7142e429982fb7a803a749c42": {
          "model_module": "@jupyter-widgets/base",
          "model_name": "LayoutModel",
          "model_module_version": "1.2.0",
          "state": {
            "_model_module": "@jupyter-widgets/base",
            "_model_module_version": "1.2.0",
            "_model_name": "LayoutModel",
            "_view_count": null,
            "_view_module": "@jupyter-widgets/base",
            "_view_module_version": "1.2.0",
            "_view_name": "LayoutView",
            "align_content": null,
            "align_items": null,
            "align_self": null,
            "border": null,
            "bottom": null,
            "display": null,
            "flex": null,
            "flex_flow": null,
            "grid_area": null,
            "grid_auto_columns": null,
            "grid_auto_flow": null,
            "grid_auto_rows": null,
            "grid_column": null,
            "grid_gap": null,
            "grid_row": null,
            "grid_template_areas": null,
            "grid_template_columns": null,
            "grid_template_rows": null,
            "height": null,
            "justify_content": null,
            "justify_items": null,
            "left": null,
            "margin": null,
            "max_height": null,
            "max_width": null,
            "min_height": null,
            "min_width": null,
            "object_fit": null,
            "object_position": null,
            "order": null,
            "overflow": null,
            "overflow_x": null,
            "overflow_y": null,
            "padding": null,
            "right": null,
            "top": null,
            "visibility": null,
            "width": null
          }
        },
        "b3229e7a8f12429bab61f71dec9ed6c0": {
          "model_module": "@jupyter-widgets/controls",
          "model_name": "DescriptionStyleModel",
          "model_module_version": "1.5.0",
          "state": {
            "_model_module": "@jupyter-widgets/controls",
            "_model_module_version": "1.5.0",
            "_model_name": "DescriptionStyleModel",
            "_view_count": null,
            "_view_module": "@jupyter-widgets/base",
            "_view_module_version": "1.2.0",
            "_view_name": "StyleView",
            "description_width": ""
          }
        },
        "01a4f009fdd4493081323c37c2206b84": {
          "model_module": "@jupyter-widgets/controls",
          "model_name": "HBoxModel",
          "model_module_version": "1.5.0",
          "state": {
            "_dom_classes": [],
            "_model_module": "@jupyter-widgets/controls",
            "_model_module_version": "1.5.0",
            "_model_name": "HBoxModel",
            "_view_count": null,
            "_view_module": "@jupyter-widgets/controls",
            "_view_module_version": "1.5.0",
            "_view_name": "HBoxView",
            "box_style": "",
            "children": [
              "IPY_MODEL_ffe41e1bd99b4726af932cdde8f1a26f",
              "IPY_MODEL_884ec1fafb124b06a5166ad1e320ad0b",
              "IPY_MODEL_de179c512e084e22a122643177ed388c"
            ],
            "layout": "IPY_MODEL_90218f811f9e4267b51b9ff4fce67f73"
          }
        },
        "ffe41e1bd99b4726af932cdde8f1a26f": {
          "model_module": "@jupyter-widgets/controls",
          "model_name": "HTMLModel",
          "model_module_version": "1.5.0",
          "state": {
            "_dom_classes": [],
            "_model_module": "@jupyter-widgets/controls",
            "_model_module_version": "1.5.0",
            "_model_name": "HTMLModel",
            "_view_count": null,
            "_view_module": "@jupyter-widgets/controls",
            "_view_module_version": "1.5.0",
            "_view_name": "HTMLView",
            "description": "",
            "description_tooltip": null,
            "layout": "IPY_MODEL_9a1779f2d5704a31b5666239571ebd97",
            "placeholder": "​",
            "style": "IPY_MODEL_ecea5e1d36ee4fe9995d4e86901c4cbf",
            "value": "Skipping the first batches: 100%"
          }
        },
        "884ec1fafb124b06a5166ad1e320ad0b": {
          "model_module": "@jupyter-widgets/controls",
          "model_name": "FloatProgressModel",
          "model_module_version": "1.5.0",
          "state": {
            "_dom_classes": [],
            "_model_module": "@jupyter-widgets/controls",
            "_model_module_version": "1.5.0",
            "_model_name": "FloatProgressModel",
            "_view_count": null,
            "_view_module": "@jupyter-widgets/controls",
            "_view_module_version": "1.5.0",
            "_view_name": "ProgressView",
            "bar_style": "success",
            "description": "",
            "description_tooltip": null,
            "layout": "IPY_MODEL_09f442b64cf345c8a868d9f72c490e26",
            "max": 78,
            "min": 0,
            "orientation": "horizontal",
            "style": "IPY_MODEL_43e254747cbc46aaa0847a1990b7d335",
            "value": 78
          }
        },
        "de179c512e084e22a122643177ed388c": {
          "model_module": "@jupyter-widgets/controls",
          "model_name": "HTMLModel",
          "model_module_version": "1.5.0",
          "state": {
            "_dom_classes": [],
            "_model_module": "@jupyter-widgets/controls",
            "_model_module_version": "1.5.0",
            "_model_name": "HTMLModel",
            "_view_count": null,
            "_view_module": "@jupyter-widgets/controls",
            "_view_module_version": "1.5.0",
            "_view_name": "HTMLView",
            "description": "",
            "description_tooltip": null,
            "layout": "IPY_MODEL_986ac6cd48714e9d88abde11caa371e1",
            "placeholder": "​",
            "style": "IPY_MODEL_7dc075b0cff84f94adb08ba115e3cf03",
            "value": " 78/78 [21:34&lt;00:00, 11.89s/it]"
          }
        },
        "90218f811f9e4267b51b9ff4fce67f73": {
          "model_module": "@jupyter-widgets/base",
          "model_name": "LayoutModel",
          "model_module_version": "1.2.0",
          "state": {
            "_model_module": "@jupyter-widgets/base",
            "_model_module_version": "1.2.0",
            "_model_name": "LayoutModel",
            "_view_count": null,
            "_view_module": "@jupyter-widgets/base",
            "_view_module_version": "1.2.0",
            "_view_name": "LayoutView",
            "align_content": null,
            "align_items": null,
            "align_self": null,
            "border": null,
            "bottom": null,
            "display": null,
            "flex": null,
            "flex_flow": null,
            "grid_area": null,
            "grid_auto_columns": null,
            "grid_auto_flow": null,
            "grid_auto_rows": null,
            "grid_column": null,
            "grid_gap": null,
            "grid_row": null,
            "grid_template_areas": null,
            "grid_template_columns": null,
            "grid_template_rows": null,
            "height": null,
            "justify_content": null,
            "justify_items": null,
            "left": null,
            "margin": null,
            "max_height": null,
            "max_width": null,
            "min_height": null,
            "min_width": null,
            "object_fit": null,
            "object_position": null,
            "order": null,
            "overflow": null,
            "overflow_x": null,
            "overflow_y": null,
            "padding": null,
            "right": null,
            "top": null,
            "visibility": null,
            "width": null
          }
        },
        "9a1779f2d5704a31b5666239571ebd97": {
          "model_module": "@jupyter-widgets/base",
          "model_name": "LayoutModel",
          "model_module_version": "1.2.0",
          "state": {
            "_model_module": "@jupyter-widgets/base",
            "_model_module_version": "1.2.0",
            "_model_name": "LayoutModel",
            "_view_count": null,
            "_view_module": "@jupyter-widgets/base",
            "_view_module_version": "1.2.0",
            "_view_name": "LayoutView",
            "align_content": null,
            "align_items": null,
            "align_self": null,
            "border": null,
            "bottom": null,
            "display": null,
            "flex": null,
            "flex_flow": null,
            "grid_area": null,
            "grid_auto_columns": null,
            "grid_auto_flow": null,
            "grid_auto_rows": null,
            "grid_column": null,
            "grid_gap": null,
            "grid_row": null,
            "grid_template_areas": null,
            "grid_template_columns": null,
            "grid_template_rows": null,
            "height": null,
            "justify_content": null,
            "justify_items": null,
            "left": null,
            "margin": null,
            "max_height": null,
            "max_width": null,
            "min_height": null,
            "min_width": null,
            "object_fit": null,
            "object_position": null,
            "order": null,
            "overflow": null,
            "overflow_x": null,
            "overflow_y": null,
            "padding": null,
            "right": null,
            "top": null,
            "visibility": null,
            "width": null
          }
        },
        "ecea5e1d36ee4fe9995d4e86901c4cbf": {
          "model_module": "@jupyter-widgets/controls",
          "model_name": "DescriptionStyleModel",
          "model_module_version": "1.5.0",
          "state": {
            "_model_module": "@jupyter-widgets/controls",
            "_model_module_version": "1.5.0",
            "_model_name": "DescriptionStyleModel",
            "_view_count": null,
            "_view_module": "@jupyter-widgets/base",
            "_view_module_version": "1.2.0",
            "_view_name": "StyleView",
            "description_width": ""
          }
        },
        "09f442b64cf345c8a868d9f72c490e26": {
          "model_module": "@jupyter-widgets/base",
          "model_name": "LayoutModel",
          "model_module_version": "1.2.0",
          "state": {
            "_model_module": "@jupyter-widgets/base",
            "_model_module_version": "1.2.0",
            "_model_name": "LayoutModel",
            "_view_count": null,
            "_view_module": "@jupyter-widgets/base",
            "_view_module_version": "1.2.0",
            "_view_name": "LayoutView",
            "align_content": null,
            "align_items": null,
            "align_self": null,
            "border": null,
            "bottom": null,
            "display": null,
            "flex": null,
            "flex_flow": null,
            "grid_area": null,
            "grid_auto_columns": null,
            "grid_auto_flow": null,
            "grid_auto_rows": null,
            "grid_column": null,
            "grid_gap": null,
            "grid_row": null,
            "grid_template_areas": null,
            "grid_template_columns": null,
            "grid_template_rows": null,
            "height": null,
            "justify_content": null,
            "justify_items": null,
            "left": null,
            "margin": null,
            "max_height": null,
            "max_width": null,
            "min_height": null,
            "min_width": null,
            "object_fit": null,
            "object_position": null,
            "order": null,
            "overflow": null,
            "overflow_x": null,
            "overflow_y": null,
            "padding": null,
            "right": null,
            "top": null,
            "visibility": null,
            "width": null
          }
        },
        "43e254747cbc46aaa0847a1990b7d335": {
          "model_module": "@jupyter-widgets/controls",
          "model_name": "ProgressStyleModel",
          "model_module_version": "1.5.0",
          "state": {
            "_model_module": "@jupyter-widgets/controls",
            "_model_module_version": "1.5.0",
            "_model_name": "ProgressStyleModel",
            "_view_count": null,
            "_view_module": "@jupyter-widgets/base",
            "_view_module_version": "1.2.0",
            "_view_name": "StyleView",
            "bar_color": null,
            "description_width": ""
          }
        },
        "986ac6cd48714e9d88abde11caa371e1": {
          "model_module": "@jupyter-widgets/base",
          "model_name": "LayoutModel",
          "model_module_version": "1.2.0",
          "state": {
            "_model_module": "@jupyter-widgets/base",
            "_model_module_version": "1.2.0",
            "_model_name": "LayoutModel",
            "_view_count": null,
            "_view_module": "@jupyter-widgets/base",
            "_view_module_version": "1.2.0",
            "_view_name": "LayoutView",
            "align_content": null,
            "align_items": null,
            "align_self": null,
            "border": null,
            "bottom": null,
            "display": null,
            "flex": null,
            "flex_flow": null,
            "grid_area": null,
            "grid_auto_columns": null,
            "grid_auto_flow": null,
            "grid_auto_rows": null,
            "grid_column": null,
            "grid_gap": null,
            "grid_row": null,
            "grid_template_areas": null,
            "grid_template_columns": null,
            "grid_template_rows": null,
            "height": null,
            "justify_content": null,
            "justify_items": null,
            "left": null,
            "margin": null,
            "max_height": null,
            "max_width": null,
            "min_height": null,
            "min_width": null,
            "object_fit": null,
            "object_position": null,
            "order": null,
            "overflow": null,
            "overflow_x": null,
            "overflow_y": null,
            "padding": null,
            "right": null,
            "top": null,
            "visibility": null,
            "width": null
          }
        },
        "7dc075b0cff84f94adb08ba115e3cf03": {
          "model_module": "@jupyter-widgets/controls",
          "model_name": "DescriptionStyleModel",
          "model_module_version": "1.5.0",
          "state": {
            "_model_module": "@jupyter-widgets/controls",
            "_model_module_version": "1.5.0",
            "_model_name": "DescriptionStyleModel",
            "_view_count": null,
            "_view_module": "@jupyter-widgets/base",
            "_view_module_version": "1.2.0",
            "_view_name": "StyleView",
            "description_width": ""
          }
        }
      }
    }
  },
  "cells": [
    {
      "cell_type": "code",
      "execution_count": 1,
      "metadata": {
        "colab": {
          "base_uri": "https://localhost:8080/"
        },
        "id": "EQ3cvidcdQaC",
        "outputId": "3f6b5d29-a9f8-435d-a946-a82b2500b29c"
      },
      "outputs": [
        {
          "output_type": "stream",
          "name": "stdout",
          "text": [
            "Mounted at /content/drive\n"
          ]
        }
      ],
      "source": [
        "# MURA dataset is located in my googe drive\n",
        "from google.colab import drive\n",
        "drive.mount('/content/drive')"
      ]
    },
    {
      "cell_type": "code",
      "source": [
        "%%capture\n",
        "! pip install datasets transformers"
      ],
      "metadata": {
        "id": "Ep8TTh1joOSP"
      },
      "execution_count": 2,
      "outputs": []
    },
    {
      "cell_type": "code",
      "source": [
        "import pandas as pd\n",
        "import numpy as np\n",
        "import matplotlib.pyplot as plt\n",
        "import os\n",
        "from PIL import Image\n",
        "import torch\n",
        "from torchvision.io import read_image\n",
        "from torchvision import datasets, transforms\n",
        "from torch.utils.data import Dataset, DataLoader\n",
        "from torch import nn\n",
        "from tqdm import tqdm\n",
        "from timeit import default_timer as timer\n",
        "from transformers import ViTFeatureExtractor, ViTImageProcessor\n",
        "from transformers import ViTForImageClassification\n",
        "from datasets import load_metric\n",
        "from transformers import TrainingArguments\n",
        "from transformers import Trainer\n"
      ],
      "metadata": {
        "id": "FaPNqVjKdf3P"
      },
      "execution_count": 3,
      "outputs": []
    },
    {
      "cell_type": "code",
      "source": [
        "# must use cuda for ViT\n",
        "device = \"cuda\" if torch.cuda.is_available() else \"cpu\"\n",
        "device"
      ],
      "metadata": {
        "id": "jgQ8YI74lIMR",
        "colab": {
          "base_uri": "https://localhost:8080/",
          "height": 35
        },
        "outputId": "6bc42ab9-4ec6-4e95-b371-0917a80d5be9"
      },
      "execution_count": 4,
      "outputs": [
        {
          "output_type": "execute_result",
          "data": {
            "text/plain": [
              "'cuda'"
            ],
            "application/vnd.google.colaboratory.intrinsic+json": {
              "type": "string"
            }
          },
          "metadata": {},
          "execution_count": 4
        }
      ]
    },
    {
      "cell_type": "markdown",
      "source": [
        "# Load and Prep Data"
      ],
      "metadata": {
        "id": "TLj0uLtegFSQ"
      }
    },
    {
      "cell_type": "markdown",
      "source": [
        "## Import and Massage Data"
      ],
      "metadata": {
        "id": "mUaNjZAmmji8"
      }
    },
    {
      "cell_type": "code",
      "source": [
        "# load train and test csv's with all image paths and targets\n",
        "train_img_paths = pd.read_csv('drive/MyDrive/MURA-v1.1/train_image_paths.csv', header = None, names = ['image_path'])\n",
        "test_img_paths = pd.read_csv('drive/MyDrive/MURA-v1.1/valid_image_paths.csv', header = None, names = ['image_path'])"
      ],
      "metadata": {
        "id": "uCgZJktcm_id"
      },
      "execution_count": 5,
      "outputs": []
    },
    {
      "cell_type": "code",
      "source": [
        "len(train_img_paths)"
      ],
      "metadata": {
        "colab": {
          "base_uri": "https://localhost:8080/"
        },
        "id": "yz2bT5nUh2wV",
        "outputId": "b7bfccfe-3ac6-4fb0-e813-fcf889017ab4"
      },
      "execution_count": 6,
      "outputs": [
        {
          "output_type": "execute_result",
          "data": {
            "text/plain": [
              "36808"
            ]
          },
          "metadata": {},
          "execution_count": 6
        }
      ]
    },
    {
      "cell_type": "code",
      "source": [
        "pd.set_option('max_colwidth', None)\n",
        "train_img_paths.head()"
      ],
      "metadata": {
        "colab": {
          "base_uri": "https://localhost:8080/",
          "height": 204
        },
        "id": "l8vZn6IFuGT1",
        "outputId": "2eb2f16d-4919-476f-cdc0-7fb60f2df092"
      },
      "execution_count": 7,
      "outputs": [
        {
          "output_type": "execute_result",
          "data": {
            "text/plain": [
              "                                                            image_path\n",
              "0  MURA-v1.1/train/XR_SHOULDER/patient00001/study1_positive/image1.png\n",
              "1  MURA-v1.1/train/XR_SHOULDER/patient00001/study1_positive/image2.png\n",
              "2  MURA-v1.1/train/XR_SHOULDER/patient00001/study1_positive/image3.png\n",
              "3  MURA-v1.1/train/XR_SHOULDER/patient00002/study1_positive/image1.png\n",
              "4  MURA-v1.1/train/XR_SHOULDER/patient00002/study1_positive/image2.png"
            ],
            "text/html": [
              "\n",
              "  <div id=\"df-a4fccfc5-7485-4785-a694-b1812eb72ef5\">\n",
              "    <div class=\"colab-df-container\">\n",
              "      <div>\n",
              "<style scoped>\n",
              "    .dataframe tbody tr th:only-of-type {\n",
              "        vertical-align: middle;\n",
              "    }\n",
              "\n",
              "    .dataframe tbody tr th {\n",
              "        vertical-align: top;\n",
              "    }\n",
              "\n",
              "    .dataframe thead th {\n",
              "        text-align: right;\n",
              "    }\n",
              "</style>\n",
              "<table border=\"1\" class=\"dataframe\">\n",
              "  <thead>\n",
              "    <tr style=\"text-align: right;\">\n",
              "      <th></th>\n",
              "      <th>image_path</th>\n",
              "    </tr>\n",
              "  </thead>\n",
              "  <tbody>\n",
              "    <tr>\n",
              "      <th>0</th>\n",
              "      <td>MURA-v1.1/train/XR_SHOULDER/patient00001/study1_positive/image1.png</td>\n",
              "    </tr>\n",
              "    <tr>\n",
              "      <th>1</th>\n",
              "      <td>MURA-v1.1/train/XR_SHOULDER/patient00001/study1_positive/image2.png</td>\n",
              "    </tr>\n",
              "    <tr>\n",
              "      <th>2</th>\n",
              "      <td>MURA-v1.1/train/XR_SHOULDER/patient00001/study1_positive/image3.png</td>\n",
              "    </tr>\n",
              "    <tr>\n",
              "      <th>3</th>\n",
              "      <td>MURA-v1.1/train/XR_SHOULDER/patient00002/study1_positive/image1.png</td>\n",
              "    </tr>\n",
              "    <tr>\n",
              "      <th>4</th>\n",
              "      <td>MURA-v1.1/train/XR_SHOULDER/patient00002/study1_positive/image2.png</td>\n",
              "    </tr>\n",
              "  </tbody>\n",
              "</table>\n",
              "</div>\n",
              "      <button class=\"colab-df-convert\" onclick=\"convertToInteractive('df-a4fccfc5-7485-4785-a694-b1812eb72ef5')\"\n",
              "              title=\"Convert this dataframe to an interactive table.\"\n",
              "              style=\"display:none;\">\n",
              "        \n",
              "  <svg xmlns=\"http://www.w3.org/2000/svg\" height=\"24px\"viewBox=\"0 0 24 24\"\n",
              "       width=\"24px\">\n",
              "    <path d=\"M0 0h24v24H0V0z\" fill=\"none\"/>\n",
              "    <path d=\"M18.56 5.44l.94 2.06.94-2.06 2.06-.94-2.06-.94-.94-2.06-.94 2.06-2.06.94zm-11 1L8.5 8.5l.94-2.06 2.06-.94-2.06-.94L8.5 2.5l-.94 2.06-2.06.94zm10 10l.94 2.06.94-2.06 2.06-.94-2.06-.94-.94-2.06-.94 2.06-2.06.94z\"/><path d=\"M17.41 7.96l-1.37-1.37c-.4-.4-.92-.59-1.43-.59-.52 0-1.04.2-1.43.59L10.3 9.45l-7.72 7.72c-.78.78-.78 2.05 0 2.83L4 21.41c.39.39.9.59 1.41.59.51 0 1.02-.2 1.41-.59l7.78-7.78 2.81-2.81c.8-.78.8-2.07 0-2.86zM5.41 20L4 18.59l7.72-7.72 1.47 1.35L5.41 20z\"/>\n",
              "  </svg>\n",
              "      </button>\n",
              "      \n",
              "  <style>\n",
              "    .colab-df-container {\n",
              "      display:flex;\n",
              "      flex-wrap:wrap;\n",
              "      gap: 12px;\n",
              "    }\n",
              "\n",
              "    .colab-df-convert {\n",
              "      background-color: #E8F0FE;\n",
              "      border: none;\n",
              "      border-radius: 50%;\n",
              "      cursor: pointer;\n",
              "      display: none;\n",
              "      fill: #1967D2;\n",
              "      height: 32px;\n",
              "      padding: 0 0 0 0;\n",
              "      width: 32px;\n",
              "    }\n",
              "\n",
              "    .colab-df-convert:hover {\n",
              "      background-color: #E2EBFA;\n",
              "      box-shadow: 0px 1px 2px rgba(60, 64, 67, 0.3), 0px 1px 3px 1px rgba(60, 64, 67, 0.15);\n",
              "      fill: #174EA6;\n",
              "    }\n",
              "\n",
              "    [theme=dark] .colab-df-convert {\n",
              "      background-color: #3B4455;\n",
              "      fill: #D2E3FC;\n",
              "    }\n",
              "\n",
              "    [theme=dark] .colab-df-convert:hover {\n",
              "      background-color: #434B5C;\n",
              "      box-shadow: 0px 1px 3px 1px rgba(0, 0, 0, 0.15);\n",
              "      filter: drop-shadow(0px 1px 2px rgba(0, 0, 0, 0.3));\n",
              "      fill: #FFFFFF;\n",
              "    }\n",
              "  </style>\n",
              "\n",
              "      <script>\n",
              "        const buttonEl =\n",
              "          document.querySelector('#df-a4fccfc5-7485-4785-a694-b1812eb72ef5 button.colab-df-convert');\n",
              "        buttonEl.style.display =\n",
              "          google.colab.kernel.accessAllowed ? 'block' : 'none';\n",
              "\n",
              "        async function convertToInteractive(key) {\n",
              "          const element = document.querySelector('#df-a4fccfc5-7485-4785-a694-b1812eb72ef5');\n",
              "          const dataTable =\n",
              "            await google.colab.kernel.invokeFunction('convertToInteractive',\n",
              "                                                     [key], {});\n",
              "          if (!dataTable) return;\n",
              "\n",
              "          const docLinkHtml = 'Like what you see? Visit the ' +\n",
              "            '<a target=\"_blank\" href=https://colab.research.google.com/notebooks/data_table.ipynb>data table notebook</a>'\n",
              "            + ' to learn more about interactive tables.';\n",
              "          element.innerHTML = '';\n",
              "          dataTable['output_type'] = 'display_data';\n",
              "          await google.colab.output.renderOutput(dataTable, element);\n",
              "          const docLink = document.createElement('div');\n",
              "          docLink.innerHTML = docLinkHtml;\n",
              "          element.appendChild(docLink);\n",
              "        }\n",
              "      </script>\n",
              "    </div>\n",
              "  </div>\n",
              "  "
            ]
          },
          "metadata": {},
          "execution_count": 7
        }
      ]
    },
    {
      "cell_type": "code",
      "source": [
        "# funtion to extract info from train and test dataframes\n",
        "def split_img_paths(df):\n",
        "    temp = df['image_path'].str.split('/', expand=True)\n",
        "    new_df = pd.DataFrame(df['image_path'])\n",
        "    new_df['patient_id'] = temp[3]\n",
        "    new_df['study'] = temp[4].str.split('_', expand = True)[0].str[-1:].astype(int)\n",
        "    new_df['region'] = temp[2].str.split('_', expand = True)[1]\n",
        "    map = {'positive':'abnormal', 'negative':'normal'}\n",
        "    new_df['target'] = temp[4].str.split('_', expand = True)[1]\n",
        "    new_df['target'] = new_df['target'].map(map)\n",
        "    #add google drive location to image path\n",
        "    new_df['image_path'] = 'drive/MyDrive/' + new_df['image_path']\n",
        "    \n",
        "    return new_df"
      ],
      "metadata": {
        "id": "IK0QtCsQo-4p"
      },
      "execution_count": 8,
      "outputs": []
    },
    {
      "cell_type": "code",
      "source": [
        "# create df with info extracted\n",
        "mura_train = split_img_paths(train_img_paths)\n",
        "mura_test = split_img_paths(test_img_paths)\n",
        "mura_train.head()"
      ],
      "metadata": {
        "colab": {
          "base_uri": "https://localhost:8080/",
          "height": 204
        },
        "id": "h2b2WtbFuhP2",
        "outputId": "85f7e797-3a76-4d2e-aec4-75209cbabd6e"
      },
      "execution_count": 9,
      "outputs": [
        {
          "output_type": "execute_result",
          "data": {
            "text/plain": [
              "                                                                          image_path  \\\n",
              "0  drive/MyDrive/MURA-v1.1/train/XR_SHOULDER/patient00001/study1_positive/image1.png   \n",
              "1  drive/MyDrive/MURA-v1.1/train/XR_SHOULDER/patient00001/study1_positive/image2.png   \n",
              "2  drive/MyDrive/MURA-v1.1/train/XR_SHOULDER/patient00001/study1_positive/image3.png   \n",
              "3  drive/MyDrive/MURA-v1.1/train/XR_SHOULDER/patient00002/study1_positive/image1.png   \n",
              "4  drive/MyDrive/MURA-v1.1/train/XR_SHOULDER/patient00002/study1_positive/image2.png   \n",
              "\n",
              "     patient_id  study    region    target  \n",
              "0  patient00001      1  SHOULDER  abnormal  \n",
              "1  patient00001      1  SHOULDER  abnormal  \n",
              "2  patient00001      1  SHOULDER  abnormal  \n",
              "3  patient00002      1  SHOULDER  abnormal  \n",
              "4  patient00002      1  SHOULDER  abnormal  "
            ],
            "text/html": [
              "\n",
              "  <div id=\"df-46515a39-abfb-4345-beba-e41202750cba\">\n",
              "    <div class=\"colab-df-container\">\n",
              "      <div>\n",
              "<style scoped>\n",
              "    .dataframe tbody tr th:only-of-type {\n",
              "        vertical-align: middle;\n",
              "    }\n",
              "\n",
              "    .dataframe tbody tr th {\n",
              "        vertical-align: top;\n",
              "    }\n",
              "\n",
              "    .dataframe thead th {\n",
              "        text-align: right;\n",
              "    }\n",
              "</style>\n",
              "<table border=\"1\" class=\"dataframe\">\n",
              "  <thead>\n",
              "    <tr style=\"text-align: right;\">\n",
              "      <th></th>\n",
              "      <th>image_path</th>\n",
              "      <th>patient_id</th>\n",
              "      <th>study</th>\n",
              "      <th>region</th>\n",
              "      <th>target</th>\n",
              "    </tr>\n",
              "  </thead>\n",
              "  <tbody>\n",
              "    <tr>\n",
              "      <th>0</th>\n",
              "      <td>drive/MyDrive/MURA-v1.1/train/XR_SHOULDER/patient00001/study1_positive/image1.png</td>\n",
              "      <td>patient00001</td>\n",
              "      <td>1</td>\n",
              "      <td>SHOULDER</td>\n",
              "      <td>abnormal</td>\n",
              "    </tr>\n",
              "    <tr>\n",
              "      <th>1</th>\n",
              "      <td>drive/MyDrive/MURA-v1.1/train/XR_SHOULDER/patient00001/study1_positive/image2.png</td>\n",
              "      <td>patient00001</td>\n",
              "      <td>1</td>\n",
              "      <td>SHOULDER</td>\n",
              "      <td>abnormal</td>\n",
              "    </tr>\n",
              "    <tr>\n",
              "      <th>2</th>\n",
              "      <td>drive/MyDrive/MURA-v1.1/train/XR_SHOULDER/patient00001/study1_positive/image3.png</td>\n",
              "      <td>patient00001</td>\n",
              "      <td>1</td>\n",
              "      <td>SHOULDER</td>\n",
              "      <td>abnormal</td>\n",
              "    </tr>\n",
              "    <tr>\n",
              "      <th>3</th>\n",
              "      <td>drive/MyDrive/MURA-v1.1/train/XR_SHOULDER/patient00002/study1_positive/image1.png</td>\n",
              "      <td>patient00002</td>\n",
              "      <td>1</td>\n",
              "      <td>SHOULDER</td>\n",
              "      <td>abnormal</td>\n",
              "    </tr>\n",
              "    <tr>\n",
              "      <th>4</th>\n",
              "      <td>drive/MyDrive/MURA-v1.1/train/XR_SHOULDER/patient00002/study1_positive/image2.png</td>\n",
              "      <td>patient00002</td>\n",
              "      <td>1</td>\n",
              "      <td>SHOULDER</td>\n",
              "      <td>abnormal</td>\n",
              "    </tr>\n",
              "  </tbody>\n",
              "</table>\n",
              "</div>\n",
              "      <button class=\"colab-df-convert\" onclick=\"convertToInteractive('df-46515a39-abfb-4345-beba-e41202750cba')\"\n",
              "              title=\"Convert this dataframe to an interactive table.\"\n",
              "              style=\"display:none;\">\n",
              "        \n",
              "  <svg xmlns=\"http://www.w3.org/2000/svg\" height=\"24px\"viewBox=\"0 0 24 24\"\n",
              "       width=\"24px\">\n",
              "    <path d=\"M0 0h24v24H0V0z\" fill=\"none\"/>\n",
              "    <path d=\"M18.56 5.44l.94 2.06.94-2.06 2.06-.94-2.06-.94-.94-2.06-.94 2.06-2.06.94zm-11 1L8.5 8.5l.94-2.06 2.06-.94-2.06-.94L8.5 2.5l-.94 2.06-2.06.94zm10 10l.94 2.06.94-2.06 2.06-.94-2.06-.94-.94-2.06-.94 2.06-2.06.94z\"/><path d=\"M17.41 7.96l-1.37-1.37c-.4-.4-.92-.59-1.43-.59-.52 0-1.04.2-1.43.59L10.3 9.45l-7.72 7.72c-.78.78-.78 2.05 0 2.83L4 21.41c.39.39.9.59 1.41.59.51 0 1.02-.2 1.41-.59l7.78-7.78 2.81-2.81c.8-.78.8-2.07 0-2.86zM5.41 20L4 18.59l7.72-7.72 1.47 1.35L5.41 20z\"/>\n",
              "  </svg>\n",
              "      </button>\n",
              "      \n",
              "  <style>\n",
              "    .colab-df-container {\n",
              "      display:flex;\n",
              "      flex-wrap:wrap;\n",
              "      gap: 12px;\n",
              "    }\n",
              "\n",
              "    .colab-df-convert {\n",
              "      background-color: #E8F0FE;\n",
              "      border: none;\n",
              "      border-radius: 50%;\n",
              "      cursor: pointer;\n",
              "      display: none;\n",
              "      fill: #1967D2;\n",
              "      height: 32px;\n",
              "      padding: 0 0 0 0;\n",
              "      width: 32px;\n",
              "    }\n",
              "\n",
              "    .colab-df-convert:hover {\n",
              "      background-color: #E2EBFA;\n",
              "      box-shadow: 0px 1px 2px rgba(60, 64, 67, 0.3), 0px 1px 3px 1px rgba(60, 64, 67, 0.15);\n",
              "      fill: #174EA6;\n",
              "    }\n",
              "\n",
              "    [theme=dark] .colab-df-convert {\n",
              "      background-color: #3B4455;\n",
              "      fill: #D2E3FC;\n",
              "    }\n",
              "\n",
              "    [theme=dark] .colab-df-convert:hover {\n",
              "      background-color: #434B5C;\n",
              "      box-shadow: 0px 1px 3px 1px rgba(0, 0, 0, 0.15);\n",
              "      filter: drop-shadow(0px 1px 2px rgba(0, 0, 0, 0.3));\n",
              "      fill: #FFFFFF;\n",
              "    }\n",
              "  </style>\n",
              "\n",
              "      <script>\n",
              "        const buttonEl =\n",
              "          document.querySelector('#df-46515a39-abfb-4345-beba-e41202750cba button.colab-df-convert');\n",
              "        buttonEl.style.display =\n",
              "          google.colab.kernel.accessAllowed ? 'block' : 'none';\n",
              "\n",
              "        async function convertToInteractive(key) {\n",
              "          const element = document.querySelector('#df-46515a39-abfb-4345-beba-e41202750cba');\n",
              "          const dataTable =\n",
              "            await google.colab.kernel.invokeFunction('convertToInteractive',\n",
              "                                                     [key], {});\n",
              "          if (!dataTable) return;\n",
              "\n",
              "          const docLinkHtml = 'Like what you see? Visit the ' +\n",
              "            '<a target=\"_blank\" href=https://colab.research.google.com/notebooks/data_table.ipynb>data table notebook</a>'\n",
              "            + ' to learn more about interactive tables.';\n",
              "          element.innerHTML = '';\n",
              "          dataTable['output_type'] = 'display_data';\n",
              "          await google.colab.output.renderOutput(dataTable, element);\n",
              "          const docLink = document.createElement('div');\n",
              "          docLink.innerHTML = docLinkHtml;\n",
              "          element.appendChild(docLink);\n",
              "        }\n",
              "      </script>\n",
              "    </div>\n",
              "  </div>\n",
              "  "
            ]
          },
          "metadata": {},
          "execution_count": 9
        }
      ]
    },
    {
      "cell_type": "code",
      "source": [
        "# function to create df with 14 targets\n",
        "def mura_to14(df):\n",
        "    new_df = df.copy()\n",
        "    new_df['target'] = df['target'] + '_' + df['region']\n",
        "    return new_df"
      ],
      "metadata": {
        "id": "n6K-IEIbEYFx"
      },
      "execution_count": 10,
      "outputs": []
    },
    {
      "cell_type": "code",
      "source": [
        "# create df with 14 targets\n",
        "mura_train_14 = mura_to14(mura_train)\n",
        "mura_test_14 = mura_to14(mura_test)\n"
      ],
      "metadata": {
        "id": "PslKV85M0L7I"
      },
      "execution_count": 11,
      "outputs": []
    },
    {
      "cell_type": "code",
      "source": [
        "mura_train_14.head()"
      ],
      "metadata": {
        "colab": {
          "base_uri": "https://localhost:8080/",
          "height": 204
        },
        "id": "jw1xbl-GMDhu",
        "outputId": "18f1f458-01db-4ac2-d1ba-8ce85310e5a5"
      },
      "execution_count": 12,
      "outputs": [
        {
          "output_type": "execute_result",
          "data": {
            "text/plain": [
              "                                                                          image_path  \\\n",
              "0  drive/MyDrive/MURA-v1.1/train/XR_SHOULDER/patient00001/study1_positive/image1.png   \n",
              "1  drive/MyDrive/MURA-v1.1/train/XR_SHOULDER/patient00001/study1_positive/image2.png   \n",
              "2  drive/MyDrive/MURA-v1.1/train/XR_SHOULDER/patient00001/study1_positive/image3.png   \n",
              "3  drive/MyDrive/MURA-v1.1/train/XR_SHOULDER/patient00002/study1_positive/image1.png   \n",
              "4  drive/MyDrive/MURA-v1.1/train/XR_SHOULDER/patient00002/study1_positive/image2.png   \n",
              "\n",
              "     patient_id  study    region             target  \n",
              "0  patient00001      1  SHOULDER  abnormal_SHOULDER  \n",
              "1  patient00001      1  SHOULDER  abnormal_SHOULDER  \n",
              "2  patient00001      1  SHOULDER  abnormal_SHOULDER  \n",
              "3  patient00002      1  SHOULDER  abnormal_SHOULDER  \n",
              "4  patient00002      1  SHOULDER  abnormal_SHOULDER  "
            ],
            "text/html": [
              "\n",
              "  <div id=\"df-2f880c5b-bf18-4977-b4af-fcb1cf3f379b\">\n",
              "    <div class=\"colab-df-container\">\n",
              "      <div>\n",
              "<style scoped>\n",
              "    .dataframe tbody tr th:only-of-type {\n",
              "        vertical-align: middle;\n",
              "    }\n",
              "\n",
              "    .dataframe tbody tr th {\n",
              "        vertical-align: top;\n",
              "    }\n",
              "\n",
              "    .dataframe thead th {\n",
              "        text-align: right;\n",
              "    }\n",
              "</style>\n",
              "<table border=\"1\" class=\"dataframe\">\n",
              "  <thead>\n",
              "    <tr style=\"text-align: right;\">\n",
              "      <th></th>\n",
              "      <th>image_path</th>\n",
              "      <th>patient_id</th>\n",
              "      <th>study</th>\n",
              "      <th>region</th>\n",
              "      <th>target</th>\n",
              "    </tr>\n",
              "  </thead>\n",
              "  <tbody>\n",
              "    <tr>\n",
              "      <th>0</th>\n",
              "      <td>drive/MyDrive/MURA-v1.1/train/XR_SHOULDER/patient00001/study1_positive/image1.png</td>\n",
              "      <td>patient00001</td>\n",
              "      <td>1</td>\n",
              "      <td>SHOULDER</td>\n",
              "      <td>abnormal_SHOULDER</td>\n",
              "    </tr>\n",
              "    <tr>\n",
              "      <th>1</th>\n",
              "      <td>drive/MyDrive/MURA-v1.1/train/XR_SHOULDER/patient00001/study1_positive/image2.png</td>\n",
              "      <td>patient00001</td>\n",
              "      <td>1</td>\n",
              "      <td>SHOULDER</td>\n",
              "      <td>abnormal_SHOULDER</td>\n",
              "    </tr>\n",
              "    <tr>\n",
              "      <th>2</th>\n",
              "      <td>drive/MyDrive/MURA-v1.1/train/XR_SHOULDER/patient00001/study1_positive/image3.png</td>\n",
              "      <td>patient00001</td>\n",
              "      <td>1</td>\n",
              "      <td>SHOULDER</td>\n",
              "      <td>abnormal_SHOULDER</td>\n",
              "    </tr>\n",
              "    <tr>\n",
              "      <th>3</th>\n",
              "      <td>drive/MyDrive/MURA-v1.1/train/XR_SHOULDER/patient00002/study1_positive/image1.png</td>\n",
              "      <td>patient00002</td>\n",
              "      <td>1</td>\n",
              "      <td>SHOULDER</td>\n",
              "      <td>abnormal_SHOULDER</td>\n",
              "    </tr>\n",
              "    <tr>\n",
              "      <th>4</th>\n",
              "      <td>drive/MyDrive/MURA-v1.1/train/XR_SHOULDER/patient00002/study1_positive/image2.png</td>\n",
              "      <td>patient00002</td>\n",
              "      <td>1</td>\n",
              "      <td>SHOULDER</td>\n",
              "      <td>abnormal_SHOULDER</td>\n",
              "    </tr>\n",
              "  </tbody>\n",
              "</table>\n",
              "</div>\n",
              "      <button class=\"colab-df-convert\" onclick=\"convertToInteractive('df-2f880c5b-bf18-4977-b4af-fcb1cf3f379b')\"\n",
              "              title=\"Convert this dataframe to an interactive table.\"\n",
              "              style=\"display:none;\">\n",
              "        \n",
              "  <svg xmlns=\"http://www.w3.org/2000/svg\" height=\"24px\"viewBox=\"0 0 24 24\"\n",
              "       width=\"24px\">\n",
              "    <path d=\"M0 0h24v24H0V0z\" fill=\"none\"/>\n",
              "    <path d=\"M18.56 5.44l.94 2.06.94-2.06 2.06-.94-2.06-.94-.94-2.06-.94 2.06-2.06.94zm-11 1L8.5 8.5l.94-2.06 2.06-.94-2.06-.94L8.5 2.5l-.94 2.06-2.06.94zm10 10l.94 2.06.94-2.06 2.06-.94-2.06-.94-.94-2.06-.94 2.06-2.06.94z\"/><path d=\"M17.41 7.96l-1.37-1.37c-.4-.4-.92-.59-1.43-.59-.52 0-1.04.2-1.43.59L10.3 9.45l-7.72 7.72c-.78.78-.78 2.05 0 2.83L4 21.41c.39.39.9.59 1.41.59.51 0 1.02-.2 1.41-.59l7.78-7.78 2.81-2.81c.8-.78.8-2.07 0-2.86zM5.41 20L4 18.59l7.72-7.72 1.47 1.35L5.41 20z\"/>\n",
              "  </svg>\n",
              "      </button>\n",
              "      \n",
              "  <style>\n",
              "    .colab-df-container {\n",
              "      display:flex;\n",
              "      flex-wrap:wrap;\n",
              "      gap: 12px;\n",
              "    }\n",
              "\n",
              "    .colab-df-convert {\n",
              "      background-color: #E8F0FE;\n",
              "      border: none;\n",
              "      border-radius: 50%;\n",
              "      cursor: pointer;\n",
              "      display: none;\n",
              "      fill: #1967D2;\n",
              "      height: 32px;\n",
              "      padding: 0 0 0 0;\n",
              "      width: 32px;\n",
              "    }\n",
              "\n",
              "    .colab-df-convert:hover {\n",
              "      background-color: #E2EBFA;\n",
              "      box-shadow: 0px 1px 2px rgba(60, 64, 67, 0.3), 0px 1px 3px 1px rgba(60, 64, 67, 0.15);\n",
              "      fill: #174EA6;\n",
              "    }\n",
              "\n",
              "    [theme=dark] .colab-df-convert {\n",
              "      background-color: #3B4455;\n",
              "      fill: #D2E3FC;\n",
              "    }\n",
              "\n",
              "    [theme=dark] .colab-df-convert:hover {\n",
              "      background-color: #434B5C;\n",
              "      box-shadow: 0px 1px 3px 1px rgba(0, 0, 0, 0.15);\n",
              "      filter: drop-shadow(0px 1px 2px rgba(0, 0, 0, 0.3));\n",
              "      fill: #FFFFFF;\n",
              "    }\n",
              "  </style>\n",
              "\n",
              "      <script>\n",
              "        const buttonEl =\n",
              "          document.querySelector('#df-2f880c5b-bf18-4977-b4af-fcb1cf3f379b button.colab-df-convert');\n",
              "        buttonEl.style.display =\n",
              "          google.colab.kernel.accessAllowed ? 'block' : 'none';\n",
              "\n",
              "        async function convertToInteractive(key) {\n",
              "          const element = document.querySelector('#df-2f880c5b-bf18-4977-b4af-fcb1cf3f379b');\n",
              "          const dataTable =\n",
              "            await google.colab.kernel.invokeFunction('convertToInteractive',\n",
              "                                                     [key], {});\n",
              "          if (!dataTable) return;\n",
              "\n",
              "          const docLinkHtml = 'Like what you see? Visit the ' +\n",
              "            '<a target=\"_blank\" href=https://colab.research.google.com/notebooks/data_table.ipynb>data table notebook</a>'\n",
              "            + ' to learn more about interactive tables.';\n",
              "          element.innerHTML = '';\n",
              "          dataTable['output_type'] = 'display_data';\n",
              "          await google.colab.output.renderOutput(dataTable, element);\n",
              "          const docLink = document.createElement('div');\n",
              "          docLink.innerHTML = docLinkHtml;\n",
              "          element.appendChild(docLink);\n",
              "        }\n",
              "      </script>\n",
              "    </div>\n",
              "  </div>\n",
              "  "
            ]
          },
          "metadata": {},
          "execution_count": 12
        }
      ]
    },
    {
      "cell_type": "code",
      "source": [
        "# create train df by region\n",
        "wrist_train = mura_train[mura_train['region']=='WRIST']\n",
        "forearm_train = mura_train[mura_train['region']=='FOREARM']\n",
        "hand_train = mura_train[mura_train['region']=='HAND']\n",
        "humerus_train = mura_train[mura_train['region']=='HUMERUS']\n",
        "elbow_train = mura_train[mura_train['region']=='ELBOW']\n",
        "shoulder_train = mura_train[mura_train['region']=='SHOULDER']\n",
        "finger_train = mura_train[mura_train['region']=='FINGER']\n",
        "\n",
        "# create test df by region\n",
        "wrist_test = mura_test[mura_test['region']=='WRIST']\n",
        "forearm_test = mura_test[mura_test['region']=='FOREARM']\n",
        "hand_test = mura_test[mura_test['region']=='HAND']\n",
        "humerus_test = mura_test[mura_test['region']=='HUMERUS']\n",
        "elbow_test = mura_test[mura_test['region']=='ELBOW']\n",
        "shoulder_test = mura_test[mura_test['region']=='SHOULDER']\n",
        "finger_test = mura_test[mura_test['region']=='FINGER']"
      ],
      "metadata": {
        "id": "-73LtrQGm5zJ"
      },
      "execution_count": 13,
      "outputs": []
    },
    {
      "cell_type": "code",
      "source": [
        "humerus_test.head()"
      ],
      "metadata": {
        "colab": {
          "base_uri": "https://localhost:8080/",
          "height": 204
        },
        "id": "ZTNR3VJaLuRH",
        "outputId": "a4fda2dc-8051-4ca1-81ed-83f8997a7f5d"
      },
      "execution_count": 14,
      "outputs": [
        {
          "output_type": "execute_result",
          "data": {
            "text/plain": [
              "                                                                            image_path  \\\n",
              "1420  drive/MyDrive/MURA-v1.1/valid/XR_HUMERUS/patient11608/study1_positive/image1.png   \n",
              "1421  drive/MyDrive/MURA-v1.1/valid/XR_HUMERUS/patient11608/study1_positive/image2.png   \n",
              "1422  drive/MyDrive/MURA-v1.1/valid/XR_HUMERUS/patient11214/study1_positive/image1.png   \n",
              "1423  drive/MyDrive/MURA-v1.1/valid/XR_HUMERUS/patient11214/study1_positive/image2.png   \n",
              "1424  drive/MyDrive/MURA-v1.1/valid/XR_HUMERUS/patient11609/study1_positive/image1.png   \n",
              "\n",
              "        patient_id  study   region    target  \n",
              "1420  patient11608      1  HUMERUS  abnormal  \n",
              "1421  patient11608      1  HUMERUS  abnormal  \n",
              "1422  patient11214      1  HUMERUS  abnormal  \n",
              "1423  patient11214      1  HUMERUS  abnormal  \n",
              "1424  patient11609      1  HUMERUS  abnormal  "
            ],
            "text/html": [
              "\n",
              "  <div id=\"df-b93f42f4-17b8-4cd0-a1d3-695edd39a0b3\">\n",
              "    <div class=\"colab-df-container\">\n",
              "      <div>\n",
              "<style scoped>\n",
              "    .dataframe tbody tr th:only-of-type {\n",
              "        vertical-align: middle;\n",
              "    }\n",
              "\n",
              "    .dataframe tbody tr th {\n",
              "        vertical-align: top;\n",
              "    }\n",
              "\n",
              "    .dataframe thead th {\n",
              "        text-align: right;\n",
              "    }\n",
              "</style>\n",
              "<table border=\"1\" class=\"dataframe\">\n",
              "  <thead>\n",
              "    <tr style=\"text-align: right;\">\n",
              "      <th></th>\n",
              "      <th>image_path</th>\n",
              "      <th>patient_id</th>\n",
              "      <th>study</th>\n",
              "      <th>region</th>\n",
              "      <th>target</th>\n",
              "    </tr>\n",
              "  </thead>\n",
              "  <tbody>\n",
              "    <tr>\n",
              "      <th>1420</th>\n",
              "      <td>drive/MyDrive/MURA-v1.1/valid/XR_HUMERUS/patient11608/study1_positive/image1.png</td>\n",
              "      <td>patient11608</td>\n",
              "      <td>1</td>\n",
              "      <td>HUMERUS</td>\n",
              "      <td>abnormal</td>\n",
              "    </tr>\n",
              "    <tr>\n",
              "      <th>1421</th>\n",
              "      <td>drive/MyDrive/MURA-v1.1/valid/XR_HUMERUS/patient11608/study1_positive/image2.png</td>\n",
              "      <td>patient11608</td>\n",
              "      <td>1</td>\n",
              "      <td>HUMERUS</td>\n",
              "      <td>abnormal</td>\n",
              "    </tr>\n",
              "    <tr>\n",
              "      <th>1422</th>\n",
              "      <td>drive/MyDrive/MURA-v1.1/valid/XR_HUMERUS/patient11214/study1_positive/image1.png</td>\n",
              "      <td>patient11214</td>\n",
              "      <td>1</td>\n",
              "      <td>HUMERUS</td>\n",
              "      <td>abnormal</td>\n",
              "    </tr>\n",
              "    <tr>\n",
              "      <th>1423</th>\n",
              "      <td>drive/MyDrive/MURA-v1.1/valid/XR_HUMERUS/patient11214/study1_positive/image2.png</td>\n",
              "      <td>patient11214</td>\n",
              "      <td>1</td>\n",
              "      <td>HUMERUS</td>\n",
              "      <td>abnormal</td>\n",
              "    </tr>\n",
              "    <tr>\n",
              "      <th>1424</th>\n",
              "      <td>drive/MyDrive/MURA-v1.1/valid/XR_HUMERUS/patient11609/study1_positive/image1.png</td>\n",
              "      <td>patient11609</td>\n",
              "      <td>1</td>\n",
              "      <td>HUMERUS</td>\n",
              "      <td>abnormal</td>\n",
              "    </tr>\n",
              "  </tbody>\n",
              "</table>\n",
              "</div>\n",
              "      <button class=\"colab-df-convert\" onclick=\"convertToInteractive('df-b93f42f4-17b8-4cd0-a1d3-695edd39a0b3')\"\n",
              "              title=\"Convert this dataframe to an interactive table.\"\n",
              "              style=\"display:none;\">\n",
              "        \n",
              "  <svg xmlns=\"http://www.w3.org/2000/svg\" height=\"24px\"viewBox=\"0 0 24 24\"\n",
              "       width=\"24px\">\n",
              "    <path d=\"M0 0h24v24H0V0z\" fill=\"none\"/>\n",
              "    <path d=\"M18.56 5.44l.94 2.06.94-2.06 2.06-.94-2.06-.94-.94-2.06-.94 2.06-2.06.94zm-11 1L8.5 8.5l.94-2.06 2.06-.94-2.06-.94L8.5 2.5l-.94 2.06-2.06.94zm10 10l.94 2.06.94-2.06 2.06-.94-2.06-.94-.94-2.06-.94 2.06-2.06.94z\"/><path d=\"M17.41 7.96l-1.37-1.37c-.4-.4-.92-.59-1.43-.59-.52 0-1.04.2-1.43.59L10.3 9.45l-7.72 7.72c-.78.78-.78 2.05 0 2.83L4 21.41c.39.39.9.59 1.41.59.51 0 1.02-.2 1.41-.59l7.78-7.78 2.81-2.81c.8-.78.8-2.07 0-2.86zM5.41 20L4 18.59l7.72-7.72 1.47 1.35L5.41 20z\"/>\n",
              "  </svg>\n",
              "      </button>\n",
              "      \n",
              "  <style>\n",
              "    .colab-df-container {\n",
              "      display:flex;\n",
              "      flex-wrap:wrap;\n",
              "      gap: 12px;\n",
              "    }\n",
              "\n",
              "    .colab-df-convert {\n",
              "      background-color: #E8F0FE;\n",
              "      border: none;\n",
              "      border-radius: 50%;\n",
              "      cursor: pointer;\n",
              "      display: none;\n",
              "      fill: #1967D2;\n",
              "      height: 32px;\n",
              "      padding: 0 0 0 0;\n",
              "      width: 32px;\n",
              "    }\n",
              "\n",
              "    .colab-df-convert:hover {\n",
              "      background-color: #E2EBFA;\n",
              "      box-shadow: 0px 1px 2px rgba(60, 64, 67, 0.3), 0px 1px 3px 1px rgba(60, 64, 67, 0.15);\n",
              "      fill: #174EA6;\n",
              "    }\n",
              "\n",
              "    [theme=dark] .colab-df-convert {\n",
              "      background-color: #3B4455;\n",
              "      fill: #D2E3FC;\n",
              "    }\n",
              "\n",
              "    [theme=dark] .colab-df-convert:hover {\n",
              "      background-color: #434B5C;\n",
              "      box-shadow: 0px 1px 3px 1px rgba(0, 0, 0, 0.15);\n",
              "      filter: drop-shadow(0px 1px 2px rgba(0, 0, 0, 0.3));\n",
              "      fill: #FFFFFF;\n",
              "    }\n",
              "  </style>\n",
              "\n",
              "      <script>\n",
              "        const buttonEl =\n",
              "          document.querySelector('#df-b93f42f4-17b8-4cd0-a1d3-695edd39a0b3 button.colab-df-convert');\n",
              "        buttonEl.style.display =\n",
              "          google.colab.kernel.accessAllowed ? 'block' : 'none';\n",
              "\n",
              "        async function convertToInteractive(key) {\n",
              "          const element = document.querySelector('#df-b93f42f4-17b8-4cd0-a1d3-695edd39a0b3');\n",
              "          const dataTable =\n",
              "            await google.colab.kernel.invokeFunction('convertToInteractive',\n",
              "                                                     [key], {});\n",
              "          if (!dataTable) return;\n",
              "\n",
              "          const docLinkHtml = 'Like what you see? Visit the ' +\n",
              "            '<a target=\"_blank\" href=https://colab.research.google.com/notebooks/data_table.ipynb>data table notebook</a>'\n",
              "            + ' to learn more about interactive tables.';\n",
              "          element.innerHTML = '';\n",
              "          dataTable['output_type'] = 'display_data';\n",
              "          await google.colab.output.renderOutput(dataTable, element);\n",
              "          const docLink = document.createElement('div');\n",
              "          docLink.innerHTML = docLinkHtml;\n",
              "          element.appendChild(docLink);\n",
              "        }\n",
              "      </script>\n",
              "    </div>\n",
              "  </div>\n",
              "  "
            ]
          },
          "metadata": {},
          "execution_count": 14
        }
      ]
    },
    {
      "cell_type": "markdown",
      "source": [
        "## Create custom Datasets and Dataloaders"
      ],
      "metadata": {
        "id": "1B0RIJ9SmpxF"
      }
    },
    {
      "cell_type": "markdown",
      "source": [
        "https://www.learnpytorch.io/04_pytorch_custom_datasets#41-turn-loaded-images-into-dataloaders"
      ],
      "metadata": {
        "id": "0tn_Ke84MT9d"
      }
    },
    {
      "cell_type": "code",
      "source": [
        "# transformations for images\n",
        "data_transforms = transforms.Compose([\n",
        "    #\n",
        "    #note that output channel is 1, will need to change and re-run for use with 3 channels\n",
        "    #\n",
        "    transforms.Grayscale(num_output_channels=1),\n",
        "    transforms.Resize((224,224)),\n",
        "    transforms.ToTensor()\n",
        "])"
      ],
      "metadata": {
        "id": "J7q4r-Z4SB2C"
      },
      "execution_count": 15,
      "outputs": []
    },
    {
      "cell_type": "code",
      "source": [
        "# function to provide list of classes and a dict of classes:targets\n",
        "def class_dict(two_targets):\n",
        "    classes_2 = ['normal', 'abnormal']\n",
        "    dict_2 = {'normal' : 0, 'abnormal': 1}\n",
        "    classes_14 = ['abnormal_WRIST', 'normal_WRIST','abnormal_FOREARM', 'normal_FOREARM',\n",
        "                      'abnormal_HAND', 'normal_HAND', 'abnormal_HUMERUS', 'normal_HUMERUS',\n",
        "                      'abnormal_ELBOW', 'normal_ELBOW', 'abnormal_SHOULDER', 'normal_SHOULDER',\n",
        "                      'abnormal_FINGER', 'normal_FINGER']\n",
        "    dict_14 = {'abnormal_WRIST': 0, 'normal_WRIST': 1,'abnormal_FOREARM' : 2, 'normal_FOREARM' : 3,\n",
        "                      'abnormal_HAND': 4, 'normal_HAND' : 5, 'abnormal_HUMERUS': 6, 'normal_HUMERUS' : 7,\n",
        "                      'abnormal_ELBOW': 8, 'normal_ELBOW' : 9, 'abnormal_SHOULDER' : 10, 'normal_SHOULDER': 11,\n",
        "                      'abnormal_FINGER': 12, 'normal_FINGER' : 13}\n",
        "    if two_targets == True:\n",
        "      return classes_2, dict_2\n",
        "    else:\n",
        "      return classes_14, dict_14"
      ],
      "metadata": {
        "id": "U43jeRlkTILE"
      },
      "execution_count": 16,
      "outputs": []
    },
    {
      "cell_type": "code",
      "source": [
        "# create custom dataset class for our MURA dataset\n",
        "\n",
        "class MuraDataset(Dataset):\n",
        "    # change two targets to False if using 14 target data\n",
        "    def __init__(self, mura_df, two_targets, transform=data_transforms):\n",
        "        self.mura = mura_df\n",
        "        self.transform = transform\n",
        "        self.classes, self.class_to_idx = class_dict(two_targets=two_targets)\n",
        "\n",
        "    def __len__(self):\n",
        "        return len(self.mura)\n",
        "\n",
        "    # retrives image from path in df file and target from df\n",
        "    def get_image_class(self, index):\n",
        "        image_path = self.mura.iloc[index]['image_path']\n",
        "        class_name = self.mura.iloc[index]['target']\n",
        "        return Image.open(image_path), class_name  \n",
        "\n",
        "    def __getitem__(self, idx):\n",
        "        image, class_name = self.get_image_class(idx)\n",
        "        label = self.class_to_idx[class_name]\n",
        "\n",
        "        return self.transform(image), label"
      ],
      "metadata": {
        "id": "1HZ1w3Rek1Vm"
      },
      "execution_count": 17,
      "outputs": []
    },
    {
      "cell_type": "code",
      "source": [
        "#dict = {}\n",
        "#for i in range(len(train_dataset)):\n",
        "#    img, label = next(iter(train_dataloader))\n",
        "#    shape = img.shape\n",
        "#    dict[shape] = dict.get(shape, 0) + 1"
      ],
      "metadata": {
        "id": "092A6d-yfqKk"
      },
      "execution_count": 18,
      "outputs": []
    },
    {
      "cell_type": "code",
      "source": [
        "# create train and test datasets for 14 target df\n",
        "mura_train_14_dataset = MuraDataset(mura_df = mura_train_14, two_targets=False)\n",
        "mura_test_14_dataset = MuraDataset(mura_df = mura_test_14, two_targets=False)"
      ],
      "metadata": {
        "id": "_RDt9aB6RdBw"
      },
      "execution_count": 19,
      "outputs": []
    },
    {
      "cell_type": "code",
      "source": [
        "mura_train['region'].unique()"
      ],
      "metadata": {
        "id": "sIFx75X-YHr7",
        "outputId": "772b59a7-3812-4dc0-b0c9-04aa5ab5b7e9",
        "colab": {
          "base_uri": "https://localhost:8080/"
        }
      },
      "execution_count": 24,
      "outputs": [
        {
          "output_type": "execute_result",
          "data": {
            "text/plain": [
              "array(['SHOULDER', 'HUMERUS', 'FINGER', 'ELBOW', 'WRIST', 'FOREARM',\n",
              "       'HAND'], dtype=object)"
            ]
          },
          "metadata": {},
          "execution_count": 24
        }
      ]
    },
    {
      "cell_type": "code",
      "source": [
        "print(len(mura_train_14_dataset), len(mura_test_14_dataset))"
      ],
      "metadata": {
        "colab": {
          "base_uri": "https://localhost:8080/"
        },
        "id": "1EGwXv9mRyD3",
        "outputId": "42a95d9e-59e3-4f78-931b-93f0be87e0ec"
      },
      "execution_count": 20,
      "outputs": [
        {
          "output_type": "stream",
          "name": "stdout",
          "text": [
            "36808 3197\n"
          ]
        }
      ]
    },
    {
      "cell_type": "code",
      "source": [
        "# create train datasets by region\n",
        "wrist_train_dataset = MuraDataset(mura_df = wrist_train, two_targets=True)\n",
        "forearm_train_dataset = MuraDataset(mura_df = forearm_train, two_targets=True)\n",
        "hand_train_dataset = MuraDataset(mura_df = hand_train, two_targets=True)\n",
        "humerus_train_dataset = MuraDataset(mura_df = humerus_train, two_targets=True)\n",
        "elbow_train_dataset = MuraDataset(mura_df = elbow_train, two_targets=True)\n",
        "shoulder_train_dataset = MuraDataset(mura_df = shoulder_train, two_targets=True)\n",
        "finger_train_dataset = MuraDataset(mura_df = finger_train, two_targets=True)\n",
        "\n",
        "# create test datasets by region\n",
        "wrist_test_dataset = MuraDataset(mura_df = wrist_test, two_targets=True)\n",
        "forearm_test_dataset = MuraDataset(mura_df = forearm_test, two_targets=True)\n",
        "hand_test_dataset = MuraDataset(mura_df = hand_test, two_targets=True)\n",
        "humerus_test_dataset = MuraDataset(mura_df = humerus_test, two_targets=True)\n",
        "elbow_test_dataset = MuraDataset(mura_df = elbow_test, two_targets=True)\n",
        "shoulder_test_dataset = MuraDataset(mura_df = shoulder_test, two_targets=True)\n",
        "finger_test_dataset = MuraDataset(mura_df = finger_test, two_targets=True)"
      ],
      "metadata": {
        "id": "ZvGzSYvvPBF4"
      },
      "execution_count": 21,
      "outputs": []
    },
    {
      "cell_type": "code",
      "source": [
        "wrist_train_dataset = MuraDataset(mura_df = wrist_train, two_targets=True)\n",
        "forearm_train_dataset = MuraDataset(mura_df = forearm_train, two_targets=True)\n",
        "hand_train_dataset = MuraDataset(mura_df = hand_train, two_targets=True)\n",
        "humerus_train_dataset = MuraDataset(mura_df = humerus_train, two_targets=True)\n",
        "elbow_train_dataset = MuraDataset(mura_df = elbow_train, two_targets=True)\n",
        "shoulder_train_dataset = MuraDataset(mura_df = shoulder_train, two_targets=True)\n",
        "finger_train_dataset = MuraDataset(mura_df = finger_train, two_targets=True)\n",
        "\n",
        "# create test datasets by region\n",
        "wrist_test_dataset = MuraDataset(mura_df = wrist_test, two_targets=True)\n",
        "forearm_test_dataset = MuraDataset(mura_df = forearm_test, two_targets=True)\n",
        "hand_test_dataset = MuraDataset(mura_df = hand_test, two_targets=True)\n",
        "humerus_test_dataset = MuraDataset(mura_df = humerus_test, two_targets=True)\n",
        "elbow_test_dataset = MuraDataset(mura_df = elbow_test, two_targets=True)\n",
        "shoulder_test_dataset = MuraDataset(mura_df = shoulder_test, two_targets=True)\n",
        "finger_test_dataset = MuraDataset(mura_df = finger_test, two_targets=True)"
      ],
      "metadata": {
        "id": "DDKTQSQcXuud"
      },
      "execution_count": null,
      "outputs": []
    },
    {
      "cell_type": "code",
      "source": [
        "wrist_len = len(wrist_train_dataset)\n",
        "forearm_len = len(forearm_train_dataset)\n",
        "hand_len = len(hand_train_dataset)\n",
        "humerus_len = len(humerus_train_dataset)\n",
        "elbow_len = len(elbow_train_dataset)\n",
        "shoulder_len = len(shoulder_train_dataset)\n",
        "finger_len = len(finger_train_dataset)\n",
        "\n",
        "total = len(mura_train)\n",
        "\n",
        "w = round(wrist_len/total,2)\n",
        "fo = round(forearm_len/total,2)\n",
        "ha = round(hand_len/total,2)\n",
        "hu = round(humerus_len/total,2)\n",
        "e = round(elbow_len/total,2)\n",
        "s = round(shoulder_len/total,2)\n",
        "fi = round(finger_len/total,2)"
      ],
      "metadata": {
        "id": "I84N9ZspX4Wy"
      },
      "execution_count": 42,
      "outputs": []
    },
    {
      "cell_type": "code",
      "source": [
        "print(w, fo, ha, hu, e, s, fi)"
      ],
      "metadata": {
        "id": "GbgWFgPkdFpp",
        "outputId": "2ab253bd-2bb4-40f5-9ecf-d715beaae38e",
        "colab": {
          "base_uri": "https://localhost:8080/"
        }
      },
      "execution_count": 43,
      "outputs": [
        {
          "output_type": "stream",
          "name": "stdout",
          "text": [
            "0.26 0.05 0.15 0.03 0.13 0.23 0.14\n"
          ]
        }
      ]
    },
    {
      "cell_type": "code",
      "source": [
        "def mura_14_sample(num_samples):\n",
        "    a = wrist_train.sample(n=int(w*num_samples))\n",
        "    b = forearm_train.sample(n=int(fo*num_samples)) \n",
        "    c = hand_train.sample(n=int(ha*num_samples)) \n",
        "    d = humerus_train.sample(n=int(hu*num_samples)) \n",
        "    el = elbow_train.sample(n=int(e*num_samples)) \n",
        "    f = shoulder_train.sample(n=int(s*num_samples)) \n",
        "    g = finger_train.sample(n=int(fi*num_samples)) \n",
        "    \n",
        "    frames = [a,b,c,d,el,f,g]\n",
        "    keys = mura_test.columns\n",
        "    result = pd.concat(frames, keys=keys)\n",
        "\n",
        "    ds = MuraDataset(mura_df = result, two_targets=False)\n",
        "    return ds"
      ],
      "metadata": {
        "id": "q3LmTPAjaBFc"
      },
      "execution_count": 56,
      "outputs": []
    },
    {
      "cell_type": "code",
      "source": [
        "mura_train_14_subset = mura_14_sample(500) "
      ],
      "metadata": {
        "id": "LIGJqaXaXl5y"
      },
      "execution_count": 57,
      "outputs": []
    },
    {
      "cell_type": "code",
      "source": [
        "len(mura_train_14_subset)"
      ],
      "metadata": {
        "id": "DG4fsHhMcw13",
        "outputId": "b7fe583f-3dc6-45bc-c8ce-ddd8d3186ff5",
        "colab": {
          "base_uri": "https://localhost:8080/"
        }
      },
      "execution_count": 58,
      "outputs": [
        {
          "output_type": "execute_result",
          "data": {
            "text/plain": [
              "310"
            ]
          },
          "metadata": {},
          "execution_count": 58
        }
      ]
    },
    {
      "cell_type": "code",
      "source": [
        "#check size of datasets\n",
        "print(f'wrist: {len(wrist_train_dataset)}, {len(wrist_test_dataset)}')\n",
        "print(f'forearm: {len(forearm_train_dataset)}, {len(forearm_test_dataset)}')\n",
        "print(f'hand: {len(hand_train_dataset)}, {len(hand_test_dataset)}')\n",
        "print(f'humerus: {len(humerus_train_dataset)}, {len(humerus_test_dataset)}')\n",
        "print(f'elbow: {len(elbow_train_dataset)}, {len(elbow_test_dataset)}')\n",
        "print(f'shoulder: {len(shoulder_train_dataset)}, {len(shoulder_test_dataset)}')\n",
        "print(f'finger: {len(finger_train_dataset)}, {len(finger_test_dataset)}')"
      ],
      "metadata": {
        "colab": {
          "base_uri": "https://localhost:8080/"
        },
        "id": "9lM0qICISWem",
        "outputId": "9ac2c73c-a316-4f04-9dd1-c3d0dc93fd42"
      },
      "execution_count": null,
      "outputs": [
        {
          "output_type": "stream",
          "name": "stdout",
          "text": [
            "wrist: 9752, 659\n",
            "forearm: 1825, 301\n",
            "hand: 5543, 460\n",
            "humerus: 1272, 288\n",
            "elbow: 4931, 465\n",
            "shoulder: 8379, 563\n",
            "finger: 5106, 461\n"
          ]
        }
      ]
    },
    {
      "cell_type": "code",
      "source": [
        "# batch size for all dataloaders we are creating\n",
        "batch_size = 32"
      ],
      "metadata": {
        "id": "wE8-xZNnVvMX"
      },
      "execution_count": null,
      "outputs": []
    },
    {
      "cell_type": "code",
      "source": [
        "# create dataloader for 14 targets dataset\n",
        "mura_train_14_dataloader = DataLoader(mura_train_14_dataset, batch_size=batch_size, shuffle=True)\n",
        "mura_test_14_dataloader = DataLoader(mura_test_14_dataset, batch_size=batch_size, shuffle=True)"
      ],
      "metadata": {
        "id": "j4p0Hu7GSB7a"
      },
      "execution_count": null,
      "outputs": []
    },
    {
      "cell_type": "code",
      "source": [
        "img, label = next(iter(mura_train_14_dataloader))\n",
        "img.shape, label"
      ],
      "metadata": {
        "colab": {
          "base_uri": "https://localhost:8080/"
        },
        "id": "MQwW02u1R4Cj",
        "outputId": "169f1557-7af0-4319-c508-44c3ad73fdcf"
      },
      "execution_count": null,
      "outputs": [
        {
          "output_type": "execute_result",
          "data": {
            "text/plain": [
              "(torch.Size([32, 1, 224, 224]),\n",
              " tensor([ 8,  0, 10,  1,  0,  8,  1, 10,  8,  1, 13,  5, 12, 12, 10,  9,  5,  1,\n",
              "          8, 12,  5,  5,  1,  1,  9,  5,  1,  6, 10,  5, 13,  9]))"
            ]
          },
          "metadata": {},
          "execution_count": 25
        }
      ]
    },
    {
      "cell_type": "code",
      "source": [
        "#create train dataloaders by region\n",
        "wrist_train_dataloader = DataLoader(wrist_train_dataset, batch_size=batch_size, shuffle=True)\n",
        "forearm_train_dataloader = DataLoader(forearm_train_dataset, batch_size=batch_size, shuffle=True)\n",
        "hand_train_dataloader = DataLoader(hand_train_dataset, batch_size=batch_size, shuffle=True)\n",
        "humerus_train_dataloader = DataLoader(humerus_train_dataset, batch_size=batch_size, shuffle=True)\n",
        "elbow_train_dataloader = DataLoader(elbow_train_dataset, batch_size=batch_size, shuffle=True)\n",
        "shoulder_train_dataloader = DataLoader(shoulder_train_dataset, batch_size=batch_size, shuffle=True)\n",
        "finger_train_dataloader = DataLoader(finger_train_dataset, batch_size=batch_size, shuffle=True)\n",
        "\n",
        "#create test dataloaders by region\n",
        "wrist_test_dataloader = DataLoader(wrist_test_dataset, batch_size=batch_size, shuffle=True)\n",
        "forearm_test_dataloader = DataLoader(forearm_test_dataset, batch_size=batch_size, shuffle=True)\n",
        "hand_test_dataloader = DataLoader(hand_test_dataset, batch_size=batch_size, shuffle=True)\n",
        "humerus_test_dataloader = DataLoader(humerus_test_dataset, batch_size=batch_size, shuffle=True)\n",
        "elbow_test_dataloader = DataLoader(elbow_test_dataset, batch_size=batch_size, shuffle=True)\n",
        "shoulder_test_dataloader = DataLoader(shoulder_test_dataset, batch_size=batch_size, shuffle=True)\n",
        "finger_test_dataloader = DataLoader(finger_test_dataset, batch_size=batch_size, shuffle=True)"
      ],
      "metadata": {
        "id": "cnXRdZoEPnV7"
      },
      "execution_count": null,
      "outputs": []
    },
    {
      "cell_type": "code",
      "source": [
        "img, label = next(iter(shoulder_train_dataloader))\n",
        "img.shape, label"
      ],
      "metadata": {
        "colab": {
          "base_uri": "https://localhost:8080/"
        },
        "id": "gO8RQ8beX5gY",
        "outputId": "833098aa-de45-4e43-a769-e233c4cba134"
      },
      "execution_count": null,
      "outputs": [
        {
          "output_type": "execute_result",
          "data": {
            "text/plain": [
              "(torch.Size([32, 1, 224, 224]),\n",
              " tensor([0, 1, 1, 0, 0, 1, 0, 1, 0, 0, 1, 1, 0, 0, 1, 1, 0, 0, 1, 1, 0, 0, 1, 1,\n",
              "         1, 1, 1, 0, 1, 0, 1, 1]))"
            ]
          },
          "metadata": {},
          "execution_count": 27
        }
      ]
    },
    {
      "cell_type": "markdown",
      "source": [
        "# Base Model"
      ],
      "metadata": {
        "id": "KGN2Yycb4GHK"
      }
    },
    {
      "cell_type": "markdown",
      "source": [
        "## Model Implementation"
      ],
      "metadata": {
        "id": "8JWhuht_aKU-"
      }
    },
    {
      "cell_type": "markdown",
      "source": [
        "Implement CNN from:\n",
        "\n",
        "https://www.learnpytorch.io/03_pytorch_computer_vision/#7-model-2-building-a-convolutional-neural-network-cnn"
      ],
      "metadata": {
        "id": "neZUulMCN8rq"
      }
    },
    {
      "cell_type": "code",
      "source": [
        "# Create a convolutional neural network \n",
        "class base_model(nn.Module):\n",
        "    def __init__(self, input_shape: int, hidden_units: int, output_shape: int):\n",
        "        super().__init__()\n",
        "        self.block_1 = nn.Sequential(\n",
        "            nn.Conv2d(in_channels=input_shape, \n",
        "                      out_channels=hidden_units, \n",
        "                      kernel_size=3, # how big is the square that's going over the image?\n",
        "                      stride=1, # default\n",
        "                      padding=1),# options = \"valid\" (no padding) or \"same\" (output has same shape as input) or int for specific number \n",
        "            nn.ReLU(),\n",
        "            nn.Conv2d(in_channels=hidden_units, \n",
        "                      out_channels=hidden_units,\n",
        "                      kernel_size=3,\n",
        "                      stride=1,\n",
        "                      padding=1),\n",
        "            nn.ReLU(),\n",
        "            nn.MaxPool2d(kernel_size=2,\n",
        "                         stride=2) # default stride value is same as kernel_size\n",
        "        )\n",
        "        self.block_2 = nn.Sequential(\n",
        "            nn.Conv2d(hidden_units, hidden_units, 3, padding=1),\n",
        "            nn.ReLU(),\n",
        "            nn.Conv2d(hidden_units, hidden_units, 3, padding=1),\n",
        "            nn.ReLU(),\n",
        "            nn.MaxPool2d(2)\n",
        "        )\n",
        "        self.classifier = nn.Sequential(\n",
        "            nn.Flatten(),\n",
        "            # Where did this in_features shape come from? \n",
        "            # It's because each layer of our network compresses and changes the shape of our inputs data.\n",
        "            nn.Linear(in_features=hidden_units*56*56, \n",
        "                      out_features=output_shape)\n",
        "        )\n",
        "    \n",
        "    def forward(self, x: torch.Tensor):\n",
        "        x = self.block_1(x)\n",
        "        # print(x.shape)\n",
        "        x = self.block_2(x)\n",
        "        # print(x.shape)\n",
        "        x = self.classifier(x)\n",
        "        # print(x.shape)\n",
        "        return x"
      ],
      "metadata": {
        "id": "2Xlm0feaj3FP"
      },
      "execution_count": null,
      "outputs": []
    },
    {
      "cell_type": "code",
      "source": [
        "# define how we will measure our model accuracy\n",
        "def accuracy_fn(y_true, y_pred):\n",
        "    correct = torch.eq(y_true, y_pred).sum().item()\n",
        "    acc = (correct / len(y_pred)) * 100 \n",
        "    return acc"
      ],
      "metadata": {
        "id": "s7MHqPXMV4Yn"
      },
      "execution_count": null,
      "outputs": []
    },
    {
      "cell_type": "code",
      "source": [
        "# define our training and test steps\n",
        "def train_step(model: torch.nn.Module,\n",
        "               data_loader: torch.utils.data.DataLoader,\n",
        "               loss_fn: torch.nn.Module,\n",
        "               optimizer: torch.optim.Optimizer,\n",
        "               accuracy_fn,\n",
        "               device: torch.device = device):\n",
        "    train_loss, train_acc = 0, 0\n",
        "    for batch, (X, y) in enumerate(data_loader):\n",
        "        # Send data to GPU\n",
        "        X, y = X.to(device), y.to(device)\n",
        "\n",
        "        # 1. Forward pass\n",
        "        y_pred = model(X)\n",
        "\n",
        "        # 2. Calculate loss\n",
        "        loss = loss_fn(y_pred, y)\n",
        "        train_loss += loss\n",
        "        train_acc += accuracy_fn(y_true=y,\n",
        "                                 y_pred=y_pred.argmax(dim=1)) # Go from logits -> pred labels\n",
        "\n",
        "        # 3. Optimizer zero grad\n",
        "        optimizer.zero_grad()\n",
        "\n",
        "        # 4. Loss backward\n",
        "        loss.backward()\n",
        "\n",
        "        # 5. Optimizer step\n",
        "        optimizer.step()\n",
        "\n",
        "    # Calculate loss and accuracy per epoch and print out what's happening\n",
        "    train_loss /= len(data_loader)\n",
        "    train_acc /= len(data_loader)\n",
        "    print(f\"Train loss: {train_loss:.5f} | Train accuracy: {train_acc:.2f}%\")\n",
        "\n",
        "def test_step(data_loader: torch.utils.data.DataLoader,\n",
        "              model: torch.nn.Module,\n",
        "              loss_fn: torch.nn.Module,\n",
        "              accuracy_fn,\n",
        "              device: torch.device = device):\n",
        "    test_loss, test_acc = 0, 0\n",
        "    model.eval() # put model in eval mode\n",
        "    # Turn on inference context manager\n",
        "    with torch.inference_mode(): \n",
        "        for X, y in data_loader:\n",
        "            # Send data to GPU\n",
        "            X, y = X.to(device), y.to(device)\n",
        "            \n",
        "            # 1. Forward pass\n",
        "            test_pred = model(X)\n",
        "            \n",
        "            # 2. Calculate loss and accuracy\n",
        "            test_loss += loss_fn(test_pred, y)\n",
        "            test_acc += accuracy_fn(y_true=y,\n",
        "                y_pred=test_pred.argmax(dim=1) # Go from logits -> pred labels\n",
        "            )\n",
        "        \n",
        "        # Adjust metrics and print out\n",
        "        test_loss /= len(data_loader)\n",
        "        test_acc /= len(data_loader)\n",
        "        print(f\"Test loss: {test_loss:.5f} | Test accuracy: {test_acc:.2f}%\\n\")\n"
      ],
      "metadata": {
        "id": "1jTQinzTWX4n"
      },
      "execution_count": null,
      "outputs": []
    },
    {
      "cell_type": "code",
      "source": [
        "# calculate total time training\n",
        "def print_train_time(start: float, end: float, device: torch.device = None):\n",
        "    \"\"\"Prints difference between start and end time.\n",
        "\n",
        "    Args:\n",
        "        start (float): Start time of computation (preferred in timeit format). \n",
        "        end (float): End time of computation.\n",
        "        device ([type], optional): Device that compute is running on. Defaults to None.\n",
        "\n",
        "    Returns:\n",
        "        float: time between start and end in seconds (higher is longer).\n",
        "    \"\"\"\n",
        "    total_time = end - start\n",
        "    print(f\"Train time on {device}: {total_time/60:.3f} minutes\")\n",
        "    return total_time"
      ],
      "metadata": {
        "id": "G5A1Mxi7P4pl"
      },
      "execution_count": null,
      "outputs": []
    },
    {
      "cell_type": "code",
      "source": [
        "# Measure time\n",
        "\n",
        "def run_model(train_data_loader, test_data_loader, model, loss_fn, optimizer,\n",
        "              accuracy_fn=accuracy_fn, epochs=3, device=device):\n",
        "    train_time_start = timer()\n",
        "\n",
        "    # Train and test model \n",
        "    for epoch in tqdm(range(epochs)):\n",
        "        print(f\"Epoch: {epoch}\\n---------\")\n",
        "        train_step(data_loader=train_data_loader, \n",
        "            model=model, \n",
        "            loss_fn=loss_fn,\n",
        "            optimizer=optimizer,\n",
        "            accuracy_fn=accuracy_fn,\n",
        "            device=device\n",
        "        )\n",
        "        test_step(data_loader=test_data_loader,\n",
        "            model=model,\n",
        "            loss_fn=loss_fn,\n",
        "            accuracy_fn=accuracy_fn,\n",
        "            device=device\n",
        "        )\n",
        "\n",
        "    train_time_end = timer()\n",
        "\n",
        "    total_train_time = print_train_time(start=train_time_start,\n",
        "                                              end=train_time_end,\n",
        "                                              device=device)\n",
        "    print(total_train_time)"
      ],
      "metadata": {
        "id": "oAv2E2XVU3gE"
      },
      "execution_count": null,
      "outputs": []
    },
    {
      "cell_type": "markdown",
      "source": [
        "## Run Models"
      ],
      "metadata": {
        "id": "bByLZex4abJX"
      }
    },
    {
      "cell_type": "code",
      "source": [
        "# define loss function and optimizer for all models\n",
        "loss_fn_base_model = nn.CrossEntropyLoss()\n",
        "\n",
        "lr_base_model = 0.01\n",
        "\n",
        "# set optimizer with different model params\n",
        "def set_optimizer(model, lr=lr_base_model):\n",
        "    opt = torch.optim.SGD(params=model.parameters(), \n",
        "                             lr=lr)\n",
        "    return opt \n",
        "\n",
        "epochs_base_model = 5\n",
        "seed = 3"
      ],
      "metadata": {
        "id": "-OmwngKmRgeJ"
      },
      "execution_count": null,
      "outputs": []
    },
    {
      "cell_type": "markdown",
      "source": [
        "### 14 targets"
      ],
      "metadata": {
        "id": "c_w7rnPuflPW"
      }
    },
    {
      "cell_type": "code",
      "source": [
        "# create 14 target base model and move to device\n",
        "torch.manual_seed(seed)\n",
        "\n",
        "mura_14_base_model = base_model(input_shape=1, \n",
        "    hidden_units=10, \n",
        "    output_shape=len(mura_train_14_dataset.classes)).to(device)\n",
        "\n",
        "optimizer_base_model = set_optimizer(mura_14_base_model)\n",
        "\n",
        "mura_14_base_model"
      ],
      "metadata": {
        "colab": {
          "base_uri": "https://localhost:8080/"
        },
        "id": "x2LC_oUOiCr0",
        "outputId": "20920b72-ba1a-4b89-d35b-ff563eeefacf"
      },
      "execution_count": null,
      "outputs": [
        {
          "output_type": "execute_result",
          "data": {
            "text/plain": [
              "base_model(\n",
              "  (block_1): Sequential(\n",
              "    (0): Conv2d(1, 10, kernel_size=(3, 3), stride=(1, 1), padding=(1, 1))\n",
              "    (1): ReLU()\n",
              "    (2): Conv2d(10, 10, kernel_size=(3, 3), stride=(1, 1), padding=(1, 1))\n",
              "    (3): ReLU()\n",
              "    (4): MaxPool2d(kernel_size=2, stride=2, padding=0, dilation=1, ceil_mode=False)\n",
              "  )\n",
              "  (block_2): Sequential(\n",
              "    (0): Conv2d(10, 10, kernel_size=(3, 3), stride=(1, 1), padding=(1, 1))\n",
              "    (1): ReLU()\n",
              "    (2): Conv2d(10, 10, kernel_size=(3, 3), stride=(1, 1), padding=(1, 1))\n",
              "    (3): ReLU()\n",
              "    (4): MaxPool2d(kernel_size=2, stride=2, padding=0, dilation=1, ceil_mode=False)\n",
              "  )\n",
              "  (classifier): Sequential(\n",
              "    (0): Flatten(start_dim=1, end_dim=-1)\n",
              "    (1): Linear(in_features=31360, out_features=14, bias=True)\n",
              "  )\n",
              ")"
            ]
          },
          "metadata": {},
          "execution_count": 42
        }
      ]
    },
    {
      "cell_type": "code",
      "source": [
        "# train and test 14 target base model\n",
        "run_model(train_data_loader=mura_train_14_dataloader, test_data_loader=mura_test_14_dataloader,\n",
        "          model=mura_14_base_model, loss_fn=loss_fn_base_model, optimizer=optimizer_base_model, accuracy_fn=accuracy_fn,\n",
        "          epochs=epochs_base_model)"
      ],
      "metadata": {
        "id": "oMFTB7ekiCjh",
        "colab": {
          "base_uri": "https://localhost:8080/",
          "height": 409
        },
        "outputId": "c5459b87-1ebe-4867-d270-a588434e7388"
      },
      "execution_count": null,
      "outputs": [
        {
          "output_type": "stream",
          "name": "stderr",
          "text": [
            "\r  0%|          | 0/5 [00:00<?, ?it/s]"
          ]
        },
        {
          "output_type": "stream",
          "name": "stdout",
          "text": [
            "Epoch: 0\n",
            "---------\n"
          ]
        },
        {
          "output_type": "stream",
          "name": "stderr",
          "text": [
            "\r  0%|          | 0/5 [00:32<?, ?it/s]\n"
          ]
        },
        {
          "output_type": "error",
          "ename": "KeyboardInterrupt",
          "evalue": "ignored",
          "traceback": [
            "\u001b[0;31m---------------------------------------------------------------------------\u001b[0m",
            "\u001b[0;31mKeyboardInterrupt\u001b[0m                         Traceback (most recent call last)",
            "\u001b[0;32m<ipython-input-43-3a14cc0b2e2e>\u001b[0m in \u001b[0;36m<cell line: 2>\u001b[0;34m()\u001b[0m\n\u001b[1;32m      1\u001b[0m \u001b[0;31m# train and test 14 target base model\u001b[0m\u001b[0;34m\u001b[0m\u001b[0;34m\u001b[0m\u001b[0m\n\u001b[0;32m----> 2\u001b[0;31m run_model(train_data_loader=mura_train_14_dataloader, test_data_loader=mura_test_14_dataloader,\n\u001b[0m\u001b[1;32m      3\u001b[0m           \u001b[0mmodel\u001b[0m\u001b[0;34m=\u001b[0m\u001b[0mmura_14_base_model\u001b[0m\u001b[0;34m,\u001b[0m \u001b[0mloss_fn\u001b[0m\u001b[0;34m=\u001b[0m\u001b[0mloss_fn_base_model\u001b[0m\u001b[0;34m,\u001b[0m \u001b[0moptimizer\u001b[0m\u001b[0;34m=\u001b[0m\u001b[0moptimizer_base_model\u001b[0m\u001b[0;34m,\u001b[0m \u001b[0maccuracy_fn\u001b[0m\u001b[0;34m=\u001b[0m\u001b[0maccuracy_fn\u001b[0m\u001b[0;34m,\u001b[0m\u001b[0;34m\u001b[0m\u001b[0;34m\u001b[0m\u001b[0m\n\u001b[1;32m      4\u001b[0m           epochs=epochs_base_model)\n",
            "\u001b[0;32m<ipython-input-37-717f7a8930d3>\u001b[0m in \u001b[0;36mrun_model\u001b[0;34m(train_data_loader, test_data_loader, model, loss_fn, optimizer, accuracy_fn, epochs, device)\u001b[0m\n\u001b[1;32m      8\u001b[0m     \u001b[0;32mfor\u001b[0m \u001b[0mepoch\u001b[0m \u001b[0;32min\u001b[0m \u001b[0mtqdm\u001b[0m\u001b[0;34m(\u001b[0m\u001b[0mrange\u001b[0m\u001b[0;34m(\u001b[0m\u001b[0mepochs\u001b[0m\u001b[0;34m)\u001b[0m\u001b[0;34m)\u001b[0m\u001b[0;34m:\u001b[0m\u001b[0;34m\u001b[0m\u001b[0;34m\u001b[0m\u001b[0m\n\u001b[1;32m      9\u001b[0m         \u001b[0mprint\u001b[0m\u001b[0;34m(\u001b[0m\u001b[0;34mf\"Epoch: {epoch}\\n---------\"\u001b[0m\u001b[0;34m)\u001b[0m\u001b[0;34m\u001b[0m\u001b[0;34m\u001b[0m\u001b[0m\n\u001b[0;32m---> 10\u001b[0;31m         train_step(data_loader=train_data_loader, \n\u001b[0m\u001b[1;32m     11\u001b[0m             \u001b[0mmodel\u001b[0m\u001b[0;34m=\u001b[0m\u001b[0mmodel\u001b[0m\u001b[0;34m,\u001b[0m\u001b[0;34m\u001b[0m\u001b[0;34m\u001b[0m\u001b[0m\n\u001b[1;32m     12\u001b[0m             \u001b[0mloss_fn\u001b[0m\u001b[0;34m=\u001b[0m\u001b[0mloss_fn\u001b[0m\u001b[0;34m,\u001b[0m\u001b[0;34m\u001b[0m\u001b[0;34m\u001b[0m\u001b[0m\n",
            "\u001b[0;32m<ipython-input-35-05c8d0dabf1f>\u001b[0m in \u001b[0;36mtrain_step\u001b[0;34m(model, data_loader, loss_fn, optimizer, accuracy_fn, device)\u001b[0m\n\u001b[1;32m      7\u001b[0m                device: torch.device = device):\n\u001b[1;32m      8\u001b[0m     \u001b[0mtrain_loss\u001b[0m\u001b[0;34m,\u001b[0m \u001b[0mtrain_acc\u001b[0m \u001b[0;34m=\u001b[0m \u001b[0;36m0\u001b[0m\u001b[0;34m,\u001b[0m \u001b[0;36m0\u001b[0m\u001b[0;34m\u001b[0m\u001b[0;34m\u001b[0m\u001b[0m\n\u001b[0;32m----> 9\u001b[0;31m     \u001b[0;32mfor\u001b[0m \u001b[0mbatch\u001b[0m\u001b[0;34m,\u001b[0m \u001b[0;34m(\u001b[0m\u001b[0mX\u001b[0m\u001b[0;34m,\u001b[0m \u001b[0my\u001b[0m\u001b[0;34m)\u001b[0m \u001b[0;32min\u001b[0m \u001b[0menumerate\u001b[0m\u001b[0;34m(\u001b[0m\u001b[0mdata_loader\u001b[0m\u001b[0;34m)\u001b[0m\u001b[0;34m:\u001b[0m\u001b[0;34m\u001b[0m\u001b[0;34m\u001b[0m\u001b[0m\n\u001b[0m\u001b[1;32m     10\u001b[0m         \u001b[0;31m# Send data to GPU\u001b[0m\u001b[0;34m\u001b[0m\u001b[0;34m\u001b[0m\u001b[0m\n\u001b[1;32m     11\u001b[0m         \u001b[0mX\u001b[0m\u001b[0;34m,\u001b[0m \u001b[0my\u001b[0m \u001b[0;34m=\u001b[0m \u001b[0mX\u001b[0m\u001b[0;34m.\u001b[0m\u001b[0mto\u001b[0m\u001b[0;34m(\u001b[0m\u001b[0mdevice\u001b[0m\u001b[0;34m)\u001b[0m\u001b[0;34m,\u001b[0m \u001b[0my\u001b[0m\u001b[0;34m.\u001b[0m\u001b[0mto\u001b[0m\u001b[0;34m(\u001b[0m\u001b[0mdevice\u001b[0m\u001b[0;34m)\u001b[0m\u001b[0;34m\u001b[0m\u001b[0;34m\u001b[0m\u001b[0m\n",
            "\u001b[0;32m/usr/local/lib/python3.9/dist-packages/torch/utils/data/dataloader.py\u001b[0m in \u001b[0;36m__next__\u001b[0;34m(self)\u001b[0m\n\u001b[1;32m    632\u001b[0m                 \u001b[0;31m# TODO(https://github.com/pytorch/pytorch/issues/76750)\u001b[0m\u001b[0;34m\u001b[0m\u001b[0;34m\u001b[0m\u001b[0m\n\u001b[1;32m    633\u001b[0m                 \u001b[0mself\u001b[0m\u001b[0;34m.\u001b[0m\u001b[0m_reset\u001b[0m\u001b[0;34m(\u001b[0m\u001b[0;34m)\u001b[0m  \u001b[0;31m# type: ignore[call-arg]\u001b[0m\u001b[0;34m\u001b[0m\u001b[0;34m\u001b[0m\u001b[0m\n\u001b[0;32m--> 634\u001b[0;31m             \u001b[0mdata\u001b[0m \u001b[0;34m=\u001b[0m \u001b[0mself\u001b[0m\u001b[0;34m.\u001b[0m\u001b[0m_next_data\u001b[0m\u001b[0;34m(\u001b[0m\u001b[0;34m)\u001b[0m\u001b[0;34m\u001b[0m\u001b[0;34m\u001b[0m\u001b[0m\n\u001b[0m\u001b[1;32m    635\u001b[0m             \u001b[0mself\u001b[0m\u001b[0;34m.\u001b[0m\u001b[0m_num_yielded\u001b[0m \u001b[0;34m+=\u001b[0m \u001b[0;36m1\u001b[0m\u001b[0;34m\u001b[0m\u001b[0;34m\u001b[0m\u001b[0m\n\u001b[1;32m    636\u001b[0m             \u001b[0;32mif\u001b[0m \u001b[0mself\u001b[0m\u001b[0;34m.\u001b[0m\u001b[0m_dataset_kind\u001b[0m \u001b[0;34m==\u001b[0m \u001b[0m_DatasetKind\u001b[0m\u001b[0;34m.\u001b[0m\u001b[0mIterable\u001b[0m \u001b[0;32mand\u001b[0m\u001b[0;31m \u001b[0m\u001b[0;31m\\\u001b[0m\u001b[0;34m\u001b[0m\u001b[0;34m\u001b[0m\u001b[0m\n",
            "\u001b[0;32m/usr/local/lib/python3.9/dist-packages/torch/utils/data/dataloader.py\u001b[0m in \u001b[0;36m_next_data\u001b[0;34m(self)\u001b[0m\n\u001b[1;32m    676\u001b[0m     \u001b[0;32mdef\u001b[0m \u001b[0m_next_data\u001b[0m\u001b[0;34m(\u001b[0m\u001b[0mself\u001b[0m\u001b[0;34m)\u001b[0m\u001b[0;34m:\u001b[0m\u001b[0;34m\u001b[0m\u001b[0;34m\u001b[0m\u001b[0m\n\u001b[1;32m    677\u001b[0m         \u001b[0mindex\u001b[0m \u001b[0;34m=\u001b[0m \u001b[0mself\u001b[0m\u001b[0;34m.\u001b[0m\u001b[0m_next_index\u001b[0m\u001b[0;34m(\u001b[0m\u001b[0;34m)\u001b[0m  \u001b[0;31m# may raise StopIteration\u001b[0m\u001b[0;34m\u001b[0m\u001b[0;34m\u001b[0m\u001b[0m\n\u001b[0;32m--> 678\u001b[0;31m         \u001b[0mdata\u001b[0m \u001b[0;34m=\u001b[0m \u001b[0mself\u001b[0m\u001b[0;34m.\u001b[0m\u001b[0m_dataset_fetcher\u001b[0m\u001b[0;34m.\u001b[0m\u001b[0mfetch\u001b[0m\u001b[0;34m(\u001b[0m\u001b[0mindex\u001b[0m\u001b[0;34m)\u001b[0m  \u001b[0;31m# may raise StopIteration\u001b[0m\u001b[0;34m\u001b[0m\u001b[0;34m\u001b[0m\u001b[0m\n\u001b[0m\u001b[1;32m    679\u001b[0m         \u001b[0;32mif\u001b[0m \u001b[0mself\u001b[0m\u001b[0;34m.\u001b[0m\u001b[0m_pin_memory\u001b[0m\u001b[0;34m:\u001b[0m\u001b[0;34m\u001b[0m\u001b[0;34m\u001b[0m\u001b[0m\n\u001b[1;32m    680\u001b[0m             \u001b[0mdata\u001b[0m \u001b[0;34m=\u001b[0m \u001b[0m_utils\u001b[0m\u001b[0;34m.\u001b[0m\u001b[0mpin_memory\u001b[0m\u001b[0;34m.\u001b[0m\u001b[0mpin_memory\u001b[0m\u001b[0;34m(\u001b[0m\u001b[0mdata\u001b[0m\u001b[0;34m,\u001b[0m \u001b[0mself\u001b[0m\u001b[0;34m.\u001b[0m\u001b[0m_pin_memory_device\u001b[0m\u001b[0;34m)\u001b[0m\u001b[0;34m\u001b[0m\u001b[0;34m\u001b[0m\u001b[0m\n",
            "\u001b[0;32m/usr/local/lib/python3.9/dist-packages/torch/utils/data/_utils/fetch.py\u001b[0m in \u001b[0;36mfetch\u001b[0;34m(self, possibly_batched_index)\u001b[0m\n\u001b[1;32m     49\u001b[0m                 \u001b[0mdata\u001b[0m \u001b[0;34m=\u001b[0m \u001b[0mself\u001b[0m\u001b[0;34m.\u001b[0m\u001b[0mdataset\u001b[0m\u001b[0;34m.\u001b[0m\u001b[0m__getitems__\u001b[0m\u001b[0;34m(\u001b[0m\u001b[0mpossibly_batched_index\u001b[0m\u001b[0;34m)\u001b[0m\u001b[0;34m\u001b[0m\u001b[0;34m\u001b[0m\u001b[0m\n\u001b[1;32m     50\u001b[0m             \u001b[0;32melse\u001b[0m\u001b[0;34m:\u001b[0m\u001b[0;34m\u001b[0m\u001b[0;34m\u001b[0m\u001b[0m\n\u001b[0;32m---> 51\u001b[0;31m                 \u001b[0mdata\u001b[0m \u001b[0;34m=\u001b[0m \u001b[0;34m[\u001b[0m\u001b[0mself\u001b[0m\u001b[0;34m.\u001b[0m\u001b[0mdataset\u001b[0m\u001b[0;34m[\u001b[0m\u001b[0midx\u001b[0m\u001b[0;34m]\u001b[0m \u001b[0;32mfor\u001b[0m \u001b[0midx\u001b[0m \u001b[0;32min\u001b[0m \u001b[0mpossibly_batched_index\u001b[0m\u001b[0;34m]\u001b[0m\u001b[0;34m\u001b[0m\u001b[0;34m\u001b[0m\u001b[0m\n\u001b[0m\u001b[1;32m     52\u001b[0m         \u001b[0;32melse\u001b[0m\u001b[0;34m:\u001b[0m\u001b[0;34m\u001b[0m\u001b[0;34m\u001b[0m\u001b[0m\n\u001b[1;32m     53\u001b[0m             \u001b[0mdata\u001b[0m \u001b[0;34m=\u001b[0m \u001b[0mself\u001b[0m\u001b[0;34m.\u001b[0m\u001b[0mdataset\u001b[0m\u001b[0;34m[\u001b[0m\u001b[0mpossibly_batched_index\u001b[0m\u001b[0;34m]\u001b[0m\u001b[0;34m\u001b[0m\u001b[0;34m\u001b[0m\u001b[0m\n",
            "\u001b[0;32m/usr/local/lib/python3.9/dist-packages/torch/utils/data/_utils/fetch.py\u001b[0m in \u001b[0;36m<listcomp>\u001b[0;34m(.0)\u001b[0m\n\u001b[1;32m     49\u001b[0m                 \u001b[0mdata\u001b[0m \u001b[0;34m=\u001b[0m \u001b[0mself\u001b[0m\u001b[0;34m.\u001b[0m\u001b[0mdataset\u001b[0m\u001b[0;34m.\u001b[0m\u001b[0m__getitems__\u001b[0m\u001b[0;34m(\u001b[0m\u001b[0mpossibly_batched_index\u001b[0m\u001b[0;34m)\u001b[0m\u001b[0;34m\u001b[0m\u001b[0;34m\u001b[0m\u001b[0m\n\u001b[1;32m     50\u001b[0m             \u001b[0;32melse\u001b[0m\u001b[0;34m:\u001b[0m\u001b[0;34m\u001b[0m\u001b[0;34m\u001b[0m\u001b[0m\n\u001b[0;32m---> 51\u001b[0;31m                 \u001b[0mdata\u001b[0m \u001b[0;34m=\u001b[0m \u001b[0;34m[\u001b[0m\u001b[0mself\u001b[0m\u001b[0;34m.\u001b[0m\u001b[0mdataset\u001b[0m\u001b[0;34m[\u001b[0m\u001b[0midx\u001b[0m\u001b[0;34m]\u001b[0m \u001b[0;32mfor\u001b[0m \u001b[0midx\u001b[0m \u001b[0;32min\u001b[0m \u001b[0mpossibly_batched_index\u001b[0m\u001b[0;34m]\u001b[0m\u001b[0;34m\u001b[0m\u001b[0;34m\u001b[0m\u001b[0m\n\u001b[0m\u001b[1;32m     52\u001b[0m         \u001b[0;32melse\u001b[0m\u001b[0;34m:\u001b[0m\u001b[0;34m\u001b[0m\u001b[0;34m\u001b[0m\u001b[0m\n\u001b[1;32m     53\u001b[0m             \u001b[0mdata\u001b[0m \u001b[0;34m=\u001b[0m \u001b[0mself\u001b[0m\u001b[0;34m.\u001b[0m\u001b[0mdataset\u001b[0m\u001b[0;34m[\u001b[0m\u001b[0mpossibly_batched_index\u001b[0m\u001b[0;34m]\u001b[0m\u001b[0;34m\u001b[0m\u001b[0;34m\u001b[0m\u001b[0m\n",
            "\u001b[0;32m<ipython-input-17-ceb025964772>\u001b[0m in \u001b[0;36m__getitem__\u001b[0;34m(self, idx)\u001b[0m\n\u001b[1;32m     18\u001b[0m \u001b[0;34m\u001b[0m\u001b[0m\n\u001b[1;32m     19\u001b[0m     \u001b[0;32mdef\u001b[0m \u001b[0m__getitem__\u001b[0m\u001b[0;34m(\u001b[0m\u001b[0mself\u001b[0m\u001b[0;34m,\u001b[0m \u001b[0midx\u001b[0m\u001b[0;34m)\u001b[0m\u001b[0;34m:\u001b[0m\u001b[0;34m\u001b[0m\u001b[0;34m\u001b[0m\u001b[0m\n\u001b[0;32m---> 20\u001b[0;31m         \u001b[0mimage\u001b[0m\u001b[0;34m,\u001b[0m \u001b[0mclass_name\u001b[0m \u001b[0;34m=\u001b[0m \u001b[0mself\u001b[0m\u001b[0;34m.\u001b[0m\u001b[0mget_image_class\u001b[0m\u001b[0;34m(\u001b[0m\u001b[0midx\u001b[0m\u001b[0;34m)\u001b[0m\u001b[0;34m\u001b[0m\u001b[0;34m\u001b[0m\u001b[0m\n\u001b[0m\u001b[1;32m     21\u001b[0m         \u001b[0mlabel\u001b[0m \u001b[0;34m=\u001b[0m \u001b[0mself\u001b[0m\u001b[0;34m.\u001b[0m\u001b[0mclass_to_idx\u001b[0m\u001b[0;34m[\u001b[0m\u001b[0mclass_name\u001b[0m\u001b[0;34m]\u001b[0m\u001b[0;34m\u001b[0m\u001b[0;34m\u001b[0m\u001b[0m\n\u001b[1;32m     22\u001b[0m \u001b[0;34m\u001b[0m\u001b[0m\n",
            "\u001b[0;32m<ipython-input-17-ceb025964772>\u001b[0m in \u001b[0;36mget_image_class\u001b[0;34m(self, index)\u001b[0m\n\u001b[1;32m     15\u001b[0m         \u001b[0mimage_path\u001b[0m \u001b[0;34m=\u001b[0m \u001b[0mself\u001b[0m\u001b[0;34m.\u001b[0m\u001b[0mmura\u001b[0m\u001b[0;34m.\u001b[0m\u001b[0miloc\u001b[0m\u001b[0;34m[\u001b[0m\u001b[0mindex\u001b[0m\u001b[0;34m]\u001b[0m\u001b[0;34m[\u001b[0m\u001b[0;34m'image_path'\u001b[0m\u001b[0;34m]\u001b[0m\u001b[0;34m\u001b[0m\u001b[0;34m\u001b[0m\u001b[0m\n\u001b[1;32m     16\u001b[0m         \u001b[0mclass_name\u001b[0m \u001b[0;34m=\u001b[0m \u001b[0mself\u001b[0m\u001b[0;34m.\u001b[0m\u001b[0mmura\u001b[0m\u001b[0;34m.\u001b[0m\u001b[0miloc\u001b[0m\u001b[0;34m[\u001b[0m\u001b[0mindex\u001b[0m\u001b[0;34m]\u001b[0m\u001b[0;34m[\u001b[0m\u001b[0;34m'target'\u001b[0m\u001b[0;34m]\u001b[0m\u001b[0;34m\u001b[0m\u001b[0;34m\u001b[0m\u001b[0m\n\u001b[0;32m---> 17\u001b[0;31m         \u001b[0;32mreturn\u001b[0m \u001b[0mImage\u001b[0m\u001b[0;34m.\u001b[0m\u001b[0mopen\u001b[0m\u001b[0;34m(\u001b[0m\u001b[0mimage_path\u001b[0m\u001b[0;34m)\u001b[0m\u001b[0;34m,\u001b[0m \u001b[0mclass_name\u001b[0m\u001b[0;34m\u001b[0m\u001b[0;34m\u001b[0m\u001b[0m\n\u001b[0m\u001b[1;32m     18\u001b[0m \u001b[0;34m\u001b[0m\u001b[0m\n\u001b[1;32m     19\u001b[0m     \u001b[0;32mdef\u001b[0m \u001b[0m__getitem__\u001b[0m\u001b[0;34m(\u001b[0m\u001b[0mself\u001b[0m\u001b[0;34m,\u001b[0m \u001b[0midx\u001b[0m\u001b[0;34m)\u001b[0m\u001b[0;34m:\u001b[0m\u001b[0;34m\u001b[0m\u001b[0;34m\u001b[0m\u001b[0m\n",
            "\u001b[0;32m/usr/local/lib/python3.9/dist-packages/PIL/Image.py\u001b[0m in \u001b[0;36mopen\u001b[0;34m(fp, mode, formats)\u001b[0m\n\u001b[1;32m   2982\u001b[0m         \u001b[0mexclusive_fp\u001b[0m \u001b[0;34m=\u001b[0m \u001b[0;32mTrue\u001b[0m\u001b[0;34m\u001b[0m\u001b[0;34m\u001b[0m\u001b[0m\n\u001b[1;32m   2983\u001b[0m \u001b[0;34m\u001b[0m\u001b[0m\n\u001b[0;32m-> 2984\u001b[0;31m     \u001b[0mprefix\u001b[0m \u001b[0;34m=\u001b[0m \u001b[0mfp\u001b[0m\u001b[0;34m.\u001b[0m\u001b[0mread\u001b[0m\u001b[0;34m(\u001b[0m\u001b[0;36m16\u001b[0m\u001b[0;34m)\u001b[0m\u001b[0;34m\u001b[0m\u001b[0;34m\u001b[0m\u001b[0m\n\u001b[0m\u001b[1;32m   2985\u001b[0m \u001b[0;34m\u001b[0m\u001b[0m\n\u001b[1;32m   2986\u001b[0m     \u001b[0mpreinit\u001b[0m\u001b[0;34m(\u001b[0m\u001b[0;34m)\u001b[0m\u001b[0;34m\u001b[0m\u001b[0;34m\u001b[0m\u001b[0m\n",
            "\u001b[0;31mKeyboardInterrupt\u001b[0m: "
          ]
        }
      ]
    },
    {
      "cell_type": "markdown",
      "source": [
        "### Wrist"
      ],
      "metadata": {
        "id": "DFMLh6h0eIWU"
      }
    },
    {
      "cell_type": "code",
      "source": [
        "# create wrist base model and move to device\n",
        "torch.manual_seed(seed)\n",
        "\n",
        "wrist_base_model = base_model(input_shape=1, \n",
        "    hidden_units=10, \n",
        "    output_shape=len(wrist_test_dataset.classes)).to(device)\n",
        "\n",
        "optimizer_base_model = set_optimizer(wrist_base_model)\n",
        "\n",
        "wrist_base_model"
      ],
      "metadata": {
        "colab": {
          "base_uri": "https://localhost:8080/"
        },
        "id": "uR_T4_ufiDb6",
        "outputId": "5b45b94b-f908-470f-db6a-115c849e241f"
      },
      "execution_count": null,
      "outputs": [
        {
          "output_type": "execute_result",
          "data": {
            "text/plain": [
              "base_model(\n",
              "  (block_1): Sequential(\n",
              "    (0): Conv2d(1, 10, kernel_size=(3, 3), stride=(1, 1), padding=(1, 1))\n",
              "    (1): ReLU()\n",
              "    (2): Conv2d(10, 10, kernel_size=(3, 3), stride=(1, 1), padding=(1, 1))\n",
              "    (3): ReLU()\n",
              "    (4): MaxPool2d(kernel_size=2, stride=2, padding=0, dilation=1, ceil_mode=False)\n",
              "  )\n",
              "  (block_2): Sequential(\n",
              "    (0): Conv2d(10, 10, kernel_size=(3, 3), stride=(1, 1), padding=(1, 1))\n",
              "    (1): ReLU()\n",
              "    (2): Conv2d(10, 10, kernel_size=(3, 3), stride=(1, 1), padding=(1, 1))\n",
              "    (3): ReLU()\n",
              "    (4): MaxPool2d(kernel_size=2, stride=2, padding=0, dilation=1, ceil_mode=False)\n",
              "  )\n",
              "  (classifier): Sequential(\n",
              "    (0): Flatten(start_dim=1, end_dim=-1)\n",
              "    (1): Linear(in_features=31360, out_features=2, bias=True)\n",
              "  )\n",
              ")"
            ]
          },
          "metadata": {},
          "execution_count": 40
        }
      ]
    },
    {
      "cell_type": "code",
      "source": [
        "# train and test wrist base model\n",
        "run_model(train_data_loader=wrist_train_dataloader, test_data_loader=wrist_test_dataloader,\n",
        "          model=wrist_base_model, loss_fn=loss_fn_base_model, optimizer=optimizer_base_model, accuracy_fn=accuracy_fn,\n",
        "          epochs=epochs_base_model)"
      ],
      "metadata": {
        "id": "N1djn5P0iDVv"
      },
      "execution_count": null,
      "outputs": []
    },
    {
      "cell_type": "markdown",
      "source": [
        "### Forearm"
      ],
      "metadata": {
        "id": "8eeznWeEeINX"
      }
    },
    {
      "cell_type": "code",
      "source": [
        "# create forearm base model and move to device\n",
        "torch.manual_seed(seed)\n",
        "\n",
        "forearm_base_model = base_model(input_shape=1, \n",
        "    hidden_units=10, \n",
        "    output_shape=len(forearm_test_dataset.classes)).to(device)\n",
        "\n",
        "optimizer_base_model = set_optimizer(forearm_base_model)\n",
        "\n",
        "forearm_base_model"
      ],
      "metadata": {
        "id": "9w3zkc-6iEQF"
      },
      "execution_count": null,
      "outputs": []
    },
    {
      "cell_type": "code",
      "source": [
        "# train and test forearm base model\n",
        "run_model(train_data_loader=forearm_train_dataloader, test_data_loader=forearm_test_dataloader,\n",
        "          model=forearm_base_model, loss_fn=loss_fn_base_model, optimizer=optimizer_base_model, accuracy_fn=accuracy_fn,\n",
        "          epochs=epochs_base_model)"
      ],
      "metadata": {
        "id": "KCIVfj6JiEM2"
      },
      "execution_count": null,
      "outputs": []
    },
    {
      "cell_type": "markdown",
      "source": [
        "### Hand"
      ],
      "metadata": {
        "id": "wbtIRFz2eIGg"
      }
    },
    {
      "cell_type": "code",
      "source": [
        "# create hand base model and move to device\n",
        "torch.manual_seed(seed)\n",
        "\n",
        "hand_base_model = base_model(input_shape=1, \n",
        "    hidden_units=10, \n",
        "    output_shape=len(hand_test_dataset.classes)).to(device)\n",
        "\n",
        "optimizer_base_model = set_optimizer(hand_base_model)\n",
        "\n",
        "hand_base_model"
      ],
      "metadata": {
        "id": "lxF0WrzOiFax"
      },
      "execution_count": null,
      "outputs": []
    },
    {
      "cell_type": "code",
      "source": [
        "# train and test hand base model\n",
        "run_model(train_data_loader=hand_train_dataloader, test_data_loader=hand_test_dataloader,\n",
        "          model=hand_base_model, loss_fn=loss_fn_base_model, optimizer=optimizer_base_model, accuracy_fn=accuracy_fn,\n",
        "          epochs=epochs_base_model)"
      ],
      "metadata": {
        "id": "-G4tg0JFiFX5"
      },
      "execution_count": null,
      "outputs": []
    },
    {
      "cell_type": "markdown",
      "source": [
        "### Humerus"
      ],
      "metadata": {
        "id": "5pkhLI6oeH33"
      }
    },
    {
      "cell_type": "code",
      "source": [
        "# create humerus base model and move to device\n",
        "torch.manual_seed(seed)\n",
        "\n",
        "humerus_base_model = base_model(input_shape=1, \n",
        "    hidden_units=10, \n",
        "    output_shape=len(humerus_test_dataset.classes)).to(device)\n",
        "\n",
        "optimizer_base_model = set_optimizer(humerus_base_model)\n",
        "\n",
        "humerus_base_model"
      ],
      "metadata": {
        "colab": {
          "base_uri": "https://localhost:8080/"
        },
        "id": "daLHORzPiGvu",
        "outputId": "e2e82379-14ce-440b-cd78-c1b894630492"
      },
      "execution_count": null,
      "outputs": [
        {
          "output_type": "execute_result",
          "data": {
            "text/plain": [
              "base_model(\n",
              "  (block_1): Sequential(\n",
              "    (0): Conv2d(1, 10, kernel_size=(3, 3), stride=(1, 1), padding=(1, 1))\n",
              "    (1): ReLU()\n",
              "    (2): Conv2d(10, 10, kernel_size=(3, 3), stride=(1, 1), padding=(1, 1))\n",
              "    (3): ReLU()\n",
              "    (4): MaxPool2d(kernel_size=2, stride=2, padding=0, dilation=1, ceil_mode=False)\n",
              "  )\n",
              "  (block_2): Sequential(\n",
              "    (0): Conv2d(10, 10, kernel_size=(3, 3), stride=(1, 1), padding=(1, 1))\n",
              "    (1): ReLU()\n",
              "    (2): Conv2d(10, 10, kernel_size=(3, 3), stride=(1, 1), padding=(1, 1))\n",
              "    (3): ReLU()\n",
              "    (4): MaxPool2d(kernel_size=2, stride=2, padding=0, dilation=1, ceil_mode=False)\n",
              "  )\n",
              "  (classifier): Sequential(\n",
              "    (0): Flatten(start_dim=1, end_dim=-1)\n",
              "    (1): Linear(in_features=40960, out_features=2, bias=True)\n",
              "  )\n",
              ")"
            ]
          },
          "metadata": {},
          "execution_count": 138
        }
      ]
    },
    {
      "cell_type": "code",
      "source": [
        "# train and test humerus base model\n",
        "run_model(train_data_loader=humerus_train_dataloader, test_data_loader=humerus_test_dataloader,\n",
        "          model=humerus_base_model, loss_fn=loss_fn_base_model, optimizer=optimizer_base_model, accuracy_fn=accuracy_fn,\n",
        "          epochs=epochs_base_model)"
      ],
      "metadata": {
        "id": "USgTHdxIiGsU"
      },
      "execution_count": null,
      "outputs": []
    },
    {
      "cell_type": "markdown",
      "source": [
        "### Shoulder"
      ],
      "metadata": {
        "id": "ci2MC7BWeHuw"
      }
    },
    {
      "cell_type": "code",
      "source": [
        "# create shoulder base model and move to device\n",
        "torch.manual_seed(seed)\n",
        "\n",
        "shoulder_base_model = base_model(input_shape=1, \n",
        "    hidden_units=10, \n",
        "    output_shape=len(shoulder_test_dataset.classes)).to(device)\n",
        "\n",
        "optimizer_base_model = set_optimizer(shoulder_base_model)\n",
        "\n",
        "shoulder_base_model"
      ],
      "metadata": {
        "colab": {
          "base_uri": "https://localhost:8080/"
        },
        "id": "Y4xC9p-fiHk9",
        "outputId": "b86596ea-e566-4eef-f562-0d04e513a585"
      },
      "execution_count": null,
      "outputs": [
        {
          "output_type": "execute_result",
          "data": {
            "text/plain": [
              "base_model(\n",
              "  (block_1): Sequential(\n",
              "    (0): Conv2d(1, 10, kernel_size=(3, 3), stride=(1, 1), padding=(1, 1))\n",
              "    (1): ReLU()\n",
              "    (2): Conv2d(10, 10, kernel_size=(3, 3), stride=(1, 1), padding=(1, 1))\n",
              "    (3): ReLU()\n",
              "    (4): MaxPool2d(kernel_size=2, stride=2, padding=0, dilation=1, ceil_mode=False)\n",
              "  )\n",
              "  (block_2): Sequential(\n",
              "    (0): Conv2d(10, 10, kernel_size=(3, 3), stride=(1, 1), padding=(1, 1))\n",
              "    (1): ReLU()\n",
              "    (2): Conv2d(10, 10, kernel_size=(3, 3), stride=(1, 1), padding=(1, 1))\n",
              "    (3): ReLU()\n",
              "    (4): MaxPool2d(kernel_size=2, stride=2, padding=0, dilation=1, ceil_mode=False)\n",
              "  )\n",
              "  (classifier): Sequential(\n",
              "    (0): Flatten(start_dim=1, end_dim=-1)\n",
              "    (1): Linear(in_features=40960, out_features=2, bias=True)\n",
              "  )\n",
              ")"
            ]
          },
          "metadata": {},
          "execution_count": 149
        }
      ]
    },
    {
      "cell_type": "code",
      "source": [
        "# train and test shoulder base model\n",
        "run_model(train_data_loader=shoulder_train_dataloader, test_data_loader=shoulder_test_dataloader,\n",
        "          model=shoulder_base_model, loss_fn=loss_fn_base_model, optimizer=optimizer_base_model, accuracy_fn=accuracy_fn,\n",
        "          epochs=epochs_base_model)"
      ],
      "metadata": {
        "id": "-TkAEMo9iHht"
      },
      "execution_count": null,
      "outputs": []
    },
    {
      "cell_type": "markdown",
      "source": [
        "### Elbow"
      ],
      "metadata": {
        "id": "Lz1LDlNLeEEV"
      }
    },
    {
      "cell_type": "code",
      "source": [
        "elbow_base_model.parameters"
      ],
      "metadata": {
        "colab": {
          "base_uri": "https://localhost:8080/"
        },
        "id": "zRfBAhuSXg0K",
        "outputId": "f2273a0f-5e3b-4bbb-a6ca-7b502e96436a"
      },
      "execution_count": null,
      "outputs": [
        {
          "output_type": "execute_result",
          "data": {
            "text/plain": [
              "<bound method Module.parameters of base_model(\n",
              "  (block_1): Sequential(\n",
              "    (0): Conv2d(1, 10, kernel_size=(3, 3), stride=(1, 1), padding=(1, 1))\n",
              "    (1): ReLU()\n",
              "    (2): Conv2d(10, 10, kernel_size=(3, 3), stride=(1, 1), padding=(1, 1))\n",
              "    (3): ReLU()\n",
              "    (4): MaxPool2d(kernel_size=2, stride=2, padding=0, dilation=1, ceil_mode=False)\n",
              "  )\n",
              "  (block_2): Sequential(\n",
              "    (0): Conv2d(10, 10, kernel_size=(3, 3), stride=(1, 1), padding=(1, 1))\n",
              "    (1): ReLU()\n",
              "    (2): Conv2d(10, 10, kernel_size=(3, 3), stride=(1, 1), padding=(1, 1))\n",
              "    (3): ReLU()\n",
              "    (4): MaxPool2d(kernel_size=2, stride=2, padding=0, dilation=1, ceil_mode=False)\n",
              "  )\n",
              "  (classifier): Sequential(\n",
              "    (0): Flatten(start_dim=1, end_dim=-1)\n",
              "    (1): Linear(in_features=40960, out_features=2, bias=True)\n",
              "  )\n",
              ")>"
            ]
          },
          "metadata": {},
          "execution_count": 44
        }
      ]
    },
    {
      "cell_type": "code",
      "source": [
        "# create wrist base elbow and move to device\n",
        "torch.manual_seed(3)\n",
        "\n",
        "elbow_base_model = base_model(input_shape=50176, \n",
        "    hidden_units=10, \n",
        "    output_shape=len(elbow_test_dataset.classes)).to(device)\n",
        "\n",
        "optimizer_base_model = set_optimizer(elbow_base_model)\n",
        "\n",
        "elbow_base_model"
      ],
      "metadata": {
        "colab": {
          "base_uri": "https://localhost:8080/"
        },
        "id": "ctFunKQ1NTOE",
        "outputId": "92b8ec68-6553-47b1-f837-8b3bd22b8e3d"
      },
      "execution_count": null,
      "outputs": [
        {
          "output_type": "execute_result",
          "data": {
            "text/plain": [
              "base_model(\n",
              "  (block_1): Sequential(\n",
              "    (0): Conv2d(50176, 10, kernel_size=(3, 3), stride=(1, 1), padding=(1, 1))\n",
              "    (1): ReLU()\n",
              "    (2): Conv2d(10, 10, kernel_size=(3, 3), stride=(1, 1), padding=(1, 1))\n",
              "    (3): ReLU()\n",
              "    (4): MaxPool2d(kernel_size=2, stride=2, padding=0, dilation=1, ceil_mode=False)\n",
              "  )\n",
              "  (block_2): Sequential(\n",
              "    (0): Conv2d(10, 10, kernel_size=(3, 3), stride=(1, 1), padding=(1, 1))\n",
              "    (1): ReLU()\n",
              "    (2): Conv2d(10, 10, kernel_size=(3, 3), stride=(1, 1), padding=(1, 1))\n",
              "    (3): ReLU()\n",
              "    (4): MaxPool2d(kernel_size=2, stride=2, padding=0, dilation=1, ceil_mode=False)\n",
              "  )\n",
              "  (classifier): Sequential(\n",
              "    (0): Flatten(start_dim=1, end_dim=-1)\n",
              "    (1): Linear(in_features=40960, out_features=2, bias=True)\n",
              "  )\n",
              ")"
            ]
          },
          "metadata": {},
          "execution_count": 45
        }
      ]
    },
    {
      "cell_type": "code",
      "source": [
        "# train and test elbow base model\n",
        "run_model(train_data_loader=elbow_train_dataloader, test_data_loader=elbow_test_dataloader,\n",
        "          model=elbow_base_model, loss_fn=loss_fn_base_model, optimizer=optimizer_base_model, accuracy_fn=accuracy_fn,\n",
        "          epochs=epochs_base_model)"
      ],
      "metadata": {
        "id": "Ib6E5AdwOnPW"
      },
      "execution_count": null,
      "outputs": []
    },
    {
      "cell_type": "markdown",
      "source": [
        "Elbow With batch size = 1\n",
        " \n",
        "  0%|          | 0/3 [00:00<?, ?it/s]Epoch: 0\n",
        "---------\n",
        "Train loss: 2927377804200474425950208.00000 | Train accuracy: 57.96%\n",
        " 33%|███▎      | 1/3 [1:32:51<3:05:42, 5571.33s/it]Test loss: 0.68236 | Test accuracy: 59.32%\n",
        "\n",
        "Epoch: 1\n",
        "---------\n",
        "Train loss: 0.68688 | Train accuracy: 57.41%\n",
        " 67%|██████▋   | 2/3 [1:34:09<39:00, 2340.27s/it]  Test loss: 0.70821 | Test accuracy: 59.32%\n",
        "\n",
        "Epoch: 2\n",
        "---------\n",
        "Train loss: 0.68935 | Train accuracy: 57.70%\n",
        "100%|██████████| 3/3 [1:35:26<00:00, 1908.91s/it]Test loss: 0.71157 | Test accuracy: 40.68%\n",
        "\n"
      ],
      "metadata": {
        "id": "EBNgL3ucCTxo"
      }
    },
    {
      "cell_type": "markdown",
      "source": [
        "Elbow With batch size = 32\n",
        "\n",
        "0%|          | 0/3 [00:00<?, ?it/s]Epoch: 0\n",
        "---------\n",
        "Train loss: 0.67527 | Train accuracy: 59.56%\n",
        " 33%|███▎      | 1/3 [19:56<39:53, 1196.83s/it]Test loss: 0.67626 | Test accuracy: 59.36%\n",
        "\n",
        "Epoch: 1\n",
        "---------\n",
        "Train loss: 0.67621 | Train accuracy: 59.36%\n",
        " 67%|██████▋   | 2/3 [21:01<08:50, 530.74s/it] Test loss: 0.67643 | Test accuracy: 59.17%\n",
        "\n",
        "Epoch: 2\n",
        "---------\n",
        "Train loss: 0.67608 | Train accuracy: 59.36%\n",
        "100%|██████████| 3/3 [22:04<00:00, 441.58s/it]Test loss: 0.67713 | Test accuracy: 58.97%\n",
        "\n",
        "\n",
        "Train time on cuda: 22.079 minutes\n"
      ],
      "metadata": {
        "id": "dKp6RKk1CTmp"
      }
    },
    {
      "cell_type": "markdown",
      "source": [
        "### Finger"
      ],
      "metadata": {
        "id": "6dVZbS5ogzLe"
      }
    },
    {
      "cell_type": "code",
      "source": [
        "# create finger base model and move to device\n",
        "torch.manual_seed(seed)\n",
        "\n",
        "finger_base_model = base_model(input_shape=1, \n",
        "    hidden_units=10, \n",
        "    output_shape=len(finger_test_dataset.classes)).to(device)\n",
        "\n",
        "optimizer_base_model = set_optimizer(finger_base_model)\n",
        "\n",
        "finger_base_model"
      ],
      "metadata": {
        "colab": {
          "base_uri": "https://localhost:8080/"
        },
        "id": "VNn-Oy9GiI3U",
        "outputId": "966bc297-ab1f-42c0-f032-8fac202af590"
      },
      "execution_count": null,
      "outputs": [
        {
          "output_type": "execute_result",
          "data": {
            "text/plain": [
              "base_model(\n",
              "  (block_1): Sequential(\n",
              "    (0): Conv2d(1, 10, kernel_size=(3, 3), stride=(1, 1), padding=(1, 1))\n",
              "    (1): ReLU()\n",
              "    (2): Conv2d(10, 10, kernel_size=(3, 3), stride=(1, 1), padding=(1, 1))\n",
              "    (3): ReLU()\n",
              "    (4): MaxPool2d(kernel_size=2, stride=2, padding=0, dilation=1, ceil_mode=False)\n",
              "  )\n",
              "  (block_2): Sequential(\n",
              "    (0): Conv2d(10, 10, kernel_size=(3, 3), stride=(1, 1), padding=(1, 1))\n",
              "    (1): ReLU()\n",
              "    (2): Conv2d(10, 10, kernel_size=(3, 3), stride=(1, 1), padding=(1, 1))\n",
              "    (3): ReLU()\n",
              "    (4): MaxPool2d(kernel_size=2, stride=2, padding=0, dilation=1, ceil_mode=False)\n",
              "  )\n",
              "  (classifier): Sequential(\n",
              "    (0): Flatten(start_dim=1, end_dim=-1)\n",
              "    (1): Linear(in_features=40960, out_features=2, bias=True)\n",
              "  )\n",
              ")"
            ]
          },
          "metadata": {},
          "execution_count": 139
        }
      ]
    },
    {
      "cell_type": "code",
      "source": [
        "# train and test finger base model\n",
        "run_model(train_data_loader=finger_train_dataloader, test_data_loader=finger_test_dataloader,\n",
        "          model=finger_base_model, loss_fn=loss_fn_base_model, optimizer=optimizer_base_model, accuracy_fn=accuracy_fn,\n",
        "          epochs=epochs_base_model)"
      ],
      "metadata": {
        "id": "BFpPoKqoiI0I"
      },
      "execution_count": null,
      "outputs": []
    },
    {
      "cell_type": "markdown",
      "source": [
        "# Vision Transfomer"
      ],
      "metadata": {
        "id": "jn_3VhpYId3w"
      }
    },
    {
      "cell_type": "markdown",
      "source": [
        "https://huggingface.co/blog/fine-tune-vit\n",
        "\n",
        " https://www.learnpytorch.io/04_pytorch_custom_datasets/#41-turn-loaded-images-into-dataloaders"
      ],
      "metadata": {
        "id": "WIuZKeMFJHde"
      }
    },
    {
      "cell_type": "code",
      "source": [
        "#pre_trained model we are using\n",
        "model_name_or_path = 'google/vit-base-patch16-224-in21k'"
      ],
      "metadata": {
        "id": "ZiZu6r3kp-JU"
      },
      "execution_count": null,
      "outputs": []
    },
    {
      "cell_type": "markdown",
      "source": [
        "Images are resized/rescaled to the same resolution (224x224) and normalized across the RGB channels with mean (0.5, 0.5, 0.5) and standard deviation (0.5, 0.5, 0.5)."
      ],
      "metadata": {
        "id": "zNI0VXqcJEwf"
      }
    },
    {
      "cell_type": "code",
      "source": [
        "feature_extractor = ViTImageProcessor.from_pretrained(model_name_or_path)\n",
        "feature_extractor"
      ],
      "metadata": {
        "id": "ZSRuN8Cj2HDt",
        "colab": {
          "base_uri": "https://localhost:8080/",
          "height": 423,
          "referenced_widgets": [
            "ad30d24c0de340beb63a124e4164a80b",
            "dad6d63e2649427a9f40aa53fac93765",
            "8b3587a976394023b07ef8089ecdaa69",
            "60e14d12a9174723a84ac94cf6aadd9c",
            "00e09263dece46f2bb4bf87fc702924d",
            "cc529038da864c14832f0ca2454bae65",
            "36dbe016f6d646028ee80eb6923c01f9",
            "922774cbed4a4d19ac1848d5bcd3b2ef",
            "9e117c8e5f2241ab932ad9473b8be7cc",
            "c42f23248bd3464cb80cd8a75249217e",
            "73f0386da7b3446aa696d628747891e1"
          ]
        },
        "outputId": "7704bf9c-eb5c-401d-a7f4-13eb6d34baf3"
      },
      "execution_count": null,
      "outputs": [
        {
          "output_type": "display_data",
          "data": {
            "text/plain": [
              "Downloading (…)rocessor_config.json:   0%|          | 0.00/160 [00:00<?, ?B/s]"
            ],
            "application/vnd.jupyter.widget-view+json": {
              "version_major": 2,
              "version_minor": 0,
              "model_id": "ad30d24c0de340beb63a124e4164a80b"
            }
          },
          "metadata": {}
        },
        {
          "output_type": "execute_result",
          "data": {
            "text/plain": [
              "ViTImageProcessor {\n",
              "  \"do_normalize\": true,\n",
              "  \"do_rescale\": true,\n",
              "  \"do_resize\": true,\n",
              "  \"image_mean\": [\n",
              "    0.5,\n",
              "    0.5,\n",
              "    0.5\n",
              "  ],\n",
              "  \"image_processor_type\": \"ViTImageProcessor\",\n",
              "  \"image_std\": [\n",
              "    0.5,\n",
              "    0.5,\n",
              "    0.5\n",
              "  ],\n",
              "  \"resample\": 2,\n",
              "  \"rescale_factor\": 0.00392156862745098,\n",
              "  \"size\": {\n",
              "    \"height\": 224,\n",
              "    \"width\": 224\n",
              "  }\n",
              "}"
            ]
          },
          "metadata": {},
          "execution_count": 29
        }
      ]
    },
    {
      "cell_type": "markdown",
      "source": [
        "## Create Custom Datasets"
      ],
      "metadata": {
        "id": "X-yUkmJisPxJ"
      }
    },
    {
      "cell_type": "code",
      "source": [
        "# need to make images 3 channel for conform with pre trained model\n",
        "ViT_transform = transforms.Compose([transforms.Grayscale(num_output_channels=3),\n",
        "                                             transforms.ToTensor()\n",
        "                                             ])"
      ],
      "metadata": {
        "id": "JQC4UFkDki1K"
      },
      "execution_count": null,
      "outputs": []
    },
    {
      "cell_type": "code",
      "source": [
        "f = ViTFeatureExtractor.from_pretrained(model_name_or_path)"
      ],
      "metadata": {
        "id": "UrbKKkCrG-8C"
      },
      "execution_count": null,
      "outputs": []
    },
    {
      "cell_type": "code",
      "source": [
        "#create custom dataset class to make our MURA dataset work with the pre-trained ViT\n",
        "class ViT_MuraDataset(Dataset):\n",
        "    def __init__(self, mura_df, two_targets, transform = ViT_transform, model_name_or_path=model_name_or_path):\n",
        "        self.mura = mura_df\n",
        "        self.transform = transform\n",
        "        self.classes, self.class_to_idx = class_dict(two_targets=two_targets)\n",
        "        #pre-process image like pre_trained model\n",
        "        self.feature_extractor = ViTFeatureExtractor.from_pretrained(model_name_or_path)\n",
        "        #self.feature_extractor = ViTImageProcessor.from_pretrained(model_name_or_path)\n",
        "\n",
        "    def __len__(self):\n",
        "        return len(self.mura)\n",
        "\n",
        "    def get_image_class(self, index):\n",
        "        image_path = self.mura.iloc[index]['image_path']\n",
        "        class_name = self.mura.iloc[index]['target']\n",
        "        #return read_image(image_path), class_name\n",
        "        return Image.open(image_path), class_name  \n",
        "\n",
        "    # helper function to preprocess image and make image label form for model\n",
        "    def process_example(self, example, label):\n",
        "      inputs = self.feature_extractor(example, return_tensors='pt')\n",
        "      # did not want batches in pixel_values as we will collate_fn values ourselves\n",
        "      inputs['pixel_values'] = torch.squeeze(inputs['pixel_values'])\n",
        "      inputs['labels'] = label\n",
        "      return inputs\n",
        "\n",
        "    def __getitem__(self, idx):\n",
        "        image, class_name = self.get_image_class(idx)\n",
        "        image = self.transform(image)\n",
        "        label = self.class_to_idx[class_name]\n",
        "        return self.process_example(example=image,label=label)\n"
      ],
      "metadata": {
        "id": "2pH5139P5eKd"
      },
      "execution_count": null,
      "outputs": []
    },
    {
      "cell_type": "code",
      "source": [
        "# create ViT test and train datasets for 14 targets\n",
        "ViT_mura_train_14_dataset = ViT_MuraDataset(mura_df = mura_train_14, two_targets=False)\n",
        "ViT_mura_test_14_dataset = ViT_MuraDataset(mura_df = mura_test_14, two_targets=False)"
      ],
      "metadata": {
        "colab": {
          "base_uri": "https://localhost:8080/"
        },
        "id": "w9ofsZwV29_z",
        "outputId": "29440ff4-4ce8-46e3-a2e2-4450f6fcbf2b"
      },
      "execution_count": null,
      "outputs": [
        {
          "output_type": "stream",
          "name": "stderr",
          "text": [
            "/usr/local/lib/python3.9/dist-packages/transformers/models/vit/feature_extraction_vit.py:28: FutureWarning: The class ViTFeatureExtractor is deprecated and will be removed in version 5 of Transformers. Please use ViTImageProcessor instead.\n",
            "  warnings.warn(\n"
          ]
        }
      ]
    },
    {
      "cell_type": "code",
      "source": [
        "ViT_mura_train_14_dataset[0]['pixel_values'].shape"
      ],
      "metadata": {
        "colab": {
          "base_uri": "https://localhost:8080/"
        },
        "id": "MiECfWer3blg",
        "outputId": "15155317-4dda-4e72-bbf4-de332159e7b6"
      },
      "execution_count": null,
      "outputs": [
        {
          "output_type": "execute_result",
          "data": {
            "text/plain": [
              "torch.Size([3, 224, 224])"
            ]
          },
          "metadata": {},
          "execution_count": 33
        }
      ]
    },
    {
      "cell_type": "code",
      "source": [
        "ViT_mura_train_14_dataset[0]"
      ],
      "metadata": {
        "colab": {
          "base_uri": "https://localhost:8080/"
        },
        "id": "3fkP0h1w3muW",
        "outputId": "d28721b7-8eda-4395-c0ea-73145696a19d"
      },
      "execution_count": null,
      "outputs": [
        {
          "output_type": "execute_result",
          "data": {
            "text/plain": [
              "{'pixel_values': tensor([[[-0.8588, -0.9216, -0.9373,  ..., -0.9451, -0.9451, -0.9373],\n",
              "         [-0.9451, -0.9529, -0.9451,  ..., -0.9529, -0.9529, -0.9529],\n",
              "         [-0.9451, -0.9451, -0.9451,  ..., -0.9608, -0.9529, -0.9529],\n",
              "         ...,\n",
              "         [-0.9059, -0.8824, -0.8588,  ..., -0.9451, -0.9451, -0.9451],\n",
              "         [-0.9373, -0.9216, -0.9137,  ..., -0.9608, -0.9608, -0.9608],\n",
              "         [-0.9373, -0.9373, -0.9294,  ..., -0.9686, -0.9686, -0.9686]],\n",
              "\n",
              "        [[-0.8588, -0.9216, -0.9373,  ..., -0.9451, -0.9451, -0.9373],\n",
              "         [-0.9451, -0.9529, -0.9451,  ..., -0.9529, -0.9529, -0.9529],\n",
              "         [-0.9451, -0.9451, -0.9451,  ..., -0.9608, -0.9529, -0.9529],\n",
              "         ...,\n",
              "         [-0.9059, -0.8824, -0.8588,  ..., -0.9451, -0.9451, -0.9451],\n",
              "         [-0.9373, -0.9216, -0.9137,  ..., -0.9608, -0.9608, -0.9608],\n",
              "         [-0.9373, -0.9373, -0.9294,  ..., -0.9686, -0.9686, -0.9686]],\n",
              "\n",
              "        [[-0.8588, -0.9216, -0.9373,  ..., -0.9451, -0.9451, -0.9373],\n",
              "         [-0.9451, -0.9529, -0.9451,  ..., -0.9529, -0.9529, -0.9529],\n",
              "         [-0.9451, -0.9451, -0.9451,  ..., -0.9608, -0.9529, -0.9529],\n",
              "         ...,\n",
              "         [-0.9059, -0.8824, -0.8588,  ..., -0.9451, -0.9451, -0.9451],\n",
              "         [-0.9373, -0.9216, -0.9137,  ..., -0.9608, -0.9608, -0.9608],\n",
              "         [-0.9373, -0.9373, -0.9294,  ..., -0.9686, -0.9686, -0.9686]]]), 'labels': 10}"
            ]
          },
          "metadata": {},
          "execution_count": 34
        }
      ]
    },
    {
      "cell_type": "code",
      "source": [
        "# create ViT train datasets by region\n",
        "ViT_shoulder_train_dataset = ViT_MuraDataset(mura_df = shoulder_train, two_targets=True)\n",
        "ViT_humerus_train_dataset = ViT_MuraDataset(mura_df = humerus_train, two_targets=True)\n",
        "ViT_finger_train_dataset = ViT_MuraDataset(mura_df = finger_train, two_targets=True)\n",
        "ViT_elbow_train_dataset = ViT_MuraDataset(mura_df = elbow_train, two_targets=True)\n",
        "ViT_wrist_train_dataset = ViT_MuraDataset(mura_df = wrist_train, two_targets=True)\n",
        "ViT_forearm_train_dataset = ViT_MuraDataset(mura_df = forearm_train, two_targets=True)\n",
        "ViT_hand_train_dataset = ViT_MuraDataset(mura_df = hand_train, two_targets=True)\n",
        "\n",
        "\n",
        "# create ViT test datasets by region\n",
        "ViT_shoulder_test_dataset = ViT_MuraDataset(mura_df = shoulder_test, two_targets=True)\n",
        "ViT_humerus_test_dataset = ViT_MuraDataset(mura_df = humerus_test, two_targets=True)\n",
        "ViT_finger_test_dataset = ViT_MuraDataset(mura_df = finger_test, two_targets=True)\n",
        "ViT_elbow_test_dataset = ViT_MuraDataset(mura_df = elbow_test, two_targets=True)\n",
        "ViT_wrist_test_dataset = ViT_MuraDataset(mura_df = wrist_test, two_targets=True)\n",
        "ViT_forearm_test_dataset = ViT_MuraDataset(mura_df = forearm_test, two_targets=True)\n",
        "ViT_hand_test_dataset = ViT_MuraDataset(mura_df = hand_test, two_targets=True)"
      ],
      "metadata": {
        "id": "bI72tqHRTaMk"
      },
      "execution_count": null,
      "outputs": []
    },
    {
      "cell_type": "code",
      "source": [
        "ViT_finger_train_dataset[0]"
      ],
      "metadata": {
        "colab": {
          "base_uri": "https://localhost:8080/"
        },
        "id": "i6aufE2-ggIi",
        "outputId": "b43cb4c6-ab8b-48be-be4f-d2eb790d28d0"
      },
      "execution_count": null,
      "outputs": [
        {
          "output_type": "execute_result",
          "data": {
            "text/plain": [
              "{'pixel_values': tensor([[[-0.9922, -0.9922, -0.9922,  ..., -1.0000, -0.9922, -0.9922],\n",
              "         [-0.9922, -0.9922, -0.9922,  ..., -0.9922, -1.0000, -0.9922],\n",
              "         [-0.9922, -0.9922, -0.9922,  ..., -0.9922, -0.9922, -0.9922],\n",
              "         ...,\n",
              "         [-0.9922, -0.9922, -0.9922,  ..., -0.9922, -0.9922, -0.9922],\n",
              "         [-0.9922, -1.0000, -0.9922,  ..., -0.9922, -0.9922, -0.9922],\n",
              "         [-0.9922, -0.9922, -0.9922,  ..., -0.9922, -0.9922, -0.9922]],\n",
              "\n",
              "        [[-0.9922, -0.9922, -0.9922,  ..., -1.0000, -0.9922, -0.9922],\n",
              "         [-0.9922, -0.9922, -0.9922,  ..., -0.9922, -1.0000, -0.9922],\n",
              "         [-0.9922, -0.9922, -0.9922,  ..., -0.9922, -0.9922, -0.9922],\n",
              "         ...,\n",
              "         [-0.9922, -0.9922, -0.9922,  ..., -0.9922, -0.9922, -0.9922],\n",
              "         [-0.9922, -1.0000, -0.9922,  ..., -0.9922, -0.9922, -0.9922],\n",
              "         [-0.9922, -0.9922, -0.9922,  ..., -0.9922, -0.9922, -0.9922]],\n",
              "\n",
              "        [[-0.9922, -0.9922, -0.9922,  ..., -1.0000, -0.9922, -0.9922],\n",
              "         [-0.9922, -0.9922, -0.9922,  ..., -0.9922, -1.0000, -0.9922],\n",
              "         [-0.9922, -0.9922, -0.9922,  ..., -0.9922, -0.9922, -0.9922],\n",
              "         ...,\n",
              "         [-0.9922, -0.9922, -0.9922,  ..., -0.9922, -0.9922, -0.9922],\n",
              "         [-0.9922, -1.0000, -0.9922,  ..., -0.9922, -0.9922, -0.9922],\n",
              "         [-0.9922, -0.9922, -0.9922,  ..., -0.9922, -0.9922, -0.9922]]]), 'labels': 1}"
            ]
          },
          "metadata": {},
          "execution_count": 37
        }
      ]
    },
    {
      "cell_type": "code",
      "source": [
        "ViT_finger_train_dataset[0]['pixel_values'].shape"
      ],
      "metadata": {
        "id": "sBRquu7TpPq1",
        "outputId": "0cd6b01e-279b-4c64-d798-9655e6e2f5fb",
        "colab": {
          "base_uri": "https://localhost:8080/"
        }
      },
      "execution_count": null,
      "outputs": [
        {
          "output_type": "execute_result",
          "data": {
            "text/plain": [
              "torch.Size([3, 224, 224])"
            ]
          },
          "metadata": {},
          "execution_count": 38
        }
      ]
    },
    {
      "cell_type": "code",
      "source": [
        "# define our collate function\n",
        "def collate_fn(batch):\n",
        "    return {\n",
        "        'pixel_values': torch.stack([x['pixel_values'] for x in batch]),\n",
        "        'labels': torch.tensor([x['labels'] for x in batch])\n",
        "    }"
      ],
      "metadata": {
        "id": "QV6dWwCT3-zx"
      },
      "execution_count": null,
      "outputs": []
    },
    {
      "cell_type": "code",
      "source": [
        "# create dataloader to test our collate_fn and dataset\n",
        "ViT_mura_train_14_dataloader = DataLoader(ViT_mura_train_14_dataset, batch_size=32, shuffle=True, collate_fn=collate_fn)\n",
        "ViT_elbow_train_dataloader = DataLoader(ViT_elbow_train_dataset, batch_size=32, shuffle=True, collate_fn=collate_fn)"
      ],
      "metadata": {
        "id": "wmsseNgx7w-S"
      },
      "execution_count": null,
      "outputs": []
    },
    {
      "cell_type": "code",
      "source": [
        "ex = next(iter(ViT_mura_train_14_dataloader))\n",
        "ex['pixel_values'].shape"
      ],
      "metadata": {
        "colab": {
          "base_uri": "https://localhost:8080/"
        },
        "id": "XflB6TIH5PaW",
        "outputId": "1e2c634e-d4dc-4a8d-89e6-023c1a8dda88"
      },
      "execution_count": null,
      "outputs": [
        {
          "output_type": "execute_result",
          "data": {
            "text/plain": [
              "torch.Size([32, 3, 224, 224])"
            ]
          },
          "metadata": {},
          "execution_count": 41
        }
      ]
    },
    {
      "cell_type": "code",
      "source": [
        "ex = next(iter(ViT_elbow_train_dataloader))\n",
        "ex['pixel_values'].shape"
      ],
      "metadata": {
        "colab": {
          "base_uri": "https://localhost:8080/"
        },
        "id": "HPcVfreH5tve",
        "outputId": "cfc47673-5413-472a-d43d-a657da4b00b3"
      },
      "execution_count": null,
      "outputs": [
        {
          "output_type": "execute_result",
          "data": {
            "text/plain": [
              "torch.Size([32, 3, 224, 224])"
            ]
          },
          "metadata": {},
          "execution_count": 42
        }
      ]
    },
    {
      "cell_type": "markdown",
      "source": [
        "## Run ViT Models"
      ],
      "metadata": {
        "id": "TG6VuMfdw0Qd"
      }
    },
    {
      "cell_type": "code",
      "source": [
        "# define metric same as base model\n",
        "metric = load_metric(\"accuracy\")\n",
        "#metric = load_metric(\"precision\")\n",
        "def compute_metrics(p):\n",
        "    return metric.compute(predictions=np.argmax(p.predictions, axis=1), references=p.label_ids)"
      ],
      "metadata": {
        "id": "L-tVRvoR3-wq",
        "colab": {
          "base_uri": "https://localhost:8080/",
          "height": 103,
          "referenced_widgets": [
            "4a1d410508a845e08bc14220fed2dc9c",
            "1ae340862566434b9598fc5a7d4b4719",
            "86c4d5f3d839416b90bf90f47918cacb",
            "a88e460b3661484c82f938926c4ffc1d",
            "0fbbb19a2213414394e85b914152a928",
            "b50fd62bc02d4f9fb5f313282b89db81",
            "61512858a87e48b28aae0998f3a425de",
            "8ce8974802a64e2e98fbaf94ff9bf252",
            "d17c9dcd65cc4dd7b099c5f3e007a6db",
            "698a3f985aca4d94ae57ca70b5908ac8",
            "34dfbbe3d995445ebba8dae85b910489"
          ]
        },
        "outputId": "2c7e0f60-5dca-4e03-9623-3875716fc85e"
      },
      "execution_count": null,
      "outputs": [
        {
          "output_type": "stream",
          "name": "stderr",
          "text": [
            "<ipython-input-43-47207ee85e0a>:2: FutureWarning: load_metric is deprecated and will be removed in the next major version of datasets. Use 'evaluate.load' instead, from the new library 🤗 Evaluate: https://huggingface.co/docs/evaluate\n",
            "  metric = load_metric(\"accuracy\")\n"
          ]
        },
        {
          "output_type": "display_data",
          "data": {
            "text/plain": [
              "Downloading builder script:   0%|          | 0.00/1.65k [00:00<?, ?B/s]"
            ],
            "application/vnd.jupyter.widget-view+json": {
              "version_major": 2,
              "version_minor": 0,
              "model_id": "4a1d410508a845e08bc14220fed2dc9c"
            }
          },
          "metadata": {}
        }
      ]
    },
    {
      "cell_type": "code",
      "source": [
        "# training argument for all ViTs\n",
        "training_args = TrainingArguments(\n",
        "  # save checkpoints and predictions to this directory\n",
        "  output_dir=\"drive/MyDrive/Colab Notebooks/Training_Checkpoints\",\n",
        "  per_device_train_batch_size=32,\n",
        "  evaluation_strategy=\"steps\",\n",
        "  num_train_epochs=4,\n",
        "  fp16=True,\n",
        "  save_steps=100,\n",
        "  eval_steps=100,\n",
        "  logging_steps=10,\n",
        "  learning_rate=2e-4,\n",
        "  save_total_limit=2,\n",
        "  remove_unused_columns=False,\n",
        "  push_to_hub=False,\n",
        "  report_to='tensorboard',\n",
        "  load_best_model_at_end=True,\n",
        ")"
      ],
      "metadata": {
        "id": "pRabwvuz3-oV"
      },
      "execution_count": null,
      "outputs": []
    },
    {
      "cell_type": "code",
      "source": [
        "#labels for model\n",
        "labels = class_dict(two_targets=True)[0]\n",
        "labels_14 = class_dict(two_targets=False)[0]"
      ],
      "metadata": {
        "id": "bEwY0roUxTwr"
      },
      "execution_count": null,
      "outputs": []
    },
    {
      "cell_type": "code",
      "source": [
        "# function to run our ViT models\n",
        "def run_ViT(trainer):\n",
        "    train_results = trainer.train()\n",
        "    trainer.save_model()\n",
        "    trainer.log_metrics(\"train\", train_results.metrics)\n",
        "    trainer.save_metrics(\"train\", train_results.metrics)\n",
        "    trainer.save_state()\n",
        "\n",
        "    return train_results"
      ],
      "metadata": {
        "id": "ZSZtbJGt8pBR"
      },
      "execution_count": null,
      "outputs": []
    },
    {
      "cell_type": "code",
      "source": [
        "# function to run our ViT models\n",
        "def resume_run_ViT(trainer):\n",
        "    train_results = trainer.train(resume_from_checkpoint = True)\n",
        "    trainer.save_model()\n",
        "    trainer.log_metrics(\"train\", train_results.metrics)\n",
        "    trainer.save_metrics(\"train\", train_results.metrics)\n",
        "    trainer.save_state()\n",
        "\n",
        "    return train_results"
      ],
      "metadata": {
        "id": "s2X2qV8t7WqZ"
      },
      "execution_count": null,
      "outputs": []
    },
    {
      "cell_type": "code",
      "source": [
        "#create ViT pre-trained model for 2 targets and 14 targetsd\n",
        "ViT_2_target_model = ViTForImageClassification.from_pretrained(\n",
        "    model_name_or_path,\n",
        "    num_labels=len(labels),\n",
        "    id2label={str(i): c for i, c in enumerate(labels)},\n",
        "    label2id={c: str(i) for i, c in enumerate(labels)}\n",
        ")\n",
        "\n",
        "ViT_2_target_model = ViTForImageClassification.from_pretrained(\n",
        "    model_name_or_path,\n",
        "    num_labels=len(labels),\n",
        "    id2label={str(i): c for i, c in enumerate(labels)},\n",
        "    label2id={c: str(i) for i, c in enumerate(labels)}\n",
        ")"
      ],
      "metadata": {
        "colab": {
          "base_uri": "https://localhost:8080/",
          "height": 271,
          "referenced_widgets": [
            "3093438513a64168926ee9f335db7ef6",
            "3422851e615f4e68aa3635aa3fcd3ccf",
            "003e136f6b32449abba1b2e549fcb8ee",
            "a2347fa134c04d5db02202d8a73c86b1",
            "14b3b1a0a4b943558c1348de5a3156e7",
            "33a5ff833315429e8771b8f6e21e6a0e",
            "22dff9301e8d4dde8cc5031cd396c161",
            "6d3b53d15e0a43428c32a15919db33f3",
            "90564192aaec4d26ae99303689190ba0",
            "65b749ffa05b4d299c263dfd9c9d77c2",
            "052be2359a484c2ab2b49c93d1625981",
            "220eb66d3d6d4195a08771145e0eded1",
            "8decc903de0b4f28810dc0589c785774",
            "9c513b52a9e345feb0a294c115633ee7",
            "53c79205cd4e4ecabe7549a50dc1f59a",
            "0dd4bf1735834648950f532e7c92b468",
            "c32de2da8ab844b2b25f960e8cfab741",
            "8a50324e644e4ceb80cfb0b11afcc13b",
            "2454ea30f6fc4500a9d09641c8243f9d",
            "a149efae76444ab389dc3e6a315b998a",
            "de30d6e7142e429982fb7a803a749c42",
            "b3229e7a8f12429bab61f71dec9ed6c0"
          ]
        },
        "id": "0uAwBAGV9jDL",
        "outputId": "08ec9e6a-b3f0-47fa-8cc2-de404bf313be"
      },
      "execution_count": null,
      "outputs": [
        {
          "output_type": "display_data",
          "data": {
            "text/plain": [
              "Downloading (…)lve/main/config.json:   0%|          | 0.00/502 [00:00<?, ?B/s]"
            ],
            "application/vnd.jupyter.widget-view+json": {
              "version_major": 2,
              "version_minor": 0,
              "model_id": "3093438513a64168926ee9f335db7ef6"
            }
          },
          "metadata": {}
        },
        {
          "output_type": "display_data",
          "data": {
            "text/plain": [
              "Downloading pytorch_model.bin:   0%|          | 0.00/346M [00:00<?, ?B/s]"
            ],
            "application/vnd.jupyter.widget-view+json": {
              "version_major": 2,
              "version_minor": 0,
              "model_id": "220eb66d3d6d4195a08771145e0eded1"
            }
          },
          "metadata": {}
        },
        {
          "output_type": "stream",
          "name": "stderr",
          "text": [
            "Some weights of the model checkpoint at google/vit-base-patch16-224-in21k were not used when initializing ViTForImageClassification: ['pooler.dense.bias', 'pooler.dense.weight']\n",
            "- This IS expected if you are initializing ViTForImageClassification from the checkpoint of a model trained on another task or with another architecture (e.g. initializing a BertForSequenceClassification model from a BertForPreTraining model).\n",
            "- This IS NOT expected if you are initializing ViTForImageClassification from the checkpoint of a model that you expect to be exactly identical (initializing a BertForSequenceClassification model from a BertForSequenceClassification model).\n",
            "Some weights of ViTForImageClassification were not initialized from the model checkpoint at google/vit-base-patch16-224-in21k and are newly initialized: ['classifier.weight', 'classifier.bias']\n",
            "You should probably TRAIN this model on a down-stream task to be able to use it for predictions and inference.\n",
            "Some weights of the model checkpoint at google/vit-base-patch16-224-in21k were not used when initializing ViTForImageClassification: ['pooler.dense.bias', 'pooler.dense.weight']\n",
            "- This IS expected if you are initializing ViTForImageClassification from the checkpoint of a model trained on another task or with another architecture (e.g. initializing a BertForSequenceClassification model from a BertForPreTraining model).\n",
            "- This IS NOT expected if you are initializing ViTForImageClassification from the checkpoint of a model that you expect to be exactly identical (initializing a BertForSequenceClassification model from a BertForSequenceClassification model).\n",
            "Some weights of ViTForImageClassification were not initialized from the model checkpoint at google/vit-base-patch16-224-in21k and are newly initialized: ['classifier.weight', 'classifier.bias']\n",
            "You should probably TRAIN this model on a down-stream task to be able to use it for predictions and inference.\n"
          ]
        }
      ]
    },
    {
      "cell_type": "markdown",
      "source": [
        "### 14 targets"
      ],
      "metadata": {
        "id": "4Dbega7y7RCf"
      }
    },
    {
      "cell_type": "code",
      "source": [
        "#create trainer for 14 target ViT model\n",
        "ViT_14_target_trainer = Trainer(\n",
        "    model=ViT_14_target_model,\n",
        "    args=training_args,\n",
        "    data_collator=collate_fn,\n",
        "    compute_metrics=compute_metrics,\n",
        "    train_dataset=ViT_mura_train_14_dataset,\n",
        "    eval_dataset=ViT_mura_test_14_dataset,\n",
        "    tokenizer=feature_extractor,\n",
        ")"
      ],
      "metadata": {
        "id": "iHRx1SqK7y_F"
      },
      "execution_count": null,
      "outputs": []
    },
    {
      "cell_type": "code",
      "source": [
        "# run 14 target ViT model\n",
        "ViT_14_targets_results = run_ViT(ViT_14_target_trainer)"
      ],
      "metadata": {
        "id": "gPkfsoDK7y2m"
      },
      "execution_count": null,
      "outputs": []
    },
    {
      "cell_type": "code",
      "source": [
        "print(ViT_14_targets_results)"
      ],
      "metadata": {
        "id": "3ctTMALpCGDf"
      },
      "execution_count": null,
      "outputs": []
    },
    {
      "cell_type": "markdown",
      "source": [
        "### Wrist"
      ],
      "metadata": {
        "id": "7bEyLUBZ7Q3V"
      }
    },
    {
      "cell_type": "code",
      "source": [
        "#create trainer for wrist ViT model\n",
        "ViT_wrist_trainer = Trainer(\n",
        "    model=ViT_2_target_model,\n",
        "    args=training_args,\n",
        "    data_collator=collate_fn,\n",
        "    compute_metrics=compute_metrics,\n",
        "    train_dataset=ViT_wrist_train_dataset,\n",
        "    eval_dataset=ViT_wrist_test_dataset,\n",
        "    tokenizer=feature_extractor,\n",
        ")"
      ],
      "metadata": {
        "id": "A2MS64tY9EJX"
      },
      "execution_count": null,
      "outputs": []
    },
    {
      "cell_type": "code",
      "source": [
        "# run wrist ViT model\n",
        "wrist_ViT_results = run_ViT(ViT_wrist_trainer)"
      ],
      "metadata": {
        "id": "2alEbD3i9Dax",
        "colab": {
          "base_uri": "https://localhost:8080/",
          "height": 566
        },
        "outputId": "0b06f4ee-8681-4020-acd8-16535952c012"
      },
      "execution_count": null,
      "outputs": [
        {
          "output_type": "display_data",
          "data": {
            "text/plain": [
              "<IPython.core.display.HTML object>"
            ],
            "text/html": [
              "\n",
              "    <div>\n",
              "      \n",
              "      <progress value='1220' max='1220' style='width:300px; height:20px; vertical-align: middle;'></progress>\n",
              "      [1220/1220 1:28:39, Epoch 4/4]\n",
              "    </div>\n",
              "    <table border=\"1\" class=\"dataframe\">\n",
              "  <thead>\n",
              " <tr style=\"text-align: left;\">\n",
              "      <th>Step</th>\n",
              "      <th>Training Loss</th>\n",
              "      <th>Validation Loss</th>\n",
              "      <th>Accuracy</th>\n",
              "    </tr>\n",
              "  </thead>\n",
              "  <tbody>\n",
              "    <tr>\n",
              "      <td>100</td>\n",
              "      <td>0.532200</td>\n",
              "      <td>0.593394</td>\n",
              "      <td>0.685888</td>\n",
              "    </tr>\n",
              "    <tr>\n",
              "      <td>200</td>\n",
              "      <td>0.516300</td>\n",
              "      <td>0.525224</td>\n",
              "      <td>0.729894</td>\n",
              "    </tr>\n",
              "    <tr>\n",
              "      <td>300</td>\n",
              "      <td>0.486700</td>\n",
              "      <td>0.499273</td>\n",
              "      <td>0.752656</td>\n",
              "    </tr>\n",
              "    <tr>\n",
              "      <td>400</td>\n",
              "      <td>0.403900</td>\n",
              "      <td>0.503924</td>\n",
              "      <td>0.764795</td>\n",
              "    </tr>\n",
              "    <tr>\n",
              "      <td>500</td>\n",
              "      <td>0.430700</td>\n",
              "      <td>0.449181</td>\n",
              "      <td>0.798179</td>\n",
              "    </tr>\n",
              "    <tr>\n",
              "      <td>600</td>\n",
              "      <td>0.358500</td>\n",
              "      <td>0.428768</td>\n",
              "      <td>0.817906</td>\n",
              "    </tr>\n",
              "    <tr>\n",
              "      <td>700</td>\n",
              "      <td>0.310800</td>\n",
              "      <td>0.506060</td>\n",
              "      <td>0.807284</td>\n",
              "    </tr>\n",
              "    <tr>\n",
              "      <td>800</td>\n",
              "      <td>0.384400</td>\n",
              "      <td>0.445767</td>\n",
              "      <td>0.814871</td>\n",
              "    </tr>\n",
              "    <tr>\n",
              "      <td>900</td>\n",
              "      <td>0.321000</td>\n",
              "      <td>0.465945</td>\n",
              "      <td>0.817906</td>\n",
              "    </tr>\n",
              "    <tr>\n",
              "      <td>1000</td>\n",
              "      <td>0.211700</td>\n",
              "      <td>0.510251</td>\n",
              "      <td>0.814871</td>\n",
              "    </tr>\n",
              "    <tr>\n",
              "      <td>1100</td>\n",
              "      <td>0.157700</td>\n",
              "      <td>0.583587</td>\n",
              "      <td>0.804249</td>\n",
              "    </tr>\n",
              "    <tr>\n",
              "      <td>1200</td>\n",
              "      <td>0.208100</td>\n",
              "      <td>0.549982</td>\n",
              "      <td>0.807284</td>\n",
              "    </tr>\n",
              "  </tbody>\n",
              "</table><p>"
            ]
          },
          "metadata": {}
        },
        {
          "output_type": "stream",
          "name": "stdout",
          "text": [
            "***** train metrics *****\n",
            "  epoch                    =          4.0\n",
            "  total_flos               = 2815208892GF\n",
            "  train_loss               =       0.3589\n",
            "  train_runtime            =   1:29:02.29\n",
            "  train_samples_per_second =        7.302\n",
            "  train_steps_per_second   =        0.228\n"
          ]
        }
      ]
    },
    {
      "cell_type": "code",
      "source": [
        "print(wrist_ViT_results)"
      ],
      "metadata": {
        "id": "vrgsmeLJCDl7",
        "colab": {
          "base_uri": "https://localhost:8080/"
        },
        "outputId": "d178c840-f2e4-4f89-b3e8-7d5d7ee16844"
      },
      "execution_count": null,
      "outputs": [
        {
          "output_type": "stream",
          "name": "stdout",
          "text": [
            "TrainOutput(global_step=1220, training_loss=0.3588761060941415, metrics={'train_runtime': 5342.291, 'train_samples_per_second': 7.302, 'train_steps_per_second': 0.228, 'total_flos': 3.0228075308860047e+18, 'train_loss': 0.3588761060941415, 'epoch': 4.0})\n"
          ]
        }
      ]
    },
    {
      "cell_type": "markdown",
      "source": [
        "### Forearm"
      ],
      "metadata": {
        "id": "GtC3i4787QsM"
      }
    },
    {
      "cell_type": "code",
      "source": [
        "#create trainer for forearm ViT model\n",
        "ViT_forearm_trainer = Trainer(\n",
        "    model=ViT_2_target_model,\n",
        "    args=training_args,\n",
        "    data_collator=collate_fn,\n",
        "    compute_metrics=compute_metrics,\n",
        "    train_dataset=ViT_forearm_train_dataset,\n",
        "    eval_dataset=ViT_forearm_test_dataset,\n",
        "    tokenizer=feature_extractor,\n",
        ")"
      ],
      "metadata": {
        "id": "__t7mpi1_bxt"
      },
      "execution_count": null,
      "outputs": []
    },
    {
      "cell_type": "code",
      "source": [
        "# run forearm ViT model\n",
        "forearm_ViT_results = run_ViT(ViT_forearm_trainer)"
      ],
      "metadata": {
        "id": "5ijvICEQ_dFl",
        "colab": {
          "base_uri": "https://localhost:8080/",
          "height": 310
        },
        "outputId": "dc9ff8d1-94b8-4ecc-b1f1-7c6b4ddc9771"
      },
      "execution_count": null,
      "outputs": [
        {
          "output_type": "stream",
          "name": "stderr",
          "text": [
            "/usr/local/lib/python3.9/dist-packages/transformers/optimization.py:391: FutureWarning: This implementation of AdamW is deprecated and will be removed in a future version. Use the PyTorch implementation torch.optim.AdamW instead, or set `no_deprecation_warning=True` to disable this warning\n",
            "  warnings.warn(\n"
          ]
        },
        {
          "output_type": "display_data",
          "data": {
            "text/plain": [
              "<IPython.core.display.HTML object>"
            ],
            "text/html": [
              "\n",
              "    <div>\n",
              "      \n",
              "      <progress value='232' max='232' style='width:300px; height:20px; vertical-align: middle;'></progress>\n",
              "      [232/232 18:57, Epoch 4/4]\n",
              "    </div>\n",
              "    <table border=\"1\" class=\"dataframe\">\n",
              "  <thead>\n",
              " <tr style=\"text-align: left;\">\n",
              "      <th>Step</th>\n",
              "      <th>Training Loss</th>\n",
              "      <th>Validation Loss</th>\n",
              "      <th>Accuracy</th>\n",
              "    </tr>\n",
              "  </thead>\n",
              "  <tbody>\n",
              "    <tr>\n",
              "      <td>100</td>\n",
              "      <td>0.305100</td>\n",
              "      <td>0.553799</td>\n",
              "      <td>0.747508</td>\n",
              "    </tr>\n",
              "    <tr>\n",
              "      <td>200</td>\n",
              "      <td>0.142000</td>\n",
              "      <td>0.731117</td>\n",
              "      <td>0.740864</td>\n",
              "    </tr>\n",
              "  </tbody>\n",
              "</table><p>"
            ]
          },
          "metadata": {}
        },
        {
          "output_type": "stream",
          "name": "stdout",
          "text": [
            "***** train metrics *****\n",
            "  epoch                    =         4.0\n",
            "  total_flos               = 526841286GF\n",
            "  train_loss               =      0.3135\n",
            "  train_runtime            =  0:19:20.16\n",
            "  train_samples_per_second =       6.292\n",
            "  train_steps_per_second   =         0.2\n"
          ]
        }
      ]
    },
    {
      "cell_type": "code",
      "source": [
        "print(forearm_ViT_results)"
      ],
      "metadata": {
        "id": "_PW4TwdDB8yn",
        "colab": {
          "base_uri": "https://localhost:8080/"
        },
        "outputId": "bd422911-2318-4c10-b616-336dd6c12623"
      },
      "execution_count": null,
      "outputs": [
        {
          "output_type": "stream",
          "name": "stdout",
          "text": [
            "TrainOutput(global_step=232, training_loss=0.3134900280113878, metrics={'train_runtime': 1160.1639, 'train_samples_per_second': 6.292, 'train_steps_per_second': 0.2, 'total_flos': 5.656915241865216e+17, 'train_loss': 0.3134900280113878, 'epoch': 4.0})\n"
          ]
        }
      ]
    },
    {
      "cell_type": "markdown",
      "source": [
        "### Hand"
      ],
      "metadata": {
        "id": "BZNKGaxB7Qfs"
      }
    },
    {
      "cell_type": "code",
      "source": [
        "#create trainer for hand ViT model\n",
        "ViT_hand_trainer = Trainer(\n",
        "    model=ViT_2_target_model,\n",
        "    args=training_args,\n",
        "    data_collator=collate_fn,\n",
        "    compute_metrics=compute_metrics,\n",
        "    train_dataset=ViT_hand_train_dataset,\n",
        "    eval_dataset=ViT_hand_test_dataset,\n",
        "    tokenizer=feature_extractor,\n",
        ")"
      ],
      "metadata": {
        "id": "0NJT-s70_p66"
      },
      "execution_count": null,
      "outputs": []
    },
    {
      "cell_type": "code",
      "source": [
        "# run hand ViT model\n",
        "hand_ViT_results = run_ViT(ViT_hand_trainer)"
      ],
      "metadata": {
        "colab": {
          "base_uri": "https://localhost:8080/",
          "height": 95
        },
        "id": "4fkl6xtj_p2q",
        "outputId": "54406417-8a28-4b82-dab2-1318206221fa"
      },
      "execution_count": null,
      "outputs": [
        {
          "output_type": "display_data",
          "data": {
            "text/plain": [
              "<IPython.core.display.HTML object>"
            ],
            "text/html": [
              "\n",
              "    <div>\n",
              "      \n",
              "      <progress value='101' max='696' style='width:300px; height:20px; vertical-align: middle;'></progress>\n",
              "      [101/696 54:57 < 5:30:19, 0.03 it/s, Epoch 0.57/4]\n",
              "    </div>\n",
              "    <table border=\"1\" class=\"dataframe\">\n",
              "  <thead>\n",
              " <tr style=\"text-align: left;\">\n",
              "      <th>Step</th>\n",
              "      <th>Training Loss</th>\n",
              "      <th>Validation Loss</th>\n",
              "    </tr>\n",
              "  </thead>\n",
              "  <tbody>\n",
              "  </tbody>\n",
              "</table><p>\n",
              "    <div>\n",
              "      \n",
              "      <progress value='40' max='58' style='width:300px; height:20px; vertical-align: middle;'></progress>\n",
              "      [40/58 05:52 < 02:42, 0.11 it/s]\n",
              "    </div>\n",
              "    "
            ]
          },
          "metadata": {}
        }
      ]
    },
    {
      "cell_type": "code",
      "source": [
        "hand_ViT_results = resume_run_ViT(ViT_hand_trainer)"
      ],
      "metadata": {
        "colab": {
          "base_uri": "https://localhost:8080/",
          "height": 279,
          "referenced_widgets": [
            "01a4f009fdd4493081323c37c2206b84",
            "ffe41e1bd99b4726af932cdde8f1a26f",
            "884ec1fafb124b06a5166ad1e320ad0b",
            "de179c512e084e22a122643177ed388c",
            "90218f811f9e4267b51b9ff4fce67f73",
            "9a1779f2d5704a31b5666239571ebd97",
            "ecea5e1d36ee4fe9995d4e86901c4cbf",
            "09f442b64cf345c8a868d9f72c490e26",
            "43e254747cbc46aaa0847a1990b7d335",
            "986ac6cd48714e9d88abde11caa371e1",
            "7dc075b0cff84f94adb08ba115e3cf03"
          ]
        },
        "id": "U9J5ryFK_2ZP",
        "outputId": "182282fa-cf98-4510-9271-9c9d566b3634"
      },
      "execution_count": null,
      "outputs": [
        {
          "output_type": "stream",
          "name": "stderr",
          "text": [
            "/usr/local/lib/python3.9/dist-packages/transformers/optimization.py:391: FutureWarning: This implementation of AdamW is deprecated and will be removed in a future version. Use the PyTorch implementation torch.optim.AdamW instead, or set `no_deprecation_warning=True` to disable this warning\n",
            "  warnings.warn(\n"
          ]
        },
        {
          "output_type": "display_data",
          "data": {
            "text/plain": [
              "  0%|          | 0/78 [00:00<?, ?it/s]"
            ],
            "application/vnd.jupyter.widget-view+json": {
              "version_major": 2,
              "version_minor": 0,
              "model_id": "01a4f009fdd4493081323c37c2206b84"
            }
          },
          "metadata": {}
        },
        {
          "output_type": "display_data",
          "data": {
            "text/plain": [
              "<IPython.core.display.HTML object>"
            ],
            "text/html": [
              "\n",
              "    <div>\n",
              "      \n",
              "      <progress value='696' max='696' style='width:300px; height:20px; vertical-align: middle;'></progress>\n",
              "      [696/696 15:38, Epoch 4/4]\n",
              "    </div>\n",
              "    <table border=\"1\" class=\"dataframe\">\n",
              "  <thead>\n",
              " <tr style=\"text-align: left;\">\n",
              "      <th>Step</th>\n",
              "      <th>Training Loss</th>\n",
              "      <th>Validation Loss</th>\n",
              "    </tr>\n",
              "  </thead>\n",
              "  <tbody>\n",
              "  </tbody>\n",
              "</table><p>"
            ]
          },
          "metadata": {}
        },
        {
          "output_type": "stream",
          "name": "stdout",
          "text": [
            "***** train metrics *****\n",
            "  epoch                    =          4.0\n",
            "  total_flos               = 1602535722GF\n",
            "  train_loss               =       0.0797\n",
            "  train_runtime            =   0:37:21.38\n",
            "  train_samples_per_second =        9.892\n",
            "  train_steps_per_second   =        0.311\n"
          ]
        }
      ]
    },
    {
      "cell_type": "code",
      "source": [
        "print(hand_ViT_results)"
      ],
      "metadata": {
        "id": "HNq8M0veBl69",
        "colab": {
          "base_uri": "https://localhost:8080/"
        },
        "outputId": "f72c9dfa-bb51-49ee-ef18-32ee1207eb36"
      },
      "execution_count": null,
      "outputs": [
        {
          "output_type": "stream",
          "name": "stdout",
          "text": [
            "TrainOutput(global_step=696, training_loss=0.07973637423296084, metrics={'train_runtime': 2241.386, 'train_samples_per_second': 9.892, 'train_steps_per_second': 0.311, 'total_flos': 1.7207096293920154e+18, 'train_loss': 0.07973637423296084, 'epoch': 4.0})\n"
          ]
        }
      ]
    },
    {
      "cell_type": "markdown",
      "source": [
        "### Humerus"
      ],
      "metadata": {
        "id": "oMRsWMe47QVw"
      }
    },
    {
      "cell_type": "code",
      "source": [
        "#create trainer for humerus ViT model\n",
        "ViT_humerus_trainer = Trainer(\n",
        "    model=ViT_2_target_model,\n",
        "    args=training_args,\n",
        "    data_collator=collate_fn,\n",
        "    compute_metrics=compute_metrics,\n",
        "    train_dataset=ViT_humerus_train_dataset,\n",
        "    eval_dataset=ViT_humerus_test_dataset,\n",
        "    tokenizer=feature_extractor,\n",
        ")"
      ],
      "metadata": {
        "id": "vl3ADXYz_9wi"
      },
      "execution_count": null,
      "outputs": []
    },
    {
      "cell_type": "code",
      "source": [
        "# run humerus ViT model\n",
        "humerus_ViT_results = run_ViT(ViT_humerus_trainer)"
      ],
      "metadata": {
        "colab": {
          "base_uri": "https://localhost:8080/",
          "height": 225
        },
        "id": "Io3j6gUv_9jN",
        "outputId": "2f896b9c-7f0f-4abb-c6b5-34c0704b9255"
      },
      "execution_count": null,
      "outputs": [
        {
          "output_type": "display_data",
          "data": {
            "text/plain": [
              "<IPython.core.display.HTML object>"
            ],
            "text/html": [
              "\n",
              "    <div>\n",
              "      \n",
              "      <progress value='160' max='160' style='width:300px; height:20px; vertical-align: middle;'></progress>\n",
              "      [160/160 30:53, Epoch 4/4]\n",
              "    </div>\n",
              "    <table border=\"1\" class=\"dataframe\">\n",
              "  <thead>\n",
              " <tr style=\"text-align: left;\">\n",
              "      <th>Step</th>\n",
              "      <th>Training Loss</th>\n",
              "      <th>Validation Loss</th>\n",
              "      <th>Accuracy</th>\n",
              "    </tr>\n",
              "  </thead>\n",
              "  <tbody>\n",
              "    <tr>\n",
              "      <td>100</td>\n",
              "      <td>0.329400</td>\n",
              "      <td>0.497600</td>\n",
              "      <td>0.802083</td>\n",
              "    </tr>\n",
              "  </tbody>\n",
              "</table><p>"
            ]
          },
          "metadata": {}
        },
        {
          "output_type": "stream",
          "name": "stdout",
          "text": [
            "***** train metrics *****\n",
            "  epoch                    =         4.0\n",
            "  total_flos               = 369510601GF\n",
            "  train_loss               =      0.4109\n",
            "  train_runtime            =  0:31:41.39\n",
            "  train_samples_per_second =       2.676\n",
            "  train_steps_per_second   =       0.084\n"
          ]
        }
      ]
    },
    {
      "cell_type": "code",
      "source": [
        "print(humerus_ViT_results)"
      ],
      "metadata": {
        "colab": {
          "base_uri": "https://localhost:8080/"
        },
        "id": "L3ktgnatBp0T",
        "outputId": "59c2da8e-9c90-4203-c0cf-3a850eec5344"
      },
      "execution_count": null,
      "outputs": [
        {
          "output_type": "stream",
          "name": "stdout",
          "text": [
            "TrainOutput(global_step=160, training_loss=0.4108890645205975, metrics={'train_runtime': 1901.3946, 'train_samples_per_second': 2.676, 'train_steps_per_second': 0.084, 'total_flos': 3.9675898682671104e+17, 'train_loss': 0.4108890645205975, 'epoch': 4.0})\n"
          ]
        }
      ]
    },
    {
      "cell_type": "markdown",
      "source": [
        "\n",
        "Step\tTraining Loss\tValidation Loss\tAccuracy\n",
        "\n",
        "100\t0.329400\t0.497600\t0.802083\n",
        "\n",
        "***** train metrics *****\n",
        "\n",
        "  epoch                    =         4.0\n",
        "\n",
        "  total_flos               = 369510601GF\n",
        "\n",
        "  train_loss               =      0.4109\n",
        "\n",
        "  train_runtime            =  0:31:41.39\n",
        "\n",
        "  train_samples_per_second =       2.676\n",
        "\n",
        "  train_steps_per_second   =       0.084"
      ],
      "metadata": {
        "id": "kHnlDSFMosLk"
      }
    },
    {
      "cell_type": "markdown",
      "source": [
        "### Elbow"
      ],
      "metadata": {
        "id": "DYpWq8t67QLh"
      }
    },
    {
      "cell_type": "code",
      "source": [
        "#create trainer for elbow ViT model\n",
        "ViT_elbow_trainer = Trainer(\n",
        "    model=ViT_2_target_model,\n",
        "    args=training_args,\n",
        "    data_collator=collate_fn,\n",
        "    compute_metrics=compute_metrics,\n",
        "    train_dataset=ViT_elbow_train_dataset,\n",
        "    eval_dataset=ViT_elbow_test_dataset,\n",
        "    tokenizer=feature_extractor,\n",
        ")"
      ],
      "metadata": {
        "id": "ojWbxrK03-uD"
      },
      "execution_count": null,
      "outputs": []
    },
    {
      "cell_type": "code",
      "source": [
        "# run humerus ViT model\n",
        "elbow_ViT_results = run_ViT(ViT_elbow_trainer)"
      ],
      "metadata": {
        "id": "k37OiE0eOFOo"
      },
      "execution_count": null,
      "outputs": []
    },
    {
      "cell_type": "code",
      "source": [
        "print(elbow_ViT_results)"
      ],
      "metadata": {
        "id": "YBRrbtwTButz"
      },
      "execution_count": null,
      "outputs": []
    },
    {
      "cell_type": "markdown",
      "source": [
        "Elbow \n",
        "\n",
        "\n",
        "Step\tTraining Loss\tValidation Loss\tAccuracy\n",
        "\n",
        "100\t0.633700\t0.669449\t0.593186\n",
        "\n",
        "200\t0.662600\t0.674480\t0.598662\n",
        "\n",
        "300\t0.684800\t0.672798\t0.593186\n",
        "\n",
        "400\t0.636100\t0.645050\t0.611438\n",
        "\n",
        "500\t0.732300\t0.673190\t0.595214\n",
        "\n",
        "600\t0.676000\t0.656240\t0.599473\n",
        "\n",
        "700\t0.645400\t0.682207\t0.600284\n",
        "\n",
        "800\t0.677900\t0.636125\t0.639424\n",
        "\n",
        "900\t0.618500\t0.612148\t0.653214\n",
        "\n",
        "1000\t0.594100\t0.603044\t0.662949\n",
        "\n",
        "1100\t0.613800\t0.587694\t0.680389\n",
        "\n",
        "1200\t0.547200\t0.550778\t0.715271\n",
        "\n",
        "***** train metrics *****\n",
        "\n",
        "  epoch                    =          4.0\n",
        "\n",
        "  total_flos               = 1423481854GF\n",
        "\n",
        "  train_loss               =       0.6496\n",
        "\n",
        "  train_runtime            =   2:11:14.87\n",
        "\n",
        "  train_samples_per_second =        2.505\n",
        "\n",
        "  train_steps_per_second   =        0.157"
      ],
      "metadata": {
        "id": "_JZtbTwyYCzV"
      }
    },
    {
      "cell_type": "markdown",
      "source": [
        "### Finger"
      ],
      "metadata": {
        "id": "4IIMmI5i7QB2"
      }
    },
    {
      "cell_type": "code",
      "source": [
        "#create trainer for finger ViT model\n",
        "ViT_finger_trainer = Trainer(\n",
        "    model=ViT_2_target_model,\n",
        "    args=training_args,\n",
        "    data_collator=collate_fn,\n",
        "    compute_metrics=compute_metrics,\n",
        "    train_dataset=ViT_finger_train_dataset,\n",
        "    eval_dataset=ViT_finger_test_dataset,\n",
        "    tokenizer=feature_extractor,\n",
        ")"
      ],
      "metadata": {
        "id": "GDBE6AkjOFIY"
      },
      "execution_count": null,
      "outputs": []
    },
    {
      "cell_type": "code",
      "source": [
        "# run humerus ViT model\n",
        "finger_ViT_results = run_ViT(ViT_finger_trainer)"
      ],
      "metadata": {
        "id": "ISleKvS_OFFg",
        "colab": {
          "base_uri": "https://localhost:8080/",
          "height": 380
        },
        "outputId": "e49a7aab-bb5b-4f6b-bbb9-284181b8a996"
      },
      "execution_count": null,
      "outputs": [
        {
          "output_type": "display_data",
          "data": {
            "text/plain": [
              "<IPython.core.display.HTML object>"
            ],
            "text/html": [
              "\n",
              "    <div>\n",
              "      \n",
              "      <progress value='640' max='640' style='width:300px; height:20px; vertical-align: middle;'></progress>\n",
              "      [640/640 1:50:12, Epoch 4/4]\n",
              "    </div>\n",
              "    <table border=\"1\" class=\"dataframe\">\n",
              "  <thead>\n",
              " <tr style=\"text-align: left;\">\n",
              "      <th>Step</th>\n",
              "      <th>Training Loss</th>\n",
              "      <th>Validation Loss</th>\n",
              "      <th>Accuracy</th>\n",
              "    </tr>\n",
              "  </thead>\n",
              "  <tbody>\n",
              "    <tr>\n",
              "      <td>100</td>\n",
              "      <td>0.639200</td>\n",
              "      <td>0.609000</td>\n",
              "      <td>0.678959</td>\n",
              "    </tr>\n",
              "    <tr>\n",
              "      <td>200</td>\n",
              "      <td>0.490100</td>\n",
              "      <td>0.633611</td>\n",
              "      <td>0.704989</td>\n",
              "    </tr>\n",
              "    <tr>\n",
              "      <td>300</td>\n",
              "      <td>0.510300</td>\n",
              "      <td>0.592520</td>\n",
              "      <td>0.685466</td>\n",
              "    </tr>\n",
              "    <tr>\n",
              "      <td>400</td>\n",
              "      <td>0.424900</td>\n",
              "      <td>0.702305</td>\n",
              "      <td>0.670282</td>\n",
              "    </tr>\n",
              "    <tr>\n",
              "      <td>500</td>\n",
              "      <td>0.290000</td>\n",
              "      <td>0.855674</td>\n",
              "      <td>0.633406</td>\n",
              "    </tr>\n",
              "    <tr>\n",
              "      <td>600</td>\n",
              "      <td>0.294100</td>\n",
              "      <td>0.870166</td>\n",
              "      <td>0.644252</td>\n",
              "    </tr>\n",
              "  </tbody>\n",
              "</table><p>"
            ]
          },
          "metadata": {}
        },
        {
          "output_type": "stream",
          "name": "stdout",
          "text": [
            "***** train metrics *****\n",
            "  epoch                    =          4.0\n",
            "  total_flos               = 1474000882GF\n",
            "  train_loss               =       0.4408\n",
            "  train_runtime            =   1:51:04.16\n",
            "  train_samples_per_second =        3.065\n",
            "  train_steps_per_second   =        0.096\n"
          ]
        }
      ]
    },
    {
      "cell_type": "code",
      "source": [
        "print(finger_ViT_results)"
      ],
      "metadata": {
        "id": "VVkjNfE8OFCp",
        "colab": {
          "base_uri": "https://localhost:8080/"
        },
        "outputId": "a576ca26-42ea-4977-925f-535d46dc1b69"
      },
      "execution_count": null,
      "outputs": [
        {
          "output_type": "stream",
          "name": "stdout",
          "text": [
            "TrainOutput(global_step=640, training_loss=0.4408469617366791, metrics={'train_runtime': 6664.1651, 'train_samples_per_second': 3.065, 'train_steps_per_second': 0.096, 'total_flos': 1.582696395888427e+18, 'train_loss': 0.4408469617366791, 'epoch': 4.0})\n"
          ]
        }
      ]
    },
    {
      "cell_type": "markdown",
      "source": [
        "\n",
        "Step\tTraining Loss\tValidation Loss\tAccuracy\n",
        "\n",
        "100\t0.639200\t0.609000\t0.678959\n",
        "\n",
        "200\t0.490100\t0.633611\t0.704989\n",
        "\n",
        "300\t0.510300\t0.592520\t0.685466\n",
        "\n",
        "400\t0.424900\t0.702305\t0.670282\n",
        "\n",
        "500\t0.290000\t0.855674\t0.633406\n",
        "\n",
        "600\t0.294100\t0.870166\t0.644252\n",
        "\n",
        "***** train metrics *****\n",
        "\n",
        "  epoch                    =          4.0\n",
        "\n",
        "  total_flos               = 1474000882GF\n",
        "\n",
        "  train_loss               =       0.4408\n",
        "\n",
        "  train_runtime            =   1:51:04.16\n",
        "\n",
        "  train_samples_per_second =        3.065\n",
        "\n",
        "  train_steps_per_second   =        0.096"
      ],
      "metadata": {
        "id": "DjSyNg6teO5F"
      }
    },
    {
      "cell_type": "code",
      "source": [],
      "metadata": {
        "id": "JTeU3V-bBXiT"
      },
      "execution_count": null,
      "outputs": []
    },
    {
      "cell_type": "code",
      "source": [],
      "metadata": {
        "id": "RhTSYGTmBXeT"
      },
      "execution_count": null,
      "outputs": []
    },
    {
      "cell_type": "code",
      "source": [
        "import os\n",
        "\n",
        "ex_img_path = 'drive/MyDrive/MURA-v1.1/train/XR_SHOULDER/patient00001/study1_positive/image1.png'\n",
        "train_valid = 'drive/MyDrive/MURA-v1.1'\n",
        "region ='drive/MyDrive/MURA-v1.1/train'\n",
        "patient = 'drive/MyDrive/MURA-v1.1/train/XR_SHOULDER'\n",
        "study = 'drive/MyDrive/MURA-v1.1/train/XR_SHOULDER/patient00001'\n",
        "\n",
        "a = os.listdir(train_valid)\n",
        "b = os.listdir(region)\n",
        "c = os.listdir(patient)\n",
        "d = os.listdir(study)\n",
        "\n",
        "\n",
        "print(a,'\\n\\n',b,'\\n\\n',c,'\\n\\n',d)"
      ],
      "metadata": {
        "id": "jHcuOxWlBXab"
      },
      "execution_count": null,
      "outputs": []
    }
  ]
}