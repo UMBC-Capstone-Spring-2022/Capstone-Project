{
  "cells": [
    {
      "cell_type": "markdown",
      "metadata": {
        "id": "WvPNgZv20g01"
      },
      "source": [
        "<a href=\"https://github.com/fgonzaleumbc/DATA601/tree/main/Projects/Project_1/DATA601_Project1\" target=\"_parent\"><img src=\"https://colab.research.google.com/assets/colab-badge.svg\" alt=\"Open In Colab\"/></a>"
      ]
    },
    {
      "cell_type": "code",
      "execution_count": 1,
      "metadata": {
        "colab": {
          "base_uri": "https://localhost:8080/"
        },
        "id": "YP7N3zfF4Ui3",
        "outputId": "878f8638-b000-4aec-dbc6-cabf8d4accc7"
      },
      "outputs": [
        {
          "output_type": "stream",
          "name": "stdout",
          "text": [
            "CUDA is available. Working on GPU\n"
          ]
        }
      ],
      "source": [
        "import os\n",
        "import numpy as np\n",
        "import pandas as pd\n",
        "from PIL import Image\n",
        "import matplotlib.pyplot as plt\n",
        "from tqdm import tqdm\n",
        "import copy\n",
        "from sklearn.preprocessing import LabelEncoder\n",
        "import pickle\n",
        "from sklearn.pipeline import Pipeline\n",
        "\n",
        "import torch\n",
        "import torch.nn as nn\n",
        "from torch.utils.data import Dataset, DataLoader\n",
        "from torchvision import transforms, models\n",
        "\n",
        "if torch.cuda.is_available():\n",
        "    print('CUDA is available. Working on GPU')\n",
        "    DEVICE = torch.device('cuda')\n",
        "else:\n",
        "    print('CUDA is not available. Working on CPU')\n",
        "    DEVICE = torch.device('cpu')"
      ]
    },
    {
      "cell_type": "code",
      "execution_count": 2,
      "metadata": {
        "colab": {
          "base_uri": "https://localhost:8080/"
        },
        "id": "cqqNM9yJ5Abr",
        "outputId": "f6ff7f6c-8ddd-47ec-90db-ab16a806b0b8"
      },
      "outputs": [
        {
          "output_type": "stream",
          "name": "stdout",
          "text": [
            "Mounted at /content/drive\n"
          ]
        }
      ],
      "source": [
        "from google.colab import drive\n",
        "drive.mount('/content/drive')"
      ]
    },
    {
      "cell_type": "code",
      "execution_count": 3,
      "metadata": {
        "id": "f-J0oebo5arp"
      },
      "outputs": [],
      "source": [
        "train_img_paths = pd.read_csv('drive/MyDrive/MURA-v1.1/train_image_paths.csv', header = None, names = ['image_path'])\n",
        "test_img_paths = pd.read_csv('drive/MyDrive/MURA-v1.1/valid_image_paths.csv', header = None, names = ['image_path'])"
      ]
    },
    {
      "cell_type": "code",
      "execution_count": 4,
      "metadata": {
        "id": "McvoFHXn5b_h"
      },
      "outputs": [],
      "source": [
        "def split_img_paths(df):\n",
        "    temp = df['image_path'].str.split('/', expand=True)\n",
        "    new_df = pd.DataFrame(df['image_path'])\n",
        "    new_df['patient_id'] = temp[3]\n",
        "    new_df['study'] = temp[4].str.split('_', expand = True)[0].str[-1:].astype(int)\n",
        "    new_df['region'] = temp[2].str.split('_', expand = True)[1]\n",
        "    map = {'positive':'abnormal', 'negative':'normal'}\n",
        "    new_df['target'] = temp[4].str.split('_', expand = True)[1]\n",
        "    new_df['target'] = new_df['target'].map(map)\n",
        "    #add google drive location to image path\n",
        "    new_df['image_path'] = 'drive/MyDrive/' + new_df['image_path']\n",
        "    \n",
        "    return new_df"
      ]
    },
    {
      "cell_type": "code",
      "execution_count": 5,
      "metadata": {
        "id": "nEOpkJBV5hr3"
      },
      "outputs": [],
      "source": [
        "mura_train = split_img_paths(train_img_paths)\n",
        "mura_test = split_img_paths(test_img_paths)"
      ]
    },
    {
      "cell_type": "code",
      "execution_count": 6,
      "metadata": {
        "id": "M6ZMgGzC5vda"
      },
      "outputs": [],
      "source": [
        "data_transforms = transforms.Compose([\n",
        "    #\n",
        "    #note that output channel is 1, will need to change and re-run for use with 3 channels\n",
        "    #\n",
        "    transforms.Grayscale(num_output_channels=3),\n",
        "    transforms.Resize((224,224)),\n",
        "    transforms.ToTensor()\n",
        "])"
      ]
    },
    {
      "cell_type": "code",
      "execution_count": 7,
      "metadata": {
        "id": "GlLJen025wm2"
      },
      "outputs": [],
      "source": [
        "def class_dict(two_targets):\n",
        "    classes_2 = ['normal', 'abnormal']\n",
        "    dict_2 = {'normal' : 0, 'abnormal': 1}\n",
        "    \n",
        "    return classes_2, dict_2"
      ]
    },
    {
      "cell_type": "code",
      "execution_count": 8,
      "metadata": {
        "id": "en_rWhCO53uT"
      },
      "outputs": [],
      "source": [
        "class MuraDataset(Dataset):\n",
        "    # change two targets to False if using 14 target data\n",
        "    def __init__(self, mura_df, two_targets, transform=data_transforms):\n",
        "        self.mura = mura_df\n",
        "        self.transform = transform\n",
        "        self.classes, self.class_to_idx = class_dict(two_targets=two_targets)\n",
        "\n",
        "    def __len__(self):\n",
        "        return len(self.mura)\n",
        "\n",
        "    # retrives image from path in df file and target from df\n",
        "    def get_image_class(self, index):\n",
        "        image_path = self.mura.iloc[index]['image_path']\n",
        "        class_name = self.mura.iloc[index]['target']\n",
        "        return Image.open(image_path), class_name  \n",
        "\n",
        "    def __getitem__(self, idx):\n",
        "        image, class_name = self.get_image_class(idx)\n",
        "        label = self.class_to_idx[class_name]\n",
        "\n",
        "        return self.transform(image), label"
      ]
    },
    {
      "cell_type": "code",
      "execution_count": 9,
      "metadata": {
        "id": "GC7xVMdI6MMz"
      },
      "outputs": [],
      "source": [
        "def training(model, model_name, num_epochs, train_dataloader, test_dataloader):\n",
        "\n",
        "    loss_function = torch.nn.CrossEntropyLoss()\n",
        "    optimizer = torch.optim.Adam(model.parameters(), lr=0.0003)\n",
        "    scheduler = torch.optim.lr_scheduler.StepLR(optimizer, step_size=3, gamma=0.33)\n",
        "\n",
        "    train_loss_array = []\n",
        "    train_acc_array = []\n",
        "    test_loss_array = []\n",
        "    test_acc_array = []\n",
        "    lowest_test_loss = np.inf\n",
        "    best_model = None\n",
        "\n",
        "    for epoch in tqdm(range(num_epochs)):\n",
        "\n",
        "        print('Epoch: {} | Learning rate: {}'.format(epoch + 1, scheduler.get_lr()))\n",
        "\n",
        "        for phase in ['train', 'val']:\n",
        "\n",
        "            epoch_loss = 0\n",
        "            epoch_correct_items = 0\n",
        "            epoch_items = 0\n",
        "\n",
        "            if phase == 'train':\n",
        "                model.train()\n",
        "                with torch.enable_grad():\n",
        "                    for samples, targets in train_dataloader:\n",
        "                        samples = samples.to(DEVICE)\n",
        "                        targets = targets.to(DEVICE)\n",
        "\n",
        "                        optimizer.zero_grad()\n",
        "                        outputs = model(samples)\n",
        "                        loss = loss_function(outputs, targets)\n",
        "                        preds = outputs.argmax(dim=1)\n",
        "                        correct_items = (preds == targets).float().sum()\n",
        "                        \n",
        "                        loss.backward()\n",
        "                        optimizer.step()\n",
        "\n",
        "                        epoch_loss += loss.item()\n",
        "                        epoch_correct_items += correct_items.item()\n",
        "                        epoch_items += len(targets)\n",
        "\n",
        "                train_loss_array.append(epoch_loss / epoch_items)\n",
        "                train_acc_array.append(epoch_correct_items / epoch_items)\n",
        "\n",
        "                scheduler.step()\n",
        "\n",
        "            elif phase == 'val':\n",
        "                model.eval()\n",
        "                with torch.no_grad():\n",
        "                    for samples, targets in test_dataloader:\n",
        "                        samples = samples.to(DEVICE)\n",
        "                        targets = targets.to(DEVICE)\n",
        "\n",
        "                        outputs = model(samples)\n",
        "                        loss = loss_function(outputs, targets)\n",
        "                        preds = outputs.argmax(dim=1)\n",
        "                        correct_items = (preds == targets).float().sum()\n",
        "\n",
        "                        epoch_loss += loss.item()\n",
        "                        epoch_correct_items += correct_items.item()\n",
        "                        epoch_items += len(targets)\n",
        "\n",
        "                test_loss_array.append(epoch_loss / epoch_items)\n",
        "                test_acc_array.append(epoch_correct_items / epoch_items)\n",
        "\n",
        "                if epoch_loss / epoch_items < lowest_test_loss:\n",
        "                    lowest_test_loss = epoch_loss / epoch_items\n",
        "                    torch.save(model.state_dict(), '{}_weights.pth'.format(model_name))\n",
        "                    best_model = copy.deepcopy(model)\n",
        "                    print(\"\\t| New lowest test loss for {}: {}\".format(model_name, lowest_test_loss))\n",
        "\n",
        "    return best_model, train_loss_array, train_acc_array, test_loss_array, test_acc_array"
      ]
    },
    {
      "cell_type": "code",
      "execution_count": 10,
      "metadata": {
        "id": "1ag-CdJi9aQ7"
      },
      "outputs": [],
      "source": [
        "def dataloader(df):\n",
        "  df_dl= DataLoader(df, batch_size=64, shuffle=True)\n",
        "  return df_dl"
      ]
    },
    {
      "cell_type": "markdown",
      "metadata": {
        "id": "OQQT_wE3M1LF"
      },
      "source": [
        "## **FOREARM**"
      ]
    },
    {
      "cell_type": "code",
      "execution_count": 11,
      "metadata": {
        "id": "w-m1Z1AA59SP"
      },
      "outputs": [],
      "source": [
        "forearm_train = mura_train[mura_train['region']=='FOREARM']\n",
        "forearm_test = mura_test[mura_test['region']=='FOREARM']"
      ]
    },
    {
      "cell_type": "code",
      "execution_count": 12,
      "metadata": {
        "id": "26j3PImw6AmS"
      },
      "outputs": [],
      "source": [
        "forearm_train_dataset = MuraDataset(mura_df = forearm_train, two_targets=True)\n",
        "forearm_test_dataset = MuraDataset(mura_df = forearm_test, two_targets=True)"
      ]
    },
    {
      "cell_type": "code",
      "execution_count": 13,
      "metadata": {
        "id": "ZBSftTTU6RWd"
      },
      "outputs": [],
      "source": [
        "Forearm_train_dataloader = dataloader(forearm_train_dataset)\n",
        "Forearm_test_dataloader = dataloader(forearm_test_dataset)\n",
        "num_epochs = 15"
      ]
    },
    {
      "cell_type": "code",
      "execution_count": 14,
      "metadata": {
        "colab": {
          "base_uri": "https://localhost:8080/"
        },
        "id": "Ux9sJST66UtW",
        "outputId": "3ed656bf-22ad-4321-d41c-fa7d9bef2515"
      },
      "outputs": [
        {
          "output_type": "stream",
          "name": "stderr",
          "text": [
            "/usr/local/lib/python3.10/dist-packages/torchvision/models/_utils.py:208: UserWarning: The parameter 'pretrained' is deprecated since 0.13 and may be removed in the future, please use 'weights' instead.\n",
            "  warnings.warn(\n",
            "/usr/local/lib/python3.10/dist-packages/torchvision/models/_utils.py:223: UserWarning: Arguments other than a weight enum or `None` for 'weights' are deprecated since 0.13 and may be removed in the future. The current behavior is equivalent to passing `weights=DenseNet161_Weights.IMAGENET1K_V1`. You can also use `weights=DenseNet161_Weights.DEFAULT` to get the most up-to-date weights.\n",
            "  warnings.warn(msg)\n",
            "Downloading: \"https://download.pytorch.org/models/densenet161-8d451a50.pth\" to /root/.cache/torch/hub/checkpoints/densenet161-8d451a50.pth\n",
            "100%|██████████| 110M/110M [00:07<00:00, 16.2MB/s]\n",
            "  0%|          | 0/15 [00:00<?, ?it/s]/usr/local/lib/python3.10/dist-packages/torch/optim/lr_scheduler.py:389: UserWarning: To get the last learning rate computed by the scheduler, please use `get_last_lr()`.\n",
            "  warnings.warn(\"To get the last learning rate computed by the scheduler, \"\n"
          ]
        },
        {
          "output_type": "stream",
          "name": "stdout",
          "text": [
            "Epoch: 1 | Learning rate: [0.0003]\n"
          ]
        },
        {
          "output_type": "stream",
          "name": "stderr",
          "text": [
            "\r  7%|▋         | 1/15 [23:51<5:34:03, 1431.68s/it]"
          ]
        },
        {
          "output_type": "stream",
          "name": "stdout",
          "text": [
            "\t| New lowest test loss for DenseNet161: 0.014790998146779514\n",
            "Epoch: 2 | Learning rate: [0.0003]\n"
          ]
        },
        {
          "output_type": "stream",
          "name": "stderr",
          "text": [
            "\r 13%|█▎        | 2/15 [24:25<2:12:05, 609.69s/it] "
          ]
        },
        {
          "output_type": "stream",
          "name": "stdout",
          "text": [
            "\t| New lowest test loss for DenseNet161: 0.011826913618170145\n",
            "Epoch: 3 | Learning rate: [0.0003]\n"
          ]
        },
        {
          "output_type": "stream",
          "name": "stderr",
          "text": [
            "\r 20%|██        | 3/15 [24:59<1:09:21, 346.82s/it]"
          ]
        },
        {
          "output_type": "stream",
          "name": "stdout",
          "text": [
            "\t| New lowest test loss for DenseNet161: 0.01118033609516993\n",
            "Epoch: 4 | Learning rate: [3.267e-05]\n"
          ]
        },
        {
          "output_type": "stream",
          "name": "stderr",
          "text": [
            "\r 27%|██▋       | 4/15 [25:33<40:56, 223.31s/it]  "
          ]
        },
        {
          "output_type": "stream",
          "name": "stdout",
          "text": [
            "\t| New lowest test loss for DenseNet161: 0.011069258186112211\n",
            "Epoch: 5 | Learning rate: [9.9e-05]\n"
          ]
        },
        {
          "output_type": "stream",
          "name": "stderr",
          "text": [
            "\r 33%|███▎      | 5/15 [26:08<25:52, 155.21s/it]"
          ]
        },
        {
          "output_type": "stream",
          "name": "stdout",
          "text": [
            "\t| New lowest test loss for DenseNet161: 0.010769858708809381\n",
            "Epoch: 6 | Learning rate: [9.9e-05]\n"
          ]
        },
        {
          "output_type": "stream",
          "name": "stderr",
          "text": [
            "\r 40%|████      | 6/15 [26:42<17:07, 114.12s/it]"
          ]
        },
        {
          "output_type": "stream",
          "name": "stdout",
          "text": [
            "Epoch: 7 | Learning rate: [1.0781099999999999e-05]\n"
          ]
        },
        {
          "output_type": "stream",
          "name": "stderr",
          "text": [
            "\r 47%|████▋     | 7/15 [27:17<11:46, 88.26s/it] "
          ]
        },
        {
          "output_type": "stream",
          "name": "stdout",
          "text": [
            "\t| New lowest test loss for DenseNet161: 0.010692311679802068\n",
            "Epoch: 8 | Learning rate: [3.267e-05]\n"
          ]
        },
        {
          "output_type": "stream",
          "name": "stderr",
          "text": [
            "\r 53%|█████▎    | 8/15 [27:52<08:19, 71.31s/it]"
          ]
        },
        {
          "output_type": "stream",
          "name": "stdout",
          "text": [
            "\t| New lowest test loss for DenseNet161: 0.010574811320764281\n",
            "Epoch: 9 | Learning rate: [3.267e-05]\n"
          ]
        },
        {
          "output_type": "stream",
          "name": "stderr",
          "text": [
            "\r 60%|██████    | 9/15 [28:27<05:58, 59.73s/it]"
          ]
        },
        {
          "output_type": "stream",
          "name": "stdout",
          "text": [
            "Epoch: 10 | Learning rate: [3.557763e-06]\n"
          ]
        },
        {
          "output_type": "stream",
          "name": "stderr",
          "text": [
            "\r 67%|██████▋   | 10/15 [29:02<04:20, 52.11s/it]"
          ]
        },
        {
          "output_type": "stream",
          "name": "stdout",
          "text": [
            "\t| New lowest test loss for DenseNet161: 0.010515259151838943\n",
            "Epoch: 11 | Learning rate: [1.0781099999999999e-05]\n"
          ]
        },
        {
          "output_type": "stream",
          "name": "stderr",
          "text": [
            "\r 73%|███████▎  | 11/15 [29:37<03:07, 46.87s/it]"
          ]
        },
        {
          "output_type": "stream",
          "name": "stdout",
          "text": [
            "\t| New lowest test loss for DenseNet161: 0.010491534522997581\n",
            "Epoch: 12 | Learning rate: [1.0781099999999999e-05]\n"
          ]
        },
        {
          "output_type": "stream",
          "name": "stderr",
          "text": [
            "\r 80%|████████  | 12/15 [30:11<02:09, 43.20s/it]"
          ]
        },
        {
          "output_type": "stream",
          "name": "stdout",
          "text": [
            "\t| New lowest test loss for DenseNet161: 0.010472999656715266\n",
            "Epoch: 13 | Learning rate: [1.17406179e-06]\n"
          ]
        },
        {
          "output_type": "stream",
          "name": "stderr",
          "text": [
            "\r 87%|████████▋ | 13/15 [30:47<01:21, 40.88s/it]"
          ]
        },
        {
          "output_type": "stream",
          "name": "stdout",
          "text": [
            "\t| New lowest test loss for DenseNet161: 0.01035094241367226\n",
            "Epoch: 14 | Learning rate: [3.557763e-06]\n"
          ]
        },
        {
          "output_type": "stream",
          "name": "stderr",
          "text": [
            "\r 93%|█████████▎| 14/15 [31:22<00:39, 39.15s/it]"
          ]
        },
        {
          "output_type": "stream",
          "name": "stdout",
          "text": [
            "Epoch: 15 | Learning rate: [3.557763e-06]\n"
          ]
        },
        {
          "output_type": "stream",
          "name": "stderr",
          "text": [
            "100%|██████████| 15/15 [31:57<00:00, 127.83s/it]\n"
          ]
        }
      ],
      "source": [
        "model_densenet161 = models.densenet161(pretrained=True)\n",
        "for param in model_densenet161.parameters():\n",
        "    param.requires_grad = False\n",
        "model_densenet161.classifier = torch.nn.Linear(model_densenet161.classifier.in_features, out_features=200)\n",
        "model_densenet161 = model_densenet161.to(DEVICE)\n",
        "\n",
        "\n",
        "densenet161_Forearm_training = training(model=model_densenet161,\n",
        "                                        model_name='DenseNet161',\n",
        "                                        num_epochs=num_epochs,\n",
        "                                        train_dataloader=Forearm_train_dataloader,\n",
        "                                        test_dataloader=Forearm_test_dataloader)\n",
        "\n",
        "model_densenet161, train_loss_array, train_acc_array, test_loss_array, test_acc_array = densenet161_Forearm_training\n",
        "\n",
        "forearm_min_loss = min(test_loss_array)\n",
        "forearm_min_loss_epoch = test_loss_array.index(forearm_min_loss)\n",
        "forearm_min_loss_accuracy = test_acc_array[forearm_min_loss_epoch]"
      ]
    },
    {
      "cell_type": "code",
      "execution_count": 15,
      "metadata": {
        "colab": {
          "base_uri": "https://localhost:8080/"
        },
        "id": "LBrZ6lL5ED0_",
        "outputId": "71407dd6-4e8c-49e6-c214-e87ccc6625ea"
      },
      "outputs": [
        {
          "output_type": "stream",
          "name": "stdout",
          "text": [
            "\n",
            "Training results:\n",
            "\tMin test loss 0.0104 was achieved during epoch #13\n",
            "\t test accuracy during min test loss is 0.6478\n"
          ]
        }
      ],
      "source": [
        "print(\"\\nTraining results:\")\n",
        "print(\"\\tMin test loss {:.4f} was achieved during epoch #{}\".format(forearm_min_loss, forearm_min_loss_epoch + 1))\n",
        "print(\"\\t test accuracy during min test loss is {:.4f}\".format(forearm_min_loss_accuracy))"
      ]
    },
    {
      "cell_type": "code",
      "execution_count": null,
      "metadata": {
        "colab": {
          "base_uri": "https://localhost:8080/",
          "height": 376
        },
        "id": "t1CIuuBd87ON",
        "outputId": "314a796b-f533-448d-f2e5-0536ccf7ad4f"
      },
      "outputs": [
        {
          "name": "stderr",
          "output_type": "stream",
          "text": [
            "100%|██████████| 5/5 [00:04<00:00,  1.16it/s]\n"
          ]
        },
        {
          "data": {
            "text/html": [
              "\n",
              "  <div id=\"df-3be0fefc-fcf8-4a30-8d32-e580d183236a\">\n",
              "    <div class=\"colab-df-container\">\n",
              "      <div>\n",
              "<style scoped>\n",
              "    .dataframe tbody tr th:only-of-type {\n",
              "        vertical-align: middle;\n",
              "    }\n",
              "\n",
              "    .dataframe tbody tr th {\n",
              "        vertical-align: top;\n",
              "    }\n",
              "\n",
              "    .dataframe thead th {\n",
              "        text-align: right;\n",
              "    }\n",
              "</style>\n",
              "<table border=\"1\" class=\"dataframe\">\n",
              "  <thead>\n",
              "    <tr style=\"text-align: right;\">\n",
              "      <th></th>\n",
              "      <th>File</th>\n",
              "      <th>Prediction</th>\n",
              "    </tr>\n",
              "  </thead>\n",
              "  <tbody>\n",
              "    <tr>\n",
              "      <th>0</th>\n",
              "      <td>drive/MyDrive/MURA-v1.1/valid/XR_FOREARM/patie...</td>\n",
              "      <td>normal</td>\n",
              "    </tr>\n",
              "    <tr>\n",
              "      <th>1</th>\n",
              "      <td>drive/MyDrive/MURA-v1.1/valid/XR_FOREARM/patie...</td>\n",
              "      <td>normal</td>\n",
              "    </tr>\n",
              "    <tr>\n",
              "      <th>2</th>\n",
              "      <td>drive/MyDrive/MURA-v1.1/valid/XR_FOREARM/patie...</td>\n",
              "      <td>abnormal</td>\n",
              "    </tr>\n",
              "    <tr>\n",
              "      <th>3</th>\n",
              "      <td>drive/MyDrive/MURA-v1.1/valid/XR_FOREARM/patie...</td>\n",
              "      <td>normal</td>\n",
              "    </tr>\n",
              "    <tr>\n",
              "      <th>4</th>\n",
              "      <td>drive/MyDrive/MURA-v1.1/valid/XR_FOREARM/patie...</td>\n",
              "      <td>normal</td>\n",
              "    </tr>\n",
              "    <tr>\n",
              "      <th>5</th>\n",
              "      <td>drive/MyDrive/MURA-v1.1/valid/XR_FOREARM/patie...</td>\n",
              "      <td>normal</td>\n",
              "    </tr>\n",
              "    <tr>\n",
              "      <th>6</th>\n",
              "      <td>drive/MyDrive/MURA-v1.1/valid/XR_FOREARM/patie...</td>\n",
              "      <td>abnormal</td>\n",
              "    </tr>\n",
              "    <tr>\n",
              "      <th>7</th>\n",
              "      <td>drive/MyDrive/MURA-v1.1/valid/XR_FOREARM/patie...</td>\n",
              "      <td>normal</td>\n",
              "    </tr>\n",
              "    <tr>\n",
              "      <th>8</th>\n",
              "      <td>drive/MyDrive/MURA-v1.1/valid/XR_FOREARM/patie...</td>\n",
              "      <td>normal</td>\n",
              "    </tr>\n",
              "    <tr>\n",
              "      <th>9</th>\n",
              "      <td>drive/MyDrive/MURA-v1.1/valid/XR_FOREARM/patie...</td>\n",
              "      <td>abnormal</td>\n",
              "    </tr>\n",
              "  </tbody>\n",
              "</table>\n",
              "</div>\n",
              "      <button class=\"colab-df-convert\" onclick=\"convertToInteractive('df-3be0fefc-fcf8-4a30-8d32-e580d183236a')\"\n",
              "              title=\"Convert this dataframe to an interactive table.\"\n",
              "              style=\"display:none;\">\n",
              "        \n",
              "  <svg xmlns=\"http://www.w3.org/2000/svg\" height=\"24px\"viewBox=\"0 0 24 24\"\n",
              "       width=\"24px\">\n",
              "    <path d=\"M0 0h24v24H0V0z\" fill=\"none\"/>\n",
              "    <path d=\"M18.56 5.44l.94 2.06.94-2.06 2.06-.94-2.06-.94-.94-2.06-.94 2.06-2.06.94zm-11 1L8.5 8.5l.94-2.06 2.06-.94-2.06-.94L8.5 2.5l-.94 2.06-2.06.94zm10 10l.94 2.06.94-2.06 2.06-.94-2.06-.94-.94-2.06-.94 2.06-2.06.94z\"/><path d=\"M17.41 7.96l-1.37-1.37c-.4-.4-.92-.59-1.43-.59-.52 0-1.04.2-1.43.59L10.3 9.45l-7.72 7.72c-.78.78-.78 2.05 0 2.83L4 21.41c.39.39.9.59 1.41.59.51 0 1.02-.2 1.41-.59l7.78-7.78 2.81-2.81c.8-.78.8-2.07 0-2.86zM5.41 20L4 18.59l7.72-7.72 1.47 1.35L5.41 20z\"/>\n",
              "  </svg>\n",
              "      </button>\n",
              "      \n",
              "  <style>\n",
              "    .colab-df-container {\n",
              "      display:flex;\n",
              "      flex-wrap:wrap;\n",
              "      gap: 12px;\n",
              "    }\n",
              "\n",
              "    .colab-df-convert {\n",
              "      background-color: #E8F0FE;\n",
              "      border: none;\n",
              "      border-radius: 50%;\n",
              "      cursor: pointer;\n",
              "      display: none;\n",
              "      fill: #1967D2;\n",
              "      height: 32px;\n",
              "      padding: 0 0 0 0;\n",
              "      width: 32px;\n",
              "    }\n",
              "\n",
              "    .colab-df-convert:hover {\n",
              "      background-color: #E2EBFA;\n",
              "      box-shadow: 0px 1px 2px rgba(60, 64, 67, 0.3), 0px 1px 3px 1px rgba(60, 64, 67, 0.15);\n",
              "      fill: #174EA6;\n",
              "    }\n",
              "\n",
              "    [theme=dark] .colab-df-convert {\n",
              "      background-color: #3B4455;\n",
              "      fill: #D2E3FC;\n",
              "    }\n",
              "\n",
              "    [theme=dark] .colab-df-convert:hover {\n",
              "      background-color: #434B5C;\n",
              "      box-shadow: 0px 1px 3px 1px rgba(0, 0, 0, 0.15);\n",
              "      filter: drop-shadow(0px 1px 2px rgba(0, 0, 0, 0.3));\n",
              "      fill: #FFFFFF;\n",
              "    }\n",
              "  </style>\n",
              "\n",
              "      <script>\n",
              "        const buttonEl =\n",
              "          document.querySelector('#df-3be0fefc-fcf8-4a30-8d32-e580d183236a button.colab-df-convert');\n",
              "        buttonEl.style.display =\n",
              "          google.colab.kernel.accessAllowed ? 'block' : 'none';\n",
              "\n",
              "        async function convertToInteractive(key) {\n",
              "          const element = document.querySelector('#df-3be0fefc-fcf8-4a30-8d32-e580d183236a');\n",
              "          const dataTable =\n",
              "            await google.colab.kernel.invokeFunction('convertToInteractive',\n",
              "                                                     [key], {});\n",
              "          if (!dataTable) return;\n",
              "\n",
              "          const docLinkHtml = 'Like what you see? Visit the ' +\n",
              "            '<a target=\"_blank\" href=https://colab.research.google.com/notebooks/data_table.ipynb>data table notebook</a>'\n",
              "            + ' to learn more about interactive tables.';\n",
              "          element.innerHTML = '';\n",
              "          dataTable['output_type'] = 'display_data';\n",
              "          await google.colab.output.renderOutput(dataTable, element);\n",
              "          const docLink = document.createElement('div');\n",
              "          docLink.innerHTML = docLinkHtml;\n",
              "          element.appendChild(docLink);\n",
              "        }\n",
              "      </script>\n",
              "    </div>\n",
              "  </div>\n",
              "  "
            ],
            "text/plain": [
              "                                                File Prediction\n",
              "0  drive/MyDrive/MURA-v1.1/valid/XR_FOREARM/patie...     normal\n",
              "1  drive/MyDrive/MURA-v1.1/valid/XR_FOREARM/patie...     normal\n",
              "2  drive/MyDrive/MURA-v1.1/valid/XR_FOREARM/patie...   abnormal\n",
              "3  drive/MyDrive/MURA-v1.1/valid/XR_FOREARM/patie...     normal\n",
              "4  drive/MyDrive/MURA-v1.1/valid/XR_FOREARM/patie...     normal\n",
              "5  drive/MyDrive/MURA-v1.1/valid/XR_FOREARM/patie...     normal\n",
              "6  drive/MyDrive/MURA-v1.1/valid/XR_FOREARM/patie...   abnormal\n",
              "7  drive/MyDrive/MURA-v1.1/valid/XR_FOREARM/patie...     normal\n",
              "8  drive/MyDrive/MURA-v1.1/valid/XR_FOREARM/patie...     normal\n",
              "9  drive/MyDrive/MURA-v1.1/valid/XR_FOREARM/patie...   abnormal"
            ]
          },
          "execution_count": 56,
          "metadata": {},
          "output_type": "execute_result"
        }
      ],
      "source": [
        "\n",
        "all_preds = []\n",
        "all_files = []\n",
        "\n",
        "model_densenet161.eval()\n",
        "with torch.no_grad():\n",
        "    for samples, f_names in tqdm(Forearm_test_dataloader):\n",
        "        samples = samples.to(DEVICE)\n",
        "        outputs = model_densenet161(samples)\n",
        "        preds = outputs.argmax(dim=1)\n",
        "        all_preds.extend(preds.tolist())\n",
        "        all_files.extend(f_names)\n",
        "\n",
        "all_filenames= forearm_test['image_path'].values.tolist()\n",
        "\n",
        "def class_dict_inverse(two_targets):\n",
        "    if two_targets==0:\n",
        "      return 'normal'\n",
        "    else:\n",
        "      return 'abnormal'\n",
        "\n",
        "all_preds_decoded = [class_dict_inverse(i) for i in all_preds]\n",
        "\n",
        "submission_forearm_df = pd.DataFrame(list(zip(all_filenames, all_preds_decoded)), columns =['File', 'Prediction'])\n",
        "submission_forearm_df.to_csv('test_predictions_forearm.csv', header=False, index=False) \n",
        "submission_forearm_df.head(10)"
      ]
    },
    {
      "cell_type": "markdown",
      "metadata": {
        "id": "ESdgmUqNsz0v"
      },
      "source": [
        "## **HAND**"
      ]
    },
    {
      "cell_type": "code",
      "execution_count": null,
      "metadata": {
        "id": "zXHRd_JefKln"
      },
      "outputs": [],
      "source": [
        "hand_train = mura_train[mura_train['region']=='HAND']\n",
        "hand_test = mura_test[mura_test['region']=='HAND']"
      ]
    },
    {
      "cell_type": "code",
      "execution_count": null,
      "metadata": {
        "id": "uupuEVcMfS6L"
      },
      "outputs": [],
      "source": [
        "hand_train_dataset = MuraDataset(mura_df = hand_train, two_targets=True)\n",
        "hand_test_dataset = MuraDataset(mura_df = hand_test, two_targets=True)"
      ]
    },
    {
      "cell_type": "code",
      "execution_count": null,
      "metadata": {
        "id": "FYNJ3KlIfDKq"
      },
      "outputs": [],
      "source": [
        "hand_train_dataloader = dataloader(hand_train_dataset)\n",
        "hand_test_dataloader = dataloader(hand_test_dataset)\n",
        "num_epochs = 15"
      ]
    },
    {
      "cell_type": "code",
      "execution_count": null,
      "metadata": {
        "colab": {
          "base_uri": "https://localhost:8080/"
        },
        "id": "gIYju109Iz9c",
        "outputId": "9f4b5087-ad2f-4e50-aa20-26313095d789"
      },
      "outputs": [
        {
          "name": "stderr",
          "output_type": "stream",
          "text": [
            "/usr/local/lib/python3.10/dist-packages/torchvision/models/_utils.py:208: UserWarning: The parameter 'pretrained' is deprecated since 0.13 and may be removed in the future, please use 'weights' instead.\n",
            "  warnings.warn(\n",
            "/usr/local/lib/python3.10/dist-packages/torchvision/models/_utils.py:223: UserWarning: Arguments other than a weight enum or `None` for 'weights' are deprecated since 0.13 and may be removed in the future. The current behavior is equivalent to passing `weights=DenseNet161_Weights.IMAGENET1K_V1`. You can also use `weights=DenseNet161_Weights.DEFAULT` to get the most up-to-date weights.\n",
            "  warnings.warn(msg)\n",
            "Downloading: \"https://download.pytorch.org/models/densenet161-8d451a50.pth\" to /root/.cache/torch/hub/checkpoints/densenet161-8d451a50.pth\n",
            "100%|██████████| 110M/110M [00:01<00:00, 70.0MB/s]\n",
            "  0%|          | 0/15 [00:00<?, ?it/s]/usr/local/lib/python3.10/dist-packages/torch/optim/lr_scheduler.py:389: UserWarning: To get the last learning rate computed by the scheduler, please use `get_last_lr()`.\n",
            "  warnings.warn(\"To get the last learning rate computed by the scheduler, \"\n"
          ]
        },
        {
          "name": "stdout",
          "output_type": "stream",
          "text": [
            "Epoch: 1 | Learning rate: [0.0003]\n"
          ]
        },
        {
          "name": "stderr",
          "output_type": "stream",
          "text": [
            "\r  7%|▋         | 1/15 [36:48<8:35:12, 2208.02s/it]"
          ]
        },
        {
          "name": "stdout",
          "output_type": "stream",
          "text": [
            "\t| New lowest test loss for DenseNet161: 0.011789735503818679\n",
            "Epoch: 2 | Learning rate: [0.0003]\n"
          ]
        },
        {
          "name": "stderr",
          "output_type": "stream",
          "text": [
            "\r 13%|█▎        | 2/15 [38:25<3:29:21, 966.28s/it] "
          ]
        },
        {
          "name": "stdout",
          "output_type": "stream",
          "text": [
            "\t| New lowest test loss for DenseNet161: 0.011095704332641933\n",
            "Epoch: 3 | Learning rate: [0.0003]\n"
          ]
        },
        {
          "name": "stderr",
          "output_type": "stream",
          "text": [
            "\r 20%|██        | 3/15 [40:03<1:53:58, 569.89s/it]"
          ]
        },
        {
          "name": "stdout",
          "output_type": "stream",
          "text": [
            "\t| New lowest test loss for DenseNet161: 0.0109258067348729\n",
            "Epoch: 4 | Learning rate: [3.267e-05]\n"
          ]
        },
        {
          "name": "stderr",
          "output_type": "stream",
          "text": [
            "\r 27%|██▋       | 4/15 [41:40<1:10:17, 383.38s/it]"
          ]
        },
        {
          "name": "stdout",
          "output_type": "stream",
          "text": [
            "Epoch: 5 | Learning rate: [9.9e-05]\n"
          ]
        },
        {
          "name": "stderr",
          "output_type": "stream",
          "text": [
            "\r 33%|███▎      | 5/15 [43:18<46:43, 280.36s/it]  "
          ]
        },
        {
          "name": "stdout",
          "output_type": "stream",
          "text": [
            "\t| New lowest test loss for DenseNet161: 0.010517996484818666\n",
            "Epoch: 6 | Learning rate: [9.9e-05]\n"
          ]
        },
        {
          "name": "stderr",
          "output_type": "stream",
          "text": [
            "\r 40%|████      | 6/15 [44:55<32:43, 218.16s/it]"
          ]
        },
        {
          "name": "stdout",
          "output_type": "stream",
          "text": [
            "Epoch: 7 | Learning rate: [1.0781099999999999e-05]\n"
          ]
        },
        {
          "name": "stderr",
          "output_type": "stream",
          "text": [
            "\r 47%|████▋     | 7/15 [46:32<23:48, 178.58s/it]"
          ]
        },
        {
          "name": "stdout",
          "output_type": "stream",
          "text": [
            "\t| New lowest test loss for DenseNet161: 0.010326149087885152\n",
            "Epoch: 8 | Learning rate: [3.267e-05]\n"
          ]
        },
        {
          "name": "stderr",
          "output_type": "stream",
          "text": [
            "\r 53%|█████▎    | 8/15 [48:07<17:42, 151.85s/it]"
          ]
        },
        {
          "name": "stdout",
          "output_type": "stream",
          "text": [
            "Epoch: 9 | Learning rate: [3.267e-05]\n"
          ]
        },
        {
          "name": "stderr",
          "output_type": "stream",
          "text": [
            "\r 60%|██████    | 9/15 [49:41<13:22, 133.68s/it]"
          ]
        },
        {
          "name": "stdout",
          "output_type": "stream",
          "text": [
            "Epoch: 10 | Learning rate: [3.557763e-06]\n"
          ]
        },
        {
          "name": "stderr",
          "output_type": "stream",
          "text": [
            "\r 67%|██████▋   | 10/15 [51:15<10:07, 121.51s/it]"
          ]
        },
        {
          "name": "stdout",
          "output_type": "stream",
          "text": [
            "Epoch: 11 | Learning rate: [1.0781099999999999e-05]\n"
          ]
        },
        {
          "name": "stderr",
          "output_type": "stream",
          "text": [
            "\r 73%|███████▎  | 11/15 [52:50<07:33, 113.26s/it]"
          ]
        },
        {
          "name": "stdout",
          "output_type": "stream",
          "text": [
            "\t| New lowest test loss for DenseNet161: 0.010274919090063676\n",
            "Epoch: 12 | Learning rate: [1.0781099999999999e-05]\n"
          ]
        },
        {
          "name": "stderr",
          "output_type": "stream",
          "text": [
            "\r 80%|████████  | 12/15 [54:22<05:20, 106.92s/it]"
          ]
        },
        {
          "name": "stdout",
          "output_type": "stream",
          "text": [
            "Epoch: 13 | Learning rate: [1.17406179e-06]\n"
          ]
        }
      ],
      "source": [
        "model_densenet161 = models.densenet161(pretrained=True)\n",
        "for param in model_densenet161.parameters():\n",
        "    param.requires_grad = False\n",
        "model_densenet161.classifier = torch.nn.Linear(model_densenet161.classifier.in_features, out_features=200)\n",
        "model_densenet161 = model_densenet161.to(DEVICE)\n",
        "\n",
        "\n",
        "densenet161_hand_training = training(model=model_densenet161,\n",
        "                                        model_name='DenseNet161',\n",
        "                                        num_epochs=num_epochs,\n",
        "                                        train_dataloader=hand_train_dataloader,\n",
        "                                        test_dataloader=hand_test_dataloader)\n",
        "\n",
        "model_densenet161, train_loss_array, train_acc_array, test_loss_array, test_acc_array = densenet161_hand_training\n",
        "\n",
        "hand_min_loss = min(test_loss_array)\n",
        "hand_min_loss_epoch = test_loss_array.index(hand_min_loss)\n",
        "hand_min_loss_accuracy = test_acc_array[hand_min_loss_epoch]"
      ]
    },
    {
      "cell_type": "code",
      "execution_count": null,
      "metadata": {
        "colab": {
          "base_uri": "https://localhost:8080/"
        },
        "id": "VSSHgTB2608Z",
        "outputId": "4cd967c9-d059-4af1-f830-35949afb6d4c"
      },
      "outputs": [
        {
          "name": "stdout",
          "output_type": "stream",
          "text": [
            "\n",
            "Training results:\n",
            "\tMin test loss 0.0103 was achieved during epoch #14\n",
            "\t test accuracy during min test loss is 0.6630\n"
          ]
        }
      ],
      "source": [
        "print(\"\\nTraining results:\")\n",
        "print(\"\\tMin test loss {:.4f} was achieved during epoch #{}\".format(hand_min_loss, hand_min_loss_epoch + 1))\n",
        "print(\"\\t test accuracy during min test loss is {:.4f}\".format(hand_min_loss_accuracy))"
      ]
    },
    {
      "cell_type": "markdown",
      "metadata": {
        "id": "iqEJjg9PMlMB"
      },
      "source": [
        "## **HUMERUS**"
      ]
    },
    {
      "cell_type": "code",
      "execution_count": null,
      "metadata": {
        "id": "mS05N_ZLJm71"
      },
      "outputs": [],
      "source": [
        "humerus_train = mura_train[mura_train['region']=='HUMERUS']\n",
        "humerus_test = mura_test[mura_test['region']=='HUMERUS']"
      ]
    },
    {
      "cell_type": "code",
      "execution_count": null,
      "metadata": {
        "id": "ScHDK-xvLn7k"
      },
      "outputs": [],
      "source": [
        "humerus_train_dataset = MuraDataset(mura_df = humerus_train, two_targets=True)\n",
        "humerus_test_dataset = MuraDataset(mura_df = humerus_test, two_targets=True)"
      ]
    },
    {
      "cell_type": "code",
      "execution_count": null,
      "metadata": {
        "id": "j0ANbi_ZL2jl"
      },
      "outputs": [],
      "source": [
        "Humerus_train_dataloader = dataloader(humerus_train_dataset)\n",
        "Humerus_test_dataloader = dataloader(humerus_test_dataset)\n",
        "num_epochs = 15"
      ]
    },
    {
      "cell_type": "code",
      "execution_count": null,
      "metadata": {
        "colab": {
          "base_uri": "https://localhost:8080/"
        },
        "id": "u5sqdVMuLn0V",
        "outputId": "4b1ea156-b573-4125-e25c-2aaf693a175b"
      },
      "outputs": [
        {
          "name": "stderr",
          "output_type": "stream",
          "text": [
            "\r  0%|          | 0/15 [00:00<?, ?it/s]"
          ]
        },
        {
          "name": "stdout",
          "output_type": "stream",
          "text": [
            "Epoch: 1 | Learning rate: [0.0003]\n"
          ]
        },
        {
          "name": "stderr",
          "output_type": "stream",
          "text": [
            "\r  7%|▋         | 1/15 [10:48<2:31:22, 648.76s/it]"
          ]
        },
        {
          "name": "stdout",
          "output_type": "stream",
          "text": [
            "\t| New lowest test loss for DenseNet161: 0.022352507130967245\n",
            "Epoch: 2 | Learning rate: [0.0003]\n"
          ]
        },
        {
          "name": "stderr",
          "output_type": "stream",
          "text": [
            "\r 13%|█▎        | 2/15 [11:13<1:00:58, 281.42s/it]"
          ]
        },
        {
          "name": "stdout",
          "output_type": "stream",
          "text": [
            "\t| New lowest test loss for DenseNet161: 0.012588804380761253\n",
            "Epoch: 3 | Learning rate: [0.0003]\n"
          ]
        },
        {
          "name": "stderr",
          "output_type": "stream",
          "text": [
            "\r 20%|██        | 3/15 [11:37<32:50, 164.18s/it]  "
          ]
        },
        {
          "name": "stdout",
          "output_type": "stream",
          "text": [
            "\t| New lowest test loss for DenseNet161: 0.0116178583767679\n",
            "Epoch: 4 | Learning rate: [3.267e-05]\n"
          ]
        },
        {
          "name": "stderr",
          "output_type": "stream",
          "text": [
            "\r 27%|██▋       | 4/15 [12:02<19:59, 109.02s/it]"
          ]
        },
        {
          "name": "stdout",
          "output_type": "stream",
          "text": [
            "\t| New lowest test loss for DenseNet161: 0.01138143717414803\n",
            "Epoch: 5 | Learning rate: [9.9e-05]\n"
          ]
        },
        {
          "name": "stderr",
          "output_type": "stream",
          "text": [
            "\r 33%|███▎      | 5/15 [12:26<13:06, 78.63s/it] "
          ]
        },
        {
          "name": "stdout",
          "output_type": "stream",
          "text": [
            "\t| New lowest test loss for DenseNet161: 0.011070544521013895\n",
            "Epoch: 6 | Learning rate: [9.9e-05]\n"
          ]
        },
        {
          "name": "stderr",
          "output_type": "stream",
          "text": [
            "\r 40%|████      | 6/15 [12:51<09:03, 60.34s/it]"
          ]
        },
        {
          "name": "stdout",
          "output_type": "stream",
          "text": [
            "\t| New lowest test loss for DenseNet161: 0.010963847239812216\n",
            "Epoch: 7 | Learning rate: [1.0781099999999999e-05]\n"
          ]
        },
        {
          "name": "stderr",
          "output_type": "stream",
          "text": [
            "\r 47%|████▋     | 7/15 [13:16<06:30, 48.83s/it]"
          ]
        },
        {
          "name": "stdout",
          "output_type": "stream",
          "text": [
            "\t| New lowest test loss for DenseNet161: 0.010891032508677907\n",
            "Epoch: 8 | Learning rate: [3.267e-05]\n"
          ]
        },
        {
          "name": "stderr",
          "output_type": "stream",
          "text": [
            "\r 53%|█████▎    | 8/15 [13:41<04:47, 41.14s/it]"
          ]
        },
        {
          "name": "stdout",
          "output_type": "stream",
          "text": [
            "Epoch: 9 | Learning rate: [3.267e-05]\n"
          ]
        },
        {
          "name": "stderr",
          "output_type": "stream",
          "text": [
            "\r 60%|██████    | 9/15 [14:06<03:36, 36.06s/it]"
          ]
        },
        {
          "name": "stdout",
          "output_type": "stream",
          "text": [
            "\t| New lowest test loss for DenseNet161: 0.01080076727602217\n",
            "Epoch: 10 | Learning rate: [3.557763e-06]\n"
          ]
        },
        {
          "name": "stderr",
          "output_type": "stream",
          "text": [
            "\r 67%|██████▋   | 10/15 [14:31<02:43, 32.65s/it]"
          ]
        },
        {
          "name": "stdout",
          "output_type": "stream",
          "text": [
            "\t| New lowest test loss for DenseNet161: 0.010769332862562604\n",
            "Epoch: 11 | Learning rate: [1.0781099999999999e-05]\n"
          ]
        },
        {
          "name": "stderr",
          "output_type": "stream",
          "text": [
            "\r 73%|███████▎  | 11/15 [14:56<02:01, 30.31s/it]"
          ]
        },
        {
          "name": "stdout",
          "output_type": "stream",
          "text": [
            "\t| New lowest test loss for DenseNet161: 0.010689986455771659\n",
            "Epoch: 12 | Learning rate: [1.0781099999999999e-05]\n"
          ]
        },
        {
          "name": "stderr",
          "output_type": "stream",
          "text": [
            "\r 80%|████████  | 12/15 [15:21<01:25, 28.66s/it]"
          ]
        },
        {
          "name": "stdout",
          "output_type": "stream",
          "text": [
            "\t| New lowest test loss for DenseNet161: 0.010680394868055979\n",
            "Epoch: 13 | Learning rate: [1.17406179e-06]\n"
          ]
        },
        {
          "name": "stderr",
          "output_type": "stream",
          "text": [
            "\r 87%|████████▋ | 13/15 [15:46<00:54, 27.47s/it]"
          ]
        },
        {
          "name": "stdout",
          "output_type": "stream",
          "text": [
            "Epoch: 14 | Learning rate: [3.557763e-06]\n"
          ]
        },
        {
          "name": "stderr",
          "output_type": "stream",
          "text": [
            "\r 93%|█████████▎| 14/15 [16:11<00:26, 26.78s/it]"
          ]
        },
        {
          "name": "stdout",
          "output_type": "stream",
          "text": [
            "\t| New lowest test loss for DenseNet161: 0.010639710765745904\n",
            "Epoch: 15 | Learning rate: [3.557763e-06]\n"
          ]
        },
        {
          "name": "stderr",
          "output_type": "stream",
          "text": [
            "100%|██████████| 15/15 [16:36<00:00, 66.40s/it]\n"
          ]
        }
      ],
      "source": [
        "model_densenet161 = models.densenet161(pretrained=True)\n",
        "for param in model_densenet161.parameters():\n",
        "    param.requires_grad = False\n",
        "model_densenet161.classifier = torch.nn.Linear(model_densenet161.classifier.in_features, out_features=200)\n",
        "model_densenet161 = model_densenet161.to(DEVICE)\n",
        "\n",
        "\n",
        "densenet161_humerus_training = training(model=model_densenet161,\n",
        "                                        model_name='DenseNet161',\n",
        "                                        num_epochs=num_epochs,\n",
        "                                        train_dataloader=Humerus_train_dataloader,\n",
        "                                        test_dataloader=Humerus_test_dataloader)\n",
        "\n",
        "model_densenet161, train_loss_array, train_acc_array, test_loss_array, test_acc_array = densenet161_humerus_training\n",
        "\n",
        "humerus_min_loss = min(test_loss_array)\n",
        "humerus_min_loss_epoch = test_loss_array.index(humerus_min_loss)\n",
        "humerus_min_loss_accuracy = test_acc_array[humerus_min_loss_epoch]"
      ]
    },
    {
      "cell_type": "code",
      "execution_count": null,
      "metadata": {
        "colab": {
          "base_uri": "https://localhost:8080/"
        },
        "id": "fIu9mp60LoEb",
        "outputId": "af1bc469-d011-4857-db0f-0bba65f367ea"
      },
      "outputs": [
        {
          "name": "stdout",
          "output_type": "stream",
          "text": [
            "\n",
            "Training results:\n",
            "\tMin test loss 0.0106 was achieved during epoch #14\n",
            "\t test accuracy during min test loss is 0.7326\n"
          ]
        }
      ],
      "source": [
        "print(\"\\nTraining results:\")\n",
        "print(\"\\tMin test loss {:.4f} was achieved during epoch #{}\".format(humerus_min_loss, humerus_min_loss_epoch + 1))\n",
        "print(\"\\t test accuracy during min test loss is {:.4f}\".format(humerus_min_loss_accuracy))"
      ]
    },
    {
      "cell_type": "markdown",
      "metadata": {
        "id": "Rvu6SgqZNGQu"
      },
      "source": [
        "# **ELBOW**"
      ]
    },
    {
      "cell_type": "code",
      "execution_count": null,
      "metadata": {
        "id": "vFojK_0ULU3b"
      },
      "outputs": [],
      "source": [
        "elbow_train = mura_train[mura_train['region']=='ELBOW']\n",
        "elbow_test = mura_test[mura_test['region']=='ELBOW']"
      ]
    },
    {
      "cell_type": "code",
      "execution_count": null,
      "metadata": {
        "id": "3c45dLZdBPAb"
      },
      "outputs": [],
      "source": [
        "elbow_train_dataset = MuraDataset(mura_df = elbow_train, two_targets=True)\n",
        "elbow_test_dataset = MuraDataset(mura_df = elbow_test, two_targets=True)"
      ]
    },
    {
      "cell_type": "code",
      "execution_count": null,
      "metadata": {
        "id": "YVzL44kxLou4"
      },
      "outputs": [],
      "source": [
        "Elbow_train_dataloader = dataloader(elbow_train_dataset)\n",
        "Elbow_test_dataloader = dataloader(elbow_test_dataset)\n",
        "num_epochs = 15"
      ]
    },
    {
      "cell_type": "code",
      "execution_count": null,
      "metadata": {
        "colab": {
          "background_save": true,
          "base_uri": "https://localhost:8080/"
        },
        "id": "OjlcJjneLozC",
        "outputId": "641938f6-d32e-4363-aa04-ac869a2eb99a"
      },
      "outputs": [
        {
          "name": "stderr",
          "output_type": "stream",
          "text": [
            "\r  0%|          | 0/15 [00:00<?, ?it/s]"
          ]
        },
        {
          "name": "stdout",
          "output_type": "stream",
          "text": [
            "Epoch: 1 | Learning rate: [0.0003]\n"
          ]
        },
        {
          "name": "stderr",
          "output_type": "stream",
          "text": [
            "\r  7%|▋         | 1/15 [31:20<7:18:47, 1880.52s/it]"
          ]
        },
        {
          "name": "stdout",
          "output_type": "stream",
          "text": [
            "\t| New lowest test loss for DenseNet161: 0.011664818307404876\n",
            "Epoch: 2 | Learning rate: [0.0003]\n"
          ]
        },
        {
          "name": "stderr",
          "output_type": "stream",
          "text": [
            "\r 13%|█▎        | 2/15 [32:44<2:58:27, 823.65s/it] "
          ]
        },
        {
          "name": "stdout",
          "output_type": "stream",
          "text": [
            "\t| New lowest test loss for DenseNet161: 0.010418959458669027\n",
            "Epoch: 3 | Learning rate: [0.0003]\n"
          ]
        },
        {
          "name": "stderr",
          "output_type": "stream",
          "text": [
            "\r 20%|██        | 3/15 [34:11<1:37:26, 487.22s/it]"
          ]
        },
        {
          "name": "stdout",
          "output_type": "stream",
          "text": [
            "\t| New lowest test loss for DenseNet161: 0.009634949314978814\n",
            "Epoch: 4 | Learning rate: [3.267e-05]\n"
          ]
        },
        {
          "name": "stderr",
          "output_type": "stream",
          "text": [
            "\r 27%|██▋       | 4/15 [35:38<1:00:20, 329.15s/it]"
          ]
        },
        {
          "name": "stdout",
          "output_type": "stream",
          "text": [
            "\t| New lowest test loss for DenseNet161: 0.009277918133684384\n",
            "Epoch: 5 | Learning rate: [9.9e-05]\n"
          ]
        },
        {
          "name": "stderr",
          "output_type": "stream",
          "text": [
            "\r 33%|███▎      | 5/15 [37:03<40:14, 241.44s/it]  "
          ]
        },
        {
          "name": "stdout",
          "output_type": "stream",
          "text": [
            "Epoch: 6 | Learning rate: [9.9e-05]\n"
          ]
        },
        {
          "name": "stderr",
          "output_type": "stream",
          "text": [
            "\r 40%|████      | 6/15 [38:28<28:11, 187.96s/it]"
          ]
        },
        {
          "name": "stdout",
          "output_type": "stream",
          "text": [
            "Epoch: 7 | Learning rate: [1.0781099999999999e-05]\n"
          ]
        },
        {
          "name": "stderr",
          "output_type": "stream",
          "text": [
            "\r 47%|████▋     | 7/15 [39:52<20:31, 153.95s/it]"
          ]
        },
        {
          "name": "stdout",
          "output_type": "stream",
          "text": [
            "Epoch: 8 | Learning rate: [3.267e-05]\n"
          ]
        },
        {
          "name": "stderr",
          "output_type": "stream",
          "text": [
            "\r 53%|█████▎    | 8/15 [41:14<15:19, 131.33s/it]"
          ]
        },
        {
          "name": "stdout",
          "output_type": "stream",
          "text": [
            "\t| New lowest test loss for DenseNet161: 0.00915353560960421\n",
            "Epoch: 9 | Learning rate: [3.267e-05]\n"
          ]
        },
        {
          "name": "stderr",
          "output_type": "stream",
          "text": [
            "\r 60%|██████    | 9/15 [42:37<11:37, 116.21s/it]"
          ]
        },
        {
          "name": "stdout",
          "output_type": "stream",
          "text": [
            "Epoch: 10 | Learning rate: [3.557763e-06]\n"
          ]
        },
        {
          "name": "stderr",
          "output_type": "stream",
          "text": [
            "\r 67%|██████▋   | 10/15 [44:01<08:50, 106.02s/it]"
          ]
        },
        {
          "name": "stdout",
          "output_type": "stream",
          "text": [
            "Epoch: 11 | Learning rate: [1.0781099999999999e-05]\n"
          ]
        },
        {
          "name": "stderr",
          "output_type": "stream",
          "text": [
            "\r 73%|███████▎  | 11/15 [45:24<06:35, 98.97s/it] "
          ]
        },
        {
          "name": "stdout",
          "output_type": "stream",
          "text": [
            "Epoch: 12 | Learning rate: [1.0781099999999999e-05]\n"
          ]
        },
        {
          "name": "stderr",
          "output_type": "stream",
          "text": [
            "\r 80%|████████  | 12/15 [46:47<04:42, 94.29s/it]"
          ]
        },
        {
          "name": "stdout",
          "output_type": "stream",
          "text": [
            "Epoch: 13 | Learning rate: [1.17406179e-06]\n"
          ]
        },
        {
          "name": "stderr",
          "output_type": "stream",
          "text": [
            "\r 87%|████████▋ | 13/15 [48:11<03:02, 91.11s/it]"
          ]
        },
        {
          "name": "stdout",
          "output_type": "stream",
          "text": [
            "\t| New lowest test loss for DenseNet161: 0.00900949348685562\n",
            "Epoch: 14 | Learning rate: [3.557763e-06]\n"
          ]
        },
        {
          "name": "stderr",
          "output_type": "stream",
          "text": [
            "\r 93%|█████████▎| 14/15 [49:35<01:28, 88.83s/it]"
          ]
        },
        {
          "name": "stdout",
          "output_type": "stream",
          "text": [
            "Epoch: 15 | Learning rate: [3.557763e-06]\n"
          ]
        },
        {
          "name": "stderr",
          "output_type": "stream",
          "text": [
            "100%|██████████| 15/15 [50:59<00:00, 203.97s/it]\n"
          ]
        }
      ],
      "source": [
        "model_densenet161 = models.densenet161(pretrained=True)\n",
        "for param in model_densenet161.parameters():\n",
        "    param.requires_grad = False\n",
        "model_densenet161.classifier = torch.nn.Linear(model_densenet161.classifier.in_features, out_features=200)\n",
        "model_densenet161 = model_densenet161.to(DEVICE)\n",
        "\n",
        "\n",
        "densenet161_elbow_training = training(model=model_densenet161,\n",
        "                                        model_name='DenseNet161',\n",
        "                                        num_epochs=num_epochs,\n",
        "                                        train_dataloader=Elbow_train_dataloader,\n",
        "                                        test_dataloader=Elbow_test_dataloader)\n",
        "\n",
        "model_densenet161, train_loss_array, train_acc_array, test_loss_array, test_acc_array = densenet161_elbow_training\n",
        "\n",
        "elbow_min_loss = min(test_loss_array)\n",
        "elbow_min_loss_epoch = test_loss_array.index(elbow_min_loss)\n",
        "elbow_min_loss_accuracy = test_acc_array[elbow_min_loss_epoch]"
      ]
    },
    {
      "cell_type": "code",
      "execution_count": null,
      "metadata": {
        "colab": {
          "base_uri": "https://localhost:8080/"
        },
        "id": "N3aa7zAPLo2r",
        "outputId": "afe03836-e75d-476a-959c-5b6cbe723d18"
      },
      "outputs": [
        {
          "name": "stdout",
          "output_type": "stream",
          "text": [
            "\n",
            "Training results:\n",
            "\tMin test loss 0.0090 was achieved during epoch #13\n",
            "\t test accuracy during min test loss is 0.7333\n"
          ]
        }
      ],
      "source": [
        "print(\"\\nTraining results:\")\n",
        "print(\"\\tMin test loss {:.4f} was achieved during epoch #{}\".format(elbow_min_loss, elbow_min_loss_epoch + 1))\n",
        "print(\"\\t test accuracy during min test loss is {:.4f}\".format(elbow_min_loss_accuracy))"
      ]
    },
    {
      "cell_type": "markdown",
      "metadata": {
        "id": "XdRzlXCfB2Mx"
      },
      "source": [
        "## **SHOULDER**"
      ]
    },
    {
      "cell_type": "code",
      "execution_count": null,
      "metadata": {
        "id": "_ap2ZTVgLfCY"
      },
      "outputs": [],
      "source": [
        "shoulder_train = mura_train[mura_train['region']=='SHOULDER']\n",
        "shoulder_test = mura_test[mura_test['region']=='SHOULDER']\n"
      ]
    },
    {
      "cell_type": "code",
      "execution_count": null,
      "metadata": {
        "id": "a8ABXNwKB_eb"
      },
      "outputs": [],
      "source": [
        "shoulder_train_dataset = MuraDataset(mura_df = shoulder_train, two_targets=True)\n",
        "shoulder_test_dataset = MuraDataset(mura_df = shoulder_test, two_targets=True)"
      ]
    },
    {
      "cell_type": "code",
      "execution_count": null,
      "metadata": {
        "id": "nwTShohWLpfP"
      },
      "outputs": [],
      "source": [
        "Shoulder_train_dataloader = dataloader(shoulder_train_dataset)\n",
        "Shoulder_test_dataloader = dataloader(shoulder_test_dataset)\n",
        "num_epochs = 15"
      ]
    },
    {
      "cell_type": "code",
      "execution_count": null,
      "metadata": {
        "colab": {
          "base_uri": "https://localhost:8080/"
        },
        "id": "jfFDlgi7LphY",
        "outputId": "ec4ef8fd-fbe3-433f-9a02-5cbdd2aef9ec"
      },
      "outputs": [
        {
          "name": "stderr",
          "output_type": "stream",
          "text": [
            "\r  0%|          | 0/15 [00:00<?, ?it/s]"
          ]
        },
        {
          "name": "stdout",
          "output_type": "stream",
          "text": [
            "Epoch: 1 | Learning rate: [0.0003]\n"
          ]
        },
        {
          "name": "stderr",
          "output_type": "stream",
          "text": [
            "\r  7%|▋         | 1/15 [03:34<50:02, 214.46s/it]"
          ]
        },
        {
          "name": "stdout",
          "output_type": "stream",
          "text": [
            "\t| New lowest test loss for DenseNet161: 0.010544008831783044\n",
            "Epoch: 2 | Learning rate: [0.0003]\n"
          ]
        },
        {
          "name": "stderr",
          "output_type": "stream",
          "text": [
            "\r 13%|█▎        | 2/15 [05:51<36:32, 168.65s/it]"
          ]
        },
        {
          "name": "stdout",
          "output_type": "stream",
          "text": [
            "\t| New lowest test loss for DenseNet161: 0.009754225796958694\n",
            "Epoch: 3 | Learning rate: [0.0003]\n"
          ]
        },
        {
          "name": "stderr",
          "output_type": "stream",
          "text": [
            "\r 20%|██        | 3/15 [08:08<30:55, 154.61s/it]"
          ]
        },
        {
          "name": "stdout",
          "output_type": "stream",
          "text": [
            "\t| New lowest test loss for DenseNet161: 0.009328532070715516\n",
            "Epoch: 4 | Learning rate: [3.267e-05]\n"
          ]
        },
        {
          "name": "stderr",
          "output_type": "stream",
          "text": [
            "\r 27%|██▋       | 4/15 [10:26<27:07, 147.94s/it]"
          ]
        },
        {
          "name": "stdout",
          "output_type": "stream",
          "text": [
            "\t| New lowest test loss for DenseNet161: 0.00924697894186152\n",
            "Epoch: 5 | Learning rate: [9.9e-05]\n"
          ]
        },
        {
          "name": "stderr",
          "output_type": "stream",
          "text": [
            "\r 33%|███▎      | 5/15 [12:44<24:01, 144.12s/it]"
          ]
        },
        {
          "name": "stdout",
          "output_type": "stream",
          "text": [
            "\t| New lowest test loss for DenseNet161: 0.009162207479798772\n",
            "Epoch: 6 | Learning rate: [9.9e-05]\n"
          ]
        },
        {
          "name": "stderr",
          "output_type": "stream",
          "text": [
            "\r 40%|████      | 6/15 [15:01<21:17, 141.90s/it]"
          ]
        },
        {
          "name": "stdout",
          "output_type": "stream",
          "text": [
            "\t| New lowest test loss for DenseNet161: 0.00908047765440458\n",
            "Epoch: 7 | Learning rate: [1.0781099999999999e-05]\n"
          ]
        },
        {
          "name": "stderr",
          "output_type": "stream",
          "text": [
            "\r 47%|████▋     | 7/15 [17:20<18:47, 140.91s/it]"
          ]
        },
        {
          "name": "stdout",
          "output_type": "stream",
          "text": [
            "\t| New lowest test loss for DenseNet161: 0.009033453930334766\n",
            "Epoch: 8 | Learning rate: [3.267e-05]\n"
          ]
        },
        {
          "name": "stderr",
          "output_type": "stream",
          "text": [
            "\r 53%|█████▎    | 8/15 [19:38<16:21, 140.14s/it]"
          ]
        },
        {
          "name": "stdout",
          "output_type": "stream",
          "text": [
            "\t| New lowest test loss for DenseNet161: 0.008987474505050145\n",
            "Epoch: 9 | Learning rate: [3.267e-05]\n"
          ]
        },
        {
          "name": "stderr",
          "output_type": "stream",
          "text": [
            "\r 60%|██████    | 9/15 [21:58<13:59, 139.84s/it]"
          ]
        },
        {
          "name": "stdout",
          "output_type": "stream",
          "text": [
            "\t| New lowest test loss for DenseNet161: 0.008973367049046138\n",
            "Epoch: 10 | Learning rate: [3.557763e-06]\n"
          ]
        },
        {
          "name": "stderr",
          "output_type": "stream",
          "text": [
            "\r 67%|██████▋   | 10/15 [24:15<11:35, 139.15s/it]"
          ]
        },
        {
          "name": "stdout",
          "output_type": "stream",
          "text": [
            "Epoch: 11 | Learning rate: [1.0781099999999999e-05]\n"
          ]
        },
        {
          "name": "stderr",
          "output_type": "stream",
          "text": [
            "\r 73%|███████▎  | 11/15 [26:33<09:14, 138.67s/it]"
          ]
        },
        {
          "name": "stdout",
          "output_type": "stream",
          "text": [
            "\t| New lowest test loss for DenseNet161: 0.008957521953548885\n",
            "Epoch: 12 | Learning rate: [1.0781099999999999e-05]\n"
          ]
        },
        {
          "name": "stderr",
          "output_type": "stream",
          "text": [
            "\r 80%|████████  | 12/15 [28:51<06:55, 138.49s/it]"
          ]
        },
        {
          "name": "stdout",
          "output_type": "stream",
          "text": [
            "Epoch: 13 | Learning rate: [1.17406179e-06]\n"
          ]
        },
        {
          "name": "stderr",
          "output_type": "stream",
          "text": [
            "\r 87%|████████▋ | 13/15 [31:09<04:36, 138.46s/it]"
          ]
        },
        {
          "name": "stdout",
          "output_type": "stream",
          "text": [
            "\t| New lowest test loss for DenseNet161: 0.008948914269994461\n",
            "Epoch: 14 | Learning rate: [3.557763e-06]\n"
          ]
        },
        {
          "name": "stderr",
          "output_type": "stream",
          "text": [
            "\r 93%|█████████▎| 14/15 [33:27<02:18, 138.15s/it]"
          ]
        },
        {
          "name": "stdout",
          "output_type": "stream",
          "text": [
            "Epoch: 15 | Learning rate: [3.557763e-06]\n"
          ]
        },
        {
          "name": "stderr",
          "output_type": "stream",
          "text": [
            "100%|██████████| 15/15 [35:45<00:00, 143.00s/it]"
          ]
        },
        {
          "name": "stdout",
          "output_type": "stream",
          "text": [
            "\t| New lowest test loss for DenseNet161: 0.008914005481116937\n"
          ]
        },
        {
          "name": "stderr",
          "output_type": "stream",
          "text": [
            "\n"
          ]
        }
      ],
      "source": [
        "model_densenet161 = models.densenet161(pretrained=True)\n",
        "for param in model_densenet161.parameters():\n",
        "    param.requires_grad = False\n",
        "model_densenet161.classifier = torch.nn.Linear(model_densenet161.classifier.in_features, out_features=200)\n",
        "model_densenet161 = model_densenet161.to(DEVICE)\n",
        "\n",
        "\n",
        "densenet161_shoulder_training = training(model=model_densenet161,\n",
        "                                        model_name='DenseNet161',\n",
        "                                        num_epochs=num_epochs,\n",
        "                                        train_dataloader=Shoulder_train_dataloader,\n",
        "                                        test_dataloader=Shoulder_test_dataloader)\n",
        "\n",
        "model_densenet161, train_loss_array, train_acc_array, test_loss_array, test_acc_array = densenet161_shoulder_training\n",
        "\n",
        "shoulder_min_loss = min(test_loss_array)\n",
        "shoulder_min_loss_epoch = test_loss_array.index(shoulder_min_loss)\n",
        "shoulder_min_loss_accuracy = test_acc_array[shoulder_min_loss_epoch]"
      ]
    },
    {
      "cell_type": "code",
      "execution_count": null,
      "metadata": {
        "colab": {
          "base_uri": "https://localhost:8080/"
        },
        "id": "uvBw15qeLpjd",
        "outputId": "8c1612a2-40c0-4b3a-875f-09a920873516"
      },
      "outputs": [
        {
          "name": "stdout",
          "output_type": "stream",
          "text": [
            "\n",
            "Training results:\n",
            "\tMin test loss 0.0089 was achieved during epoch #15\n",
            "\t test accuracy during min test loss is 0.7336\n"
          ]
        }
      ],
      "source": [
        "print(\"\\nTraining results:\")\n",
        "print(\"\\tMin test loss {:.4f} was achieved during epoch #{}\".format(shoulder_min_loss, shoulder_min_loss_epoch + 1))\n",
        "print(\"\\t test accuracy during min test loss is {:.4f}\".format(shoulder_min_loss_accuracy))"
      ]
    },
    {
      "cell_type": "markdown",
      "metadata": {
        "id": "4pagl8xvCUfV"
      },
      "source": [
        "## **FINGER**"
      ]
    },
    {
      "cell_type": "code",
      "execution_count": null,
      "metadata": {
        "id": "MsLSSpUyLfyZ"
      },
      "outputs": [],
      "source": [
        "finger_train = mura_train[mura_train['region']=='FINGER']\n",
        "finger_test = mura_test[mura_test['region']=='FINGER']\n"
      ]
    },
    {
      "cell_type": "code",
      "execution_count": null,
      "metadata": {
        "id": "rQVkGHFhCCbN"
      },
      "outputs": [],
      "source": [
        "finger_train_dataset = MuraDataset(mura_df = finger_train, two_targets=True)\n",
        "finger_test_dataset = MuraDataset(mura_df = finger_test, two_targets=True)"
      ]
    },
    {
      "cell_type": "code",
      "execution_count": null,
      "metadata": {
        "id": "Ch9a9u-TLqQA"
      },
      "outputs": [],
      "source": [
        "Finger_train_dataloader = dataloader(finger_train_dataset)\n",
        "Finger_test_dataloader = dataloader(finger_test_dataset)\n",
        "num_epochs = 15"
      ]
    },
    {
      "cell_type": "code",
      "execution_count": null,
      "metadata": {
        "colab": {
          "base_uri": "https://localhost:8080/"
        },
        "id": "9ppb-P7QLqSE",
        "outputId": "4b580017-e184-469e-fc26-95f3f63b8643"
      },
      "outputs": [
        {
          "name": "stderr",
          "output_type": "stream",
          "text": [
            "\r  0%|          | 0/15 [00:00<?, ?it/s]"
          ]
        },
        {
          "name": "stdout",
          "output_type": "stream",
          "text": [
            "Epoch: 1 | Learning rate: [0.0003]\n"
          ]
        },
        {
          "name": "stderr",
          "output_type": "stream",
          "text": [
            "\r  7%|▋         | 1/15 [35:26<8:16:06, 2126.21s/it]"
          ]
        },
        {
          "name": "stdout",
          "output_type": "stream",
          "text": [
            "\t| New lowest test loss for DenseNet161: 0.011907374781279657\n",
            "Epoch: 2 | Learning rate: [0.0003]\n"
          ]
        },
        {
          "name": "stderr",
          "output_type": "stream",
          "text": [
            "\r 13%|█▎        | 2/15 [36:50<3:20:22, 924.82s/it] "
          ]
        },
        {
          "name": "stdout",
          "output_type": "stream",
          "text": [
            "\t| New lowest test loss for DenseNet161: 0.010359011218759864\n",
            "Epoch: 3 | Learning rate: [0.0003]\n"
          ]
        },
        {
          "name": "stderr",
          "output_type": "stream",
          "text": [
            "\r 20%|██        | 3/15 [38:13<1:48:06, 540.52s/it]"
          ]
        },
        {
          "name": "stdout",
          "output_type": "stream",
          "text": [
            "\t| New lowest test loss for DenseNet161: 0.010313688351120193\n",
            "Epoch: 4 | Learning rate: [3.267e-05]\n"
          ]
        },
        {
          "name": "stderr",
          "output_type": "stream",
          "text": [
            "\r 27%|██▋       | 4/15 [39:36<1:05:59, 359.93s/it]"
          ]
        },
        {
          "name": "stdout",
          "output_type": "stream",
          "text": [
            "Epoch: 5 | Learning rate: [9.9e-05]\n"
          ]
        },
        {
          "name": "stderr",
          "output_type": "stream",
          "text": [
            "\r 33%|███▎      | 5/15 [40:59<43:19, 260.00s/it]  "
          ]
        },
        {
          "name": "stdout",
          "output_type": "stream",
          "text": [
            "\t| New lowest test loss for DenseNet161: 0.010061954469329107\n",
            "Epoch: 6 | Learning rate: [9.9e-05]\n"
          ]
        },
        {
          "name": "stderr",
          "output_type": "stream",
          "text": [
            "\r 40%|████      | 6/15 [42:21<29:56, 199.63s/it]"
          ]
        },
        {
          "name": "stdout",
          "output_type": "stream",
          "text": [
            "Epoch: 7 | Learning rate: [1.0781099999999999e-05]\n"
          ]
        },
        {
          "name": "stderr",
          "output_type": "stream",
          "text": [
            "\r 47%|████▋     | 7/15 [43:43<21:30, 161.27s/it]"
          ]
        },
        {
          "name": "stdout",
          "output_type": "stream",
          "text": [
            "Epoch: 8 | Learning rate: [3.267e-05]\n"
          ]
        },
        {
          "name": "stderr",
          "output_type": "stream",
          "text": [
            "\r 53%|█████▎    | 8/15 [45:05<15:52, 136.06s/it]"
          ]
        },
        {
          "name": "stdout",
          "output_type": "stream",
          "text": [
            "Epoch: 9 | Learning rate: [3.267e-05]\n"
          ]
        },
        {
          "name": "stderr",
          "output_type": "stream",
          "text": [
            "\r 60%|██████    | 9/15 [46:27<11:54, 119.10s/it]"
          ]
        },
        {
          "name": "stdout",
          "output_type": "stream",
          "text": [
            "Epoch: 10 | Learning rate: [3.557763e-06]\n"
          ]
        },
        {
          "name": "stderr",
          "output_type": "stream",
          "text": [
            "\r 67%|██████▋   | 10/15 [47:50<08:58, 107.73s/it]"
          ]
        },
        {
          "name": "stdout",
          "output_type": "stream",
          "text": [
            "Epoch: 11 | Learning rate: [1.0781099999999999e-05]\n"
          ]
        },
        {
          "name": "stderr",
          "output_type": "stream",
          "text": [
            "\r 73%|███████▎  | 11/15 [49:11<06:38, 99.74s/it] "
          ]
        },
        {
          "name": "stdout",
          "output_type": "stream",
          "text": [
            "Epoch: 12 | Learning rate: [1.0781099999999999e-05]\n"
          ]
        },
        {
          "name": "stderr",
          "output_type": "stream",
          "text": [
            "\r 80%|████████  | 12/15 [50:33<04:42, 94.21s/it]"
          ]
        },
        {
          "name": "stdout",
          "output_type": "stream",
          "text": [
            "Epoch: 13 | Learning rate: [1.17406179e-06]\n"
          ]
        },
        {
          "name": "stderr",
          "output_type": "stream",
          "text": [
            "\r 87%|████████▋ | 13/15 [51:55<03:01, 90.55s/it]"
          ]
        },
        {
          "name": "stdout",
          "output_type": "stream",
          "text": [
            "Epoch: 14 | Learning rate: [3.557763e-06]\n"
          ]
        },
        {
          "name": "stderr",
          "output_type": "stream",
          "text": [
            "\r 93%|█████████▎| 14/15 [53:18<01:28, 88.23s/it]"
          ]
        },
        {
          "name": "stdout",
          "output_type": "stream",
          "text": [
            "\t| New lowest test loss for DenseNet161: 0.010030600745352126\n",
            "Epoch: 15 | Learning rate: [3.557763e-06]\n"
          ]
        },
        {
          "name": "stderr",
          "output_type": "stream",
          "text": [
            "100%|██████████| 15/15 [54:40<00:00, 218.73s/it]\n"
          ]
        }
      ],
      "source": [
        "model_densenet161 = models.densenet161(pretrained=True)\n",
        "for param in model_densenet161.parameters():\n",
        "    param.requires_grad = False\n",
        "model_densenet161.classifier = torch.nn.Linear(model_densenet161.classifier.in_features, out_features=200)\n",
        "model_densenet161 = model_densenet161.to(DEVICE)\n",
        "\n",
        "\n",
        "densenet161_finger_training = training(model=model_densenet161,\n",
        "                                        model_name='DenseNet161',\n",
        "                                        num_epochs=num_epochs,\n",
        "                                        train_dataloader=Finger_train_dataloader,\n",
        "                                        test_dataloader=Finger_test_dataloader)\n",
        "\n",
        "model_densenet161, train_loss_array, train_acc_array, test_loss_array, test_acc_array = densenet161_finger_training\n",
        "\n",
        "finger_min_loss = min(test_loss_array)\n",
        "finger_min_loss_epoch = test_loss_array.index(finger_min_loss)\n",
        "finger_min_loss_accuracy = test_acc_array[finger_min_loss_epoch]"
      ]
    },
    {
      "cell_type": "code",
      "execution_count": null,
      "metadata": {
        "colab": {
          "base_uri": "https://localhost:8080/"
        },
        "id": "qcEw3TqeLqeg",
        "outputId": "55c138b5-44d6-4c0e-b05e-3301b8df41a8"
      },
      "outputs": [
        {
          "name": "stdout",
          "output_type": "stream",
          "text": [
            "\n",
            "Training results:\n",
            "\tMin test loss 0.0100 was achieved during epoch #14\n",
            "\t test accuracy during min test loss is 0.6985\n"
          ]
        }
      ],
      "source": [
        "print(\"\\nTraining results:\")\n",
        "print(\"\\tMin test loss {:.4f} was achieved during epoch #{}\".format(finger_min_loss, finger_min_loss_epoch + 1))\n",
        "print(\"\\t test accuracy during min test loss is {:.4f}\".format(finger_min_loss_accuracy))"
      ]
    },
    {
      "cell_type": "markdown",
      "metadata": {
        "id": "eg4ELGfu1GJ1"
      },
      "source": [
        "## **WRIST**"
      ]
    },
    {
      "cell_type": "code",
      "execution_count": 16,
      "metadata": {
        "id": "VUKBdfnG0v7I"
      },
      "outputs": [],
      "source": [
        "wrist_train = mura_train[mura_train['region']=='WRIST']\n",
        "wrist_test = mura_test[mura_test['region']=='WRIST']"
      ]
    },
    {
      "cell_type": "code",
      "execution_count": 17,
      "metadata": {
        "id": "QSEe_vCv0v-d"
      },
      "outputs": [],
      "source": [
        "wrist_train_dataset = MuraDataset(mura_df = wrist_train, two_targets=True)\n",
        "wrist_test_dataset = MuraDataset(mura_df = wrist_test, two_targets=True)"
      ]
    },
    {
      "cell_type": "code",
      "execution_count": 18,
      "metadata": {
        "id": "py5fQGBIOYFJ"
      },
      "outputs": [],
      "source": [
        "Wrist_train_dataloader = DataLoader(wrist_train_dataset, batch_size=64, shuffle=True)\n",
        "Wrist_test_dataloader = DataLoader(wrist_test_dataset, batch_size=64, shuffle=False)\n",
        "num_epochs = 15"
      ]
    },
    {
      "cell_type": "code",
      "execution_count": 19,
      "metadata": {
        "colab": {
          "base_uri": "https://localhost:8080/"
        },
        "id": "0ELZqk_s0rg2",
        "outputId": "41085281-1156-4cc6-907b-9f1db5ea689b"
      },
      "outputs": [
        {
          "output_type": "stream",
          "name": "stderr",
          "text": [
            "\r  0%|          | 0/15 [00:00<?, ?it/s]"
          ]
        },
        {
          "output_type": "stream",
          "name": "stdout",
          "text": [
            "Epoch: 1 | Learning rate: [0.0003]\n"
          ]
        },
        {
          "output_type": "stream",
          "name": "stderr",
          "text": [
            "\r  7%|▋         | 1/15 [2:03:08<28:43:53, 7388.13s/it]"
          ]
        },
        {
          "output_type": "stream",
          "name": "stdout",
          "text": [
            "\t| New lowest test loss for DenseNet161: 0.009633857717282493\n",
            "Epoch: 2 | Learning rate: [0.0003]\n"
          ]
        },
        {
          "output_type": "stream",
          "name": "stderr",
          "text": [
            "\r 13%|█▎        | 2/15 [2:05:51<11:19:54, 3138.04s/it]"
          ]
        },
        {
          "output_type": "stream",
          "name": "stdout",
          "text": [
            "\t| New lowest test loss for DenseNet161: 0.008778945357738027\n",
            "Epoch: 3 | Learning rate: [0.0003]\n"
          ]
        },
        {
          "output_type": "stream",
          "name": "stderr",
          "text": [
            "\r 20%|██        | 3/15 [2:08:36<5:56:05, 1780.48s/it] "
          ]
        },
        {
          "output_type": "stream",
          "name": "stdout",
          "text": [
            "\t| New lowest test loss for DenseNet161: 0.008337981105755241\n",
            "Epoch: 4 | Learning rate: [3.267e-05]\n"
          ]
        },
        {
          "output_type": "stream",
          "name": "stderr",
          "text": [
            "\r 27%|██▋       | 4/15 [2:11:23<3:29:39, 1143.59s/it]"
          ]
        },
        {
          "output_type": "stream",
          "name": "stdout",
          "text": [
            "\t| New lowest test loss for DenseNet161: 0.008204197689144673\n",
            "Epoch: 5 | Learning rate: [9.9e-05]\n"
          ]
        },
        {
          "output_type": "stream",
          "name": "stderr",
          "text": [
            "\r 33%|███▎      | 5/15 [2:14:12<2:12:03, 792.36s/it] "
          ]
        },
        {
          "output_type": "stream",
          "name": "stdout",
          "text": [
            "\t| New lowest test loss for DenseNet161: 0.008118354564190635\n",
            "Epoch: 6 | Learning rate: [9.9e-05]\n"
          ]
        },
        {
          "output_type": "stream",
          "name": "stderr",
          "text": [
            "\r 40%|████      | 6/15 [2:17:02<1:27:06, 580.74s/it]"
          ]
        },
        {
          "output_type": "stream",
          "name": "stdout",
          "text": [
            "\t| New lowest test loss for DenseNet161: 0.00806988425247586\n",
            "Epoch: 7 | Learning rate: [1.0781099999999999e-05]\n"
          ]
        },
        {
          "output_type": "stream",
          "name": "stderr",
          "text": [
            "\r 47%|████▋     | 7/15 [2:19:51<59:28, 446.10s/it]  "
          ]
        },
        {
          "output_type": "stream",
          "name": "stdout",
          "text": [
            "\t| New lowest test loss for DenseNet161: 0.008032679060341195\n",
            "Epoch: 8 | Learning rate: [3.267e-05]\n"
          ]
        },
        {
          "output_type": "stream",
          "name": "stderr",
          "text": [
            "\r 53%|█████▎    | 8/15 [2:22:40<41:43, 357.67s/it]"
          ]
        },
        {
          "output_type": "stream",
          "name": "stdout",
          "text": [
            "Epoch: 9 | Learning rate: [3.267e-05]\n"
          ]
        },
        {
          "output_type": "stream",
          "name": "stderr",
          "text": [
            "\r 60%|██████    | 9/15 [2:25:29<29:53, 298.86s/it]"
          ]
        },
        {
          "output_type": "stream",
          "name": "stdout",
          "text": [
            "\t| New lowest test loss for DenseNet161: 0.008018221700499017\n",
            "Epoch: 10 | Learning rate: [3.557763e-06]\n"
          ]
        },
        {
          "output_type": "stream",
          "name": "stderr",
          "text": [
            "\r 67%|██████▋   | 10/15 [2:28:18<21:33, 258.69s/it]"
          ]
        },
        {
          "output_type": "stream",
          "name": "stdout",
          "text": [
            "Epoch: 11 | Learning rate: [1.0781099999999999e-05]\n"
          ]
        },
        {
          "output_type": "stream",
          "name": "stderr",
          "text": [
            "\r 73%|███████▎  | 11/15 [2:31:08<15:26, 231.56s/it]"
          ]
        },
        {
          "output_type": "stream",
          "name": "stdout",
          "text": [
            "Epoch: 12 | Learning rate: [1.0781099999999999e-05]\n"
          ]
        },
        {
          "output_type": "stream",
          "name": "stderr",
          "text": [
            "\r 80%|████████  | 12/15 [2:33:58<10:38, 212.74s/it]"
          ]
        },
        {
          "output_type": "stream",
          "name": "stdout",
          "text": [
            "\t| New lowest test loss for DenseNet161: 0.008012498863188378\n",
            "Epoch: 13 | Learning rate: [1.17406179e-06]\n"
          ]
        },
        {
          "output_type": "stream",
          "name": "stderr",
          "text": [
            "\r 87%|████████▋ | 13/15 [2:36:47<06:39, 199.68s/it]"
          ]
        },
        {
          "output_type": "stream",
          "name": "stdout",
          "text": [
            "\t| New lowest test loss for DenseNet161: 0.008007795636136543\n",
            "Epoch: 14 | Learning rate: [3.557763e-06]\n"
          ]
        },
        {
          "output_type": "stream",
          "name": "stderr",
          "text": [
            "\r 93%|█████████▎| 14/15 [2:39:36<03:10, 190.24s/it]"
          ]
        },
        {
          "output_type": "stream",
          "name": "stdout",
          "text": [
            "\t| New lowest test loss for DenseNet161: 0.008005113630627645\n",
            "Epoch: 15 | Learning rate: [3.557763e-06]\n"
          ]
        },
        {
          "output_type": "stream",
          "name": "stderr",
          "text": [
            "100%|██████████| 15/15 [2:42:24<00:00, 649.65s/it]\n"
          ]
        }
      ],
      "source": [
        "model_densenet161 = models.densenet161(pretrained=True)\n",
        "for param in model_densenet161.parameters():\n",
        "    param.requires_grad = False\n",
        "model_densenet161.classifier = torch.nn.Linear(model_densenet161.classifier.in_features, out_features=200)\n",
        "model_densenet161 = model_densenet161.to(DEVICE)\n",
        "\n",
        "densenet161_Wrist_training = training(model=model_densenet161,\n",
        "                                        model_name='DenseNet161',\n",
        "                                        num_epochs=num_epochs,\n",
        "                                        train_dataloader=Wrist_train_dataloader,\n",
        "                                        test_dataloader=Wrist_test_dataloader)\n",
        "\n",
        "model_densenet161, train_loss_array, train_acc_array, test_loss_array, test_acc_array = densenet161_Wrist_training\n",
        "\n",
        "wrist_min_loss = min(test_loss_array)\n",
        "wrist_min_loss_epoch = test_loss_array.index(wrist_min_loss)\n",
        "wrist_min_loss_accuracy = test_acc_array[wrist_min_loss_epoch]"
      ]
    },
    {
      "cell_type": "code",
      "execution_count": 20,
      "metadata": {
        "id": "0sxsTHJa1E_Z",
        "colab": {
          "base_uri": "https://localhost:8080/"
        },
        "outputId": "9f2b0547-74b2-4311-cb81-6cadab82d81c"
      },
      "outputs": [
        {
          "output_type": "stream",
          "name": "stdout",
          "text": [
            "\n",
            "Training results:\n",
            "\tMin test loss 0.0080 was achieved during epoch #14\n",
            "\t test accuracy during min test loss is 0.7724\n"
          ]
        }
      ],
      "source": [
        "print(\"\\nTraining results:\")\n",
        "print(\"\\tMin test loss {:.4f} was achieved during epoch #{}\".format(wrist_min_loss, wrist_min_loss_epoch + 1))\n",
        "print(\"\\t test accuracy during min test loss is {:.4f}\".format(wrist_min_loss_accuracy))"
      ]
    },
    {
      "cell_type": "code",
      "source": [],
      "metadata": {
        "id": "-bicumwE0BDA"
      },
      "execution_count": null,
      "outputs": []
    }
  ],
  "metadata": {
    "accelerator": "GPU",
    "colab": {
      "machine_shape": "hm",
      "provenance": []
    },
    "gpuClass": "standard",
    "kernelspec": {
      "display_name": "Python 3",
      "name": "python3"
    },
    "language_info": {
      "name": "python"
    }
  },
  "nbformat": 4,
  "nbformat_minor": 0
}