{
  "nbformat": 4,
  "nbformat_minor": 0,
  "metadata": {
    "colab": {
      "provenance": [],
      "gpuType": "T4"
    },
    "kernelspec": {
      "name": "python3",
      "display_name": "Python 3"
    },
    "language_info": {
      "name": "python"
    },
    "accelerator": "GPU",
    "gpuClass": "standard"
  },
  "cells": [
    {
      "cell_type": "code",
      "execution_count": 1,
      "metadata": {
        "colab": {
          "base_uri": "https://localhost:8080/"
        },
        "id": "xvdLF5_fN8H6",
        "outputId": "05b607d1-00c4-44ec-81d3-46dfb04c6a6a"
      },
      "outputs": [
        {
          "output_type": "stream",
          "name": "stdout",
          "text": [
            "CUDA is available. Working on GPU\n"
          ]
        }
      ],
      "source": [
        "import os\n",
        "import numpy as np\n",
        "import pandas as pd\n",
        "from PIL import Image\n",
        "import matplotlib.pyplot as plt\n",
        "from tqdm import tqdm\n",
        "import copy\n",
        "from sklearn.preprocessing import LabelEncoder\n",
        "import pickle\n",
        "from sklearn.pipeline import Pipeline\n",
        "from torchsampler import ImbalancedDatasetSampler\n",
        "import torch\n",
        "import torch.nn as nn\n",
        "from torch.utils.data import Dataset, DataLoader\n",
        "from torchvision import transforms, models\n",
        "from sklearn.model_selection import KFold\n",
        "\n",
        "if torch.cuda.is_available():\n",
        "    print('CUDA is available. Working on GPU')\n",
        "    DEVICE = torch.device('cuda')\n",
        "else:\n",
        "    print('CUDA is not available. Working on CPU')\n",
        "    DEVICE = torch.device('cpu')"
      ]
    },
    {
      "cell_type": "code",
      "source": [
        "!pip install torchsampler"
      ],
      "metadata": {
        "id": "xhXkwycHPAKe"
      },
      "execution_count": null,
      "outputs": []
    },
    {
      "cell_type": "code",
      "source": [
        "from google.colab import drive\n",
        "drive.mount('/content/drive')"
      ],
      "metadata": {
        "colab": {
          "base_uri": "https://localhost:8080/"
        },
        "id": "U9mbRonJN-io",
        "outputId": "d94a93b6-3128-4230-dee1-80fb8d8eee58"
      },
      "execution_count": 3,
      "outputs": [
        {
          "output_type": "stream",
          "name": "stdout",
          "text": [
            "Drive already mounted at /content/drive; to attempt to forcibly remount, call drive.mount(\"/content/drive\", force_remount=True).\n"
          ]
        }
      ]
    },
    {
      "cell_type": "code",
      "source": [
        "train_img_paths = pd.read_csv('drive/MyDrive/MURA-v1.1/train_image_paths.csv', header = None, names = ['image_path'])\n",
        "test_img_paths = pd.read_csv('drive/MyDrive/MURA-v1.1/valid_image_paths.csv', header = None, names = ['image_path'])"
      ],
      "metadata": {
        "id": "CCzs1WVpN-44"
      },
      "execution_count": 4,
      "outputs": []
    },
    {
      "cell_type": "code",
      "source": [
        "def split_img_paths(df):\n",
        "    temp = df['image_path'].str.split('/', expand=True)\n",
        "    new_df = pd.DataFrame(df['image_path'])\n",
        "    new_df['patient_id'] = temp[3]\n",
        "    new_df['study'] = temp[4].str.split('_', expand = True)[0].str[-1:].astype(int)\n",
        "    new_df['region'] = temp[2].str.split('_', expand = True)[1]\n",
        "    map = {'positive':'abnormal', 'negative':'normal'}\n",
        "    new_df['target'] = temp[4].str.split('_', expand = True)[1]\n",
        "    new_df['target'] = new_df['target'].map(map)\n",
        "    #add google drive location to image path\n",
        "    new_df['image_path'] = 'drive/MyDrive/' + new_df['image_path']\n",
        "    \n",
        "    return new_df"
      ],
      "metadata": {
        "id": "0M5mrVNOODwm"
      },
      "execution_count": 5,
      "outputs": []
    },
    {
      "cell_type": "code",
      "source": [
        "mura_train = split_img_paths(train_img_paths)\n",
        "mura_test = split_img_paths(test_img_paths)"
      ],
      "metadata": {
        "id": "KQ1F3RmiOHOc"
      },
      "execution_count": 6,
      "outputs": []
    },
    {
      "cell_type": "code",
      "source": [
        "data_transforms = transforms.Compose([\n",
        "    #\n",
        "    #note that output channel is 1, will need to change and re-run for use with 3 channels\n",
        "    #\n",
        "    transforms.Grayscale(num_output_channels=3),\n",
        "    transforms.Resize((224,224)),\n",
        "    transforms.ToTensor()\n",
        "])"
      ],
      "metadata": {
        "id": "IlkR-_PpOH0N"
      },
      "execution_count": 7,
      "outputs": []
    },
    {
      "cell_type": "code",
      "source": [
        "def class_dict(two_targets):\n",
        "    classes_2 = ['normal', 'abnormal']\n",
        "    dict_2 = {'normal' : 0, 'abnormal': 1}\n",
        "    \n",
        "    return classes_2, dict_2"
      ],
      "metadata": {
        "id": "OToz_0i7OKEN"
      },
      "execution_count": 111,
      "outputs": []
    },
    {
      "cell_type": "code",
      "source": [
        "class MuraDataset(Dataset):\n",
        "    # change two targets to False if using 14 target data\n",
        "    def __init__(self, mura_df, two_targets, transform=data_transforms):\n",
        "        self.mura = mura_df\n",
        "        self.transform = transform\n",
        "        self.classes, self.class_to_idx = class_dict(two_targets=two_targets)\n",
        "        self.label= mura_df['target'].map({'normal' : 0, 'abnormal': 1})\n",
        "\n",
        "    def __len__(self):\n",
        "        return len(self.mura)\n",
        "\n",
        "    # retrives image from path in df file and target from df\n",
        "    def get_image_class(self, index):\n",
        "        image_path = self.mura.iloc[index]['image_path']\n",
        "        class_name = self.mura.iloc[index]['target']\n",
        "        return Image.open(image_path), class_name  \n",
        "\n",
        "    def get_labels(self):\n",
        "        return self.label\n",
        "\n",
        "\n",
        "    def __getitem__(self, idx):\n",
        "        image, class_name = self.get_image_class(idx)\n",
        "        label = self.class_to_idx[class_name]\n",
        "\n",
        "        return self.transform(image), label"
      ],
      "metadata": {
        "id": "s-WqkUvqOMgh"
      },
      "execution_count": 112,
      "outputs": []
    },
    {
      "cell_type": "code",
      "source": [
        "def training(model, model_name, num_epochs, train_dataloader, test_dataloader):\n",
        "\n",
        "    loss_function = torch.nn.CrossEntropyLoss()\n",
        "    optimizer = torch.optim.Adam(model.parameters(), lr=0.0003)\n",
        "    scheduler = torch.optim.lr_scheduler.StepLR(optimizer, step_size=3, gamma=0.33)\n",
        "\n",
        "    train_loss_array = []\n",
        "    train_acc_array = []\n",
        "    test_loss_array = []\n",
        "    test_acc_array = []\n",
        "    lowest_test_loss = np.inf\n",
        "    best_model = None\n",
        "\n",
        "    for epoch in tqdm(range(num_epochs)):\n",
        "\n",
        "        print('Epoch: {} | Learning rate: {}'.format(epoch + 1, scheduler.get_lr()))\n",
        "\n",
        "        for phase in ['train', 'val']:\n",
        "\n",
        "            epoch_loss = 0\n",
        "            epoch_correct_items = 0\n",
        "            epoch_items = 0\n",
        "\n",
        "            if phase == 'train':\n",
        "                model.train()\n",
        "                with torch.enable_grad():\n",
        "                    for samples, targets in train_dataloader:\n",
        "                        samples = samples.to(DEVICE)\n",
        "                        targets = targets.to(DEVICE)\n",
        "\n",
        "                        optimizer.zero_grad()\n",
        "                        outputs = model(samples)\n",
        "                        loss = loss_function(outputs, targets)\n",
        "                        preds = outputs.argmax(dim=1)\n",
        "                        correct_items = (preds == targets).float().sum()\n",
        "                        \n",
        "                        loss.backward()\n",
        "                        optimizer.step()\n",
        "\n",
        "                        epoch_loss += loss.item()\n",
        "                        epoch_correct_items += correct_items.item()\n",
        "                        epoch_items += len(targets)\n",
        "\n",
        "                train_loss_array.append(epoch_loss / epoch_items)\n",
        "                train_acc_array.append(epoch_correct_items / epoch_items)\n",
        "\n",
        "                scheduler.step()\n",
        "\n",
        "            elif phase == 'val':\n",
        "                model.eval()\n",
        "                with torch.no_grad():\n",
        "                    for samples, targets in test_dataloader:\n",
        "                        samples = samples.to(DEVICE)\n",
        "                        targets = targets.to(DEVICE)\n",
        "\n",
        "                        outputs = model(samples)\n",
        "                        loss = loss_function(outputs, targets)\n",
        "                        preds = outputs.argmax(dim=1)\n",
        "                        correct_items = (preds == targets).float().sum()\n",
        "\n",
        "                        epoch_loss += loss.item()\n",
        "                        epoch_correct_items += correct_items.item()\n",
        "                        epoch_items += len(targets)\n",
        "\n",
        "                test_loss_array.append(epoch_loss / epoch_items)\n",
        "                test_acc_array.append(epoch_correct_items / epoch_items)\n",
        "\n",
        "                if epoch_loss / epoch_items < lowest_test_loss:\n",
        "                    lowest_test_loss = epoch_loss / epoch_items\n",
        "                    torch.save(model.state_dict(), '{}_weights.pth'.format(model_name))\n",
        "                    best_model = copy.deepcopy(model)\n",
        "                    print(\"\\t| New lowest test loss for {}: {}\".format(model_name, lowest_test_loss))\n",
        "\n",
        "    return best_model, train_loss_array, train_acc_array, test_loss_array, test_acc_array"
      ],
      "metadata": {
        "id": "s-NAhEIOOQBP"
      },
      "execution_count": 113,
      "outputs": []
    },
    {
      "cell_type": "markdown",
      "source": [
        "## **Forearm**"
      ],
      "metadata": {
        "id": "qj5a1W5Z0AUs"
      }
    },
    {
      "cell_type": "code",
      "source": [
        "forearm_train = mura_train[mura_train['region']=='FOREARM']\n",
        "forearm_test = mura_test[mura_test['region']=='FOREARM']"
      ],
      "metadata": {
        "id": "YWN87F_oOUUg"
      },
      "execution_count": 115,
      "outputs": []
    },
    {
      "cell_type": "code",
      "source": [
        "pd.set_option('max_colwidth', None)\n",
        "forearm_train.head()"
      ],
      "metadata": {
        "colab": {
          "base_uri": "https://localhost:8080/",
          "height": 204
        },
        "id": "WLX1gblAOWaE",
        "outputId": "ce5e7c35-6473-4e7d-f350-3cb109252782"
      },
      "execution_count": 116,
      "outputs": [
        {
          "output_type": "execute_result",
          "data": {
            "text/plain": [
              "                                                                             image_path  \\\n",
              "29440  drive/MyDrive/MURA-v1.1/train/XR_FOREARM/patient09083/study1_positive/image1.png   \n",
              "29441  drive/MyDrive/MURA-v1.1/train/XR_FOREARM/patient09083/study1_positive/image2.png   \n",
              "29442  drive/MyDrive/MURA-v1.1/train/XR_FOREARM/patient05601/study1_positive/image1.png   \n",
              "29443  drive/MyDrive/MURA-v1.1/train/XR_FOREARM/patient05601/study1_positive/image2.png   \n",
              "29444  drive/MyDrive/MURA-v1.1/train/XR_FOREARM/patient05601/study1_positive/image3.png   \n",
              "\n",
              "         patient_id  study   region    target  \n",
              "29440  patient09083      1  FOREARM  abnormal  \n",
              "29441  patient09083      1  FOREARM  abnormal  \n",
              "29442  patient05601      1  FOREARM  abnormal  \n",
              "29443  patient05601      1  FOREARM  abnormal  \n",
              "29444  patient05601      1  FOREARM  abnormal  "
            ],
            "text/html": [
              "\n",
              "  <div id=\"df-e2bb83cc-a9ca-403d-8b5c-bb3f6c14b184\">\n",
              "    <div class=\"colab-df-container\">\n",
              "      <div>\n",
              "<style scoped>\n",
              "    .dataframe tbody tr th:only-of-type {\n",
              "        vertical-align: middle;\n",
              "    }\n",
              "\n",
              "    .dataframe tbody tr th {\n",
              "        vertical-align: top;\n",
              "    }\n",
              "\n",
              "    .dataframe thead th {\n",
              "        text-align: right;\n",
              "    }\n",
              "</style>\n",
              "<table border=\"1\" class=\"dataframe\">\n",
              "  <thead>\n",
              "    <tr style=\"text-align: right;\">\n",
              "      <th></th>\n",
              "      <th>image_path</th>\n",
              "      <th>patient_id</th>\n",
              "      <th>study</th>\n",
              "      <th>region</th>\n",
              "      <th>target</th>\n",
              "    </tr>\n",
              "  </thead>\n",
              "  <tbody>\n",
              "    <tr>\n",
              "      <th>29440</th>\n",
              "      <td>drive/MyDrive/MURA-v1.1/train/XR_FOREARM/patient09083/study1_positive/image1.png</td>\n",
              "      <td>patient09083</td>\n",
              "      <td>1</td>\n",
              "      <td>FOREARM</td>\n",
              "      <td>abnormal</td>\n",
              "    </tr>\n",
              "    <tr>\n",
              "      <th>29441</th>\n",
              "      <td>drive/MyDrive/MURA-v1.1/train/XR_FOREARM/patient09083/study1_positive/image2.png</td>\n",
              "      <td>patient09083</td>\n",
              "      <td>1</td>\n",
              "      <td>FOREARM</td>\n",
              "      <td>abnormal</td>\n",
              "    </tr>\n",
              "    <tr>\n",
              "      <th>29442</th>\n",
              "      <td>drive/MyDrive/MURA-v1.1/train/XR_FOREARM/patient05601/study1_positive/image1.png</td>\n",
              "      <td>patient05601</td>\n",
              "      <td>1</td>\n",
              "      <td>FOREARM</td>\n",
              "      <td>abnormal</td>\n",
              "    </tr>\n",
              "    <tr>\n",
              "      <th>29443</th>\n",
              "      <td>drive/MyDrive/MURA-v1.1/train/XR_FOREARM/patient05601/study1_positive/image2.png</td>\n",
              "      <td>patient05601</td>\n",
              "      <td>1</td>\n",
              "      <td>FOREARM</td>\n",
              "      <td>abnormal</td>\n",
              "    </tr>\n",
              "    <tr>\n",
              "      <th>29444</th>\n",
              "      <td>drive/MyDrive/MURA-v1.1/train/XR_FOREARM/patient05601/study1_positive/image3.png</td>\n",
              "      <td>patient05601</td>\n",
              "      <td>1</td>\n",
              "      <td>FOREARM</td>\n",
              "      <td>abnormal</td>\n",
              "    </tr>\n",
              "  </tbody>\n",
              "</table>\n",
              "</div>\n",
              "      <button class=\"colab-df-convert\" onclick=\"convertToInteractive('df-e2bb83cc-a9ca-403d-8b5c-bb3f6c14b184')\"\n",
              "              title=\"Convert this dataframe to an interactive table.\"\n",
              "              style=\"display:none;\">\n",
              "        \n",
              "  <svg xmlns=\"http://www.w3.org/2000/svg\" height=\"24px\"viewBox=\"0 0 24 24\"\n",
              "       width=\"24px\">\n",
              "    <path d=\"M0 0h24v24H0V0z\" fill=\"none\"/>\n",
              "    <path d=\"M18.56 5.44l.94 2.06.94-2.06 2.06-.94-2.06-.94-.94-2.06-.94 2.06-2.06.94zm-11 1L8.5 8.5l.94-2.06 2.06-.94-2.06-.94L8.5 2.5l-.94 2.06-2.06.94zm10 10l.94 2.06.94-2.06 2.06-.94-2.06-.94-.94-2.06-.94 2.06-2.06.94z\"/><path d=\"M17.41 7.96l-1.37-1.37c-.4-.4-.92-.59-1.43-.59-.52 0-1.04.2-1.43.59L10.3 9.45l-7.72 7.72c-.78.78-.78 2.05 0 2.83L4 21.41c.39.39.9.59 1.41.59.51 0 1.02-.2 1.41-.59l7.78-7.78 2.81-2.81c.8-.78.8-2.07 0-2.86zM5.41 20L4 18.59l7.72-7.72 1.47 1.35L5.41 20z\"/>\n",
              "  </svg>\n",
              "      </button>\n",
              "      \n",
              "  <style>\n",
              "    .colab-df-container {\n",
              "      display:flex;\n",
              "      flex-wrap:wrap;\n",
              "      gap: 12px;\n",
              "    }\n",
              "\n",
              "    .colab-df-convert {\n",
              "      background-color: #E8F0FE;\n",
              "      border: none;\n",
              "      border-radius: 50%;\n",
              "      cursor: pointer;\n",
              "      display: none;\n",
              "      fill: #1967D2;\n",
              "      height: 32px;\n",
              "      padding: 0 0 0 0;\n",
              "      width: 32px;\n",
              "    }\n",
              "\n",
              "    .colab-df-convert:hover {\n",
              "      background-color: #E2EBFA;\n",
              "      box-shadow: 0px 1px 2px rgba(60, 64, 67, 0.3), 0px 1px 3px 1px rgba(60, 64, 67, 0.15);\n",
              "      fill: #174EA6;\n",
              "    }\n",
              "\n",
              "    [theme=dark] .colab-df-convert {\n",
              "      background-color: #3B4455;\n",
              "      fill: #D2E3FC;\n",
              "    }\n",
              "\n",
              "    [theme=dark] .colab-df-convert:hover {\n",
              "      background-color: #434B5C;\n",
              "      box-shadow: 0px 1px 3px 1px rgba(0, 0, 0, 0.15);\n",
              "      filter: drop-shadow(0px 1px 2px rgba(0, 0, 0, 0.3));\n",
              "      fill: #FFFFFF;\n",
              "    }\n",
              "  </style>\n",
              "\n",
              "      <script>\n",
              "        const buttonEl =\n",
              "          document.querySelector('#df-e2bb83cc-a9ca-403d-8b5c-bb3f6c14b184 button.colab-df-convert');\n",
              "        buttonEl.style.display =\n",
              "          google.colab.kernel.accessAllowed ? 'block' : 'none';\n",
              "\n",
              "        async function convertToInteractive(key) {\n",
              "          const element = document.querySelector('#df-e2bb83cc-a9ca-403d-8b5c-bb3f6c14b184');\n",
              "          const dataTable =\n",
              "            await google.colab.kernel.invokeFunction('convertToInteractive',\n",
              "                                                     [key], {});\n",
              "          if (!dataTable) return;\n",
              "\n",
              "          const docLinkHtml = 'Like what you see? Visit the ' +\n",
              "            '<a target=\"_blank\" href=https://colab.research.google.com/notebooks/data_table.ipynb>data table notebook</a>'\n",
              "            + ' to learn more about interactive tables.';\n",
              "          element.innerHTML = '';\n",
              "          dataTable['output_type'] = 'display_data';\n",
              "          await google.colab.output.renderOutput(dataTable, element);\n",
              "          const docLink = document.createElement('div');\n",
              "          docLink.innerHTML = docLinkHtml;\n",
              "          element.appendChild(docLink);\n",
              "        }\n",
              "      </script>\n",
              "    </div>\n",
              "  </div>\n",
              "  "
            ]
          },
          "metadata": {},
          "execution_count": 116
        }
      ]
    },
    {
      "cell_type": "code",
      "source": [
        "forearm_train_dataset = MuraDataset(mura_df = forearm_train, two_targets=True)\n",
        "forearm_test_dataset = MuraDataset(mura_df = forearm_test, two_targets=True)"
      ],
      "metadata": {
        "id": "7h1YunZAOaew"
      },
      "execution_count": 117,
      "outputs": []
    },
    {
      "cell_type": "code",
      "source": [
        "Forearm_train_dataloader = DataLoader(forearm_train_dataset, sampler=ImbalancedDatasetSampler(forearm_train_dataset), batch_size=64)\n",
        "Forearm_test_dataloader = DataLoader(forearm_test_dataset,  batch_size=64, shuffle=True)\n",
        "num_epochs = 15\n"
      ],
      "metadata": {
        "id": "kyzsHmv6Ocnw"
      },
      "execution_count": 119,
      "outputs": []
    },
    {
      "cell_type": "code",
      "source": [
        "model_densenet161 = models.densenet161(pretrained=True)\n",
        "for param in model_densenet161.parameters():\n",
        "    param.requires_grad = False\n",
        "model_densenet161.classifier = torch.nn.Linear(model_densenet161.classifier.in_features, out_features=200)\n",
        "model_densenet161 = model_densenet161.to(DEVICE)\n",
        "\n",
        "\n",
        "densenet161_Forearm_training = training(model=model_densenet161,\n",
        "                                        model_name='DenseNet161',\n",
        "                                        num_epochs=num_epochs,\n",
        "                                        train_dataloader=Forearm_train_dataloader,\n",
        "                                        test_dataloader=Forearm_test_dataloader)\n",
        "\n",
        "model_densenet161, train_loss_array, train_acc_array, test_loss_array, test_acc_array = densenet161_Forearm_training\n",
        "\n",
        "forearm_min_loss = min(test_loss_array)\n",
        "forearm_min_loss_epoch = test_loss_array.index(forearm_min_loss)\n",
        "forearm_min_loss_accuracy = test_acc_array[forearm_min_loss_epoch]"
      ],
      "metadata": {
        "colab": {
          "base_uri": "https://localhost:8080/"
        },
        "id": "S5q-yRKaOeqe",
        "outputId": "e84ef395-3aea-4ad4-8fc7-b828b478fcbf"
      },
      "execution_count": 120,
      "outputs": [
        {
          "output_type": "stream",
          "name": "stderr",
          "text": [
            "/usr/local/lib/python3.10/dist-packages/torchvision/models/_utils.py:208: UserWarning: The parameter 'pretrained' is deprecated since 0.13 and may be removed in the future, please use 'weights' instead.\n",
            "  warnings.warn(\n",
            "/usr/local/lib/python3.10/dist-packages/torchvision/models/_utils.py:223: UserWarning: Arguments other than a weight enum or `None` for 'weights' are deprecated since 0.13 and may be removed in the future. The current behavior is equivalent to passing `weights=DenseNet161_Weights.IMAGENET1K_V1`. You can also use `weights=DenseNet161_Weights.DEFAULT` to get the most up-to-date weights.\n",
            "  warnings.warn(msg)\n",
            "  0%|          | 0/15 [00:00<?, ?it/s]/usr/local/lib/python3.10/dist-packages/torch/optim/lr_scheduler.py:389: UserWarning: To get the last learning rate computed by the scheduler, please use `get_last_lr()`.\n",
            "  warnings.warn(\"To get the last learning rate computed by the scheduler, \"\n"
          ]
        },
        {
          "output_type": "stream",
          "name": "stdout",
          "text": [
            "Epoch: 1 | Learning rate: [0.0003]\n"
          ]
        },
        {
          "output_type": "stream",
          "name": "stderr",
          "text": [
            "\r  7%|▋         | 1/15 [10:32<2:27:32, 632.34s/it]"
          ]
        },
        {
          "output_type": "stream",
          "name": "stdout",
          "text": [
            "\t| New lowest test loss for DenseNet161: 0.013627686175793113\n",
            "Epoch: 2 | Learning rate: [0.0003]\n"
          ]
        },
        {
          "output_type": "stream",
          "name": "stderr",
          "text": [
            "\r 13%|█▎        | 2/15 [13:17<1:17:24, 357.27s/it]"
          ]
        },
        {
          "output_type": "stream",
          "name": "stdout",
          "text": [
            "\t| New lowest test loss for DenseNet161: 0.01127905901088271\n",
            "Epoch: 3 | Learning rate: [0.0003]\n"
          ]
        },
        {
          "output_type": "stream",
          "name": "stderr",
          "text": [
            "\r 20%|██        | 3/15 [14:36<46:03, 230.33s/it]  "
          ]
        },
        {
          "output_type": "stream",
          "name": "stdout",
          "text": [
            "\t| New lowest test loss for DenseNet161: 0.010605540188444017\n",
            "Epoch: 4 | Learning rate: [3.267e-05]\n"
          ]
        },
        {
          "output_type": "stream",
          "name": "stderr",
          "text": [
            "\r 27%|██▋       | 4/15 [15:29<29:22, 160.19s/it]"
          ]
        },
        {
          "output_type": "stream",
          "name": "stdout",
          "text": [
            "\t| New lowest test loss for DenseNet161: 0.010452817642807564\n",
            "Epoch: 5 | Learning rate: [9.9e-05]\n"
          ]
        },
        {
          "output_type": "stream",
          "name": "stderr",
          "text": [
            "\r 33%|███▎      | 5/15 [16:10<19:32, 117.22s/it]"
          ]
        },
        {
          "output_type": "stream",
          "name": "stdout",
          "text": [
            "\t| New lowest test loss for DenseNet161: 0.010286787419620146\n",
            "Epoch: 6 | Learning rate: [9.9e-05]\n"
          ]
        },
        {
          "output_type": "stream",
          "name": "stderr",
          "text": [
            "\r 40%|████      | 6/15 [16:47<13:32, 90.24s/it] "
          ]
        },
        {
          "output_type": "stream",
          "name": "stdout",
          "text": [
            "\t| New lowest test loss for DenseNet161: 0.010153811833391159\n",
            "Epoch: 7 | Learning rate: [1.0781099999999999e-05]\n"
          ]
        },
        {
          "output_type": "stream",
          "name": "stderr",
          "text": [
            "\r 47%|████▋     | 7/15 [17:23<09:38, 72.27s/it]"
          ]
        },
        {
          "output_type": "stream",
          "name": "stdout",
          "text": [
            "Epoch: 8 | Learning rate: [3.267e-05]\n"
          ]
        },
        {
          "output_type": "stream",
          "name": "stderr",
          "text": [
            "\r 53%|█████▎    | 8/15 [17:57<07:01, 60.18s/it]"
          ]
        },
        {
          "output_type": "stream",
          "name": "stdout",
          "text": [
            "\t| New lowest test loss for DenseNet161: 0.010036889698814316\n",
            "Epoch: 9 | Learning rate: [3.267e-05]\n"
          ]
        },
        {
          "output_type": "stream",
          "name": "stderr",
          "text": [
            "\r 60%|██████    | 9/15 [18:31<05:12, 52.04s/it]"
          ]
        },
        {
          "output_type": "stream",
          "name": "stdout",
          "text": [
            "Epoch: 10 | Learning rate: [3.557763e-06]\n"
          ]
        },
        {
          "output_type": "stream",
          "name": "stderr",
          "text": [
            "\r 67%|██████▋   | 10/15 [19:05<03:52, 46.45s/it]"
          ]
        },
        {
          "output_type": "stream",
          "name": "stdout",
          "text": [
            "\t| New lowest test loss for DenseNet161: 0.01001693679644816\n",
            "Epoch: 11 | Learning rate: [1.0781099999999999e-05]\n"
          ]
        },
        {
          "output_type": "stream",
          "name": "stderr",
          "text": [
            "\r 73%|███████▎  | 11/15 [19:39<02:50, 42.68s/it]"
          ]
        },
        {
          "output_type": "stream",
          "name": "stdout",
          "text": [
            "\t| New lowest test loss for DenseNet161: 0.009964464114749947\n",
            "Epoch: 12 | Learning rate: [1.0781099999999999e-05]\n"
          ]
        },
        {
          "output_type": "stream",
          "name": "stderr",
          "text": [
            "\r 80%|████████  | 12/15 [20:12<01:59, 39.77s/it]"
          ]
        },
        {
          "output_type": "stream",
          "name": "stdout",
          "text": [
            "Epoch: 13 | Learning rate: [1.17406179e-06]\n"
          ]
        },
        {
          "output_type": "stream",
          "name": "stderr",
          "text": [
            "\r 87%|████████▋ | 13/15 [20:46<01:15, 37.88s/it]"
          ]
        },
        {
          "output_type": "stream",
          "name": "stdout",
          "text": [
            "Epoch: 14 | Learning rate: [3.557763e-06]\n"
          ]
        },
        {
          "output_type": "stream",
          "name": "stderr",
          "text": [
            "\r 93%|█████████▎| 14/15 [21:20<00:36, 36.63s/it]"
          ]
        },
        {
          "output_type": "stream",
          "name": "stdout",
          "text": [
            "\t| New lowest test loss for DenseNet161: 0.009958966427863238\n",
            "Epoch: 15 | Learning rate: [3.557763e-06]\n"
          ]
        },
        {
          "output_type": "stream",
          "name": "stderr",
          "text": [
            "100%|██████████| 15/15 [21:53<00:00, 87.59s/it]\n"
          ]
        }
      ]
    },
    {
      "cell_type": "code",
      "source": [
        "print(\"\\nTraining results:\")\n",
        "print(\"\\tMin test loss {:.4f} was achieved during epoch #{}\".format(forearm_min_loss, forearm_min_loss_epoch + 1))\n",
        "print(\"\\t test accuracy during min test loss is {:.4f}\".format(forearm_min_loss_accuracy))"
      ],
      "metadata": {
        "colab": {
          "base_uri": "https://localhost:8080/"
        },
        "id": "ry1kC_s_OhDE",
        "outputId": "ea52ba28-cc54-4920-f444-09afaa813a5c"
      },
      "execution_count": 121,
      "outputs": [
        {
          "output_type": "stream",
          "name": "stdout",
          "text": [
            "\n",
            "Training results:\n",
            "\tMin test loss 0.0100 was achieved during epoch #14\n",
            "\t test accuracy during min test loss is 0.7143\n"
          ]
        }
      ]
    },
    {
      "cell_type": "code",
      "source": [
        "#predictions on Test data\n",
        "\n",
        "all_preds = []\n",
        "all_files = []\n",
        "\n",
        "model_densenet161.eval()\n",
        "with torch.no_grad():\n",
        "    for samples, f_names in tqdm(Forearm_test_dataloader):\n",
        "        samples = samples.to(DEVICE)\n",
        "        outputs = model_densenet161(samples)\n",
        "        preds = outputs.argmax(dim=1)\n",
        "        all_preds.extend(preds.tolist())\n",
        "        all_files.extend(f_names)\n",
        "\n",
        "all_filenames= forearm_test['image_path'].values.tolist()\n",
        "\n",
        "def class_dict_inverse(two_targets):\n",
        "    if two_targets==0:\n",
        "      return 'normal'\n",
        "    else:\n",
        "      return 'abnormal'\n",
        "\n",
        "all_preds_decoded = [class_dict_inverse(i) for i in all_preds]\n",
        "\n",
        "submission_forearm_df = pd.DataFrame(list(zip(all_filenames, all_preds_decoded)), columns =['File', 'Prediction'])\n",
        "submission_forearm_df.to_csv('test_predictions_forearm.csv', header=False, index=False) \n",
        "submission_forearm_df"
      ],
      "metadata": {
        "colab": {
          "base_uri": "https://localhost:8080/",
          "height": 436
        },
        "id": "ZgrIrBHcmAx0",
        "outputId": "31acf74f-cdf0-4f88-ea50-1d16295bf045"
      },
      "execution_count": 122,
      "outputs": [
        {
          "output_type": "stream",
          "name": "stderr",
          "text": [
            "100%|██████████| 5/5 [00:04<00:00,  1.04it/s]\n"
          ]
        },
        {
          "output_type": "execute_result",
          "data": {
            "text/plain": [
              "                                                                                 File  \\\n",
              "0    drive/MyDrive/MURA-v1.1/valid/XR_FOREARM/patient11392/study1_positive/image1.png   \n",
              "1    drive/MyDrive/MURA-v1.1/valid/XR_FOREARM/patient11392/study1_positive/image2.png   \n",
              "2    drive/MyDrive/MURA-v1.1/valid/XR_FOREARM/patient11392/study1_positive/image3.png   \n",
              "3    drive/MyDrive/MURA-v1.1/valid/XR_FOREARM/patient11393/study1_positive/image1.png   \n",
              "4    drive/MyDrive/MURA-v1.1/valid/XR_FOREARM/patient11393/study1_positive/image2.png   \n",
              "..                                                                                ...   \n",
              "296  drive/MyDrive/MURA-v1.1/valid/XR_FOREARM/patient11191/study1_negative/image1.png   \n",
              "297  drive/MyDrive/MURA-v1.1/valid/XR_FOREARM/patient11191/study1_negative/image2.png   \n",
              "298  drive/MyDrive/MURA-v1.1/valid/XR_FOREARM/patient11191/study1_negative/image3.png   \n",
              "299  drive/MyDrive/MURA-v1.1/valid/XR_FOREARM/patient11496/study1_negative/image1.png   \n",
              "300  drive/MyDrive/MURA-v1.1/valid/XR_FOREARM/patient11496/study1_negative/image2.png   \n",
              "\n",
              "    Prediction  \n",
              "0       normal  \n",
              "1     abnormal  \n",
              "2       normal  \n",
              "3     abnormal  \n",
              "4       normal  \n",
              "..         ...  \n",
              "296   abnormal  \n",
              "297     normal  \n",
              "298   abnormal  \n",
              "299   abnormal  \n",
              "300   abnormal  \n",
              "\n",
              "[301 rows x 2 columns]"
            ],
            "text/html": [
              "\n",
              "  <div id=\"df-0af539ff-378f-4de9-a16c-c934921b4973\">\n",
              "    <div class=\"colab-df-container\">\n",
              "      <div>\n",
              "<style scoped>\n",
              "    .dataframe tbody tr th:only-of-type {\n",
              "        vertical-align: middle;\n",
              "    }\n",
              "\n",
              "    .dataframe tbody tr th {\n",
              "        vertical-align: top;\n",
              "    }\n",
              "\n",
              "    .dataframe thead th {\n",
              "        text-align: right;\n",
              "    }\n",
              "</style>\n",
              "<table border=\"1\" class=\"dataframe\">\n",
              "  <thead>\n",
              "    <tr style=\"text-align: right;\">\n",
              "      <th></th>\n",
              "      <th>File</th>\n",
              "      <th>Prediction</th>\n",
              "    </tr>\n",
              "  </thead>\n",
              "  <tbody>\n",
              "    <tr>\n",
              "      <th>0</th>\n",
              "      <td>drive/MyDrive/MURA-v1.1/valid/XR_FOREARM/patient11392/study1_positive/image1.png</td>\n",
              "      <td>normal</td>\n",
              "    </tr>\n",
              "    <tr>\n",
              "      <th>1</th>\n",
              "      <td>drive/MyDrive/MURA-v1.1/valid/XR_FOREARM/patient11392/study1_positive/image2.png</td>\n",
              "      <td>abnormal</td>\n",
              "    </tr>\n",
              "    <tr>\n",
              "      <th>2</th>\n",
              "      <td>drive/MyDrive/MURA-v1.1/valid/XR_FOREARM/patient11392/study1_positive/image3.png</td>\n",
              "      <td>normal</td>\n",
              "    </tr>\n",
              "    <tr>\n",
              "      <th>3</th>\n",
              "      <td>drive/MyDrive/MURA-v1.1/valid/XR_FOREARM/patient11393/study1_positive/image1.png</td>\n",
              "      <td>abnormal</td>\n",
              "    </tr>\n",
              "    <tr>\n",
              "      <th>4</th>\n",
              "      <td>drive/MyDrive/MURA-v1.1/valid/XR_FOREARM/patient11393/study1_positive/image2.png</td>\n",
              "      <td>normal</td>\n",
              "    </tr>\n",
              "    <tr>\n",
              "      <th>...</th>\n",
              "      <td>...</td>\n",
              "      <td>...</td>\n",
              "    </tr>\n",
              "    <tr>\n",
              "      <th>296</th>\n",
              "      <td>drive/MyDrive/MURA-v1.1/valid/XR_FOREARM/patient11191/study1_negative/image1.png</td>\n",
              "      <td>abnormal</td>\n",
              "    </tr>\n",
              "    <tr>\n",
              "      <th>297</th>\n",
              "      <td>drive/MyDrive/MURA-v1.1/valid/XR_FOREARM/patient11191/study1_negative/image2.png</td>\n",
              "      <td>normal</td>\n",
              "    </tr>\n",
              "    <tr>\n",
              "      <th>298</th>\n",
              "      <td>drive/MyDrive/MURA-v1.1/valid/XR_FOREARM/patient11191/study1_negative/image3.png</td>\n",
              "      <td>abnormal</td>\n",
              "    </tr>\n",
              "    <tr>\n",
              "      <th>299</th>\n",
              "      <td>drive/MyDrive/MURA-v1.1/valid/XR_FOREARM/patient11496/study1_negative/image1.png</td>\n",
              "      <td>abnormal</td>\n",
              "    </tr>\n",
              "    <tr>\n",
              "      <th>300</th>\n",
              "      <td>drive/MyDrive/MURA-v1.1/valid/XR_FOREARM/patient11496/study1_negative/image2.png</td>\n",
              "      <td>abnormal</td>\n",
              "    </tr>\n",
              "  </tbody>\n",
              "</table>\n",
              "<p>301 rows × 2 columns</p>\n",
              "</div>\n",
              "      <button class=\"colab-df-convert\" onclick=\"convertToInteractive('df-0af539ff-378f-4de9-a16c-c934921b4973')\"\n",
              "              title=\"Convert this dataframe to an interactive table.\"\n",
              "              style=\"display:none;\">\n",
              "        \n",
              "  <svg xmlns=\"http://www.w3.org/2000/svg\" height=\"24px\"viewBox=\"0 0 24 24\"\n",
              "       width=\"24px\">\n",
              "    <path d=\"M0 0h24v24H0V0z\" fill=\"none\"/>\n",
              "    <path d=\"M18.56 5.44l.94 2.06.94-2.06 2.06-.94-2.06-.94-.94-2.06-.94 2.06-2.06.94zm-11 1L8.5 8.5l.94-2.06 2.06-.94-2.06-.94L8.5 2.5l-.94 2.06-2.06.94zm10 10l.94 2.06.94-2.06 2.06-.94-2.06-.94-.94-2.06-.94 2.06-2.06.94z\"/><path d=\"M17.41 7.96l-1.37-1.37c-.4-.4-.92-.59-1.43-.59-.52 0-1.04.2-1.43.59L10.3 9.45l-7.72 7.72c-.78.78-.78 2.05 0 2.83L4 21.41c.39.39.9.59 1.41.59.51 0 1.02-.2 1.41-.59l7.78-7.78 2.81-2.81c.8-.78.8-2.07 0-2.86zM5.41 20L4 18.59l7.72-7.72 1.47 1.35L5.41 20z\"/>\n",
              "  </svg>\n",
              "      </button>\n",
              "      \n",
              "  <style>\n",
              "    .colab-df-container {\n",
              "      display:flex;\n",
              "      flex-wrap:wrap;\n",
              "      gap: 12px;\n",
              "    }\n",
              "\n",
              "    .colab-df-convert {\n",
              "      background-color: #E8F0FE;\n",
              "      border: none;\n",
              "      border-radius: 50%;\n",
              "      cursor: pointer;\n",
              "      display: none;\n",
              "      fill: #1967D2;\n",
              "      height: 32px;\n",
              "      padding: 0 0 0 0;\n",
              "      width: 32px;\n",
              "    }\n",
              "\n",
              "    .colab-df-convert:hover {\n",
              "      background-color: #E2EBFA;\n",
              "      box-shadow: 0px 1px 2px rgba(60, 64, 67, 0.3), 0px 1px 3px 1px rgba(60, 64, 67, 0.15);\n",
              "      fill: #174EA6;\n",
              "    }\n",
              "\n",
              "    [theme=dark] .colab-df-convert {\n",
              "      background-color: #3B4455;\n",
              "      fill: #D2E3FC;\n",
              "    }\n",
              "\n",
              "    [theme=dark] .colab-df-convert:hover {\n",
              "      background-color: #434B5C;\n",
              "      box-shadow: 0px 1px 3px 1px rgba(0, 0, 0, 0.15);\n",
              "      filter: drop-shadow(0px 1px 2px rgba(0, 0, 0, 0.3));\n",
              "      fill: #FFFFFF;\n",
              "    }\n",
              "  </style>\n",
              "\n",
              "      <script>\n",
              "        const buttonEl =\n",
              "          document.querySelector('#df-0af539ff-378f-4de9-a16c-c934921b4973 button.colab-df-convert');\n",
              "        buttonEl.style.display =\n",
              "          google.colab.kernel.accessAllowed ? 'block' : 'none';\n",
              "\n",
              "        async function convertToInteractive(key) {\n",
              "          const element = document.querySelector('#df-0af539ff-378f-4de9-a16c-c934921b4973');\n",
              "          const dataTable =\n",
              "            await google.colab.kernel.invokeFunction('convertToInteractive',\n",
              "                                                     [key], {});\n",
              "          if (!dataTable) return;\n",
              "\n",
              "          const docLinkHtml = 'Like what you see? Visit the ' +\n",
              "            '<a target=\"_blank\" href=https://colab.research.google.com/notebooks/data_table.ipynb>data table notebook</a>'\n",
              "            + ' to learn more about interactive tables.';\n",
              "          element.innerHTML = '';\n",
              "          dataTable['output_type'] = 'display_data';\n",
              "          await google.colab.output.renderOutput(dataTable, element);\n",
              "          const docLink = document.createElement('div');\n",
              "          docLink.innerHTML = docLinkHtml;\n",
              "          element.appendChild(docLink);\n",
              "        }\n",
              "      </script>\n",
              "    </div>\n",
              "  </div>\n",
              "  "
            ]
          },
          "metadata": {},
          "execution_count": 122
        }
      ]
    },
    {
      "cell_type": "markdown",
      "source": [
        "## **Finger**"
      ],
      "metadata": {
        "id": "eDDXLJ2klmj9"
      }
    },
    {
      "cell_type": "code",
      "source": [
        "finger_train = mura_train[mura_train['region']=='FINGER']\n",
        "finger_test = mura_test[mura_test['region']=='FINGER']"
      ],
      "metadata": {
        "id": "LIRtM6pXknsQ"
      },
      "execution_count": 136,
      "outputs": []
    },
    {
      "cell_type": "code",
      "source": [
        "finger_train_dataset = MuraDataset(mura_df = finger_train, two_targets=True)\n",
        "finger_test_dataset = MuraDataset(mura_df = finger_test, two_targets=True)"
      ],
      "metadata": {
        "id": "CXyZzE8Zl9sy"
      },
      "execution_count": 137,
      "outputs": []
    },
    {
      "cell_type": "code",
      "source": [
        "Finger_train_dataloader = DataLoader(finger_train_dataset, sampler=ImbalancedDatasetSampler(finger_train_dataset),batch_size=64 )\n",
        "Finger_test_dataloader = DataLoader(finger_test_dataset,  batch_size=64, shuffle=True)\n",
        "num_epochs = 15\n"
      ],
      "metadata": {
        "id": "X8yHMW1GqMnF"
      },
      "execution_count": 138,
      "outputs": []
    },
    {
      "cell_type": "code",
      "source": [
        "model_densenet161 = models.densenet161(pretrained=True)\n",
        "for param in model_densenet161.parameters():\n",
        "    param.requires_grad = False\n",
        "model_densenet161.classifier = torch.nn.Linear(model_densenet161.classifier.in_features, out_features=200)\n",
        "model_densenet161 = model_densenet161.to(DEVICE)\n",
        "\n",
        "\n",
        "densenet161_finger_training = training(model=model_densenet161,\n",
        "                                        model_name='DenseNet161',\n",
        "                                        num_epochs=num_epochs,\n",
        "                                        train_dataloader=Finger_train_dataloader,\n",
        "                                        test_dataloader=Finger_test_dataloader)\n",
        "\n",
        "model_densenet161, train_loss_array, train_acc_array, test_loss_array, test_acc_array = densenet161_finger_training\n",
        "\n",
        "finger_min_loss = min(test_loss_array)\n",
        "finger_min_loss_epoch = test_loss_array.index(finger_min_loss)\n",
        "finger_min_loss_accuracy = test_acc_array[finger_min_loss_epoch]"
      ],
      "metadata": {
        "colab": {
          "base_uri": "https://localhost:8080/"
        },
        "id": "bSKRneyFqtfg",
        "outputId": "f2bc9b34-ba4e-4640-c7dd-2b5c0768d789"
      },
      "execution_count": 139,
      "outputs": [
        {
          "output_type": "stream",
          "name": "stderr",
          "text": [
            "/usr/local/lib/python3.10/dist-packages/torchvision/models/_utils.py:208: UserWarning: The parameter 'pretrained' is deprecated since 0.13 and may be removed in the future, please use 'weights' instead.\n",
            "  warnings.warn(\n",
            "/usr/local/lib/python3.10/dist-packages/torchvision/models/_utils.py:223: UserWarning: Arguments other than a weight enum or `None` for 'weights' are deprecated since 0.13 and may be removed in the future. The current behavior is equivalent to passing `weights=DenseNet161_Weights.IMAGENET1K_V1`. You can also use `weights=DenseNet161_Weights.DEFAULT` to get the most up-to-date weights.\n",
            "  warnings.warn(msg)\n",
            "  0%|          | 0/15 [00:00<?, ?it/s]/usr/local/lib/python3.10/dist-packages/torch/optim/lr_scheduler.py:389: UserWarning: To get the last learning rate computed by the scheduler, please use `get_last_lr()`.\n",
            "  warnings.warn(\"To get the last learning rate computed by the scheduler, \"\n"
          ]
        },
        {
          "output_type": "stream",
          "name": "stdout",
          "text": [
            "Epoch: 1 | Learning rate: [0.0003]\n"
          ]
        },
        {
          "output_type": "stream",
          "name": "stderr",
          "text": [
            "\r  7%|▋         | 1/15 [33:21<7:47:03, 2001.69s/it]"
          ]
        },
        {
          "output_type": "stream",
          "name": "stdout",
          "text": [
            "\t| New lowest test loss for DenseNet161: 0.011034523716717636\n",
            "Epoch: 2 | Learning rate: [0.0003]\n"
          ]
        },
        {
          "output_type": "stream",
          "name": "stderr",
          "text": [
            "\r 13%|█▎        | 2/15 [40:40<3:54:32, 1082.53s/it]"
          ]
        },
        {
          "output_type": "stream",
          "name": "stdout",
          "text": [
            "\t| New lowest test loss for DenseNet161: 0.010208352527494286\n",
            "Epoch: 3 | Learning rate: [0.0003]\n"
          ]
        },
        {
          "output_type": "stream",
          "name": "stderr",
          "text": [
            "\r 20%|██        | 3/15 [44:33<2:18:52, 694.38s/it] "
          ]
        },
        {
          "output_type": "stream",
          "name": "stdout",
          "text": [
            "\t| New lowest test loss for DenseNet161: 0.009816593823877694\n",
            "Epoch: 4 | Learning rate: [3.267e-05]\n"
          ]
        },
        {
          "output_type": "stream",
          "name": "stderr",
          "text": [
            "\r 27%|██▋       | 4/15 [46:51<1:27:03, 474.89s/it]"
          ]
        },
        {
          "output_type": "stream",
          "name": "stdout",
          "text": [
            "Epoch: 5 | Learning rate: [9.9e-05]\n"
          ]
        },
        {
          "output_type": "stream",
          "name": "stderr",
          "text": [
            "\r 33%|███▎      | 5/15 [48:40<57:09, 342.95s/it]  "
          ]
        },
        {
          "output_type": "stream",
          "name": "stdout",
          "text": [
            "\t| New lowest test loss for DenseNet161: 0.009465232976346626\n",
            "Epoch: 6 | Learning rate: [9.9e-05]\n"
          ]
        },
        {
          "output_type": "stream",
          "name": "stderr",
          "text": [
            "\r 40%|████      | 6/15 [50:18<38:56, 259.64s/it]"
          ]
        },
        {
          "output_type": "stream",
          "name": "stdout",
          "text": [
            "\t| New lowest test loss for DenseNet161: 0.009330598754634567\n",
            "Epoch: 7 | Learning rate: [1.0781099999999999e-05]\n"
          ]
        },
        {
          "output_type": "stream",
          "name": "stderr",
          "text": [
            "\r 47%|████▋     | 7/15 [51:49<27:16, 204.51s/it]"
          ]
        },
        {
          "output_type": "stream",
          "name": "stdout",
          "text": [
            "Epoch: 8 | Learning rate: [3.267e-05]\n"
          ]
        },
        {
          "output_type": "stream",
          "name": "stderr",
          "text": [
            "\r 53%|█████▎    | 8/15 [53:16<19:30, 167.20s/it]"
          ]
        },
        {
          "output_type": "stream",
          "name": "stdout",
          "text": [
            "Epoch: 9 | Learning rate: [3.267e-05]\n"
          ]
        },
        {
          "output_type": "stream",
          "name": "stderr",
          "text": [
            "\r 60%|██████    | 9/15 [54:44<14:12, 142.15s/it]"
          ]
        },
        {
          "output_type": "stream",
          "name": "stdout",
          "text": [
            "Epoch: 10 | Learning rate: [3.557763e-06]\n"
          ]
        },
        {
          "output_type": "stream",
          "name": "stderr",
          "text": [
            "\r 67%|██████▋   | 10/15 [56:10<10:25, 125.03s/it]"
          ]
        },
        {
          "output_type": "stream",
          "name": "stdout",
          "text": [
            "Epoch: 11 | Learning rate: [1.0781099999999999e-05]\n"
          ]
        },
        {
          "output_type": "stream",
          "name": "stderr",
          "text": [
            "\r 73%|███████▎  | 11/15 [57:36<07:32, 113.15s/it]"
          ]
        },
        {
          "output_type": "stream",
          "name": "stdout",
          "text": [
            "Epoch: 12 | Learning rate: [1.0781099999999999e-05]\n"
          ]
        },
        {
          "output_type": "stream",
          "name": "stderr",
          "text": [
            "\r 80%|████████  | 12/15 [59:03<05:14, 104.95s/it]"
          ]
        },
        {
          "output_type": "stream",
          "name": "stdout",
          "text": [
            "Epoch: 13 | Learning rate: [1.17406179e-06]\n"
          ]
        },
        {
          "output_type": "stream",
          "name": "stderr",
          "text": [
            "\r 87%|████████▋ | 13/15 [1:00:29<03:18, 99.20s/it]"
          ]
        },
        {
          "output_type": "stream",
          "name": "stdout",
          "text": [
            "Epoch: 14 | Learning rate: [3.557763e-06]\n"
          ]
        },
        {
          "output_type": "stream",
          "name": "stderr",
          "text": [
            "\r 93%|█████████▎| 14/15 [1:01:54<01:34, 94.98s/it]"
          ]
        },
        {
          "output_type": "stream",
          "name": "stdout",
          "text": [
            "Epoch: 15 | Learning rate: [3.557763e-06]\n"
          ]
        },
        {
          "output_type": "stream",
          "name": "stderr",
          "text": [
            "100%|██████████| 15/15 [1:03:19<00:00, 253.31s/it]\n"
          ]
        }
      ]
    },
    {
      "cell_type": "code",
      "source": [
        "print(\"\\nTraining results:\")\n",
        "print(\"\\tMin test loss {:.4f} was achieved during epoch #{}\".format(finger_min_loss, finger_min_loss_epoch + 1))\n",
        "print(\"\\t test accuracy during min test loss is {:.4f}\".format(finger_min_loss_accuracy))"
      ],
      "metadata": {
        "colab": {
          "base_uri": "https://localhost:8080/"
        },
        "id": "rhdzKbwfq5ss",
        "outputId": "491fa621-490f-4e61-8189-a7276910a109"
      },
      "execution_count": 140,
      "outputs": [
        {
          "output_type": "stream",
          "name": "stdout",
          "text": [
            "\n",
            "Training results:\n",
            "\tMin test loss 0.0093 was achieved during epoch #6\n",
            "\t test accuracy during min test loss is 0.7375\n"
          ]
        }
      ]
    },
    {
      "cell_type": "code",
      "source": [
        "#predictions on Test data\n",
        "\n",
        "all_preds = []\n",
        "all_files = []\n",
        "\n",
        "model_densenet161.eval()\n",
        "with torch.no_grad():\n",
        "    for samples, f_names in tqdm(Finger_test_dataloader):\n",
        "        samples = samples.to(DEVICE)\n",
        "        outputs = model_densenet161(samples)\n",
        "        preds = outputs.argmax(dim=1)\n",
        "        all_preds.extend(preds.tolist())\n",
        "        all_files.extend(f_names)\n",
        "\n",
        "all_filenames= finger_test['image_path'].values.tolist()\n",
        "\n",
        "def class_dict_inverse(two_targets):\n",
        "    if two_targets==0:\n",
        "      return 'normal'\n",
        "    else:\n",
        "      return 'abnormal'\n",
        "\n",
        "all_preds_decoded = [class_dict_inverse(i) for i in all_preds]\n",
        "\n",
        "submission_finger_df = pd.DataFrame(list(zip(all_filenames, all_preds_decoded)), columns =['File', 'Prediction'])\n",
        "submission_finger_df.to_csv('test_predictions_finger.csv', header=False, index=False) \n",
        "submission_finger_df"
      ],
      "metadata": {
        "colab": {
          "base_uri": "https://localhost:8080/",
          "height": 436
        },
        "id": "7JB33x6o8R6s",
        "outputId": "a950dbf8-240e-4847-eb92-bd6ebb74b5ee"
      },
      "execution_count": 141,
      "outputs": [
        {
          "output_type": "stream",
          "name": "stderr",
          "text": [
            "100%|██████████| 8/8 [00:07<00:00,  1.12it/s]\n"
          ]
        },
        {
          "output_type": "execute_result",
          "data": {
            "text/plain": [
              "                                                                                File  \\\n",
              "0    drive/MyDrive/MURA-v1.1/valid/XR_FINGER/patient11882/study1_positive/image1.png   \n",
              "1    drive/MyDrive/MURA-v1.1/valid/XR_FINGER/patient11882/study1_positive/image2.png   \n",
              "2    drive/MyDrive/MURA-v1.1/valid/XR_FINGER/patient11883/study1_positive/image1.png   \n",
              "3    drive/MyDrive/MURA-v1.1/valid/XR_FINGER/patient11883/study1_positive/image2.png   \n",
              "4    drive/MyDrive/MURA-v1.1/valid/XR_FINGER/patient11883/study1_positive/image3.png   \n",
              "..                                                                               ...   \n",
              "456  drive/MyDrive/MURA-v1.1/valid/XR_FINGER/patient11967/study1_negative/image3.png   \n",
              "457  drive/MyDrive/MURA-v1.1/valid/XR_FINGER/patient11967/study1_negative/image4.png   \n",
              "458  drive/MyDrive/MURA-v1.1/valid/XR_FINGER/patient11738/study1_negative/image1.png   \n",
              "459  drive/MyDrive/MURA-v1.1/valid/XR_FINGER/patient11738/study1_negative/image2.png   \n",
              "460  drive/MyDrive/MURA-v1.1/valid/XR_FINGER/patient11738/study1_negative/image3.png   \n",
              "\n",
              "    Prediction  \n",
              "0     abnormal  \n",
              "1       normal  \n",
              "2       normal  \n",
              "3     abnormal  \n",
              "4     abnormal  \n",
              "..         ...  \n",
              "456   abnormal  \n",
              "457   abnormal  \n",
              "458     normal  \n",
              "459   abnormal  \n",
              "460     normal  \n",
              "\n",
              "[461 rows x 2 columns]"
            ],
            "text/html": [
              "\n",
              "  <div id=\"df-7147e531-29b1-49ac-b4fa-5b604e2906ce\">\n",
              "    <div class=\"colab-df-container\">\n",
              "      <div>\n",
              "<style scoped>\n",
              "    .dataframe tbody tr th:only-of-type {\n",
              "        vertical-align: middle;\n",
              "    }\n",
              "\n",
              "    .dataframe tbody tr th {\n",
              "        vertical-align: top;\n",
              "    }\n",
              "\n",
              "    .dataframe thead th {\n",
              "        text-align: right;\n",
              "    }\n",
              "</style>\n",
              "<table border=\"1\" class=\"dataframe\">\n",
              "  <thead>\n",
              "    <tr style=\"text-align: right;\">\n",
              "      <th></th>\n",
              "      <th>File</th>\n",
              "      <th>Prediction</th>\n",
              "    </tr>\n",
              "  </thead>\n",
              "  <tbody>\n",
              "    <tr>\n",
              "      <th>0</th>\n",
              "      <td>drive/MyDrive/MURA-v1.1/valid/XR_FINGER/patient11882/study1_positive/image1.png</td>\n",
              "      <td>abnormal</td>\n",
              "    </tr>\n",
              "    <tr>\n",
              "      <th>1</th>\n",
              "      <td>drive/MyDrive/MURA-v1.1/valid/XR_FINGER/patient11882/study1_positive/image2.png</td>\n",
              "      <td>normal</td>\n",
              "    </tr>\n",
              "    <tr>\n",
              "      <th>2</th>\n",
              "      <td>drive/MyDrive/MURA-v1.1/valid/XR_FINGER/patient11883/study1_positive/image1.png</td>\n",
              "      <td>normal</td>\n",
              "    </tr>\n",
              "    <tr>\n",
              "      <th>3</th>\n",
              "      <td>drive/MyDrive/MURA-v1.1/valid/XR_FINGER/patient11883/study1_positive/image2.png</td>\n",
              "      <td>abnormal</td>\n",
              "    </tr>\n",
              "    <tr>\n",
              "      <th>4</th>\n",
              "      <td>drive/MyDrive/MURA-v1.1/valid/XR_FINGER/patient11883/study1_positive/image3.png</td>\n",
              "      <td>abnormal</td>\n",
              "    </tr>\n",
              "    <tr>\n",
              "      <th>...</th>\n",
              "      <td>...</td>\n",
              "      <td>...</td>\n",
              "    </tr>\n",
              "    <tr>\n",
              "      <th>456</th>\n",
              "      <td>drive/MyDrive/MURA-v1.1/valid/XR_FINGER/patient11967/study1_negative/image3.png</td>\n",
              "      <td>abnormal</td>\n",
              "    </tr>\n",
              "    <tr>\n",
              "      <th>457</th>\n",
              "      <td>drive/MyDrive/MURA-v1.1/valid/XR_FINGER/patient11967/study1_negative/image4.png</td>\n",
              "      <td>abnormal</td>\n",
              "    </tr>\n",
              "    <tr>\n",
              "      <th>458</th>\n",
              "      <td>drive/MyDrive/MURA-v1.1/valid/XR_FINGER/patient11738/study1_negative/image1.png</td>\n",
              "      <td>normal</td>\n",
              "    </tr>\n",
              "    <tr>\n",
              "      <th>459</th>\n",
              "      <td>drive/MyDrive/MURA-v1.1/valid/XR_FINGER/patient11738/study1_negative/image2.png</td>\n",
              "      <td>abnormal</td>\n",
              "    </tr>\n",
              "    <tr>\n",
              "      <th>460</th>\n",
              "      <td>drive/MyDrive/MURA-v1.1/valid/XR_FINGER/patient11738/study1_negative/image3.png</td>\n",
              "      <td>normal</td>\n",
              "    </tr>\n",
              "  </tbody>\n",
              "</table>\n",
              "<p>461 rows × 2 columns</p>\n",
              "</div>\n",
              "      <button class=\"colab-df-convert\" onclick=\"convertToInteractive('df-7147e531-29b1-49ac-b4fa-5b604e2906ce')\"\n",
              "              title=\"Convert this dataframe to an interactive table.\"\n",
              "              style=\"display:none;\">\n",
              "        \n",
              "  <svg xmlns=\"http://www.w3.org/2000/svg\" height=\"24px\"viewBox=\"0 0 24 24\"\n",
              "       width=\"24px\">\n",
              "    <path d=\"M0 0h24v24H0V0z\" fill=\"none\"/>\n",
              "    <path d=\"M18.56 5.44l.94 2.06.94-2.06 2.06-.94-2.06-.94-.94-2.06-.94 2.06-2.06.94zm-11 1L8.5 8.5l.94-2.06 2.06-.94-2.06-.94L8.5 2.5l-.94 2.06-2.06.94zm10 10l.94 2.06.94-2.06 2.06-.94-2.06-.94-.94-2.06-.94 2.06-2.06.94z\"/><path d=\"M17.41 7.96l-1.37-1.37c-.4-.4-.92-.59-1.43-.59-.52 0-1.04.2-1.43.59L10.3 9.45l-7.72 7.72c-.78.78-.78 2.05 0 2.83L4 21.41c.39.39.9.59 1.41.59.51 0 1.02-.2 1.41-.59l7.78-7.78 2.81-2.81c.8-.78.8-2.07 0-2.86zM5.41 20L4 18.59l7.72-7.72 1.47 1.35L5.41 20z\"/>\n",
              "  </svg>\n",
              "      </button>\n",
              "      \n",
              "  <style>\n",
              "    .colab-df-container {\n",
              "      display:flex;\n",
              "      flex-wrap:wrap;\n",
              "      gap: 12px;\n",
              "    }\n",
              "\n",
              "    .colab-df-convert {\n",
              "      background-color: #E8F0FE;\n",
              "      border: none;\n",
              "      border-radius: 50%;\n",
              "      cursor: pointer;\n",
              "      display: none;\n",
              "      fill: #1967D2;\n",
              "      height: 32px;\n",
              "      padding: 0 0 0 0;\n",
              "      width: 32px;\n",
              "    }\n",
              "\n",
              "    .colab-df-convert:hover {\n",
              "      background-color: #E2EBFA;\n",
              "      box-shadow: 0px 1px 2px rgba(60, 64, 67, 0.3), 0px 1px 3px 1px rgba(60, 64, 67, 0.15);\n",
              "      fill: #174EA6;\n",
              "    }\n",
              "\n",
              "    [theme=dark] .colab-df-convert {\n",
              "      background-color: #3B4455;\n",
              "      fill: #D2E3FC;\n",
              "    }\n",
              "\n",
              "    [theme=dark] .colab-df-convert:hover {\n",
              "      background-color: #434B5C;\n",
              "      box-shadow: 0px 1px 3px 1px rgba(0, 0, 0, 0.15);\n",
              "      filter: drop-shadow(0px 1px 2px rgba(0, 0, 0, 0.3));\n",
              "      fill: #FFFFFF;\n",
              "    }\n",
              "  </style>\n",
              "\n",
              "      <script>\n",
              "        const buttonEl =\n",
              "          document.querySelector('#df-7147e531-29b1-49ac-b4fa-5b604e2906ce button.colab-df-convert');\n",
              "        buttonEl.style.display =\n",
              "          google.colab.kernel.accessAllowed ? 'block' : 'none';\n",
              "\n",
              "        async function convertToInteractive(key) {\n",
              "          const element = document.querySelector('#df-7147e531-29b1-49ac-b4fa-5b604e2906ce');\n",
              "          const dataTable =\n",
              "            await google.colab.kernel.invokeFunction('convertToInteractive',\n",
              "                                                     [key], {});\n",
              "          if (!dataTable) return;\n",
              "\n",
              "          const docLinkHtml = 'Like what you see? Visit the ' +\n",
              "            '<a target=\"_blank\" href=https://colab.research.google.com/notebooks/data_table.ipynb>data table notebook</a>'\n",
              "            + ' to learn more about interactive tables.';\n",
              "          element.innerHTML = '';\n",
              "          dataTable['output_type'] = 'display_data';\n",
              "          await google.colab.output.renderOutput(dataTable, element);\n",
              "          const docLink = document.createElement('div');\n",
              "          docLink.innerHTML = docLinkHtml;\n",
              "          element.appendChild(docLink);\n",
              "        }\n",
              "      </script>\n",
              "    </div>\n",
              "  </div>\n",
              "  "
            ]
          },
          "metadata": {},
          "execution_count": 141
        }
      ]
    },
    {
      "cell_type": "markdown",
      "source": [
        "## **Hand**"
      ],
      "metadata": {
        "id": "TqJoKhK_86xa"
      }
    },
    {
      "cell_type": "code",
      "source": [
        "hand_train = mura_train[mura_train['region']=='HAND']\n",
        "hand_test = mura_test[mura_test['region']=='HAND']"
      ],
      "metadata": {
        "id": "YEQFVw7785lo"
      },
      "execution_count": 142,
      "outputs": []
    },
    {
      "cell_type": "code",
      "source": [
        "hand_train_dataset = MuraDataset(mura_df = hand_train, two_targets=True)\n",
        "hand_test_dataset = MuraDataset(mura_df = hand_test, two_targets=True)"
      ],
      "metadata": {
        "id": "IgpqlMrN8uRP"
      },
      "execution_count": 143,
      "outputs": []
    },
    {
      "cell_type": "code",
      "source": [
        "hand_train_dataloader = DataLoader(hand_train_dataset, sampler=ImbalancedDatasetSampler(hand_train_dataset), batch_size=64)\n",
        "hand_test_dataloader = DataLoader(hand_test_dataset,  batch_size=64, shuffle=True)\n",
        "num_epochs = 15\n"
      ],
      "metadata": {
        "id": "hQzQCpYG9KXu"
      },
      "execution_count": 144,
      "outputs": []
    },
    {
      "cell_type": "code",
      "source": [
        "model_densenet161 = models.densenet161(pretrained=True)\n",
        "for param in model_densenet161.parameters():\n",
        "    param.requires_grad = False\n",
        "model_densenet161.classifier = torch.nn.Linear(model_densenet161.classifier.in_features, out_features=200)\n",
        "model_densenet161 = model_densenet161.to(DEVICE)\n",
        "\n",
        "\n",
        "densenet161_hand_training = training(model=model_densenet161,\n",
        "                                        model_name='DenseNet161',\n",
        "                                        num_epochs=num_epochs,\n",
        "                                        train_dataloader=hand_train_dataloader,\n",
        "                                        test_dataloader=hand_test_dataloader)\n",
        "\n",
        "model_densenet161, train_loss_array, train_acc_array, test_loss_array, test_acc_array = densenet161_hand_training\n",
        "\n",
        "hand_min_loss = min(test_loss_array)\n",
        "hand_min_loss_epoch = test_loss_array.index(hand_min_loss)\n",
        "hand_min_loss_accuracy = test_acc_array[hand_min_loss_epoch]"
      ],
      "metadata": {
        "colab": {
          "base_uri": "https://localhost:8080/"
        },
        "id": "kTG5TVoG9NMx",
        "outputId": "8348ea7a-2254-429b-df76-e40461f39320"
      },
      "execution_count": 145,
      "outputs": [
        {
          "metadata": {
            "tags": null
          },
          "name": "stderr",
          "output_type": "stream",
          "text": [
            "/usr/local/lib/python3.10/dist-packages/torchvision/models/_utils.py:208: UserWarning: The parameter 'pretrained' is deprecated since 0.13 and may be removed in the future, please use 'weights' instead.\n",
            "  warnings.warn(\n",
            "/usr/local/lib/python3.10/dist-packages/torchvision/models/_utils.py:223: UserWarning: Arguments other than a weight enum or `None` for 'weights' are deprecated since 0.13 and may be removed in the future. The current behavior is equivalent to passing `weights=DenseNet161_Weights.IMAGENET1K_V1`. You can also use `weights=DenseNet161_Weights.DEFAULT` to get the most up-to-date weights.\n",
            "  warnings.warn(msg)\n",
            "  0%|          | 0/15 [00:00<?, ?it/s]/usr/local/lib/python3.10/dist-packages/torch/optim/lr_scheduler.py:389: UserWarning: To get the last learning rate computed by the scheduler, please use `get_last_lr()`.\n",
            "  warnings.warn(\"To get the last learning rate computed by the scheduler, \"\n"
          ]
        },
        {
          "metadata": {
            "tags": null
          },
          "name": "stdout",
          "output_type": "stream",
          "text": [
            "Epoch: 1 | Learning rate: [0.0003]\n"
          ]
        },
        {
          "metadata": {
            "tags": null
          },
          "name": "stderr",
          "output_type": "stream",
          "text": [
            "\r  7%|▋         | 1/15 [34:30<8:03:03, 2070.22s/it]"
          ]
        },
        {
          "metadata": {
            "tags": null
          },
          "name": "stdout",
          "output_type": "stream",
          "text": [
            "\t| New lowest test loss for DenseNet161: 0.011660009363423223\n",
            "Epoch: 2 | Learning rate: [0.0003]\n"
          ]
        },
        {
          "output_type": "stream",
          "name": "stderr",
          "text": [
            "\r 13%|█▎        | 2/15 [42:09<4:03:16, 1122.81s/it]"
          ]
        },
        {
          "output_type": "stream",
          "name": "stdout",
          "text": [
            "\t| New lowest test loss for DenseNet161: 0.011105614900588989\n",
            "Epoch: 3 | Learning rate: [0.0003]\n"
          ]
        },
        {
          "output_type": "stream",
          "name": "stderr",
          "text": [
            "\r 20%|██        | 3/15 [45:58<2:22:54, 714.51s/it] "
          ]
        },
        {
          "output_type": "stream",
          "name": "stdout",
          "text": [
            "\t| New lowest test loss for DenseNet161: 0.010481530298357425\n",
            "Epoch: 4 | Learning rate: [3.267e-05]\n"
          ]
        },
        {
          "output_type": "stream",
          "name": "stderr",
          "text": [
            "\r 27%|██▋       | 4/15 [48:38<1:30:51, 495.56s/it]"
          ]
        },
        {
          "output_type": "stream",
          "name": "stdout",
          "text": [
            "Epoch: 5 | Learning rate: [9.9e-05]\n"
          ]
        },
        {
          "output_type": "stream",
          "name": "stderr",
          "text": [
            "\r 33%|███▎      | 5/15 [50:42<1:00:16, 361.69s/it]"
          ]
        },
        {
          "output_type": "stream",
          "name": "stdout",
          "text": [
            "\t| New lowest test loss for DenseNet161: 0.010324247505353846\n",
            "Epoch: 6 | Learning rate: [9.9e-05]\n"
          ]
        },
        {
          "output_type": "stream",
          "name": "stderr",
          "text": [
            "\r 40%|████      | 6/15 [52:32<41:25, 276.14s/it]  "
          ]
        },
        {
          "output_type": "stream",
          "name": "stdout",
          "text": [
            "\t| New lowest test loss for DenseNet161: 0.010208509797635285\n",
            "Epoch: 7 | Learning rate: [1.0781099999999999e-05]\n"
          ]
        },
        {
          "output_type": "stream",
          "name": "stderr",
          "text": [
            "\r 47%|████▋     | 7/15 [54:16<29:18, 219.78s/it]"
          ]
        },
        {
          "output_type": "stream",
          "name": "stdout",
          "text": [
            "Epoch: 8 | Learning rate: [3.267e-05]\n"
          ]
        },
        {
          "output_type": "stream",
          "name": "stderr",
          "text": [
            "\r 53%|█████▎    | 8/15 [55:56<21:11, 181.63s/it]"
          ]
        },
        {
          "output_type": "stream",
          "name": "stdout",
          "text": [
            "Epoch: 9 | Learning rate: [3.267e-05]\n"
          ]
        },
        {
          "output_type": "stream",
          "name": "stderr",
          "text": [
            "\r 60%|██████    | 9/15 [57:34<15:32, 155.39s/it]"
          ]
        },
        {
          "output_type": "stream",
          "name": "stdout",
          "text": [
            "Epoch: 10 | Learning rate: [3.557763e-06]\n"
          ]
        },
        {
          "output_type": "stream",
          "name": "stderr",
          "text": [
            "\r 67%|██████▋   | 10/15 [59:10<11:25, 137.04s/it]"
          ]
        },
        {
          "output_type": "stream",
          "name": "stdout",
          "text": [
            "\t| New lowest test loss for DenseNet161: 0.010196938333304033\n",
            "Epoch: 11 | Learning rate: [1.0781099999999999e-05]\n"
          ]
        },
        {
          "output_type": "stream",
          "name": "stderr",
          "text": [
            "\r 73%|███████▎  | 11/15 [1:00:47<08:19, 124.81s/it]"
          ]
        },
        {
          "output_type": "stream",
          "name": "stdout",
          "text": [
            "Epoch: 12 | Learning rate: [1.0781099999999999e-05]\n"
          ]
        },
        {
          "output_type": "stream",
          "name": "stderr",
          "text": [
            "\r 80%|████████  | 12/15 [1:02:22<05:47, 115.97s/it]"
          ]
        },
        {
          "output_type": "stream",
          "name": "stdout",
          "text": [
            "\t| New lowest test loss for DenseNet161: 0.010123360545738884\n",
            "Epoch: 13 | Learning rate: [1.17406179e-06]\n"
          ]
        },
        {
          "output_type": "stream",
          "name": "stderr",
          "text": [
            "\r 87%|████████▋ | 13/15 [1:03:58<03:39, 109.82s/it]"
          ]
        },
        {
          "output_type": "stream",
          "name": "stdout",
          "text": [
            "Epoch: 14 | Learning rate: [3.557763e-06]\n"
          ]
        },
        {
          "output_type": "stream",
          "name": "stderr",
          "text": [
            "\r 93%|█████████▎| 14/15 [1:05:34<01:45, 105.71s/it]"
          ]
        },
        {
          "output_type": "stream",
          "name": "stdout",
          "text": [
            "Epoch: 15 | Learning rate: [3.557763e-06]\n"
          ]
        },
        {
          "output_type": "stream",
          "name": "stderr",
          "text": [
            "100%|██████████| 15/15 [1:07:10<00:00, 268.67s/it]"
          ]
        },
        {
          "output_type": "stream",
          "name": "stdout",
          "text": [
            "\t| New lowest test loss for DenseNet161: 0.010091900177623915\n"
          ]
        },
        {
          "output_type": "stream",
          "name": "stderr",
          "text": [
            "\n"
          ]
        }
      ]
    },
    {
      "cell_type": "code",
      "source": [
        "print(\"\\nTraining results:\")\n",
        "print(\"\\tMin test loss {:.4f} was achieved during epoch #{}\".format(hand_min_loss, hand_min_loss_epoch + 1))\n",
        "print(\"\\t test accuracy during min test loss is {:.4f}\".format(hand_min_loss_accuracy))"
      ],
      "metadata": {
        "colab": {
          "base_uri": "https://localhost:8080/"
        },
        "id": "WjkoF9wq9PfG",
        "outputId": "fb559167-ced3-466a-9e37-dcf5b2f19ed5"
      },
      "execution_count": 146,
      "outputs": [
        {
          "output_type": "stream",
          "name": "stdout",
          "text": [
            "\n",
            "Training results:\n",
            "\tMin test loss 0.0101 was achieved during epoch #15\n",
            "\t test accuracy during min test loss is 0.7065\n"
          ]
        }
      ]
    },
    {
      "cell_type": "code",
      "source": [
        "#predictions on Test data\n",
        "\n",
        "all_preds = []\n",
        "all_files = []\n",
        "\n",
        "model_densenet161.eval()\n",
        "with torch.no_grad():\n",
        "    for samples, f_names in tqdm(hand_test_dataloader):\n",
        "        samples = samples.to(DEVICE)\n",
        "        outputs = model_densenet161(samples)\n",
        "        preds = outputs.argmax(dim=1)\n",
        "        all_preds.extend(preds.tolist())\n",
        "        all_files.extend(f_names)\n",
        "\n",
        "all_filenames= hand_test['image_path'].values.tolist()\n",
        "\n",
        "def class_dict_inverse(two_targets):\n",
        "    if two_targets==0:\n",
        "      return 'normal'\n",
        "    else:\n",
        "      return 'abnormal'\n",
        "\n",
        "all_preds_decoded = [class_dict_inverse(i) for i in all_preds]\n",
        "\n",
        "submission_hand_df = pd.DataFrame(list(zip(all_filenames, all_preds_decoded)), columns =['File', 'Prediction'])\n",
        "submission_hand_df.to_csv('test_predictions_hand.csv', header=False, index=False) \n",
        "submission_hand_df.head(10)"
      ],
      "metadata": {
        "colab": {
          "base_uri": "https://localhost:8080/",
          "height": 376
        },
        "id": "GiFAFI8FNCSn",
        "outputId": "9059b0cb-1a06-4613-9312-dd76f68fd410"
      },
      "execution_count": 147,
      "outputs": [
        {
          "output_type": "stream",
          "name": "stderr",
          "text": [
            "100%|██████████| 8/8 [00:07<00:00,  1.08it/s]\n"
          ]
        },
        {
          "output_type": "execute_result",
          "data": {
            "text/plain": [
              "                                                                            File  \\\n",
              "0  drive/MyDrive/MURA-v1.1/valid/XR_HAND/patient11497/study1_positive/image1.png   \n",
              "1  drive/MyDrive/MURA-v1.1/valid/XR_HAND/patient11497/study1_positive/image2.png   \n",
              "2  drive/MyDrive/MURA-v1.1/valid/XR_HAND/patient11497/study1_positive/image3.png   \n",
              "3  drive/MyDrive/MURA-v1.1/valid/XR_HAND/patient11498/study1_positive/image1.png   \n",
              "4  drive/MyDrive/MURA-v1.1/valid/XR_HAND/patient11498/study1_positive/image2.png   \n",
              "5  drive/MyDrive/MURA-v1.1/valid/XR_HAND/patient11498/study1_positive/image3.png   \n",
              "6  drive/MyDrive/MURA-v1.1/valid/XR_HAND/patient11499/study1_positive/image1.png   \n",
              "7  drive/MyDrive/MURA-v1.1/valid/XR_HAND/patient11499/study1_positive/image2.png   \n",
              "8  drive/MyDrive/MURA-v1.1/valid/XR_HAND/patient11499/study1_positive/image3.png   \n",
              "9  drive/MyDrive/MURA-v1.1/valid/XR_HAND/patient11500/study1_positive/image1.png   \n",
              "\n",
              "  Prediction  \n",
              "0   abnormal  \n",
              "1   abnormal  \n",
              "2     normal  \n",
              "3   abnormal  \n",
              "4   abnormal  \n",
              "5   abnormal  \n",
              "6     normal  \n",
              "7     normal  \n",
              "8     normal  \n",
              "9   abnormal  "
            ],
            "text/html": [
              "\n",
              "  <div id=\"df-7aa25b9e-36d7-4e13-bbb3-cd06ca4a47c6\">\n",
              "    <div class=\"colab-df-container\">\n",
              "      <div>\n",
              "<style scoped>\n",
              "    .dataframe tbody tr th:only-of-type {\n",
              "        vertical-align: middle;\n",
              "    }\n",
              "\n",
              "    .dataframe tbody tr th {\n",
              "        vertical-align: top;\n",
              "    }\n",
              "\n",
              "    .dataframe thead th {\n",
              "        text-align: right;\n",
              "    }\n",
              "</style>\n",
              "<table border=\"1\" class=\"dataframe\">\n",
              "  <thead>\n",
              "    <tr style=\"text-align: right;\">\n",
              "      <th></th>\n",
              "      <th>File</th>\n",
              "      <th>Prediction</th>\n",
              "    </tr>\n",
              "  </thead>\n",
              "  <tbody>\n",
              "    <tr>\n",
              "      <th>0</th>\n",
              "      <td>drive/MyDrive/MURA-v1.1/valid/XR_HAND/patient11497/study1_positive/image1.png</td>\n",
              "      <td>abnormal</td>\n",
              "    </tr>\n",
              "    <tr>\n",
              "      <th>1</th>\n",
              "      <td>drive/MyDrive/MURA-v1.1/valid/XR_HAND/patient11497/study1_positive/image2.png</td>\n",
              "      <td>abnormal</td>\n",
              "    </tr>\n",
              "    <tr>\n",
              "      <th>2</th>\n",
              "      <td>drive/MyDrive/MURA-v1.1/valid/XR_HAND/patient11497/study1_positive/image3.png</td>\n",
              "      <td>normal</td>\n",
              "    </tr>\n",
              "    <tr>\n",
              "      <th>3</th>\n",
              "      <td>drive/MyDrive/MURA-v1.1/valid/XR_HAND/patient11498/study1_positive/image1.png</td>\n",
              "      <td>abnormal</td>\n",
              "    </tr>\n",
              "    <tr>\n",
              "      <th>4</th>\n",
              "      <td>drive/MyDrive/MURA-v1.1/valid/XR_HAND/patient11498/study1_positive/image2.png</td>\n",
              "      <td>abnormal</td>\n",
              "    </tr>\n",
              "    <tr>\n",
              "      <th>5</th>\n",
              "      <td>drive/MyDrive/MURA-v1.1/valid/XR_HAND/patient11498/study1_positive/image3.png</td>\n",
              "      <td>abnormal</td>\n",
              "    </tr>\n",
              "    <tr>\n",
              "      <th>6</th>\n",
              "      <td>drive/MyDrive/MURA-v1.1/valid/XR_HAND/patient11499/study1_positive/image1.png</td>\n",
              "      <td>normal</td>\n",
              "    </tr>\n",
              "    <tr>\n",
              "      <th>7</th>\n",
              "      <td>drive/MyDrive/MURA-v1.1/valid/XR_HAND/patient11499/study1_positive/image2.png</td>\n",
              "      <td>normal</td>\n",
              "    </tr>\n",
              "    <tr>\n",
              "      <th>8</th>\n",
              "      <td>drive/MyDrive/MURA-v1.1/valid/XR_HAND/patient11499/study1_positive/image3.png</td>\n",
              "      <td>normal</td>\n",
              "    </tr>\n",
              "    <tr>\n",
              "      <th>9</th>\n",
              "      <td>drive/MyDrive/MURA-v1.1/valid/XR_HAND/patient11500/study1_positive/image1.png</td>\n",
              "      <td>abnormal</td>\n",
              "    </tr>\n",
              "  </tbody>\n",
              "</table>\n",
              "</div>\n",
              "      <button class=\"colab-df-convert\" onclick=\"convertToInteractive('df-7aa25b9e-36d7-4e13-bbb3-cd06ca4a47c6')\"\n",
              "              title=\"Convert this dataframe to an interactive table.\"\n",
              "              style=\"display:none;\">\n",
              "        \n",
              "  <svg xmlns=\"http://www.w3.org/2000/svg\" height=\"24px\"viewBox=\"0 0 24 24\"\n",
              "       width=\"24px\">\n",
              "    <path d=\"M0 0h24v24H0V0z\" fill=\"none\"/>\n",
              "    <path d=\"M18.56 5.44l.94 2.06.94-2.06 2.06-.94-2.06-.94-.94-2.06-.94 2.06-2.06.94zm-11 1L8.5 8.5l.94-2.06 2.06-.94-2.06-.94L8.5 2.5l-.94 2.06-2.06.94zm10 10l.94 2.06.94-2.06 2.06-.94-2.06-.94-.94-2.06-.94 2.06-2.06.94z\"/><path d=\"M17.41 7.96l-1.37-1.37c-.4-.4-.92-.59-1.43-.59-.52 0-1.04.2-1.43.59L10.3 9.45l-7.72 7.72c-.78.78-.78 2.05 0 2.83L4 21.41c.39.39.9.59 1.41.59.51 0 1.02-.2 1.41-.59l7.78-7.78 2.81-2.81c.8-.78.8-2.07 0-2.86zM5.41 20L4 18.59l7.72-7.72 1.47 1.35L5.41 20z\"/>\n",
              "  </svg>\n",
              "      </button>\n",
              "      \n",
              "  <style>\n",
              "    .colab-df-container {\n",
              "      display:flex;\n",
              "      flex-wrap:wrap;\n",
              "      gap: 12px;\n",
              "    }\n",
              "\n",
              "    .colab-df-convert {\n",
              "      background-color: #E8F0FE;\n",
              "      border: none;\n",
              "      border-radius: 50%;\n",
              "      cursor: pointer;\n",
              "      display: none;\n",
              "      fill: #1967D2;\n",
              "      height: 32px;\n",
              "      padding: 0 0 0 0;\n",
              "      width: 32px;\n",
              "    }\n",
              "\n",
              "    .colab-df-convert:hover {\n",
              "      background-color: #E2EBFA;\n",
              "      box-shadow: 0px 1px 2px rgba(60, 64, 67, 0.3), 0px 1px 3px 1px rgba(60, 64, 67, 0.15);\n",
              "      fill: #174EA6;\n",
              "    }\n",
              "\n",
              "    [theme=dark] .colab-df-convert {\n",
              "      background-color: #3B4455;\n",
              "      fill: #D2E3FC;\n",
              "    }\n",
              "\n",
              "    [theme=dark] .colab-df-convert:hover {\n",
              "      background-color: #434B5C;\n",
              "      box-shadow: 0px 1px 3px 1px rgba(0, 0, 0, 0.15);\n",
              "      filter: drop-shadow(0px 1px 2px rgba(0, 0, 0, 0.3));\n",
              "      fill: #FFFFFF;\n",
              "    }\n",
              "  </style>\n",
              "\n",
              "      <script>\n",
              "        const buttonEl =\n",
              "          document.querySelector('#df-7aa25b9e-36d7-4e13-bbb3-cd06ca4a47c6 button.colab-df-convert');\n",
              "        buttonEl.style.display =\n",
              "          google.colab.kernel.accessAllowed ? 'block' : 'none';\n",
              "\n",
              "        async function convertToInteractive(key) {\n",
              "          const element = document.querySelector('#df-7aa25b9e-36d7-4e13-bbb3-cd06ca4a47c6');\n",
              "          const dataTable =\n",
              "            await google.colab.kernel.invokeFunction('convertToInteractive',\n",
              "                                                     [key], {});\n",
              "          if (!dataTable) return;\n",
              "\n",
              "          const docLinkHtml = 'Like what you see? Visit the ' +\n",
              "            '<a target=\"_blank\" href=https://colab.research.google.com/notebooks/data_table.ipynb>data table notebook</a>'\n",
              "            + ' to learn more about interactive tables.';\n",
              "          element.innerHTML = '';\n",
              "          dataTable['output_type'] = 'display_data';\n",
              "          await google.colab.output.renderOutput(dataTable, element);\n",
              "          const docLink = document.createElement('div');\n",
              "          docLink.innerHTML = docLinkHtml;\n",
              "          element.appendChild(docLink);\n",
              "        }\n",
              "      </script>\n",
              "    </div>\n",
              "  </div>\n",
              "  "
            ]
          },
          "metadata": {},
          "execution_count": 147
        }
      ]
    },
    {
      "cell_type": "markdown",
      "source": [
        "## **Wrist**"
      ],
      "metadata": {
        "id": "pzLnG7UDN0NB"
      }
    },
    {
      "cell_type": "code",
      "source": [
        "wrist_train = mura_train[mura_train['region']=='WRIST']\n",
        "wrist_test = mura_test[mura_test['region']=='WRIST']"
      ],
      "metadata": {
        "id": "2u_9OXgBNyh3"
      },
      "execution_count": 148,
      "outputs": []
    },
    {
      "cell_type": "code",
      "source": [
        "wrist_train_dataset = MuraDataset(mura_df = wrist_train, two_targets=True)\n",
        "wrist_test_dataset = MuraDataset(mura_df = wrist_test, two_targets=True)"
      ],
      "metadata": {
        "id": "B5tB1Dv-Ny_M"
      },
      "execution_count": 149,
      "outputs": []
    },
    {
      "cell_type": "code",
      "source": [
        "Wrist_train_dataloader = DataLoader(wrist_train_dataset, sampler=ImbalancedDatasetSampler(wrist_train_dataset), batch_size=64)\n",
        "Wrist_test_dataloader = DataLoader(wrist_test_dataset, batch_size=64, shuffle=False)\n",
        "num_epochs = 15"
      ],
      "metadata": {
        "id": "h01IOZ9XNzPd"
      },
      "execution_count": 150,
      "outputs": []
    },
    {
      "cell_type": "code",
      "source": [
        "model_densenet161 = models.densenet161(pretrained=True)\n",
        "for param in model_densenet161.parameters():\n",
        "    param.requires_grad = False\n",
        "model_densenet161.classifier = torch.nn.Linear(model_densenet161.classifier.in_features, out_features=200)\n",
        "model_densenet161 = model_densenet161.to(DEVICE)\n",
        "\n",
        "densenet161_Wrist_training = training(model=model_densenet161,\n",
        "                                        model_name='DenseNet161',\n",
        "                                        num_epochs=num_epochs,\n",
        "                                        train_dataloader=Wrist_train_dataloader,\n",
        "                                        test_dataloader=Wrist_test_dataloader)\n",
        "\n",
        "model_densenet161, train_loss_array, train_acc_array, test_loss_array, test_acc_array = densenet161_Wrist_training\n",
        "\n",
        "wrist_min_loss = min(test_loss_array)\n",
        "wrist_min_loss_epoch = test_loss_array.index(wrist_min_loss)\n",
        "wrist_min_loss_accuracy = test_acc_array[wrist_min_loss_epoch]"
      ],
      "metadata": {
        "colab": {
          "base_uri": "https://localhost:8080/"
        },
        "id": "eJaSwoVsNzfV",
        "outputId": "c39862e7-4b36-44ee-9f56-dda4af14bbe3"
      },
      "execution_count": 153,
      "outputs": [
        {
          "metadata": {
            "tags": null
          },
          "name": "stderr",
          "output_type": "stream",
          "text": [
            "\r  0%|          | 0/15 [00:00<?, ?it/s]"
          ]
        },
        {
          "metadata": {
            "tags": null
          },
          "name": "stdout",
          "output_type": "stream",
          "text": [
            "Epoch: 1 | Learning rate: [0.0003]\n"
          ]
        },
        {
          "metadata": {
            "tags": null
          },
          "name": "stderr",
          "output_type": "stream",
          "text": [
            "\r  7%|▋         | 1/15 [02:45<38:34, 165.35s/it]"
          ]
        },
        {
          "metadata": {
            "tags": null
          },
          "name": "stdout",
          "output_type": "stream",
          "text": [
            "\t| New lowest test loss for DenseNet161: 0.009775458997587513\n",
            "Epoch: 2 | Learning rate: [0.0003]\n"
          ]
        },
        {
          "metadata": {
            "tags": null
          },
          "name": "stderr",
          "output_type": "stream",
          "text": [
            "\r 13%|█▎        | 2/15 [05:29<35:44, 164.94s/it]"
          ]
        },
        {
          "metadata": {
            "tags": null
          },
          "name": "stdout",
          "output_type": "stream",
          "text": [
            "\t| New lowest test loss for DenseNet161: 0.00882393239300602\n",
            "Epoch: 3 | Learning rate: [0.0003]\n"
          ]
        },
        {
          "metadata": {
            "tags": null
          },
          "name": "stderr",
          "output_type": "stream",
          "text": [
            "\r 20%|██        | 3/15 [08:14<32:57, 164.79s/it]"
          ]
        },
        {
          "metadata": {
            "tags": null
          },
          "name": "stdout",
          "output_type": "stream",
          "text": [
            "\t| New lowest test loss for DenseNet161: 0.008499352586468362\n",
            "Epoch: 4 | Learning rate: [3.267e-05]\n"
          ]
        },
        {
          "metadata": {
            "tags": null
          },
          "name": "stderr",
          "output_type": "stream",
          "text": [
            "\r 27%|██▋       | 4/15 [10:59<30:11, 164.69s/it]"
          ]
        },
        {
          "metadata": {
            "tags": null
          },
          "name": "stdout",
          "output_type": "stream",
          "text": [
            "\t| New lowest test loss for DenseNet161: 0.00834200930342146\n",
            "Epoch: 5 | Learning rate: [9.9e-05]\n"
          ]
        },
        {
          "metadata": {
            "tags": null
          },
          "name": "stderr",
          "output_type": "stream",
          "text": [
            "\r 33%|███▎      | 5/15 [13:43<27:26, 164.62s/it]"
          ]
        },
        {
          "metadata": {
            "tags": null
          },
          "name": "stdout",
          "output_type": "stream",
          "text": [
            "\t| New lowest test loss for DenseNet161: 0.008163093344756431\n",
            "Epoch: 6 | Learning rate: [9.9e-05]\n"
          ]
        },
        {
          "metadata": {
            "tags": null
          },
          "name": "stderr",
          "output_type": "stream",
          "text": [
            "\r 40%|████      | 6/15 [16:28<24:41, 164.58s/it]"
          ]
        },
        {
          "metadata": {
            "tags": null
          },
          "name": "stdout",
          "output_type": "stream",
          "text": [
            "Epoch: 7 | Learning rate: [1.0781099999999999e-05]\n"
          ]
        },
        {
          "metadata": {
            "tags": null
          },
          "name": "stderr",
          "output_type": "stream",
          "text": [
            "\r 47%|████▋     | 7/15 [19:13<21:57, 164.69s/it]"
          ]
        },
        {
          "metadata": {
            "tags": null
          },
          "name": "stdout",
          "output_type": "stream",
          "text": [
            "Epoch: 8 | Learning rate: [3.267e-05]\n"
          ]
        },
        {
          "output_type": "stream",
          "name": "stderr",
          "text": [
            "\r 53%|█████▎    | 8/15 [21:55<19:08, 164.04s/it]"
          ]
        },
        {
          "output_type": "stream",
          "name": "stdout",
          "text": [
            "Epoch: 9 | Learning rate: [3.267e-05]\n"
          ]
        },
        {
          "output_type": "stream",
          "name": "stderr",
          "text": [
            "\r 60%|██████    | 9/15 [24:38<16:21, 163.57s/it]"
          ]
        },
        {
          "output_type": "stream",
          "name": "stdout",
          "text": [
            "\t| New lowest test loss for DenseNet161: 0.008059408487427035\n",
            "Epoch: 10 | Learning rate: [3.557763e-06]\n"
          ]
        },
        {
          "output_type": "stream",
          "name": "stderr",
          "text": [
            "\r 67%|██████▋   | 10/15 [27:20<13:36, 163.30s/it]"
          ]
        },
        {
          "output_type": "stream",
          "name": "stdout",
          "text": [
            "Epoch: 11 | Learning rate: [1.0781099999999999e-05]\n"
          ]
        },
        {
          "output_type": "stream",
          "name": "stderr",
          "text": [
            "\r 73%|███████▎  | 11/15 [30:03<10:52, 163.22s/it]"
          ]
        },
        {
          "output_type": "stream",
          "name": "stdout",
          "text": [
            "Epoch: 12 | Learning rate: [1.0781099999999999e-05]\n"
          ]
        },
        {
          "output_type": "stream",
          "name": "stderr",
          "text": [
            "\r 80%|████████  | 12/15 [32:46<08:08, 162.95s/it]"
          ]
        },
        {
          "output_type": "stream",
          "name": "stdout",
          "text": [
            "Epoch: 13 | Learning rate: [1.17406179e-06]\n"
          ]
        },
        {
          "output_type": "stream",
          "name": "stderr",
          "text": [
            "\r 87%|████████▋ | 13/15 [35:28<05:25, 162.72s/it]"
          ]
        },
        {
          "output_type": "stream",
          "name": "stdout",
          "text": [
            "Epoch: 14 | Learning rate: [3.557763e-06]\n"
          ]
        },
        {
          "output_type": "stream",
          "name": "stderr",
          "text": [
            "\r 93%|█████████▎| 14/15 [38:09<02:42, 162.32s/it]"
          ]
        },
        {
          "output_type": "stream",
          "name": "stdout",
          "text": [
            "Epoch: 15 | Learning rate: [3.557763e-06]\n"
          ]
        },
        {
          "output_type": "stream",
          "name": "stderr",
          "text": [
            "100%|██████████| 15/15 [40:52<00:00, 163.51s/it]\n"
          ]
        }
      ]
    },
    {
      "cell_type": "code",
      "source": [
        "print(\"\\nTraining results:\")\n",
        "print(\"\\tMin test loss {:.4f} was achieved during epoch #{}\".format(wrist_min_loss, wrist_min_loss_epoch + 1))\n",
        "print(\"\\t test accuracy during min test loss is {:.4f}\".format(wrist_min_loss_accuracy))"
      ],
      "metadata": {
        "colab": {
          "base_uri": "https://localhost:8080/"
        },
        "id": "Nr0biixfNkzx",
        "outputId": "917fcb40-9e0a-4a8c-c657-2eebe9baf454"
      },
      "execution_count": 154,
      "outputs": [
        {
          "output_type": "stream",
          "name": "stdout",
          "text": [
            "\n",
            "Training results:\n",
            "\tMin test loss 0.0081 was achieved during epoch #9\n",
            "\t test accuracy during min test loss is 0.7618\n"
          ]
        }
      ]
    },
    {
      "cell_type": "code",
      "source": [
        "#predictions on Test data\n",
        "\n",
        "all_preds = []\n",
        "all_files = []\n",
        "\n",
        "model_densenet161.eval()\n",
        "with torch.no_grad():\n",
        "    for samples, f_names in tqdm(Wrist_test_dataloader):\n",
        "        samples = samples.to(DEVICE)\n",
        "        outputs = model_densenet161(samples)\n",
        "        preds = outputs.argmax(dim=1)\n",
        "        all_preds.extend(preds.tolist())\n",
        "        all_files.extend(f_names)\n",
        "\n",
        "all_filenames= wrist_test['image_path'].values.tolist()\n",
        "\n",
        "def class_dict_inverse(two_targets):\n",
        "    if two_targets==0:\n",
        "      return 'normal'\n",
        "    else:\n",
        "      return 'abnormal'\n",
        "\n",
        "all_preds_decoded = [class_dict_inverse(i) for i in all_preds]\n",
        "\n",
        "submission_wrist_df = pd.DataFrame(list(zip(all_filenames, all_preds_decoded)), columns =['File', 'Prediction'])\n",
        "submission_wrist_df.to_csv('test_predictions_wrist.csv', header=False, index=False) \n",
        "submission_wrist_df.head(10)"
      ],
      "metadata": {
        "colab": {
          "base_uri": "https://localhost:8080/",
          "height": 376
        },
        "id": "JhRY4pGKowWM",
        "outputId": "418712ea-9006-463e-b6fc-73c4ad1afbf1"
      },
      "execution_count": 156,
      "outputs": [
        {
          "output_type": "stream",
          "name": "stderr",
          "text": [
            "100%|██████████| 11/11 [00:13<00:00,  1.18s/it]\n"
          ]
        },
        {
          "output_type": "execute_result",
          "data": {
            "text/plain": [
              "                                                                             File  \\\n",
              "0  drive/MyDrive/MURA-v1.1/valid/XR_WRIST/patient11185/study1_positive/image1.png   \n",
              "1  drive/MyDrive/MURA-v1.1/valid/XR_WRIST/patient11185/study1_positive/image2.png   \n",
              "2  drive/MyDrive/MURA-v1.1/valid/XR_WRIST/patient11185/study1_positive/image3.png   \n",
              "3  drive/MyDrive/MURA-v1.1/valid/XR_WRIST/patient11185/study1_positive/image4.png   \n",
              "4  drive/MyDrive/MURA-v1.1/valid/XR_WRIST/patient11186/study1_positive/image1.png   \n",
              "5  drive/MyDrive/MURA-v1.1/valid/XR_WRIST/patient11186/study1_positive/image2.png   \n",
              "6  drive/MyDrive/MURA-v1.1/valid/XR_WRIST/patient11186/study2_positive/image1.png   \n",
              "7  drive/MyDrive/MURA-v1.1/valid/XR_WRIST/patient11186/study2_positive/image2.png   \n",
              "8  drive/MyDrive/MURA-v1.1/valid/XR_WRIST/patient11186/study2_positive/image3.png   \n",
              "9  drive/MyDrive/MURA-v1.1/valid/XR_WRIST/patient11186/study3_positive/image1.png   \n",
              "\n",
              "  Prediction  \n",
              "0   abnormal  \n",
              "1   abnormal  \n",
              "2   abnormal  \n",
              "3     normal  \n",
              "4   abnormal  \n",
              "5   abnormal  \n",
              "6   abnormal  \n",
              "7   abnormal  \n",
              "8   abnormal  \n",
              "9     normal  "
            ],
            "text/html": [
              "\n",
              "  <div id=\"df-bbcec463-481d-4f35-8e19-3b678260645e\">\n",
              "    <div class=\"colab-df-container\">\n",
              "      <div>\n",
              "<style scoped>\n",
              "    .dataframe tbody tr th:only-of-type {\n",
              "        vertical-align: middle;\n",
              "    }\n",
              "\n",
              "    .dataframe tbody tr th {\n",
              "        vertical-align: top;\n",
              "    }\n",
              "\n",
              "    .dataframe thead th {\n",
              "        text-align: right;\n",
              "    }\n",
              "</style>\n",
              "<table border=\"1\" class=\"dataframe\">\n",
              "  <thead>\n",
              "    <tr style=\"text-align: right;\">\n",
              "      <th></th>\n",
              "      <th>File</th>\n",
              "      <th>Prediction</th>\n",
              "    </tr>\n",
              "  </thead>\n",
              "  <tbody>\n",
              "    <tr>\n",
              "      <th>0</th>\n",
              "      <td>drive/MyDrive/MURA-v1.1/valid/XR_WRIST/patient11185/study1_positive/image1.png</td>\n",
              "      <td>abnormal</td>\n",
              "    </tr>\n",
              "    <tr>\n",
              "      <th>1</th>\n",
              "      <td>drive/MyDrive/MURA-v1.1/valid/XR_WRIST/patient11185/study1_positive/image2.png</td>\n",
              "      <td>abnormal</td>\n",
              "    </tr>\n",
              "    <tr>\n",
              "      <th>2</th>\n",
              "      <td>drive/MyDrive/MURA-v1.1/valid/XR_WRIST/patient11185/study1_positive/image3.png</td>\n",
              "      <td>abnormal</td>\n",
              "    </tr>\n",
              "    <tr>\n",
              "      <th>3</th>\n",
              "      <td>drive/MyDrive/MURA-v1.1/valid/XR_WRIST/patient11185/study1_positive/image4.png</td>\n",
              "      <td>normal</td>\n",
              "    </tr>\n",
              "    <tr>\n",
              "      <th>4</th>\n",
              "      <td>drive/MyDrive/MURA-v1.1/valid/XR_WRIST/patient11186/study1_positive/image1.png</td>\n",
              "      <td>abnormal</td>\n",
              "    </tr>\n",
              "    <tr>\n",
              "      <th>5</th>\n",
              "      <td>drive/MyDrive/MURA-v1.1/valid/XR_WRIST/patient11186/study1_positive/image2.png</td>\n",
              "      <td>abnormal</td>\n",
              "    </tr>\n",
              "    <tr>\n",
              "      <th>6</th>\n",
              "      <td>drive/MyDrive/MURA-v1.1/valid/XR_WRIST/patient11186/study2_positive/image1.png</td>\n",
              "      <td>abnormal</td>\n",
              "    </tr>\n",
              "    <tr>\n",
              "      <th>7</th>\n",
              "      <td>drive/MyDrive/MURA-v1.1/valid/XR_WRIST/patient11186/study2_positive/image2.png</td>\n",
              "      <td>abnormal</td>\n",
              "    </tr>\n",
              "    <tr>\n",
              "      <th>8</th>\n",
              "      <td>drive/MyDrive/MURA-v1.1/valid/XR_WRIST/patient11186/study2_positive/image3.png</td>\n",
              "      <td>abnormal</td>\n",
              "    </tr>\n",
              "    <tr>\n",
              "      <th>9</th>\n",
              "      <td>drive/MyDrive/MURA-v1.1/valid/XR_WRIST/patient11186/study3_positive/image1.png</td>\n",
              "      <td>normal</td>\n",
              "    </tr>\n",
              "  </tbody>\n",
              "</table>\n",
              "</div>\n",
              "      <button class=\"colab-df-convert\" onclick=\"convertToInteractive('df-bbcec463-481d-4f35-8e19-3b678260645e')\"\n",
              "              title=\"Convert this dataframe to an interactive table.\"\n",
              "              style=\"display:none;\">\n",
              "        \n",
              "  <svg xmlns=\"http://www.w3.org/2000/svg\" height=\"24px\"viewBox=\"0 0 24 24\"\n",
              "       width=\"24px\">\n",
              "    <path d=\"M0 0h24v24H0V0z\" fill=\"none\"/>\n",
              "    <path d=\"M18.56 5.44l.94 2.06.94-2.06 2.06-.94-2.06-.94-.94-2.06-.94 2.06-2.06.94zm-11 1L8.5 8.5l.94-2.06 2.06-.94-2.06-.94L8.5 2.5l-.94 2.06-2.06.94zm10 10l.94 2.06.94-2.06 2.06-.94-2.06-.94-.94-2.06-.94 2.06-2.06.94z\"/><path d=\"M17.41 7.96l-1.37-1.37c-.4-.4-.92-.59-1.43-.59-.52 0-1.04.2-1.43.59L10.3 9.45l-7.72 7.72c-.78.78-.78 2.05 0 2.83L4 21.41c.39.39.9.59 1.41.59.51 0 1.02-.2 1.41-.59l7.78-7.78 2.81-2.81c.8-.78.8-2.07 0-2.86zM5.41 20L4 18.59l7.72-7.72 1.47 1.35L5.41 20z\"/>\n",
              "  </svg>\n",
              "      </button>\n",
              "      \n",
              "  <style>\n",
              "    .colab-df-container {\n",
              "      display:flex;\n",
              "      flex-wrap:wrap;\n",
              "      gap: 12px;\n",
              "    }\n",
              "\n",
              "    .colab-df-convert {\n",
              "      background-color: #E8F0FE;\n",
              "      border: none;\n",
              "      border-radius: 50%;\n",
              "      cursor: pointer;\n",
              "      display: none;\n",
              "      fill: #1967D2;\n",
              "      height: 32px;\n",
              "      padding: 0 0 0 0;\n",
              "      width: 32px;\n",
              "    }\n",
              "\n",
              "    .colab-df-convert:hover {\n",
              "      background-color: #E2EBFA;\n",
              "      box-shadow: 0px 1px 2px rgba(60, 64, 67, 0.3), 0px 1px 3px 1px rgba(60, 64, 67, 0.15);\n",
              "      fill: #174EA6;\n",
              "    }\n",
              "\n",
              "    [theme=dark] .colab-df-convert {\n",
              "      background-color: #3B4455;\n",
              "      fill: #D2E3FC;\n",
              "    }\n",
              "\n",
              "    [theme=dark] .colab-df-convert:hover {\n",
              "      background-color: #434B5C;\n",
              "      box-shadow: 0px 1px 3px 1px rgba(0, 0, 0, 0.15);\n",
              "      filter: drop-shadow(0px 1px 2px rgba(0, 0, 0, 0.3));\n",
              "      fill: #FFFFFF;\n",
              "    }\n",
              "  </style>\n",
              "\n",
              "      <script>\n",
              "        const buttonEl =\n",
              "          document.querySelector('#df-bbcec463-481d-4f35-8e19-3b678260645e button.colab-df-convert');\n",
              "        buttonEl.style.display =\n",
              "          google.colab.kernel.accessAllowed ? 'block' : 'none';\n",
              "\n",
              "        async function convertToInteractive(key) {\n",
              "          const element = document.querySelector('#df-bbcec463-481d-4f35-8e19-3b678260645e');\n",
              "          const dataTable =\n",
              "            await google.colab.kernel.invokeFunction('convertToInteractive',\n",
              "                                                     [key], {});\n",
              "          if (!dataTable) return;\n",
              "\n",
              "          const docLinkHtml = 'Like what you see? Visit the ' +\n",
              "            '<a target=\"_blank\" href=https://colab.research.google.com/notebooks/data_table.ipynb>data table notebook</a>'\n",
              "            + ' to learn more about interactive tables.';\n",
              "          element.innerHTML = '';\n",
              "          dataTable['output_type'] = 'display_data';\n",
              "          await google.colab.output.renderOutput(dataTable, element);\n",
              "          const docLink = document.createElement('div');\n",
              "          docLink.innerHTML = docLinkHtml;\n",
              "          element.appendChild(docLink);\n",
              "        }\n",
              "      </script>\n",
              "    </div>\n",
              "  </div>\n",
              "  "
            ]
          },
          "metadata": {},
          "execution_count": 156
        }
      ]
    },
    {
      "cell_type": "markdown",
      "source": [
        "## **Humerus**"
      ],
      "metadata": {
        "id": "lC1GqXQCzMq5"
      }
    },
    {
      "cell_type": "code",
      "source": [
        "humerus_train = mura_train[mura_train['region']=='HUMERUS']\n",
        "humerus_test = mura_test[mura_test['region']=='HUMERUS']"
      ],
      "metadata": {
        "id": "M6-1OpXjyreu"
      },
      "execution_count": 157,
      "outputs": []
    },
    {
      "cell_type": "code",
      "source": [
        "humerus_train_dataset = MuraDataset(mura_df = humerus_train, two_targets=True)\n",
        "humerus_test_dataset = MuraDataset(mura_df = humerus_test, two_targets=True)"
      ],
      "metadata": {
        "id": "IOeBZg2Izc4C"
      },
      "execution_count": 158,
      "outputs": []
    },
    {
      "cell_type": "code",
      "source": [
        "Humerus_train_dataloader = DataLoader(humerus_train_dataset, sampler=ImbalancedDatasetSampler(humerus_train_dataset), batch_size=64)\n",
        "Humerus_test_dataloader = DataLoader(humerus_test_dataset, batch_size=64, shuffle=False)\n",
        "num_epochs = 15"
      ],
      "metadata": {
        "id": "mtrMKXRnzdLv"
      },
      "execution_count": 159,
      "outputs": []
    },
    {
      "cell_type": "code",
      "source": [
        "model_densenet161 = models.densenet161(pretrained=True)\n",
        "for param in model_densenet161.parameters():\n",
        "    param.requires_grad = False\n",
        "model_densenet161.classifier = torch.nn.Linear(model_densenet161.classifier.in_features, out_features=200)\n",
        "model_densenet161 = model_densenet161.to(DEVICE)\n",
        "\n",
        "\n",
        "densenet161_humerus_training = training(model=model_densenet161,\n",
        "                                        model_name='DenseNet161',\n",
        "                                        num_epochs=num_epochs,\n",
        "                                        train_dataloader=Humerus_train_dataloader,\n",
        "                                        test_dataloader=Humerus_test_dataloader)\n",
        "\n",
        "model_densenet161, train_loss_array, train_acc_array, test_loss_array, test_acc_array = densenet161_humerus_training\n",
        "\n",
        "humerus_min_loss = min(test_loss_array)\n",
        "humerus_min_loss_epoch = test_loss_array.index(humerus_min_loss)\n",
        "humerus_min_loss_accuracy = test_acc_array[humerus_min_loss_epoch]"
      ],
      "metadata": {
        "colab": {
          "base_uri": "https://localhost:8080/"
        },
        "id": "HNdZZdYozdf1",
        "outputId": "7bd01287-78f0-4c50-ff81-2ac15615f107"
      },
      "execution_count": 160,
      "outputs": [
        {
          "output_type": "stream",
          "name": "stderr",
          "text": [
            "/usr/local/lib/python3.10/dist-packages/torchvision/models/_utils.py:208: UserWarning: The parameter 'pretrained' is deprecated since 0.13 and may be removed in the future, please use 'weights' instead.\n",
            "  warnings.warn(\n",
            "/usr/local/lib/python3.10/dist-packages/torchvision/models/_utils.py:223: UserWarning: Arguments other than a weight enum or `None` for 'weights' are deprecated since 0.13 and may be removed in the future. The current behavior is equivalent to passing `weights=DenseNet161_Weights.IMAGENET1K_V1`. You can also use `weights=DenseNet161_Weights.DEFAULT` to get the most up-to-date weights.\n",
            "  warnings.warn(msg)\n",
            "  0%|          | 0/15 [00:00<?, ?it/s]/usr/local/lib/python3.10/dist-packages/torch/optim/lr_scheduler.py:389: UserWarning: To get the last learning rate computed by the scheduler, please use `get_last_lr()`.\n",
            "  warnings.warn(\"To get the last learning rate computed by the scheduler, \"\n"
          ]
        },
        {
          "output_type": "stream",
          "name": "stdout",
          "text": [
            "Epoch: 1 | Learning rate: [0.0003]\n"
          ]
        },
        {
          "output_type": "stream",
          "name": "stderr",
          "text": [
            "\r  7%|▋         | 1/15 [10:52<2:32:11, 652.28s/it]"
          ]
        },
        {
          "output_type": "stream",
          "name": "stdout",
          "text": [
            "\t| New lowest test loss for DenseNet161: 0.021826416667964723\n",
            "Epoch: 2 | Learning rate: [0.0003]\n"
          ]
        },
        {
          "output_type": "stream",
          "name": "stderr",
          "text": [
            "\r 13%|█▎        | 2/15 [12:53<1:13:40, 340.01s/it]"
          ]
        },
        {
          "output_type": "stream",
          "name": "stdout",
          "text": [
            "\t| New lowest test loss for DenseNet161: 0.012944387892882029\n",
            "Epoch: 3 | Learning rate: [0.0003]\n"
          ]
        },
        {
          "output_type": "stream",
          "name": "stderr",
          "text": [
            "\r 20%|██        | 3/15 [13:47<41:53, 209.43s/it]  "
          ]
        },
        {
          "output_type": "stream",
          "name": "stdout",
          "text": [
            "\t| New lowest test loss for DenseNet161: 0.012011402803990576\n",
            "Epoch: 4 | Learning rate: [3.267e-05]\n"
          ]
        },
        {
          "output_type": "stream",
          "name": "stderr",
          "text": [
            "\r 27%|██▋       | 4/15 [14:22<25:43, 140.31s/it]"
          ]
        },
        {
          "output_type": "stream",
          "name": "stdout",
          "text": [
            "\t| New lowest test loss for DenseNet161: 0.01182068780892425\n",
            "Epoch: 5 | Learning rate: [9.9e-05]\n"
          ]
        },
        {
          "output_type": "stream",
          "name": "stderr",
          "text": [
            "\r 33%|███▎      | 5/15 [14:49<16:34, 99.43s/it] "
          ]
        },
        {
          "output_type": "stream",
          "name": "stdout",
          "text": [
            "\t| New lowest test loss for DenseNet161: 0.011391741947995292\n",
            "Epoch: 6 | Learning rate: [9.9e-05]\n"
          ]
        },
        {
          "output_type": "stream",
          "name": "stderr",
          "text": [
            "\r 40%|████      | 6/15 [15:15<11:12, 74.69s/it]"
          ]
        },
        {
          "output_type": "stream",
          "name": "stdout",
          "text": [
            "\t| New lowest test loss for DenseNet161: 0.011227793370683989\n",
            "Epoch: 7 | Learning rate: [1.0781099999999999e-05]\n"
          ]
        },
        {
          "output_type": "stream",
          "name": "stderr",
          "text": [
            "\r 47%|████▋     | 7/15 [15:41<07:50, 58.78s/it]"
          ]
        },
        {
          "output_type": "stream",
          "name": "stdout",
          "text": [
            "\t| New lowest test loss for DenseNet161: 0.011186177117957009\n",
            "Epoch: 8 | Learning rate: [3.267e-05]\n"
          ]
        },
        {
          "output_type": "stream",
          "name": "stderr",
          "text": [
            "\r 53%|█████▎    | 8/15 [16:06<05:36, 48.07s/it]"
          ]
        },
        {
          "output_type": "stream",
          "name": "stdout",
          "text": [
            "\t| New lowest test loss for DenseNet161: 0.011157885607745912\n",
            "Epoch: 9 | Learning rate: [3.267e-05]\n"
          ]
        },
        {
          "output_type": "stream",
          "name": "stderr",
          "text": [
            "\r 60%|██████    | 9/15 [16:33<04:07, 41.28s/it]"
          ]
        },
        {
          "output_type": "stream",
          "name": "stdout",
          "text": [
            "\t| New lowest test loss for DenseNet161: 0.011079309094283316\n",
            "Epoch: 10 | Learning rate: [3.557763e-06]\n"
          ]
        },
        {
          "output_type": "stream",
          "name": "stderr",
          "text": [
            "\r 67%|██████▋   | 10/15 [16:58<03:01, 36.33s/it]"
          ]
        },
        {
          "output_type": "stream",
          "name": "stdout",
          "text": [
            "Epoch: 11 | Learning rate: [1.0781099999999999e-05]\n"
          ]
        },
        {
          "output_type": "stream",
          "name": "stderr",
          "text": [
            "\r 73%|███████▎  | 11/15 [17:23<02:11, 33.00s/it]"
          ]
        },
        {
          "output_type": "stream",
          "name": "stdout",
          "text": [
            "\t| New lowest test loss for DenseNet161: 0.011054235200087229\n",
            "Epoch: 12 | Learning rate: [1.0781099999999999e-05]\n"
          ]
        },
        {
          "output_type": "stream",
          "name": "stderr",
          "text": [
            "\r 80%|████████  | 12/15 [17:49<01:32, 30.82s/it]"
          ]
        },
        {
          "output_type": "stream",
          "name": "stdout",
          "text": [
            "\t| New lowest test loss for DenseNet161: 0.011016558234890303\n",
            "Epoch: 13 | Learning rate: [1.17406179e-06]\n"
          ]
        },
        {
          "output_type": "stream",
          "name": "stderr",
          "text": [
            "\r 87%|████████▋ | 13/15 [18:15<00:58, 29.25s/it]"
          ]
        },
        {
          "output_type": "stream",
          "name": "stdout",
          "text": [
            "\t| New lowest test loss for DenseNet161: 0.010995697644021776\n",
            "Epoch: 14 | Learning rate: [3.557763e-06]\n"
          ]
        },
        {
          "output_type": "stream",
          "name": "stderr",
          "text": [
            "\r 93%|█████████▎| 14/15 [18:40<00:28, 28.06s/it]"
          ]
        },
        {
          "output_type": "stream",
          "name": "stdout",
          "text": [
            "Epoch: 15 | Learning rate: [3.557763e-06]\n"
          ]
        },
        {
          "output_type": "stream",
          "name": "stderr",
          "text": [
            "100%|██████████| 15/15 [19:06<00:00, 76.40s/it]"
          ]
        },
        {
          "output_type": "stream",
          "name": "stdout",
          "text": [
            "\t| New lowest test loss for DenseNet161: 0.01098247617483139\n"
          ]
        },
        {
          "output_type": "stream",
          "name": "stderr",
          "text": [
            "\n"
          ]
        }
      ]
    },
    {
      "cell_type": "code",
      "source": [
        "print(\"\\nTraining results:\")\n",
        "print(\"\\tMin test loss {:.4f} was achieved during epoch #{}\".format(humerus_min_loss, humerus_min_loss_epoch + 1))\n",
        "print(\"\\t test accuracy during min test loss is {:.4f}\".format(humerus_min_loss_accuracy))"
      ],
      "metadata": {
        "colab": {
          "base_uri": "https://localhost:8080/"
        },
        "id": "m0myUkLbzjuj",
        "outputId": "5072db1a-9607-4ea7-e49b-1e8a99b816dc"
      },
      "execution_count": 161,
      "outputs": [
        {
          "output_type": "stream",
          "name": "stdout",
          "text": [
            "\n",
            "Training results:\n",
            "\tMin test loss 0.0110 was achieved during epoch #15\n",
            "\t test accuracy during min test loss is 0.6875\n"
          ]
        }
      ]
    },
    {
      "cell_type": "code",
      "source": [
        "#predictions on Test data\n",
        "\n",
        "all_preds = []\n",
        "all_files = []\n",
        "\n",
        "model_densenet161.eval()\n",
        "with torch.no_grad():\n",
        "    for samples, f_names in tqdm(Wrist_test_dataloader):\n",
        "        samples = samples.to(DEVICE)\n",
        "        outputs = model_densenet161(samples)\n",
        "        preds = outputs.argmax(dim=1)\n",
        "        all_preds.extend(preds.tolist())\n",
        "        all_files.extend(f_names)\n",
        "\n",
        "all_filenames= humerus_test['image_path'].values.tolist()\n",
        "\n",
        "def class_dict_inverse(two_targets):\n",
        "    if two_targets==0:\n",
        "      return 'normal'\n",
        "    else:\n",
        "      return 'abnormal'\n",
        "\n",
        "all_preds_decoded = [class_dict_inverse(i) for i in all_preds]\n",
        "\n",
        "submission_humerus_df = pd.DataFrame(list(zip(all_filenames, all_preds_decoded)), columns =['File', 'Prediction'])\n",
        "submission_humerus_df.to_csv('test_predictions_humerus.csv', header=False, index=False) \n",
        "submission_humerus_df.head(10)"
      ],
      "metadata": {
        "colab": {
          "base_uri": "https://localhost:8080/",
          "height": 376
        },
        "id": "slN4Oni-5k-A",
        "outputId": "9c1c5f09-c662-4f67-9002-cd25b064c1c5"
      },
      "execution_count": 162,
      "outputs": [
        {
          "output_type": "stream",
          "name": "stderr",
          "text": [
            "100%|██████████| 11/11 [00:10<00:00,  1.00it/s]\n"
          ]
        },
        {
          "output_type": "execute_result",
          "data": {
            "text/plain": [
              "                                                                               File  \\\n",
              "0  drive/MyDrive/MURA-v1.1/valid/XR_HUMERUS/patient11608/study1_positive/image1.png   \n",
              "1  drive/MyDrive/MURA-v1.1/valid/XR_HUMERUS/patient11608/study1_positive/image2.png   \n",
              "2  drive/MyDrive/MURA-v1.1/valid/XR_HUMERUS/patient11214/study1_positive/image1.png   \n",
              "3  drive/MyDrive/MURA-v1.1/valid/XR_HUMERUS/patient11214/study1_positive/image2.png   \n",
              "4  drive/MyDrive/MURA-v1.1/valid/XR_HUMERUS/patient11609/study1_positive/image1.png   \n",
              "5  drive/MyDrive/MURA-v1.1/valid/XR_HUMERUS/patient11610/study1_positive/image1.png   \n",
              "6  drive/MyDrive/MURA-v1.1/valid/XR_HUMERUS/patient11610/study1_positive/image2.png   \n",
              "7  drive/MyDrive/MURA-v1.1/valid/XR_HUMERUS/patient11611/study1_positive/image1.png   \n",
              "8  drive/MyDrive/MURA-v1.1/valid/XR_HUMERUS/patient11611/study1_positive/image2.png   \n",
              "9  drive/MyDrive/MURA-v1.1/valid/XR_HUMERUS/patient11391/study1_positive/image1.png   \n",
              "\n",
              "  Prediction  \n",
              "0   abnormal  \n",
              "1     normal  \n",
              "2     normal  \n",
              "3   abnormal  \n",
              "4   abnormal  \n",
              "5   abnormal  \n",
              "6   abnormal  \n",
              "7   abnormal  \n",
              "8   abnormal  \n",
              "9     normal  "
            ],
            "text/html": [
              "\n",
              "  <div id=\"df-d4483453-d6fa-40d3-a771-33401c74f1a5\">\n",
              "    <div class=\"colab-df-container\">\n",
              "      <div>\n",
              "<style scoped>\n",
              "    .dataframe tbody tr th:only-of-type {\n",
              "        vertical-align: middle;\n",
              "    }\n",
              "\n",
              "    .dataframe tbody tr th {\n",
              "        vertical-align: top;\n",
              "    }\n",
              "\n",
              "    .dataframe thead th {\n",
              "        text-align: right;\n",
              "    }\n",
              "</style>\n",
              "<table border=\"1\" class=\"dataframe\">\n",
              "  <thead>\n",
              "    <tr style=\"text-align: right;\">\n",
              "      <th></th>\n",
              "      <th>File</th>\n",
              "      <th>Prediction</th>\n",
              "    </tr>\n",
              "  </thead>\n",
              "  <tbody>\n",
              "    <tr>\n",
              "      <th>0</th>\n",
              "      <td>drive/MyDrive/MURA-v1.1/valid/XR_HUMERUS/patient11608/study1_positive/image1.png</td>\n",
              "      <td>abnormal</td>\n",
              "    </tr>\n",
              "    <tr>\n",
              "      <th>1</th>\n",
              "      <td>drive/MyDrive/MURA-v1.1/valid/XR_HUMERUS/patient11608/study1_positive/image2.png</td>\n",
              "      <td>normal</td>\n",
              "    </tr>\n",
              "    <tr>\n",
              "      <th>2</th>\n",
              "      <td>drive/MyDrive/MURA-v1.1/valid/XR_HUMERUS/patient11214/study1_positive/image1.png</td>\n",
              "      <td>normal</td>\n",
              "    </tr>\n",
              "    <tr>\n",
              "      <th>3</th>\n",
              "      <td>drive/MyDrive/MURA-v1.1/valid/XR_HUMERUS/patient11214/study1_positive/image2.png</td>\n",
              "      <td>abnormal</td>\n",
              "    </tr>\n",
              "    <tr>\n",
              "      <th>4</th>\n",
              "      <td>drive/MyDrive/MURA-v1.1/valid/XR_HUMERUS/patient11609/study1_positive/image1.png</td>\n",
              "      <td>abnormal</td>\n",
              "    </tr>\n",
              "    <tr>\n",
              "      <th>5</th>\n",
              "      <td>drive/MyDrive/MURA-v1.1/valid/XR_HUMERUS/patient11610/study1_positive/image1.png</td>\n",
              "      <td>abnormal</td>\n",
              "    </tr>\n",
              "    <tr>\n",
              "      <th>6</th>\n",
              "      <td>drive/MyDrive/MURA-v1.1/valid/XR_HUMERUS/patient11610/study1_positive/image2.png</td>\n",
              "      <td>abnormal</td>\n",
              "    </tr>\n",
              "    <tr>\n",
              "      <th>7</th>\n",
              "      <td>drive/MyDrive/MURA-v1.1/valid/XR_HUMERUS/patient11611/study1_positive/image1.png</td>\n",
              "      <td>abnormal</td>\n",
              "    </tr>\n",
              "    <tr>\n",
              "      <th>8</th>\n",
              "      <td>drive/MyDrive/MURA-v1.1/valid/XR_HUMERUS/patient11611/study1_positive/image2.png</td>\n",
              "      <td>abnormal</td>\n",
              "    </tr>\n",
              "    <tr>\n",
              "      <th>9</th>\n",
              "      <td>drive/MyDrive/MURA-v1.1/valid/XR_HUMERUS/patient11391/study1_positive/image1.png</td>\n",
              "      <td>normal</td>\n",
              "    </tr>\n",
              "  </tbody>\n",
              "</table>\n",
              "</div>\n",
              "      <button class=\"colab-df-convert\" onclick=\"convertToInteractive('df-d4483453-d6fa-40d3-a771-33401c74f1a5')\"\n",
              "              title=\"Convert this dataframe to an interactive table.\"\n",
              "              style=\"display:none;\">\n",
              "        \n",
              "  <svg xmlns=\"http://www.w3.org/2000/svg\" height=\"24px\"viewBox=\"0 0 24 24\"\n",
              "       width=\"24px\">\n",
              "    <path d=\"M0 0h24v24H0V0z\" fill=\"none\"/>\n",
              "    <path d=\"M18.56 5.44l.94 2.06.94-2.06 2.06-.94-2.06-.94-.94-2.06-.94 2.06-2.06.94zm-11 1L8.5 8.5l.94-2.06 2.06-.94-2.06-.94L8.5 2.5l-.94 2.06-2.06.94zm10 10l.94 2.06.94-2.06 2.06-.94-2.06-.94-.94-2.06-.94 2.06-2.06.94z\"/><path d=\"M17.41 7.96l-1.37-1.37c-.4-.4-.92-.59-1.43-.59-.52 0-1.04.2-1.43.59L10.3 9.45l-7.72 7.72c-.78.78-.78 2.05 0 2.83L4 21.41c.39.39.9.59 1.41.59.51 0 1.02-.2 1.41-.59l7.78-7.78 2.81-2.81c.8-.78.8-2.07 0-2.86zM5.41 20L4 18.59l7.72-7.72 1.47 1.35L5.41 20z\"/>\n",
              "  </svg>\n",
              "      </button>\n",
              "      \n",
              "  <style>\n",
              "    .colab-df-container {\n",
              "      display:flex;\n",
              "      flex-wrap:wrap;\n",
              "      gap: 12px;\n",
              "    }\n",
              "\n",
              "    .colab-df-convert {\n",
              "      background-color: #E8F0FE;\n",
              "      border: none;\n",
              "      border-radius: 50%;\n",
              "      cursor: pointer;\n",
              "      display: none;\n",
              "      fill: #1967D2;\n",
              "      height: 32px;\n",
              "      padding: 0 0 0 0;\n",
              "      width: 32px;\n",
              "    }\n",
              "\n",
              "    .colab-df-convert:hover {\n",
              "      background-color: #E2EBFA;\n",
              "      box-shadow: 0px 1px 2px rgba(60, 64, 67, 0.3), 0px 1px 3px 1px rgba(60, 64, 67, 0.15);\n",
              "      fill: #174EA6;\n",
              "    }\n",
              "\n",
              "    [theme=dark] .colab-df-convert {\n",
              "      background-color: #3B4455;\n",
              "      fill: #D2E3FC;\n",
              "    }\n",
              "\n",
              "    [theme=dark] .colab-df-convert:hover {\n",
              "      background-color: #434B5C;\n",
              "      box-shadow: 0px 1px 3px 1px rgba(0, 0, 0, 0.15);\n",
              "      filter: drop-shadow(0px 1px 2px rgba(0, 0, 0, 0.3));\n",
              "      fill: #FFFFFF;\n",
              "    }\n",
              "  </style>\n",
              "\n",
              "      <script>\n",
              "        const buttonEl =\n",
              "          document.querySelector('#df-d4483453-d6fa-40d3-a771-33401c74f1a5 button.colab-df-convert');\n",
              "        buttonEl.style.display =\n",
              "          google.colab.kernel.accessAllowed ? 'block' : 'none';\n",
              "\n",
              "        async function convertToInteractive(key) {\n",
              "          const element = document.querySelector('#df-d4483453-d6fa-40d3-a771-33401c74f1a5');\n",
              "          const dataTable =\n",
              "            await google.colab.kernel.invokeFunction('convertToInteractive',\n",
              "                                                     [key], {});\n",
              "          if (!dataTable) return;\n",
              "\n",
              "          const docLinkHtml = 'Like what you see? Visit the ' +\n",
              "            '<a target=\"_blank\" href=https://colab.research.google.com/notebooks/data_table.ipynb>data table notebook</a>'\n",
              "            + ' to learn more about interactive tables.';\n",
              "          element.innerHTML = '';\n",
              "          dataTable['output_type'] = 'display_data';\n",
              "          await google.colab.output.renderOutput(dataTable, element);\n",
              "          const docLink = document.createElement('div');\n",
              "          docLink.innerHTML = docLinkHtml;\n",
              "          element.appendChild(docLink);\n",
              "        }\n",
              "      </script>\n",
              "    </div>\n",
              "  </div>\n",
              "  "
            ]
          },
          "metadata": {},
          "execution_count": 162
        }
      ]
    },
    {
      "cell_type": "markdown",
      "source": [
        "## **Shoulder**"
      ],
      "metadata": {
        "id": "Zj8j3r_H7N8P"
      }
    },
    {
      "cell_type": "code",
      "source": [
        "shoulder_train = mura_train[mura_train['region']=='SHOULDER']\n",
        "shoulder_test = mura_test[mura_test['region']=='SHOULDER']"
      ],
      "metadata": {
        "id": "OJj3ivla66da"
      },
      "execution_count": 173,
      "outputs": []
    },
    {
      "cell_type": "code",
      "source": [
        "shoulder_train_dataset = MuraDataset(mura_df = shoulder_train, two_targets=True)\n",
        "shoulder_test_dataset = MuraDataset(mura_df = shoulder_test, two_targets=True)"
      ],
      "metadata": {
        "id": "Tk7GJltN7X8I"
      },
      "execution_count": 174,
      "outputs": []
    },
    {
      "cell_type": "code",
      "source": [
        "Shoulder_train_dataloader = DataLoader(shoulder_train_dataset, sampler=ImbalancedDatasetSampler(shoulder_train_dataset), batch_size=64)\n",
        "Shoulder_test_dataloader = DataLoader(shoulder_test_dataset,  batch_size=64, shuffle=False)\n",
        "num_epochs = 15\n"
      ],
      "metadata": {
        "id": "VxTSiTVt7caE"
      },
      "execution_count": 175,
      "outputs": []
    },
    {
      "cell_type": "code",
      "source": [
        "model_densenet161 = models.densenet161(pretrained=True)\n",
        "for param in model_densenet161.parameters():\n",
        "    param.requires_grad = False\n",
        "model_densenet161.classifier = torch.nn.Linear(model_densenet161.classifier.in_features, out_features=200)\n",
        "model_densenet161 = model_densenet161.to(DEVICE)\n",
        "\n",
        "\n",
        "densenet161_shoulder_training = training(model=model_densenet161,\n",
        "                                        model_name='DenseNet161',\n",
        "                                        num_epochs=num_epochs,\n",
        "                                        train_dataloader=Shoulder_train_dataloader,\n",
        "                                        test_dataloader=Shoulder_test_dataloader)\n",
        "\n",
        "model_densenet161, train_loss_array, train_acc_array, test_loss_array, test_acc_array = densenet161_shoulder_training\n",
        "\n",
        "shoulder_min_loss = min(test_loss_array)\n",
        "shoulder_min_loss_epoch = test_loss_array.index(shoulder_min_loss)\n",
        "shoulder_min_loss_accuracy = test_acc_array[shoulder_min_loss_epoch]"
      ],
      "metadata": {
        "colab": {
          "base_uri": "https://localhost:8080/"
        },
        "id": "wGygiNpB7d5G",
        "outputId": "8ec54ea7-0a04-49c7-852a-960ed724bfb2"
      },
      "execution_count": 177,
      "outputs": [
        {
          "output_type": "stream",
          "name": "stderr",
          "text": [
            "\r  0%|          | 0/15 [00:00<?, ?it/s]"
          ]
        },
        {
          "output_type": "stream",
          "name": "stdout",
          "text": [
            "Epoch: 1 | Learning rate: [0.0003]\n"
          ]
        },
        {
          "output_type": "stream",
          "name": "stderr",
          "text": [
            "\r  7%|▋         | 1/15 [02:19<32:32, 139.47s/it]"
          ]
        },
        {
          "output_type": "stream",
          "name": "stdout",
          "text": [
            "\t| New lowest test loss for DenseNet161: 0.010469994261252096\n",
            "Epoch: 2 | Learning rate: [0.0003]\n"
          ]
        },
        {
          "output_type": "stream",
          "name": "stderr",
          "text": [
            "\r 13%|█▎        | 2/15 [04:39<30:14, 139.56s/it]"
          ]
        },
        {
          "output_type": "stream",
          "name": "stdout",
          "text": [
            "\t| New lowest test loss for DenseNet161: 0.009817702467445793\n",
            "Epoch: 3 | Learning rate: [0.0003]\n"
          ]
        },
        {
          "output_type": "stream",
          "name": "stderr",
          "text": [
            "\r 20%|██        | 3/15 [06:58<27:55, 139.63s/it]"
          ]
        },
        {
          "output_type": "stream",
          "name": "stdout",
          "text": [
            "\t| New lowest test loss for DenseNet161: 0.009282436135818861\n",
            "Epoch: 4 | Learning rate: [3.267e-05]\n"
          ]
        },
        {
          "output_type": "stream",
          "name": "stderr",
          "text": [
            "\r 27%|██▋       | 4/15 [09:17<25:32, 139.33s/it]"
          ]
        },
        {
          "output_type": "stream",
          "name": "stdout",
          "text": [
            "\t| New lowest test loss for DenseNet161: 0.009159605837630548\n",
            "Epoch: 5 | Learning rate: [9.9e-05]\n"
          ]
        },
        {
          "output_type": "stream",
          "name": "stderr",
          "text": [
            "\r 33%|███▎      | 5/15 [11:37<23:13, 139.36s/it]"
          ]
        },
        {
          "output_type": "stream",
          "name": "stdout",
          "text": [
            "\t| New lowest test loss for DenseNet161: 0.009084388957777413\n",
            "Epoch: 6 | Learning rate: [9.9e-05]\n"
          ]
        },
        {
          "output_type": "stream",
          "name": "stderr",
          "text": [
            "\r 40%|████      | 6/15 [13:57<20:56, 139.62s/it]"
          ]
        },
        {
          "output_type": "stream",
          "name": "stdout",
          "text": [
            "\t| New lowest test loss for DenseNet161: 0.009007705782488861\n",
            "Epoch: 7 | Learning rate: [1.0781099999999999e-05]\n"
          ]
        },
        {
          "output_type": "stream",
          "name": "stderr",
          "text": [
            "\r 47%|████▋     | 7/15 [16:17<18:38, 139.77s/it]"
          ]
        },
        {
          "output_type": "stream",
          "name": "stdout",
          "text": [
            "Epoch: 8 | Learning rate: [3.267e-05]\n"
          ]
        },
        {
          "output_type": "stream",
          "name": "stderr",
          "text": [
            "\r 53%|█████▎    | 8/15 [18:37<16:18, 139.79s/it]"
          ]
        },
        {
          "output_type": "stream",
          "name": "stdout",
          "text": [
            "\t| New lowest test loss for DenseNet161: 0.008938820916848327\n",
            "Epoch: 9 | Learning rate: [3.267e-05]\n"
          ]
        },
        {
          "output_type": "stream",
          "name": "stderr",
          "text": [
            "\r 60%|██████    | 9/15 [20:56<13:58, 139.67s/it]"
          ]
        },
        {
          "output_type": "stream",
          "name": "stdout",
          "text": [
            "Epoch: 10 | Learning rate: [3.557763e-06]\n"
          ]
        },
        {
          "output_type": "stream",
          "name": "stderr",
          "text": [
            "\r 67%|██████▋   | 10/15 [23:22<11:48, 141.63s/it]"
          ]
        },
        {
          "output_type": "stream",
          "name": "stdout",
          "text": [
            "\t| New lowest test loss for DenseNet161: 0.00890426107452352\n",
            "Epoch: 11 | Learning rate: [1.0781099999999999e-05]\n"
          ]
        },
        {
          "output_type": "stream",
          "name": "stderr",
          "text": [
            "\r 73%|███████▎  | 11/15 [25:44<09:26, 141.71s/it]"
          ]
        },
        {
          "output_type": "stream",
          "name": "stdout",
          "text": [
            "\t| New lowest test loss for DenseNet161: 0.00888809201772429\n",
            "Epoch: 12 | Learning rate: [1.0781099999999999e-05]\n"
          ]
        },
        {
          "output_type": "stream",
          "name": "stderr",
          "text": [
            "\r 80%|████████  | 12/15 [28:04<07:03, 141.29s/it]"
          ]
        },
        {
          "output_type": "stream",
          "name": "stdout",
          "text": [
            "\t| New lowest test loss for DenseNet161: 0.00887139721196244\n",
            "Epoch: 13 | Learning rate: [1.17406179e-06]\n"
          ]
        },
        {
          "output_type": "stream",
          "name": "stderr",
          "text": [
            "\r 87%|████████▋ | 13/15 [30:39<04:50, 145.22s/it]"
          ]
        },
        {
          "output_type": "stream",
          "name": "stdout",
          "text": [
            "Epoch: 14 | Learning rate: [3.557763e-06]\n"
          ]
        },
        {
          "output_type": "stream",
          "name": "stderr",
          "text": [
            "\r 93%|█████████▎| 14/15 [32:59<02:23, 143.70s/it]"
          ]
        },
        {
          "output_type": "stream",
          "name": "stdout",
          "text": [
            "Epoch: 15 | Learning rate: [3.557763e-06]\n"
          ]
        },
        {
          "output_type": "stream",
          "name": "stderr",
          "text": [
            "100%|██████████| 15/15 [35:18<00:00, 141.20s/it]\n"
          ]
        }
      ]
    },
    {
      "cell_type": "code",
      "source": [
        "print(\"\\nTraining results:\")\n",
        "print(\"\\tMin test loss {:.4f} was achieved during epoch #{}\".format(shoulder_min_loss, shoulder_min_loss_epoch + 1))\n",
        "print(\"\\t test accuracy during min test loss is {:.4f}\".format(shoulder_min_loss_accuracy))"
      ],
      "metadata": {
        "colab": {
          "base_uri": "https://localhost:8080/"
        },
        "id": "DIlBvHoQ762e",
        "outputId": "5c74ee72-dc41-463a-aba5-951e2a68f027"
      },
      "execution_count": 178,
      "outputs": [
        {
          "output_type": "stream",
          "name": "stdout",
          "text": [
            "\n",
            "Training results:\n",
            "\tMin test loss 0.0089 was achieved during epoch #12\n",
            "\t test accuracy during min test loss is 0.7371\n"
          ]
        }
      ]
    },
    {
      "cell_type": "code",
      "source": [
        "#predictions on Test data\n",
        "\n",
        "all_preds = []\n",
        "all_files = []\n",
        "\n",
        "model_densenet161.eval()\n",
        "with torch.no_grad():\n",
        "    for samples, f_names in tqdm(Shoulder_test_dataloader):\n",
        "        samples = samples.to(DEVICE)\n",
        "        outputs = model_densenet161(samples)\n",
        "        preds = outputs.argmax(dim=1)\n",
        "        all_preds.extend(preds.tolist())\n",
        "        all_files.extend(f_names)\n",
        "\n",
        "all_filenames= shoulder_test['image_path'].values.tolist()\n",
        "\n",
        "def class_dict_inverse(two_targets):\n",
        "    if two_targets==0:\n",
        "      return 'normal'\n",
        "    else:\n",
        "      return 'abnormal'\n",
        "\n",
        "all_preds_decoded = [class_dict_inverse(i) for i in all_preds]\n",
        "\n",
        "submission_shoulder_df = pd.DataFrame(list(zip(all_filenames, all_preds_decoded)), columns =['File', 'Prediction'])\n",
        "submission_shoulder_df.to_csv('test_predictions_shoulder.csv', header=False, index=False) \n",
        "submission_shoulder_df.head(10)"
      ],
      "metadata": {
        "colab": {
          "base_uri": "https://localhost:8080/",
          "height": 376
        },
        "id": "eqlacKteflT5",
        "outputId": "daabd48c-cb8c-48f8-f292-9ae73cccf1c2"
      },
      "execution_count": 180,
      "outputs": [
        {
          "output_type": "stream",
          "name": "stderr",
          "text": [
            "100%|██████████| 9/9 [00:08<00:00,  1.11it/s]\n"
          ]
        },
        {
          "output_type": "execute_result",
          "data": {
            "text/plain": [
              "                                                                                File  \\\n",
              "0  drive/MyDrive/MURA-v1.1/valid/XR_SHOULDER/patient11676/study1_positive/image1.png   \n",
              "1  drive/MyDrive/MURA-v1.1/valid/XR_SHOULDER/patient11676/study1_positive/image2.png   \n",
              "2  drive/MyDrive/MURA-v1.1/valid/XR_SHOULDER/patient11676/study1_positive/image3.png   \n",
              "3  drive/MyDrive/MURA-v1.1/valid/XR_SHOULDER/patient11703/study1_positive/image1.png   \n",
              "4  drive/MyDrive/MURA-v1.1/valid/XR_SHOULDER/patient11703/study1_positive/image2.png   \n",
              "5  drive/MyDrive/MURA-v1.1/valid/XR_SHOULDER/patient11344/study1_positive/image1.png   \n",
              "6  drive/MyDrive/MURA-v1.1/valid/XR_SHOULDER/patient11344/study1_positive/image2.png   \n",
              "7  drive/MyDrive/MURA-v1.1/valid/XR_SHOULDER/patient11344/study1_positive/image3.png   \n",
              "8  drive/MyDrive/MURA-v1.1/valid/XR_SHOULDER/patient11344/study1_positive/image4.png   \n",
              "9  drive/MyDrive/MURA-v1.1/valid/XR_SHOULDER/patient11281/study1_positive/image1.png   \n",
              "\n",
              "  Prediction  \n",
              "0   abnormal  \n",
              "1   abnormal  \n",
              "2     normal  \n",
              "3   abnormal  \n",
              "4     normal  \n",
              "5   abnormal  \n",
              "6     normal  \n",
              "7     normal  \n",
              "8     normal  \n",
              "9     normal  "
            ],
            "text/html": [
              "\n",
              "  <div id=\"df-c8fa79b2-be36-4f68-b71d-00aa721627e1\">\n",
              "    <div class=\"colab-df-container\">\n",
              "      <div>\n",
              "<style scoped>\n",
              "    .dataframe tbody tr th:only-of-type {\n",
              "        vertical-align: middle;\n",
              "    }\n",
              "\n",
              "    .dataframe tbody tr th {\n",
              "        vertical-align: top;\n",
              "    }\n",
              "\n",
              "    .dataframe thead th {\n",
              "        text-align: right;\n",
              "    }\n",
              "</style>\n",
              "<table border=\"1\" class=\"dataframe\">\n",
              "  <thead>\n",
              "    <tr style=\"text-align: right;\">\n",
              "      <th></th>\n",
              "      <th>File</th>\n",
              "      <th>Prediction</th>\n",
              "    </tr>\n",
              "  </thead>\n",
              "  <tbody>\n",
              "    <tr>\n",
              "      <th>0</th>\n",
              "      <td>drive/MyDrive/MURA-v1.1/valid/XR_SHOULDER/patient11676/study1_positive/image1.png</td>\n",
              "      <td>abnormal</td>\n",
              "    </tr>\n",
              "    <tr>\n",
              "      <th>1</th>\n",
              "      <td>drive/MyDrive/MURA-v1.1/valid/XR_SHOULDER/patient11676/study1_positive/image2.png</td>\n",
              "      <td>abnormal</td>\n",
              "    </tr>\n",
              "    <tr>\n",
              "      <th>2</th>\n",
              "      <td>drive/MyDrive/MURA-v1.1/valid/XR_SHOULDER/patient11676/study1_positive/image3.png</td>\n",
              "      <td>normal</td>\n",
              "    </tr>\n",
              "    <tr>\n",
              "      <th>3</th>\n",
              "      <td>drive/MyDrive/MURA-v1.1/valid/XR_SHOULDER/patient11703/study1_positive/image1.png</td>\n",
              "      <td>abnormal</td>\n",
              "    </tr>\n",
              "    <tr>\n",
              "      <th>4</th>\n",
              "      <td>drive/MyDrive/MURA-v1.1/valid/XR_SHOULDER/patient11703/study1_positive/image2.png</td>\n",
              "      <td>normal</td>\n",
              "    </tr>\n",
              "    <tr>\n",
              "      <th>5</th>\n",
              "      <td>drive/MyDrive/MURA-v1.1/valid/XR_SHOULDER/patient11344/study1_positive/image1.png</td>\n",
              "      <td>abnormal</td>\n",
              "    </tr>\n",
              "    <tr>\n",
              "      <th>6</th>\n",
              "      <td>drive/MyDrive/MURA-v1.1/valid/XR_SHOULDER/patient11344/study1_positive/image2.png</td>\n",
              "      <td>normal</td>\n",
              "    </tr>\n",
              "    <tr>\n",
              "      <th>7</th>\n",
              "      <td>drive/MyDrive/MURA-v1.1/valid/XR_SHOULDER/patient11344/study1_positive/image3.png</td>\n",
              "      <td>normal</td>\n",
              "    </tr>\n",
              "    <tr>\n",
              "      <th>8</th>\n",
              "      <td>drive/MyDrive/MURA-v1.1/valid/XR_SHOULDER/patient11344/study1_positive/image4.png</td>\n",
              "      <td>normal</td>\n",
              "    </tr>\n",
              "    <tr>\n",
              "      <th>9</th>\n",
              "      <td>drive/MyDrive/MURA-v1.1/valid/XR_SHOULDER/patient11281/study1_positive/image1.png</td>\n",
              "      <td>normal</td>\n",
              "    </tr>\n",
              "  </tbody>\n",
              "</table>\n",
              "</div>\n",
              "      <button class=\"colab-df-convert\" onclick=\"convertToInteractive('df-c8fa79b2-be36-4f68-b71d-00aa721627e1')\"\n",
              "              title=\"Convert this dataframe to an interactive table.\"\n",
              "              style=\"display:none;\">\n",
              "        \n",
              "  <svg xmlns=\"http://www.w3.org/2000/svg\" height=\"24px\"viewBox=\"0 0 24 24\"\n",
              "       width=\"24px\">\n",
              "    <path d=\"M0 0h24v24H0V0z\" fill=\"none\"/>\n",
              "    <path d=\"M18.56 5.44l.94 2.06.94-2.06 2.06-.94-2.06-.94-.94-2.06-.94 2.06-2.06.94zm-11 1L8.5 8.5l.94-2.06 2.06-.94-2.06-.94L8.5 2.5l-.94 2.06-2.06.94zm10 10l.94 2.06.94-2.06 2.06-.94-2.06-.94-.94-2.06-.94 2.06-2.06.94z\"/><path d=\"M17.41 7.96l-1.37-1.37c-.4-.4-.92-.59-1.43-.59-.52 0-1.04.2-1.43.59L10.3 9.45l-7.72 7.72c-.78.78-.78 2.05 0 2.83L4 21.41c.39.39.9.59 1.41.59.51 0 1.02-.2 1.41-.59l7.78-7.78 2.81-2.81c.8-.78.8-2.07 0-2.86zM5.41 20L4 18.59l7.72-7.72 1.47 1.35L5.41 20z\"/>\n",
              "  </svg>\n",
              "      </button>\n",
              "      \n",
              "  <style>\n",
              "    .colab-df-container {\n",
              "      display:flex;\n",
              "      flex-wrap:wrap;\n",
              "      gap: 12px;\n",
              "    }\n",
              "\n",
              "    .colab-df-convert {\n",
              "      background-color: #E8F0FE;\n",
              "      border: none;\n",
              "      border-radius: 50%;\n",
              "      cursor: pointer;\n",
              "      display: none;\n",
              "      fill: #1967D2;\n",
              "      height: 32px;\n",
              "      padding: 0 0 0 0;\n",
              "      width: 32px;\n",
              "    }\n",
              "\n",
              "    .colab-df-convert:hover {\n",
              "      background-color: #E2EBFA;\n",
              "      box-shadow: 0px 1px 2px rgba(60, 64, 67, 0.3), 0px 1px 3px 1px rgba(60, 64, 67, 0.15);\n",
              "      fill: #174EA6;\n",
              "    }\n",
              "\n",
              "    [theme=dark] .colab-df-convert {\n",
              "      background-color: #3B4455;\n",
              "      fill: #D2E3FC;\n",
              "    }\n",
              "\n",
              "    [theme=dark] .colab-df-convert:hover {\n",
              "      background-color: #434B5C;\n",
              "      box-shadow: 0px 1px 3px 1px rgba(0, 0, 0, 0.15);\n",
              "      filter: drop-shadow(0px 1px 2px rgba(0, 0, 0, 0.3));\n",
              "      fill: #FFFFFF;\n",
              "    }\n",
              "  </style>\n",
              "\n",
              "      <script>\n",
              "        const buttonEl =\n",
              "          document.querySelector('#df-c8fa79b2-be36-4f68-b71d-00aa721627e1 button.colab-df-convert');\n",
              "        buttonEl.style.display =\n",
              "          google.colab.kernel.accessAllowed ? 'block' : 'none';\n",
              "\n",
              "        async function convertToInteractive(key) {\n",
              "          const element = document.querySelector('#df-c8fa79b2-be36-4f68-b71d-00aa721627e1');\n",
              "          const dataTable =\n",
              "            await google.colab.kernel.invokeFunction('convertToInteractive',\n",
              "                                                     [key], {});\n",
              "          if (!dataTable) return;\n",
              "\n",
              "          const docLinkHtml = 'Like what you see? Visit the ' +\n",
              "            '<a target=\"_blank\" href=https://colab.research.google.com/notebooks/data_table.ipynb>data table notebook</a>'\n",
              "            + ' to learn more about interactive tables.';\n",
              "          element.innerHTML = '';\n",
              "          dataTable['output_type'] = 'display_data';\n",
              "          await google.colab.output.renderOutput(dataTable, element);\n",
              "          const docLink = document.createElement('div');\n",
              "          docLink.innerHTML = docLinkHtml;\n",
              "          element.appendChild(docLink);\n",
              "        }\n",
              "      </script>\n",
              "    </div>\n",
              "  </div>\n",
              "  "
            ]
          },
          "metadata": {},
          "execution_count": 180
        }
      ]
    },
    {
      "cell_type": "markdown",
      "source": [
        "## **Elbow**"
      ],
      "metadata": {
        "id": "7pSp1nXNiau0"
      }
    },
    {
      "cell_type": "code",
      "source": [
        "elbow_train = mura_train[mura_train['region']=='ELBOW']\n",
        "elbow_test = mura_test[mura_test['region']=='ELBOW']"
      ],
      "metadata": {
        "id": "pErsFX3biMAE"
      },
      "execution_count": 181,
      "outputs": []
    },
    {
      "cell_type": "code",
      "source": [
        "elbow_train_dataset = MuraDataset(mura_df = elbow_train, two_targets=True)\n",
        "elbow_test_dataset = MuraDataset(mura_df = elbow_test, two_targets=True)"
      ],
      "metadata": {
        "id": "5sVpGrVlih0f"
      },
      "execution_count": 182,
      "outputs": []
    },
    {
      "cell_type": "code",
      "source": [
        "Elbow_train_dataloader = DataLoader(elbow_train_dataset, sampler= ImbalancedDatasetSampler(elbow_train_dataset), batch_size= 64)\n",
        "Elbow_test_dataloader = DataLoader(elbow_test_dataset, batch_size= 64, shuffle= True)\n",
        "num_epochs = 15"
      ],
      "metadata": {
        "id": "m2UoiMoFil95"
      },
      "execution_count": 183,
      "outputs": []
    },
    {
      "cell_type": "code",
      "source": [
        "model_densenet161 = models.densenet161(pretrained=True)\n",
        "for param in model_densenet161.parameters():\n",
        "    param.requires_grad = False\n",
        "model_densenet161.classifier = torch.nn.Linear(model_densenet161.classifier.in_features, out_features=200)\n",
        "model_densenet161 = model_densenet161.to(DEVICE)\n",
        "\n",
        "\n",
        "densenet161_elbow_training = training(model=model_densenet161,\n",
        "                                        model_name='DenseNet161',\n",
        "                                        num_epochs=num_epochs,\n",
        "                                        train_dataloader=Elbow_train_dataloader,\n",
        "                                        test_dataloader=Elbow_test_dataloader)\n",
        "\n",
        "model_densenet161, train_loss_array, train_acc_array, test_loss_array, test_acc_array = densenet161_elbow_training\n",
        "\n",
        "elbow_min_loss = min(test_loss_array)\n",
        "elbow_min_loss_epoch = test_loss_array.index(elbow_min_loss)\n",
        "elbow_min_loss_accuracy = test_acc_array[elbow_min_loss_epoch]"
      ],
      "metadata": {
        "colab": {
          "base_uri": "https://localhost:8080/"
        },
        "id": "YPjffVK5imWd",
        "outputId": "76cebf9b-9693-45f0-e279-97772faf7cff"
      },
      "execution_count": 184,
      "outputs": [
        {
          "metadata": {
            "tags": null
          },
          "name": "stderr",
          "output_type": "stream",
          "text": [
            "/usr/local/lib/python3.10/dist-packages/torchvision/models/_utils.py:208: UserWarning: The parameter 'pretrained' is deprecated since 0.13 and may be removed in the future, please use 'weights' instead.\n",
            "  warnings.warn(\n",
            "/usr/local/lib/python3.10/dist-packages/torchvision/models/_utils.py:223: UserWarning: Arguments other than a weight enum or `None` for 'weights' are deprecated since 0.13 and may be removed in the future. The current behavior is equivalent to passing `weights=DenseNet161_Weights.IMAGENET1K_V1`. You can also use `weights=DenseNet161_Weights.DEFAULT` to get the most up-to-date weights.\n",
            "  warnings.warn(msg)\n",
            "  0%|          | 0/15 [00:00<?, ?it/s]/usr/local/lib/python3.10/dist-packages/torch/optim/lr_scheduler.py:389: UserWarning: To get the last learning rate computed by the scheduler, please use `get_last_lr()`.\n",
            "  warnings.warn(\"To get the last learning rate computed by the scheduler, \"\n"
          ]
        },
        {
          "metadata": {
            "tags": null
          },
          "name": "stdout",
          "output_type": "stream",
          "text": [
            "Epoch: 1 | Learning rate: [0.0003]\n"
          ]
        },
        {
          "output_type": "stream",
          "name": "stderr",
          "text": [
            "\r  7%|▋         | 1/15 [31:00<7:14:04, 1860.29s/it]"
          ]
        },
        {
          "output_type": "stream",
          "name": "stdout",
          "text": [
            "\t| New lowest test loss for DenseNet161: 0.011399463812510172\n",
            "Epoch: 2 | Learning rate: [0.0003]\n"
          ]
        },
        {
          "output_type": "stream",
          "name": "stderr",
          "text": [
            "\r 13%|█▎        | 2/15 [37:44<3:37:28, 1003.71s/it]"
          ]
        },
        {
          "output_type": "stream",
          "name": "stdout",
          "text": [
            "\t| New lowest test loss for DenseNet161: 0.010155708943643878\n",
            "Epoch: 3 | Learning rate: [0.0003]\n"
          ]
        },
        {
          "output_type": "stream",
          "name": "stderr",
          "text": [
            "\r 20%|██        | 3/15 [40:46<2:05:41, 628.45s/it] "
          ]
        },
        {
          "output_type": "stream",
          "name": "stdout",
          "text": [
            "\t| New lowest test loss for DenseNet161: 0.009500269095102947\n",
            "Epoch: 4 | Learning rate: [3.267e-05]\n"
          ]
        },
        {
          "output_type": "stream",
          "name": "stderr",
          "text": [
            "\r 27%|██▋       | 4/15 [42:48<1:18:35, 428.70s/it]"
          ]
        },
        {
          "output_type": "stream",
          "name": "stdout",
          "text": [
            "\t| New lowest test loss for DenseNet161: 0.00937691875683364\n",
            "Epoch: 5 | Learning rate: [9.9e-05]\n"
          ]
        },
        {
          "output_type": "stream",
          "name": "stderr",
          "text": [
            "\r 33%|███▎      | 5/15 [44:24<51:27, 308.78s/it]  "
          ]
        },
        {
          "output_type": "stream",
          "name": "stdout",
          "text": [
            "\t| New lowest test loss for DenseNet161: 0.009159146713954146\n",
            "Epoch: 6 | Learning rate: [9.9e-05]\n"
          ]
        },
        {
          "output_type": "stream",
          "name": "stderr",
          "text": [
            "\r 40%|████      | 6/15 [45:52<35:03, 233.73s/it]"
          ]
        },
        {
          "output_type": "stream",
          "name": "stdout",
          "text": [
            "\t| New lowest test loss for DenseNet161: 0.00904785022940687\n",
            "Epoch: 7 | Learning rate: [1.0781099999999999e-05]\n"
          ]
        },
        {
          "output_type": "stream",
          "name": "stderr",
          "text": [
            "\r 47%|████▋     | 7/15 [47:16<24:38, 184.75s/it]"
          ]
        },
        {
          "output_type": "stream",
          "name": "stdout",
          "text": [
            "Epoch: 8 | Learning rate: [3.267e-05]\n"
          ]
        },
        {
          "output_type": "stream",
          "name": "stderr",
          "text": [
            "\r 53%|█████▎    | 8/15 [48:40<17:47, 152.57s/it]"
          ]
        },
        {
          "output_type": "stream",
          "name": "stdout",
          "text": [
            "Epoch: 9 | Learning rate: [3.267e-05]\n"
          ]
        },
        {
          "output_type": "stream",
          "name": "stderr",
          "text": [
            "\r 60%|██████    | 9/15 [50:03<13:05, 130.83s/it]"
          ]
        },
        {
          "output_type": "stream",
          "name": "stdout",
          "text": [
            "\t| New lowest test loss for DenseNet161: 0.00887436879578457\n",
            "Epoch: 10 | Learning rate: [3.557763e-06]\n"
          ]
        },
        {
          "output_type": "stream",
          "name": "stderr",
          "text": [
            "\r 67%|██████▋   | 10/15 [51:27<09:41, 116.23s/it]"
          ]
        },
        {
          "output_type": "stream",
          "name": "stdout",
          "text": [
            "Epoch: 11 | Learning rate: [1.0781099999999999e-05]\n"
          ]
        },
        {
          "output_type": "stream",
          "name": "stderr",
          "text": [
            "\r 73%|███████▎  | 11/15 [52:49<07:03, 105.90s/it]"
          ]
        },
        {
          "output_type": "stream",
          "name": "stdout",
          "text": [
            "Epoch: 12 | Learning rate: [1.0781099999999999e-05]\n"
          ]
        },
        {
          "output_type": "stream",
          "name": "stderr",
          "text": [
            "\r 80%|████████  | 12/15 [54:12<04:56, 98.80s/it] "
          ]
        },
        {
          "output_type": "stream",
          "name": "stdout",
          "text": [
            "Epoch: 13 | Learning rate: [1.17406179e-06]\n"
          ]
        },
        {
          "output_type": "stream",
          "name": "stderr",
          "text": [
            "\r 87%|████████▋ | 13/15 [55:34<03:07, 93.76s/it]"
          ]
        },
        {
          "output_type": "stream",
          "name": "stdout",
          "text": [
            "Epoch: 14 | Learning rate: [3.557763e-06]\n"
          ]
        },
        {
          "output_type": "stream",
          "name": "stderr",
          "text": [
            "\r 93%|█████████▎| 14/15 [56:57<01:30, 90.49s/it]"
          ]
        },
        {
          "output_type": "stream",
          "name": "stdout",
          "text": [
            "\t| New lowest test loss for DenseNet161: 0.008821613942423175\n",
            "Epoch: 15 | Learning rate: [3.557763e-06]\n"
          ]
        },
        {
          "output_type": "stream",
          "name": "stderr",
          "text": [
            "100%|██████████| 15/15 [58:19<00:00, 233.33s/it]\n"
          ]
        }
      ]
    },
    {
      "cell_type": "code",
      "source": [
        "print(\"\\nTraining results:\")\n",
        "print(\"\\tMin test loss {:.4f} was achieved during epoch #{}\".format(elbow_min_loss, elbow_min_loss_epoch + 1))\n",
        "print(\"\\t test accuracy during min test loss is {:.4f}\".format(elbow_min_loss_accuracy))"
      ],
      "metadata": {
        "colab": {
          "base_uri": "https://localhost:8080/"
        },
        "id": "_C2o10RTimul",
        "outputId": "c8af3af0-e8b9-45e7-f260-6c4304ea000d"
      },
      "execution_count": 185,
      "outputs": [
        {
          "output_type": "stream",
          "name": "stdout",
          "text": [
            "\n",
            "Training results:\n",
            "\tMin test loss 0.0088 was achieved during epoch #14\n",
            "\t test accuracy during min test loss is 0.7656\n"
          ]
        }
      ]
    },
    {
      "cell_type": "code",
      "source": [
        "#predictions on Test data\n",
        "\n",
        "all_preds = []\n",
        "all_files = []\n",
        "\n",
        "model_densenet161.eval()\n",
        "with torch.no_grad():\n",
        "    for samples, f_names in tqdm(Elbow_test_dataloader):\n",
        "        samples = samples.to(DEVICE)\n",
        "        outputs = model_densenet161(samples)\n",
        "        preds = outputs.argmax(dim=1)\n",
        "        all_preds.extend(preds.tolist())\n",
        "        all_files.extend(f_names)\n",
        "\n",
        "all_filenames= elbow_test['image_path'].values.tolist()\n",
        "\n",
        "def class_dict_inverse(two_targets):\n",
        "    if two_targets==0:\n",
        "      return 'normal'\n",
        "    else:\n",
        "      return 'abnormal'\n",
        "\n",
        "all_preds_decoded = [class_dict_inverse(i) for i in all_preds]\n",
        "\n",
        "submission_elbow_df = pd.DataFrame(list(zip(all_filenames, all_preds_decoded)), columns =['File', 'Prediction'])\n",
        "submission_elbow_df.to_csv('test_predictions_elbow.csv', header=False, index=False) \n",
        "submission_elbow_df.head(10)"
      ],
      "metadata": {
        "colab": {
          "base_uri": "https://localhost:8080/",
          "height": 376
        },
        "id": "qGRgG7gBiz9j",
        "outputId": "90dee6de-bcd2-4cd0-f024-caf871a7c51f"
      },
      "execution_count": 187,
      "outputs": [
        {
          "output_type": "stream",
          "name": "stderr",
          "text": [
            "100%|██████████| 8/8 [00:07<00:00,  1.11it/s]\n"
          ]
        },
        {
          "output_type": "execute_result",
          "data": {
            "text/plain": [
              "                                                                             File  \\\n",
              "0  drive/MyDrive/MURA-v1.1/valid/XR_ELBOW/patient11659/study1_positive/image1.png   \n",
              "1  drive/MyDrive/MURA-v1.1/valid/XR_ELBOW/patient11659/study1_positive/image2.png   \n",
              "2  drive/MyDrive/MURA-v1.1/valid/XR_ELBOW/patient11659/study1_positive/image3.png   \n",
              "3  drive/MyDrive/MURA-v1.1/valid/XR_ELBOW/patient11802/study1_positive/image1.png   \n",
              "4  drive/MyDrive/MURA-v1.1/valid/XR_ELBOW/patient11802/study1_positive/image2.png   \n",
              "5  drive/MyDrive/MURA-v1.1/valid/XR_ELBOW/patient11802/study1_positive/image3.png   \n",
              "6  drive/MyDrive/MURA-v1.1/valid/XR_ELBOW/patient11802/study1_positive/image4.png   \n",
              "7  drive/MyDrive/MURA-v1.1/valid/XR_ELBOW/patient11802/study1_positive/image5.png   \n",
              "8  drive/MyDrive/MURA-v1.1/valid/XR_ELBOW/patient11803/study1_positive/image1.png   \n",
              "9  drive/MyDrive/MURA-v1.1/valid/XR_ELBOW/patient11803/study1_positive/image2.png   \n",
              "\n",
              "  Prediction  \n",
              "0     normal  \n",
              "1   abnormal  \n",
              "2     normal  \n",
              "3     normal  \n",
              "4   abnormal  \n",
              "5   abnormal  \n",
              "6   abnormal  \n",
              "7     normal  \n",
              "8   abnormal  \n",
              "9     normal  "
            ],
            "text/html": [
              "\n",
              "  <div id=\"df-6a53f50c-5f97-4e03-beda-ea0e467990d6\">\n",
              "    <div class=\"colab-df-container\">\n",
              "      <div>\n",
              "<style scoped>\n",
              "    .dataframe tbody tr th:only-of-type {\n",
              "        vertical-align: middle;\n",
              "    }\n",
              "\n",
              "    .dataframe tbody tr th {\n",
              "        vertical-align: top;\n",
              "    }\n",
              "\n",
              "    .dataframe thead th {\n",
              "        text-align: right;\n",
              "    }\n",
              "</style>\n",
              "<table border=\"1\" class=\"dataframe\">\n",
              "  <thead>\n",
              "    <tr style=\"text-align: right;\">\n",
              "      <th></th>\n",
              "      <th>File</th>\n",
              "      <th>Prediction</th>\n",
              "    </tr>\n",
              "  </thead>\n",
              "  <tbody>\n",
              "    <tr>\n",
              "      <th>0</th>\n",
              "      <td>drive/MyDrive/MURA-v1.1/valid/XR_ELBOW/patient11659/study1_positive/image1.png</td>\n",
              "      <td>normal</td>\n",
              "    </tr>\n",
              "    <tr>\n",
              "      <th>1</th>\n",
              "      <td>drive/MyDrive/MURA-v1.1/valid/XR_ELBOW/patient11659/study1_positive/image2.png</td>\n",
              "      <td>abnormal</td>\n",
              "    </tr>\n",
              "    <tr>\n",
              "      <th>2</th>\n",
              "      <td>drive/MyDrive/MURA-v1.1/valid/XR_ELBOW/patient11659/study1_positive/image3.png</td>\n",
              "      <td>normal</td>\n",
              "    </tr>\n",
              "    <tr>\n",
              "      <th>3</th>\n",
              "      <td>drive/MyDrive/MURA-v1.1/valid/XR_ELBOW/patient11802/study1_positive/image1.png</td>\n",
              "      <td>normal</td>\n",
              "    </tr>\n",
              "    <tr>\n",
              "      <th>4</th>\n",
              "      <td>drive/MyDrive/MURA-v1.1/valid/XR_ELBOW/patient11802/study1_positive/image2.png</td>\n",
              "      <td>abnormal</td>\n",
              "    </tr>\n",
              "    <tr>\n",
              "      <th>5</th>\n",
              "      <td>drive/MyDrive/MURA-v1.1/valid/XR_ELBOW/patient11802/study1_positive/image3.png</td>\n",
              "      <td>abnormal</td>\n",
              "    </tr>\n",
              "    <tr>\n",
              "      <th>6</th>\n",
              "      <td>drive/MyDrive/MURA-v1.1/valid/XR_ELBOW/patient11802/study1_positive/image4.png</td>\n",
              "      <td>abnormal</td>\n",
              "    </tr>\n",
              "    <tr>\n",
              "      <th>7</th>\n",
              "      <td>drive/MyDrive/MURA-v1.1/valid/XR_ELBOW/patient11802/study1_positive/image5.png</td>\n",
              "      <td>normal</td>\n",
              "    </tr>\n",
              "    <tr>\n",
              "      <th>8</th>\n",
              "      <td>drive/MyDrive/MURA-v1.1/valid/XR_ELBOW/patient11803/study1_positive/image1.png</td>\n",
              "      <td>abnormal</td>\n",
              "    </tr>\n",
              "    <tr>\n",
              "      <th>9</th>\n",
              "      <td>drive/MyDrive/MURA-v1.1/valid/XR_ELBOW/patient11803/study1_positive/image2.png</td>\n",
              "      <td>normal</td>\n",
              "    </tr>\n",
              "  </tbody>\n",
              "</table>\n",
              "</div>\n",
              "      <button class=\"colab-df-convert\" onclick=\"convertToInteractive('df-6a53f50c-5f97-4e03-beda-ea0e467990d6')\"\n",
              "              title=\"Convert this dataframe to an interactive table.\"\n",
              "              style=\"display:none;\">\n",
              "        \n",
              "  <svg xmlns=\"http://www.w3.org/2000/svg\" height=\"24px\"viewBox=\"0 0 24 24\"\n",
              "       width=\"24px\">\n",
              "    <path d=\"M0 0h24v24H0V0z\" fill=\"none\"/>\n",
              "    <path d=\"M18.56 5.44l.94 2.06.94-2.06 2.06-.94-2.06-.94-.94-2.06-.94 2.06-2.06.94zm-11 1L8.5 8.5l.94-2.06 2.06-.94-2.06-.94L8.5 2.5l-.94 2.06-2.06.94zm10 10l.94 2.06.94-2.06 2.06-.94-2.06-.94-.94-2.06-.94 2.06-2.06.94z\"/><path d=\"M17.41 7.96l-1.37-1.37c-.4-.4-.92-.59-1.43-.59-.52 0-1.04.2-1.43.59L10.3 9.45l-7.72 7.72c-.78.78-.78 2.05 0 2.83L4 21.41c.39.39.9.59 1.41.59.51 0 1.02-.2 1.41-.59l7.78-7.78 2.81-2.81c.8-.78.8-2.07 0-2.86zM5.41 20L4 18.59l7.72-7.72 1.47 1.35L5.41 20z\"/>\n",
              "  </svg>\n",
              "      </button>\n",
              "      \n",
              "  <style>\n",
              "    .colab-df-container {\n",
              "      display:flex;\n",
              "      flex-wrap:wrap;\n",
              "      gap: 12px;\n",
              "    }\n",
              "\n",
              "    .colab-df-convert {\n",
              "      background-color: #E8F0FE;\n",
              "      border: none;\n",
              "      border-radius: 50%;\n",
              "      cursor: pointer;\n",
              "      display: none;\n",
              "      fill: #1967D2;\n",
              "      height: 32px;\n",
              "      padding: 0 0 0 0;\n",
              "      width: 32px;\n",
              "    }\n",
              "\n",
              "    .colab-df-convert:hover {\n",
              "      background-color: #E2EBFA;\n",
              "      box-shadow: 0px 1px 2px rgba(60, 64, 67, 0.3), 0px 1px 3px 1px rgba(60, 64, 67, 0.15);\n",
              "      fill: #174EA6;\n",
              "    }\n",
              "\n",
              "    [theme=dark] .colab-df-convert {\n",
              "      background-color: #3B4455;\n",
              "      fill: #D2E3FC;\n",
              "    }\n",
              "\n",
              "    [theme=dark] .colab-df-convert:hover {\n",
              "      background-color: #434B5C;\n",
              "      box-shadow: 0px 1px 3px 1px rgba(0, 0, 0, 0.15);\n",
              "      filter: drop-shadow(0px 1px 2px rgba(0, 0, 0, 0.3));\n",
              "      fill: #FFFFFF;\n",
              "    }\n",
              "  </style>\n",
              "\n",
              "      <script>\n",
              "        const buttonEl =\n",
              "          document.querySelector('#df-6a53f50c-5f97-4e03-beda-ea0e467990d6 button.colab-df-convert');\n",
              "        buttonEl.style.display =\n",
              "          google.colab.kernel.accessAllowed ? 'block' : 'none';\n",
              "\n",
              "        async function convertToInteractive(key) {\n",
              "          const element = document.querySelector('#df-6a53f50c-5f97-4e03-beda-ea0e467990d6');\n",
              "          const dataTable =\n",
              "            await google.colab.kernel.invokeFunction('convertToInteractive',\n",
              "                                                     [key], {});\n",
              "          if (!dataTable) return;\n",
              "\n",
              "          const docLinkHtml = 'Like what you see? Visit the ' +\n",
              "            '<a target=\"_blank\" href=https://colab.research.google.com/notebooks/data_table.ipynb>data table notebook</a>'\n",
              "            + ' to learn more about interactive tables.';\n",
              "          element.innerHTML = '';\n",
              "          dataTable['output_type'] = 'display_data';\n",
              "          await google.colab.output.renderOutput(dataTable, element);\n",
              "          const docLink = document.createElement('div');\n",
              "          docLink.innerHTML = docLinkHtml;\n",
              "          element.appendChild(docLink);\n",
              "        }\n",
              "      </script>\n",
              "    </div>\n",
              "  </div>\n",
              "  "
            ]
          },
          "metadata": {},
          "execution_count": 187
        }
      ]
    },
    {
      "cell_type": "code",
      "source": [
        "#Training & Test visuals\n",
        "\n",
        "def visualize_training_results(train_loss_array,\n",
        "                               test_loss_array,\n",
        "                               train_acc_array,\n",
        "                               test_acc_array,\n",
        "                               num_epochs,\n",
        "                               model_name,\n",
        "                               batch_size):\n",
        "    fig, axs = plt.subplots(1, 2, figsize=(14,4))\n",
        "    fig.suptitle(\"{} training | Batch size: {}\".format(model_name, batch_size), fontsize = 16)\n",
        "    axs[0].plot(list(range(1, num_epochs+1)), train_loss_array, label=\"train_loss\")\n",
        "    axs[0].plot(list(range(1, num_epochs+1)), test_loss_array, label=\"test_loss\")\n",
        "    axs[0].legend(loc='best')\n",
        "    axs[0].set(xlabel='epochs', ylabel='loss')\n",
        "    axs[1].plot(list(range(1, num_epochs+1)), train_acc_array, label=\"train_acc\")\n",
        "    axs[1].plot(list(range(1, num_epochs+1)), test_acc_array, label=\"test_acc\")\n",
        "    axs[1].legend(loc='best')\n",
        "    axs[1].set(xlabel='epochs', ylabel='accuracy')\n",
        "    plt.show();"
      ],
      "metadata": {
        "id": "NDWgV245nOse"
      },
      "execution_count": 188,
      "outputs": []
    },
    {
      "cell_type": "code",
      "source": [
        "visualize_training_results(train_loss_array,\n",
        "                           test_loss_array,\n",
        "                           train_acc_array,\n",
        "                           test_acc_array,\n",
        "                           num_epochs,\n",
        "                           model_name=\"DenseNet161\",\n",
        "                           batch_size=64)"
      ],
      "metadata": {
        "colab": {
          "base_uri": "https://localhost:8080/",
          "height": 372
        },
        "id": "TKKm7XQGnGrs",
        "outputId": "746d5538-7e19-468e-c1b5-89d9132051a4"
      },
      "execution_count": 189,
      "outputs": [
        {
          "output_type": "display_data",
          "data": {
            "text/plain": [
              "<Figure size 1400x400 with 2 Axes>"
            ],
            "image/png": "[encoded data removed]"
          },
          "metadata": {}
        }
      ]
    },
    {
      "cell_type": "code",
      "source": [],
      "metadata": {
        "id": "qEsuo2vOylj4"
      },
      "execution_count": null,
      "outputs": []
    }
  ]
}