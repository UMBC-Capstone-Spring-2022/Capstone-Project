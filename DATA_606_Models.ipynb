{
  "nbformat": 4,
  "nbformat_minor": 0,
  "metadata": {
    "colab": {
      "provenance": []
    },
    "kernelspec": {
      "name": "python3",
      "display_name": "Python 3"
    },
    "language_info": {
      "name": "python"
    },
    "gpuClass": "standard"
  },
  "cells": [
    {
      "cell_type": "code",
      "execution_count": 1,
      "metadata": {
        "colab": {
          "base_uri": "https://localhost:8080/"
        },
        "id": "EQ3cvidcdQaC",
        "outputId": "e7bb5d6a-073b-455e-9e2b-b83802ded3ad"
      },
      "outputs": [
        {
          "output_type": "stream",
          "name": "stdout",
          "text": [
            "Mounted at /content/drive\n"
          ]
        }
      ],
      "source": [
        "#MURA dataset is located in my googe drive, can also mount from file system\n",
        "from google.colab import drive\n",
        "drive.mount('/content/drive')"
      ]
    },
    {
      "cell_type": "code",
      "source": [
        "import pandas as pd\n",
        "import numpy as np\n",
        "import matplotlib.pyplot as plt\n",
        "import os\n",
        "from PIL import Image\n",
        "import torch\n",
        "from torchvision.io import read_image\n",
        "from torchvision import datasets, transforms\n",
        "from torch.utils.data import Dataset, DataLoader\n",
        "from torch import nn\n",
        "from tqdm.auto import tqdm"
      ],
      "metadata": {
        "id": "FaPNqVjKdf3P"
      },
      "execution_count": 2,
      "outputs": []
    },
    {
      "cell_type": "markdown",
      "source": [
        "# Load and Prep Data"
      ],
      "metadata": {
        "id": "TLj0uLtegFSQ"
      }
    },
    {
      "cell_type": "markdown",
      "source": [
        "## Import and create dataframes"
      ],
      "metadata": {
        "id": "mUaNjZAmmji8"
      }
    },
    {
      "cell_type": "code",
      "source": [
        "train_img_paths = pd.read_csv('drive/MyDrive/MURA-v1.1/train_image_paths.csv', header = None, names = ['image_path'])\n",
        "test_img_paths = pd.read_csv('drive/MyDrive/MURA-v1.1/valid_image_paths.csv', header = None, names = ['image_path'])"
      ],
      "metadata": {
        "id": "uCgZJktcm_id"
      },
      "execution_count": 3,
      "outputs": []
    },
    {
      "cell_type": "code",
      "source": [
        "#helper funtion to extract info from train and test dataframes\n",
        "def split_img_paths(df):\n",
        "    temp = df['image_path'].str.split('/', expand=True)\n",
        "    new_df = pd.DataFrame(df['image_path'])\n",
        "    new_df['patient_id'] = temp[3]\n",
        "    new_df['study'] = temp[4].str.split('_', expand = True)[0].str[-1:].astype(int)\n",
        "    new_df['region'] = temp[2].str.split('_', expand = True)[1]\n",
        "    map = {'positive':'abnormal', 'negative':'normal'}\n",
        "    new_df['target'] = temp[4].str.split('_', expand = True)[1]\n",
        "    new_df['target'] = new_df['target'].map(map)\n",
        "    #add google drive location to image path\n",
        "    new_df['image_path'] = 'drive/MyDrive/' + new_df['image_path']\n",
        "    \n",
        "    return new_df"
      ],
      "metadata": {
        "id": "IK0QtCsQo-4p"
      },
      "execution_count": 4,
      "outputs": []
    },
    {
      "cell_type": "code",
      "source": [
        "mura_train = split_img_paths(train_img_paths)\n",
        "mura_test = split_img_paths(test_img_paths)\n",
        "mura_train.head()"
      ],
      "metadata": {
        "colab": {
          "base_uri": "https://localhost:8080/",
          "height": 204
        },
        "id": "h2b2WtbFuhP2",
        "outputId": "7d471e00-33cd-4993-dedc-00234e970426"
      },
      "execution_count": 5,
      "outputs": [
        {
          "output_type": "execute_result",
          "data": {
            "text/plain": [
              "                                          image_path    patient_id  study  \\\n",
              "0  drive/MyDrive/MURA-v1.1/train/XR_SHOULDER/pati...  patient00001      1   \n",
              "1  drive/MyDrive/MURA-v1.1/train/XR_SHOULDER/pati...  patient00001      1   \n",
              "2  drive/MyDrive/MURA-v1.1/train/XR_SHOULDER/pati...  patient00001      1   \n",
              "3  drive/MyDrive/MURA-v1.1/train/XR_SHOULDER/pati...  patient00002      1   \n",
              "4  drive/MyDrive/MURA-v1.1/train/XR_SHOULDER/pati...  patient00002      1   \n",
              "\n",
              "     region    target  \n",
              "0  SHOULDER  abnormal  \n",
              "1  SHOULDER  abnormal  \n",
              "2  SHOULDER  abnormal  \n",
              "3  SHOULDER  abnormal  \n",
              "4  SHOULDER  abnormal  "
            ],
            "text/html": [
              "\n",
              "  <div id=\"df-24b86e49-61e7-4658-b06a-393b16466aa4\">\n",
              "    <div class=\"colab-df-container\">\n",
              "      <div>\n",
              "<style scoped>\n",
              "    .dataframe tbody tr th:only-of-type {\n",
              "        vertical-align: middle;\n",
              "    }\n",
              "\n",
              "    .dataframe tbody tr th {\n",
              "        vertical-align: top;\n",
              "    }\n",
              "\n",
              "    .dataframe thead th {\n",
              "        text-align: right;\n",
              "    }\n",
              "</style>\n",
              "<table border=\"1\" class=\"dataframe\">\n",
              "  <thead>\n",
              "    <tr style=\"text-align: right;\">\n",
              "      <th></th>\n",
              "      <th>image_path</th>\n",
              "      <th>patient_id</th>\n",
              "      <th>study</th>\n",
              "      <th>region</th>\n",
              "      <th>target</th>\n",
              "    </tr>\n",
              "  </thead>\n",
              "  <tbody>\n",
              "    <tr>\n",
              "      <th>0</th>\n",
              "      <td>drive/MyDrive/MURA-v1.1/train/XR_SHOULDER/pati...</td>\n",
              "      <td>patient00001</td>\n",
              "      <td>1</td>\n",
              "      <td>SHOULDER</td>\n",
              "      <td>abnormal</td>\n",
              "    </tr>\n",
              "    <tr>\n",
              "      <th>1</th>\n",
              "      <td>drive/MyDrive/MURA-v1.1/train/XR_SHOULDER/pati...</td>\n",
              "      <td>patient00001</td>\n",
              "      <td>1</td>\n",
              "      <td>SHOULDER</td>\n",
              "      <td>abnormal</td>\n",
              "    </tr>\n",
              "    <tr>\n",
              "      <th>2</th>\n",
              "      <td>drive/MyDrive/MURA-v1.1/train/XR_SHOULDER/pati...</td>\n",
              "      <td>patient00001</td>\n",
              "      <td>1</td>\n",
              "      <td>SHOULDER</td>\n",
              "      <td>abnormal</td>\n",
              "    </tr>\n",
              "    <tr>\n",
              "      <th>3</th>\n",
              "      <td>drive/MyDrive/MURA-v1.1/train/XR_SHOULDER/pati...</td>\n",
              "      <td>patient00002</td>\n",
              "      <td>1</td>\n",
              "      <td>SHOULDER</td>\n",
              "      <td>abnormal</td>\n",
              "    </tr>\n",
              "    <tr>\n",
              "      <th>4</th>\n",
              "      <td>drive/MyDrive/MURA-v1.1/train/XR_SHOULDER/pati...</td>\n",
              "      <td>patient00002</td>\n",
              "      <td>1</td>\n",
              "      <td>SHOULDER</td>\n",
              "      <td>abnormal</td>\n",
              "    </tr>\n",
              "  </tbody>\n",
              "</table>\n",
              "</div>\n",
              "      <button class=\"colab-df-convert\" onclick=\"convertToInteractive('df-24b86e49-61e7-4658-b06a-393b16466aa4')\"\n",
              "              title=\"Convert this dataframe to an interactive table.\"\n",
              "              style=\"display:none;\">\n",
              "        \n",
              "  <svg xmlns=\"http://www.w3.org/2000/svg\" height=\"24px\"viewBox=\"0 0 24 24\"\n",
              "       width=\"24px\">\n",
              "    <path d=\"M0 0h24v24H0V0z\" fill=\"none\"/>\n",
              "    <path d=\"M18.56 5.44l.94 2.06.94-2.06 2.06-.94-2.06-.94-.94-2.06-.94 2.06-2.06.94zm-11 1L8.5 8.5l.94-2.06 2.06-.94-2.06-.94L8.5 2.5l-.94 2.06-2.06.94zm10 10l.94 2.06.94-2.06 2.06-.94-2.06-.94-.94-2.06-.94 2.06-2.06.94z\"/><path d=\"M17.41 7.96l-1.37-1.37c-.4-.4-.92-.59-1.43-.59-.52 0-1.04.2-1.43.59L10.3 9.45l-7.72 7.72c-.78.78-.78 2.05 0 2.83L4 21.41c.39.39.9.59 1.41.59.51 0 1.02-.2 1.41-.59l7.78-7.78 2.81-2.81c.8-.78.8-2.07 0-2.86zM5.41 20L4 18.59l7.72-7.72 1.47 1.35L5.41 20z\"/>\n",
              "  </svg>\n",
              "      </button>\n",
              "      \n",
              "  <style>\n",
              "    .colab-df-container {\n",
              "      display:flex;\n",
              "      flex-wrap:wrap;\n",
              "      gap: 12px;\n",
              "    }\n",
              "\n",
              "    .colab-df-convert {\n",
              "      background-color: #E8F0FE;\n",
              "      border: none;\n",
              "      border-radius: 50%;\n",
              "      cursor: pointer;\n",
              "      display: none;\n",
              "      fill: #1967D2;\n",
              "      height: 32px;\n",
              "      padding: 0 0 0 0;\n",
              "      width: 32px;\n",
              "    }\n",
              "\n",
              "    .colab-df-convert:hover {\n",
              "      background-color: #E2EBFA;\n",
              "      box-shadow: 0px 1px 2px rgba(60, 64, 67, 0.3), 0px 1px 3px 1px rgba(60, 64, 67, 0.15);\n",
              "      fill: #174EA6;\n",
              "    }\n",
              "\n",
              "    [theme=dark] .colab-df-convert {\n",
              "      background-color: #3B4455;\n",
              "      fill: #D2E3FC;\n",
              "    }\n",
              "\n",
              "    [theme=dark] .colab-df-convert:hover {\n",
              "      background-color: #434B5C;\n",
              "      box-shadow: 0px 1px 3px 1px rgba(0, 0, 0, 0.15);\n",
              "      filter: drop-shadow(0px 1px 2px rgba(0, 0, 0, 0.3));\n",
              "      fill: #FFFFFF;\n",
              "    }\n",
              "  </style>\n",
              "\n",
              "      <script>\n",
              "        const buttonEl =\n",
              "          document.querySelector('#df-24b86e49-61e7-4658-b06a-393b16466aa4 button.colab-df-convert');\n",
              "        buttonEl.style.display =\n",
              "          google.colab.kernel.accessAllowed ? 'block' : 'none';\n",
              "\n",
              "        async function convertToInteractive(key) {\n",
              "          const element = document.querySelector('#df-24b86e49-61e7-4658-b06a-393b16466aa4');\n",
              "          const dataTable =\n",
              "            await google.colab.kernel.invokeFunction('convertToInteractive',\n",
              "                                                     [key], {});\n",
              "          if (!dataTable) return;\n",
              "\n",
              "          const docLinkHtml = 'Like what you see? Visit the ' +\n",
              "            '<a target=\"_blank\" href=https://colab.research.google.com/notebooks/data_table.ipynb>data table notebook</a>'\n",
              "            + ' to learn more about interactive tables.';\n",
              "          element.innerHTML = '';\n",
              "          dataTable['output_type'] = 'display_data';\n",
              "          await google.colab.output.renderOutput(dataTable, element);\n",
              "          const docLink = document.createElement('div');\n",
              "          docLink.innerHTML = docLinkHtml;\n",
              "          element.appendChild(docLink);\n",
              "        }\n",
              "      </script>\n",
              "    </div>\n",
              "  </div>\n",
              "  "
            ]
          },
          "metadata": {},
          "execution_count": 5
        }
      ]
    },
    {
      "cell_type": "code",
      "source": [
        "def mura_to14(df):\n",
        "    new_df = df.copy()\n",
        "    new_df['target'] = df['target'] + '_' + df['region']\n",
        "    return new_df"
      ],
      "metadata": {
        "id": "n6K-IEIbEYFx"
      },
      "execution_count": 6,
      "outputs": []
    },
    {
      "cell_type": "code",
      "source": [
        "mura_train_14 = mura_to14(mura_train)\n",
        "mura_test_14 = mura_to14(mura_test)\n",
        "mura_train_14.head()"
      ],
      "metadata": {
        "colab": {
          "base_uri": "https://localhost:8080/",
          "height": 204
        },
        "id": "PslKV85M0L7I",
        "outputId": "d7b01be5-ff13-4a7b-e4d8-cf86cddb00dc"
      },
      "execution_count": 7,
      "outputs": [
        {
          "output_type": "execute_result",
          "data": {
            "text/plain": [
              "                                          image_path    patient_id  study  \\\n",
              "0  drive/MyDrive/MURA-v1.1/train/XR_SHOULDER/pati...  patient00001      1   \n",
              "1  drive/MyDrive/MURA-v1.1/train/XR_SHOULDER/pati...  patient00001      1   \n",
              "2  drive/MyDrive/MURA-v1.1/train/XR_SHOULDER/pati...  patient00001      1   \n",
              "3  drive/MyDrive/MURA-v1.1/train/XR_SHOULDER/pati...  patient00002      1   \n",
              "4  drive/MyDrive/MURA-v1.1/train/XR_SHOULDER/pati...  patient00002      1   \n",
              "\n",
              "     region             target  \n",
              "0  SHOULDER  abnormal_SHOULDER  \n",
              "1  SHOULDER  abnormal_SHOULDER  \n",
              "2  SHOULDER  abnormal_SHOULDER  \n",
              "3  SHOULDER  abnormal_SHOULDER  \n",
              "4  SHOULDER  abnormal_SHOULDER  "
            ],
            "text/html": [
              "\n",
              "  <div id=\"df-1c9888f6-bfd1-4377-a070-717df53ce7ea\">\n",
              "    <div class=\"colab-df-container\">\n",
              "      <div>\n",
              "<style scoped>\n",
              "    .dataframe tbody tr th:only-of-type {\n",
              "        vertical-align: middle;\n",
              "    }\n",
              "\n",
              "    .dataframe tbody tr th {\n",
              "        vertical-align: top;\n",
              "    }\n",
              "\n",
              "    .dataframe thead th {\n",
              "        text-align: right;\n",
              "    }\n",
              "</style>\n",
              "<table border=\"1\" class=\"dataframe\">\n",
              "  <thead>\n",
              "    <tr style=\"text-align: right;\">\n",
              "      <th></th>\n",
              "      <th>image_path</th>\n",
              "      <th>patient_id</th>\n",
              "      <th>study</th>\n",
              "      <th>region</th>\n",
              "      <th>target</th>\n",
              "    </tr>\n",
              "  </thead>\n",
              "  <tbody>\n",
              "    <tr>\n",
              "      <th>0</th>\n",
              "      <td>drive/MyDrive/MURA-v1.1/train/XR_SHOULDER/pati...</td>\n",
              "      <td>patient00001</td>\n",
              "      <td>1</td>\n",
              "      <td>SHOULDER</td>\n",
              "      <td>abnormal_SHOULDER</td>\n",
              "    </tr>\n",
              "    <tr>\n",
              "      <th>1</th>\n",
              "      <td>drive/MyDrive/MURA-v1.1/train/XR_SHOULDER/pati...</td>\n",
              "      <td>patient00001</td>\n",
              "      <td>1</td>\n",
              "      <td>SHOULDER</td>\n",
              "      <td>abnormal_SHOULDER</td>\n",
              "    </tr>\n",
              "    <tr>\n",
              "      <th>2</th>\n",
              "      <td>drive/MyDrive/MURA-v1.1/train/XR_SHOULDER/pati...</td>\n",
              "      <td>patient00001</td>\n",
              "      <td>1</td>\n",
              "      <td>SHOULDER</td>\n",
              "      <td>abnormal_SHOULDER</td>\n",
              "    </tr>\n",
              "    <tr>\n",
              "      <th>3</th>\n",
              "      <td>drive/MyDrive/MURA-v1.1/train/XR_SHOULDER/pati...</td>\n",
              "      <td>patient00002</td>\n",
              "      <td>1</td>\n",
              "      <td>SHOULDER</td>\n",
              "      <td>abnormal_SHOULDER</td>\n",
              "    </tr>\n",
              "    <tr>\n",
              "      <th>4</th>\n",
              "      <td>drive/MyDrive/MURA-v1.1/train/XR_SHOULDER/pati...</td>\n",
              "      <td>patient00002</td>\n",
              "      <td>1</td>\n",
              "      <td>SHOULDER</td>\n",
              "      <td>abnormal_SHOULDER</td>\n",
              "    </tr>\n",
              "  </tbody>\n",
              "</table>\n",
              "</div>\n",
              "      <button class=\"colab-df-convert\" onclick=\"convertToInteractive('df-1c9888f6-bfd1-4377-a070-717df53ce7ea')\"\n",
              "              title=\"Convert this dataframe to an interactive table.\"\n",
              "              style=\"display:none;\">\n",
              "        \n",
              "  <svg xmlns=\"http://www.w3.org/2000/svg\" height=\"24px\"viewBox=\"0 0 24 24\"\n",
              "       width=\"24px\">\n",
              "    <path d=\"M0 0h24v24H0V0z\" fill=\"none\"/>\n",
              "    <path d=\"M18.56 5.44l.94 2.06.94-2.06 2.06-.94-2.06-.94-.94-2.06-.94 2.06-2.06.94zm-11 1L8.5 8.5l.94-2.06 2.06-.94-2.06-.94L8.5 2.5l-.94 2.06-2.06.94zm10 10l.94 2.06.94-2.06 2.06-.94-2.06-.94-.94-2.06-.94 2.06-2.06.94z\"/><path d=\"M17.41 7.96l-1.37-1.37c-.4-.4-.92-.59-1.43-.59-.52 0-1.04.2-1.43.59L10.3 9.45l-7.72 7.72c-.78.78-.78 2.05 0 2.83L4 21.41c.39.39.9.59 1.41.59.51 0 1.02-.2 1.41-.59l7.78-7.78 2.81-2.81c.8-.78.8-2.07 0-2.86zM5.41 20L4 18.59l7.72-7.72 1.47 1.35L5.41 20z\"/>\n",
              "  </svg>\n",
              "      </button>\n",
              "      \n",
              "  <style>\n",
              "    .colab-df-container {\n",
              "      display:flex;\n",
              "      flex-wrap:wrap;\n",
              "      gap: 12px;\n",
              "    }\n",
              "\n",
              "    .colab-df-convert {\n",
              "      background-color: #E8F0FE;\n",
              "      border: none;\n",
              "      border-radius: 50%;\n",
              "      cursor: pointer;\n",
              "      display: none;\n",
              "      fill: #1967D2;\n",
              "      height: 32px;\n",
              "      padding: 0 0 0 0;\n",
              "      width: 32px;\n",
              "    }\n",
              "\n",
              "    .colab-df-convert:hover {\n",
              "      background-color: #E2EBFA;\n",
              "      box-shadow: 0px 1px 2px rgba(60, 64, 67, 0.3), 0px 1px 3px 1px rgba(60, 64, 67, 0.15);\n",
              "      fill: #174EA6;\n",
              "    }\n",
              "\n",
              "    [theme=dark] .colab-df-convert {\n",
              "      background-color: #3B4455;\n",
              "      fill: #D2E3FC;\n",
              "    }\n",
              "\n",
              "    [theme=dark] .colab-df-convert:hover {\n",
              "      background-color: #434B5C;\n",
              "      box-shadow: 0px 1px 3px 1px rgba(0, 0, 0, 0.15);\n",
              "      filter: drop-shadow(0px 1px 2px rgba(0, 0, 0, 0.3));\n",
              "      fill: #FFFFFF;\n",
              "    }\n",
              "  </style>\n",
              "\n",
              "      <script>\n",
              "        const buttonEl =\n",
              "          document.querySelector('#df-1c9888f6-bfd1-4377-a070-717df53ce7ea button.colab-df-convert');\n",
              "        buttonEl.style.display =\n",
              "          google.colab.kernel.accessAllowed ? 'block' : 'none';\n",
              "\n",
              "        async function convertToInteractive(key) {\n",
              "          const element = document.querySelector('#df-1c9888f6-bfd1-4377-a070-717df53ce7ea');\n",
              "          const dataTable =\n",
              "            await google.colab.kernel.invokeFunction('convertToInteractive',\n",
              "                                                     [key], {});\n",
              "          if (!dataTable) return;\n",
              "\n",
              "          const docLinkHtml = 'Like what you see? Visit the ' +\n",
              "            '<a target=\"_blank\" href=https://colab.research.google.com/notebooks/data_table.ipynb>data table notebook</a>'\n",
              "            + ' to learn more about interactive tables.';\n",
              "          element.innerHTML = '';\n",
              "          dataTable['output_type'] = 'display_data';\n",
              "          await google.colab.output.renderOutput(dataTable, element);\n",
              "          const docLink = document.createElement('div');\n",
              "          docLink.innerHTML = docLinkHtml;\n",
              "          element.appendChild(docLink);\n",
              "        }\n",
              "      </script>\n",
              "    </div>\n",
              "  </div>\n",
              "  "
            ]
          },
          "metadata": {},
          "execution_count": 7
        }
      ]
    },
    {
      "cell_type": "markdown",
      "source": [
        "### Create seperate df for train and test for different regions"
      ],
      "metadata": {
        "id": "v1r1BLIRnKgJ"
      }
    },
    {
      "cell_type": "code",
      "source": [
        "wrist_train = mura_train[mura_train['region']=='WRIST']\n",
        "forearm_train = mura_train[mura_train['region']=='FOREARM']\n",
        "hand_train = mura_train[mura_train['region']=='HAND']\n",
        "humerus_train = mura_train[mura_train['region']=='HUMERUS']\n",
        "elbow_train = mura_train[mura_train['region']=='ELBOW']\n",
        "shoulder_train = mura_train[mura_train['region']=='SHOULDER']\n",
        "finger_train = mura_train[mura_train['region']=='FINGER']"
      ],
      "metadata": {
        "id": "-73LtrQGm5zJ"
      },
      "execution_count": 8,
      "outputs": []
    },
    {
      "cell_type": "code",
      "source": [
        "wrist_test = mura_train[mura_train['region']=='WRIST']\n",
        "forearm_test = mura_train[mura_train['region']=='FOREARM']\n",
        "hand_test = mura_train[mura_train['region']=='HAND']\n",
        "humerus_test = mura_train[mura_train['region']=='HUMERUS']\n",
        "elbow_test = mura_train[mura_train['region']=='ELBOW']\n",
        "shoulder_test = mura_train[mura_train['region']=='SHOULDER']\n",
        "finger_test = mura_train[mura_train['region']=='FINGER']"
      ],
      "metadata": {
        "id": "PA4O0yn8nzgZ"
      },
      "execution_count": 9,
      "outputs": []
    },
    {
      "cell_type": "markdown",
      "source": [
        "## Create custom Datasets and Dataloaders"
      ],
      "metadata": {
        "id": "1B0RIJ9SmpxF"
      }
    },
    {
      "cell_type": "code",
      "source": [
        "# https://www.learnpytorch.io/04_pytorch_custom_datasets/#41-turn-loaded-images-into-dataloaders\n",
        "data_transforms = transforms.Compose([\n",
        "    transforms.Grayscale(num_output_channels=1),\n",
        "    transforms.Resize((256,256)),\n",
        "    transforms.ToTensor()\n",
        "])"
      ],
      "metadata": {
        "id": "J7q4r-Z4SB2C"
      },
      "execution_count": 10,
      "outputs": []
    },
    {
      "cell_type": "code",
      "source": [
        "# https://www.learnpytorch.io/04_pytorch_custom_datasets/#41-turn-loaded-images-into-dataloaders\n",
        "def class_dict(two_targets):\n",
        "    classes_2 = ['normal', 'abnormal']\n",
        "    dict_2 = {'normal' : 0, 'abnormal': 1}\n",
        "    classes_14 = ['abnormal_WRIST', 'normal_WRIST','abnormal_FOREARM', 'normal_FOREARM',\n",
        "                      'abnormal_HAND', 'normal_HAND', 'abnormal_HUMERUS', 'normal_HUMERUS',\n",
        "                      'abnormal_ELBOW', 'normal_ELBOW', 'abnormal_SHOULDER', 'normal_SHOULDER',\n",
        "                      'abnormal_FINGER', 'normal_FINGER']\n",
        "    dict_14 = {'abnormal_WRIST': 0, 'normal_WRIST': 1,'abnormal_FOREARM' : 2, 'normal_FOREARM' : 3,\n",
        "                      'abnormal_HAND': 4, 'normal_HAND' : 5, 'abnormal_HUMERUS': 6, 'normal_HUMERUS' : 7,\n",
        "                      'abnormal_ELBOW': 8, 'normal_ELBOW' : 9, 'abnormal_SHOULDER' : 10, 'normal_SHOULDER': 11,\n",
        "                      'abnormal_FINGER': 12, 'normal_FINGER' : 13}\n",
        "    if two_targets == True:\n",
        "      return classes_2, dict_2\n",
        "    else:\n",
        "      return classes_14, dict_14"
      ],
      "metadata": {
        "id": "U43jeRlkTILE"
      },
      "execution_count": 11,
      "outputs": []
    },
    {
      "cell_type": "code",
      "source": [
        "# https://www.learnpytorch.io/04_pytorch_custom_datasets/#41-turn-loaded-images-into-dataloaders\n",
        "\n",
        "class MuraDataset(Dataset):\n",
        "    def __init__(self, mura_df, transform=data_transforms, two_targets=True):\n",
        "        self.mura = mura_df\n",
        "        self.transform = transform\n",
        "        self.classes, self.class_to_idx = class_dict(two_targets=two_targets)\n",
        "\n",
        "    def __len__(self):\n",
        "        return len(self.mura)\n",
        "\n",
        "    def get_image_class(self, index):\n",
        "        image_path = self.mura.iloc[index]['image_path']\n",
        "        class_name = self.mura.iloc[index]['target']\n",
        "        #return read_image(image_path), class_name\n",
        "        return Image.open(image_path), class_name  \n",
        "\n",
        "    def __getitem__(self, idx):\n",
        "        image, class_name = self.get_image_class(idx)\n",
        "        label = self.class_to_idx[class_name]\n",
        "\n",
        "        if self.transform:\n",
        "          return self.transform(image), label\n",
        "        else:\n",
        "          return self.transform(image), label\n"
      ],
      "metadata": {
        "id": "1HZ1w3Rek1Vm"
      },
      "execution_count": 12,
      "outputs": []
    },
    {
      "cell_type": "code",
      "source": [
        "#test on elbow train\n",
        "elbow_train_dataset = MuraDataset(mura_df = elbow_train)"
      ],
      "metadata": {
        "id": "LIAnxr1yXTXv"
      },
      "execution_count": 14,
      "outputs": []
    },
    {
      "cell_type": "code",
      "source": [
        "elbow_test_dataset = MuraDataset(mura_df = elbow_test)"
      ],
      "metadata": {
        "id": "_8nRECj6_lj9"
      },
      "execution_count": 15,
      "outputs": []
    },
    {
      "cell_type": "code",
      "source": [
        "len(elbow_train_dataset)"
      ],
      "metadata": {
        "colab": {
          "base_uri": "https://localhost:8080/"
        },
        "id": "E6RIfcNNDj_8",
        "outputId": "7ab9251a-a8ce-45b1-d57c-8b7117cce9c3"
      },
      "execution_count": 16,
      "outputs": [
        {
          "output_type": "execute_result",
          "data": {
            "text/plain": [
              "4931"
            ]
          },
          "metadata": {},
          "execution_count": 16
        }
      ]
    },
    {
      "cell_type": "code",
      "source": [
        "elbow_train_dataset.classes"
      ],
      "metadata": {
        "colab": {
          "base_uri": "https://localhost:8080/"
        },
        "id": "JTEBYrqwdwWZ",
        "outputId": "50aa5a50-dcc2-422e-ca60-6e5d15ef479a"
      },
      "execution_count": 17,
      "outputs": [
        {
          "output_type": "execute_result",
          "data": {
            "text/plain": [
              "['normal', 'abnormal']"
            ]
          },
          "metadata": {},
          "execution_count": 17
        }
      ]
    },
    {
      "cell_type": "code",
      "source": [
        "elbow_train_dataset.class_to_idx"
      ],
      "metadata": {
        "colab": {
          "base_uri": "https://localhost:8080/"
        },
        "id": "d9hHON1vdz2D",
        "outputId": "ab926998-6d0b-4ffd-cd5f-c422ea930c8f"
      },
      "execution_count": 18,
      "outputs": [
        {
          "output_type": "execute_result",
          "data": {
            "text/plain": [
              "{'normal': 0, 'abnormal': 1}"
            ]
          },
          "metadata": {},
          "execution_count": 18
        }
      ]
    },
    {
      "cell_type": "code",
      "source": [
        "elbow_train_dataloader = DataLoader(elbow_train_dataset, batch_size=1, shuffle=True)"
      ],
      "metadata": {
        "id": "3WqkLG8eXSap"
      },
      "execution_count": 20,
      "outputs": []
    },
    {
      "cell_type": "code",
      "source": [
        "elbow_test_dataloader = DataLoader(elbow_test_dataset, batch_size=1, shuffle=True)"
      ],
      "metadata": {
        "id": "r1RCivhC_p22"
      },
      "execution_count": 21,
      "outputs": []
    },
    {
      "cell_type": "code",
      "source": [
        "i, l = next(iter(elbow_train_dataloader))"
      ],
      "metadata": {
        "id": "FS9LWReAAGbx"
      },
      "execution_count": 55,
      "outputs": []
    },
    {
      "cell_type": "code",
      "source": [
        "i, l"
      ],
      "metadata": {
        "colab": {
          "base_uri": "https://localhost:8080/"
        },
        "id": "p7WFKhp1IYmb",
        "outputId": "ee37a4e5-ecd7-40ea-f005-f3f581ba799b"
      },
      "execution_count": 56,
      "outputs": [
        {
          "output_type": "execute_result",
          "data": {
            "text/plain": [
              "(tensor([[[[0., 0., 0.,  ..., 0., 0., 0.],\n",
              "           [0., 0., 0.,  ..., 0., 0., 0.],\n",
              "           [0., 0., 0.,  ..., 0., 0., 0.],\n",
              "           ...,\n",
              "           [0., 0., 0.,  ..., 0., 0., 0.],\n",
              "           [0., 0., 0.,  ..., 0., 0., 0.],\n",
              "           [0., 0., 0.,  ..., 0., 0., 0.]]]]), tensor([1]))"
            ]
          },
          "metadata": {},
          "execution_count": 56
        }
      ]
    },
    {
      "cell_type": "code",
      "source": [
        "print(i.shape, l.shape)"
      ],
      "metadata": {
        "colab": {
          "base_uri": "https://localhost:8080/"
        },
        "id": "hC4pU-mWfeSP",
        "outputId": "8fc7a76a-bbcf-421f-e081-b932338a4c34"
      },
      "execution_count": 57,
      "outputs": [
        {
          "output_type": "stream",
          "name": "stdout",
          "text": [
            "torch.Size([1, 1, 256, 256]) torch.Size([1])\n"
          ]
        }
      ]
    },
    {
      "cell_type": "code",
      "source": [
        "dict = {}\n",
        "#for i in range(len(train_dataset)):\n",
        "    img, label = next(iter(train_dataloader))\n",
        "    shape = img.shape\n",
        "    dict[shape] = dict.get(shape, 0) + 1\n",
        "     \n"
      ],
      "metadata": {
        "id": "092A6d-yfqKk"
      },
      "execution_count": null,
      "outputs": []
    },
    {
      "cell_type": "code",
      "source": [
        "#dict"
      ],
      "metadata": {
        "colab": {
          "base_uri": "https://localhost:8080/"
        },
        "id": "TXVqoLbusewL",
        "outputId": "1a2fe5c1-4296-473d-cc9d-18ffe372c623"
      },
      "execution_count": 160,
      "outputs": [
        {
          "output_type": "execute_result",
          "data": {
            "text/plain": [
              "{torch.Size([1, 3, 512, 406]): 182,\n",
              " torch.Size([1, 1, 512, 234]): 1,\n",
              " torch.Size([1, 1, 512, 458]): 4,\n",
              " torch.Size([1, 1, 512, 512]): 29,\n",
              " torch.Size([1, 1, 361, 512]): 1,\n",
              " torch.Size([1, 1, 512, 407]): 6,\n",
              " torch.Size([1, 1, 399, 512]): 1,\n",
              " torch.Size([1, 1, 512, 468]): 4,\n",
              " torch.Size([1, 3, 407, 512]): 10,\n",
              " torch.Size([1, 1, 471, 512]): 1,\n",
              " torch.Size([1, 1, 420, 512]): 1,\n",
              " torch.Size([1, 1, 512, 280]): 4,\n",
              " torch.Size([1, 1, 512, 406]): 3,\n",
              " torch.Size([1, 1, 498, 512]): 1,\n",
              " torch.Size([1, 1, 512, 391]): 4,\n",
              " torch.Size([1, 1, 512, 443]): 2,\n",
              " torch.Size([1, 3, 420, 512]): 11,\n",
              " torch.Size([1, 1, 512, 501]): 3,\n",
              " torch.Size([1, 1, 512, 273]): 2,\n",
              " torch.Size([1, 3, 424, 512]): 13,\n",
              " torch.Size([1, 3, 512, 424]): 33,\n",
              " torch.Size([1, 1, 512, 341]): 7,\n",
              " torch.Size([1, 3, 512, 379]): 23,\n",
              " torch.Size([1, 1, 512, 289]): 2,\n",
              " torch.Size([1, 1, 512, 281]): 5,\n",
              " torch.Size([1, 3, 379, 512]): 10,\n",
              " torch.Size([1, 1, 512, 409]): 3,\n",
              " torch.Size([1, 1, 473, 512]): 1,\n",
              " torch.Size([1, 1, 512, 314]): 2,\n",
              " torch.Size([1, 1, 512, 357]): 1,\n",
              " torch.Size([1, 3, 406, 512]): 70,\n",
              " torch.Size([1, 1, 512, 317]): 8,\n",
              " torch.Size([1, 3, 512, 420]): 26,\n",
              " torch.Size([1, 1, 512, 426]): 4,\n",
              " torch.Size([1, 1, 512, 385]): 1,\n",
              " torch.Size([1, 3, 512, 405]): 5,\n",
              " torch.Size([1, 1, 425, 512]): 4,\n",
              " torch.Size([1, 1, 512, 326]): 3,\n",
              " torch.Size([1, 1, 512, 255]): 1,\n",
              " torch.Size([1, 1, 512, 471]): 1,\n",
              " torch.Size([1, 1, 448, 512]): 1,\n",
              " torch.Size([1, 1, 512, 328]): 2,\n",
              " torch.Size([1, 1, 512, 507]): 1,\n",
              " torch.Size([1, 1, 512, 495]): 1,\n",
              " torch.Size([1, 1, 512, 329]): 2,\n",
              " torch.Size([1, 1, 512, 166]): 1,\n",
              " torch.Size([1, 1, 512, 301]): 4,\n",
              " torch.Size([1, 1, 512, 348]): 7,\n",
              " torch.Size([1, 1, 512, 282]): 6,\n",
              " torch.Size([1, 1, 512, 334]): 3,\n",
              " torch.Size([1, 1, 512, 275]): 4,\n",
              " torch.Size([1, 1, 512, 335]): 2,\n",
              " torch.Size([1, 1, 512, 327]): 4,\n",
              " torch.Size([1, 1, 506, 512]): 1,\n",
              " torch.Size([1, 1, 484, 512]): 2,\n",
              " torch.Size([1, 1, 385, 512]): 1,\n",
              " torch.Size([1, 1, 512, 310]): 5,\n",
              " torch.Size([1, 1, 512, 399]): 1,\n",
              " torch.Size([1, 1, 512, 316]): 2,\n",
              " torch.Size([1, 1, 512, 302]): 2,\n",
              " torch.Size([1, 1, 512, 242]): 2,\n",
              " torch.Size([1, 1, 382, 512]): 1,\n",
              " torch.Size([1, 1, 457, 512]): 3,\n",
              " torch.Size([1, 1, 512, 362]): 6,\n",
              " torch.Size([1, 3, 512, 425]): 5,\n",
              " torch.Size([1, 1, 512, 296]): 2,\n",
              " torch.Size([1, 1, 405, 512]): 3,\n",
              " torch.Size([1, 1, 512, 293]): 6,\n",
              " torch.Size([1, 1, 512, 435]): 1,\n",
              " torch.Size([1, 1, 463, 512]): 2,\n",
              " torch.Size([1, 1, 375, 512]): 1,\n",
              " torch.Size([1, 1, 512, 370]): 2,\n",
              " torch.Size([1, 1, 512, 311]): 2,\n",
              " torch.Size([1, 1, 512, 441]): 3,\n",
              " torch.Size([1, 1, 461, 512]): 2,\n",
              " torch.Size([1, 1, 512, 305]): 3,\n",
              " torch.Size([1, 1, 512, 355]): 5,\n",
              " torch.Size([1, 1, 488, 512]): 3,\n",
              " torch.Size([1, 1, 512, 250]): 2,\n",
              " torch.Size([1, 1, 512, 483]): 2,\n",
              " torch.Size([1, 1, 512, 325]): 2,\n",
              " torch.Size([1, 1, 512, 272]): 4,\n",
              " torch.Size([1, 1, 512, 379]): 3,\n",
              " torch.Size([1, 1, 507, 512]): 2,\n",
              " torch.Size([1, 1, 500, 512]): 1,\n",
              " torch.Size([1, 1, 512, 315]): 1,\n",
              " torch.Size([1, 1, 512, 344]): 3,\n",
              " torch.Size([1, 1, 512, 420]): 2,\n",
              " torch.Size([1, 1, 512, 337]): 2,\n",
              " torch.Size([1, 1, 512, 461]): 1,\n",
              " torch.Size([1, 1, 512, 404]): 1,\n",
              " torch.Size([1, 1, 489, 512]): 1,\n",
              " torch.Size([1, 1, 512, 304]): 2,\n",
              " torch.Size([1, 1, 407, 512]): 4,\n",
              " torch.Size([1, 1, 512, 286]): 3,\n",
              " torch.Size([1, 3, 512, 407]): 16,\n",
              " torch.Size([1, 1, 508, 512]): 1,\n",
              " torch.Size([1, 1, 509, 512]): 1,\n",
              " torch.Size([1, 1, 502, 512]): 2,\n",
              " torch.Size([1, 1, 416, 512]): 1,\n",
              " torch.Size([1, 1, 512, 342]): 2,\n",
              " torch.Size([1, 1, 512, 381]): 2,\n",
              " torch.Size([1, 1, 392, 512]): 1,\n",
              " torch.Size([1, 3, 512, 421]): 2,\n",
              " torch.Size([1, 1, 512, 285]): 2,\n",
              " torch.Size([1, 1, 512, 508]): 3,\n",
              " torch.Size([1, 1, 512, 425]): 6,\n",
              " torch.Size([1, 3, 512, 380]): 1,\n",
              " torch.Size([1, 1, 495, 512]): 4,\n",
              " torch.Size([1, 1, 494, 512]): 2,\n",
              " torch.Size([1, 1, 512, 343]): 2,\n",
              " torch.Size([1, 1, 464, 512]): 2,\n",
              " torch.Size([1, 1, 512, 309]): 6,\n",
              " torch.Size([1, 1, 512, 346]): 2,\n",
              " torch.Size([1, 1, 512, 449]): 2,\n",
              " torch.Size([1, 1, 512, 268]): 2,\n",
              " torch.Size([1, 1, 358, 512]): 1,\n",
              " torch.Size([1, 1, 512, 276]): 3,\n",
              " torch.Size([1, 1, 512, 238]): 1,\n",
              " torch.Size([1, 1, 499, 512]): 2,\n",
              " torch.Size([1, 1, 512, 246]): 2,\n",
              " torch.Size([1, 1, 435, 512]): 2,\n",
              " torch.Size([1, 1, 512, 324]): 3,\n",
              " torch.Size([1, 1, 512, 417]): 1,\n",
              " torch.Size([1, 1, 332, 512]): 1,\n",
              " torch.Size([1, 1, 512, 463]): 2,\n",
              " torch.Size([1, 1, 468, 512]): 3,\n",
              " torch.Size([1, 1, 512, 365]): 2,\n",
              " torch.Size([1, 1, 512, 493]): 2,\n",
              " torch.Size([1, 1, 305, 512]): 1,\n",
              " torch.Size([1, 1, 512, 312]): 1,\n",
              " torch.Size([1, 1, 512, 222]): 1,\n",
              " torch.Size([1, 1, 512, 447]): 1,\n",
              " torch.Size([1, 1, 512, 454]): 2,\n",
              " torch.Size([1, 1, 418, 512]): 2,\n",
              " torch.Size([1, 3, 405, 512]): 2,\n",
              " torch.Size([1, 1, 512, 384]): 2,\n",
              " torch.Size([1, 1, 512, 378]): 1,\n",
              " torch.Size([1, 1, 512, 494]): 1,\n",
              " torch.Size([1, 1, 512, 437]): 1,\n",
              " torch.Size([1, 1, 512, 277]): 2,\n",
              " torch.Size([1, 1, 512, 290]): 3,\n",
              " torch.Size([1, 1, 453, 512]): 1,\n",
              " torch.Size([1, 1, 512, 424]): 3,\n",
              " torch.Size([1, 1, 512, 389]): 2,\n",
              " torch.Size([1, 3, 512, 423]): 1,\n",
              " torch.Size([1, 1, 512, 287]): 4,\n",
              " torch.Size([1, 1, 512, 477]): 1,\n",
              " torch.Size([1, 1, 512, 267]): 3,\n",
              " torch.Size([1, 1, 512, 248]): 1,\n",
              " torch.Size([1, 1, 472, 512]): 1,\n",
              " torch.Size([1, 1, 441, 512]): 4,\n",
              " torch.Size([1, 1, 512, 422]): 3,\n",
              " torch.Size([1, 3, 425, 512]): 5,\n",
              " torch.Size([1, 1, 512, 457]): 1,\n",
              " torch.Size([1, 1, 427, 512]): 3,\n",
              " torch.Size([1, 1, 512, 359]): 2,\n",
              " torch.Size([1, 1, 512, 269]): 2,\n",
              " torch.Size([1, 1, 512, 265]): 2,\n",
              " torch.Size([1, 1, 512, 201]): 1,\n",
              " torch.Size([1, 1, 512, 429]): 1,\n",
              " torch.Size([1, 1, 512, 459]): 2,\n",
              " torch.Size([1, 1, 512, 403]): 1,\n",
              " torch.Size([1, 1, 512, 354]): 4,\n",
              " torch.Size([1, 1, 512, 331]): 2,\n",
              " torch.Size([1, 1, 512, 465]): 2,\n",
              " torch.Size([1, 1, 512, 356]): 2,\n",
              " torch.Size([1, 1, 451, 512]): 2,\n",
              " torch.Size([1, 1, 430, 512]): 1,\n",
              " torch.Size([1, 1, 512, 339]): 1,\n",
              " torch.Size([1, 1, 512, 313]): 3,\n",
              " torch.Size([1, 1, 512, 473]): 2,\n",
              " torch.Size([1, 1, 460, 512]): 2,\n",
              " torch.Size([1, 1, 512, 288]): 1,\n",
              " torch.Size([1, 1, 512, 299]): 3,\n",
              " torch.Size([1, 1, 337, 512]): 3,\n",
              " torch.Size([1, 1, 512, 308]): 2,\n",
              " torch.Size([1, 1, 512, 373]): 3,\n",
              " torch.Size([1, 1, 512, 440]): 2,\n",
              " torch.Size([1, 1, 512, 295]): 2,\n",
              " torch.Size([1, 1, 444, 512]): 4,\n",
              " torch.Size([1, 1, 512, 340]): 3,\n",
              " torch.Size([1, 1, 419, 512]): 1,\n",
              " torch.Size([1, 1, 512, 237]): 1,\n",
              " torch.Size([1, 1, 512, 263]): 1,\n",
              " torch.Size([1, 1, 512, 349]): 3,\n",
              " torch.Size([1, 1, 401, 512]): 1,\n",
              " torch.Size([1, 1, 512, 351]): 1,\n",
              " torch.Size([1, 1, 512, 511]): 1,\n",
              " torch.Size([1, 1, 369, 512]): 1,\n",
              " torch.Size([1, 1, 512, 256]): 2,\n",
              " torch.Size([1, 1, 512, 448]): 1,\n",
              " torch.Size([1, 1, 512, 291]): 1,\n",
              " torch.Size([1, 1, 512, 294]): 3,\n",
              " torch.Size([1, 1, 512, 307]): 3,\n",
              " torch.Size([1, 1, 512, 244]): 2,\n",
              " torch.Size([1, 1, 512, 363]): 3,\n",
              " torch.Size([1, 1, 512, 292]): 3,\n",
              " torch.Size([1, 1, 512, 258]): 2,\n",
              " torch.Size([1, 1, 512, 257]): 1,\n",
              " torch.Size([1, 1, 512, 353]): 2,\n",
              " torch.Size([1, 1, 322, 512]): 2,\n",
              " torch.Size([1, 1, 512, 270]): 2,\n",
              " torch.Size([1, 1, 512, 330]): 3,\n",
              " torch.Size([1, 1, 512, 452]): 3,\n",
              " torch.Size([1, 1, 512, 347]): 3,\n",
              " torch.Size([1, 1, 512, 243]): 2,\n",
              " torch.Size([1, 1, 512, 438]): 1,\n",
              " torch.Size([1, 1, 512, 421]): 1,\n",
              " torch.Size([1, 1, 456, 512]): 2,\n",
              " torch.Size([1, 3, 421, 512]): 1,\n",
              " torch.Size([1, 1, 512, 338]): 3,\n",
              " torch.Size([1, 1, 512, 332]): 1,\n",
              " torch.Size([1, 1, 512, 260]): 4,\n",
              " torch.Size([1, 1, 406, 512]): 1,\n",
              " torch.Size([1, 1, 512, 453]): 1,\n",
              " torch.Size([1, 1, 423, 512]): 1,\n",
              " torch.Size([1, 1, 411, 512]): 1,\n",
              " torch.Size([1, 1, 412, 512]): 1,\n",
              " torch.Size([1, 1, 512, 434]): 1,\n",
              " torch.Size([1, 1, 512, 462]): 1,\n",
              " torch.Size([1, 1, 512, 418]): 1,\n",
              " torch.Size([1, 1, 378, 512]): 1,\n",
              " torch.Size([1, 1, 452, 512]): 1,\n",
              " torch.Size([1, 1, 511, 512]): 1,\n",
              " torch.Size([1, 1, 512, 371]): 1,\n",
              " torch.Size([1, 1, 396, 512]): 1,\n",
              " torch.Size([1, 1, 475, 512]): 2,\n",
              " torch.Size([1, 1, 512, 394]): 1,\n",
              " torch.Size([1, 1, 447, 512]): 1,\n",
              " torch.Size([1, 1, 328, 512]): 1,\n",
              " torch.Size([1, 1, 393, 512]): 1,\n",
              " torch.Size([1, 1, 512, 413]): 1,\n",
              " torch.Size([1, 1, 512, 397]): 2,\n",
              " torch.Size([1, 1, 481, 512]): 1,\n",
              " torch.Size([1, 1, 482, 512]): 1,\n",
              " torch.Size([1, 1, 512, 218]): 3,\n",
              " torch.Size([1, 1, 512, 392]): 2,\n",
              " torch.Size([1, 1, 512, 466]): 2,\n",
              " torch.Size([1, 1, 512, 432]): 2,\n",
              " torch.Size([1, 1, 512, 193]): 1,\n",
              " torch.Size([1, 1, 512, 408]): 1,\n",
              " torch.Size([1, 1, 487, 512]): 1,\n",
              " torch.Size([1, 1, 512, 303]): 4,\n",
              " torch.Size([1, 1, 512, 283]): 1,\n",
              " torch.Size([1, 1, 512, 323]): 1,\n",
              " torch.Size([1, 1, 512, 499]): 2,\n",
              " torch.Size([1, 1, 512, 504]): 2,\n",
              " torch.Size([1, 1, 512, 393]): 1,\n",
              " torch.Size([1, 1, 512, 395]): 1,\n",
              " torch.Size([1, 1, 391, 512]): 2,\n",
              " torch.Size([1, 1, 512, 455]): 3,\n",
              " torch.Size([1, 1, 469, 512]): 2,\n",
              " torch.Size([1, 1, 402, 512]): 1,\n",
              " torch.Size([1, 1, 428, 512]): 1,\n",
              " torch.Size([1, 1, 512, 482]): 1,\n",
              " torch.Size([1, 1, 512, 253]): 1,\n",
              " torch.Size([1, 1, 355, 512]): 1,\n",
              " torch.Size([1, 1, 497, 512]): 1,\n",
              " torch.Size([1, 1, 512, 364]): 1,\n",
              " torch.Size([1, 1, 400, 512]): 1,\n",
              " torch.Size([1, 1, 512, 386]): 2,\n",
              " torch.Size([1, 1, 512, 388]): 1,\n",
              " torch.Size([1, 1, 512, 300]): 2,\n",
              " torch.Size([1, 1, 362, 512]): 1,\n",
              " torch.Size([1, 1, 327, 512]): 1,\n",
              " torch.Size([1, 1, 512, 240]): 1,\n",
              " torch.Size([1, 1, 504, 512]): 2,\n",
              " torch.Size([1, 1, 512, 279]): 1,\n",
              " torch.Size([1, 1, 512, 380]): 1,\n",
              " torch.Size([1, 1, 503, 512]): 1,\n",
              " torch.Size([1, 1, 512, 241]): 1,\n",
              " torch.Size([1, 1, 512, 278]): 2,\n",
              " torch.Size([1, 1, 491, 512]): 1,\n",
              " torch.Size([1, 1, 466, 512]): 1,\n",
              " torch.Size([1, 1, 512, 358]): 3,\n",
              " torch.Size([1, 1, 512, 233]): 1,\n",
              " torch.Size([1, 1, 485, 512]): 1,\n",
              " torch.Size([1, 1, 512, 223]): 1,\n",
              " torch.Size([1, 1, 512, 336]): 1,\n",
              " torch.Size([1, 1, 512, 319]): 1,\n",
              " torch.Size([1, 1, 512, 387]): 1,\n",
              " torch.Size([1, 1, 373, 512]): 1,\n",
              " torch.Size([1, 1, 336, 512]): 1,\n",
              " torch.Size([1, 1, 512, 225]): 1,\n",
              " torch.Size([1, 1, 512, 475]): 3,\n",
              " torch.Size([1, 1, 512, 262]): 1,\n",
              " torch.Size([1, 1, 512, 368]): 2,\n",
              " torch.Size([1, 1, 512, 469]): 1,\n",
              " torch.Size([1, 1, 512, 505]): 1,\n",
              " torch.Size([1, 1, 512, 360]): 1,\n",
              " torch.Size([1, 1, 431, 512]): 2,\n",
              " torch.Size([1, 1, 290, 512]): 1,\n",
              " torch.Size([1, 1, 512, 217]): 1,\n",
              " torch.Size([1, 1, 512, 297]): 1,\n",
              " torch.Size([1, 1, 512, 245]): 1,\n",
              " torch.Size([1, 1, 512, 480]): 1,\n",
              " torch.Size([1, 1, 512, 231]): 1,\n",
              " torch.Size([1, 1, 512, 322]): 1,\n",
              " torch.Size([1, 1, 512, 415]): 1,\n",
              " torch.Size([1, 1, 410, 512]): 1,\n",
              " torch.Size([1, 1, 470, 512]): 1,\n",
              " torch.Size([1, 1, 496, 512]): 1,\n",
              " torch.Size([1, 1, 483, 512]): 1,\n",
              " torch.Size([1, 1, 512, 450]): 1,\n",
              " torch.Size([1, 1, 512, 485]): 1,\n",
              " torch.Size([1, 1, 454, 512]): 1,\n",
              " torch.Size([1, 1, 478, 512]): 1,\n",
              " torch.Size([1, 1, 338, 512]): 1,\n",
              " torch.Size([1, 1, 449, 512]): 1,\n",
              " torch.Size([1, 1, 512, 306]): 1,\n",
              " torch.Size([1, 1, 512, 264]): 2,\n",
              " torch.Size([1, 1, 474, 512]): 1,\n",
              " torch.Size([1, 1, 512, 491]): 1,\n",
              " torch.Size([1, 1, 493, 512]): 1,\n",
              " torch.Size([1, 1, 512, 366]): 1,\n",
              " torch.Size([1, 1, 370, 512]): 1,\n",
              " torch.Size([1, 1, 365, 512]): 1,\n",
              " torch.Size([1, 1, 512, 506]): 1,\n",
              " torch.Size([1, 1, 512, 431]): 1,\n",
              " torch.Size([1, 1, 512, 467]): 1}"
            ]
          },
          "metadata": {},
          "execution_count": 160
        }
      ]
    },
    {
      "cell_type": "code",
      "source": [
        "x = Image.open(elbow_train.iloc[120]['image_path']).convert('RGB')"
      ],
      "metadata": {
        "id": "xOAg4H3_1Htl"
      },
      "execution_count": 26,
      "outputs": []
    },
    {
      "cell_type": "code",
      "source": [
        "x = data_transforms(x)"
      ],
      "metadata": {
        "id": "zaVY1mZl1l-c"
      },
      "execution_count": 27,
      "outputs": []
    },
    {
      "cell_type": "code",
      "source": [
        "x.shape"
      ],
      "metadata": {
        "colab": {
          "base_uri": "https://localhost:8080/"
        },
        "id": "cRZRlynn2Bfm",
        "outputId": "263af82d-949f-4052-cbc1-dc83595cf3ca"
      },
      "execution_count": 28,
      "outputs": [
        {
          "output_type": "execute_result",
          "data": {
            "text/plain": [
              "torch.Size([1, 256, 256])"
            ]
          },
          "metadata": {},
          "execution_count": 28
        }
      ]
    },
    {
      "cell_type": "markdown",
      "source": [
        "## Create all Datasets and Dataloaders"
      ],
      "metadata": {
        "id": "hqb842h8myZ8"
      }
    },
    {
      "cell_type": "markdown",
      "source": [
        "# Base Model"
      ],
      "metadata": {
        "id": "KGN2Yycb4GHK"
      }
    }
  ]
}