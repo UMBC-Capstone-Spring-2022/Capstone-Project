{
  "nbformat": 4,
  "nbformat_minor": 0,
  "metadata": {
    "colab": {
      "provenance": [],
      "collapsed_sections": [
        "TLj0uLtegFSQ",
        "KGN2Yycb4GHK"
      ],
      "gpuType": "T4"
    },
    "kernelspec": {
      "name": "python3",
      "display_name": "Python 3"
    },
    "language_info": {
      "name": "python"
    },
    "gpuClass": "standard",
    "accelerator": "GPU"
  },
  "cells": [
    {
      "cell_type": "markdown",
      "source": [
        "https://pub.towardsai.net/connect-colab-to-gcs-bucket-using-gcsfuse-29f4f844d074\n"
      ],
      "metadata": {
        "id": "XR8ctBlcbczh"
      }
    },
    {
      "cell_type": "code",
      "execution_count": 1,
      "metadata": {
        "colab": {
          "base_uri": "https://localhost:8080/"
        },
        "id": "EQ3cvidcdQaC",
        "outputId": "957a859f-55bd-4861-e826-2bfffb94e3c6"
      },
      "outputs": [
        {
          "output_type": "stream",
          "name": "stderr",
          "text": [
            "WARNING:google.auth.compute_engine._metadata:Compute Engine Metadata server unavailable on attempt 1 of 3. Reason: [Errno 115] Operation now in progress\n",
            "WARNING:google.auth.compute_engine._metadata:Compute Engine Metadata server unavailable on attempt 2 of 3. Reason: [Errno 115] Operation now in progress\n",
            "WARNING:google.auth.compute_engine._metadata:Compute Engine Metadata server unavailable on attempt 3 of 3. Reason: [Errno 115] Operation now in progress\n"
          ]
        }
      ],
      "source": [
        "# https://stackoverflow.com/questions/71683158/authentication-issues-on-colab-bigquery\n",
        "import os\n",
        "os.environ['USE_AUTH_EPHEM'] = '0'\n",
        "\n",
        "from google.colab import auth\n",
        "auth.authenticate_user()"
      ]
    },
    {
      "cell_type": "code",
      "source": [
        "!echo \"deb http://packages.cloud.google.com/apt gcsfuse-bionic main\" > /etc/apt/sources.list.d/gcsfuse.list\n",
        "!curl https://packages.cloud.google.com/apt/doc/apt-key.gpg | apt-key add -\n",
        "!apt -qq update\n",
        "!apt -qq install gcsfuse"
      ],
      "metadata": {
        "colab": {
          "base_uri": "https://localhost:8080/"
        },
        "id": "1SXtS7-FbXUQ",
        "outputId": "a1b6a730-0633-4591-c4f6-641f956da5ab"
      },
      "execution_count": 2,
      "outputs": [
        {
          "output_type": "stream",
          "name": "stdout",
          "text": [
            "  % Total    % Received % Xferd  Average Speed   Time    Time     Time  Current\n",
            "                                 Dload  Upload   Total   Spent    Left  Speed\n",
            "\r  0     0    0     0    0     0      0      0 --:--:-- --:--:-- --:--:--     0\r100  1210  100  1210    0     0  46538      0 --:--:-- --:--:-- --:--:-- 46538\n",
            "OK\n",
            "53 packages can be upgraded. Run 'apt list --upgradable' to see them.\n",
            "gcsfuse is already the newest version (0.42.4).\n",
            "0 upgraded, 0 newly installed, 0 to remove and 53 not upgraded.\n"
          ]
        }
      ]
    },
    {
      "cell_type": "code",
      "source": [
        "!mkdir mura\n",
        "!gcsfuse --implicit-dirs mura_data_606 mura"
      ],
      "metadata": {
        "colab": {
          "base_uri": "https://localhost:8080/"
        },
        "id": "5NjGhGPyblRa",
        "outputId": "e7951c99-91b2-4e33-d724-875ce1f62149"
      },
      "execution_count": 3,
      "outputs": [
        {
          "output_type": "stream",
          "name": "stdout",
          "text": [
            "mkdir: cannot create directory ‘mura’: File exists\n",
            "I0508 05:11:16.562941 2023/05/08 05:11:16.562917 Start gcsfuse/0.42.4 (Go version go1.19.7) for app \"\" using mount point: /content/mura\n"
          ]
        }
      ]
    },
    {
      "cell_type": "code",
      "source": [
        "%%capture\n",
        "! pip install datasets transformers"
      ],
      "metadata": {
        "id": "Ep8TTh1joOSP"
      },
      "execution_count": 4,
      "outputs": []
    },
    {
      "cell_type": "code",
      "source": [
        "import pandas as pd\n",
        "import numpy as np\n",
        "import matplotlib.pyplot as plt\n",
        "import os\n",
        "from PIL import Image\n",
        "import torch\n",
        "from torchvision.io import read_image\n",
        "from torchvision import datasets, transforms\n",
        "from torch.utils.data import Dataset, DataLoader\n",
        "from torch import nn\n",
        "from tqdm import tqdm\n",
        "from timeit import default_timer as timer\n",
        "from transformers import ViTFeatureExtractor, ViTImageProcessor\n",
        "from transformers import ViTForImageClassification\n",
        "from datasets import load_metric\n",
        "from transformers import TrainingArguments, Trainer, AutoModel\n"
      ],
      "metadata": {
        "id": "FaPNqVjKdf3P"
      },
      "execution_count": 5,
      "outputs": []
    },
    {
      "cell_type": "code",
      "source": [
        "# must use cuda for ViT\n",
        "device = \"cuda\" if torch.cuda.is_available() else \"cpu\"\n",
        "device"
      ],
      "metadata": {
        "id": "jgQ8YI74lIMR",
        "colab": {
          "base_uri": "https://localhost:8080/",
          "height": 35
        },
        "outputId": "b06c8612-872e-4286-db8f-3167d05fc748"
      },
      "execution_count": 6,
      "outputs": [
        {
          "output_type": "execute_result",
          "data": {
            "text/plain": [
              "'cuda'"
            ],
            "application/vnd.google.colaboratory.intrinsic+json": {
              "type": "string"
            }
          },
          "metadata": {},
          "execution_count": 6
        }
      ]
    },
    {
      "cell_type": "markdown",
      "source": [
        "# Load and Prep Data"
      ],
      "metadata": {
        "id": "TLj0uLtegFSQ"
      }
    },
    {
      "cell_type": "markdown",
      "source": [
        "## Import and Massage Data"
      ],
      "metadata": {
        "id": "mUaNjZAmmji8"
      }
    },
    {
      "cell_type": "code",
      "source": [
        "# load train and test csv's with all image paths and targets\n",
        "train_img_paths = pd.read_csv('mura/train_image_paths.csv', header = None, names = ['image_path'])\n",
        "test_img_paths = pd.read_csv('mura/valid_image_paths.csv', header = None, names = ['image_path'])"
      ],
      "metadata": {
        "id": "uCgZJktcm_id"
      },
      "execution_count": 7,
      "outputs": []
    },
    {
      "cell_type": "code",
      "source": [
        "len(train_img_paths)"
      ],
      "metadata": {
        "colab": {
          "base_uri": "https://localhost:8080/"
        },
        "id": "yz2bT5nUh2wV",
        "outputId": "dd6ff534-a782-4b89-cad3-426847a8240e"
      },
      "execution_count": 8,
      "outputs": [
        {
          "output_type": "execute_result",
          "data": {
            "text/plain": [
              "36808"
            ]
          },
          "metadata": {},
          "execution_count": 8
        }
      ]
    },
    {
      "cell_type": "code",
      "source": [
        "pd.set_option('max_colwidth', None)\n",
        "train_img_paths.head()"
      ],
      "metadata": {
        "colab": {
          "base_uri": "https://localhost:8080/",
          "height": 204
        },
        "id": "l8vZn6IFuGT1",
        "outputId": "0f7f2e64-04d7-4ac5-c3dc-f9c320afd0d3"
      },
      "execution_count": 9,
      "outputs": [
        {
          "output_type": "execute_result",
          "data": {
            "text/plain": [
              "                                                            image_path\n",
              "0  MURA-v1.1/train/XR_SHOULDER/patient00001/study1_positive/image1.png\n",
              "1  MURA-v1.1/train/XR_SHOULDER/patient00001/study1_positive/image2.png\n",
              "2  MURA-v1.1/train/XR_SHOULDER/patient00001/study1_positive/image3.png\n",
              "3  MURA-v1.1/train/XR_SHOULDER/patient00002/study1_positive/image1.png\n",
              "4  MURA-v1.1/train/XR_SHOULDER/patient00002/study1_positive/image2.png"
            ],
            "text/html": [
              "\n",
              "  <div id=\"df-b5522017-33ef-4d83-8269-209190646542\">\n",
              "    <div class=\"colab-df-container\">\n",
              "      <div>\n",
              "<style scoped>\n",
              "    .dataframe tbody tr th:only-of-type {\n",
              "        vertical-align: middle;\n",
              "    }\n",
              "\n",
              "    .dataframe tbody tr th {\n",
              "        vertical-align: top;\n",
              "    }\n",
              "\n",
              "    .dataframe thead th {\n",
              "        text-align: right;\n",
              "    }\n",
              "</style>\n",
              "<table border=\"1\" class=\"dataframe\">\n",
              "  <thead>\n",
              "    <tr style=\"text-align: right;\">\n",
              "      <th></th>\n",
              "      <th>image_path</th>\n",
              "    </tr>\n",
              "  </thead>\n",
              "  <tbody>\n",
              "    <tr>\n",
              "      <th>0</th>\n",
              "      <td>MURA-v1.1/train/XR_SHOULDER/patient00001/study1_positive/image1.png</td>\n",
              "    </tr>\n",
              "    <tr>\n",
              "      <th>1</th>\n",
              "      <td>MURA-v1.1/train/XR_SHOULDER/patient00001/study1_positive/image2.png</td>\n",
              "    </tr>\n",
              "    <tr>\n",
              "      <th>2</th>\n",
              "      <td>MURA-v1.1/train/XR_SHOULDER/patient00001/study1_positive/image3.png</td>\n",
              "    </tr>\n",
              "    <tr>\n",
              "      <th>3</th>\n",
              "      <td>MURA-v1.1/train/XR_SHOULDER/patient00002/study1_positive/image1.png</td>\n",
              "    </tr>\n",
              "    <tr>\n",
              "      <th>4</th>\n",
              "      <td>MURA-v1.1/train/XR_SHOULDER/patient00002/study1_positive/image2.png</td>\n",
              "    </tr>\n",
              "  </tbody>\n",
              "</table>\n",
              "</div>\n",
              "      <button class=\"colab-df-convert\" onclick=\"convertToInteractive('df-b5522017-33ef-4d83-8269-209190646542')\"\n",
              "              title=\"Convert this dataframe to an interactive table.\"\n",
              "              style=\"display:none;\">\n",
              "        \n",
              "  <svg xmlns=\"http://www.w3.org/2000/svg\" height=\"24px\"viewBox=\"0 0 24 24\"\n",
              "       width=\"24px\">\n",
              "    <path d=\"M0 0h24v24H0V0z\" fill=\"none\"/>\n",
              "    <path d=\"M18.56 5.44l.94 2.06.94-2.06 2.06-.94-2.06-.94-.94-2.06-.94 2.06-2.06.94zm-11 1L8.5 8.5l.94-2.06 2.06-.94-2.06-.94L8.5 2.5l-.94 2.06-2.06.94zm10 10l.94 2.06.94-2.06 2.06-.94-2.06-.94-.94-2.06-.94 2.06-2.06.94z\"/><path d=\"M17.41 7.96l-1.37-1.37c-.4-.4-.92-.59-1.43-.59-.52 0-1.04.2-1.43.59L10.3 9.45l-7.72 7.72c-.78.78-.78 2.05 0 2.83L4 21.41c.39.39.9.59 1.41.59.51 0 1.02-.2 1.41-.59l7.78-7.78 2.81-2.81c.8-.78.8-2.07 0-2.86zM5.41 20L4 18.59l7.72-7.72 1.47 1.35L5.41 20z\"/>\n",
              "  </svg>\n",
              "      </button>\n",
              "      \n",
              "  <style>\n",
              "    .colab-df-container {\n",
              "      display:flex;\n",
              "      flex-wrap:wrap;\n",
              "      gap: 12px;\n",
              "    }\n",
              "\n",
              "    .colab-df-convert {\n",
              "      background-color: #E8F0FE;\n",
              "      border: none;\n",
              "      border-radius: 50%;\n",
              "      cursor: pointer;\n",
              "      display: none;\n",
              "      fill: #1967D2;\n",
              "      height: 32px;\n",
              "      padding: 0 0 0 0;\n",
              "      width: 32px;\n",
              "    }\n",
              "\n",
              "    .colab-df-convert:hover {\n",
              "      background-color: #E2EBFA;\n",
              "      box-shadow: 0px 1px 2px rgba(60, 64, 67, 0.3), 0px 1px 3px 1px rgba(60, 64, 67, 0.15);\n",
              "      fill: #174EA6;\n",
              "    }\n",
              "\n",
              "    [theme=dark] .colab-df-convert {\n",
              "      background-color: #3B4455;\n",
              "      fill: #D2E3FC;\n",
              "    }\n",
              "\n",
              "    [theme=dark] .colab-df-convert:hover {\n",
              "      background-color: #434B5C;\n",
              "      box-shadow: 0px 1px 3px 1px rgba(0, 0, 0, 0.15);\n",
              "      filter: drop-shadow(0px 1px 2px rgba(0, 0, 0, 0.3));\n",
              "      fill: #FFFFFF;\n",
              "    }\n",
              "  </style>\n",
              "\n",
              "      <script>\n",
              "        const buttonEl =\n",
              "          document.querySelector('#df-b5522017-33ef-4d83-8269-209190646542 button.colab-df-convert');\n",
              "        buttonEl.style.display =\n",
              "          google.colab.kernel.accessAllowed ? 'block' : 'none';\n",
              "\n",
              "        async function convertToInteractive(key) {\n",
              "          const element = document.querySelector('#df-b5522017-33ef-4d83-8269-209190646542');\n",
              "          const dataTable =\n",
              "            await google.colab.kernel.invokeFunction('convertToInteractive',\n",
              "                                                     [key], {});\n",
              "          if (!dataTable) return;\n",
              "\n",
              "          const docLinkHtml = 'Like what you see? Visit the ' +\n",
              "            '<a target=\"_blank\" href=https://colab.research.google.com/notebooks/data_table.ipynb>data table notebook</a>'\n",
              "            + ' to learn more about interactive tables.';\n",
              "          element.innerHTML = '';\n",
              "          dataTable['output_type'] = 'display_data';\n",
              "          await google.colab.output.renderOutput(dataTable, element);\n",
              "          const docLink = document.createElement('div');\n",
              "          docLink.innerHTML = docLinkHtml;\n",
              "          element.appendChild(docLink);\n",
              "        }\n",
              "      </script>\n",
              "    </div>\n",
              "  </div>\n",
              "  "
            ]
          },
          "metadata": {},
          "execution_count": 9
        }
      ]
    },
    {
      "cell_type": "code",
      "source": [
        "# funtion to extract info from train and test dataframes\n",
        "def split_img_paths(df):\n",
        "    temp = df['image_path'].str.split('/', expand=True)\n",
        "    new_df = pd.DataFrame(df['image_path'])\n",
        "    new_df['patient_id'] = temp[3]\n",
        "    new_df['study'] = temp[4].str.split('_', expand = True)[0].str[-1:].astype(int)\n",
        "    new_df['region'] = temp[2].str.split('_', expand = True)[1]\n",
        "    map = {'positive':'abnormal', 'negative':'normal'}\n",
        "    new_df['target'] = temp[4].str.split('_', expand = True)[1]\n",
        "    new_df['target'] = new_df['target'].map(map)\n",
        "    #add image path\n",
        "    new_df['image_path'] = 'mura/'+temp[1]+'/'+temp[2]+'/'+temp[3]+'/'+temp[4]+'/'+temp[5] \n",
        "    \n",
        "    return new_df"
      ],
      "metadata": {
        "id": "IK0QtCsQo-4p"
      },
      "execution_count": 10,
      "outputs": []
    },
    {
      "cell_type": "code",
      "source": [
        "# create df with info extracted\n",
        "mura_train = split_img_paths(train_img_paths)\n",
        "mura_test = split_img_paths(test_img_paths)\n",
        "mura_train.head()"
      ],
      "metadata": {
        "colab": {
          "base_uri": "https://localhost:8080/",
          "height": 204
        },
        "id": "h2b2WtbFuhP2",
        "outputId": "7fa91159-0892-412d-c305-e52ee79121cf"
      },
      "execution_count": 11,
      "outputs": [
        {
          "output_type": "execute_result",
          "data": {
            "text/plain": [
              "                                                       image_path  \\\n",
              "0  mura/train/XR_SHOULDER/patient00001/study1_positive/image1.png   \n",
              "1  mura/train/XR_SHOULDER/patient00001/study1_positive/image2.png   \n",
              "2  mura/train/XR_SHOULDER/patient00001/study1_positive/image3.png   \n",
              "3  mura/train/XR_SHOULDER/patient00002/study1_positive/image1.png   \n",
              "4  mura/train/XR_SHOULDER/patient00002/study1_positive/image2.png   \n",
              "\n",
              "     patient_id  study    region    target  \n",
              "0  patient00001      1  SHOULDER  abnormal  \n",
              "1  patient00001      1  SHOULDER  abnormal  \n",
              "2  patient00001      1  SHOULDER  abnormal  \n",
              "3  patient00002      1  SHOULDER  abnormal  \n",
              "4  patient00002      1  SHOULDER  abnormal  "
            ],
            "text/html": [
              "\n",
              "  <div id=\"df-489c7920-91f9-4140-9f7e-91c330b729ed\">\n",
              "    <div class=\"colab-df-container\">\n",
              "      <div>\n",
              "<style scoped>\n",
              "    .dataframe tbody tr th:only-of-type {\n",
              "        vertical-align: middle;\n",
              "    }\n",
              "\n",
              "    .dataframe tbody tr th {\n",
              "        vertical-align: top;\n",
              "    }\n",
              "\n",
              "    .dataframe thead th {\n",
              "        text-align: right;\n",
              "    }\n",
              "</style>\n",
              "<table border=\"1\" class=\"dataframe\">\n",
              "  <thead>\n",
              "    <tr style=\"text-align: right;\">\n",
              "      <th></th>\n",
              "      <th>image_path</th>\n",
              "      <th>patient_id</th>\n",
              "      <th>study</th>\n",
              "      <th>region</th>\n",
              "      <th>target</th>\n",
              "    </tr>\n",
              "  </thead>\n",
              "  <tbody>\n",
              "    <tr>\n",
              "      <th>0</th>\n",
              "      <td>mura/train/XR_SHOULDER/patient00001/study1_positive/image1.png</td>\n",
              "      <td>patient00001</td>\n",
              "      <td>1</td>\n",
              "      <td>SHOULDER</td>\n",
              "      <td>abnormal</td>\n",
              "    </tr>\n",
              "    <tr>\n",
              "      <th>1</th>\n",
              "      <td>mura/train/XR_SHOULDER/patient00001/study1_positive/image2.png</td>\n",
              "      <td>patient00001</td>\n",
              "      <td>1</td>\n",
              "      <td>SHOULDER</td>\n",
              "      <td>abnormal</td>\n",
              "    </tr>\n",
              "    <tr>\n",
              "      <th>2</th>\n",
              "      <td>mura/train/XR_SHOULDER/patient00001/study1_positive/image3.png</td>\n",
              "      <td>patient00001</td>\n",
              "      <td>1</td>\n",
              "      <td>SHOULDER</td>\n",
              "      <td>abnormal</td>\n",
              "    </tr>\n",
              "    <tr>\n",
              "      <th>3</th>\n",
              "      <td>mura/train/XR_SHOULDER/patient00002/study1_positive/image1.png</td>\n",
              "      <td>patient00002</td>\n",
              "      <td>1</td>\n",
              "      <td>SHOULDER</td>\n",
              "      <td>abnormal</td>\n",
              "    </tr>\n",
              "    <tr>\n",
              "      <th>4</th>\n",
              "      <td>mura/train/XR_SHOULDER/patient00002/study1_positive/image2.png</td>\n",
              "      <td>patient00002</td>\n",
              "      <td>1</td>\n",
              "      <td>SHOULDER</td>\n",
              "      <td>abnormal</td>\n",
              "    </tr>\n",
              "  </tbody>\n",
              "</table>\n",
              "</div>\n",
              "      <button class=\"colab-df-convert\" onclick=\"convertToInteractive('df-489c7920-91f9-4140-9f7e-91c330b729ed')\"\n",
              "              title=\"Convert this dataframe to an interactive table.\"\n",
              "              style=\"display:none;\">\n",
              "        \n",
              "  <svg xmlns=\"http://www.w3.org/2000/svg\" height=\"24px\"viewBox=\"0 0 24 24\"\n",
              "       width=\"24px\">\n",
              "    <path d=\"M0 0h24v24H0V0z\" fill=\"none\"/>\n",
              "    <path d=\"M18.56 5.44l.94 2.06.94-2.06 2.06-.94-2.06-.94-.94-2.06-.94 2.06-2.06.94zm-11 1L8.5 8.5l.94-2.06 2.06-.94-2.06-.94L8.5 2.5l-.94 2.06-2.06.94zm10 10l.94 2.06.94-2.06 2.06-.94-2.06-.94-.94-2.06-.94 2.06-2.06.94z\"/><path d=\"M17.41 7.96l-1.37-1.37c-.4-.4-.92-.59-1.43-.59-.52 0-1.04.2-1.43.59L10.3 9.45l-7.72 7.72c-.78.78-.78 2.05 0 2.83L4 21.41c.39.39.9.59 1.41.59.51 0 1.02-.2 1.41-.59l7.78-7.78 2.81-2.81c.8-.78.8-2.07 0-2.86zM5.41 20L4 18.59l7.72-7.72 1.47 1.35L5.41 20z\"/>\n",
              "  </svg>\n",
              "      </button>\n",
              "      \n",
              "  <style>\n",
              "    .colab-df-container {\n",
              "      display:flex;\n",
              "      flex-wrap:wrap;\n",
              "      gap: 12px;\n",
              "    }\n",
              "\n",
              "    .colab-df-convert {\n",
              "      background-color: #E8F0FE;\n",
              "      border: none;\n",
              "      border-radius: 50%;\n",
              "      cursor: pointer;\n",
              "      display: none;\n",
              "      fill: #1967D2;\n",
              "      height: 32px;\n",
              "      padding: 0 0 0 0;\n",
              "      width: 32px;\n",
              "    }\n",
              "\n",
              "    .colab-df-convert:hover {\n",
              "      background-color: #E2EBFA;\n",
              "      box-shadow: 0px 1px 2px rgba(60, 64, 67, 0.3), 0px 1px 3px 1px rgba(60, 64, 67, 0.15);\n",
              "      fill: #174EA6;\n",
              "    }\n",
              "\n",
              "    [theme=dark] .colab-df-convert {\n",
              "      background-color: #3B4455;\n",
              "      fill: #D2E3FC;\n",
              "    }\n",
              "\n",
              "    [theme=dark] .colab-df-convert:hover {\n",
              "      background-color: #434B5C;\n",
              "      box-shadow: 0px 1px 3px 1px rgba(0, 0, 0, 0.15);\n",
              "      filter: drop-shadow(0px 1px 2px rgba(0, 0, 0, 0.3));\n",
              "      fill: #FFFFFF;\n",
              "    }\n",
              "  </style>\n",
              "\n",
              "      <script>\n",
              "        const buttonEl =\n",
              "          document.querySelector('#df-489c7920-91f9-4140-9f7e-91c330b729ed button.colab-df-convert');\n",
              "        buttonEl.style.display =\n",
              "          google.colab.kernel.accessAllowed ? 'block' : 'none';\n",
              "\n",
              "        async function convertToInteractive(key) {\n",
              "          const element = document.querySelector('#df-489c7920-91f9-4140-9f7e-91c330b729ed');\n",
              "          const dataTable =\n",
              "            await google.colab.kernel.invokeFunction('convertToInteractive',\n",
              "                                                     [key], {});\n",
              "          if (!dataTable) return;\n",
              "\n",
              "          const docLinkHtml = 'Like what you see? Visit the ' +\n",
              "            '<a target=\"_blank\" href=https://colab.research.google.com/notebooks/data_table.ipynb>data table notebook</a>'\n",
              "            + ' to learn more about interactive tables.';\n",
              "          element.innerHTML = '';\n",
              "          dataTable['output_type'] = 'display_data';\n",
              "          await google.colab.output.renderOutput(dataTable, element);\n",
              "          const docLink = document.createElement('div');\n",
              "          docLink.innerHTML = docLinkHtml;\n",
              "          element.appendChild(docLink);\n",
              "        }\n",
              "      </script>\n",
              "    </div>\n",
              "  </div>\n",
              "  "
            ]
          },
          "metadata": {},
          "execution_count": 11
        }
      ]
    },
    {
      "cell_type": "code",
      "source": [
        "# function to create df with 14 targets\n",
        "def mura_to14(df):\n",
        "    new_df = df.copy()\n",
        "    new_df['target'] = df['target'] + '_' + df['region']\n",
        "    return new_df"
      ],
      "metadata": {
        "id": "n6K-IEIbEYFx"
      },
      "execution_count": 12,
      "outputs": []
    },
    {
      "cell_type": "code",
      "source": [
        "# create df with 14 targets\n",
        "mura_train_14 = mura_to14(mura_train)\n",
        "mura_test_14 = mura_to14(mura_test)\n"
      ],
      "metadata": {
        "id": "PslKV85M0L7I"
      },
      "execution_count": 13,
      "outputs": []
    },
    {
      "cell_type": "code",
      "source": [
        "mura_train_14.head()"
      ],
      "metadata": {
        "colab": {
          "base_uri": "https://localhost:8080/",
          "height": 268
        },
        "id": "jw1xbl-GMDhu",
        "outputId": "56615fea-0e20-42f2-941a-47aded6ca7bc"
      },
      "execution_count": 14,
      "outputs": [
        {
          "output_type": "execute_result",
          "data": {
            "text/plain": [
              "                                                       image_path  \\\n",
              "0  mura/train/XR_SHOULDER/patient00001/study1_positive/image1.png   \n",
              "1  mura/train/XR_SHOULDER/patient00001/study1_positive/image2.png   \n",
              "2  mura/train/XR_SHOULDER/patient00001/study1_positive/image3.png   \n",
              "3  mura/train/XR_SHOULDER/patient00002/study1_positive/image1.png   \n",
              "4  mura/train/XR_SHOULDER/patient00002/study1_positive/image2.png   \n",
              "\n",
              "     patient_id  study    region             target  \n",
              "0  patient00001      1  SHOULDER  abnormal_SHOULDER  \n",
              "1  patient00001      1  SHOULDER  abnormal_SHOULDER  \n",
              "2  patient00001      1  SHOULDER  abnormal_SHOULDER  \n",
              "3  patient00002      1  SHOULDER  abnormal_SHOULDER  \n",
              "4  patient00002      1  SHOULDER  abnormal_SHOULDER  "
            ],
            "text/html": [
              "\n",
              "  <div id=\"df-2b145236-9982-406f-975a-4d463e95894c\">\n",
              "    <div class=\"colab-df-container\">\n",
              "      <div>\n",
              "<style scoped>\n",
              "    .dataframe tbody tr th:only-of-type {\n",
              "        vertical-align: middle;\n",
              "    }\n",
              "\n",
              "    .dataframe tbody tr th {\n",
              "        vertical-align: top;\n",
              "    }\n",
              "\n",
              "    .dataframe thead th {\n",
              "        text-align: right;\n",
              "    }\n",
              "</style>\n",
              "<table border=\"1\" class=\"dataframe\">\n",
              "  <thead>\n",
              "    <tr style=\"text-align: right;\">\n",
              "      <th></th>\n",
              "      <th>image_path</th>\n",
              "      <th>patient_id</th>\n",
              "      <th>study</th>\n",
              "      <th>region</th>\n",
              "      <th>target</th>\n",
              "    </tr>\n",
              "  </thead>\n",
              "  <tbody>\n",
              "    <tr>\n",
              "      <th>0</th>\n",
              "      <td>mura/train/XR_SHOULDER/patient00001/study1_positive/image1.png</td>\n",
              "      <td>patient00001</td>\n",
              "      <td>1</td>\n",
              "      <td>SHOULDER</td>\n",
              "      <td>abnormal_SHOULDER</td>\n",
              "    </tr>\n",
              "    <tr>\n",
              "      <th>1</th>\n",
              "      <td>mura/train/XR_SHOULDER/patient00001/study1_positive/image2.png</td>\n",
              "      <td>patient00001</td>\n",
              "      <td>1</td>\n",
              "      <td>SHOULDER</td>\n",
              "      <td>abnormal_SHOULDER</td>\n",
              "    </tr>\n",
              "    <tr>\n",
              "      <th>2</th>\n",
              "      <td>mura/train/XR_SHOULDER/patient00001/study1_positive/image3.png</td>\n",
              "      <td>patient00001</td>\n",
              "      <td>1</td>\n",
              "      <td>SHOULDER</td>\n",
              "      <td>abnormal_SHOULDER</td>\n",
              "    </tr>\n",
              "    <tr>\n",
              "      <th>3</th>\n",
              "      <td>mura/train/XR_SHOULDER/patient00002/study1_positive/image1.png</td>\n",
              "      <td>patient00002</td>\n",
              "      <td>1</td>\n",
              "      <td>SHOULDER</td>\n",
              "      <td>abnormal_SHOULDER</td>\n",
              "    </tr>\n",
              "    <tr>\n",
              "      <th>4</th>\n",
              "      <td>mura/train/XR_SHOULDER/patient00002/study1_positive/image2.png</td>\n",
              "      <td>patient00002</td>\n",
              "      <td>1</td>\n",
              "      <td>SHOULDER</td>\n",
              "      <td>abnormal_SHOULDER</td>\n",
              "    </tr>\n",
              "  </tbody>\n",
              "</table>\n",
              "</div>\n",
              "      <button class=\"colab-df-convert\" onclick=\"convertToInteractive('df-2b145236-9982-406f-975a-4d463e95894c')\"\n",
              "              title=\"Convert this dataframe to an interactive table.\"\n",
              "              style=\"display:none;\">\n",
              "        \n",
              "  <svg xmlns=\"http://www.w3.org/2000/svg\" height=\"24px\"viewBox=\"0 0 24 24\"\n",
              "       width=\"24px\">\n",
              "    <path d=\"M0 0h24v24H0V0z\" fill=\"none\"/>\n",
              "    <path d=\"M18.56 5.44l.94 2.06.94-2.06 2.06-.94-2.06-.94-.94-2.06-.94 2.06-2.06.94zm-11 1L8.5 8.5l.94-2.06 2.06-.94-2.06-.94L8.5 2.5l-.94 2.06-2.06.94zm10 10l.94 2.06.94-2.06 2.06-.94-2.06-.94-.94-2.06-.94 2.06-2.06.94z\"/><path d=\"M17.41 7.96l-1.37-1.37c-.4-.4-.92-.59-1.43-.59-.52 0-1.04.2-1.43.59L10.3 9.45l-7.72 7.72c-.78.78-.78 2.05 0 2.83L4 21.41c.39.39.9.59 1.41.59.51 0 1.02-.2 1.41-.59l7.78-7.78 2.81-2.81c.8-.78.8-2.07 0-2.86zM5.41 20L4 18.59l7.72-7.72 1.47 1.35L5.41 20z\"/>\n",
              "  </svg>\n",
              "      </button>\n",
              "      \n",
              "  <style>\n",
              "    .colab-df-container {\n",
              "      display:flex;\n",
              "      flex-wrap:wrap;\n",
              "      gap: 12px;\n",
              "    }\n",
              "\n",
              "    .colab-df-convert {\n",
              "      background-color: #E8F0FE;\n",
              "      border: none;\n",
              "      border-radius: 50%;\n",
              "      cursor: pointer;\n",
              "      display: none;\n",
              "      fill: #1967D2;\n",
              "      height: 32px;\n",
              "      padding: 0 0 0 0;\n",
              "      width: 32px;\n",
              "    }\n",
              "\n",
              "    .colab-df-convert:hover {\n",
              "      background-color: #E2EBFA;\n",
              "      box-shadow: 0px 1px 2px rgba(60, 64, 67, 0.3), 0px 1px 3px 1px rgba(60, 64, 67, 0.15);\n",
              "      fill: #174EA6;\n",
              "    }\n",
              "\n",
              "    [theme=dark] .colab-df-convert {\n",
              "      background-color: #3B4455;\n",
              "      fill: #D2E3FC;\n",
              "    }\n",
              "\n",
              "    [theme=dark] .colab-df-convert:hover {\n",
              "      background-color: #434B5C;\n",
              "      box-shadow: 0px 1px 3px 1px rgba(0, 0, 0, 0.15);\n",
              "      filter: drop-shadow(0px 1px 2px rgba(0, 0, 0, 0.3));\n",
              "      fill: #FFFFFF;\n",
              "    }\n",
              "  </style>\n",
              "\n",
              "      <script>\n",
              "        const buttonEl =\n",
              "          document.querySelector('#df-2b145236-9982-406f-975a-4d463e95894c button.colab-df-convert');\n",
              "        buttonEl.style.display =\n",
              "          google.colab.kernel.accessAllowed ? 'block' : 'none';\n",
              "\n",
              "        async function convertToInteractive(key) {\n",
              "          const element = document.querySelector('#df-2b145236-9982-406f-975a-4d463e95894c');\n",
              "          const dataTable =\n",
              "            await google.colab.kernel.invokeFunction('convertToInteractive',\n",
              "                                                     [key], {});\n",
              "          if (!dataTable) return;\n",
              "\n",
              "          const docLinkHtml = 'Like what you see? Visit the ' +\n",
              "            '<a target=\"_blank\" href=https://colab.research.google.com/notebooks/data_table.ipynb>data table notebook</a>'\n",
              "            + ' to learn more about interactive tables.';\n",
              "          element.innerHTML = '';\n",
              "          dataTable['output_type'] = 'display_data';\n",
              "          await google.colab.output.renderOutput(dataTable, element);\n",
              "          const docLink = document.createElement('div');\n",
              "          docLink.innerHTML = docLinkHtml;\n",
              "          element.appendChild(docLink);\n",
              "        }\n",
              "      </script>\n",
              "    </div>\n",
              "  </div>\n",
              "  "
            ]
          },
          "metadata": {},
          "execution_count": 14
        }
      ]
    },
    {
      "cell_type": "code",
      "source": [
        "# create train df by region\n",
        "wrist_train = mura_train[mura_train['region']=='WRIST']\n",
        "forearm_train = mura_train[mura_train['region']=='FOREARM']\n",
        "hand_train = mura_train[mura_train['region']=='HAND']\n",
        "humerus_train = mura_train[mura_train['region']=='HUMERUS']\n",
        "elbow_train = mura_train[mura_train['region']=='ELBOW']\n",
        "shoulder_train = mura_train[mura_train['region']=='SHOULDER']\n",
        "finger_train = mura_train[mura_train['region']=='FINGER']\n",
        "\n",
        "# create test df by region\n",
        "wrist_test = mura_test[mura_test['region']=='WRIST']\n",
        "forearm_test = mura_test[mura_test['region']=='FOREARM']\n",
        "hand_test = mura_test[mura_test['region']=='HAND']\n",
        "humerus_test = mura_test[mura_test['region']=='HUMERUS']\n",
        "elbow_test = mura_test[mura_test['region']=='ELBOW']\n",
        "shoulder_test = mura_test[mura_test['region']=='SHOULDER']\n",
        "finger_test = mura_test[mura_test['region']=='FINGER']"
      ],
      "metadata": {
        "id": "-73LtrQGm5zJ"
      },
      "execution_count": 15,
      "outputs": []
    },
    {
      "cell_type": "code",
      "source": [
        "humerus_test.head()"
      ],
      "metadata": {
        "colab": {
          "base_uri": "https://localhost:8080/",
          "height": 204
        },
        "id": "ZTNR3VJaLuRH",
        "outputId": "037f8ddd-3824-49fc-9fd8-2ae0a7451707"
      },
      "execution_count": 16,
      "outputs": [
        {
          "output_type": "execute_result",
          "data": {
            "text/plain": [
              "                                                         image_path  \\\n",
              "1420  mura/valid/XR_HUMERUS/patient11608/study1_positive/image1.png   \n",
              "1421  mura/valid/XR_HUMERUS/patient11608/study1_positive/image2.png   \n",
              "1422  mura/valid/XR_HUMERUS/patient11214/study1_positive/image1.png   \n",
              "1423  mura/valid/XR_HUMERUS/patient11214/study1_positive/image2.png   \n",
              "1424  mura/valid/XR_HUMERUS/patient11609/study1_positive/image1.png   \n",
              "\n",
              "        patient_id  study   region    target  \n",
              "1420  patient11608      1  HUMERUS  abnormal  \n",
              "1421  patient11608      1  HUMERUS  abnormal  \n",
              "1422  patient11214      1  HUMERUS  abnormal  \n",
              "1423  patient11214      1  HUMERUS  abnormal  \n",
              "1424  patient11609      1  HUMERUS  abnormal  "
            ],
            "text/html": [
              "\n",
              "  <div id=\"df-12508bff-c1e2-423c-9780-88a749b4bd48\">\n",
              "    <div class=\"colab-df-container\">\n",
              "      <div>\n",
              "<style scoped>\n",
              "    .dataframe tbody tr th:only-of-type {\n",
              "        vertical-align: middle;\n",
              "    }\n",
              "\n",
              "    .dataframe tbody tr th {\n",
              "        vertical-align: top;\n",
              "    }\n",
              "\n",
              "    .dataframe thead th {\n",
              "        text-align: right;\n",
              "    }\n",
              "</style>\n",
              "<table border=\"1\" class=\"dataframe\">\n",
              "  <thead>\n",
              "    <tr style=\"text-align: right;\">\n",
              "      <th></th>\n",
              "      <th>image_path</th>\n",
              "      <th>patient_id</th>\n",
              "      <th>study</th>\n",
              "      <th>region</th>\n",
              "      <th>target</th>\n",
              "    </tr>\n",
              "  </thead>\n",
              "  <tbody>\n",
              "    <tr>\n",
              "      <th>1420</th>\n",
              "      <td>mura/valid/XR_HUMERUS/patient11608/study1_positive/image1.png</td>\n",
              "      <td>patient11608</td>\n",
              "      <td>1</td>\n",
              "      <td>HUMERUS</td>\n",
              "      <td>abnormal</td>\n",
              "    </tr>\n",
              "    <tr>\n",
              "      <th>1421</th>\n",
              "      <td>mura/valid/XR_HUMERUS/patient11608/study1_positive/image2.png</td>\n",
              "      <td>patient11608</td>\n",
              "      <td>1</td>\n",
              "      <td>HUMERUS</td>\n",
              "      <td>abnormal</td>\n",
              "    </tr>\n",
              "    <tr>\n",
              "      <th>1422</th>\n",
              "      <td>mura/valid/XR_HUMERUS/patient11214/study1_positive/image1.png</td>\n",
              "      <td>patient11214</td>\n",
              "      <td>1</td>\n",
              "      <td>HUMERUS</td>\n",
              "      <td>abnormal</td>\n",
              "    </tr>\n",
              "    <tr>\n",
              "      <th>1423</th>\n",
              "      <td>mura/valid/XR_HUMERUS/patient11214/study1_positive/image2.png</td>\n",
              "      <td>patient11214</td>\n",
              "      <td>1</td>\n",
              "      <td>HUMERUS</td>\n",
              "      <td>abnormal</td>\n",
              "    </tr>\n",
              "    <tr>\n",
              "      <th>1424</th>\n",
              "      <td>mura/valid/XR_HUMERUS/patient11609/study1_positive/image1.png</td>\n",
              "      <td>patient11609</td>\n",
              "      <td>1</td>\n",
              "      <td>HUMERUS</td>\n",
              "      <td>abnormal</td>\n",
              "    </tr>\n",
              "  </tbody>\n",
              "</table>\n",
              "</div>\n",
              "      <button class=\"colab-df-convert\" onclick=\"convertToInteractive('df-12508bff-c1e2-423c-9780-88a749b4bd48')\"\n",
              "              title=\"Convert this dataframe to an interactive table.\"\n",
              "              style=\"display:none;\">\n",
              "        \n",
              "  <svg xmlns=\"http://www.w3.org/2000/svg\" height=\"24px\"viewBox=\"0 0 24 24\"\n",
              "       width=\"24px\">\n",
              "    <path d=\"M0 0h24v24H0V0z\" fill=\"none\"/>\n",
              "    <path d=\"M18.56 5.44l.94 2.06.94-2.06 2.06-.94-2.06-.94-.94-2.06-.94 2.06-2.06.94zm-11 1L8.5 8.5l.94-2.06 2.06-.94-2.06-.94L8.5 2.5l-.94 2.06-2.06.94zm10 10l.94 2.06.94-2.06 2.06-.94-2.06-.94-.94-2.06-.94 2.06-2.06.94z\"/><path d=\"M17.41 7.96l-1.37-1.37c-.4-.4-.92-.59-1.43-.59-.52 0-1.04.2-1.43.59L10.3 9.45l-7.72 7.72c-.78.78-.78 2.05 0 2.83L4 21.41c.39.39.9.59 1.41.59.51 0 1.02-.2 1.41-.59l7.78-7.78 2.81-2.81c.8-.78.8-2.07 0-2.86zM5.41 20L4 18.59l7.72-7.72 1.47 1.35L5.41 20z\"/>\n",
              "  </svg>\n",
              "      </button>\n",
              "      \n",
              "  <style>\n",
              "    .colab-df-container {\n",
              "      display:flex;\n",
              "      flex-wrap:wrap;\n",
              "      gap: 12px;\n",
              "    }\n",
              "\n",
              "    .colab-df-convert {\n",
              "      background-color: #E8F0FE;\n",
              "      border: none;\n",
              "      border-radius: 50%;\n",
              "      cursor: pointer;\n",
              "      display: none;\n",
              "      fill: #1967D2;\n",
              "      height: 32px;\n",
              "      padding: 0 0 0 0;\n",
              "      width: 32px;\n",
              "    }\n",
              "\n",
              "    .colab-df-convert:hover {\n",
              "      background-color: #E2EBFA;\n",
              "      box-shadow: 0px 1px 2px rgba(60, 64, 67, 0.3), 0px 1px 3px 1px rgba(60, 64, 67, 0.15);\n",
              "      fill: #174EA6;\n",
              "    }\n",
              "\n",
              "    [theme=dark] .colab-df-convert {\n",
              "      background-color: #3B4455;\n",
              "      fill: #D2E3FC;\n",
              "    }\n",
              "\n",
              "    [theme=dark] .colab-df-convert:hover {\n",
              "      background-color: #434B5C;\n",
              "      box-shadow: 0px 1px 3px 1px rgba(0, 0, 0, 0.15);\n",
              "      filter: drop-shadow(0px 1px 2px rgba(0, 0, 0, 0.3));\n",
              "      fill: #FFFFFF;\n",
              "    }\n",
              "  </style>\n",
              "\n",
              "      <script>\n",
              "        const buttonEl =\n",
              "          document.querySelector('#df-12508bff-c1e2-423c-9780-88a749b4bd48 button.colab-df-convert');\n",
              "        buttonEl.style.display =\n",
              "          google.colab.kernel.accessAllowed ? 'block' : 'none';\n",
              "\n",
              "        async function convertToInteractive(key) {\n",
              "          const element = document.querySelector('#df-12508bff-c1e2-423c-9780-88a749b4bd48');\n",
              "          const dataTable =\n",
              "            await google.colab.kernel.invokeFunction('convertToInteractive',\n",
              "                                                     [key], {});\n",
              "          if (!dataTable) return;\n",
              "\n",
              "          const docLinkHtml = 'Like what you see? Visit the ' +\n",
              "            '<a target=\"_blank\" href=https://colab.research.google.com/notebooks/data_table.ipynb>data table notebook</a>'\n",
              "            + ' to learn more about interactive tables.';\n",
              "          element.innerHTML = '';\n",
              "          dataTable['output_type'] = 'display_data';\n",
              "          await google.colab.output.renderOutput(dataTable, element);\n",
              "          const docLink = document.createElement('div');\n",
              "          docLink.innerHTML = docLinkHtml;\n",
              "          element.appendChild(docLink);\n",
              "        }\n",
              "      </script>\n",
              "    </div>\n",
              "  </div>\n",
              "  "
            ]
          },
          "metadata": {},
          "execution_count": 16
        }
      ]
    },
    {
      "cell_type": "markdown",
      "source": [
        "## Create custom Datasets and Dataloaders"
      ],
      "metadata": {
        "id": "1B0RIJ9SmpxF"
      }
    },
    {
      "cell_type": "markdown",
      "source": [
        "https://www.learnpytorch.io/04_pytorch_custom_datasets#41-turn-loaded-images-into-dataloaders"
      ],
      "metadata": {
        "id": "0tn_Ke84MT9d"
      }
    },
    {
      "cell_type": "code",
      "source": [
        "# transformations for images\n",
        "data_transforms = transforms.Compose([\n",
        "    #\n",
        "    #note that output channel is 1, will need to change and re-run for use with 3 channels\n",
        "    #\n",
        "    transforms.Grayscale(num_output_channels=1),\n",
        "    transforms.Resize((224,224)),\n",
        "    transforms.ToTensor()\n",
        "])"
      ],
      "metadata": {
        "id": "J7q4r-Z4SB2C"
      },
      "execution_count": 17,
      "outputs": []
    },
    {
      "cell_type": "code",
      "source": [
        "# function to provide list of classes and a dict of classes:targets\n",
        "def class_dict(two_targets):\n",
        "    classes_2 = ['normal', 'abnormal']\n",
        "    dict_2 = {'normal' : 0, 'abnormal': 1}\n",
        "    classes_14 = ['abnormal_WRIST', 'normal_WRIST','abnormal_FOREARM', 'normal_FOREARM',\n",
        "                      'abnormal_HAND', 'normal_HAND', 'abnormal_HUMERUS', 'normal_HUMERUS',\n",
        "                      'abnormal_ELBOW', 'normal_ELBOW', 'abnormal_SHOULDER', 'normal_SHOULDER',\n",
        "                      'abnormal_FINGER', 'normal_FINGER']\n",
        "    dict_14 = {'abnormal_WRIST': 0, 'normal_WRIST': 1,'abnormal_FOREARM' : 2, 'normal_FOREARM' : 3,\n",
        "                      'abnormal_HAND': 4, 'normal_HAND' : 5, 'abnormal_HUMERUS': 6, 'normal_HUMERUS' : 7,\n",
        "                      'abnormal_ELBOW': 8, 'normal_ELBOW' : 9, 'abnormal_SHOULDER' : 10, 'normal_SHOULDER': 11,\n",
        "                      'abnormal_FINGER': 12, 'normal_FINGER' : 13}\n",
        "    if two_targets == True:\n",
        "      return classes_2, dict_2\n",
        "    else:\n",
        "      return classes_14, dict_14"
      ],
      "metadata": {
        "id": "U43jeRlkTILE"
      },
      "execution_count": 18,
      "outputs": []
    },
    {
      "cell_type": "code",
      "source": [
        "# create custom dataset class for our MURA dataset\n",
        "\n",
        "class MuraDataset(Dataset):\n",
        "    # change two targets to False if using 14 target data\n",
        "    def __init__(self, mura_df, two_targets, transform=data_transforms):\n",
        "        self.mura = mura_df\n",
        "        self.transform = transform\n",
        "        self.classes, self.class_to_idx = class_dict(two_targets=two_targets)\n",
        "\n",
        "    def __len__(self):\n",
        "        return len(self.mura)\n",
        "\n",
        "    # retrives image from path in df file and target from df\n",
        "    def get_image_class(self, index):\n",
        "        image_path = self.mura.iloc[index]['image_path']\n",
        "        class_name = self.mura.iloc[index]['target']\n",
        "        return Image.open(image_path), class_name  \n",
        "\n",
        "    def __getitem__(self, idx):\n",
        "        image, class_name = self.get_image_class(idx)\n",
        "        label = self.class_to_idx[class_name]\n",
        "\n",
        "        return self.transform(image), label"
      ],
      "metadata": {
        "id": "1HZ1w3Rek1Vm"
      },
      "execution_count": 19,
      "outputs": []
    },
    {
      "cell_type": "code",
      "source": [
        "#dict = {}\n",
        "#for i in range(len(train_dataset)):\n",
        "#    img, label = next(iter(train_dataloader))\n",
        "#    shape = img.shape\n",
        "#    dict[shape] = dict.get(shape, 0) + 1"
      ],
      "metadata": {
        "id": "092A6d-yfqKk"
      },
      "execution_count": 20,
      "outputs": []
    },
    {
      "cell_type": "code",
      "source": [
        "# create train and test datasets for 14 target df\n",
        "mura_train_14_dataset = MuraDataset(mura_df = mura_train_14, two_targets=False)\n",
        "mura_test_14_dataset = MuraDataset(mura_df = mura_test_14, two_targets=False)"
      ],
      "metadata": {
        "id": "_RDt9aB6RdBw"
      },
      "execution_count": 21,
      "outputs": []
    },
    {
      "cell_type": "code",
      "source": [
        "print(len(mura_train_14_dataset), len(mura_test_14_dataset))"
      ],
      "metadata": {
        "colab": {
          "base_uri": "https://localhost:8080/"
        },
        "id": "1EGwXv9mRyD3",
        "outputId": "4d145b13-fee2-4139-a372-74453a1bc959"
      },
      "execution_count": 22,
      "outputs": [
        {
          "output_type": "stream",
          "name": "stdout",
          "text": [
            "36808 3197\n"
          ]
        }
      ]
    },
    {
      "cell_type": "code",
      "source": [
        "# create train datasets by region\n",
        "wrist_train_dataset = MuraDataset(mura_df = wrist_train, two_targets=True)\n",
        "forearm_train_dataset = MuraDataset(mura_df = forearm_train, two_targets=True)\n",
        "hand_train_dataset = MuraDataset(mura_df = hand_train, two_targets=True)\n",
        "humerus_train_dataset = MuraDataset(mura_df = humerus_train, two_targets=True)\n",
        "elbow_train_dataset = MuraDataset(mura_df = elbow_train, two_targets=True)\n",
        "shoulder_train_dataset = MuraDataset(mura_df = shoulder_train, two_targets=True)\n",
        "finger_train_dataset = MuraDataset(mura_df = finger_train, two_targets=True)\n",
        "\n",
        "# create test datasets by region\n",
        "wrist_test_dataset = MuraDataset(mura_df = wrist_test, two_targets=True)\n",
        "forearm_test_dataset = MuraDataset(mura_df = forearm_test, two_targets=True)\n",
        "hand_test_dataset = MuraDataset(mura_df = hand_test, two_targets=True)\n",
        "humerus_test_dataset = MuraDataset(mura_df = humerus_test, two_targets=True)\n",
        "elbow_test_dataset = MuraDataset(mura_df = elbow_test, two_targets=True)\n",
        "shoulder_test_dataset = MuraDataset(mura_df = shoulder_test, two_targets=True)\n",
        "finger_test_dataset = MuraDataset(mura_df = finger_test, two_targets=True)"
      ],
      "metadata": {
        "id": "ZvGzSYvvPBF4"
      },
      "execution_count": 23,
      "outputs": []
    },
    {
      "cell_type": "code",
      "source": [
        "wrist_len = len(wrist_train)\n",
        "forearm_len = len(forearm_train)\n",
        "hand_len = len(hand_train)\n",
        "humerus_len = len(humerus_train)\n",
        "elbow_len = len(elbow_train)\n",
        "shoulder_len = len(shoulder_train)\n",
        "finger_len = len(finger_train)\n",
        "\n",
        "total = len(mura_train)\n",
        "\n",
        "# ratio of portion of samples we want from each region\n",
        "wrist_ratio = round(wrist_len/total,5)\n",
        "forearm_ratio = round(forearm_len/total,5)\n",
        "hand_ratio = round(hand_len/total,5)\n",
        "humerus_ratio = round(humerus_len/total,5)\n",
        "elbow_ratio = round(elbow_len/total,5)\n",
        "shoulder_ratio = round(shoulder_len/total,5)\n",
        "finger_ratio = round(finger_len/total,5)\n"
      ],
      "metadata": {
        "id": "ShxKpKobtY1x"
      },
      "execution_count": 24,
      "outputs": []
    },
    {
      "cell_type": "code",
      "source": [
        "print(wrist_ratio, forearm_ratio)"
      ],
      "metadata": {
        "id": "d8xWrRtatb9l",
        "outputId": "8ea322cf-b088-4b47-9d7e-0c8816d34a90",
        "colab": {
          "base_uri": "https://localhost:8080/"
        }
      },
      "execution_count": 25,
      "outputs": [
        {
          "output_type": "stream",
          "name": "stdout",
          "text": [
            "0.26494 0.04958\n"
          ]
        }
      ]
    },
    {
      "cell_type": "code",
      "source": [
        "# create subset of 14 target Dataset, returns train and test Dataset \n",
        "def mura_sample(two_variables = True, num_train_samples = 7000, train_portion = 0.8, eq_reg_samp = False, vit=False, over_sample=False):\n",
        "    \n",
        "    # get number of test samples to sample\n",
        "    num_test_samples = (1-train_portion) * num_train_samples / train_portion\n",
        "\n",
        "    # use len of train data to get porportion of data we want to sample from each region\n",
        "    wrist_len = len(wrist_train)\n",
        "    forearm_len = len(forearm_train)\n",
        "    hand_len = len(hand_train)\n",
        "    humerus_len = len(humerus_train)\n",
        "    elbow_len = len(elbow_train)\n",
        "    shoulder_len = len(shoulder_train)\n",
        "    finger_len = len(finger_train)\n",
        "\n",
        "    total = len(mura_train)\n",
        "\n",
        "    # ratio of portion of samples we want from each region\n",
        "    wrist_ratio = round(wrist_len/total,5) if eq_reg_samp is False else round(1/7,5)\n",
        "    forearm_ratio = round(forearm_len/total,5) if eq_reg_samp is False else round(1/7,5)\n",
        "    hand_ratio = round(hand_len/total,5) if eq_reg_samp is False else round(1/7,5)\n",
        "    humerus_ratio = round(humerus_len/total,5) if eq_reg_samp is False else round(1/7,5)\n",
        "    elbow_ratio = round(elbow_len/total,5) if eq_reg_samp is False else round(1/7,5)\n",
        "    shoulder_ratio = round(shoulder_len/total,5) if eq_reg_samp is False else round(1/7,5)\n",
        "    finger_ratio = round(finger_len/total,5) if eq_reg_samp is False else round(1/7,5)\n",
        "\n",
        "    # random sample train regions\n",
        "    a = wrist_train.sample(n=int(wrist_ratio*num_train_samples), replace=over_sample)\n",
        "    b = forearm_train.sample(n=int(forearm_ratio*num_train_samples), replace=over_sample)\n",
        "    c = hand_train.sample(n=int(hand_ratio*num_train_samples), replace=over_sample)\n",
        "    d = humerus_train.sample(n=int(humerus_ratio*num_train_samples), replace=over_sample)\n",
        "    e = elbow_train.sample(n=int(elbow_ratio*num_train_samples), replace=over_sample)\n",
        "    f = shoulder_train.sample(n=int(shoulder_ratio*num_train_samples), replace=over_sample)\n",
        "    g = finger_train.sample(n=int(finger_ratio*num_train_samples), replace=over_sample)\n",
        "\n",
        "    # random sample test regions\n",
        "    h = wrist_test.sample(n=int(wrist_ratio*num_test_samples), replace=over_sample)\n",
        "    i = forearm_test.sample(n=int(forearm_ratio*num_test_samples), replace=over_sample)\n",
        "    j = hand_test.sample(n=int(hand_ratio*num_test_samples), replace=over_sample)\n",
        "    k = humerus_test.sample(n=int(humerus_ratio*num_test_samples), replace=over_sample)\n",
        "    l = elbow_test.sample(n=int(elbow_ratio*num_test_samples), replace=over_sample)\n",
        "    m = shoulder_test.sample(n=int(shoulder_ratio*num_test_samples), replace=over_sample)\n",
        "    n = finger_test.sample(n=int(finger_ratio*num_test_samples), replace=over_sample)\n",
        "\n",
        "    train_frames = [a,b,c,d,e,f,g]\n",
        "    test_frames = [h,i,j,k,l,m,n]\n",
        "    keys = mura_train.columns\n",
        "    \n",
        "    train_df = pd.concat(train_frames, keys=keys)\n",
        "    test_df = pd.concat(test_frames, keys=keys)\n",
        "\n",
        "    train_df_shuff = train_df.sample(frac=1).reset_index(drop=True)\n",
        "    test_df_shuff = test_df.sample(frac=1).reset_index(drop=True)\n",
        "\n",
        "    if two_variables is False:\n",
        "        train_df_shuff = mura_to14(train_df_shuff)\n",
        "        test_df_shuff = mura_to14(test_df_shuff)\n",
        "\n",
        "    if vit is False:\n",
        "        train_dataset = MuraDataset(mura_df = train_df_shuff, two_targets=two_variables)\n",
        "        test_dataset = MuraDataset(mura_df = test_df_shuff, two_targets=two_variables)\n",
        "    else:\n",
        "        train_dataset = ViT_MuraDataset(mura_df = train_df_shuff, two_targets=two_variables)\n",
        "        test_dataset = ViT_MuraDataset(mura_df = test_df_shuff, two_targets=two_variables)\n",
        "\n",
        "    return train_dataset, test_dataset"
      ],
      "metadata": {
        "id": "q3LmTPAjaBFc"
      },
      "execution_count": 130,
      "outputs": []
    },
    {
      "cell_type": "code",
      "source": [
        "mura_train_14_subset, mura_test_14_subset = mura_sample(two_variables = False, vit=False)\n",
        "mura_train_subset, mura_test_subset = mura_sample(two_variables = True, vit=False)"
      ],
      "metadata": {
        "id": "LIGJqaXaXl5y"
      },
      "execution_count": 131,
      "outputs": []
    },
    {
      "cell_type": "code",
      "source": [
        "print(len(mura_train_14_subset), len(mura_test_14_subset))"
      ],
      "metadata": {
        "colab": {
          "base_uri": "https://localhost:8080/"
        },
        "id": "DG4fsHhMcw13",
        "outputId": "6f5a9176-c3f4-4ad3-963e-750a8b750e69"
      },
      "execution_count": 132,
      "outputs": [
        {
          "output_type": "stream",
          "name": "stdout",
          "text": [
            "4433 1106\n"
          ]
        }
      ]
    },
    {
      "cell_type": "code",
      "source": [
        "print(len(mura_train_subset), len(mura_test_subset))"
      ],
      "metadata": {
        "colab": {
          "base_uri": "https://localhost:8080/"
        },
        "id": "NjV-xbi1xwGa",
        "outputId": "a0997a07-2a04-4069-eb9c-c151e1f174e9"
      },
      "execution_count": 133,
      "outputs": [
        {
          "output_type": "stream",
          "name": "stdout",
          "text": [
            "4433 1106\n"
          ]
        }
      ]
    },
    {
      "cell_type": "code",
      "source": [
        "#check size of datasets\n",
        "print(f'wrist: {len(wrist_train_dataset)}, {len(wrist_test_dataset)}')\n",
        "print(f'forearm: {len(forearm_train_dataset)}, {len(forearm_test_dataset)}')\n",
        "print(f'hand: {len(hand_train_dataset)}, {len(hand_test_dataset)}')\n",
        "print(f'humerus: {len(humerus_train_dataset)}, {len(humerus_test_dataset)}')\n",
        "print(f'elbow: {len(elbow_train_dataset)}, {len(elbow_test_dataset)}')\n",
        "print(f'shoulder: {len(shoulder_train_dataset)}, {len(shoulder_test_dataset)}')\n",
        "print(f'finger: {len(finger_train_dataset)}, {len(finger_test_dataset)}')"
      ],
      "metadata": {
        "colab": {
          "base_uri": "https://localhost:8080/"
        },
        "id": "9lM0qICISWem",
        "outputId": "14582b32-6c32-4606-fa10-f191b816d944"
      },
      "execution_count": 29,
      "outputs": [
        {
          "output_type": "stream",
          "name": "stdout",
          "text": [
            "wrist: 9752, 659\n",
            "forearm: 1825, 301\n",
            "hand: 5543, 460\n",
            "humerus: 1272, 288\n",
            "elbow: 4931, 465\n",
            "shoulder: 8379, 563\n",
            "finger: 5106, 461\n"
          ]
        }
      ]
    },
    {
      "cell_type": "code",
      "source": [
        "# batch size for all dataloaders we are creating\n",
        "batch_size = 32"
      ],
      "metadata": {
        "id": "wE8-xZNnVvMX"
      },
      "execution_count": 30,
      "outputs": []
    },
    {
      "cell_type": "code",
      "source": [
        "# create dataloader for 14 targets dataset\n",
        "mura_train_14_dataloader = DataLoader(mura_train_14_dataset, batch_size=batch_size, shuffle=True)\n",
        "mura_test_14_dataloader = DataLoader(mura_test_14_dataset, batch_size=batch_size, shuffle=True)"
      ],
      "metadata": {
        "id": "j4p0Hu7GSB7a"
      },
      "execution_count": 31,
      "outputs": []
    },
    {
      "cell_type": "code",
      "source": [
        "img, label = next(iter(mura_train_14_dataloader))\n",
        "img.shape, label"
      ],
      "metadata": {
        "colab": {
          "base_uri": "https://localhost:8080/"
        },
        "id": "MQwW02u1R4Cj",
        "outputId": "91f945f0-b587-4bcf-807f-c8aa464af05c"
      },
      "execution_count": 32,
      "outputs": [
        {
          "output_type": "execute_result",
          "data": {
            "text/plain": [
              "(torch.Size([32, 1, 224, 224]),\n",
              " tensor([ 2,  4,  2,  5,  3,  8, 10, 11,  0,  5,  4, 10, 10,  5, 13,  0,  9, 13,\n",
              "         11, 11,  9,  2, 13, 11,  0, 10, 13, 10,  5,  3,  5,  3]))"
            ]
          },
          "metadata": {},
          "execution_count": 32
        }
      ]
    },
    {
      "cell_type": "code",
      "source": [
        "#create train dataloaders by region\n",
        "wrist_train_dataloader = DataLoader(wrist_train_dataset, batch_size=batch_size, shuffle=True)\n",
        "forearm_train_dataloader = DataLoader(forearm_train_dataset, batch_size=batch_size, shuffle=True)\n",
        "hand_train_dataloader = DataLoader(hand_train_dataset, batch_size=batch_size, shuffle=True)\n",
        "humerus_train_dataloader = DataLoader(humerus_train_dataset, batch_size=batch_size, shuffle=True)\n",
        "elbow_train_dataloader = DataLoader(elbow_train_dataset, batch_size=batch_size, shuffle=True)\n",
        "shoulder_train_dataloader = DataLoader(shoulder_train_dataset, batch_size=batch_size, shuffle=True)\n",
        "finger_train_dataloader = DataLoader(finger_train_dataset, batch_size=batch_size, shuffle=True)\n",
        "\n",
        "#create test dataloaders by region\n",
        "wrist_test_dataloader = DataLoader(wrist_test_dataset, batch_size=batch_size, shuffle=True)\n",
        "forearm_test_dataloader = DataLoader(forearm_test_dataset, batch_size=batch_size, shuffle=True)\n",
        "hand_test_dataloader = DataLoader(hand_test_dataset, batch_size=batch_size, shuffle=True)\n",
        "humerus_test_dataloader = DataLoader(humerus_test_dataset, batch_size=batch_size, shuffle=True)\n",
        "elbow_test_dataloader = DataLoader(elbow_test_dataset, batch_size=batch_size, shuffle=True)\n",
        "shoulder_test_dataloader = DataLoader(shoulder_test_dataset, batch_size=batch_size, shuffle=True)\n",
        "finger_test_dataloader = DataLoader(finger_test_dataset, batch_size=batch_size, shuffle=True)"
      ],
      "metadata": {
        "id": "cnXRdZoEPnV7"
      },
      "execution_count": 33,
      "outputs": []
    },
    {
      "cell_type": "code",
      "source": [
        "img, label = next(iter(shoulder_train_dataloader))\n",
        "img.shape, label"
      ],
      "metadata": {
        "colab": {
          "base_uri": "https://localhost:8080/"
        },
        "id": "gO8RQ8beX5gY",
        "outputId": "e4e031d9-3add-4970-c35d-ced4055af151"
      },
      "execution_count": 34,
      "outputs": [
        {
          "output_type": "execute_result",
          "data": {
            "text/plain": [
              "(torch.Size([32, 1, 224, 224]),\n",
              " tensor([1, 0, 0, 1, 1, 1, 1, 1, 1, 1, 0, 1, 0, 0, 0, 1, 0, 0, 0, 1, 1, 1, 0, 1,\n",
              "         1, 1, 0, 1, 0, 1, 1, 0]))"
            ]
          },
          "metadata": {},
          "execution_count": 34
        }
      ]
    },
    {
      "cell_type": "markdown",
      "source": [
        "# Base Model"
      ],
      "metadata": {
        "id": "KGN2Yycb4GHK"
      }
    },
    {
      "cell_type": "markdown",
      "source": [
        "## Model Implementation"
      ],
      "metadata": {
        "id": "8JWhuht_aKU-"
      }
    },
    {
      "cell_type": "markdown",
      "source": [
        "Implement CNN from:\n",
        "\n",
        "https://www.learnpytorch.io/03_pytorch_computer_vision/#7-model-2-building-a-convolutional-neural-network-cnn"
      ],
      "metadata": {
        "id": "neZUulMCN8rq"
      }
    },
    {
      "cell_type": "code",
      "source": [
        "# Create a convolutional neural network \n",
        "class base_model(nn.Module):\n",
        "    def __init__(self, input_shape: int, hidden_units: int, output_shape: int):\n",
        "        super().__init__()\n",
        "        self.block_1 = nn.Sequential(\n",
        "            nn.Conv2d(in_channels=input_shape, \n",
        "                      out_channels=hidden_units, \n",
        "                      kernel_size=3, # how big is the square that's going over the image?\n",
        "                      stride=1, # default\n",
        "                      padding=1),# options = \"valid\" (no padding) or \"same\" (output has same shape as input) or int for specific number \n",
        "            nn.ReLU(),\n",
        "            nn.Conv2d(in_channels=hidden_units, \n",
        "                      out_channels=hidden_units,\n",
        "                      kernel_size=3,\n",
        "                      stride=1,\n",
        "                      padding=1),\n",
        "            nn.ReLU(),\n",
        "            nn.MaxPool2d(kernel_size=2,\n",
        "                         stride=2) # default stride value is same as kernel_size\n",
        "        )\n",
        "        self.block_2 = nn.Sequential(\n",
        "            nn.Conv2d(hidden_units, hidden_units, 3, padding=1),\n",
        "            nn.ReLU(),\n",
        "            nn.Conv2d(hidden_units, hidden_units, 3, padding=1),\n",
        "            nn.ReLU(),\n",
        "            nn.MaxPool2d(2)\n",
        "        )\n",
        "        self.classifier = nn.Sequential(\n",
        "            nn.Flatten(),\n",
        "            # Where did this in_features shape come from? \n",
        "            # It's because each layer of our network compresses and changes the shape of our inputs data.\n",
        "            nn.Linear(in_features=hidden_units*56*56, \n",
        "                      out_features=output_shape)\n",
        "        )\n",
        "    \n",
        "    def forward(self, x: torch.Tensor):\n",
        "        x = self.block_1(x)\n",
        "        # print(x.shape)\n",
        "        x = self.block_2(x)\n",
        "        # print(x.shape)\n",
        "        x = self.classifier(x)\n",
        "        # print(x.shape)\n",
        "        return x"
      ],
      "metadata": {
        "id": "2Xlm0feaj3FP"
      },
      "execution_count": null,
      "outputs": []
    },
    {
      "cell_type": "code",
      "source": [
        "# define how we will measure our model accuracy\n",
        "def accuracy_fn(y_true, y_pred):\n",
        "    correct = torch.eq(y_true, y_pred).sum().item()\n",
        "    acc = (correct / len(y_pred)) * 100 \n",
        "    return acc"
      ],
      "metadata": {
        "id": "s7MHqPXMV4Yn"
      },
      "execution_count": null,
      "outputs": []
    },
    {
      "cell_type": "code",
      "source": [
        "# define our training and test steps\n",
        "def train_step(model: torch.nn.Module,\n",
        "               data_loader: torch.utils.data.DataLoader,\n",
        "               loss_fn: torch.nn.Module,\n",
        "               optimizer: torch.optim.Optimizer,\n",
        "               accuracy_fn,\n",
        "               device: torch.device = device):\n",
        "    train_loss, train_acc = 0, 0\n",
        "    for batch, (X, y) in enumerate(data_loader):\n",
        "        # Send data to GPU\n",
        "        X, y = X.to(device), y.to(device)\n",
        "\n",
        "        # 1. Forward pass\n",
        "        y_pred = model(X)\n",
        "\n",
        "        # 2. Calculate loss\n",
        "        loss = loss_fn(y_pred, y)\n",
        "        train_loss += loss\n",
        "        train_acc += accuracy_fn(y_true=y,\n",
        "                                 y_pred=y_pred.argmax(dim=1)) # Go from logits -> pred labels\n",
        "\n",
        "        # 3. Optimizer zero grad\n",
        "        optimizer.zero_grad()\n",
        "\n",
        "        # 4. Loss backward\n",
        "        loss.backward()\n",
        "\n",
        "        # 5. Optimizer step\n",
        "        optimizer.step()\n",
        "\n",
        "    # Calculate loss and accuracy per epoch and print out what's happening\n",
        "    train_loss /= len(data_loader)\n",
        "    train_acc /= len(data_loader)\n",
        "    print(f\"Train loss: {train_loss:.5f} | Train accuracy: {train_acc:.2f}%\")\n",
        "\n",
        "def test_step(data_loader: torch.utils.data.DataLoader,\n",
        "              model: torch.nn.Module,\n",
        "              loss_fn: torch.nn.Module,\n",
        "              accuracy_fn,\n",
        "              device: torch.device = device):\n",
        "    test_loss, test_acc = 0, 0\n",
        "    model.eval() # put model in eval mode\n",
        "    # Turn on inference context manager\n",
        "    with torch.inference_mode(): \n",
        "        for X, y in data_loader:\n",
        "            # Send data to GPU\n",
        "            X, y = X.to(device), y.to(device)\n",
        "            \n",
        "            # 1. Forward pass\n",
        "            test_pred = model(X)\n",
        "            \n",
        "            # 2. Calculate loss and accuracy\n",
        "            test_loss += loss_fn(test_pred, y)\n",
        "            test_acc += accuracy_fn(y_true=y,\n",
        "                y_pred=test_pred.argmax(dim=1) # Go from logits -> pred labels\n",
        "            )\n",
        "        \n",
        "        # Adjust metrics and print out\n",
        "        test_loss /= len(data_loader)\n",
        "        test_acc /= len(data_loader)\n",
        "        print(f\"Test loss: {test_loss:.5f} | Test accuracy: {test_acc:.2f}%\\n\")\n"
      ],
      "metadata": {
        "id": "1jTQinzTWX4n"
      },
      "execution_count": null,
      "outputs": []
    },
    {
      "cell_type": "code",
      "source": [
        "# calculate total time training\n",
        "def print_train_time(start: float, end: float, device: torch.device = None):\n",
        "    \"\"\"Prints difference between start and end time.\n",
        "\n",
        "    Args:\n",
        "        start (float): Start time of computation (preferred in timeit format). \n",
        "        end (float): End time of computation.\n",
        "        device ([type], optional): Device that compute is running on. Defaults to None.\n",
        "\n",
        "    Returns:\n",
        "        float: time between start and end in seconds (higher is longer).\n",
        "    \"\"\"\n",
        "    total_time = end - start\n",
        "    print(f\"Train time on {device}: {total_time/60:.3f} minutes\")\n",
        "    return total_time"
      ],
      "metadata": {
        "id": "G5A1Mxi7P4pl"
      },
      "execution_count": null,
      "outputs": []
    },
    {
      "cell_type": "code",
      "source": [
        "# Measure time\n",
        "\n",
        "def run_model(train_data_loader, test_data_loader, model, loss_fn, optimizer,\n",
        "              accuracy_fn=accuracy_fn, epochs=3, device=device):\n",
        "    train_time_start = timer()\n",
        "\n",
        "    # Train and test model \n",
        "    for epoch in tqdm(range(epochs)):\n",
        "        print(f\"Epoch: {epoch}\\n---------\")\n",
        "        train_step(data_loader=train_data_loader, \n",
        "            model=model, \n",
        "            loss_fn=loss_fn,\n",
        "            optimizer=optimizer,\n",
        "            accuracy_fn=accuracy_fn,\n",
        "            device=device\n",
        "        )\n",
        "        test_step(data_loader=test_data_loader,\n",
        "            model=model,\n",
        "            loss_fn=loss_fn,\n",
        "            accuracy_fn=accuracy_fn,\n",
        "            device=device\n",
        "        )\n",
        "\n",
        "    train_time_end = timer()\n",
        "\n",
        "    total_train_time = print_train_time(start=train_time_start,\n",
        "                                              end=train_time_end,\n",
        "                                              device=device)\n",
        "    print(total_train_time)"
      ],
      "metadata": {
        "id": "oAv2E2XVU3gE"
      },
      "execution_count": null,
      "outputs": []
    },
    {
      "cell_type": "markdown",
      "source": [
        "## Run Models"
      ],
      "metadata": {
        "id": "bByLZex4abJX"
      }
    },
    {
      "cell_type": "code",
      "source": [
        "# define loss function and optimizer for all models\n",
        "loss_fn_base_model = nn.CrossEntropyLoss()\n",
        "\n",
        "lr_base_model = 0.01\n",
        "\n",
        "# set optimizer with different model params\n",
        "def set_optimizer(model, lr=lr_base_model):\n",
        "    opt = torch.optim.SGD(params=model.parameters(), \n",
        "                             lr=lr)\n",
        "    return opt \n",
        "\n",
        "epochs_base_model = 5\n",
        "seed = 3"
      ],
      "metadata": {
        "id": "-OmwngKmRgeJ"
      },
      "execution_count": null,
      "outputs": []
    },
    {
      "cell_type": "markdown",
      "source": [
        "### 14 targets"
      ],
      "metadata": {
        "id": "c_w7rnPuflPW"
      }
    },
    {
      "cell_type": "code",
      "source": [
        "# create 14 target base model and move to device\n",
        "torch.manual_seed(seed)\n",
        "\n",
        "mura_14_base_model = base_model(input_shape=1, \n",
        "    hidden_units=10, \n",
        "    output_shape=len(mura_train_14_dataset.classes)).to(device)\n",
        "\n",
        "optimizer_base_model = set_optimizer(mura_14_base_model)\n",
        "\n",
        "mura_14_base_model"
      ],
      "metadata": {
        "colab": {
          "base_uri": "https://localhost:8080/"
        },
        "id": "x2LC_oUOiCr0",
        "outputId": "20920b72-ba1a-4b89-d35b-ff563eeefacf"
      },
      "execution_count": null,
      "outputs": [
        {
          "output_type": "execute_result",
          "data": {
            "text/plain": [
              "base_model(\n",
              "  (block_1): Sequential(\n",
              "    (0): Conv2d(1, 10, kernel_size=(3, 3), stride=(1, 1), padding=(1, 1))\n",
              "    (1): ReLU()\n",
              "    (2): Conv2d(10, 10, kernel_size=(3, 3), stride=(1, 1), padding=(1, 1))\n",
              "    (3): ReLU()\n",
              "    (4): MaxPool2d(kernel_size=2, stride=2, padding=0, dilation=1, ceil_mode=False)\n",
              "  )\n",
              "  (block_2): Sequential(\n",
              "    (0): Conv2d(10, 10, kernel_size=(3, 3), stride=(1, 1), padding=(1, 1))\n",
              "    (1): ReLU()\n",
              "    (2): Conv2d(10, 10, kernel_size=(3, 3), stride=(1, 1), padding=(1, 1))\n",
              "    (3): ReLU()\n",
              "    (4): MaxPool2d(kernel_size=2, stride=2, padding=0, dilation=1, ceil_mode=False)\n",
              "  )\n",
              "  (classifier): Sequential(\n",
              "    (0): Flatten(start_dim=1, end_dim=-1)\n",
              "    (1): Linear(in_features=31360, out_features=14, bias=True)\n",
              "  )\n",
              ")"
            ]
          },
          "metadata": {},
          "execution_count": 42
        }
      ]
    },
    {
      "cell_type": "code",
      "source": [
        "# train and test 14 target base model\n",
        "run_model(train_data_loader=mura_train_14_dataloader, test_data_loader=mura_test_14_dataloader,\n",
        "          model=mura_14_base_model, loss_fn=loss_fn_base_model, optimizer=optimizer_base_model, accuracy_fn=accuracy_fn,\n",
        "          epochs=epochs_base_model)"
      ],
      "metadata": {
        "id": "oMFTB7ekiCjh",
        "colab": {
          "base_uri": "https://localhost:8080/",
          "height": 409
        },
        "outputId": "c5459b87-1ebe-4867-d270-a588434e7388"
      },
      "execution_count": null,
      "outputs": [
        {
          "output_type": "stream",
          "name": "stderr",
          "text": [
            "\r  0%|          | 0/5 [00:00<?, ?it/s]"
          ]
        },
        {
          "output_type": "stream",
          "name": "stdout",
          "text": [
            "Epoch: 0\n",
            "---------\n"
          ]
        },
        {
          "output_type": "stream",
          "name": "stderr",
          "text": [
            "\r  0%|          | 0/5 [00:32<?, ?it/s]\n"
          ]
        },
        {
          "output_type": "error",
          "ename": "KeyboardInterrupt",
          "evalue": "ignored",
          "traceback": [
            "\u001b[0;31m---------------------------------------------------------------------------\u001b[0m",
            "\u001b[0;31mKeyboardInterrupt\u001b[0m                         Traceback (most recent call last)",
            "\u001b[0;32m<ipython-input-43-3a14cc0b2e2e>\u001b[0m in \u001b[0;36m<cell line: 2>\u001b[0;34m()\u001b[0m\n\u001b[1;32m      1\u001b[0m \u001b[0;31m# train and test 14 target base model\u001b[0m\u001b[0;34m\u001b[0m\u001b[0;34m\u001b[0m\u001b[0m\n\u001b[0;32m----> 2\u001b[0;31m run_model(train_data_loader=mura_train_14_dataloader, test_data_loader=mura_test_14_dataloader,\n\u001b[0m\u001b[1;32m      3\u001b[0m           \u001b[0mmodel\u001b[0m\u001b[0;34m=\u001b[0m\u001b[0mmura_14_base_model\u001b[0m\u001b[0;34m,\u001b[0m \u001b[0mloss_fn\u001b[0m\u001b[0;34m=\u001b[0m\u001b[0mloss_fn_base_model\u001b[0m\u001b[0;34m,\u001b[0m \u001b[0moptimizer\u001b[0m\u001b[0;34m=\u001b[0m\u001b[0moptimizer_base_model\u001b[0m\u001b[0;34m,\u001b[0m \u001b[0maccuracy_fn\u001b[0m\u001b[0;34m=\u001b[0m\u001b[0maccuracy_fn\u001b[0m\u001b[0;34m,\u001b[0m\u001b[0;34m\u001b[0m\u001b[0;34m\u001b[0m\u001b[0m\n\u001b[1;32m      4\u001b[0m           epochs=epochs_base_model)\n",
            "\u001b[0;32m<ipython-input-37-717f7a8930d3>\u001b[0m in \u001b[0;36mrun_model\u001b[0;34m(train_data_loader, test_data_loader, model, loss_fn, optimizer, accuracy_fn, epochs, device)\u001b[0m\n\u001b[1;32m      8\u001b[0m     \u001b[0;32mfor\u001b[0m \u001b[0mepoch\u001b[0m \u001b[0;32min\u001b[0m \u001b[0mtqdm\u001b[0m\u001b[0;34m(\u001b[0m\u001b[0mrange\u001b[0m\u001b[0;34m(\u001b[0m\u001b[0mepochs\u001b[0m\u001b[0;34m)\u001b[0m\u001b[0;34m)\u001b[0m\u001b[0;34m:\u001b[0m\u001b[0;34m\u001b[0m\u001b[0;34m\u001b[0m\u001b[0m\n\u001b[1;32m      9\u001b[0m         \u001b[0mprint\u001b[0m\u001b[0;34m(\u001b[0m\u001b[0;34mf\"Epoch: {epoch}\\n---------\"\u001b[0m\u001b[0;34m)\u001b[0m\u001b[0;34m\u001b[0m\u001b[0;34m\u001b[0m\u001b[0m\n\u001b[0;32m---> 10\u001b[0;31m         train_step(data_loader=train_data_loader, \n\u001b[0m\u001b[1;32m     11\u001b[0m             \u001b[0mmodel\u001b[0m\u001b[0;34m=\u001b[0m\u001b[0mmodel\u001b[0m\u001b[0;34m,\u001b[0m\u001b[0;34m\u001b[0m\u001b[0;34m\u001b[0m\u001b[0m\n\u001b[1;32m     12\u001b[0m             \u001b[0mloss_fn\u001b[0m\u001b[0;34m=\u001b[0m\u001b[0mloss_fn\u001b[0m\u001b[0;34m,\u001b[0m\u001b[0;34m\u001b[0m\u001b[0;34m\u001b[0m\u001b[0m\n",
            "\u001b[0;32m<ipython-input-35-05c8d0dabf1f>\u001b[0m in \u001b[0;36mtrain_step\u001b[0;34m(model, data_loader, loss_fn, optimizer, accuracy_fn, device)\u001b[0m\n\u001b[1;32m      7\u001b[0m                device: torch.device = device):\n\u001b[1;32m      8\u001b[0m     \u001b[0mtrain_loss\u001b[0m\u001b[0;34m,\u001b[0m \u001b[0mtrain_acc\u001b[0m \u001b[0;34m=\u001b[0m \u001b[0;36m0\u001b[0m\u001b[0;34m,\u001b[0m \u001b[0;36m0\u001b[0m\u001b[0;34m\u001b[0m\u001b[0;34m\u001b[0m\u001b[0m\n\u001b[0;32m----> 9\u001b[0;31m     \u001b[0;32mfor\u001b[0m \u001b[0mbatch\u001b[0m\u001b[0;34m,\u001b[0m \u001b[0;34m(\u001b[0m\u001b[0mX\u001b[0m\u001b[0;34m,\u001b[0m \u001b[0my\u001b[0m\u001b[0;34m)\u001b[0m \u001b[0;32min\u001b[0m \u001b[0menumerate\u001b[0m\u001b[0;34m(\u001b[0m\u001b[0mdata_loader\u001b[0m\u001b[0;34m)\u001b[0m\u001b[0;34m:\u001b[0m\u001b[0;34m\u001b[0m\u001b[0;34m\u001b[0m\u001b[0m\n\u001b[0m\u001b[1;32m     10\u001b[0m         \u001b[0;31m# Send data to GPU\u001b[0m\u001b[0;34m\u001b[0m\u001b[0;34m\u001b[0m\u001b[0m\n\u001b[1;32m     11\u001b[0m         \u001b[0mX\u001b[0m\u001b[0;34m,\u001b[0m \u001b[0my\u001b[0m \u001b[0;34m=\u001b[0m \u001b[0mX\u001b[0m\u001b[0;34m.\u001b[0m\u001b[0mto\u001b[0m\u001b[0;34m(\u001b[0m\u001b[0mdevice\u001b[0m\u001b[0;34m)\u001b[0m\u001b[0;34m,\u001b[0m \u001b[0my\u001b[0m\u001b[0;34m.\u001b[0m\u001b[0mto\u001b[0m\u001b[0;34m(\u001b[0m\u001b[0mdevice\u001b[0m\u001b[0;34m)\u001b[0m\u001b[0;34m\u001b[0m\u001b[0;34m\u001b[0m\u001b[0m\n",
            "\u001b[0;32m/usr/local/lib/python3.9/dist-packages/torch/utils/data/dataloader.py\u001b[0m in \u001b[0;36m__next__\u001b[0;34m(self)\u001b[0m\n\u001b[1;32m    632\u001b[0m                 \u001b[0;31m# TODO(https://github.com/pytorch/pytorch/issues/76750)\u001b[0m\u001b[0;34m\u001b[0m\u001b[0;34m\u001b[0m\u001b[0m\n\u001b[1;32m    633\u001b[0m                 \u001b[0mself\u001b[0m\u001b[0;34m.\u001b[0m\u001b[0m_reset\u001b[0m\u001b[0;34m(\u001b[0m\u001b[0;34m)\u001b[0m  \u001b[0;31m# type: ignore[call-arg]\u001b[0m\u001b[0;34m\u001b[0m\u001b[0;34m\u001b[0m\u001b[0m\n\u001b[0;32m--> 634\u001b[0;31m             \u001b[0mdata\u001b[0m \u001b[0;34m=\u001b[0m \u001b[0mself\u001b[0m\u001b[0;34m.\u001b[0m\u001b[0m_next_data\u001b[0m\u001b[0;34m(\u001b[0m\u001b[0;34m)\u001b[0m\u001b[0;34m\u001b[0m\u001b[0;34m\u001b[0m\u001b[0m\n\u001b[0m\u001b[1;32m    635\u001b[0m             \u001b[0mself\u001b[0m\u001b[0;34m.\u001b[0m\u001b[0m_num_yielded\u001b[0m \u001b[0;34m+=\u001b[0m \u001b[0;36m1\u001b[0m\u001b[0;34m\u001b[0m\u001b[0;34m\u001b[0m\u001b[0m\n\u001b[1;32m    636\u001b[0m             \u001b[0;32mif\u001b[0m \u001b[0mself\u001b[0m\u001b[0;34m.\u001b[0m\u001b[0m_dataset_kind\u001b[0m \u001b[0;34m==\u001b[0m \u001b[0m_DatasetKind\u001b[0m\u001b[0;34m.\u001b[0m\u001b[0mIterable\u001b[0m \u001b[0;32mand\u001b[0m\u001b[0;31m \u001b[0m\u001b[0;31m\\\u001b[0m\u001b[0;34m\u001b[0m\u001b[0;34m\u001b[0m\u001b[0m\n",
            "\u001b[0;32m/usr/local/lib/python3.9/dist-packages/torch/utils/data/dataloader.py\u001b[0m in \u001b[0;36m_next_data\u001b[0;34m(self)\u001b[0m\n\u001b[1;32m    676\u001b[0m     \u001b[0;32mdef\u001b[0m \u001b[0m_next_data\u001b[0m\u001b[0;34m(\u001b[0m\u001b[0mself\u001b[0m\u001b[0;34m)\u001b[0m\u001b[0;34m:\u001b[0m\u001b[0;34m\u001b[0m\u001b[0;34m\u001b[0m\u001b[0m\n\u001b[1;32m    677\u001b[0m         \u001b[0mindex\u001b[0m \u001b[0;34m=\u001b[0m \u001b[0mself\u001b[0m\u001b[0;34m.\u001b[0m\u001b[0m_next_index\u001b[0m\u001b[0;34m(\u001b[0m\u001b[0;34m)\u001b[0m  \u001b[0;31m# may raise StopIteration\u001b[0m\u001b[0;34m\u001b[0m\u001b[0;34m\u001b[0m\u001b[0m\n\u001b[0;32m--> 678\u001b[0;31m         \u001b[0mdata\u001b[0m \u001b[0;34m=\u001b[0m \u001b[0mself\u001b[0m\u001b[0;34m.\u001b[0m\u001b[0m_dataset_fetcher\u001b[0m\u001b[0;34m.\u001b[0m\u001b[0mfetch\u001b[0m\u001b[0;34m(\u001b[0m\u001b[0mindex\u001b[0m\u001b[0;34m)\u001b[0m  \u001b[0;31m# may raise StopIteration\u001b[0m\u001b[0;34m\u001b[0m\u001b[0;34m\u001b[0m\u001b[0m\n\u001b[0m\u001b[1;32m    679\u001b[0m         \u001b[0;32mif\u001b[0m \u001b[0mself\u001b[0m\u001b[0;34m.\u001b[0m\u001b[0m_pin_memory\u001b[0m\u001b[0;34m:\u001b[0m\u001b[0;34m\u001b[0m\u001b[0;34m\u001b[0m\u001b[0m\n\u001b[1;32m    680\u001b[0m             \u001b[0mdata\u001b[0m \u001b[0;34m=\u001b[0m \u001b[0m_utils\u001b[0m\u001b[0;34m.\u001b[0m\u001b[0mpin_memory\u001b[0m\u001b[0;34m.\u001b[0m\u001b[0mpin_memory\u001b[0m\u001b[0;34m(\u001b[0m\u001b[0mdata\u001b[0m\u001b[0;34m,\u001b[0m \u001b[0mself\u001b[0m\u001b[0;34m.\u001b[0m\u001b[0m_pin_memory_device\u001b[0m\u001b[0;34m)\u001b[0m\u001b[0;34m\u001b[0m\u001b[0;34m\u001b[0m\u001b[0m\n",
            "\u001b[0;32m/usr/local/lib/python3.9/dist-packages/torch/utils/data/_utils/fetch.py\u001b[0m in \u001b[0;36mfetch\u001b[0;34m(self, possibly_batched_index)\u001b[0m\n\u001b[1;32m     49\u001b[0m                 \u001b[0mdata\u001b[0m \u001b[0;34m=\u001b[0m \u001b[0mself\u001b[0m\u001b[0;34m.\u001b[0m\u001b[0mdataset\u001b[0m\u001b[0;34m.\u001b[0m\u001b[0m__getitems__\u001b[0m\u001b[0;34m(\u001b[0m\u001b[0mpossibly_batched_index\u001b[0m\u001b[0;34m)\u001b[0m\u001b[0;34m\u001b[0m\u001b[0;34m\u001b[0m\u001b[0m\n\u001b[1;32m     50\u001b[0m             \u001b[0;32melse\u001b[0m\u001b[0;34m:\u001b[0m\u001b[0;34m\u001b[0m\u001b[0;34m\u001b[0m\u001b[0m\n\u001b[0;32m---> 51\u001b[0;31m                 \u001b[0mdata\u001b[0m \u001b[0;34m=\u001b[0m \u001b[0;34m[\u001b[0m\u001b[0mself\u001b[0m\u001b[0;34m.\u001b[0m\u001b[0mdataset\u001b[0m\u001b[0;34m[\u001b[0m\u001b[0midx\u001b[0m\u001b[0;34m]\u001b[0m \u001b[0;32mfor\u001b[0m \u001b[0midx\u001b[0m \u001b[0;32min\u001b[0m \u001b[0mpossibly_batched_index\u001b[0m\u001b[0;34m]\u001b[0m\u001b[0;34m\u001b[0m\u001b[0;34m\u001b[0m\u001b[0m\n\u001b[0m\u001b[1;32m     52\u001b[0m         \u001b[0;32melse\u001b[0m\u001b[0;34m:\u001b[0m\u001b[0;34m\u001b[0m\u001b[0;34m\u001b[0m\u001b[0m\n\u001b[1;32m     53\u001b[0m             \u001b[0mdata\u001b[0m \u001b[0;34m=\u001b[0m \u001b[0mself\u001b[0m\u001b[0;34m.\u001b[0m\u001b[0mdataset\u001b[0m\u001b[0;34m[\u001b[0m\u001b[0mpossibly_batched_index\u001b[0m\u001b[0;34m]\u001b[0m\u001b[0;34m\u001b[0m\u001b[0;34m\u001b[0m\u001b[0m\n",
            "\u001b[0;32m/usr/local/lib/python3.9/dist-packages/torch/utils/data/_utils/fetch.py\u001b[0m in \u001b[0;36m<listcomp>\u001b[0;34m(.0)\u001b[0m\n\u001b[1;32m     49\u001b[0m                 \u001b[0mdata\u001b[0m \u001b[0;34m=\u001b[0m \u001b[0mself\u001b[0m\u001b[0;34m.\u001b[0m\u001b[0mdataset\u001b[0m\u001b[0;34m.\u001b[0m\u001b[0m__getitems__\u001b[0m\u001b[0;34m(\u001b[0m\u001b[0mpossibly_batched_index\u001b[0m\u001b[0;34m)\u001b[0m\u001b[0;34m\u001b[0m\u001b[0;34m\u001b[0m\u001b[0m\n\u001b[1;32m     50\u001b[0m             \u001b[0;32melse\u001b[0m\u001b[0;34m:\u001b[0m\u001b[0;34m\u001b[0m\u001b[0;34m\u001b[0m\u001b[0m\n\u001b[0;32m---> 51\u001b[0;31m                 \u001b[0mdata\u001b[0m \u001b[0;34m=\u001b[0m \u001b[0;34m[\u001b[0m\u001b[0mself\u001b[0m\u001b[0;34m.\u001b[0m\u001b[0mdataset\u001b[0m\u001b[0;34m[\u001b[0m\u001b[0midx\u001b[0m\u001b[0;34m]\u001b[0m \u001b[0;32mfor\u001b[0m \u001b[0midx\u001b[0m \u001b[0;32min\u001b[0m \u001b[0mpossibly_batched_index\u001b[0m\u001b[0;34m]\u001b[0m\u001b[0;34m\u001b[0m\u001b[0;34m\u001b[0m\u001b[0m\n\u001b[0m\u001b[1;32m     52\u001b[0m         \u001b[0;32melse\u001b[0m\u001b[0;34m:\u001b[0m\u001b[0;34m\u001b[0m\u001b[0;34m\u001b[0m\u001b[0m\n\u001b[1;32m     53\u001b[0m             \u001b[0mdata\u001b[0m \u001b[0;34m=\u001b[0m \u001b[0mself\u001b[0m\u001b[0;34m.\u001b[0m\u001b[0mdataset\u001b[0m\u001b[0;34m[\u001b[0m\u001b[0mpossibly_batched_index\u001b[0m\u001b[0;34m]\u001b[0m\u001b[0;34m\u001b[0m\u001b[0;34m\u001b[0m\u001b[0m\n",
            "\u001b[0;32m<ipython-input-17-ceb025964772>\u001b[0m in \u001b[0;36m__getitem__\u001b[0;34m(self, idx)\u001b[0m\n\u001b[1;32m     18\u001b[0m \u001b[0;34m\u001b[0m\u001b[0m\n\u001b[1;32m     19\u001b[0m     \u001b[0;32mdef\u001b[0m \u001b[0m__getitem__\u001b[0m\u001b[0;34m(\u001b[0m\u001b[0mself\u001b[0m\u001b[0;34m,\u001b[0m \u001b[0midx\u001b[0m\u001b[0;34m)\u001b[0m\u001b[0;34m:\u001b[0m\u001b[0;34m\u001b[0m\u001b[0;34m\u001b[0m\u001b[0m\n\u001b[0;32m---> 20\u001b[0;31m         \u001b[0mimage\u001b[0m\u001b[0;34m,\u001b[0m \u001b[0mclass_name\u001b[0m \u001b[0;34m=\u001b[0m \u001b[0mself\u001b[0m\u001b[0;34m.\u001b[0m\u001b[0mget_image_class\u001b[0m\u001b[0;34m(\u001b[0m\u001b[0midx\u001b[0m\u001b[0;34m)\u001b[0m\u001b[0;34m\u001b[0m\u001b[0;34m\u001b[0m\u001b[0m\n\u001b[0m\u001b[1;32m     21\u001b[0m         \u001b[0mlabel\u001b[0m \u001b[0;34m=\u001b[0m \u001b[0mself\u001b[0m\u001b[0;34m.\u001b[0m\u001b[0mclass_to_idx\u001b[0m\u001b[0;34m[\u001b[0m\u001b[0mclass_name\u001b[0m\u001b[0;34m]\u001b[0m\u001b[0;34m\u001b[0m\u001b[0;34m\u001b[0m\u001b[0m\n\u001b[1;32m     22\u001b[0m \u001b[0;34m\u001b[0m\u001b[0m\n",
            "\u001b[0;32m<ipython-input-17-ceb025964772>\u001b[0m in \u001b[0;36mget_image_class\u001b[0;34m(self, index)\u001b[0m\n\u001b[1;32m     15\u001b[0m         \u001b[0mimage_path\u001b[0m \u001b[0;34m=\u001b[0m \u001b[0mself\u001b[0m\u001b[0;34m.\u001b[0m\u001b[0mmura\u001b[0m\u001b[0;34m.\u001b[0m\u001b[0miloc\u001b[0m\u001b[0;34m[\u001b[0m\u001b[0mindex\u001b[0m\u001b[0;34m]\u001b[0m\u001b[0;34m[\u001b[0m\u001b[0;34m'image_path'\u001b[0m\u001b[0;34m]\u001b[0m\u001b[0;34m\u001b[0m\u001b[0;34m\u001b[0m\u001b[0m\n\u001b[1;32m     16\u001b[0m         \u001b[0mclass_name\u001b[0m \u001b[0;34m=\u001b[0m \u001b[0mself\u001b[0m\u001b[0;34m.\u001b[0m\u001b[0mmura\u001b[0m\u001b[0;34m.\u001b[0m\u001b[0miloc\u001b[0m\u001b[0;34m[\u001b[0m\u001b[0mindex\u001b[0m\u001b[0;34m]\u001b[0m\u001b[0;34m[\u001b[0m\u001b[0;34m'target'\u001b[0m\u001b[0;34m]\u001b[0m\u001b[0;34m\u001b[0m\u001b[0;34m\u001b[0m\u001b[0m\n\u001b[0;32m---> 17\u001b[0;31m         \u001b[0;32mreturn\u001b[0m \u001b[0mImage\u001b[0m\u001b[0;34m.\u001b[0m\u001b[0mopen\u001b[0m\u001b[0;34m(\u001b[0m\u001b[0mimage_path\u001b[0m\u001b[0;34m)\u001b[0m\u001b[0;34m,\u001b[0m \u001b[0mclass_name\u001b[0m\u001b[0;34m\u001b[0m\u001b[0;34m\u001b[0m\u001b[0m\n\u001b[0m\u001b[1;32m     18\u001b[0m \u001b[0;34m\u001b[0m\u001b[0m\n\u001b[1;32m     19\u001b[0m     \u001b[0;32mdef\u001b[0m \u001b[0m__getitem__\u001b[0m\u001b[0;34m(\u001b[0m\u001b[0mself\u001b[0m\u001b[0;34m,\u001b[0m \u001b[0midx\u001b[0m\u001b[0;34m)\u001b[0m\u001b[0;34m:\u001b[0m\u001b[0;34m\u001b[0m\u001b[0;34m\u001b[0m\u001b[0m\n",
            "\u001b[0;32m/usr/local/lib/python3.9/dist-packages/PIL/Image.py\u001b[0m in \u001b[0;36mopen\u001b[0;34m(fp, mode, formats)\u001b[0m\n\u001b[1;32m   2982\u001b[0m         \u001b[0mexclusive_fp\u001b[0m \u001b[0;34m=\u001b[0m \u001b[0;32mTrue\u001b[0m\u001b[0;34m\u001b[0m\u001b[0;34m\u001b[0m\u001b[0m\n\u001b[1;32m   2983\u001b[0m \u001b[0;34m\u001b[0m\u001b[0m\n\u001b[0;32m-> 2984\u001b[0;31m     \u001b[0mprefix\u001b[0m \u001b[0;34m=\u001b[0m \u001b[0mfp\u001b[0m\u001b[0;34m.\u001b[0m\u001b[0mread\u001b[0m\u001b[0;34m(\u001b[0m\u001b[0;36m16\u001b[0m\u001b[0;34m)\u001b[0m\u001b[0;34m\u001b[0m\u001b[0;34m\u001b[0m\u001b[0m\n\u001b[0m\u001b[1;32m   2985\u001b[0m \u001b[0;34m\u001b[0m\u001b[0m\n\u001b[1;32m   2986\u001b[0m     \u001b[0mpreinit\u001b[0m\u001b[0;34m(\u001b[0m\u001b[0;34m)\u001b[0m\u001b[0;34m\u001b[0m\u001b[0;34m\u001b[0m\u001b[0m\n",
            "\u001b[0;31mKeyboardInterrupt\u001b[0m: "
          ]
        }
      ]
    },
    {
      "cell_type": "markdown",
      "source": [
        "### Wrist"
      ],
      "metadata": {
        "id": "DFMLh6h0eIWU"
      }
    },
    {
      "cell_type": "code",
      "source": [
        "# create wrist base model and move to device\n",
        "torch.manual_seed(seed)\n",
        "\n",
        "wrist_base_model = base_model(input_shape=1, \n",
        "    hidden_units=10, \n",
        "    output_shape=len(wrist_test_dataset.classes)).to(device)\n",
        "\n",
        "optimizer_base_model = set_optimizer(wrist_base_model)\n",
        "\n",
        "wrist_base_model"
      ],
      "metadata": {
        "colab": {
          "base_uri": "https://localhost:8080/"
        },
        "id": "uR_T4_ufiDb6",
        "outputId": "5b45b94b-f908-470f-db6a-115c849e241f"
      },
      "execution_count": null,
      "outputs": [
        {
          "output_type": "execute_result",
          "data": {
            "text/plain": [
              "base_model(\n",
              "  (block_1): Sequential(\n",
              "    (0): Conv2d(1, 10, kernel_size=(3, 3), stride=(1, 1), padding=(1, 1))\n",
              "    (1): ReLU()\n",
              "    (2): Conv2d(10, 10, kernel_size=(3, 3), stride=(1, 1), padding=(1, 1))\n",
              "    (3): ReLU()\n",
              "    (4): MaxPool2d(kernel_size=2, stride=2, padding=0, dilation=1, ceil_mode=False)\n",
              "  )\n",
              "  (block_2): Sequential(\n",
              "    (0): Conv2d(10, 10, kernel_size=(3, 3), stride=(1, 1), padding=(1, 1))\n",
              "    (1): ReLU()\n",
              "    (2): Conv2d(10, 10, kernel_size=(3, 3), stride=(1, 1), padding=(1, 1))\n",
              "    (3): ReLU()\n",
              "    (4): MaxPool2d(kernel_size=2, stride=2, padding=0, dilation=1, ceil_mode=False)\n",
              "  )\n",
              "  (classifier): Sequential(\n",
              "    (0): Flatten(start_dim=1, end_dim=-1)\n",
              "    (1): Linear(in_features=31360, out_features=2, bias=True)\n",
              "  )\n",
              ")"
            ]
          },
          "metadata": {},
          "execution_count": 40
        }
      ]
    },
    {
      "cell_type": "code",
      "source": [
        "# train and test wrist base model\n",
        "run_model(train_data_loader=wrist_train_dataloader, test_data_loader=wrist_test_dataloader,\n",
        "          model=wrist_base_model, loss_fn=loss_fn_base_model, optimizer=optimizer_base_model, accuracy_fn=accuracy_fn,\n",
        "          epochs=epochs_base_model)"
      ],
      "metadata": {
        "id": "N1djn5P0iDVv"
      },
      "execution_count": null,
      "outputs": []
    },
    {
      "cell_type": "markdown",
      "source": [
        "### Forearm"
      ],
      "metadata": {
        "id": "8eeznWeEeINX"
      }
    },
    {
      "cell_type": "code",
      "source": [
        "# create forearm base model and move to device\n",
        "torch.manual_seed(seed)\n",
        "\n",
        "forearm_base_model = base_model(input_shape=1, \n",
        "    hidden_units=10, \n",
        "    output_shape=len(forearm_test_dataset.classes)).to(device)\n",
        "\n",
        "optimizer_base_model = set_optimizer(forearm_base_model)\n",
        "\n",
        "forearm_base_model"
      ],
      "metadata": {
        "id": "9w3zkc-6iEQF"
      },
      "execution_count": null,
      "outputs": []
    },
    {
      "cell_type": "code",
      "source": [
        "# train and test forearm base model\n",
        "run_model(train_data_loader=forearm_train_dataloader, test_data_loader=forearm_test_dataloader,\n",
        "          model=forearm_base_model, loss_fn=loss_fn_base_model, optimizer=optimizer_base_model, accuracy_fn=accuracy_fn,\n",
        "          epochs=epochs_base_model)"
      ],
      "metadata": {
        "id": "KCIVfj6JiEM2"
      },
      "execution_count": null,
      "outputs": []
    },
    {
      "cell_type": "markdown",
      "source": [
        "### Hand"
      ],
      "metadata": {
        "id": "wbtIRFz2eIGg"
      }
    },
    {
      "cell_type": "code",
      "source": [
        "# create hand base model and move to device\n",
        "torch.manual_seed(seed)\n",
        "\n",
        "hand_base_model = base_model(input_shape=1, \n",
        "    hidden_units=10, \n",
        "    output_shape=len(hand_test_dataset.classes)).to(device)\n",
        "\n",
        "optimizer_base_model = set_optimizer(hand_base_model)\n",
        "\n",
        "hand_base_model"
      ],
      "metadata": {
        "id": "lxF0WrzOiFax"
      },
      "execution_count": null,
      "outputs": []
    },
    {
      "cell_type": "code",
      "source": [
        "# train and test hand base model\n",
        "run_model(train_data_loader=hand_train_dataloader, test_data_loader=hand_test_dataloader,\n",
        "          model=hand_base_model, loss_fn=loss_fn_base_model, optimizer=optimizer_base_model, accuracy_fn=accuracy_fn,\n",
        "          epochs=epochs_base_model)"
      ],
      "metadata": {
        "id": "-G4tg0JFiFX5"
      },
      "execution_count": null,
      "outputs": []
    },
    {
      "cell_type": "markdown",
      "source": [
        "### Humerus"
      ],
      "metadata": {
        "id": "5pkhLI6oeH33"
      }
    },
    {
      "cell_type": "code",
      "source": [
        "# create humerus base model and move to device\n",
        "torch.manual_seed(seed)\n",
        "\n",
        "humerus_base_model = base_model(input_shape=1, \n",
        "    hidden_units=10, \n",
        "    output_shape=len(humerus_test_dataset.classes)).to(device)\n",
        "\n",
        "optimizer_base_model = set_optimizer(humerus_base_model)\n",
        "\n",
        "humerus_base_model"
      ],
      "metadata": {
        "colab": {
          "base_uri": "https://localhost:8080/"
        },
        "id": "daLHORzPiGvu",
        "outputId": "e2e82379-14ce-440b-cd78-c1b894630492"
      },
      "execution_count": null,
      "outputs": [
        {
          "output_type": "execute_result",
          "data": {
            "text/plain": [
              "base_model(\n",
              "  (block_1): Sequential(\n",
              "    (0): Conv2d(1, 10, kernel_size=(3, 3), stride=(1, 1), padding=(1, 1))\n",
              "    (1): ReLU()\n",
              "    (2): Conv2d(10, 10, kernel_size=(3, 3), stride=(1, 1), padding=(1, 1))\n",
              "    (3): ReLU()\n",
              "    (4): MaxPool2d(kernel_size=2, stride=2, padding=0, dilation=1, ceil_mode=False)\n",
              "  )\n",
              "  (block_2): Sequential(\n",
              "    (0): Conv2d(10, 10, kernel_size=(3, 3), stride=(1, 1), padding=(1, 1))\n",
              "    (1): ReLU()\n",
              "    (2): Conv2d(10, 10, kernel_size=(3, 3), stride=(1, 1), padding=(1, 1))\n",
              "    (3): ReLU()\n",
              "    (4): MaxPool2d(kernel_size=2, stride=2, padding=0, dilation=1, ceil_mode=False)\n",
              "  )\n",
              "  (classifier): Sequential(\n",
              "    (0): Flatten(start_dim=1, end_dim=-1)\n",
              "    (1): Linear(in_features=40960, out_features=2, bias=True)\n",
              "  )\n",
              ")"
            ]
          },
          "metadata": {},
          "execution_count": 138
        }
      ]
    },
    {
      "cell_type": "code",
      "source": [
        "# train and test humerus base model\n",
        "run_model(train_data_loader=humerus_train_dataloader, test_data_loader=humerus_test_dataloader,\n",
        "          model=humerus_base_model, loss_fn=loss_fn_base_model, optimizer=optimizer_base_model, accuracy_fn=accuracy_fn,\n",
        "          epochs=epochs_base_model)"
      ],
      "metadata": {
        "id": "USgTHdxIiGsU"
      },
      "execution_count": null,
      "outputs": []
    },
    {
      "cell_type": "markdown",
      "source": [
        "### Shoulder"
      ],
      "metadata": {
        "id": "ci2MC7BWeHuw"
      }
    },
    {
      "cell_type": "code",
      "source": [
        "# create shoulder base model and move to device\n",
        "torch.manual_seed(seed)\n",
        "\n",
        "shoulder_base_model = base_model(input_shape=1, \n",
        "    hidden_units=10, \n",
        "    output_shape=len(shoulder_test_dataset.classes)).to(device)\n",
        "\n",
        "optimizer_base_model = set_optimizer(shoulder_base_model)\n",
        "\n",
        "shoulder_base_model"
      ],
      "metadata": {
        "colab": {
          "base_uri": "https://localhost:8080/"
        },
        "id": "Y4xC9p-fiHk9",
        "outputId": "b86596ea-e566-4eef-f562-0d04e513a585"
      },
      "execution_count": null,
      "outputs": [
        {
          "output_type": "execute_result",
          "data": {
            "text/plain": [
              "base_model(\n",
              "  (block_1): Sequential(\n",
              "    (0): Conv2d(1, 10, kernel_size=(3, 3), stride=(1, 1), padding=(1, 1))\n",
              "    (1): ReLU()\n",
              "    (2): Conv2d(10, 10, kernel_size=(3, 3), stride=(1, 1), padding=(1, 1))\n",
              "    (3): ReLU()\n",
              "    (4): MaxPool2d(kernel_size=2, stride=2, padding=0, dilation=1, ceil_mode=False)\n",
              "  )\n",
              "  (block_2): Sequential(\n",
              "    (0): Conv2d(10, 10, kernel_size=(3, 3), stride=(1, 1), padding=(1, 1))\n",
              "    (1): ReLU()\n",
              "    (2): Conv2d(10, 10, kernel_size=(3, 3), stride=(1, 1), padding=(1, 1))\n",
              "    (3): ReLU()\n",
              "    (4): MaxPool2d(kernel_size=2, stride=2, padding=0, dilation=1, ceil_mode=False)\n",
              "  )\n",
              "  (classifier): Sequential(\n",
              "    (0): Flatten(start_dim=1, end_dim=-1)\n",
              "    (1): Linear(in_features=40960, out_features=2, bias=True)\n",
              "  )\n",
              ")"
            ]
          },
          "metadata": {},
          "execution_count": 149
        }
      ]
    },
    {
      "cell_type": "code",
      "source": [
        "# train and test shoulder base model\n",
        "run_model(train_data_loader=shoulder_train_dataloader, test_data_loader=shoulder_test_dataloader,\n",
        "          model=shoulder_base_model, loss_fn=loss_fn_base_model, optimizer=optimizer_base_model, accuracy_fn=accuracy_fn,\n",
        "          epochs=epochs_base_model)"
      ],
      "metadata": {
        "id": "-TkAEMo9iHht"
      },
      "execution_count": null,
      "outputs": []
    },
    {
      "cell_type": "markdown",
      "source": [
        "### Elbow"
      ],
      "metadata": {
        "id": "Lz1LDlNLeEEV"
      }
    },
    {
      "cell_type": "code",
      "source": [
        "elbow_base_model.parameters"
      ],
      "metadata": {
        "colab": {
          "base_uri": "https://localhost:8080/"
        },
        "id": "zRfBAhuSXg0K",
        "outputId": "f2273a0f-5e3b-4bbb-a6ca-7b502e96436a"
      },
      "execution_count": null,
      "outputs": [
        {
          "output_type": "execute_result",
          "data": {
            "text/plain": [
              "<bound method Module.parameters of base_model(\n",
              "  (block_1): Sequential(\n",
              "    (0): Conv2d(1, 10, kernel_size=(3, 3), stride=(1, 1), padding=(1, 1))\n",
              "    (1): ReLU()\n",
              "    (2): Conv2d(10, 10, kernel_size=(3, 3), stride=(1, 1), padding=(1, 1))\n",
              "    (3): ReLU()\n",
              "    (4): MaxPool2d(kernel_size=2, stride=2, padding=0, dilation=1, ceil_mode=False)\n",
              "  )\n",
              "  (block_2): Sequential(\n",
              "    (0): Conv2d(10, 10, kernel_size=(3, 3), stride=(1, 1), padding=(1, 1))\n",
              "    (1): ReLU()\n",
              "    (2): Conv2d(10, 10, kernel_size=(3, 3), stride=(1, 1), padding=(1, 1))\n",
              "    (3): ReLU()\n",
              "    (4): MaxPool2d(kernel_size=2, stride=2, padding=0, dilation=1, ceil_mode=False)\n",
              "  )\n",
              "  (classifier): Sequential(\n",
              "    (0): Flatten(start_dim=1, end_dim=-1)\n",
              "    (1): Linear(in_features=40960, out_features=2, bias=True)\n",
              "  )\n",
              ")>"
            ]
          },
          "metadata": {},
          "execution_count": 44
        }
      ]
    },
    {
      "cell_type": "code",
      "source": [
        "# create wrist base elbow and move to device\n",
        "torch.manual_seed(3)\n",
        "\n",
        "elbow_base_model = base_model(input_shape=50176, \n",
        "    hidden_units=10, \n",
        "    output_shape=len(elbow_test_dataset.classes)).to(device)\n",
        "\n",
        "optimizer_base_model = set_optimizer(elbow_base_model)\n",
        "\n",
        "elbow_base_model"
      ],
      "metadata": {
        "colab": {
          "base_uri": "https://localhost:8080/"
        },
        "id": "ctFunKQ1NTOE",
        "outputId": "92b8ec68-6553-47b1-f837-8b3bd22b8e3d"
      },
      "execution_count": null,
      "outputs": [
        {
          "output_type": "execute_result",
          "data": {
            "text/plain": [
              "base_model(\n",
              "  (block_1): Sequential(\n",
              "    (0): Conv2d(50176, 10, kernel_size=(3, 3), stride=(1, 1), padding=(1, 1))\n",
              "    (1): ReLU()\n",
              "    (2): Conv2d(10, 10, kernel_size=(3, 3), stride=(1, 1), padding=(1, 1))\n",
              "    (3): ReLU()\n",
              "    (4): MaxPool2d(kernel_size=2, stride=2, padding=0, dilation=1, ceil_mode=False)\n",
              "  )\n",
              "  (block_2): Sequential(\n",
              "    (0): Conv2d(10, 10, kernel_size=(3, 3), stride=(1, 1), padding=(1, 1))\n",
              "    (1): ReLU()\n",
              "    (2): Conv2d(10, 10, kernel_size=(3, 3), stride=(1, 1), padding=(1, 1))\n",
              "    (3): ReLU()\n",
              "    (4): MaxPool2d(kernel_size=2, stride=2, padding=0, dilation=1, ceil_mode=False)\n",
              "  )\n",
              "  (classifier): Sequential(\n",
              "    (0): Flatten(start_dim=1, end_dim=-1)\n",
              "    (1): Linear(in_features=40960, out_features=2, bias=True)\n",
              "  )\n",
              ")"
            ]
          },
          "metadata": {},
          "execution_count": 45
        }
      ]
    },
    {
      "cell_type": "code",
      "source": [
        "# train and test elbow base model\n",
        "run_model(train_data_loader=elbow_train_dataloader, test_data_loader=elbow_test_dataloader,\n",
        "          model=elbow_base_model, loss_fn=loss_fn_base_model, optimizer=optimizer_base_model, accuracy_fn=accuracy_fn,\n",
        "          epochs=epochs_base_model)"
      ],
      "metadata": {
        "id": "Ib6E5AdwOnPW"
      },
      "execution_count": null,
      "outputs": []
    },
    {
      "cell_type": "markdown",
      "source": [
        "Elbow With batch size = 1\n",
        " \n",
        "  0%|          | 0/3 [00:00<?, ?it/s]Epoch: 0\n",
        "---------\n",
        "Train loss: 2927377804200474425950208.00000 | Train accuracy: 57.96%\n",
        " 33%|███▎      | 1/3 [1:32:51<3:05:42, 5571.33s/it]Test loss: 0.68236 | Test accuracy: 59.32%\n",
        "\n",
        "Epoch: 1\n",
        "---------\n",
        "Train loss: 0.68688 | Train accuracy: 57.41%\n",
        " 67%|██████▋   | 2/3 [1:34:09<39:00, 2340.27s/it]  Test loss: 0.70821 | Test accuracy: 59.32%\n",
        "\n",
        "Epoch: 2\n",
        "---------\n",
        "Train loss: 0.68935 | Train accuracy: 57.70%\n",
        "100%|██████████| 3/3 [1:35:26<00:00, 1908.91s/it]Test loss: 0.71157 | Test accuracy: 40.68%\n",
        "\n"
      ],
      "metadata": {
        "id": "EBNgL3ucCTxo"
      }
    },
    {
      "cell_type": "markdown",
      "source": [
        "Elbow With batch size = 32\n",
        "\n",
        "0%|          | 0/3 [00:00<?, ?it/s]Epoch: 0\n",
        "---------\n",
        "Train loss: 0.67527 | Train accuracy: 59.56%\n",
        " 33%|███▎      | 1/3 [19:56<39:53, 1196.83s/it]Test loss: 0.67626 | Test accuracy: 59.36%\n",
        "\n",
        "Epoch: 1\n",
        "---------\n",
        "Train loss: 0.67621 | Train accuracy: 59.36%\n",
        " 67%|██████▋   | 2/3 [21:01<08:50, 530.74s/it] Test loss: 0.67643 | Test accuracy: 59.17%\n",
        "\n",
        "Epoch: 2\n",
        "---------\n",
        "Train loss: 0.67608 | Train accuracy: 59.36%\n",
        "100%|██████████| 3/3 [22:04<00:00, 441.58s/it]Test loss: 0.67713 | Test accuracy: 58.97%\n",
        "\n",
        "\n",
        "Train time on cuda: 22.079 minutes\n"
      ],
      "metadata": {
        "id": "dKp6RKk1CTmp"
      }
    },
    {
      "cell_type": "markdown",
      "source": [
        "### Finger"
      ],
      "metadata": {
        "id": "6dVZbS5ogzLe"
      }
    },
    {
      "cell_type": "code",
      "source": [
        "# create finger base model and move to device\n",
        "torch.manual_seed(seed)\n",
        "\n",
        "finger_base_model = base_model(input_shape=1, \n",
        "    hidden_units=10, \n",
        "    output_shape=len(finger_test_dataset.classes)).to(device)\n",
        "\n",
        "optimizer_base_model = set_optimizer(finger_base_model)\n",
        "\n",
        "finger_base_model"
      ],
      "metadata": {
        "colab": {
          "base_uri": "https://localhost:8080/"
        },
        "id": "VNn-Oy9GiI3U",
        "outputId": "966bc297-ab1f-42c0-f032-8fac202af590"
      },
      "execution_count": null,
      "outputs": [
        {
          "output_type": "execute_result",
          "data": {
            "text/plain": [
              "base_model(\n",
              "  (block_1): Sequential(\n",
              "    (0): Conv2d(1, 10, kernel_size=(3, 3), stride=(1, 1), padding=(1, 1))\n",
              "    (1): ReLU()\n",
              "    (2): Conv2d(10, 10, kernel_size=(3, 3), stride=(1, 1), padding=(1, 1))\n",
              "    (3): ReLU()\n",
              "    (4): MaxPool2d(kernel_size=2, stride=2, padding=0, dilation=1, ceil_mode=False)\n",
              "  )\n",
              "  (block_2): Sequential(\n",
              "    (0): Conv2d(10, 10, kernel_size=(3, 3), stride=(1, 1), padding=(1, 1))\n",
              "    (1): ReLU()\n",
              "    (2): Conv2d(10, 10, kernel_size=(3, 3), stride=(1, 1), padding=(1, 1))\n",
              "    (3): ReLU()\n",
              "    (4): MaxPool2d(kernel_size=2, stride=2, padding=0, dilation=1, ceil_mode=False)\n",
              "  )\n",
              "  (classifier): Sequential(\n",
              "    (0): Flatten(start_dim=1, end_dim=-1)\n",
              "    (1): Linear(in_features=40960, out_features=2, bias=True)\n",
              "  )\n",
              ")"
            ]
          },
          "metadata": {},
          "execution_count": 139
        }
      ]
    },
    {
      "cell_type": "code",
      "source": [
        "# train and test finger base model\n",
        "run_model(train_data_loader=finger_train_dataloader, test_data_loader=finger_test_dataloader,\n",
        "          model=finger_base_model, loss_fn=loss_fn_base_model, optimizer=optimizer_base_model, accuracy_fn=accuracy_fn,\n",
        "          epochs=epochs_base_model)"
      ],
      "metadata": {
        "id": "BFpPoKqoiI0I"
      },
      "execution_count": null,
      "outputs": []
    },
    {
      "cell_type": "markdown",
      "source": [
        "# Vision Transfomer"
      ],
      "metadata": {
        "id": "jn_3VhpYId3w"
      }
    },
    {
      "cell_type": "markdown",
      "source": [
        "https://huggingface.co/blog/fine-tune-vit\n",
        "\n",
        " https://www.learnpytorch.io/04_pytorch_custom_datasets/#41-turn-loaded-images-into-dataloaders"
      ],
      "metadata": {
        "id": "WIuZKeMFJHde"
      }
    },
    {
      "cell_type": "code",
      "source": [
        "#pre_trained model we are using\n",
        "# Vision Transformer (ViT) model pre-trained on ImageNet-21k \n",
        "# (14 million images, 21,843 classes) at resolution 224x224.\n",
        "model_name_or_path = 'google/vit-base-patch16-224-in21k'"
      ],
      "metadata": {
        "id": "ZiZu6r3kp-JU"
      },
      "execution_count": 39,
      "outputs": []
    },
    {
      "cell_type": "markdown",
      "source": [
        "Images are resized/rescaled to the same resolution (224x224) and normalized across the RGB channels with mean (0.5, 0.5, 0.5) and standard deviation (0.5, 0.5, 0.5)."
      ],
      "metadata": {
        "id": "zNI0VXqcJEwf"
      }
    },
    {
      "cell_type": "code",
      "source": [
        "feature_extractor = ViTImageProcessor.from_pretrained(model_name_or_path)\n",
        "feature_extractor"
      ],
      "metadata": {
        "id": "ZSRuN8Cj2HDt",
        "colab": {
          "base_uri": "https://localhost:8080/"
        },
        "outputId": "fe348d92-35c7-4e3b-b504-e4fea275b368"
      },
      "execution_count": 40,
      "outputs": [
        {
          "output_type": "execute_result",
          "data": {
            "text/plain": [
              "ViTImageProcessor {\n",
              "  \"do_normalize\": true,\n",
              "  \"do_rescale\": true,\n",
              "  \"do_resize\": true,\n",
              "  \"image_mean\": [\n",
              "    0.5,\n",
              "    0.5,\n",
              "    0.5\n",
              "  ],\n",
              "  \"image_processor_type\": \"ViTImageProcessor\",\n",
              "  \"image_std\": [\n",
              "    0.5,\n",
              "    0.5,\n",
              "    0.5\n",
              "  ],\n",
              "  \"resample\": 2,\n",
              "  \"rescale_factor\": 0.00392156862745098,\n",
              "  \"size\": {\n",
              "    \"height\": 224,\n",
              "    \"width\": 224\n",
              "  }\n",
              "}"
            ]
          },
          "metadata": {},
          "execution_count": 40
        }
      ]
    },
    {
      "cell_type": "markdown",
      "source": [
        "## Create Custom Datasets"
      ],
      "metadata": {
        "id": "X-yUkmJisPxJ"
      }
    },
    {
      "cell_type": "code",
      "source": [
        "# need to make images 3 channel for conform with pre trained model\n",
        "ViT_transform = transforms.Compose([transforms.Grayscale(num_output_channels=3),\n",
        "                                             transforms.ToTensor()\n",
        "                                             ])"
      ],
      "metadata": {
        "id": "JQC4UFkDki1K"
      },
      "execution_count": 41,
      "outputs": []
    },
    {
      "cell_type": "code",
      "source": [
        "#create custom dataset class to make our MURA dataset work with the pre-trained ViT\n",
        "class ViT_MuraDataset(Dataset):\n",
        "    def __init__(self, mura_df, two_targets, transform = ViT_transform, model_name_or_path=model_name_or_path):\n",
        "        self.mura = mura_df\n",
        "        self.transform = transform\n",
        "        self.classes, self.class_to_idx = class_dict(two_targets=two_targets)\n",
        "        #pre-process image like pre_trained model\n",
        "        self.feature_extractor = ViTFeatureExtractor.from_pretrained(model_name_or_path)\n",
        "        #self.feature_extractor = ViTImageProcessor.from_pretrained(model_name_or_path)\n",
        "\n",
        "    def __len__(self):\n",
        "        return len(self.mura)\n",
        "\n",
        "    def get_image_class(self, index):\n",
        "        image_path = self.mura.iloc[index]['image_path']\n",
        "        class_name = self.mura.iloc[index]['target']\n",
        "        #return read_image(image_path), class_name\n",
        "        return Image.open(image_path), class_name  \n",
        "\n",
        "    # helper function to preprocess image and make image label form for model\n",
        "    def process_example(self, example, label):\n",
        "      inputs = self.feature_extractor(example, return_tensors='pt')\n",
        "      # did not want batches in pixel_values as we will collate_fn values ourselves\n",
        "      inputs['pixel_values'] = torch.squeeze(inputs['pixel_values'])\n",
        "      inputs['labels'] = label\n",
        "      return inputs\n",
        "\n",
        "    def __getitem__(self, idx):\n",
        "        image, class_name = self.get_image_class(idx)\n",
        "        image = self.transform(image)\n",
        "        label = self.class_to_idx[class_name]\n",
        "        return self.process_example(example=image,label=label)\n"
      ],
      "metadata": {
        "id": "2pH5139P5eKd"
      },
      "execution_count": 42,
      "outputs": []
    },
    {
      "cell_type": "code",
      "source": [
        "# create ViT test and train datasets for 14 targets\n",
        "ViT_mura_train_14_dataset = ViT_MuraDataset(mura_df = mura_train_14, two_targets=False)\n",
        "ViT_mura_test_14_dataset = ViT_MuraDataset(mura_df = mura_test_14, two_targets=False)"
      ],
      "metadata": {
        "id": "w9ofsZwV29_z",
        "colab": {
          "base_uri": "https://localhost:8080/"
        },
        "outputId": "dd3d43f2-45cb-4eaf-987f-a4e59e4f3bd8"
      },
      "execution_count": 43,
      "outputs": [
        {
          "output_type": "stream",
          "name": "stderr",
          "text": [
            "/usr/local/lib/python3.9/dist-packages/transformers/models/vit/feature_extraction_vit.py:28: FutureWarning: The class ViTFeatureExtractor is deprecated and will be removed in version 5 of Transformers. Please use ViTImageProcessor instead.\n",
            "  warnings.warn(\n"
          ]
        }
      ]
    },
    {
      "cell_type": "code",
      "source": [
        "# create subset of ViT test and train datasets for 14 targets\n",
        "ViT_mura_train_14_subset, ViT_mura_test_14_subset = mura_sample(two_variables = False, vit=True)\n",
        "ViT_mura_train_subset, ViT_mura_test_subset = mura_sample(vit=True)"
      ],
      "metadata": {
        "id": "i1wfgRuVxsoM",
        "outputId": "4c82ac9d-6dd8-43e4-910c-15b400baa5de",
        "colab": {
          "base_uri": "https://localhost:8080/"
        }
      },
      "execution_count": 135,
      "outputs": [
        {
          "output_type": "stream",
          "name": "stderr",
          "text": [
            "/usr/local/lib/python3.9/dist-packages/transformers/models/vit/feature_extraction_vit.py:28: FutureWarning: The class ViTFeatureExtractor is deprecated and will be removed in version 5 of Transformers. Please use ViTImageProcessor instead.\n",
            "  warnings.warn(\n",
            "/usr/local/lib/python3.9/dist-packages/transformers/models/vit/feature_extraction_vit.py:28: FutureWarning: The class ViTFeatureExtractor is deprecated and will be removed in version 5 of Transformers. Please use ViTImageProcessor instead.\n",
            "  warnings.warn(\n"
          ]
        }
      ]
    },
    {
      "cell_type": "code",
      "source": [
        "print(len(ViT_mura_train_14_subset))"
      ],
      "metadata": {
        "id": "NvEOrn5RyBFB",
        "outputId": "53e6020b-6caf-4c72-9f6a-51583a17c813",
        "colab": {
          "base_uri": "https://localhost:8080/"
        }
      },
      "execution_count": 45,
      "outputs": [
        {
          "output_type": "stream",
          "name": "stdout",
          "text": [
            "3164\n"
          ]
        }
      ]
    },
    {
      "cell_type": "code",
      "source": [
        "ViT_mura_train_14_dataset[0]['pixel_values'].shape"
      ],
      "metadata": {
        "colab": {
          "base_uri": "https://localhost:8080/"
        },
        "id": "MiECfWer3blg",
        "outputId": "e986194c-336d-4bcf-8335-143a2b978f3d"
      },
      "execution_count": 46,
      "outputs": [
        {
          "output_type": "execute_result",
          "data": {
            "text/plain": [
              "torch.Size([3, 224, 224])"
            ]
          },
          "metadata": {},
          "execution_count": 46
        }
      ]
    },
    {
      "cell_type": "code",
      "source": [
        "ViT_mura_train_14_dataset[0]"
      ],
      "metadata": {
        "colab": {
          "base_uri": "https://localhost:8080/"
        },
        "id": "3fkP0h1w3muW",
        "outputId": "16452077-be4a-4d63-ba5d-ff3eea9a2a8a"
      },
      "execution_count": 47,
      "outputs": [
        {
          "output_type": "execute_result",
          "data": {
            "text/plain": [
              "{'pixel_values': tensor([[[-0.9994, -0.9997, -0.9998,  ..., -0.9998, -0.9998, -0.9998],\n",
              "         [-0.9998, -0.9998, -0.9998,  ..., -0.9998, -0.9998, -0.9998],\n",
              "         [-0.9998, -0.9998, -0.9998,  ..., -0.9998, -0.9998, -0.9998],\n",
              "         ...,\n",
              "         [-0.9996, -0.9995, -0.9994,  ..., -0.9998, -0.9998, -0.9998],\n",
              "         [-0.9998, -0.9997, -0.9997,  ..., -0.9998, -0.9998, -0.9998],\n",
              "         [-0.9998, -0.9998, -0.9997,  ..., -0.9999, -0.9999, -0.9999]],\n",
              "\n",
              "        [[-0.9994, -0.9997, -0.9998,  ..., -0.9998, -0.9998, -0.9998],\n",
              "         [-0.9998, -0.9998, -0.9998,  ..., -0.9998, -0.9998, -0.9998],\n",
              "         [-0.9998, -0.9998, -0.9998,  ..., -0.9998, -0.9998, -0.9998],\n",
              "         ...,\n",
              "         [-0.9996, -0.9995, -0.9994,  ..., -0.9998, -0.9998, -0.9998],\n",
              "         [-0.9998, -0.9997, -0.9997,  ..., -0.9998, -0.9998, -0.9998],\n",
              "         [-0.9998, -0.9998, -0.9997,  ..., -0.9999, -0.9999, -0.9999]],\n",
              "\n",
              "        [[-0.9994, -0.9997, -0.9998,  ..., -0.9998, -0.9998, -0.9998],\n",
              "         [-0.9998, -0.9998, -0.9998,  ..., -0.9998, -0.9998, -0.9998],\n",
              "         [-0.9998, -0.9998, -0.9998,  ..., -0.9998, -0.9998, -0.9998],\n",
              "         ...,\n",
              "         [-0.9996, -0.9995, -0.9994,  ..., -0.9998, -0.9998, -0.9998],\n",
              "         [-0.9998, -0.9997, -0.9997,  ..., -0.9998, -0.9998, -0.9998],\n",
              "         [-0.9998, -0.9998, -0.9997,  ..., -0.9999, -0.9999, -0.9999]]]), 'labels': 10}"
            ]
          },
          "metadata": {},
          "execution_count": 47
        }
      ]
    },
    {
      "cell_type": "code",
      "source": [
        "# create ViT train datasets by region\n",
        "ViT_shoulder_train_dataset = ViT_MuraDataset(mura_df = shoulder_train, two_targets=True)\n",
        "ViT_humerus_train_dataset = ViT_MuraDataset(mura_df = humerus_train, two_targets=True)\n",
        "ViT_finger_train_dataset = ViT_MuraDataset(mura_df = finger_train, two_targets=True)\n",
        "ViT_elbow_train_dataset = ViT_MuraDataset(mura_df = elbow_train, two_targets=True)\n",
        "ViT_wrist_train_dataset = ViT_MuraDataset(mura_df = wrist_train, two_targets=True)\n",
        "ViT_forearm_train_dataset = ViT_MuraDataset(mura_df = forearm_train, two_targets=True)\n",
        "ViT_hand_train_dataset = ViT_MuraDataset(mura_df = hand_train, two_targets=True)\n",
        "\n",
        "\n",
        "# create ViT test datasets by region\n",
        "ViT_shoulder_test_dataset = ViT_MuraDataset(mura_df = shoulder_test, two_targets=True)\n",
        "ViT_humerus_test_dataset = ViT_MuraDataset(mura_df = humerus_test, two_targets=True)\n",
        "ViT_finger_test_dataset = ViT_MuraDataset(mura_df = finger_test, two_targets=True)\n",
        "ViT_elbow_test_dataset = ViT_MuraDataset(mura_df = elbow_test, two_targets=True)\n",
        "ViT_wrist_test_dataset = ViT_MuraDataset(mura_df = wrist_test, two_targets=True)\n",
        "ViT_forearm_test_dataset = ViT_MuraDataset(mura_df = forearm_test, two_targets=True)\n",
        "ViT_hand_test_dataset = ViT_MuraDataset(mura_df = hand_test, two_targets=True)"
      ],
      "metadata": {
        "id": "bI72tqHRTaMk"
      },
      "execution_count": 48,
      "outputs": []
    },
    {
      "cell_type": "code",
      "source": [
        "ViT_finger_train_dataset[0]"
      ],
      "metadata": {
        "colab": {
          "base_uri": "https://localhost:8080/"
        },
        "id": "i6aufE2-ggIi",
        "outputId": "0c11e202-7a26-422b-ef05-c0622e9f4fca"
      },
      "execution_count": 49,
      "outputs": [
        {
          "output_type": "execute_result",
          "data": {
            "text/plain": [
              "{'pixel_values': tensor([[[-1.0000, -1.0000, -1.0000,  ..., -1.0000, -1.0000, -1.0000],\n",
              "         [-1.0000, -1.0000, -1.0000,  ..., -1.0000, -1.0000, -1.0000],\n",
              "         [-1.0000, -1.0000, -1.0000,  ..., -1.0000, -1.0000, -1.0000],\n",
              "         ...,\n",
              "         [-1.0000, -1.0000, -1.0000,  ..., -1.0000, -1.0000, -1.0000],\n",
              "         [-1.0000, -1.0000, -1.0000,  ..., -1.0000, -1.0000, -1.0000],\n",
              "         [-1.0000, -1.0000, -1.0000,  ..., -1.0000, -1.0000, -1.0000]],\n",
              "\n",
              "        [[-1.0000, -1.0000, -1.0000,  ..., -1.0000, -1.0000, -1.0000],\n",
              "         [-1.0000, -1.0000, -1.0000,  ..., -1.0000, -1.0000, -1.0000],\n",
              "         [-1.0000, -1.0000, -1.0000,  ..., -1.0000, -1.0000, -1.0000],\n",
              "         ...,\n",
              "         [-1.0000, -1.0000, -1.0000,  ..., -1.0000, -1.0000, -1.0000],\n",
              "         [-1.0000, -1.0000, -1.0000,  ..., -1.0000, -1.0000, -1.0000],\n",
              "         [-1.0000, -1.0000, -1.0000,  ..., -1.0000, -1.0000, -1.0000]],\n",
              "\n",
              "        [[-1.0000, -1.0000, -1.0000,  ..., -1.0000, -1.0000, -1.0000],\n",
              "         [-1.0000, -1.0000, -1.0000,  ..., -1.0000, -1.0000, -1.0000],\n",
              "         [-1.0000, -1.0000, -1.0000,  ..., -1.0000, -1.0000, -1.0000],\n",
              "         ...,\n",
              "         [-1.0000, -1.0000, -1.0000,  ..., -1.0000, -1.0000, -1.0000],\n",
              "         [-1.0000, -1.0000, -1.0000,  ..., -1.0000, -1.0000, -1.0000],\n",
              "         [-1.0000, -1.0000, -1.0000,  ..., -1.0000, -1.0000, -1.0000]]]), 'labels': 1}"
            ]
          },
          "metadata": {},
          "execution_count": 49
        }
      ]
    },
    {
      "cell_type": "code",
      "source": [
        "ViT_finger_train_dataset[0]['pixel_values'].shape"
      ],
      "metadata": {
        "id": "sBRquu7TpPq1",
        "outputId": "e53262f4-5f01-43fe-ba39-e007f57bcc6a",
        "colab": {
          "base_uri": "https://localhost:8080/"
        }
      },
      "execution_count": 50,
      "outputs": [
        {
          "output_type": "execute_result",
          "data": {
            "text/plain": [
              "torch.Size([3, 224, 224])"
            ]
          },
          "metadata": {},
          "execution_count": 50
        }
      ]
    },
    {
      "cell_type": "code",
      "source": [
        "# define our collate function\n",
        "def collate_fn(batch):\n",
        "    return {\n",
        "        'pixel_values': torch.stack([x['pixel_values'] for x in batch]),\n",
        "        'labels': torch.tensor([x['labels'] for x in batch])\n",
        "    }"
      ],
      "metadata": {
        "id": "QV6dWwCT3-zx"
      },
      "execution_count": 51,
      "outputs": []
    },
    {
      "cell_type": "code",
      "source": [
        "# create dataloader to test our collate_fn and dataset\n",
        "ViT_mura_train_14_dataloader = DataLoader(ViT_mura_train_14_dataset, batch_size=32, shuffle=True, collate_fn=collate_fn)\n",
        "ViT_elbow_train_dataloader = DataLoader(ViT_elbow_train_dataset, batch_size=32, shuffle=True, collate_fn=collate_fn)"
      ],
      "metadata": {
        "id": "wmsseNgx7w-S"
      },
      "execution_count": 69,
      "outputs": []
    },
    {
      "cell_type": "code",
      "source": [
        "ex = next(iter(ViT_mura_train_14_dataloader))\n",
        "ex['pixel_values'].shape"
      ],
      "metadata": {
        "id": "XflB6TIH5PaW",
        "outputId": "34c588d8-7add-4f68-f93c-c1c5475e2cbc",
        "colab": {
          "base_uri": "https://localhost:8080/"
        }
      },
      "execution_count": 53,
      "outputs": [
        {
          "output_type": "execute_result",
          "data": {
            "text/plain": [
              "torch.Size([32, 3, 224, 224])"
            ]
          },
          "metadata": {},
          "execution_count": 53
        }
      ]
    },
    {
      "cell_type": "code",
      "source": [
        "ex = next(iter(ViT_elbow_train_dataloader))\n",
        "ex['pixel_values'].shape"
      ],
      "metadata": {
        "colab": {
          "base_uri": "https://localhost:8080/"
        },
        "id": "HPcVfreH5tve",
        "outputId": "fe90af41-5e18-401d-9993-a8adceead682"
      },
      "execution_count": 54,
      "outputs": [
        {
          "output_type": "execute_result",
          "data": {
            "text/plain": [
              "torch.Size([32, 3, 224, 224])"
            ]
          },
          "metadata": {},
          "execution_count": 54
        }
      ]
    },
    {
      "cell_type": "markdown",
      "source": [
        "## Run ViT Models"
      ],
      "metadata": {
        "id": "TG6VuMfdw0Qd"
      }
    },
    {
      "cell_type": "code",
      "source": [
        "# define metric same as base model\n",
        "metric = load_metric(\"accuracy\")\n",
        "#metric = load_metric(\"precision\")\n",
        "def compute_metrics(p):\n",
        "    return metric.compute(predictions=np.argmax(p.predictions, axis=1), references=p.label_ids)"
      ],
      "metadata": {
        "id": "L-tVRvoR3-wq",
        "colab": {
          "base_uri": "https://localhost:8080/"
        },
        "outputId": "40de6cbc-1550-41ba-86c0-96cb50018e1e"
      },
      "execution_count": 55,
      "outputs": [
        {
          "output_type": "stream",
          "name": "stderr",
          "text": [
            "<ipython-input-55-ec2e8e4ebb05>:2: FutureWarning: load_metric is deprecated and will be removed in the next major version of datasets. Use 'evaluate.load' instead, from the new library 🤗 Evaluate: https://huggingface.co/docs/evaluate\n",
            "  metric = load_metric(\"accuracy\")\n"
          ]
        }
      ]
    },
    {
      "cell_type": "code",
      "source": [
        "# training argument for all ViTs\n",
        "vit_batch_size = 32\n",
        "vit_epochs = 5\n",
        "vit_lr = 2e-4"
      ],
      "metadata": {
        "id": "pRabwvuz3-oV"
      },
      "execution_count": 80,
      "outputs": []
    },
    {
      "cell_type": "code",
      "source": [
        "#labels for model\n",
        "labels = class_dict(two_targets=True)[0]\n",
        "labels_14 = class_dict(two_targets=False)[0]"
      ],
      "metadata": {
        "id": "bEwY0roUxTwr"
      },
      "execution_count": 57,
      "outputs": []
    },
    {
      "cell_type": "code",
      "source": [
        "# function to run our ViT models\n",
        "def run_ViT(trainer):\n",
        "    train_results = trainer.train()\n",
        "    trainer.save_model()\n",
        "    trainer.log_metrics(\"train\", train_results.metrics)\n",
        "    trainer.save_metrics(\"train\", train_results.metrics)\n",
        "    trainer.save_state()\n",
        "\n",
        "    return train_results"
      ],
      "metadata": {
        "id": "ZSZtbJGt8pBR"
      },
      "execution_count": 58,
      "outputs": []
    },
    {
      "cell_type": "code",
      "source": [
        "# function to run our ViT models\n",
        "def resume_run_ViT(trainer):\n",
        "    train_results = trainer.train(resume_from_checkpoint = True)\n",
        "    trainer.save_model()\n",
        "    trainer.log_metrics(\"train\", train_results.metrics)\n",
        "    trainer.save_metrics(\"train\", train_results.metrics)\n",
        "    trainer.save_state()\n",
        "\n",
        "    return train_results"
      ],
      "metadata": {
        "id": "s2X2qV8t7WqZ"
      },
      "execution_count": 59,
      "outputs": []
    },
    {
      "cell_type": "code",
      "source": [
        "#create ViT pre-trained model for 2 targets and 14 targetsd\n",
        "ViT_2_target_model = ViTForImageClassification.from_pretrained(\n",
        "    model_name_or_path,\n",
        "    num_labels=len(labels),\n",
        "    id2label={str(i): c for i, c in enumerate(labels)},\n",
        "    label2id={c: str(i) for i, c in enumerate(labels)}\n",
        ")\n",
        "\n",
        "ViT_14_target_model = ViTForImageClassification.from_pretrained(\n",
        "    model_name_or_path,\n",
        "    num_labels=len(labels_14),\n",
        "    id2label={str(i): c for i, c in enumerate(labels_14)},\n",
        "    label2id={c: str(i) for i, c in enumerate(labels_14)}\n",
        ")"
      ],
      "metadata": {
        "colab": {
          "base_uri": "https://localhost:8080/"
        },
        "id": "0uAwBAGV9jDL",
        "outputId": "555f1490-c73f-4e02-a04e-c8e7dccce8ac"
      },
      "execution_count": 60,
      "outputs": [
        {
          "output_type": "stream",
          "name": "stderr",
          "text": [
            "Some weights of the model checkpoint at google/vit-base-patch16-224-in21k were not used when initializing ViTForImageClassification: ['pooler.dense.bias', 'pooler.dense.weight']\n",
            "- This IS expected if you are initializing ViTForImageClassification from the checkpoint of a model trained on another task or with another architecture (e.g. initializing a BertForSequenceClassification model from a BertForPreTraining model).\n",
            "- This IS NOT expected if you are initializing ViTForImageClassification from the checkpoint of a model that you expect to be exactly identical (initializing a BertForSequenceClassification model from a BertForSequenceClassification model).\n",
            "Some weights of ViTForImageClassification were not initialized from the model checkpoint at google/vit-base-patch16-224-in21k and are newly initialized: ['classifier.weight', 'classifier.bias']\n",
            "You should probably TRAIN this model on a down-stream task to be able to use it for predictions and inference.\n",
            "Some weights of the model checkpoint at google/vit-base-patch16-224-in21k were not used when initializing ViTForImageClassification: ['pooler.dense.bias', 'pooler.dense.weight']\n",
            "- This IS expected if you are initializing ViTForImageClassification from the checkpoint of a model trained on another task or with another architecture (e.g. initializing a BertForSequenceClassification model from a BertForPreTraining model).\n",
            "- This IS NOT expected if you are initializing ViTForImageClassification from the checkpoint of a model that you expect to be exactly identical (initializing a BertForSequenceClassification model from a BertForSequenceClassification model).\n",
            "Some weights of ViTForImageClassification were not initialized from the model checkpoint at google/vit-base-patch16-224-in21k and are newly initialized: ['classifier.weight', 'classifier.bias']\n",
            "You should probably TRAIN this model on a down-stream task to be able to use it for predictions and inference.\n"
          ]
        }
      ]
    },
    {
      "cell_type": "markdown",
      "source": [
        "### 14 targets"
      ],
      "metadata": {
        "id": "4Dbega7y7RCf"
      }
    },
    {
      "cell_type": "code",
      "source": [
        "training_args_14_targets = TrainingArguments(\n",
        "  # save checkpoints and predictions to this directory\n",
        "  output_dir=\"drive/MyDrive/Colab Notebooks/Training_Checkpoints/14_targets\",\n",
        "  per_device_train_batch_size=vit_batch_size,\n",
        "  evaluation_strategy=\"steps\",\n",
        "  num_train_epochs=vit_epochs,\n",
        "  fp16=True,\n",
        "  save_steps=100,\n",
        "  eval_steps=100,\n",
        "  logging_steps=10,\n",
        "  learning_rate=vit_lr,\n",
        "  save_total_limit=2,\n",
        "  remove_unused_columns=False,\n",
        "  push_to_hub=False,\n",
        "  report_to='tensorboard',\n",
        "  load_best_model_at_end=True,\n",
        ")"
      ],
      "metadata": {
        "id": "oBisMN3avS_F"
      },
      "execution_count": null,
      "outputs": []
    },
    {
      "cell_type": "code",
      "source": [
        "#create trainer for 14 target ViT model\n",
        "ViT_14_target_trainer = Trainer(\n",
        "    model=ViT_14_target_model,\n",
        "    args=training_args_14_targets,\n",
        "    data_collator=collate_fn,\n",
        "    compute_metrics=compute_metrics,\n",
        "    train_dataset=ViT_mura_train_14_dataset,\n",
        "    eval_dataset=ViT_mura_test_14_dataset,\n",
        "    tokenizer=feature_extractor,\n",
        ")"
      ],
      "metadata": {
        "id": "iHRx1SqK7y_F"
      },
      "execution_count": null,
      "outputs": []
    },
    {
      "cell_type": "code",
      "source": [
        "# run 14 target ViT model\n",
        "ViT_14_targets_results = run_ViT(ViT_14_target_trainer)"
      ],
      "metadata": {
        "id": "gPkfsoDK7y2m"
      },
      "execution_count": null,
      "outputs": []
    },
    {
      "cell_type": "code",
      "source": [
        "print(ViT_14_targets_results)"
      ],
      "metadata": {
        "id": "3ctTMALpCGDf"
      },
      "execution_count": null,
      "outputs": []
    },
    {
      "cell_type": "markdown",
      "source": [
        "### 14 targets subset"
      ],
      "metadata": {
        "id": "ag3gRqDAyjTY"
      }
    },
    {
      "cell_type": "code",
      "source": [
        "training_args_14_targets_subset = TrainingArguments(\n",
        "  # save checkpoints and predictions to this directory\n",
        "  output_dir=\"drive/MyDrive/Colab Notebooks/Training_Checkpoints/14_targets_subset\",\n",
        "  per_device_train_batch_size=vit_batch_size,\n",
        "  evaluation_strategy=\"steps\",\n",
        "  num_train_epochs=vit_epochs,\n",
        "  fp16=True,\n",
        "  save_steps=100,\n",
        "  eval_steps=100,\n",
        "  logging_steps=10,\n",
        "  learning_rate=vit_lr,\n",
        "  save_total_limit=2,\n",
        "  remove_unused_columns=False,\n",
        "  push_to_hub=False,\n",
        "  report_to='tensorboard',\n",
        "  load_best_model_at_end=True,\n",
        ")"
      ],
      "metadata": {
        "id": "8BilGqccvuid"
      },
      "execution_count": 61,
      "outputs": []
    },
    {
      "cell_type": "code",
      "source": [
        "#create trainer for 14 target ViT model\n",
        "ViT_14_target_sub_trainer = Trainer(\n",
        "    model=ViT_14_target_model,\n",
        "    args=training_args_14_targets_subset,\n",
        "    data_collator=collate_fn,\n",
        "    compute_metrics=compute_metrics,\n",
        "    train_dataset=ViT_mura_train_14_subset,\n",
        "    eval_dataset=ViT_mura_test_14_subset,\n",
        "    tokenizer=feature_extractor,\n",
        ")"
      ],
      "metadata": {
        "id": "-n2zyMoCynqo"
      },
      "execution_count": 62,
      "outputs": []
    },
    {
      "cell_type": "code",
      "source": [
        "# run 14 target ViT model\n",
        "ViT_14_targets_sub_results = run_ViT(ViT_14_target_sub_trainer)"
      ],
      "metadata": {
        "id": "oKdB0Z8Byo4v",
        "outputId": "30d1732c-e3bd-4228-e98d-524861bbdc5b",
        "colab": {
          "base_uri": "https://localhost:8080/",
          "height": 128
        }
      },
      "execution_count": null,
      "outputs": [
        {
          "output_type": "stream",
          "name": "stderr",
          "text": [
            "/usr/local/lib/python3.10/dist-packages/transformers/optimization.py:391: FutureWarning: This implementation of AdamW is deprecated and will be removed in a future version. Use the PyTorch implementation torch.optim.AdamW instead, or set `no_deprecation_warning=True` to disable this warning\n",
            "  warnings.warn(\n"
          ]
        },
        {
          "output_type": "display_data",
          "data": {
            "text/plain": [
              "<IPython.core.display.HTML object>"
            ],
            "text/html": [
              "\n",
              "    <div>\n",
              "      \n",
              "      <progress value='5' max='396' style='width:300px; height:20px; vertical-align: middle;'></progress>\n",
              "      [  5/396 03:10 < 6:53:18, 0.02 it/s, Epoch 0.04/4]\n",
              "    </div>\n",
              "    <table border=\"1\" class=\"dataframe\">\n",
              "  <thead>\n",
              " <tr style=\"text-align: left;\">\n",
              "      <th>Step</th>\n",
              "      <th>Training Loss</th>\n",
              "      <th>Validation Loss</th>\n",
              "    </tr>\n",
              "  </thead>\n",
              "  <tbody>\n",
              "  </tbody>\n",
              "</table><p>"
            ]
          },
          "metadata": {}
        }
      ]
    },
    {
      "cell_type": "code",
      "source": [
        "print(ViT_14_targets_sub_results)"
      ],
      "metadata": {
        "id": "qoHuFbaLyt0p"
      },
      "execution_count": null,
      "outputs": []
    },
    {
      "cell_type": "markdown",
      "source": [
        "### All Data Subset"
      ],
      "metadata": {
        "id": "DLgbhTCRksQY"
      }
    },
    {
      "cell_type": "code",
      "source": [
        "training_args_mura_subset = TrainingArguments(\n",
        "  # save checkpoints and predictions to this directory\n",
        "  output_dir=\"mura_Models\",\n",
        "  per_device_train_batch_size=vit_batch_size,\n",
        "  evaluation_strategy=\"steps\",\n",
        "  num_train_epochs=vit_epochs,\n",
        "  fp16=True,\n",
        "  save_steps=100,\n",
        "  eval_steps=100,\n",
        "  logging_steps=10,\n",
        "  learning_rate=vit_lr,\n",
        "  save_total_limit=2,\n",
        "  remove_unused_columns=False,\n",
        "  push_to_hub=False,\n",
        "  report_to='tensorboard',\n",
        "  load_best_model_at_end=True,\n",
        ")"
      ],
      "metadata": {
        "id": "6F1q01z0krzp"
      },
      "execution_count": 137,
      "outputs": []
    },
    {
      "cell_type": "code",
      "source": [
        "#create trainer for mura subset ViT model\n",
        "ViT_mura_sub_trainer = Trainer(\n",
        "    model=ViT_2_target_model,\n",
        "    args=training_args_mura_subset,\n",
        "    data_collator=collate_fn,\n",
        "    compute_metrics=compute_metrics,\n",
        "    train_dataset=ViT_mura_train_subset,\n",
        "    eval_dataset=ViT_mura_test_subset,\n",
        "    tokenizer=feature_extractor,\n",
        ")"
      ],
      "metadata": {
        "id": "uQkNvnB8oWXU"
      },
      "execution_count": 138,
      "outputs": []
    },
    {
      "cell_type": "code",
      "source": [
        "# run mura subset ViT model\n",
        "ViT_mura_sub_results = run_ViT(ViT_mura_sub_trainer)"
      ],
      "metadata": {
        "colab": {
          "base_uri": "https://localhost:8080/",
          "height": 434
        },
        "id": "v3BxZ0VRpHWE",
        "outputId": "2be6c4f0-852f-4228-ee05-5facd16cf866"
      },
      "execution_count": 139,
      "outputs": [
        {
          "output_type": "stream",
          "name": "stderr",
          "text": [
            "/usr/local/lib/python3.9/dist-packages/transformers/optimization.py:391: FutureWarning: This implementation of AdamW is deprecated and will be removed in a future version. Use the PyTorch implementation torch.optim.AdamW instead, or set `no_deprecation_warning=True` to disable this warning\n",
            "  warnings.warn(\n"
          ]
        },
        {
          "output_type": "display_data",
          "data": {
            "text/plain": [
              "<IPython.core.display.HTML object>"
            ],
            "text/html": [
              "\n",
              "    <div>\n",
              "      \n",
              "      <progress value='695' max='695' style='width:300px; height:20px; vertical-align: middle;'></progress>\n",
              "      [695/695 46:35, Epoch 5/5]\n",
              "    </div>\n",
              "    <table border=\"1\" class=\"dataframe\">\n",
              "  <thead>\n",
              " <tr style=\"text-align: left;\">\n",
              "      <th>Step</th>\n",
              "      <th>Training Loss</th>\n",
              "      <th>Validation Loss</th>\n",
              "      <th>Accuracy</th>\n",
              "    </tr>\n",
              "  </thead>\n",
              "  <tbody>\n",
              "    <tr>\n",
              "      <td>100</td>\n",
              "      <td>0.676500</td>\n",
              "      <td>0.694609</td>\n",
              "      <td>0.550633</td>\n",
              "    </tr>\n",
              "    <tr>\n",
              "      <td>200</td>\n",
              "      <td>0.659800</td>\n",
              "      <td>0.694489</td>\n",
              "      <td>0.550633</td>\n",
              "    </tr>\n",
              "    <tr>\n",
              "      <td>300</td>\n",
              "      <td>0.679200</td>\n",
              "      <td>0.694659</td>\n",
              "      <td>0.550633</td>\n",
              "    </tr>\n",
              "    <tr>\n",
              "      <td>400</td>\n",
              "      <td>0.652400</td>\n",
              "      <td>0.695346</td>\n",
              "      <td>0.550633</td>\n",
              "    </tr>\n",
              "    <tr>\n",
              "      <td>500</td>\n",
              "      <td>0.656300</td>\n",
              "      <td>0.695382</td>\n",
              "      <td>0.550633</td>\n",
              "    </tr>\n",
              "    <tr>\n",
              "      <td>600</td>\n",
              "      <td>0.653000</td>\n",
              "      <td>0.696821</td>\n",
              "      <td>0.550633</td>\n",
              "    </tr>\n",
              "  </tbody>\n",
              "</table><p>"
            ]
          },
          "metadata": {}
        },
        {
          "output_type": "stream",
          "name": "stdout",
          "text": [
            "***** train metrics *****\n",
            "  epoch                    =          5.0\n",
            "  total_flos               = 1599648920GF\n",
            "  train_loss               =       0.6679\n",
            "  train_runtime            =   0:46:41.37\n",
            "  train_samples_per_second =        7.912\n",
            "  train_steps_per_second   =        0.248\n"
          ]
        }
      ]
    },
    {
      "cell_type": "code",
      "source": [
        "print(ViT_mura_sub_results)"
      ],
      "metadata": {
        "id": "gzDMACBBpCNE"
      },
      "execution_count": null,
      "outputs": []
    },
    {
      "cell_type": "markdown",
      "source": [
        "### Wrist"
      ],
      "metadata": {
        "id": "7bEyLUBZ7Q3V"
      }
    },
    {
      "cell_type": "code",
      "source": [
        "training_args_wrist = TrainingArguments(\n",
        "  # save checkpoints and predictions to this directory\n",
        "  output_dir=\"mura/Models/Wrist\",\n",
        "  per_device_train_batch_size=vit_batch_size,\n",
        "  evaluation_strategy=\"steps\",\n",
        "  num_train_epochs=vit_epochs,\n",
        "  fp16=True,\n",
        "  save_steps=100,\n",
        "  eval_steps=100,\n",
        "  logging_steps=10,\n",
        "  learning_rate=vit_lr,\n",
        "  save_total_limit=2,\n",
        "  remove_unused_columns=False,\n",
        "  push_to_hub=False,\n",
        "  report_to='tensorboard',\n",
        "  load_best_model_at_end=True,\n",
        ")"
      ],
      "metadata": {
        "id": "xIhhYQFCv12o"
      },
      "execution_count": 81,
      "outputs": []
    },
    {
      "cell_type": "code",
      "source": [
        "#create trainer for wrist ViT model\n",
        "ViT_wrist_trainer = Trainer(\n",
        "    model=ViT_2_target_model,\n",
        "    args=training_args_wrist,\n",
        "    data_collator=collate_fn,\n",
        "    compute_metrics=compute_metrics,\n",
        "    train_dataset=ViT_wrist_train_dataset,\n",
        "    eval_dataset=ViT_wrist_test_dataset,\n",
        "    tokenizer=feature_extractor,\n",
        ")"
      ],
      "metadata": {
        "id": "A2MS64tY9EJX"
      },
      "execution_count": 82,
      "outputs": []
    },
    {
      "cell_type": "code",
      "source": [
        "# run wrist ViT model\n",
        "wrist_ViT_results = run_ViT(ViT_wrist_trainer)"
      ],
      "metadata": {
        "id": "2alEbD3i9Dax",
        "colab": {
          "base_uri": "https://localhost:8080/",
          "height": 713
        },
        "outputId": "d99264b9-c635-444e-c354-8dc91e350220"
      },
      "execution_count": 83,
      "outputs": [
        {
          "output_type": "stream",
          "name": "stderr",
          "text": [
            "/usr/local/lib/python3.9/dist-packages/transformers/optimization.py:391: FutureWarning: This implementation of AdamW is deprecated and will be removed in a future version. Use the PyTorch implementation torch.optim.AdamW instead, or set `no_deprecation_warning=True` to disable this warning\n",
            "  warnings.warn(\n"
          ]
        },
        {
          "output_type": "display_data",
          "data": {
            "text/plain": [
              "<IPython.core.display.HTML object>"
            ],
            "text/html": [
              "\n",
              "    <div>\n",
              "      \n",
              "      <progress value='1525' max='1525' style='width:300px; height:20px; vertical-align: middle;'></progress>\n",
              "      [1525/1525 1:38:44, Epoch 5/5]\n",
              "    </div>\n",
              "    <table border=\"1\" class=\"dataframe\">\n",
              "  <thead>\n",
              " <tr style=\"text-align: left;\">\n",
              "      <th>Step</th>\n",
              "      <th>Training Loss</th>\n",
              "      <th>Validation Loss</th>\n",
              "      <th>Accuracy</th>\n",
              "    </tr>\n",
              "  </thead>\n",
              "  <tbody>\n",
              "    <tr>\n",
              "      <td>100</td>\n",
              "      <td>0.695500</td>\n",
              "      <td>0.687699</td>\n",
              "      <td>0.552352</td>\n",
              "    </tr>\n",
              "    <tr>\n",
              "      <td>200</td>\n",
              "      <td>0.684900</td>\n",
              "      <td>0.693128</td>\n",
              "      <td>0.552352</td>\n",
              "    </tr>\n",
              "    <tr>\n",
              "      <td>300</td>\n",
              "      <td>0.680800</td>\n",
              "      <td>0.687767</td>\n",
              "      <td>0.552352</td>\n",
              "    </tr>\n",
              "    <tr>\n",
              "      <td>400</td>\n",
              "      <td>0.668700</td>\n",
              "      <td>0.692678</td>\n",
              "      <td>0.552352</td>\n",
              "    </tr>\n",
              "    <tr>\n",
              "      <td>500</td>\n",
              "      <td>0.673200</td>\n",
              "      <td>0.688182</td>\n",
              "      <td>0.552352</td>\n",
              "    </tr>\n",
              "    <tr>\n",
              "      <td>600</td>\n",
              "      <td>0.673100</td>\n",
              "      <td>0.693479</td>\n",
              "      <td>0.552352</td>\n",
              "    </tr>\n",
              "    <tr>\n",
              "      <td>700</td>\n",
              "      <td>0.673200</td>\n",
              "      <td>0.689286</td>\n",
              "      <td>0.552352</td>\n",
              "    </tr>\n",
              "    <tr>\n",
              "      <td>800</td>\n",
              "      <td>0.659700</td>\n",
              "      <td>0.697991</td>\n",
              "      <td>0.552352</td>\n",
              "    </tr>\n",
              "    <tr>\n",
              "      <td>900</td>\n",
              "      <td>0.669900</td>\n",
              "      <td>0.690919</td>\n",
              "      <td>0.552352</td>\n",
              "    </tr>\n",
              "    <tr>\n",
              "      <td>1000</td>\n",
              "      <td>0.680100</td>\n",
              "      <td>0.690673</td>\n",
              "      <td>0.552352</td>\n",
              "    </tr>\n",
              "    <tr>\n",
              "      <td>1100</td>\n",
              "      <td>0.686300</td>\n",
              "      <td>0.690868</td>\n",
              "      <td>0.552352</td>\n",
              "    </tr>\n",
              "    <tr>\n",
              "      <td>1200</td>\n",
              "      <td>0.662100</td>\n",
              "      <td>0.690687</td>\n",
              "      <td>0.552352</td>\n",
              "    </tr>\n",
              "    <tr>\n",
              "      <td>1300</td>\n",
              "      <td>0.673600</td>\n",
              "      <td>0.689663</td>\n",
              "      <td>0.552352</td>\n",
              "    </tr>\n",
              "    <tr>\n",
              "      <td>1400</td>\n",
              "      <td>0.705500</td>\n",
              "      <td>0.689582</td>\n",
              "      <td>0.552352</td>\n",
              "    </tr>\n",
              "    <tr>\n",
              "      <td>1500</td>\n",
              "      <td>0.681800</td>\n",
              "      <td>0.692213</td>\n",
              "      <td>0.552352</td>\n",
              "    </tr>\n",
              "  </tbody>\n",
              "</table><p>"
            ]
          },
          "metadata": {}
        },
        {
          "output_type": "stream",
          "name": "stdout",
          "text": [
            "***** train metrics *****\n",
            "  epoch                    =          5.0\n",
            "  total_flos               = 3519011115GF\n",
            "  train_loss               =       0.6781\n",
            "  train_runtime            =   1:38:50.29\n",
            "  train_samples_per_second =        8.222\n",
            "  train_steps_per_second   =        0.257\n"
          ]
        }
      ]
    },
    {
      "cell_type": "code",
      "source": [
        "print(wrist_ViT_results)"
      ],
      "metadata": {
        "id": "vrgsmeLJCDl7",
        "colab": {
          "base_uri": "https://localhost:8080/"
        },
        "outputId": "05e2de7f-51aa-4ef2-f5bc-03b0d6384ca9"
      },
      "execution_count": 84,
      "outputs": [
        {
          "output_type": "stream",
          "name": "stdout",
          "text": [
            "TrainOutput(global_step=1525, training_loss=0.6780561534693984, metrics={'train_runtime': 5930.2917, 'train_samples_per_second': 8.222, 'train_steps_per_second': 0.257, 'total_flos': 3.778509413607506e+18, 'train_loss': 0.6780561534693984, 'epoch': 5.0})\n"
          ]
        }
      ]
    },
    {
      "cell_type": "markdown",
      "source": [
        "### Forearm"
      ],
      "metadata": {
        "id": "GtC3i4787QsM"
      }
    },
    {
      "cell_type": "code",
      "source": [
        "training_args_forearm = TrainingArguments(\n",
        "  # save checkpoints and predictions to this directory\n",
        "  output_dir=\"mura/Models/forearm\",\n",
        "  per_device_train_batch_size=vit_batch_size,\n",
        "  evaluation_strategy=\"steps\",\n",
        "  num_train_epochs=vit_epochs,\n",
        "  fp16=True,\n",
        "  save_steps=100,\n",
        "  eval_steps=100,\n",
        "  logging_steps=10,\n",
        "  learning_rate=vit_lr,\n",
        "  save_total_limit=2,\n",
        "  remove_unused_columns=False,\n",
        "  push_to_hub=False,\n",
        "  report_to='tensorboard',\n",
        "  load_best_model_at_end=True,\n",
        ")"
      ],
      "metadata": {
        "id": "yAPUFIwjwJwR"
      },
      "execution_count": 85,
      "outputs": []
    },
    {
      "cell_type": "code",
      "source": [
        "#create trainer for forearm ViT model\n",
        "ViT_forearm_trainer = Trainer(\n",
        "    model=ViT_2_target_model,\n",
        "    args=training_args_forearm,\n",
        "    data_collator=collate_fn,\n",
        "    compute_metrics=compute_metrics,\n",
        "    train_dataset=ViT_forearm_train_dataset,\n",
        "    eval_dataset=ViT_forearm_test_dataset,\n",
        "    tokenizer=feature_extractor,\n",
        ")"
      ],
      "metadata": {
        "id": "__t7mpi1_bxt"
      },
      "execution_count": 86,
      "outputs": []
    },
    {
      "cell_type": "code",
      "source": [
        "# run forearm ViT model\n",
        "forearm_ViT_results = run_ViT(ViT_forearm_trainer)"
      ],
      "metadata": {
        "id": "5ijvICEQ_dFl",
        "colab": {
          "base_uri": "https://localhost:8080/",
          "height": 310
        },
        "outputId": "17f73a21-0bfa-4af0-962d-8d220dd53588"
      },
      "execution_count": 87,
      "outputs": [
        {
          "output_type": "stream",
          "name": "stderr",
          "text": [
            "/usr/local/lib/python3.9/dist-packages/transformers/optimization.py:391: FutureWarning: This implementation of AdamW is deprecated and will be removed in a future version. Use the PyTorch implementation torch.optim.AdamW instead, or set `no_deprecation_warning=True` to disable this warning\n",
            "  warnings.warn(\n"
          ]
        },
        {
          "output_type": "display_data",
          "data": {
            "text/plain": [
              "<IPython.core.display.HTML object>"
            ],
            "text/html": [
              "\n",
              "    <div>\n",
              "      \n",
              "      <progress value='290' max='290' style='width:300px; height:20px; vertical-align: middle;'></progress>\n",
              "      [290/290 14:31, Epoch 5/5]\n",
              "    </div>\n",
              "    <table border=\"1\" class=\"dataframe\">\n",
              "  <thead>\n",
              " <tr style=\"text-align: left;\">\n",
              "      <th>Step</th>\n",
              "      <th>Training Loss</th>\n",
              "      <th>Validation Loss</th>\n",
              "      <th>Accuracy</th>\n",
              "    </tr>\n",
              "  </thead>\n",
              "  <tbody>\n",
              "    <tr>\n",
              "      <td>100</td>\n",
              "      <td>0.645900</td>\n",
              "      <td>0.743120</td>\n",
              "      <td>0.498339</td>\n",
              "    </tr>\n",
              "    <tr>\n",
              "      <td>200</td>\n",
              "      <td>0.674200</td>\n",
              "      <td>0.730638</td>\n",
              "      <td>0.498339</td>\n",
              "    </tr>\n",
              "  </tbody>\n",
              "</table><p>"
            ]
          },
          "metadata": {}
        },
        {
          "output_type": "stream",
          "name": "stdout",
          "text": [
            "***** train metrics *****\n",
            "  epoch                    =         5.0\n",
            "  total_flos               = 658551608GF\n",
            "  train_loss               =      0.6538\n",
            "  train_runtime            =  0:14:37.65\n",
            "  train_samples_per_second =      10.397\n",
            "  train_steps_per_second   =        0.33\n"
          ]
        }
      ]
    },
    {
      "cell_type": "code",
      "source": [
        "print(forearm_ViT_results)"
      ],
      "metadata": {
        "id": "_PW4TwdDB8yn",
        "colab": {
          "base_uri": "https://localhost:8080/"
        },
        "outputId": "a0e5a943-a0d6-4665-e83a-c5210b5d9563"
      },
      "execution_count": 88,
      "outputs": [
        {
          "output_type": "stream",
          "name": "stdout",
          "text": [
            "TrainOutput(global_step=290, training_loss=0.6537677370268723, metrics={'train_runtime': 877.66, 'train_samples_per_second': 10.397, 'train_steps_per_second': 0.33, 'total_flos': 7.07114405233152e+17, 'train_loss': 0.6537677370268723, 'epoch': 5.0})\n"
          ]
        }
      ]
    },
    {
      "cell_type": "code",
      "source": [],
      "metadata": {
        "id": "hfS3W7yoEMeK"
      },
      "execution_count": null,
      "outputs": []
    },
    {
      "cell_type": "markdown",
      "source": [
        "### Hand"
      ],
      "metadata": {
        "id": "BZNKGaxB7Qfs"
      }
    },
    {
      "cell_type": "code",
      "source": [
        "training_args_hand = TrainingArguments(\n",
        "  # save checkpoints and predictions to this directory\n",
        "  output_dir=\"mura/Models/Hand\",\n",
        "  per_device_train_batch_size=vit_batch_size,\n",
        "  evaluation_strategy=\"steps\",\n",
        "  num_train_epochs=vit_epochs,\n",
        "  fp16=True,\n",
        "  save_steps=100,\n",
        "  eval_steps=100,\n",
        "  logging_steps=10,\n",
        "  learning_rate=vit_lr,\n",
        "  save_total_limit=2,\n",
        "  remove_unused_columns=False,\n",
        "  push_to_hub=False,\n",
        "  report_to='tensorboard',\n",
        "  load_best_model_at_end=True,\n",
        ")"
      ],
      "metadata": {
        "id": "fB-xCzO7wgj0"
      },
      "execution_count": 89,
      "outputs": []
    },
    {
      "cell_type": "code",
      "source": [
        "#create trainer for hand ViT model\n",
        "ViT_hand_trainer = Trainer(\n",
        "    model=ViT_2_target_model,\n",
        "    args=training_args_hand,\n",
        "    data_collator=collate_fn,\n",
        "    compute_metrics=compute_metrics,\n",
        "    train_dataset=ViT_hand_train_dataset,\n",
        "    eval_dataset=ViT_hand_test_dataset,\n",
        "    tokenizer=feature_extractor,\n",
        ")"
      ],
      "metadata": {
        "id": "0NJT-s70_p66"
      },
      "execution_count": 90,
      "outputs": []
    },
    {
      "cell_type": "code",
      "source": [
        "# run hand ViT model\n",
        "hand_ViT_results = run_ViT(ViT_hand_trainer)"
      ],
      "metadata": {
        "colab": {
          "base_uri": "https://localhost:8080/",
          "height": 496
        },
        "id": "4fkl6xtj_p2q",
        "outputId": "e32903c8-77f0-4d2e-fec6-68ff35c081e8"
      },
      "execution_count": 91,
      "outputs": [
        {
          "output_type": "stream",
          "name": "stderr",
          "text": [
            "/usr/local/lib/python3.9/dist-packages/transformers/optimization.py:391: FutureWarning: This implementation of AdamW is deprecated and will be removed in a future version. Use the PyTorch implementation torch.optim.AdamW instead, or set `no_deprecation_warning=True` to disable this warning\n",
            "  warnings.warn(\n"
          ]
        },
        {
          "output_type": "display_data",
          "data": {
            "text/plain": [
              "<IPython.core.display.HTML object>"
            ],
            "text/html": [
              "\n",
              "    <div>\n",
              "      \n",
              "      <progress value='870' max='870' style='width:300px; height:20px; vertical-align: middle;'></progress>\n",
              "      [870/870 56:10, Epoch 5/5]\n",
              "    </div>\n",
              "    <table border=\"1\" class=\"dataframe\">\n",
              "  <thead>\n",
              " <tr style=\"text-align: left;\">\n",
              "      <th>Step</th>\n",
              "      <th>Training Loss</th>\n",
              "      <th>Validation Loss</th>\n",
              "      <th>Accuracy</th>\n",
              "    </tr>\n",
              "  </thead>\n",
              "  <tbody>\n",
              "    <tr>\n",
              "      <td>100</td>\n",
              "      <td>0.600400</td>\n",
              "      <td>0.714939</td>\n",
              "      <td>0.589130</td>\n",
              "    </tr>\n",
              "    <tr>\n",
              "      <td>200</td>\n",
              "      <td>0.610300</td>\n",
              "      <td>0.701731</td>\n",
              "      <td>0.589130</td>\n",
              "    </tr>\n",
              "    <tr>\n",
              "      <td>300</td>\n",
              "      <td>0.576900</td>\n",
              "      <td>0.742963</td>\n",
              "      <td>0.589130</td>\n",
              "    </tr>\n",
              "    <tr>\n",
              "      <td>400</td>\n",
              "      <td>0.595300</td>\n",
              "      <td>0.706690</td>\n",
              "      <td>0.589130</td>\n",
              "    </tr>\n",
              "    <tr>\n",
              "      <td>500</td>\n",
              "      <td>0.554400</td>\n",
              "      <td>0.718895</td>\n",
              "      <td>0.589130</td>\n",
              "    </tr>\n",
              "    <tr>\n",
              "      <td>600</td>\n",
              "      <td>0.613000</td>\n",
              "      <td>0.721234</td>\n",
              "      <td>0.589130</td>\n",
              "    </tr>\n",
              "    <tr>\n",
              "      <td>700</td>\n",
              "      <td>0.573100</td>\n",
              "      <td>0.728798</td>\n",
              "      <td>0.589130</td>\n",
              "    </tr>\n",
              "    <tr>\n",
              "      <td>800</td>\n",
              "      <td>0.576000</td>\n",
              "      <td>0.719978</td>\n",
              "      <td>0.589130</td>\n",
              "    </tr>\n",
              "  </tbody>\n",
              "</table><p>"
            ]
          },
          "metadata": {}
        },
        {
          "output_type": "stream",
          "name": "stdout",
          "text": [
            "***** train metrics *****\n",
            "  epoch                    =          5.0\n",
            "  total_flos               = 2000192638GF\n",
            "  train_loss               =       0.5822\n",
            "  train_runtime            =   0:56:17.54\n",
            "  train_samples_per_second =        8.206\n",
            "  train_steps_per_second   =        0.258\n"
          ]
        }
      ]
    },
    {
      "cell_type": "code",
      "source": [
        "print(hand_ViT_results)"
      ],
      "metadata": {
        "id": "HNq8M0veBl69",
        "colab": {
          "base_uri": "https://localhost:8080/"
        },
        "outputId": "acc69d0c-b4e7-4eaa-bec4-2a0f1c770f6e"
      },
      "execution_count": 92,
      "outputs": [
        {
          "output_type": "stream",
          "name": "stdout",
          "text": [
            "TrainOutput(global_step=870, training_loss=0.5821905234764362, metrics={'train_runtime': 3377.5434, 'train_samples_per_second': 8.206, 'train_steps_per_second': 0.258, 'total_flos': 2.1476904921684173e+18, 'train_loss': 0.5821905234764362, 'epoch': 5.0})\n"
          ]
        }
      ]
    },
    {
      "cell_type": "markdown",
      "source": [
        "### Humerus"
      ],
      "metadata": {
        "id": "oMRsWMe47QVw"
      }
    },
    {
      "cell_type": "code",
      "source": [
        "training_args_humerus = TrainingArguments(\n",
        "  # save checkpoints and predictions to this directory\n",
        "  output_dir=\"mura/Models/Humerus\",\n",
        "  per_device_train_batch_size=vit_batch_size,\n",
        "  evaluation_strategy=\"steps\",\n",
        "  num_train_epochs=vit_epochs,\n",
        "  fp16=True,\n",
        "  save_steps=100,\n",
        "  eval_steps=100,\n",
        "  logging_steps=10,\n",
        "  learning_rate=vit_lr,\n",
        "  save_total_limit=2,\n",
        "  remove_unused_columns=False,\n",
        "  push_to_hub=False,\n",
        "  report_to='tensorboard',\n",
        "  load_best_model_at_end=True,\n",
        ")"
      ],
      "metadata": {
        "id": "vuURsFtpwq2C"
      },
      "execution_count": 93,
      "outputs": []
    },
    {
      "cell_type": "code",
      "source": [
        "#create trainer for humerus ViT model\n",
        "ViT_humerus_trainer = Trainer(\n",
        "    model=ViT_2_target_model,\n",
        "    args=training_args_humerus,\n",
        "    data_collator=collate_fn,\n",
        "    compute_metrics=compute_metrics,\n",
        "    train_dataset=ViT_humerus_train_dataset,\n",
        "    eval_dataset=ViT_humerus_test_dataset,\n",
        "    tokenizer=feature_extractor,\n",
        ")"
      ],
      "metadata": {
        "id": "vl3ADXYz_9wi"
      },
      "execution_count": 94,
      "outputs": []
    },
    {
      "cell_type": "code",
      "source": [
        "# run humerus ViT model\n",
        "humerus_ViT_results = run_ViT(ViT_humerus_trainer)"
      ],
      "metadata": {
        "id": "Io3j6gUv_9jN",
        "colab": {
          "base_uri": "https://localhost:8080/",
          "height": 310
        },
        "outputId": "d54704b5-9453-4739-e087-24f3f2ed756d"
      },
      "execution_count": 95,
      "outputs": [
        {
          "output_type": "stream",
          "name": "stderr",
          "text": [
            "/usr/local/lib/python3.9/dist-packages/transformers/optimization.py:391: FutureWarning: This implementation of AdamW is deprecated and will be removed in a future version. Use the PyTorch implementation torch.optim.AdamW instead, or set `no_deprecation_warning=True` to disable this warning\n",
            "  warnings.warn(\n"
          ]
        },
        {
          "output_type": "display_data",
          "data": {
            "text/plain": [
              "<IPython.core.display.HTML object>"
            ],
            "text/html": [
              "\n",
              "    <div>\n",
              "      \n",
              "      <progress value='200' max='200' style='width:300px; height:20px; vertical-align: middle;'></progress>\n",
              "      [200/200 10:10, Epoch 5/5]\n",
              "    </div>\n",
              "    <table border=\"1\" class=\"dataframe\">\n",
              "  <thead>\n",
              " <tr style=\"text-align: left;\">\n",
              "      <th>Step</th>\n",
              "      <th>Training Loss</th>\n",
              "      <th>Validation Loss</th>\n",
              "      <th>Accuracy</th>\n",
              "    </tr>\n",
              "  </thead>\n",
              "  <tbody>\n",
              "    <tr>\n",
              "      <td>100</td>\n",
              "      <td>0.691500</td>\n",
              "      <td>0.692890</td>\n",
              "      <td>0.513889</td>\n",
              "    </tr>\n",
              "    <tr>\n",
              "      <td>200</td>\n",
              "      <td>0.690000</td>\n",
              "      <td>0.693061</td>\n",
              "      <td>0.513889</td>\n",
              "    </tr>\n",
              "  </tbody>\n",
              "</table><p>"
            ]
          },
          "metadata": {}
        },
        {
          "output_type": "stream",
          "name": "stdout",
          "text": [
            "***** train metrics *****\n",
            "  epoch                    =         5.0\n",
            "  total_flos               = 459001449GF\n",
            "  train_loss               =      0.6931\n",
            "  train_runtime            =  0:10:17.12\n",
            "  train_samples_per_second =      10.306\n",
            "  train_steps_per_second   =       0.324\n"
          ]
        }
      ]
    },
    {
      "cell_type": "code",
      "source": [
        "print(humerus_ViT_results)"
      ],
      "metadata": {
        "id": "L3ktgnatBp0T",
        "colab": {
          "base_uri": "https://localhost:8080/"
        },
        "outputId": "5c029e70-f14b-4cc2-bf3c-2bb1c0d392e6"
      },
      "execution_count": 96,
      "outputs": [
        {
          "output_type": "stream",
          "name": "stdout",
          "text": [
            "TrainOutput(global_step=200, training_loss=0.6931385803222656, metrics={'train_runtime': 617.1256, 'train_samples_per_second': 10.306, 'train_steps_per_second': 0.324, 'total_flos': 4.928490539488051e+17, 'train_loss': 0.6931385803222656, 'epoch': 5.0})\n"
          ]
        }
      ]
    },
    {
      "cell_type": "markdown",
      "source": [
        "\n",
        "Step\tTraining Loss\tValidation Loss\tAccuracy\n",
        "\n",
        "100\t0.329400\t0.497600\t0.802083\n",
        "\n",
        "***** train metrics *****\n",
        "\n",
        "  epoch                    =         4.0\n",
        "\n",
        "  total_flos               = 369510601GF\n",
        "\n",
        "  train_loss               =      0.4109\n",
        "\n",
        "  train_runtime            =  0:31:41.39\n",
        "\n",
        "  train_samples_per_second =       2.676\n",
        "\n",
        "  train_steps_per_second   =       0.084"
      ],
      "metadata": {
        "id": "kHnlDSFMosLk"
      }
    },
    {
      "cell_type": "markdown",
      "source": [
        "### Elbow"
      ],
      "metadata": {
        "id": "DYpWq8t67QLh"
      }
    },
    {
      "cell_type": "code",
      "source": [
        "training_args_elbow = TrainingArguments(\n",
        "  # save checkpoints and predictions to this directory\n",
        "  output_dir=\"mura/Models/Elbow\",\n",
        "  per_device_train_batch_size=vit_batch_size,\n",
        "  evaluation_strategy=\"steps\",\n",
        "  num_train_epochs=vit_epochs,\n",
        "  fp16=True,\n",
        "  save_steps=100,\n",
        "  eval_steps=100,\n",
        "  logging_steps=10,\n",
        "  learning_rate=vit_lr,\n",
        "  save_total_limit=2,\n",
        "  remove_unused_columns=False,\n",
        "  push_to_hub=False,\n",
        "  report_to='tensorboard',\n",
        "  load_best_model_at_end=True,\n",
        ")"
      ],
      "metadata": {
        "id": "NoBgHFwWw02c"
      },
      "execution_count": 97,
      "outputs": []
    },
    {
      "cell_type": "code",
      "source": [
        "#create trainer for elbow ViT model\n",
        "ViT_elbow_trainer = Trainer(\n",
        "    model=ViT_2_target_model,\n",
        "    args=training_args_elbow,\n",
        "    data_collator=collate_fn,\n",
        "    compute_metrics=compute_metrics,\n",
        "    train_dataset=ViT_elbow_train_dataset,\n",
        "    eval_dataset=ViT_elbow_test_dataset,\n",
        "    tokenizer=feature_extractor,\n",
        ")"
      ],
      "metadata": {
        "id": "ojWbxrK03-uD"
      },
      "execution_count": 98,
      "outputs": []
    },
    {
      "cell_type": "code",
      "source": [
        "# run humerus ViT model\n",
        "elbow_ViT_results = run_ViT(ViT_elbow_trainer)"
      ],
      "metadata": {
        "id": "k37OiE0eOFOo",
        "colab": {
          "base_uri": "https://localhost:8080/",
          "height": 465
        },
        "outputId": "b9b59af1-0673-4c90-f1b4-397c972fa387"
      },
      "execution_count": 99,
      "outputs": [
        {
          "output_type": "stream",
          "name": "stderr",
          "text": [
            "/usr/local/lib/python3.9/dist-packages/transformers/optimization.py:391: FutureWarning: This implementation of AdamW is deprecated and will be removed in a future version. Use the PyTorch implementation torch.optim.AdamW instead, or set `no_deprecation_warning=True` to disable this warning\n",
            "  warnings.warn(\n"
          ]
        },
        {
          "output_type": "display_data",
          "data": {
            "text/plain": [
              "<IPython.core.display.HTML object>"
            ],
            "text/html": [
              "\n",
              "    <div>\n",
              "      \n",
              "      <progress value='775' max='775' style='width:300px; height:20px; vertical-align: middle;'></progress>\n",
              "      [775/775 46:21, Epoch 5/5]\n",
              "    </div>\n",
              "    <table border=\"1\" class=\"dataframe\">\n",
              "  <thead>\n",
              " <tr style=\"text-align: left;\">\n",
              "      <th>Step</th>\n",
              "      <th>Training Loss</th>\n",
              "      <th>Validation Loss</th>\n",
              "      <th>Accuracy</th>\n",
              "    </tr>\n",
              "  </thead>\n",
              "  <tbody>\n",
              "    <tr>\n",
              "      <td>100</td>\n",
              "      <td>0.665300</td>\n",
              "      <td>0.720188</td>\n",
              "      <td>0.505376</td>\n",
              "    </tr>\n",
              "    <tr>\n",
              "      <td>200</td>\n",
              "      <td>0.673300</td>\n",
              "      <td>0.708514</td>\n",
              "      <td>0.505376</td>\n",
              "    </tr>\n",
              "    <tr>\n",
              "      <td>300</td>\n",
              "      <td>0.674400</td>\n",
              "      <td>0.708207</td>\n",
              "      <td>0.505376</td>\n",
              "    </tr>\n",
              "    <tr>\n",
              "      <td>400</td>\n",
              "      <td>0.670100</td>\n",
              "      <td>0.707525</td>\n",
              "      <td>0.505376</td>\n",
              "    </tr>\n",
              "    <tr>\n",
              "      <td>500</td>\n",
              "      <td>0.673900</td>\n",
              "      <td>0.705918</td>\n",
              "      <td>0.505376</td>\n",
              "    </tr>\n",
              "    <tr>\n",
              "      <td>600</td>\n",
              "      <td>0.675500</td>\n",
              "      <td>0.707166</td>\n",
              "      <td>0.505376</td>\n",
              "    </tr>\n",
              "    <tr>\n",
              "      <td>700</td>\n",
              "      <td>0.683400</td>\n",
              "      <td>0.706837</td>\n",
              "      <td>0.505376</td>\n",
              "    </tr>\n",
              "  </tbody>\n",
              "</table><p>"
            ]
          },
          "metadata": {}
        },
        {
          "output_type": "stream",
          "name": "stdout",
          "text": [
            "***** train metrics *****\n",
            "  epoch                    =          5.0\n",
            "  total_flos               = 1779352318GF\n",
            "  train_loss               =       0.6759\n",
            "  train_runtime            =   0:46:28.77\n",
            "  train_samples_per_second =        8.841\n",
            "  train_steps_per_second   =        0.278\n"
          ]
        }
      ]
    },
    {
      "cell_type": "code",
      "source": [
        "print(elbow_ViT_results)"
      ],
      "metadata": {
        "id": "YBRrbtwTButz",
        "colab": {
          "base_uri": "https://localhost:8080/"
        },
        "outputId": "87df4240-014d-4230-bfe1-6863c43786f6"
      },
      "execution_count": 100,
      "outputs": [
        {
          "output_type": "stream",
          "name": "stdout",
          "text": [
            "TrainOutput(global_step=775, training_loss=0.6759344377825337, metrics={'train_runtime': 2788.7785, 'train_samples_per_second': 8.841, 'train_steps_per_second': 0.278, 'total_flos': 1.9105650039477658e+18, 'train_loss': 0.6759344377825337, 'epoch': 5.0})\n"
          ]
        }
      ]
    },
    {
      "cell_type": "markdown",
      "source": [
        "Elbow \n",
        "\n",
        "\n",
        "Step\tTraining Loss\tValidation Loss\tAccuracy\n",
        "\n",
        "100\t0.633700\t0.669449\t0.593186\n",
        "\n",
        "200\t0.662600\t0.674480\t0.598662\n",
        "\n",
        "300\t0.684800\t0.672798\t0.593186\n",
        "\n",
        "400\t0.636100\t0.645050\t0.611438\n",
        "\n",
        "500\t0.732300\t0.673190\t0.595214\n",
        "\n",
        "600\t0.676000\t0.656240\t0.599473\n",
        "\n",
        "700\t0.645400\t0.682207\t0.600284\n",
        "\n",
        "800\t0.677900\t0.636125\t0.639424\n",
        "\n",
        "900\t0.618500\t0.612148\t0.653214\n",
        "\n",
        "1000\t0.594100\t0.603044\t0.662949\n",
        "\n",
        "1100\t0.613800\t0.587694\t0.680389\n",
        "\n",
        "1200\t0.547200\t0.550778\t0.715271\n",
        "\n",
        "***** train metrics *****\n",
        "\n",
        "  epoch                    =          4.0\n",
        "\n",
        "  total_flos               = 1423481854GF\n",
        "\n",
        "  train_loss               =       0.6496\n",
        "\n",
        "  train_runtime            =   2:11:14.87\n",
        "\n",
        "  train_samples_per_second =        2.505\n",
        "\n",
        "  train_steps_per_second   =        0.157"
      ],
      "metadata": {
        "id": "_JZtbTwyYCzV"
      }
    },
    {
      "cell_type": "markdown",
      "source": [
        "### Finger"
      ],
      "metadata": {
        "id": "4IIMmI5i7QB2"
      }
    },
    {
      "cell_type": "code",
      "source": [
        "training_args_finger = TrainingArguments(\n",
        "  # save checkpoints and predictions to this directory\n",
        "  output_dir=\"mura/Models/Finger\",\n",
        "  per_device_train_batch_size=vit_batch_size,\n",
        "  evaluation_strategy=\"steps\",\n",
        "  num_train_epochs=vit_epochs,\n",
        "  fp16=True,\n",
        "  save_steps=100,\n",
        "  eval_steps=100,\n",
        "  logging_steps=10,\n",
        "  learning_rate=vit_lr,\n",
        "  save_total_limit=2,\n",
        "  remove_unused_columns=False,\n",
        "  push_to_hub=False,\n",
        "  report_to='tensorboard',\n",
        "  load_best_model_at_end=True,\n",
        ")"
      ],
      "metadata": {
        "id": "NCGYICEtxBbS"
      },
      "execution_count": 101,
      "outputs": []
    },
    {
      "cell_type": "code",
      "source": [
        "#create trainer for finger ViT model\n",
        "ViT_finger_trainer = Trainer(\n",
        "    model=ViT_2_target_model,\n",
        "    args=training_args_finger,\n",
        "    data_collator=collate_fn,\n",
        "    compute_metrics=compute_metrics,\n",
        "    train_dataset=ViT_finger_train_dataset,\n",
        "    eval_dataset=ViT_finger_test_dataset,\n",
        "    tokenizer=feature_extractor,\n",
        ")"
      ],
      "metadata": {
        "id": "GDBE6AkjOFIY"
      },
      "execution_count": 102,
      "outputs": []
    },
    {
      "cell_type": "code",
      "source": [
        "# run humerus ViT model\n",
        "finger_ViT_results = run_ViT(ViT_finger_trainer)"
      ],
      "metadata": {
        "id": "ISleKvS_OFFg",
        "colab": {
          "base_uri": "https://localhost:8080/",
          "height": 496
        },
        "outputId": "b15e150e-2463-4737-8246-65cc7894400d"
      },
      "execution_count": 103,
      "outputs": [
        {
          "output_type": "stream",
          "name": "stderr",
          "text": [
            "/usr/local/lib/python3.9/dist-packages/transformers/optimization.py:391: FutureWarning: This implementation of AdamW is deprecated and will be removed in a future version. Use the PyTorch implementation torch.optim.AdamW instead, or set `no_deprecation_warning=True` to disable this warning\n",
            "  warnings.warn(\n"
          ]
        },
        {
          "output_type": "display_data",
          "data": {
            "text/plain": [
              "<IPython.core.display.HTML object>"
            ],
            "text/html": [
              "\n",
              "    <div>\n",
              "      \n",
              "      <progress value='800' max='800' style='width:300px; height:20px; vertical-align: middle;'></progress>\n",
              "      [800/800 48:04, Epoch 5/5]\n",
              "    </div>\n",
              "    <table border=\"1\" class=\"dataframe\">\n",
              "  <thead>\n",
              " <tr style=\"text-align: left;\">\n",
              "      <th>Step</th>\n",
              "      <th>Training Loss</th>\n",
              "      <th>Validation Loss</th>\n",
              "      <th>Accuracy</th>\n",
              "    </tr>\n",
              "  </thead>\n",
              "  <tbody>\n",
              "    <tr>\n",
              "      <td>100</td>\n",
              "      <td>0.679600</td>\n",
              "      <td>0.731721</td>\n",
              "      <td>0.464208</td>\n",
              "    </tr>\n",
              "    <tr>\n",
              "      <td>200</td>\n",
              "      <td>0.665300</td>\n",
              "      <td>0.737126</td>\n",
              "      <td>0.464208</td>\n",
              "    </tr>\n",
              "    <tr>\n",
              "      <td>300</td>\n",
              "      <td>0.685000</td>\n",
              "      <td>0.733860</td>\n",
              "      <td>0.464208</td>\n",
              "    </tr>\n",
              "    <tr>\n",
              "      <td>400</td>\n",
              "      <td>0.686000</td>\n",
              "      <td>0.735776</td>\n",
              "      <td>0.464208</td>\n",
              "    </tr>\n",
              "    <tr>\n",
              "      <td>500</td>\n",
              "      <td>0.672100</td>\n",
              "      <td>0.737106</td>\n",
              "      <td>0.464208</td>\n",
              "    </tr>\n",
              "    <tr>\n",
              "      <td>600</td>\n",
              "      <td>0.664700</td>\n",
              "      <td>0.735998</td>\n",
              "      <td>0.464208</td>\n",
              "    </tr>\n",
              "    <tr>\n",
              "      <td>700</td>\n",
              "      <td>0.653200</td>\n",
              "      <td>0.736992</td>\n",
              "      <td>0.464208</td>\n",
              "    </tr>\n",
              "    <tr>\n",
              "      <td>800</td>\n",
              "      <td>0.632700</td>\n",
              "      <td>0.734847</td>\n",
              "      <td>0.464208</td>\n",
              "    </tr>\n",
              "  </tbody>\n",
              "</table><p>"
            ]
          },
          "metadata": {}
        },
        {
          "output_type": "stream",
          "name": "stdout",
          "text": [
            "***** train metrics *****\n",
            "  epoch                    =          5.0\n",
            "  total_flos               = 1842501102GF\n",
            "  train_loss               =        0.667\n",
            "  train_runtime            =   0:48:10.64\n",
            "  train_samples_per_second =        8.832\n",
            "  train_steps_per_second   =        0.277\n"
          ]
        }
      ]
    },
    {
      "cell_type": "code",
      "source": [
        "print(finger_ViT_results)"
      ],
      "metadata": {
        "id": "VVkjNfE8OFCp",
        "colab": {
          "base_uri": "https://localhost:8080/"
        },
        "outputId": "901005b3-cea7-40aa-aefa-6bb533820ecb"
      },
      "execution_count": 104,
      "outputs": [
        {
          "output_type": "stream",
          "name": "stdout",
          "text": [
            "TrainOutput(global_step=800, training_loss=0.6670010501146316, metrics={'train_runtime': 2890.6489, 'train_samples_per_second': 8.832, 'train_steps_per_second': 0.277, 'total_flos': 1.9783704948605338e+18, 'train_loss': 0.6670010501146316, 'epoch': 5.0})\n"
          ]
        }
      ]
    },
    {
      "cell_type": "markdown",
      "source": [
        "\n",
        "Step\tTraining Loss\tValidation Loss\tAccuracy\n",
        "\n",
        "100\t0.639200\t0.609000\t0.678959\n",
        "\n",
        "200\t0.490100\t0.633611\t0.704989\n",
        "\n",
        "300\t0.510300\t0.592520\t0.685466\n",
        "\n",
        "400\t0.424900\t0.702305\t0.670282\n",
        "\n",
        "500\t0.290000\t0.855674\t0.633406\n",
        "\n",
        "600\t0.294100\t0.870166\t0.644252\n",
        "\n",
        "***** train metrics *****\n",
        "\n",
        "  epoch                    =          4.0\n",
        "\n",
        "  total_flos               = 1474000882GF\n",
        "\n",
        "  train_loss               =       0.4408\n",
        "\n",
        "  train_runtime            =   1:51:04.16\n",
        "\n",
        "  train_samples_per_second =        3.065\n",
        "\n",
        "  train_steps_per_second   =        0.096"
      ],
      "metadata": {
        "id": "DjSyNg6teO5F"
      }
    },
    {
      "cell_type": "markdown",
      "source": [
        "### Shoulder"
      ],
      "metadata": {
        "id": "qYPYt8ixzIXR"
      }
    },
    {
      "cell_type": "code",
      "source": [
        "training_args_shoulder = TrainingArguments(\n",
        "  # save checkpoints and predictions to this directory\n",
        "  output_dir=\"mura/Models/Shoulder\",\n",
        "  per_device_train_batch_size=vit_batch_size,\n",
        "  evaluation_strategy=\"steps\",\n",
        "  num_train_epochs=vit_epochs,\n",
        "  fp16=True,\n",
        "  save_steps=100,\n",
        "  eval_steps=100,\n",
        "  logging_steps=10,\n",
        "  learning_rate=vit_lr,\n",
        "  save_total_limit=2,\n",
        "  remove_unused_columns=False,\n",
        "  push_to_hub=False,\n",
        "  report_to='tensorboard',\n",
        "  load_best_model_at_end=True,\n",
        ")"
      ],
      "metadata": {
        "id": "h7fJ-vexzIKv"
      },
      "execution_count": 105,
      "outputs": []
    },
    {
      "cell_type": "code",
      "source": [
        "#create trainer for shoulder ViT model\n",
        "ViT_shoulder_trainer = Trainer(\n",
        "    model=ViT_2_target_model,\n",
        "    args=training_args_shoulder,\n",
        "    data_collator=collate_fn,\n",
        "    compute_metrics=compute_metrics,\n",
        "    train_dataset=ViT_shoulder_train_dataset,\n",
        "    eval_dataset=ViT_shoulder_test_dataset,\n",
        "    tokenizer=feature_extractor,\n",
        ")"
      ],
      "metadata": {
        "id": "4x94s3BRzIC0"
      },
      "execution_count": 106,
      "outputs": []
    },
    {
      "cell_type": "code",
      "source": [
        "# run shoulder ViT model\n",
        "shoulder_ViT_results = run_ViT(ViT_shoulder_trainer)"
      ],
      "metadata": {
        "id": "_gXj1iEtzH5D",
        "colab": {
          "base_uri": "https://localhost:8080/",
          "height": 651
        },
        "outputId": "b3df5079-5037-463e-c1c1-68dacb4608bc"
      },
      "execution_count": 107,
      "outputs": [
        {
          "output_type": "stream",
          "name": "stderr",
          "text": [
            "/usr/local/lib/python3.9/dist-packages/transformers/optimization.py:391: FutureWarning: This implementation of AdamW is deprecated and will be removed in a future version. Use the PyTorch implementation torch.optim.AdamW instead, or set `no_deprecation_warning=True` to disable this warning\n",
            "  warnings.warn(\n"
          ]
        },
        {
          "output_type": "display_data",
          "data": {
            "text/plain": [
              "<IPython.core.display.HTML object>"
            ],
            "text/html": [
              "\n",
              "    <div>\n",
              "      \n",
              "      <progress value='1310' max='1310' style='width:300px; height:20px; vertical-align: middle;'></progress>\n",
              "      [1310/1310 1:29:07, Epoch 5/5]\n",
              "    </div>\n",
              "    <table border=\"1\" class=\"dataframe\">\n",
              "  <thead>\n",
              " <tr style=\"text-align: left;\">\n",
              "      <th>Step</th>\n",
              "      <th>Training Loss</th>\n",
              "      <th>Validation Loss</th>\n",
              "      <th>Accuracy</th>\n",
              "    </tr>\n",
              "  </thead>\n",
              "  <tbody>\n",
              "    <tr>\n",
              "      <td>100</td>\n",
              "      <td>0.694900</td>\n",
              "      <td>0.692967</td>\n",
              "      <td>0.506217</td>\n",
              "    </tr>\n",
              "    <tr>\n",
              "      <td>200</td>\n",
              "      <td>0.693600</td>\n",
              "      <td>0.693267</td>\n",
              "      <td>0.506217</td>\n",
              "    </tr>\n",
              "    <tr>\n",
              "      <td>300</td>\n",
              "      <td>0.692700</td>\n",
              "      <td>0.693188</td>\n",
              "      <td>0.506217</td>\n",
              "    </tr>\n",
              "    <tr>\n",
              "      <td>400</td>\n",
              "      <td>0.692300</td>\n",
              "      <td>0.692918</td>\n",
              "      <td>0.506217</td>\n",
              "    </tr>\n",
              "    <tr>\n",
              "      <td>500</td>\n",
              "      <td>0.693700</td>\n",
              "      <td>0.692930</td>\n",
              "      <td>0.506217</td>\n",
              "    </tr>\n",
              "    <tr>\n",
              "      <td>600</td>\n",
              "      <td>0.692400</td>\n",
              "      <td>0.693248</td>\n",
              "      <td>0.506217</td>\n",
              "    </tr>\n",
              "    <tr>\n",
              "      <td>700</td>\n",
              "      <td>0.693300</td>\n",
              "      <td>0.693173</td>\n",
              "      <td>0.493783</td>\n",
              "    </tr>\n",
              "    <tr>\n",
              "      <td>800</td>\n",
              "      <td>0.693500</td>\n",
              "      <td>0.693112</td>\n",
              "      <td>0.506217</td>\n",
              "    </tr>\n",
              "    <tr>\n",
              "      <td>900</td>\n",
              "      <td>0.693900</td>\n",
              "      <td>0.693141</td>\n",
              "      <td>0.506217</td>\n",
              "    </tr>\n",
              "    <tr>\n",
              "      <td>1000</td>\n",
              "      <td>0.693200</td>\n",
              "      <td>0.693384</td>\n",
              "      <td>0.493783</td>\n",
              "    </tr>\n",
              "    <tr>\n",
              "      <td>1100</td>\n",
              "      <td>0.693200</td>\n",
              "      <td>0.693058</td>\n",
              "      <td>0.506217</td>\n",
              "    </tr>\n",
              "    <tr>\n",
              "      <td>1200</td>\n",
              "      <td>0.693200</td>\n",
              "      <td>0.693070</td>\n",
              "      <td>0.506217</td>\n",
              "    </tr>\n",
              "    <tr>\n",
              "      <td>1300</td>\n",
              "      <td>0.693200</td>\n",
              "      <td>0.693070</td>\n",
              "      <td>0.506217</td>\n",
              "    </tr>\n",
              "  </tbody>\n",
              "</table><p>"
            ]
          },
          "metadata": {}
        },
        {
          "output_type": "stream",
          "name": "stdout",
          "text": [
            "***** train metrics *****\n",
            "  epoch                    =          5.0\n",
            "  total_flos               = 3023563795GF\n",
            "  train_loss               =       0.6935\n",
            "  train_runtime            =   1:29:14.66\n",
            "  train_samples_per_second =        7.824\n",
            "  train_steps_per_second   =        0.245\n"
          ]
        }
      ]
    },
    {
      "cell_type": "code",
      "source": [
        "print(shoulder_ViT_results)"
      ],
      "metadata": {
        "id": "jfC9lzMwzqrg",
        "colab": {
          "base_uri": "https://localhost:8080/"
        },
        "outputId": "4bb9f7de-99c5-40c2-e05e-c4e68bdb0f18"
      },
      "execution_count": 108,
      "outputs": [
        {
          "output_type": "stream",
          "name": "stdout",
          "text": [
            "TrainOutput(global_step=1310, training_loss=0.6935444285851399, metrics={'train_runtime': 5354.6654, 'train_samples_per_second': 7.824, 'train_steps_per_second': 0.245, 'total_flos': 3.246526904903332e+18, 'train_loss': 0.6935444285851399, 'epoch': 5.0})\n"
          ]
        }
      ]
    },
    {
      "cell_type": "markdown",
      "source": [
        "## Make Predictions"
      ],
      "metadata": {
        "id": "WU7DywIJgHP1"
      }
    },
    {
      "cell_type": "markdown",
      "source": [
        "https://discuss.huggingface.co/t/using-trainer-at-inference-time/9378/7"
      ],
      "metadata": {
        "id": "XRiG2iXygC7n"
      }
    },
    {
      "cell_type": "code",
      "source": [
        "model = AutoModel.from_pretrained(\"drive/MyDrive/Colab Notebooks/Training_Checkpoints\")"
      ],
      "metadata": {
        "id": "RhTSYGTmBXeT",
        "outputId": "2e22c340-94d0-43e4-a1de-6107b07dbf05",
        "colab": {
          "base_uri": "https://localhost:8080/"
        }
      },
      "execution_count": null,
      "outputs": [
        {
          "output_type": "stream",
          "name": "stderr",
          "text": [
            "Some weights of the model checkpoint at drive/MyDrive/Colab Notebooks/Training_Checkpoints were not used when initializing ViTModel: ['classifier.weight', 'classifier.bias']\n",
            "- This IS expected if you are initializing ViTModel from the checkpoint of a model trained on another task or with another architecture (e.g. initializing a BertForSequenceClassification model from a BertForPreTraining model).\n",
            "- This IS NOT expected if you are initializing ViTModel from the checkpoint of a model that you expect to be exactly identical (initializing a BertForSequenceClassification model from a BertForSequenceClassification model).\n"
          ]
        }
      ]
    },
    {
      "cell_type": "code",
      "source": [
        "# training argument for all ViTs\n",
        "test_args = TrainingArguments(\n",
        "  # save checkpoints and predictions to this directory\n",
        "  output_dir=\"drive/MyDrive/Colab Notebooks/Training_Checkpoints\",\n",
        "  do_train = False,\n",
        "  do_predict = True,\n",
        "  per_device_eval_batch_size = 1,   \n",
        "  dataloader_drop_last = False \n",
        ")\n",
        "\n",
        "\n",
        "# init trainer\n",
        "trainer = Trainer(\n",
        "              model = model, \n",
        "              args = test_args, \n",
        "              compute_metrics = compute_metrics)\n"
      ],
      "metadata": {
        "id": "WGtxh6ORezZe"
      },
      "execution_count": null,
      "outputs": []
    },
    {
      "cell_type": "code",
      "source": [
        "predict_dataset = ViT_MuraDataset(mura_df = shoulder_train, two_targets=True)"
      ],
      "metadata": {
        "id": "KoV00-6Yz8wQ",
        "outputId": "c8fa5c8e-9ec5-43e2-c5eb-63629b846db8",
        "colab": {
          "base_uri": "https://localhost:8080/"
        }
      },
      "execution_count": null,
      "outputs": [
        {
          "output_type": "stream",
          "name": "stderr",
          "text": [
            "/usr/local/lib/python3.10/dist-packages/transformers/models/vit/feature_extraction_vit.py:28: FutureWarning: The class ViTFeatureExtractor is deprecated and will be removed in version 5 of Transformers. Please use ViTImageProcessor instead.\n",
            "  warnings.warn(\n"
          ]
        }
      ]
    },
    {
      "cell_type": "code",
      "source": [
        "test_results = trainer.predict(predict_dataset)"
      ],
      "metadata": {
        "id": "LEZV2wyNgnYW",
        "outputId": "4344e59c-14b5-484a-acba-3fa28bcec4b3",
        "colab": {
          "base_uri": "https://localhost:8080/",
          "height": 324
        }
      },
      "execution_count": null,
      "outputs": [
        {
          "output_type": "error",
          "ename": "TypeError",
          "evalue": "ignored",
          "traceback": [
            "\u001b[0;31m---------------------------------------------------------------------------\u001b[0m",
            "\u001b[0;31mTypeError\u001b[0m                                 Traceback (most recent call last)",
            "\u001b[0;32m<ipython-input-111-ed055cc55bae>\u001b[0m in \u001b[0;36m<cell line: 1>\u001b[0;34m()\u001b[0m\n\u001b[0;32m----> 1\u001b[0;31m \u001b[0mtest_results\u001b[0m \u001b[0;34m=\u001b[0m \u001b[0mtrainer\u001b[0m\u001b[0;34m.\u001b[0m\u001b[0mpredict\u001b[0m\u001b[0;34m(\u001b[0m\u001b[0mpredict_dataset\u001b[0m\u001b[0;34m)\u001b[0m\u001b[0;34m\u001b[0m\u001b[0;34m\u001b[0m\u001b[0m\n\u001b[0m",
            "\u001b[0;32m/usr/local/lib/python3.10/dist-packages/transformers/trainer.py\u001b[0m in \u001b[0;36mpredict\u001b[0;34m(self, test_dataset, ignore_keys, metric_key_prefix)\u001b[0m\n\u001b[1;32m   3067\u001b[0m \u001b[0;34m\u001b[0m\u001b[0m\n\u001b[1;32m   3068\u001b[0m         \u001b[0meval_loop\u001b[0m \u001b[0;34m=\u001b[0m \u001b[0mself\u001b[0m\u001b[0;34m.\u001b[0m\u001b[0mprediction_loop\u001b[0m \u001b[0;32mif\u001b[0m \u001b[0mself\u001b[0m\u001b[0;34m.\u001b[0m\u001b[0margs\u001b[0m\u001b[0;34m.\u001b[0m\u001b[0muse_legacy_prediction_loop\u001b[0m \u001b[0;32melse\u001b[0m \u001b[0mself\u001b[0m\u001b[0;34m.\u001b[0m\u001b[0mevaluation_loop\u001b[0m\u001b[0;34m\u001b[0m\u001b[0;34m\u001b[0m\u001b[0m\n\u001b[0;32m-> 3069\u001b[0;31m         output = eval_loop(\n\u001b[0m\u001b[1;32m   3070\u001b[0m             \u001b[0mtest_dataloader\u001b[0m\u001b[0;34m,\u001b[0m \u001b[0mdescription\u001b[0m\u001b[0;34m=\u001b[0m\u001b[0;34m\"Prediction\"\u001b[0m\u001b[0;34m,\u001b[0m \u001b[0mignore_keys\u001b[0m\u001b[0;34m=\u001b[0m\u001b[0mignore_keys\u001b[0m\u001b[0;34m,\u001b[0m \u001b[0mmetric_key_prefix\u001b[0m\u001b[0;34m=\u001b[0m\u001b[0mmetric_key_prefix\u001b[0m\u001b[0;34m\u001b[0m\u001b[0;34m\u001b[0m\u001b[0m\n\u001b[1;32m   3071\u001b[0m         )\n",
            "\u001b[0;32m/usr/local/lib/python3.10/dist-packages/transformers/trainer.py\u001b[0m in \u001b[0;36mevaluation_loop\u001b[0;34m(self, dataloader, description, prediction_loss_only, ignore_keys, metric_key_prefix)\u001b[0m\n\u001b[1;32m   3172\u001b[0m \u001b[0;34m\u001b[0m\u001b[0m\n\u001b[1;32m   3173\u001b[0m             \u001b[0;31m# Prediction step\u001b[0m\u001b[0;34m\u001b[0m\u001b[0;34m\u001b[0m\u001b[0m\n\u001b[0;32m-> 3174\u001b[0;31m             \u001b[0mloss\u001b[0m\u001b[0;34m,\u001b[0m \u001b[0mlogits\u001b[0m\u001b[0;34m,\u001b[0m \u001b[0mlabels\u001b[0m \u001b[0;34m=\u001b[0m \u001b[0mself\u001b[0m\u001b[0;34m.\u001b[0m\u001b[0mprediction_step\u001b[0m\u001b[0;34m(\u001b[0m\u001b[0mmodel\u001b[0m\u001b[0;34m,\u001b[0m \u001b[0minputs\u001b[0m\u001b[0;34m,\u001b[0m \u001b[0mprediction_loss_only\u001b[0m\u001b[0;34m,\u001b[0m \u001b[0mignore_keys\u001b[0m\u001b[0;34m=\u001b[0m\u001b[0mignore_keys\u001b[0m\u001b[0;34m)\u001b[0m\u001b[0;34m\u001b[0m\u001b[0;34m\u001b[0m\u001b[0m\n\u001b[0m\u001b[1;32m   3175\u001b[0m             \u001b[0minputs_decode\u001b[0m \u001b[0;34m=\u001b[0m \u001b[0mself\u001b[0m\u001b[0;34m.\u001b[0m\u001b[0m_prepare_input\u001b[0m\u001b[0;34m(\u001b[0m\u001b[0minputs\u001b[0m\u001b[0;34m[\u001b[0m\u001b[0;34m\"input_ids\"\u001b[0m\u001b[0;34m]\u001b[0m\u001b[0;34m)\u001b[0m \u001b[0;32mif\u001b[0m \u001b[0margs\u001b[0m\u001b[0;34m.\u001b[0m\u001b[0minclude_inputs_for_metrics\u001b[0m \u001b[0;32melse\u001b[0m \u001b[0;32mNone\u001b[0m\u001b[0;34m\u001b[0m\u001b[0;34m\u001b[0m\u001b[0m\n\u001b[1;32m   3176\u001b[0m \u001b[0;34m\u001b[0m\u001b[0m\n",
            "\u001b[0;32m/usr/local/lib/python3.10/dist-packages/transformers/trainer.py\u001b[0m in \u001b[0;36mprediction_step\u001b[0;34m(self, model, inputs, prediction_loss_only, ignore_keys)\u001b[0m\n\u001b[1;32m   3437\u001b[0m                     \u001b[0mloss\u001b[0m \u001b[0;34m=\u001b[0m \u001b[0;32mNone\u001b[0m\u001b[0;34m\u001b[0m\u001b[0;34m\u001b[0m\u001b[0m\n\u001b[1;32m   3438\u001b[0m                     \u001b[0;32mwith\u001b[0m \u001b[0mself\u001b[0m\u001b[0;34m.\u001b[0m\u001b[0mcompute_loss_context_manager\u001b[0m\u001b[0;34m(\u001b[0m\u001b[0;34m)\u001b[0m\u001b[0;34m:\u001b[0m\u001b[0;34m\u001b[0m\u001b[0;34m\u001b[0m\u001b[0m\n\u001b[0;32m-> 3439\u001b[0;31m                         \u001b[0moutputs\u001b[0m \u001b[0;34m=\u001b[0m \u001b[0mmodel\u001b[0m\u001b[0;34m(\u001b[0m\u001b[0;34m**\u001b[0m\u001b[0minputs\u001b[0m\u001b[0;34m)\u001b[0m\u001b[0;34m\u001b[0m\u001b[0;34m\u001b[0m\u001b[0m\n\u001b[0m\u001b[1;32m   3440\u001b[0m                     \u001b[0;32mif\u001b[0m \u001b[0misinstance\u001b[0m\u001b[0;34m(\u001b[0m\u001b[0moutputs\u001b[0m\u001b[0;34m,\u001b[0m \u001b[0mdict\u001b[0m\u001b[0;34m)\u001b[0m\u001b[0;34m:\u001b[0m\u001b[0;34m\u001b[0m\u001b[0;34m\u001b[0m\u001b[0m\n\u001b[1;32m   3441\u001b[0m                         \u001b[0mlogits\u001b[0m \u001b[0;34m=\u001b[0m \u001b[0mtuple\u001b[0m\u001b[0;34m(\u001b[0m\u001b[0mv\u001b[0m \u001b[0;32mfor\u001b[0m \u001b[0mk\u001b[0m\u001b[0;34m,\u001b[0m \u001b[0mv\u001b[0m \u001b[0;32min\u001b[0m \u001b[0moutputs\u001b[0m\u001b[0;34m.\u001b[0m\u001b[0mitems\u001b[0m\u001b[0;34m(\u001b[0m\u001b[0;34m)\u001b[0m \u001b[0;32mif\u001b[0m \u001b[0mk\u001b[0m \u001b[0;32mnot\u001b[0m \u001b[0;32min\u001b[0m \u001b[0mignore_keys\u001b[0m\u001b[0;34m)\u001b[0m\u001b[0;34m\u001b[0m\u001b[0;34m\u001b[0m\u001b[0m\n",
            "\u001b[0;32m/usr/local/lib/python3.10/dist-packages/torch/nn/modules/module.py\u001b[0m in \u001b[0;36m_call_impl\u001b[0;34m(self, *args, **kwargs)\u001b[0m\n\u001b[1;32m   1499\u001b[0m                 \u001b[0;32mor\u001b[0m \u001b[0m_global_backward_pre_hooks\u001b[0m \u001b[0;32mor\u001b[0m \u001b[0m_global_backward_hooks\u001b[0m\u001b[0;34m\u001b[0m\u001b[0;34m\u001b[0m\u001b[0m\n\u001b[1;32m   1500\u001b[0m                 or _global_forward_hooks or _global_forward_pre_hooks):\n\u001b[0;32m-> 1501\u001b[0;31m             \u001b[0;32mreturn\u001b[0m \u001b[0mforward_call\u001b[0m\u001b[0;34m(\u001b[0m\u001b[0;34m*\u001b[0m\u001b[0margs\u001b[0m\u001b[0;34m,\u001b[0m \u001b[0;34m**\u001b[0m\u001b[0mkwargs\u001b[0m\u001b[0;34m)\u001b[0m\u001b[0;34m\u001b[0m\u001b[0;34m\u001b[0m\u001b[0m\n\u001b[0m\u001b[1;32m   1502\u001b[0m         \u001b[0;31m# Do not call functions when jit is used\u001b[0m\u001b[0;34m\u001b[0m\u001b[0;34m\u001b[0m\u001b[0m\n\u001b[1;32m   1503\u001b[0m         \u001b[0mfull_backward_hooks\u001b[0m\u001b[0;34m,\u001b[0m \u001b[0mnon_full_backward_hooks\u001b[0m \u001b[0;34m=\u001b[0m \u001b[0;34m[\u001b[0m\u001b[0;34m]\u001b[0m\u001b[0;34m,\u001b[0m \u001b[0;34m[\u001b[0m\u001b[0;34m]\u001b[0m\u001b[0;34m\u001b[0m\u001b[0;34m\u001b[0m\u001b[0m\n",
            "\u001b[0;31mTypeError\u001b[0m: ViTModel.forward() got an unexpected keyword argument 'labels'"
          ]
        }
      ]
    },
    {
      "cell_type": "code",
      "source": [
        "import os\n",
        "\n",
        "ex_img_path = 'drive/MyDrive/MURA-v1.1/train/XR_SHOULDER/patient00001/study1_positive/image1.png'\n",
        "train_valid = 'drive/MyDrive/MURA-v1.1'\n",
        "region ='drive/MyDrive/MURA-v1.1/train'\n",
        "patient = 'drive/MyDrive/MURA-v1.1/train/XR_SHOULDER'\n",
        "study = 'drive/MyDrive/MURA-v1.1/train/XR_SHOULDER/patient00001'\n",
        "\n",
        "a = os.listdir(train_valid)\n",
        "b = os.listdir(region)\n",
        "c = os.listdir(patient)\n",
        "d = os.listdir(study)\n",
        "\n",
        "\n",
        "print(a,'\\n\\n',b,'\\n\\n',c,'\\n\\n',d)"
      ],
      "metadata": {
        "id": "jHcuOxWlBXab"
      },
      "execution_count": null,
      "outputs": []
    }
  ]
}