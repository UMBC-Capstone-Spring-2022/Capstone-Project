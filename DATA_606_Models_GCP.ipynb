{
  "nbformat": 4,
  "nbformat_minor": 0,
  "metadata": {
    "colab": {
      "provenance": [],
      "gpuType": "T4",
      "toc_visible": true
    },
    "kernelspec": {
      "name": "python3",
      "display_name": "Python 3"
    },
    "language_info": {
      "name": "python"
    },
    "gpuClass": "standard",
    "accelerator": "GPU"
  },
  "cells": [
    {
      "cell_type": "markdown",
      "source": [
        "https://pub.towardsai.net/connect-colab-to-gcs-bucket-using-gcsfuse-29f4f844d074\n"
      ],
      "metadata": {
        "id": "XR8ctBlcbczh"
      }
    },
    {
      "cell_type": "code",
      "execution_count": null,
      "metadata": {
        "colab": {
          "base_uri": "https://localhost:8080/"
        },
        "id": "EQ3cvidcdQaC",
        "outputId": "359873ea-e31f-4082-f0d6-9a436500b0c8"
      },
      "outputs": [
        {
          "output_type": "stream",
          "name": "stderr",
          "text": [
            "WARNING:google.auth.compute_engine._metadata:Compute Engine Metadata server unavailable on attempt 1 of 3. Reason: [Errno 115] Operation now in progress\n",
            "WARNING:google.auth.compute_engine._metadata:Compute Engine Metadata server unavailable on attempt 2 of 3. Reason: [Errno 115] Operation now in progress\n",
            "WARNING:google.auth.compute_engine._metadata:Compute Engine Metadata server unavailable on attempt 3 of 3. Reason: [Errno 115] Operation now in progress\n"
          ]
        }
      ],
      "source": [
        "# https://stackoverflow.com/questions/71683158/authentication-issues-on-colab-bigquery\n",
        "import os\n",
        "os.environ['USE_AUTH_EPHEM'] = '0'\n",
        "\n",
        "from google.colab import auth\n",
        "auth.authenticate_user()"
      ]
    },
    {
      "cell_type": "code",
      "source": [
        "!echo \"deb http://packages.cloud.google.com/apt gcsfuse-bionic main\" > /etc/apt/sources.list.d/gcsfuse.list\n",
        "!curl https://packages.cloud.google.com/apt/doc/apt-key.gpg | apt-key add -\n",
        "!apt -qq update\n",
        "!apt -qq install gcsfuse"
      ],
      "metadata": {
        "colab": {
          "base_uri": "https://localhost:8080/"
        },
        "id": "1SXtS7-FbXUQ",
        "outputId": "a7fa9421-48d4-425f-9a99-e199bf142689"
      },
      "execution_count": null,
      "outputs": [
        {
          "output_type": "stream",
          "name": "stdout",
          "text": [
            "  % Total    % Received % Xferd  Average Speed   Time    Time     Time  Current\n",
            "                                 Dload  Upload   Total   Spent    Left  Speed\n",
            "\r  0     0    0     0    0     0      0      0 --:--:-- --:--:-- --:--:--     0\r100  1210  100  1210    0     0  30250      0 --:--:-- --:--:-- --:--:-- 31025\n",
            "OK\n",
            "72 packages can be upgraded. Run 'apt list --upgradable' to see them.\n",
            "gcsfuse is already the newest version (0.42.4).\n",
            "0 upgraded, 0 newly installed, 0 to remove and 72 not upgraded.\n"
          ]
        }
      ]
    },
    {
      "cell_type": "code",
      "source": [
        "!mkdir mura\n",
        "!gcsfuse --implicit-dirs mura_data_606 mura"
      ],
      "metadata": {
        "colab": {
          "base_uri": "https://localhost:8080/"
        },
        "id": "5NjGhGPyblRa",
        "outputId": "c0d9a00f-52da-4577-da0e-0a21a9743614"
      },
      "execution_count": null,
      "outputs": [
        {
          "output_type": "stream",
          "name": "stdout",
          "text": [
            "mkdir: cannot create directory ‘mura’: File exists\n",
            "I0514 07:26:09.492302 2023/05/14 07:26:09.492273 Start gcsfuse/0.42.4 (Go version go1.19.7) for app \"\" using mount point: /content/mura\n"
          ]
        }
      ]
    },
    {
      "cell_type": "code",
      "source": [
        "%%capture\n",
        "! pip install datasets transformers"
      ],
      "metadata": {
        "id": "Ep8TTh1joOSP"
      },
      "execution_count": null,
      "outputs": []
    },
    {
      "cell_type": "code",
      "source": [
        "import pandas as pd\n",
        "import numpy as np\n",
        "import matplotlib.pyplot as plt\n",
        "import os\n",
        "from PIL import Image\n",
        "import torch\n",
        "from torchvision.io import read_image\n",
        "from torchvision import datasets, transforms\n",
        "from torch.utils.data import Dataset, DataLoader\n",
        "from torch import nn\n",
        "from tqdm import tqdm\n",
        "from timeit import default_timer as timer\n",
        "from transformers import ViTImageProcessor, ViTForImageClassification, TrainingArguments, Trainer, ViTFeatureExtractor, ViTImageProcessor\n",
        "from datasets import load_metric, Dataset\n",
        "from transformers import TrainingArguments, Trainer, AutoModelForImageClassification, AutoImageProcessor, pipeline\n",
        "import copy\n",
        "import time\n",
        "import torch.optim as optim\n",
        "import torchvision\n",
        "from skimage import io"
      ],
      "metadata": {
        "id": "FaPNqVjKdf3P"
      },
      "execution_count": null,
      "outputs": []
    },
    {
      "cell_type": "code",
      "source": [
        "# must use cuda for ViT\n",
        "device = \"cuda\" if torch.cuda.is_available() else \"cpu\"\n",
        "device"
      ],
      "metadata": {
        "id": "jgQ8YI74lIMR",
        "colab": {
          "base_uri": "https://localhost:8080/",
          "height": 35
        },
        "outputId": "77dc5c97-2609-40cc-b435-dac2277b1a45"
      },
      "execution_count": null,
      "outputs": [
        {
          "output_type": "execute_result",
          "data": {
            "text/plain": [
              "'cuda'"
            ],
            "application/vnd.google.colaboratory.intrinsic+json": {
              "type": "string"
            }
          },
          "metadata": {},
          "execution_count": 6
        }
      ]
    },
    {
      "cell_type": "markdown",
      "source": [
        "# Load and Prep Data"
      ],
      "metadata": {
        "id": "TLj0uLtegFSQ"
      }
    },
    {
      "cell_type": "markdown",
      "source": [
        "## Import and Massage Data"
      ],
      "metadata": {
        "id": "mUaNjZAmmji8"
      }
    },
    {
      "cell_type": "code",
      "source": [
        "# load train and test csv's with all image paths and targets\n",
        "train_img_paths = pd.read_csv('mura/train_image_paths.csv', header = None, names = ['image_path'])\n",
        "test_img_paths = pd.read_csv('mura/valid_image_paths.csv', header = None, names = ['image_path'])"
      ],
      "metadata": {
        "id": "uCgZJktcm_id"
      },
      "execution_count": null,
      "outputs": []
    },
    {
      "cell_type": "code",
      "source": [
        "len(train_img_paths)"
      ],
      "metadata": {
        "colab": {
          "base_uri": "https://localhost:8080/"
        },
        "id": "yz2bT5nUh2wV",
        "outputId": "c906e4eb-63f8-4135-fe64-59006a12b813"
      },
      "execution_count": null,
      "outputs": [
        {
          "output_type": "execute_result",
          "data": {
            "text/plain": [
              "36808"
            ]
          },
          "metadata": {},
          "execution_count": 8
        }
      ]
    },
    {
      "cell_type": "code",
      "source": [
        "pd.set_option('max_colwidth', None)\n",
        "train_img_paths.head()"
      ],
      "metadata": {
        "colab": {
          "base_uri": "https://localhost:8080/",
          "height": 204
        },
        "id": "l8vZn6IFuGT1",
        "outputId": "fcb6c419-60ea-4afd-d08f-23601ec58e24"
      },
      "execution_count": null,
      "outputs": [
        {
          "output_type": "execute_result",
          "data": {
            "text/plain": [
              "                                                            image_path\n",
              "0  MURA-v1.1/train/XR_SHOULDER/patient00001/study1_positive/image1.png\n",
              "1  MURA-v1.1/train/XR_SHOULDER/patient00001/study1_positive/image2.png\n",
              "2  MURA-v1.1/train/XR_SHOULDER/patient00001/study1_positive/image3.png\n",
              "3  MURA-v1.1/train/XR_SHOULDER/patient00002/study1_positive/image1.png\n",
              "4  MURA-v1.1/train/XR_SHOULDER/patient00002/study1_positive/image2.png"
            ],
            "text/html": [
              "\n",
              "  <div id=\"df-2760de2a-52bc-4065-b4b1-8d670147b310\">\n",
              "    <div class=\"colab-df-container\">\n",
              "      <div>\n",
              "<style scoped>\n",
              "    .dataframe tbody tr th:only-of-type {\n",
              "        vertical-align: middle;\n",
              "    }\n",
              "\n",
              "    .dataframe tbody tr th {\n",
              "        vertical-align: top;\n",
              "    }\n",
              "\n",
              "    .dataframe thead th {\n",
              "        text-align: right;\n",
              "    }\n",
              "</style>\n",
              "<table border=\"1\" class=\"dataframe\">\n",
              "  <thead>\n",
              "    <tr style=\"text-align: right;\">\n",
              "      <th></th>\n",
              "      <th>image_path</th>\n",
              "    </tr>\n",
              "  </thead>\n",
              "  <tbody>\n",
              "    <tr>\n",
              "      <th>0</th>\n",
              "      <td>MURA-v1.1/train/XR_SHOULDER/patient00001/study1_positive/image1.png</td>\n",
              "    </tr>\n",
              "    <tr>\n",
              "      <th>1</th>\n",
              "      <td>MURA-v1.1/train/XR_SHOULDER/patient00001/study1_positive/image2.png</td>\n",
              "    </tr>\n",
              "    <tr>\n",
              "      <th>2</th>\n",
              "      <td>MURA-v1.1/train/XR_SHOULDER/patient00001/study1_positive/image3.png</td>\n",
              "    </tr>\n",
              "    <tr>\n",
              "      <th>3</th>\n",
              "      <td>MURA-v1.1/train/XR_SHOULDER/patient00002/study1_positive/image1.png</td>\n",
              "    </tr>\n",
              "    <tr>\n",
              "      <th>4</th>\n",
              "      <td>MURA-v1.1/train/XR_SHOULDER/patient00002/study1_positive/image2.png</td>\n",
              "    </tr>\n",
              "  </tbody>\n",
              "</table>\n",
              "</div>\n",
              "      <button class=\"colab-df-convert\" onclick=\"convertToInteractive('df-2760de2a-52bc-4065-b4b1-8d670147b310')\"\n",
              "              title=\"Convert this dataframe to an interactive table.\"\n",
              "              style=\"display:none;\">\n",
              "        \n",
              "  <svg xmlns=\"http://www.w3.org/2000/svg\" height=\"24px\"viewBox=\"0 0 24 24\"\n",
              "       width=\"24px\">\n",
              "    <path d=\"M0 0h24v24H0V0z\" fill=\"none\"/>\n",
              "    <path d=\"M18.56 5.44l.94 2.06.94-2.06 2.06-.94-2.06-.94-.94-2.06-.94 2.06-2.06.94zm-11 1L8.5 8.5l.94-2.06 2.06-.94-2.06-.94L8.5 2.5l-.94 2.06-2.06.94zm10 10l.94 2.06.94-2.06 2.06-.94-2.06-.94-.94-2.06-.94 2.06-2.06.94z\"/><path d=\"M17.41 7.96l-1.37-1.37c-.4-.4-.92-.59-1.43-.59-.52 0-1.04.2-1.43.59L10.3 9.45l-7.72 7.72c-.78.78-.78 2.05 0 2.83L4 21.41c.39.39.9.59 1.41.59.51 0 1.02-.2 1.41-.59l7.78-7.78 2.81-2.81c.8-.78.8-2.07 0-2.86zM5.41 20L4 18.59l7.72-7.72 1.47 1.35L5.41 20z\"/>\n",
              "  </svg>\n",
              "      </button>\n",
              "      \n",
              "  <style>\n",
              "    .colab-df-container {\n",
              "      display:flex;\n",
              "      flex-wrap:wrap;\n",
              "      gap: 12px;\n",
              "    }\n",
              "\n",
              "    .colab-df-convert {\n",
              "      background-color: #E8F0FE;\n",
              "      border: none;\n",
              "      border-radius: 50%;\n",
              "      cursor: pointer;\n",
              "      display: none;\n",
              "      fill: #1967D2;\n",
              "      height: 32px;\n",
              "      padding: 0 0 0 0;\n",
              "      width: 32px;\n",
              "    }\n",
              "\n",
              "    .colab-df-convert:hover {\n",
              "      background-color: #E2EBFA;\n",
              "      box-shadow: 0px 1px 2px rgba(60, 64, 67, 0.3), 0px 1px 3px 1px rgba(60, 64, 67, 0.15);\n",
              "      fill: #174EA6;\n",
              "    }\n",
              "\n",
              "    [theme=dark] .colab-df-convert {\n",
              "      background-color: #3B4455;\n",
              "      fill: #D2E3FC;\n",
              "    }\n",
              "\n",
              "    [theme=dark] .colab-df-convert:hover {\n",
              "      background-color: #434B5C;\n",
              "      box-shadow: 0px 1px 3px 1px rgba(0, 0, 0, 0.15);\n",
              "      filter: drop-shadow(0px 1px 2px rgba(0, 0, 0, 0.3));\n",
              "      fill: #FFFFFF;\n",
              "    }\n",
              "  </style>\n",
              "\n",
              "      <script>\n",
              "        const buttonEl =\n",
              "          document.querySelector('#df-2760de2a-52bc-4065-b4b1-8d670147b310 button.colab-df-convert');\n",
              "        buttonEl.style.display =\n",
              "          google.colab.kernel.accessAllowed ? 'block' : 'none';\n",
              "\n",
              "        async function convertToInteractive(key) {\n",
              "          const element = document.querySelector('#df-2760de2a-52bc-4065-b4b1-8d670147b310');\n",
              "          const dataTable =\n",
              "            await google.colab.kernel.invokeFunction('convertToInteractive',\n",
              "                                                     [key], {});\n",
              "          if (!dataTable) return;\n",
              "\n",
              "          const docLinkHtml = 'Like what you see? Visit the ' +\n",
              "            '<a target=\"_blank\" href=https://colab.research.google.com/notebooks/data_table.ipynb>data table notebook</a>'\n",
              "            + ' to learn more about interactive tables.';\n",
              "          element.innerHTML = '';\n",
              "          dataTable['output_type'] = 'display_data';\n",
              "          await google.colab.output.renderOutput(dataTable, element);\n",
              "          const docLink = document.createElement('div');\n",
              "          docLink.innerHTML = docLinkHtml;\n",
              "          element.appendChild(docLink);\n",
              "        }\n",
              "      </script>\n",
              "    </div>\n",
              "  </div>\n",
              "  "
            ]
          },
          "metadata": {},
          "execution_count": 9
        }
      ]
    },
    {
      "cell_type": "code",
      "source": [
        "# funtion to extract info from train and test dataframes\n",
        "def split_img_paths(df):\n",
        "    temp = df['image_path'].str.split('/', expand=True)\n",
        "    new_df = pd.DataFrame(df['image_path'])\n",
        "    new_df['patient_id'] = temp[3]\n",
        "    new_df['study'] = temp[4].str.split('_', expand = True)[0].str[-1:].astype(int)\n",
        "    new_df['region'] = temp[2].str.split('_', expand = True)[1]\n",
        "    map = {'positive':'abnormal', 'negative':'normal'}\n",
        "    new_df['target'] = temp[4].str.split('_', expand = True)[1]\n",
        "    new_df['target'] = new_df['target'].map(map)\n",
        "    #add image path\n",
        "    new_df['image_path'] = 'mura/'+temp[1]+'/'+temp[2]+'/'+temp[3]+'/'+temp[4]+'/'+temp[5] \n",
        "    \n",
        "    return new_df"
      ],
      "metadata": {
        "id": "IK0QtCsQo-4p"
      },
      "execution_count": null,
      "outputs": []
    },
    {
      "cell_type": "code",
      "source": [
        "# create df with info extracted\n",
        "mura_train = split_img_paths(train_img_paths)\n",
        "mura_test = split_img_paths(test_img_paths)\n",
        "mura_train.head()"
      ],
      "metadata": {
        "colab": {
          "base_uri": "https://localhost:8080/",
          "height": 204
        },
        "id": "h2b2WtbFuhP2",
        "outputId": "ea4945fe-ce4c-45b5-ea4b-9a63b008b1e4"
      },
      "execution_count": null,
      "outputs": [
        {
          "output_type": "execute_result",
          "data": {
            "text/plain": [
              "                                                       image_path  \\\n",
              "0  mura/train/XR_SHOULDER/patient00001/study1_positive/image1.png   \n",
              "1  mura/train/XR_SHOULDER/patient00001/study1_positive/image2.png   \n",
              "2  mura/train/XR_SHOULDER/patient00001/study1_positive/image3.png   \n",
              "3  mura/train/XR_SHOULDER/patient00002/study1_positive/image1.png   \n",
              "4  mura/train/XR_SHOULDER/patient00002/study1_positive/image2.png   \n",
              "\n",
              "     patient_id  study    region    target  \n",
              "0  patient00001      1  SHOULDER  abnormal  \n",
              "1  patient00001      1  SHOULDER  abnormal  \n",
              "2  patient00001      1  SHOULDER  abnormal  \n",
              "3  patient00002      1  SHOULDER  abnormal  \n",
              "4  patient00002      1  SHOULDER  abnormal  "
            ],
            "text/html": [
              "\n",
              "  <div id=\"df-bee4207c-f531-4dc0-9a30-f5b6615db8cd\">\n",
              "    <div class=\"colab-df-container\">\n",
              "      <div>\n",
              "<style scoped>\n",
              "    .dataframe tbody tr th:only-of-type {\n",
              "        vertical-align: middle;\n",
              "    }\n",
              "\n",
              "    .dataframe tbody tr th {\n",
              "        vertical-align: top;\n",
              "    }\n",
              "\n",
              "    .dataframe thead th {\n",
              "        text-align: right;\n",
              "    }\n",
              "</style>\n",
              "<table border=\"1\" class=\"dataframe\">\n",
              "  <thead>\n",
              "    <tr style=\"text-align: right;\">\n",
              "      <th></th>\n",
              "      <th>image_path</th>\n",
              "      <th>patient_id</th>\n",
              "      <th>study</th>\n",
              "      <th>region</th>\n",
              "      <th>target</th>\n",
              "    </tr>\n",
              "  </thead>\n",
              "  <tbody>\n",
              "    <tr>\n",
              "      <th>0</th>\n",
              "      <td>mura/train/XR_SHOULDER/patient00001/study1_positive/image1.png</td>\n",
              "      <td>patient00001</td>\n",
              "      <td>1</td>\n",
              "      <td>SHOULDER</td>\n",
              "      <td>abnormal</td>\n",
              "    </tr>\n",
              "    <tr>\n",
              "      <th>1</th>\n",
              "      <td>mura/train/XR_SHOULDER/patient00001/study1_positive/image2.png</td>\n",
              "      <td>patient00001</td>\n",
              "      <td>1</td>\n",
              "      <td>SHOULDER</td>\n",
              "      <td>abnormal</td>\n",
              "    </tr>\n",
              "    <tr>\n",
              "      <th>2</th>\n",
              "      <td>mura/train/XR_SHOULDER/patient00001/study1_positive/image3.png</td>\n",
              "      <td>patient00001</td>\n",
              "      <td>1</td>\n",
              "      <td>SHOULDER</td>\n",
              "      <td>abnormal</td>\n",
              "    </tr>\n",
              "    <tr>\n",
              "      <th>3</th>\n",
              "      <td>mura/train/XR_SHOULDER/patient00002/study1_positive/image1.png</td>\n",
              "      <td>patient00002</td>\n",
              "      <td>1</td>\n",
              "      <td>SHOULDER</td>\n",
              "      <td>abnormal</td>\n",
              "    </tr>\n",
              "    <tr>\n",
              "      <th>4</th>\n",
              "      <td>mura/train/XR_SHOULDER/patient00002/study1_positive/image2.png</td>\n",
              "      <td>patient00002</td>\n",
              "      <td>1</td>\n",
              "      <td>SHOULDER</td>\n",
              "      <td>abnormal</td>\n",
              "    </tr>\n",
              "  </tbody>\n",
              "</table>\n",
              "</div>\n",
              "      <button class=\"colab-df-convert\" onclick=\"convertToInteractive('df-bee4207c-f531-4dc0-9a30-f5b6615db8cd')\"\n",
              "              title=\"Convert this dataframe to an interactive table.\"\n",
              "              style=\"display:none;\">\n",
              "        \n",
              "  <svg xmlns=\"http://www.w3.org/2000/svg\" height=\"24px\"viewBox=\"0 0 24 24\"\n",
              "       width=\"24px\">\n",
              "    <path d=\"M0 0h24v24H0V0z\" fill=\"none\"/>\n",
              "    <path d=\"M18.56 5.44l.94 2.06.94-2.06 2.06-.94-2.06-.94-.94-2.06-.94 2.06-2.06.94zm-11 1L8.5 8.5l.94-2.06 2.06-.94-2.06-.94L8.5 2.5l-.94 2.06-2.06.94zm10 10l.94 2.06.94-2.06 2.06-.94-2.06-.94-.94-2.06-.94 2.06-2.06.94z\"/><path d=\"M17.41 7.96l-1.37-1.37c-.4-.4-.92-.59-1.43-.59-.52 0-1.04.2-1.43.59L10.3 9.45l-7.72 7.72c-.78.78-.78 2.05 0 2.83L4 21.41c.39.39.9.59 1.41.59.51 0 1.02-.2 1.41-.59l7.78-7.78 2.81-2.81c.8-.78.8-2.07 0-2.86zM5.41 20L4 18.59l7.72-7.72 1.47 1.35L5.41 20z\"/>\n",
              "  </svg>\n",
              "      </button>\n",
              "      \n",
              "  <style>\n",
              "    .colab-df-container {\n",
              "      display:flex;\n",
              "      flex-wrap:wrap;\n",
              "      gap: 12px;\n",
              "    }\n",
              "\n",
              "    .colab-df-convert {\n",
              "      background-color: #E8F0FE;\n",
              "      border: none;\n",
              "      border-radius: 50%;\n",
              "      cursor: pointer;\n",
              "      display: none;\n",
              "      fill: #1967D2;\n",
              "      height: 32px;\n",
              "      padding: 0 0 0 0;\n",
              "      width: 32px;\n",
              "    }\n",
              "\n",
              "    .colab-df-convert:hover {\n",
              "      background-color: #E2EBFA;\n",
              "      box-shadow: 0px 1px 2px rgba(60, 64, 67, 0.3), 0px 1px 3px 1px rgba(60, 64, 67, 0.15);\n",
              "      fill: #174EA6;\n",
              "    }\n",
              "\n",
              "    [theme=dark] .colab-df-convert {\n",
              "      background-color: #3B4455;\n",
              "      fill: #D2E3FC;\n",
              "    }\n",
              "\n",
              "    [theme=dark] .colab-df-convert:hover {\n",
              "      background-color: #434B5C;\n",
              "      box-shadow: 0px 1px 3px 1px rgba(0, 0, 0, 0.15);\n",
              "      filter: drop-shadow(0px 1px 2px rgba(0, 0, 0, 0.3));\n",
              "      fill: #FFFFFF;\n",
              "    }\n",
              "  </style>\n",
              "\n",
              "      <script>\n",
              "        const buttonEl =\n",
              "          document.querySelector('#df-bee4207c-f531-4dc0-9a30-f5b6615db8cd button.colab-df-convert');\n",
              "        buttonEl.style.display =\n",
              "          google.colab.kernel.accessAllowed ? 'block' : 'none';\n",
              "\n",
              "        async function convertToInteractive(key) {\n",
              "          const element = document.querySelector('#df-bee4207c-f531-4dc0-9a30-f5b6615db8cd');\n",
              "          const dataTable =\n",
              "            await google.colab.kernel.invokeFunction('convertToInteractive',\n",
              "                                                     [key], {});\n",
              "          if (!dataTable) return;\n",
              "\n",
              "          const docLinkHtml = 'Like what you see? Visit the ' +\n",
              "            '<a target=\"_blank\" href=https://colab.research.google.com/notebooks/data_table.ipynb>data table notebook</a>'\n",
              "            + ' to learn more about interactive tables.';\n",
              "          element.innerHTML = '';\n",
              "          dataTable['output_type'] = 'display_data';\n",
              "          await google.colab.output.renderOutput(dataTable, element);\n",
              "          const docLink = document.createElement('div');\n",
              "          docLink.innerHTML = docLinkHtml;\n",
              "          element.appendChild(docLink);\n",
              "        }\n",
              "      </script>\n",
              "    </div>\n",
              "  </div>\n",
              "  "
            ]
          },
          "metadata": {},
          "execution_count": 11
        }
      ]
    },
    {
      "cell_type": "code",
      "source": [
        "# function to create df with 14 targets\n",
        "def mura_to14(df):\n",
        "    new_df = df.copy()\n",
        "    new_df['target'] = df['target'] + '_' + df['region']\n",
        "    return new_df"
      ],
      "metadata": {
        "id": "n6K-IEIbEYFx"
      },
      "execution_count": null,
      "outputs": []
    },
    {
      "cell_type": "code",
      "source": [
        "# create df with 14 targets\n",
        "mura_train_14 = mura_to14(mura_train)\n",
        "mura_test_14 = mura_to14(mura_test)\n"
      ],
      "metadata": {
        "id": "PslKV85M0L7I"
      },
      "execution_count": null,
      "outputs": []
    },
    {
      "cell_type": "code",
      "source": [
        "mura_train_14.head()"
      ],
      "metadata": {
        "colab": {
          "base_uri": "https://localhost:8080/",
          "height": 268
        },
        "id": "jw1xbl-GMDhu",
        "outputId": "1f4160ed-7cc1-43b2-fef4-037563b169f5"
      },
      "execution_count": null,
      "outputs": [
        {
          "output_type": "execute_result",
          "data": {
            "text/plain": [
              "                                                       image_path  \\\n",
              "0  mura/train/XR_SHOULDER/patient00001/study1_positive/image1.png   \n",
              "1  mura/train/XR_SHOULDER/patient00001/study1_positive/image2.png   \n",
              "2  mura/train/XR_SHOULDER/patient00001/study1_positive/image3.png   \n",
              "3  mura/train/XR_SHOULDER/patient00002/study1_positive/image1.png   \n",
              "4  mura/train/XR_SHOULDER/patient00002/study1_positive/image2.png   \n",
              "\n",
              "     patient_id  study    region             target  \n",
              "0  patient00001      1  SHOULDER  abnormal_SHOULDER  \n",
              "1  patient00001      1  SHOULDER  abnormal_SHOULDER  \n",
              "2  patient00001      1  SHOULDER  abnormal_SHOULDER  \n",
              "3  patient00002      1  SHOULDER  abnormal_SHOULDER  \n",
              "4  patient00002      1  SHOULDER  abnormal_SHOULDER  "
            ],
            "text/html": [
              "\n",
              "  <div id=\"df-454781b5-ccff-4c56-aed8-d4b37ef02d4c\">\n",
              "    <div class=\"colab-df-container\">\n",
              "      <div>\n",
              "<style scoped>\n",
              "    .dataframe tbody tr th:only-of-type {\n",
              "        vertical-align: middle;\n",
              "    }\n",
              "\n",
              "    .dataframe tbody tr th {\n",
              "        vertical-align: top;\n",
              "    }\n",
              "\n",
              "    .dataframe thead th {\n",
              "        text-align: right;\n",
              "    }\n",
              "</style>\n",
              "<table border=\"1\" class=\"dataframe\">\n",
              "  <thead>\n",
              "    <tr style=\"text-align: right;\">\n",
              "      <th></th>\n",
              "      <th>image_path</th>\n",
              "      <th>patient_id</th>\n",
              "      <th>study</th>\n",
              "      <th>region</th>\n",
              "      <th>target</th>\n",
              "    </tr>\n",
              "  </thead>\n",
              "  <tbody>\n",
              "    <tr>\n",
              "      <th>0</th>\n",
              "      <td>mura/train/XR_SHOULDER/patient00001/study1_positive/image1.png</td>\n",
              "      <td>patient00001</td>\n",
              "      <td>1</td>\n",
              "      <td>SHOULDER</td>\n",
              "      <td>abnormal_SHOULDER</td>\n",
              "    </tr>\n",
              "    <tr>\n",
              "      <th>1</th>\n",
              "      <td>mura/train/XR_SHOULDER/patient00001/study1_positive/image2.png</td>\n",
              "      <td>patient00001</td>\n",
              "      <td>1</td>\n",
              "      <td>SHOULDER</td>\n",
              "      <td>abnormal_SHOULDER</td>\n",
              "    </tr>\n",
              "    <tr>\n",
              "      <th>2</th>\n",
              "      <td>mura/train/XR_SHOULDER/patient00001/study1_positive/image3.png</td>\n",
              "      <td>patient00001</td>\n",
              "      <td>1</td>\n",
              "      <td>SHOULDER</td>\n",
              "      <td>abnormal_SHOULDER</td>\n",
              "    </tr>\n",
              "    <tr>\n",
              "      <th>3</th>\n",
              "      <td>mura/train/XR_SHOULDER/patient00002/study1_positive/image1.png</td>\n",
              "      <td>patient00002</td>\n",
              "      <td>1</td>\n",
              "      <td>SHOULDER</td>\n",
              "      <td>abnormal_SHOULDER</td>\n",
              "    </tr>\n",
              "    <tr>\n",
              "      <th>4</th>\n",
              "      <td>mura/train/XR_SHOULDER/patient00002/study1_positive/image2.png</td>\n",
              "      <td>patient00002</td>\n",
              "      <td>1</td>\n",
              "      <td>SHOULDER</td>\n",
              "      <td>abnormal_SHOULDER</td>\n",
              "    </tr>\n",
              "  </tbody>\n",
              "</table>\n",
              "</div>\n",
              "      <button class=\"colab-df-convert\" onclick=\"convertToInteractive('df-454781b5-ccff-4c56-aed8-d4b37ef02d4c')\"\n",
              "              title=\"Convert this dataframe to an interactive table.\"\n",
              "              style=\"display:none;\">\n",
              "        \n",
              "  <svg xmlns=\"http://www.w3.org/2000/svg\" height=\"24px\"viewBox=\"0 0 24 24\"\n",
              "       width=\"24px\">\n",
              "    <path d=\"M0 0h24v24H0V0z\" fill=\"none\"/>\n",
              "    <path d=\"M18.56 5.44l.94 2.06.94-2.06 2.06-.94-2.06-.94-.94-2.06-.94 2.06-2.06.94zm-11 1L8.5 8.5l.94-2.06 2.06-.94-2.06-.94L8.5 2.5l-.94 2.06-2.06.94zm10 10l.94 2.06.94-2.06 2.06-.94-2.06-.94-.94-2.06-.94 2.06-2.06.94z\"/><path d=\"M17.41 7.96l-1.37-1.37c-.4-.4-.92-.59-1.43-.59-.52 0-1.04.2-1.43.59L10.3 9.45l-7.72 7.72c-.78.78-.78 2.05 0 2.83L4 21.41c.39.39.9.59 1.41.59.51 0 1.02-.2 1.41-.59l7.78-7.78 2.81-2.81c.8-.78.8-2.07 0-2.86zM5.41 20L4 18.59l7.72-7.72 1.47 1.35L5.41 20z\"/>\n",
              "  </svg>\n",
              "      </button>\n",
              "      \n",
              "  <style>\n",
              "    .colab-df-container {\n",
              "      display:flex;\n",
              "      flex-wrap:wrap;\n",
              "      gap: 12px;\n",
              "    }\n",
              "\n",
              "    .colab-df-convert {\n",
              "      background-color: #E8F0FE;\n",
              "      border: none;\n",
              "      border-radius: 50%;\n",
              "      cursor: pointer;\n",
              "      display: none;\n",
              "      fill: #1967D2;\n",
              "      height: 32px;\n",
              "      padding: 0 0 0 0;\n",
              "      width: 32px;\n",
              "    }\n",
              "\n",
              "    .colab-df-convert:hover {\n",
              "      background-color: #E2EBFA;\n",
              "      box-shadow: 0px 1px 2px rgba(60, 64, 67, 0.3), 0px 1px 3px 1px rgba(60, 64, 67, 0.15);\n",
              "      fill: #174EA6;\n",
              "    }\n",
              "\n",
              "    [theme=dark] .colab-df-convert {\n",
              "      background-color: #3B4455;\n",
              "      fill: #D2E3FC;\n",
              "    }\n",
              "\n",
              "    [theme=dark] .colab-df-convert:hover {\n",
              "      background-color: #434B5C;\n",
              "      box-shadow: 0px 1px 3px 1px rgba(0, 0, 0, 0.15);\n",
              "      filter: drop-shadow(0px 1px 2px rgba(0, 0, 0, 0.3));\n",
              "      fill: #FFFFFF;\n",
              "    }\n",
              "  </style>\n",
              "\n",
              "      <script>\n",
              "        const buttonEl =\n",
              "          document.querySelector('#df-454781b5-ccff-4c56-aed8-d4b37ef02d4c button.colab-df-convert');\n",
              "        buttonEl.style.display =\n",
              "          google.colab.kernel.accessAllowed ? 'block' : 'none';\n",
              "\n",
              "        async function convertToInteractive(key) {\n",
              "          const element = document.querySelector('#df-454781b5-ccff-4c56-aed8-d4b37ef02d4c');\n",
              "          const dataTable =\n",
              "            await google.colab.kernel.invokeFunction('convertToInteractive',\n",
              "                                                     [key], {});\n",
              "          if (!dataTable) return;\n",
              "\n",
              "          const docLinkHtml = 'Like what you see? Visit the ' +\n",
              "            '<a target=\"_blank\" href=https://colab.research.google.com/notebooks/data_table.ipynb>data table notebook</a>'\n",
              "            + ' to learn more about interactive tables.';\n",
              "          element.innerHTML = '';\n",
              "          dataTable['output_type'] = 'display_data';\n",
              "          await google.colab.output.renderOutput(dataTable, element);\n",
              "          const docLink = document.createElement('div');\n",
              "          docLink.innerHTML = docLinkHtml;\n",
              "          element.appendChild(docLink);\n",
              "        }\n",
              "      </script>\n",
              "    </div>\n",
              "  </div>\n",
              "  "
            ]
          },
          "metadata": {},
          "execution_count": 14
        }
      ]
    },
    {
      "cell_type": "code",
      "source": [
        "# create train df by region\n",
        "wrist_train = mura_train[mura_train['region']=='WRIST']\n",
        "forearm_train = mura_train[mura_train['region']=='FOREARM']\n",
        "hand_train = mura_train[mura_train['region']=='HAND']\n",
        "humerus_train = mura_train[mura_train['region']=='HUMERUS']\n",
        "elbow_train = mura_train[mura_train['region']=='ELBOW']\n",
        "shoulder_train = mura_train[mura_train['region']=='SHOULDER']\n",
        "finger_train = mura_train[mura_train['region']=='FINGER']\n",
        "\n",
        "# create test df by region\n",
        "wrist_test = mura_test[mura_test['region']=='WRIST']\n",
        "forearm_test = mura_test[mura_test['region']=='FOREARM']\n",
        "hand_test = mura_test[mura_test['region']=='HAND']\n",
        "humerus_test = mura_test[mura_test['region']=='HUMERUS']\n",
        "elbow_test = mura_test[mura_test['region']=='ELBOW']\n",
        "shoulder_test = mura_test[mura_test['region']=='SHOULDER']\n",
        "finger_test = mura_test[mura_test['region']=='FINGER']"
      ],
      "metadata": {
        "id": "-73LtrQGm5zJ"
      },
      "execution_count": null,
      "outputs": []
    },
    {
      "cell_type": "code",
      "source": [
        "wrist_test.head()"
      ],
      "metadata": {
        "colab": {
          "base_uri": "https://localhost:8080/",
          "height": 204
        },
        "id": "ZTNR3VJaLuRH",
        "outputId": "a858417e-6519-414a-8a7e-eb19291dfab0"
      },
      "execution_count": null,
      "outputs": [
        {
          "output_type": "execute_result",
          "data": {
            "text/plain": [
              "                                                    image_path    patient_id  \\\n",
              "0  mura/valid/XR_WRIST/patient11185/study1_positive/image1.png  patient11185   \n",
              "1  mura/valid/XR_WRIST/patient11185/study1_positive/image2.png  patient11185   \n",
              "2  mura/valid/XR_WRIST/patient11185/study1_positive/image3.png  patient11185   \n",
              "3  mura/valid/XR_WRIST/patient11185/study1_positive/image4.png  patient11185   \n",
              "4  mura/valid/XR_WRIST/patient11186/study1_positive/image1.png  patient11186   \n",
              "\n",
              "   study region    target  \n",
              "0      1  WRIST  abnormal  \n",
              "1      1  WRIST  abnormal  \n",
              "2      1  WRIST  abnormal  \n",
              "3      1  WRIST  abnormal  \n",
              "4      1  WRIST  abnormal  "
            ],
            "text/html": [
              "\n",
              "  <div id=\"df-e3c1234a-cddd-4457-9e56-b027f1082fd1\">\n",
              "    <div class=\"colab-df-container\">\n",
              "      <div>\n",
              "<style scoped>\n",
              "    .dataframe tbody tr th:only-of-type {\n",
              "        vertical-align: middle;\n",
              "    }\n",
              "\n",
              "    .dataframe tbody tr th {\n",
              "        vertical-align: top;\n",
              "    }\n",
              "\n",
              "    .dataframe thead th {\n",
              "        text-align: right;\n",
              "    }\n",
              "</style>\n",
              "<table border=\"1\" class=\"dataframe\">\n",
              "  <thead>\n",
              "    <tr style=\"text-align: right;\">\n",
              "      <th></th>\n",
              "      <th>image_path</th>\n",
              "      <th>patient_id</th>\n",
              "      <th>study</th>\n",
              "      <th>region</th>\n",
              "      <th>target</th>\n",
              "    </tr>\n",
              "  </thead>\n",
              "  <tbody>\n",
              "    <tr>\n",
              "      <th>0</th>\n",
              "      <td>mura/valid/XR_WRIST/patient11185/study1_positive/image1.png</td>\n",
              "      <td>patient11185</td>\n",
              "      <td>1</td>\n",
              "      <td>WRIST</td>\n",
              "      <td>abnormal</td>\n",
              "    </tr>\n",
              "    <tr>\n",
              "      <th>1</th>\n",
              "      <td>mura/valid/XR_WRIST/patient11185/study1_positive/image2.png</td>\n",
              "      <td>patient11185</td>\n",
              "      <td>1</td>\n",
              "      <td>WRIST</td>\n",
              "      <td>abnormal</td>\n",
              "    </tr>\n",
              "    <tr>\n",
              "      <th>2</th>\n",
              "      <td>mura/valid/XR_WRIST/patient11185/study1_positive/image3.png</td>\n",
              "      <td>patient11185</td>\n",
              "      <td>1</td>\n",
              "      <td>WRIST</td>\n",
              "      <td>abnormal</td>\n",
              "    </tr>\n",
              "    <tr>\n",
              "      <th>3</th>\n",
              "      <td>mura/valid/XR_WRIST/patient11185/study1_positive/image4.png</td>\n",
              "      <td>patient11185</td>\n",
              "      <td>1</td>\n",
              "      <td>WRIST</td>\n",
              "      <td>abnormal</td>\n",
              "    </tr>\n",
              "    <tr>\n",
              "      <th>4</th>\n",
              "      <td>mura/valid/XR_WRIST/patient11186/study1_positive/image1.png</td>\n",
              "      <td>patient11186</td>\n",
              "      <td>1</td>\n",
              "      <td>WRIST</td>\n",
              "      <td>abnormal</td>\n",
              "    </tr>\n",
              "  </tbody>\n",
              "</table>\n",
              "</div>\n",
              "      <button class=\"colab-df-convert\" onclick=\"convertToInteractive('df-e3c1234a-cddd-4457-9e56-b027f1082fd1')\"\n",
              "              title=\"Convert this dataframe to an interactive table.\"\n",
              "              style=\"display:none;\">\n",
              "        \n",
              "  <svg xmlns=\"http://www.w3.org/2000/svg\" height=\"24px\"viewBox=\"0 0 24 24\"\n",
              "       width=\"24px\">\n",
              "    <path d=\"M0 0h24v24H0V0z\" fill=\"none\"/>\n",
              "    <path d=\"M18.56 5.44l.94 2.06.94-2.06 2.06-.94-2.06-.94-.94-2.06-.94 2.06-2.06.94zm-11 1L8.5 8.5l.94-2.06 2.06-.94-2.06-.94L8.5 2.5l-.94 2.06-2.06.94zm10 10l.94 2.06.94-2.06 2.06-.94-2.06-.94-.94-2.06-.94 2.06-2.06.94z\"/><path d=\"M17.41 7.96l-1.37-1.37c-.4-.4-.92-.59-1.43-.59-.52 0-1.04.2-1.43.59L10.3 9.45l-7.72 7.72c-.78.78-.78 2.05 0 2.83L4 21.41c.39.39.9.59 1.41.59.51 0 1.02-.2 1.41-.59l7.78-7.78 2.81-2.81c.8-.78.8-2.07 0-2.86zM5.41 20L4 18.59l7.72-7.72 1.47 1.35L5.41 20z\"/>\n",
              "  </svg>\n",
              "      </button>\n",
              "      \n",
              "  <style>\n",
              "    .colab-df-container {\n",
              "      display:flex;\n",
              "      flex-wrap:wrap;\n",
              "      gap: 12px;\n",
              "    }\n",
              "\n",
              "    .colab-df-convert {\n",
              "      background-color: #E8F0FE;\n",
              "      border: none;\n",
              "      border-radius: 50%;\n",
              "      cursor: pointer;\n",
              "      display: none;\n",
              "      fill: #1967D2;\n",
              "      height: 32px;\n",
              "      padding: 0 0 0 0;\n",
              "      width: 32px;\n",
              "    }\n",
              "\n",
              "    .colab-df-convert:hover {\n",
              "      background-color: #E2EBFA;\n",
              "      box-shadow: 0px 1px 2px rgba(60, 64, 67, 0.3), 0px 1px 3px 1px rgba(60, 64, 67, 0.15);\n",
              "      fill: #174EA6;\n",
              "    }\n",
              "\n",
              "    [theme=dark] .colab-df-convert {\n",
              "      background-color: #3B4455;\n",
              "      fill: #D2E3FC;\n",
              "    }\n",
              "\n",
              "    [theme=dark] .colab-df-convert:hover {\n",
              "      background-color: #434B5C;\n",
              "      box-shadow: 0px 1px 3px 1px rgba(0, 0, 0, 0.15);\n",
              "      filter: drop-shadow(0px 1px 2px rgba(0, 0, 0, 0.3));\n",
              "      fill: #FFFFFF;\n",
              "    }\n",
              "  </style>\n",
              "\n",
              "      <script>\n",
              "        const buttonEl =\n",
              "          document.querySelector('#df-e3c1234a-cddd-4457-9e56-b027f1082fd1 button.colab-df-convert');\n",
              "        buttonEl.style.display =\n",
              "          google.colab.kernel.accessAllowed ? 'block' : 'none';\n",
              "\n",
              "        async function convertToInteractive(key) {\n",
              "          const element = document.querySelector('#df-e3c1234a-cddd-4457-9e56-b027f1082fd1');\n",
              "          const dataTable =\n",
              "            await google.colab.kernel.invokeFunction('convertToInteractive',\n",
              "                                                     [key], {});\n",
              "          if (!dataTable) return;\n",
              "\n",
              "          const docLinkHtml = 'Like what you see? Visit the ' +\n",
              "            '<a target=\"_blank\" href=https://colab.research.google.com/notebooks/data_table.ipynb>data table notebook</a>'\n",
              "            + ' to learn more about interactive tables.';\n",
              "          element.innerHTML = '';\n",
              "          dataTable['output_type'] = 'display_data';\n",
              "          await google.colab.output.renderOutput(dataTable, element);\n",
              "          const docLink = document.createElement('div');\n",
              "          docLink.innerHTML = docLinkHtml;\n",
              "          element.appendChild(docLink);\n",
              "        }\n",
              "      </script>\n",
              "    </div>\n",
              "  </div>\n",
              "  "
            ]
          },
          "metadata": {},
          "execution_count": 168
        }
      ]
    },
    {
      "cell_type": "markdown",
      "source": [
        "## Create custom Datasets and Dataloaders"
      ],
      "metadata": {
        "id": "1B0RIJ9SmpxF"
      }
    },
    {
      "cell_type": "markdown",
      "source": [
        "https://www.learnpytorch.io/04_pytorch_custom_datasets#41-turn-loaded-images-into-dataloaders"
      ],
      "metadata": {
        "id": "0tn_Ke84MT9d"
      }
    },
    {
      "cell_type": "code",
      "source": [
        "# transformations for images\n",
        "data_transforms = transforms.Compose([\n",
        "    #\n",
        "    #note that output channel is 1, will need to change and re-run for use with 3 channels\n",
        "    #\n",
        "    transforms.Grayscale(num_output_channels=1),\n",
        "    transforms.Resize((224,224)),\n",
        "    transforms.ToTensor()\n",
        "])"
      ],
      "metadata": {
        "id": "J7q4r-Z4SB2C"
      },
      "execution_count": null,
      "outputs": []
    },
    {
      "cell_type": "code",
      "source": [
        "# function to provide list of classes and a dict of classes:targets\n",
        "def class_dict(two_targets):\n",
        "    classes_2 = ['normal', 'abnormal']\n",
        "    dict_2 = {'normal' : 0, 'abnormal': 1}\n",
        "    classes_14 = ['abnormal_WRIST', 'normal_WRIST','abnormal_FOREARM', 'normal_FOREARM',\n",
        "                      'abnormal_HAND', 'normal_HAND', 'abnormal_HUMERUS', 'normal_HUMERUS',\n",
        "                      'abnormal_ELBOW', 'normal_ELBOW', 'abnormal_SHOULDER', 'normal_SHOULDER',\n",
        "                      'abnormal_FINGER', 'normal_FINGER']\n",
        "    dict_14 = {'abnormal_WRIST': 0, 'normal_WRIST': 1,'abnormal_FOREARM' : 2, 'normal_FOREARM' : 3,\n",
        "                      'abnormal_HAND': 4, 'normal_HAND' : 5, 'abnormal_HUMERUS': 6, 'normal_HUMERUS' : 7,\n",
        "                      'abnormal_ELBOW': 8, 'normal_ELBOW' : 9, 'abnormal_SHOULDER' : 10, 'normal_SHOULDER': 11,\n",
        "                      'abnormal_FINGER': 12, 'normal_FINGER' : 13}\n",
        "    if two_targets == True:\n",
        "      return classes_2, dict_2\n",
        "    else:\n",
        "      return classes_14, dict_14"
      ],
      "metadata": {
        "id": "U43jeRlkTILE"
      },
      "execution_count": null,
      "outputs": []
    },
    {
      "cell_type": "code",
      "source": [
        "# create custom dataset class for our MURA dataset\n",
        "\n",
        "class MuraDataset(Dataset):\n",
        "    # change two targets to False if using 14 target data\n",
        "    def __init__(self, mura_df, two_targets, transform=data_transforms):\n",
        "        self.mura = mura_df\n",
        "        self.transform = transform\n",
        "        self.classes, self.class_to_idx = class_dict(two_targets=two_targets)\n",
        "\n",
        "    def __len__(self):\n",
        "        return len(self.mura)\n",
        "\n",
        "    # retrives image from path in df file and target from df\n",
        "    def get_image_class(self, index):\n",
        "        image_path = self.mura.iloc[index]['image_path']\n",
        "        class_name = self.mura.iloc[index]['target']\n",
        "        return Image.open(image_path), class_name  \n",
        "\n",
        "    def __getitem__(self, idx):\n",
        "        image, class_name = self.get_image_class(idx)\n",
        "        label = self.class_to_idx[class_name]\n",
        "\n",
        "        return self.transform(image), label"
      ],
      "metadata": {
        "id": "1HZ1w3Rek1Vm"
      },
      "execution_count": null,
      "outputs": []
    },
    {
      "cell_type": "code",
      "source": [
        "#dict = {}\n",
        "#for i in range(len(train_dataset)):\n",
        "#    img, label = next(iter(train_dataloader))\n",
        "#    shape = img.shape\n",
        "#    dict[shape] = dict.get(shape, 0) + 1"
      ],
      "metadata": {
        "id": "092A6d-yfqKk"
      },
      "execution_count": null,
      "outputs": []
    },
    {
      "cell_type": "code",
      "source": [
        "# create train and test datasets for 14 target df\n",
        "mura_train_14_dataset = MuraDataset(mura_df = mura_train_14, two_targets=False)\n",
        "mura_test_14_dataset = MuraDataset(mura_df = mura_test_14, two_targets=False)"
      ],
      "metadata": {
        "id": "_RDt9aB6RdBw"
      },
      "execution_count": null,
      "outputs": []
    },
    {
      "cell_type": "code",
      "source": [
        "print(len(mura_train_14_dataset), len(mura_test_14_dataset))"
      ],
      "metadata": {
        "colab": {
          "base_uri": "https://localhost:8080/"
        },
        "id": "1EGwXv9mRyD3",
        "outputId": "a2cfbe00-a1cc-432a-e653-1c1d1d527cf7"
      },
      "execution_count": null,
      "outputs": [
        {
          "output_type": "stream",
          "name": "stdout",
          "text": [
            "36808 3197\n"
          ]
        }
      ]
    },
    {
      "cell_type": "code",
      "source": [
        "# create train datasets by region\n",
        "wrist_train_dataset = MuraDataset(mura_df = wrist_train, two_targets=True)\n",
        "forearm_train_dataset = MuraDataset(mura_df = forearm_train, two_targets=True)\n",
        "hand_train_dataset = MuraDataset(mura_df = hand_train, two_targets=True)\n",
        "humerus_train_dataset = MuraDataset(mura_df = humerus_train, two_targets=True)\n",
        "elbow_train_dataset = MuraDataset(mura_df = elbow_train, two_targets=True)\n",
        "shoulder_train_dataset = MuraDataset(mura_df = shoulder_train, two_targets=True)\n",
        "finger_train_dataset = MuraDataset(mura_df = finger_train, two_targets=True)\n",
        "\n",
        "# create test datasets by region\n",
        "wrist_test_dataset = MuraDataset(mura_df = wrist_test, two_targets=True)\n",
        "forearm_test_dataset = MuraDataset(mura_df = forearm_test, two_targets=True)\n",
        "hand_test_dataset = MuraDataset(mura_df = hand_test, two_targets=True)\n",
        "humerus_test_dataset = MuraDataset(mura_df = humerus_test, two_targets=True)\n",
        "elbow_test_dataset = MuraDataset(mura_df = elbow_test, two_targets=True)\n",
        "shoulder_test_dataset = MuraDataset(mura_df = shoulder_test, two_targets=True)\n",
        "finger_test_dataset = MuraDataset(mura_df = finger_test, two_targets=True)"
      ],
      "metadata": {
        "id": "ZvGzSYvvPBF4"
      },
      "execution_count": null,
      "outputs": []
    },
    {
      "cell_type": "code",
      "source": [
        "wrist_len = len(wrist_train)\n",
        "forearm_len = len(forearm_train)\n",
        "hand_len = len(hand_train)\n",
        "humerus_len = len(humerus_train)\n",
        "elbow_len = len(elbow_train)\n",
        "shoulder_len = len(shoulder_train)\n",
        "finger_len = len(finger_train)\n",
        "\n",
        "total = len(mura_train)\n",
        "\n",
        "# ratio of portion of samples we want from each region\n",
        "wrist_ratio = round(wrist_len/total,5)\n",
        "forearm_ratio = round(forearm_len/total,5)\n",
        "hand_ratio = round(hand_len/total,5)\n",
        "humerus_ratio = round(humerus_len/total,5)\n",
        "elbow_ratio = round(elbow_len/total,5)\n",
        "shoulder_ratio = round(shoulder_len/total,5)\n",
        "finger_ratio = round(finger_len/total,5)\n"
      ],
      "metadata": {
        "id": "ShxKpKobtY1x"
      },
      "execution_count": null,
      "outputs": []
    },
    {
      "cell_type": "code",
      "source": [
        "print(wrist_ratio, forearm_ratio)"
      ],
      "metadata": {
        "id": "d8xWrRtatb9l",
        "outputId": "593a16d4-d92e-49fa-ae1c-4f4e7d936516",
        "colab": {
          "base_uri": "https://localhost:8080/"
        }
      },
      "execution_count": null,
      "outputs": [
        {
          "output_type": "stream",
          "name": "stdout",
          "text": [
            "0.26494 0.04958\n"
          ]
        }
      ]
    },
    {
      "cell_type": "code",
      "source": [
        "# create subset of 14 target Dataset, returns train and test Dataset \n",
        "def mura_sample(two_variables = True, num_train_samples = 7000, train_portion = 0.8, eq_reg_samp = False, vit=False, over_sample=False):\n",
        "    \n",
        "    # get number of test samples to sample\n",
        "    num_test_samples = (1-train_portion) * num_train_samples / train_portion\n",
        "\n",
        "    # use len of train data to get porportion of data we want to sample from each region\n",
        "    wrist_len = len(wrist_train)\n",
        "    forearm_len = len(forearm_train)\n",
        "    hand_len = len(hand_train)\n",
        "    humerus_len = len(humerus_train)\n",
        "    elbow_len = len(elbow_train)\n",
        "    shoulder_len = len(shoulder_train)\n",
        "    finger_len = len(finger_train)\n",
        "\n",
        "    total = len(mura_train)\n",
        "\n",
        "    # ratio of portion of samples we want from each region\n",
        "    wrist_ratio = round(wrist_len/total,5) if eq_reg_samp is False else round(1/7,5)\n",
        "    forearm_ratio = round(forearm_len/total,5) if eq_reg_samp is False else round(1/7,5)\n",
        "    hand_ratio = round(hand_len/total,5) if eq_reg_samp is False else round(1/7,5)\n",
        "    humerus_ratio = round(humerus_len/total,5) if eq_reg_samp is False else round(1/7,5)\n",
        "    elbow_ratio = round(elbow_len/total,5) if eq_reg_samp is False else round(1/7,5)\n",
        "    shoulder_ratio = round(shoulder_len/total,5) if eq_reg_samp is False else round(1/7,5)\n",
        "    finger_ratio = round(finger_len/total,5) if eq_reg_samp is False else round(1/7,5)\n",
        "\n",
        "    # random sample train regions\n",
        "    a = wrist_train.sample(n=int(wrist_ratio*num_train_samples), replace=over_sample)\n",
        "    b = forearm_train.sample(n=int(forearm_ratio*num_train_samples), replace=over_sample)\n",
        "    c = hand_train.sample(n=int(hand_ratio*num_train_samples), replace=over_sample)\n",
        "    d = humerus_train.sample(n=int(humerus_ratio*num_train_samples), replace=over_sample)\n",
        "    e = elbow_train.sample(n=int(elbow_ratio*num_train_samples), replace=over_sample)\n",
        "    f = shoulder_train.sample(n=int(shoulder_ratio*num_train_samples), replace=over_sample)\n",
        "    g = finger_train.sample(n=int(finger_ratio*num_train_samples), replace=over_sample)\n",
        "\n",
        "    # random sample test regions\n",
        "    h = wrist_test.sample(n=int(wrist_ratio*num_test_samples), replace=over_sample)\n",
        "    i = forearm_test.sample(n=int(forearm_ratio*num_test_samples), replace=over_sample)\n",
        "    j = hand_test.sample(n=int(hand_ratio*num_test_samples), replace=over_sample)\n",
        "    k = humerus_test.sample(n=int(humerus_ratio*num_test_samples), replace=over_sample)\n",
        "    l = elbow_test.sample(n=int(elbow_ratio*num_test_samples), replace=over_sample)\n",
        "    m = shoulder_test.sample(n=int(shoulder_ratio*num_test_samples), replace=over_sample)\n",
        "    n = finger_test.sample(n=int(finger_ratio*num_test_samples), replace=over_sample)\n",
        "\n",
        "    train_frames = [a,b,c,d,e,f,g]\n",
        "    test_frames = [h,i,j,k,l,m,n]\n",
        "    keys = mura_train.columns\n",
        "    \n",
        "    train_df = pd.concat(train_frames, keys=keys)\n",
        "    test_df = pd.concat(test_frames, keys=keys)\n",
        "\n",
        "    train_df_shuff = train_df.sample(frac=1).reset_index(drop=True)\n",
        "    test_df_shuff = test_df.sample(frac=1).reset_index(drop=True)\n",
        "\n",
        "    if two_variables is False:\n",
        "        train_df_shuff = mura_to14(train_df_shuff)\n",
        "        test_df_shuff = mura_to14(test_df_shuff)\n",
        "\n",
        "    if vit is False:\n",
        "        train_dataset = MuraDataset(mura_df = train_df_shuff, two_targets=two_variables)\n",
        "        test_dataset = MuraDataset(mura_df = test_df_shuff, two_targets=two_variables)\n",
        "    else:\n",
        "        train_dataset = train_df_shuff\n",
        "        test_dataset = test_df_shuff\n",
        "\n",
        "    return train_dataset, test_dataset"
      ],
      "metadata": {
        "id": "q3LmTPAjaBFc"
      },
      "execution_count": null,
      "outputs": []
    },
    {
      "cell_type": "code",
      "source": [
        "mura_train_14_subset, mura_test_14_subset = mura_sample(two_variables = False, vit=False)\n",
        "mura_train_subset, mura_test_subset = mura_sample(two_variables = True, vit=False)"
      ],
      "metadata": {
        "id": "LIGJqaXaXl5y"
      },
      "execution_count": null,
      "outputs": []
    },
    {
      "cell_type": "code",
      "source": [
        "print(len(mura_train_14_subset), len(mura_test_14_subset))"
      ],
      "metadata": {
        "colab": {
          "base_uri": "https://localhost:8080/"
        },
        "id": "DG4fsHhMcw13",
        "outputId": "5eb097ae-3fbd-4f03-9ca3-c24f86d38a44"
      },
      "execution_count": null,
      "outputs": [
        {
          "output_type": "stream",
          "name": "stdout",
          "text": [
            "4433 1106\n"
          ]
        }
      ]
    },
    {
      "cell_type": "code",
      "source": [
        "print(len(mura_train_subset), len(mura_test_subset))"
      ],
      "metadata": {
        "colab": {
          "base_uri": "https://localhost:8080/"
        },
        "id": "NjV-xbi1xwGa",
        "outputId": "a1f332c6-44d5-4abe-b3ec-3adc18f9f163"
      },
      "execution_count": null,
      "outputs": [
        {
          "output_type": "stream",
          "name": "stdout",
          "text": [
            "4433 1106\n"
          ]
        }
      ]
    },
    {
      "cell_type": "code",
      "source": [
        "#check size of datasets\n",
        "print(f'wrist: {len(wrist_train_dataset)}, {len(wrist_test_dataset)}')\n",
        "print(f'forearm: {len(forearm_train_dataset)}, {len(forearm_test_dataset)}')\n",
        "print(f'hand: {len(hand_train_dataset)}, {len(hand_test_dataset)}')\n",
        "print(f'humerus: {len(humerus_train_dataset)}, {len(humerus_test_dataset)}')\n",
        "print(f'elbow: {len(elbow_train_dataset)}, {len(elbow_test_dataset)}')\n",
        "print(f'shoulder: {len(shoulder_train_dataset)}, {len(shoulder_test_dataset)}')\n",
        "print(f'finger: {len(finger_train_dataset)}, {len(finger_test_dataset)}')"
      ],
      "metadata": {
        "colab": {
          "base_uri": "https://localhost:8080/"
        },
        "id": "9lM0qICISWem",
        "outputId": "d7e375a1-7b42-4c59-edf9-77de8e522f1f"
      },
      "execution_count": null,
      "outputs": [
        {
          "output_type": "stream",
          "name": "stdout",
          "text": [
            "wrist: 9752, 659\n",
            "forearm: 1825, 301\n",
            "hand: 5543, 460\n",
            "humerus: 1272, 288\n",
            "elbow: 4931, 465\n",
            "shoulder: 8379, 563\n",
            "finger: 5106, 461\n"
          ]
        }
      ]
    },
    {
      "cell_type": "code",
      "source": [
        "# batch size for all dataloaders we are creating\n",
        "batch_size = 32"
      ],
      "metadata": {
        "id": "wE8-xZNnVvMX"
      },
      "execution_count": null,
      "outputs": []
    },
    {
      "cell_type": "code",
      "source": [
        "# create dataloader for 14 targets dataset\n",
        "mura_train_14_dataloader = DataLoader(mura_train_14_dataset, batch_size=batch_size, shuffle=True)\n",
        "mura_test_14_dataloader = DataLoader(mura_test_14_dataset, batch_size=batch_size, shuffle=True)"
      ],
      "metadata": {
        "id": "j4p0Hu7GSB7a"
      },
      "execution_count": null,
      "outputs": []
    },
    {
      "cell_type": "code",
      "source": [
        "#create train dataloaders by region\n",
        "wrist_train_dataloader = DataLoader(wrist_train_dataset, batch_size=batch_size, shuffle=True)\n",
        "forearm_train_dataloader = DataLoader(forearm_train_dataset, batch_size=batch_size, shuffle=True)\n",
        "hand_train_dataloader = DataLoader(hand_train_dataset, batch_size=batch_size, shuffle=True)\n",
        "humerus_train_dataloader = DataLoader(humerus_train_dataset, batch_size=batch_size, shuffle=True)\n",
        "elbow_train_dataloader = DataLoader(elbow_train_dataset, batch_size=batch_size, shuffle=True)\n",
        "shoulder_train_dataloader = DataLoader(shoulder_train_dataset, batch_size=batch_size, shuffle=True)\n",
        "finger_train_dataloader = DataLoader(finger_train_dataset, batch_size=batch_size, shuffle=True)\n",
        "\n",
        "#create test dataloaders by region\n",
        "wrist_test_dataloader = DataLoader(wrist_test_dataset, batch_size=batch_size, shuffle=True)\n",
        "forearm_test_dataloader = DataLoader(forearm_test_dataset, batch_size=batch_size, shuffle=True)\n",
        "hand_test_dataloader = DataLoader(hand_test_dataset, batch_size=batch_size, shuffle=True)\n",
        "humerus_test_dataloader = DataLoader(humerus_test_dataset, batch_size=batch_size, shuffle=True)\n",
        "elbow_test_dataloader = DataLoader(elbow_test_dataset, batch_size=batch_size, shuffle=True)\n",
        "shoulder_test_dataloader = DataLoader(shoulder_test_dataset, batch_size=batch_size, shuffle=True)\n",
        "finger_test_dataloader = DataLoader(finger_test_dataset, batch_size=batch_size, shuffle=True)"
      ],
      "metadata": {
        "id": "cnXRdZoEPnV7"
      },
      "execution_count": null,
      "outputs": []
    },
    {
      "cell_type": "markdown",
      "source": [
        "# Base Model"
      ],
      "metadata": {
        "id": "KGN2Yycb4GHK"
      }
    },
    {
      "cell_type": "markdown",
      "source": [
        "## Model Implementation"
      ],
      "metadata": {
        "id": "8JWhuht_aKU-"
      }
    },
    {
      "cell_type": "markdown",
      "source": [
        "Implement CNN from:\n",
        "\n",
        "https://www.learnpytorch.io/03_pytorch_computer_vision/#7-model-2-building-a-convolutional-neural-network-cnn"
      ],
      "metadata": {
        "id": "neZUulMCN8rq"
      }
    },
    {
      "cell_type": "code",
      "source": [
        "# Create a convolutional neural network \n",
        "class base_model(nn.Module):\n",
        "    def __init__(self, input_shape: int, hidden_units: int, output_shape: int):\n",
        "        super().__init__()\n",
        "        self.block_1 = nn.Sequential(\n",
        "            nn.Conv2d(in_channels=input_shape, \n",
        "                      out_channels=hidden_units, \n",
        "                      kernel_size=3, # how big is the square that's going over the image?\n",
        "                      stride=1, # default\n",
        "                      padding=1),# options = \"valid\" (no padding) or \"same\" (output has same shape as input) or int for specific number \n",
        "            nn.ReLU(),\n",
        "            nn.Conv2d(in_channels=hidden_units, \n",
        "                      out_channels=hidden_units,\n",
        "                      kernel_size=3,\n",
        "                      stride=1,\n",
        "                      padding=1),\n",
        "            nn.ReLU(),\n",
        "            nn.MaxPool2d(kernel_size=2,\n",
        "                         stride=2) # default stride value is same as kernel_size\n",
        "        )\n",
        "        self.block_2 = nn.Sequential(\n",
        "            nn.Conv2d(hidden_units, hidden_units, 3, padding=1),\n",
        "            nn.ReLU(),\n",
        "            nn.Conv2d(hidden_units, hidden_units, 3, padding=1),\n",
        "            nn.ReLU(),\n",
        "            nn.MaxPool2d(2)\n",
        "        )\n",
        "        self.classifier = nn.Sequential(\n",
        "            nn.Flatten(),\n",
        "            # Where did this in_features shape come from? \n",
        "            # It's because each layer of our network compresses and changes the shape of our inputs data.\n",
        "            nn.Linear(in_features=hidden_units*56*56, \n",
        "                      out_features=output_shape)\n",
        "        )\n",
        "    \n",
        "    def forward(self, x: torch.Tensor):\n",
        "        x = self.block_1(x)\n",
        "        # print(x.shape)\n",
        "        x = self.block_2(x)\n",
        "        # print(x.shape)\n",
        "        x = self.classifier(x)\n",
        "        # print(x.shape)\n",
        "        return x"
      ],
      "metadata": {
        "id": "2Xlm0feaj3FP"
      },
      "execution_count": null,
      "outputs": []
    },
    {
      "cell_type": "code",
      "source": [
        "# define how we will measure our model accuracy\n",
        "def accuracy_fn(y_true, y_pred):\n",
        "    correct = torch.eq(y_true, y_pred).sum().item()\n",
        "    acc = (correct / len(y_pred)) * 100 \n",
        "    return acc"
      ],
      "metadata": {
        "id": "s7MHqPXMV4Yn"
      },
      "execution_count": null,
      "outputs": []
    },
    {
      "cell_type": "code",
      "source": [
        "# define our training and test steps\n",
        "def train_step(model: torch.nn.Module,\n",
        "               data_loader: torch.utils.data.DataLoader,\n",
        "               loss_fn: torch.nn.Module,\n",
        "               optimizer: torch.optim.Optimizer,\n",
        "               accuracy_fn,\n",
        "               device: torch.device = device):\n",
        "    train_loss, train_acc = 0, 0\n",
        "    for batch, (X, y) in enumerate(data_loader):\n",
        "        # Send data to GPU\n",
        "        X, y = X.to(device), y.to(device)\n",
        "\n",
        "        # 1. Forward pass\n",
        "        y_pred = model(X)\n",
        "\n",
        "        # 2. Calculate loss\n",
        "        loss = loss_fn(y_pred, y)\n",
        "        train_loss += loss\n",
        "        train_acc += accuracy_fn(y_true=y,\n",
        "                                 y_pred=y_pred.argmax(dim=1)) # Go from logits -> pred labels\n",
        "\n",
        "        # 3. Optimizer zero grad\n",
        "        optimizer.zero_grad()\n",
        "\n",
        "        # 4. Loss backward\n",
        "        loss.backward()\n",
        "\n",
        "        # 5. Optimizer step\n",
        "        optimizer.step()\n",
        "\n",
        "    # Calculate loss and accuracy per epoch and print out what's happening\n",
        "    train_loss /= len(data_loader)\n",
        "    train_acc /= len(data_loader)\n",
        "    print(f\"Train loss: {train_loss:.5f} | Train accuracy: {train_acc:.2f}%\")\n",
        "\n",
        "def test_step(data_loader: torch.utils.data.DataLoader,\n",
        "              model: torch.nn.Module,\n",
        "              loss_fn: torch.nn.Module,\n",
        "              accuracy_fn,\n",
        "              device: torch.device = device):\n",
        "    test_loss, test_acc = 0, 0\n",
        "    model.eval() # put model in eval mode\n",
        "    # Turn on inference context manager\n",
        "    with torch.inference_mode(): \n",
        "        for X, y in data_loader:\n",
        "            # Send data to GPU\n",
        "            X, y = X.to(device), y.to(device)\n",
        "            \n",
        "            # 1. Forward pass\n",
        "            test_pred = model(X)\n",
        "            \n",
        "            # 2. Calculate loss and accuracy\n",
        "            test_loss += loss_fn(test_pred, y)\n",
        "            test_acc += accuracy_fn(y_true=y,\n",
        "                y_pred=test_pred.argmax(dim=1) # Go from logits -> pred labels\n",
        "            )\n",
        "        \n",
        "        # Adjust metrics and print out\n",
        "        test_loss /= len(data_loader)\n",
        "        test_acc /= len(data_loader)\n",
        "        print(f\"Test loss: {test_loss:.5f} | Test accuracy: {test_acc:.2f}%\\n\")\n"
      ],
      "metadata": {
        "id": "1jTQinzTWX4n"
      },
      "execution_count": null,
      "outputs": []
    },
    {
      "cell_type": "code",
      "source": [
        "# calculate total time training\n",
        "def print_train_time(start: float, end: float, device: torch.device = None):\n",
        "    \"\"\"Prints difference between start and end time.\n",
        "\n",
        "    Args:\n",
        "        start (float): Start time of computation (preferred in timeit format). \n",
        "        end (float): End time of computation.\n",
        "        device ([type], optional): Device that compute is running on. Defaults to None.\n",
        "\n",
        "    Returns:\n",
        "        float: time between start and end in seconds (higher is longer).\n",
        "    \"\"\"\n",
        "    total_time = end - start\n",
        "    print(f\"Train time on {device}: {total_time/60:.3f} minutes\")\n",
        "    return total_time"
      ],
      "metadata": {
        "id": "G5A1Mxi7P4pl"
      },
      "execution_count": null,
      "outputs": []
    },
    {
      "cell_type": "code",
      "source": [
        "# Measure time\n",
        "\n",
        "def run_model(train_data_loader, test_data_loader, model, loss_fn, optimizer,\n",
        "              accuracy_fn=accuracy_fn, epochs=3, device=device):\n",
        "    train_time_start = timer()\n",
        "\n",
        "    # Train and test model \n",
        "    for epoch in tqdm(range(epochs)):\n",
        "        print(f\"Epoch: {epoch}\\n---------\")\n",
        "        train_step(data_loader=train_data_loader, \n",
        "            model=model, \n",
        "            loss_fn=loss_fn,\n",
        "            optimizer=optimizer,\n",
        "            accuracy_fn=accuracy_fn,\n",
        "            device=device\n",
        "        )\n",
        "        test_step(data_loader=test_data_loader,\n",
        "            model=model,\n",
        "            loss_fn=loss_fn,\n",
        "            accuracy_fn=accuracy_fn,\n",
        "            device=device\n",
        "        )\n",
        "\n",
        "    train_time_end = timer()\n",
        "\n",
        "    total_train_time = print_train_time(start=train_time_start,\n",
        "                                              end=train_time_end,\n",
        "                                              device=device)\n",
        "    print(total_train_time)"
      ],
      "metadata": {
        "id": "oAv2E2XVU3gE"
      },
      "execution_count": null,
      "outputs": []
    },
    {
      "cell_type": "markdown",
      "source": [
        "## Run Models"
      ],
      "metadata": {
        "id": "bByLZex4abJX"
      }
    },
    {
      "cell_type": "code",
      "source": [
        "# define loss function and optimizer for all models\n",
        "loss_fn_base_model = nn.CrossEntropyLoss()\n",
        "\n",
        "lr_base_model = 0.01\n",
        "\n",
        "# set optimizer with different model params\n",
        "def set_optimizer(model, lr=lr_base_model):\n",
        "    opt = torch.optim.SGD(params=model.parameters(), \n",
        "                             lr=lr)\n",
        "    return opt \n",
        "\n",
        "epochs_base_model = 5\n",
        "seed = 3"
      ],
      "metadata": {
        "id": "-OmwngKmRgeJ"
      },
      "execution_count": null,
      "outputs": []
    },
    {
      "cell_type": "markdown",
      "source": [
        "### 14 targets"
      ],
      "metadata": {
        "id": "c_w7rnPuflPW"
      }
    },
    {
      "cell_type": "code",
      "source": [
        "# create 14 target base model and move to device\n",
        "torch.manual_seed(seed)\n",
        "\n",
        "mura_14_base_model = base_model(input_shape=1, \n",
        "    hidden_units=10, \n",
        "    output_shape=len(mura_train_14_dataset.classes)).to(device)\n",
        "\n",
        "optimizer_base_model = set_optimizer(mura_14_base_model)\n",
        "\n",
        "mura_14_base_model"
      ],
      "metadata": {
        "colab": {
          "base_uri": "https://localhost:8080/"
        },
        "id": "x2LC_oUOiCr0",
        "outputId": "20920b72-ba1a-4b89-d35b-ff563eeefacf"
      },
      "execution_count": null,
      "outputs": [
        {
          "output_type": "execute_result",
          "data": {
            "text/plain": [
              "base_model(\n",
              "  (block_1): Sequential(\n",
              "    (0): Conv2d(1, 10, kernel_size=(3, 3), stride=(1, 1), padding=(1, 1))\n",
              "    (1): ReLU()\n",
              "    (2): Conv2d(10, 10, kernel_size=(3, 3), stride=(1, 1), padding=(1, 1))\n",
              "    (3): ReLU()\n",
              "    (4): MaxPool2d(kernel_size=2, stride=2, padding=0, dilation=1, ceil_mode=False)\n",
              "  )\n",
              "  (block_2): Sequential(\n",
              "    (0): Conv2d(10, 10, kernel_size=(3, 3), stride=(1, 1), padding=(1, 1))\n",
              "    (1): ReLU()\n",
              "    (2): Conv2d(10, 10, kernel_size=(3, 3), stride=(1, 1), padding=(1, 1))\n",
              "    (3): ReLU()\n",
              "    (4): MaxPool2d(kernel_size=2, stride=2, padding=0, dilation=1, ceil_mode=False)\n",
              "  )\n",
              "  (classifier): Sequential(\n",
              "    (0): Flatten(start_dim=1, end_dim=-1)\n",
              "    (1): Linear(in_features=31360, out_features=14, bias=True)\n",
              "  )\n",
              ")"
            ]
          },
          "metadata": {},
          "execution_count": 42
        }
      ]
    },
    {
      "cell_type": "code",
      "source": [
        "# train and test 14 target base model\n",
        "run_model(train_data_loader=mura_train_14_dataloader, test_data_loader=mura_test_14_dataloader,\n",
        "          model=mura_14_base_model, loss_fn=loss_fn_base_model, optimizer=optimizer_base_model, accuracy_fn=accuracy_fn,\n",
        "          epochs=epochs_base_model)"
      ],
      "metadata": {
        "id": "oMFTB7ekiCjh",
        "colab": {
          "base_uri": "https://localhost:8080/",
          "height": 409
        },
        "outputId": "c5459b87-1ebe-4867-d270-a588434e7388"
      },
      "execution_count": null,
      "outputs": [
        {
          "output_type": "stream",
          "name": "stderr",
          "text": [
            "\r  0%|          | 0/5 [00:00<?, ?it/s]"
          ]
        },
        {
          "output_type": "stream",
          "name": "stdout",
          "text": [
            "Epoch: 0\n",
            "---------\n"
          ]
        },
        {
          "output_type": "stream",
          "name": "stderr",
          "text": [
            "\r  0%|          | 0/5 [00:32<?, ?it/s]\n"
          ]
        },
        {
          "output_type": "error",
          "ename": "KeyboardInterrupt",
          "evalue": "ignored",
          "traceback": [
            "\u001b[0;31m---------------------------------------------------------------------------\u001b[0m",
            "\u001b[0;31mKeyboardInterrupt\u001b[0m                         Traceback (most recent call last)",
            "\u001b[0;32m<ipython-input-43-3a14cc0b2e2e>\u001b[0m in \u001b[0;36m<cell line: 2>\u001b[0;34m()\u001b[0m\n\u001b[1;32m      1\u001b[0m \u001b[0;31m# train and test 14 target base model\u001b[0m\u001b[0;34m\u001b[0m\u001b[0;34m\u001b[0m\u001b[0m\n\u001b[0;32m----> 2\u001b[0;31m run_model(train_data_loader=mura_train_14_dataloader, test_data_loader=mura_test_14_dataloader,\n\u001b[0m\u001b[1;32m      3\u001b[0m           \u001b[0mmodel\u001b[0m\u001b[0;34m=\u001b[0m\u001b[0mmura_14_base_model\u001b[0m\u001b[0;34m,\u001b[0m \u001b[0mloss_fn\u001b[0m\u001b[0;34m=\u001b[0m\u001b[0mloss_fn_base_model\u001b[0m\u001b[0;34m,\u001b[0m \u001b[0moptimizer\u001b[0m\u001b[0;34m=\u001b[0m\u001b[0moptimizer_base_model\u001b[0m\u001b[0;34m,\u001b[0m \u001b[0maccuracy_fn\u001b[0m\u001b[0;34m=\u001b[0m\u001b[0maccuracy_fn\u001b[0m\u001b[0;34m,\u001b[0m\u001b[0;34m\u001b[0m\u001b[0;34m\u001b[0m\u001b[0m\n\u001b[1;32m      4\u001b[0m           epochs=epochs_base_model)\n",
            "\u001b[0;32m<ipython-input-37-717f7a8930d3>\u001b[0m in \u001b[0;36mrun_model\u001b[0;34m(train_data_loader, test_data_loader, model, loss_fn, optimizer, accuracy_fn, epochs, device)\u001b[0m\n\u001b[1;32m      8\u001b[0m     \u001b[0;32mfor\u001b[0m \u001b[0mepoch\u001b[0m \u001b[0;32min\u001b[0m \u001b[0mtqdm\u001b[0m\u001b[0;34m(\u001b[0m\u001b[0mrange\u001b[0m\u001b[0;34m(\u001b[0m\u001b[0mepochs\u001b[0m\u001b[0;34m)\u001b[0m\u001b[0;34m)\u001b[0m\u001b[0;34m:\u001b[0m\u001b[0;34m\u001b[0m\u001b[0;34m\u001b[0m\u001b[0m\n\u001b[1;32m      9\u001b[0m         \u001b[0mprint\u001b[0m\u001b[0;34m(\u001b[0m\u001b[0;34mf\"Epoch: {epoch}\\n---------\"\u001b[0m\u001b[0;34m)\u001b[0m\u001b[0;34m\u001b[0m\u001b[0;34m\u001b[0m\u001b[0m\n\u001b[0;32m---> 10\u001b[0;31m         train_step(data_loader=train_data_loader, \n\u001b[0m\u001b[1;32m     11\u001b[0m             \u001b[0mmodel\u001b[0m\u001b[0;34m=\u001b[0m\u001b[0mmodel\u001b[0m\u001b[0;34m,\u001b[0m\u001b[0;34m\u001b[0m\u001b[0;34m\u001b[0m\u001b[0m\n\u001b[1;32m     12\u001b[0m             \u001b[0mloss_fn\u001b[0m\u001b[0;34m=\u001b[0m\u001b[0mloss_fn\u001b[0m\u001b[0;34m,\u001b[0m\u001b[0;34m\u001b[0m\u001b[0;34m\u001b[0m\u001b[0m\n",
            "\u001b[0;32m<ipython-input-35-05c8d0dabf1f>\u001b[0m in \u001b[0;36mtrain_step\u001b[0;34m(model, data_loader, loss_fn, optimizer, accuracy_fn, device)\u001b[0m\n\u001b[1;32m      7\u001b[0m                device: torch.device = device):\n\u001b[1;32m      8\u001b[0m     \u001b[0mtrain_loss\u001b[0m\u001b[0;34m,\u001b[0m \u001b[0mtrain_acc\u001b[0m \u001b[0;34m=\u001b[0m \u001b[0;36m0\u001b[0m\u001b[0;34m,\u001b[0m \u001b[0;36m0\u001b[0m\u001b[0;34m\u001b[0m\u001b[0;34m\u001b[0m\u001b[0m\n\u001b[0;32m----> 9\u001b[0;31m     \u001b[0;32mfor\u001b[0m \u001b[0mbatch\u001b[0m\u001b[0;34m,\u001b[0m \u001b[0;34m(\u001b[0m\u001b[0mX\u001b[0m\u001b[0;34m,\u001b[0m \u001b[0my\u001b[0m\u001b[0;34m)\u001b[0m \u001b[0;32min\u001b[0m \u001b[0menumerate\u001b[0m\u001b[0;34m(\u001b[0m\u001b[0mdata_loader\u001b[0m\u001b[0;34m)\u001b[0m\u001b[0;34m:\u001b[0m\u001b[0;34m\u001b[0m\u001b[0;34m\u001b[0m\u001b[0m\n\u001b[0m\u001b[1;32m     10\u001b[0m         \u001b[0;31m# Send data to GPU\u001b[0m\u001b[0;34m\u001b[0m\u001b[0;34m\u001b[0m\u001b[0m\n\u001b[1;32m     11\u001b[0m         \u001b[0mX\u001b[0m\u001b[0;34m,\u001b[0m \u001b[0my\u001b[0m \u001b[0;34m=\u001b[0m \u001b[0mX\u001b[0m\u001b[0;34m.\u001b[0m\u001b[0mto\u001b[0m\u001b[0;34m(\u001b[0m\u001b[0mdevice\u001b[0m\u001b[0;34m)\u001b[0m\u001b[0;34m,\u001b[0m \u001b[0my\u001b[0m\u001b[0;34m.\u001b[0m\u001b[0mto\u001b[0m\u001b[0;34m(\u001b[0m\u001b[0mdevice\u001b[0m\u001b[0;34m)\u001b[0m\u001b[0;34m\u001b[0m\u001b[0;34m\u001b[0m\u001b[0m\n",
            "\u001b[0;32m/usr/local/lib/python3.9/dist-packages/torch/utils/data/dataloader.py\u001b[0m in \u001b[0;36m__next__\u001b[0;34m(self)\u001b[0m\n\u001b[1;32m    632\u001b[0m                 \u001b[0;31m# TODO(https://github.com/pytorch/pytorch/issues/76750)\u001b[0m\u001b[0;34m\u001b[0m\u001b[0;34m\u001b[0m\u001b[0m\n\u001b[1;32m    633\u001b[0m                 \u001b[0mself\u001b[0m\u001b[0;34m.\u001b[0m\u001b[0m_reset\u001b[0m\u001b[0;34m(\u001b[0m\u001b[0;34m)\u001b[0m  \u001b[0;31m# type: ignore[call-arg]\u001b[0m\u001b[0;34m\u001b[0m\u001b[0;34m\u001b[0m\u001b[0m\n\u001b[0;32m--> 634\u001b[0;31m             \u001b[0mdata\u001b[0m \u001b[0;34m=\u001b[0m \u001b[0mself\u001b[0m\u001b[0;34m.\u001b[0m\u001b[0m_next_data\u001b[0m\u001b[0;34m(\u001b[0m\u001b[0;34m)\u001b[0m\u001b[0;34m\u001b[0m\u001b[0;34m\u001b[0m\u001b[0m\n\u001b[0m\u001b[1;32m    635\u001b[0m             \u001b[0mself\u001b[0m\u001b[0;34m.\u001b[0m\u001b[0m_num_yielded\u001b[0m \u001b[0;34m+=\u001b[0m \u001b[0;36m1\u001b[0m\u001b[0;34m\u001b[0m\u001b[0;34m\u001b[0m\u001b[0m\n\u001b[1;32m    636\u001b[0m             \u001b[0;32mif\u001b[0m \u001b[0mself\u001b[0m\u001b[0;34m.\u001b[0m\u001b[0m_dataset_kind\u001b[0m \u001b[0;34m==\u001b[0m \u001b[0m_DatasetKind\u001b[0m\u001b[0;34m.\u001b[0m\u001b[0mIterable\u001b[0m \u001b[0;32mand\u001b[0m\u001b[0;31m \u001b[0m\u001b[0;31m\\\u001b[0m\u001b[0;34m\u001b[0m\u001b[0;34m\u001b[0m\u001b[0m\n",
            "\u001b[0;32m/usr/local/lib/python3.9/dist-packages/torch/utils/data/dataloader.py\u001b[0m in \u001b[0;36m_next_data\u001b[0;34m(self)\u001b[0m\n\u001b[1;32m    676\u001b[0m     \u001b[0;32mdef\u001b[0m \u001b[0m_next_data\u001b[0m\u001b[0;34m(\u001b[0m\u001b[0mself\u001b[0m\u001b[0;34m)\u001b[0m\u001b[0;34m:\u001b[0m\u001b[0;34m\u001b[0m\u001b[0;34m\u001b[0m\u001b[0m\n\u001b[1;32m    677\u001b[0m         \u001b[0mindex\u001b[0m \u001b[0;34m=\u001b[0m \u001b[0mself\u001b[0m\u001b[0;34m.\u001b[0m\u001b[0m_next_index\u001b[0m\u001b[0;34m(\u001b[0m\u001b[0;34m)\u001b[0m  \u001b[0;31m# may raise StopIteration\u001b[0m\u001b[0;34m\u001b[0m\u001b[0;34m\u001b[0m\u001b[0m\n\u001b[0;32m--> 678\u001b[0;31m         \u001b[0mdata\u001b[0m \u001b[0;34m=\u001b[0m \u001b[0mself\u001b[0m\u001b[0;34m.\u001b[0m\u001b[0m_dataset_fetcher\u001b[0m\u001b[0;34m.\u001b[0m\u001b[0mfetch\u001b[0m\u001b[0;34m(\u001b[0m\u001b[0mindex\u001b[0m\u001b[0;34m)\u001b[0m  \u001b[0;31m# may raise StopIteration\u001b[0m\u001b[0;34m\u001b[0m\u001b[0;34m\u001b[0m\u001b[0m\n\u001b[0m\u001b[1;32m    679\u001b[0m         \u001b[0;32mif\u001b[0m \u001b[0mself\u001b[0m\u001b[0;34m.\u001b[0m\u001b[0m_pin_memory\u001b[0m\u001b[0;34m:\u001b[0m\u001b[0;34m\u001b[0m\u001b[0;34m\u001b[0m\u001b[0m\n\u001b[1;32m    680\u001b[0m             \u001b[0mdata\u001b[0m \u001b[0;34m=\u001b[0m \u001b[0m_utils\u001b[0m\u001b[0;34m.\u001b[0m\u001b[0mpin_memory\u001b[0m\u001b[0;34m.\u001b[0m\u001b[0mpin_memory\u001b[0m\u001b[0;34m(\u001b[0m\u001b[0mdata\u001b[0m\u001b[0;34m,\u001b[0m \u001b[0mself\u001b[0m\u001b[0;34m.\u001b[0m\u001b[0m_pin_memory_device\u001b[0m\u001b[0;34m)\u001b[0m\u001b[0;34m\u001b[0m\u001b[0;34m\u001b[0m\u001b[0m\n",
            "\u001b[0;32m/usr/local/lib/python3.9/dist-packages/torch/utils/data/_utils/fetch.py\u001b[0m in \u001b[0;36mfetch\u001b[0;34m(self, possibly_batched_index)\u001b[0m\n\u001b[1;32m     49\u001b[0m                 \u001b[0mdata\u001b[0m \u001b[0;34m=\u001b[0m \u001b[0mself\u001b[0m\u001b[0;34m.\u001b[0m\u001b[0mdataset\u001b[0m\u001b[0;34m.\u001b[0m\u001b[0m__getitems__\u001b[0m\u001b[0;34m(\u001b[0m\u001b[0mpossibly_batched_index\u001b[0m\u001b[0;34m)\u001b[0m\u001b[0;34m\u001b[0m\u001b[0;34m\u001b[0m\u001b[0m\n\u001b[1;32m     50\u001b[0m             \u001b[0;32melse\u001b[0m\u001b[0;34m:\u001b[0m\u001b[0;34m\u001b[0m\u001b[0;34m\u001b[0m\u001b[0m\n\u001b[0;32m---> 51\u001b[0;31m                 \u001b[0mdata\u001b[0m \u001b[0;34m=\u001b[0m \u001b[0;34m[\u001b[0m\u001b[0mself\u001b[0m\u001b[0;34m.\u001b[0m\u001b[0mdataset\u001b[0m\u001b[0;34m[\u001b[0m\u001b[0midx\u001b[0m\u001b[0;34m]\u001b[0m \u001b[0;32mfor\u001b[0m \u001b[0midx\u001b[0m \u001b[0;32min\u001b[0m \u001b[0mpossibly_batched_index\u001b[0m\u001b[0;34m]\u001b[0m\u001b[0;34m\u001b[0m\u001b[0;34m\u001b[0m\u001b[0m\n\u001b[0m\u001b[1;32m     52\u001b[0m         \u001b[0;32melse\u001b[0m\u001b[0;34m:\u001b[0m\u001b[0;34m\u001b[0m\u001b[0;34m\u001b[0m\u001b[0m\n\u001b[1;32m     53\u001b[0m             \u001b[0mdata\u001b[0m \u001b[0;34m=\u001b[0m \u001b[0mself\u001b[0m\u001b[0;34m.\u001b[0m\u001b[0mdataset\u001b[0m\u001b[0;34m[\u001b[0m\u001b[0mpossibly_batched_index\u001b[0m\u001b[0;34m]\u001b[0m\u001b[0;34m\u001b[0m\u001b[0;34m\u001b[0m\u001b[0m\n",
            "\u001b[0;32m/usr/local/lib/python3.9/dist-packages/torch/utils/data/_utils/fetch.py\u001b[0m in \u001b[0;36m<listcomp>\u001b[0;34m(.0)\u001b[0m\n\u001b[1;32m     49\u001b[0m                 \u001b[0mdata\u001b[0m \u001b[0;34m=\u001b[0m \u001b[0mself\u001b[0m\u001b[0;34m.\u001b[0m\u001b[0mdataset\u001b[0m\u001b[0;34m.\u001b[0m\u001b[0m__getitems__\u001b[0m\u001b[0;34m(\u001b[0m\u001b[0mpossibly_batched_index\u001b[0m\u001b[0;34m)\u001b[0m\u001b[0;34m\u001b[0m\u001b[0;34m\u001b[0m\u001b[0m\n\u001b[1;32m     50\u001b[0m             \u001b[0;32melse\u001b[0m\u001b[0;34m:\u001b[0m\u001b[0;34m\u001b[0m\u001b[0;34m\u001b[0m\u001b[0m\n\u001b[0;32m---> 51\u001b[0;31m                 \u001b[0mdata\u001b[0m \u001b[0;34m=\u001b[0m \u001b[0;34m[\u001b[0m\u001b[0mself\u001b[0m\u001b[0;34m.\u001b[0m\u001b[0mdataset\u001b[0m\u001b[0;34m[\u001b[0m\u001b[0midx\u001b[0m\u001b[0;34m]\u001b[0m \u001b[0;32mfor\u001b[0m \u001b[0midx\u001b[0m \u001b[0;32min\u001b[0m \u001b[0mpossibly_batched_index\u001b[0m\u001b[0;34m]\u001b[0m\u001b[0;34m\u001b[0m\u001b[0;34m\u001b[0m\u001b[0m\n\u001b[0m\u001b[1;32m     52\u001b[0m         \u001b[0;32melse\u001b[0m\u001b[0;34m:\u001b[0m\u001b[0;34m\u001b[0m\u001b[0;34m\u001b[0m\u001b[0m\n\u001b[1;32m     53\u001b[0m             \u001b[0mdata\u001b[0m \u001b[0;34m=\u001b[0m \u001b[0mself\u001b[0m\u001b[0;34m.\u001b[0m\u001b[0mdataset\u001b[0m\u001b[0;34m[\u001b[0m\u001b[0mpossibly_batched_index\u001b[0m\u001b[0;34m]\u001b[0m\u001b[0;34m\u001b[0m\u001b[0;34m\u001b[0m\u001b[0m\n",
            "\u001b[0;32m<ipython-input-17-ceb025964772>\u001b[0m in \u001b[0;36m__getitem__\u001b[0;34m(self, idx)\u001b[0m\n\u001b[1;32m     18\u001b[0m \u001b[0;34m\u001b[0m\u001b[0m\n\u001b[1;32m     19\u001b[0m     \u001b[0;32mdef\u001b[0m \u001b[0m__getitem__\u001b[0m\u001b[0;34m(\u001b[0m\u001b[0mself\u001b[0m\u001b[0;34m,\u001b[0m \u001b[0midx\u001b[0m\u001b[0;34m)\u001b[0m\u001b[0;34m:\u001b[0m\u001b[0;34m\u001b[0m\u001b[0;34m\u001b[0m\u001b[0m\n\u001b[0;32m---> 20\u001b[0;31m         \u001b[0mimage\u001b[0m\u001b[0;34m,\u001b[0m \u001b[0mclass_name\u001b[0m \u001b[0;34m=\u001b[0m \u001b[0mself\u001b[0m\u001b[0;34m.\u001b[0m\u001b[0mget_image_class\u001b[0m\u001b[0;34m(\u001b[0m\u001b[0midx\u001b[0m\u001b[0;34m)\u001b[0m\u001b[0;34m\u001b[0m\u001b[0;34m\u001b[0m\u001b[0m\n\u001b[0m\u001b[1;32m     21\u001b[0m         \u001b[0mlabel\u001b[0m \u001b[0;34m=\u001b[0m \u001b[0mself\u001b[0m\u001b[0;34m.\u001b[0m\u001b[0mclass_to_idx\u001b[0m\u001b[0;34m[\u001b[0m\u001b[0mclass_name\u001b[0m\u001b[0;34m]\u001b[0m\u001b[0;34m\u001b[0m\u001b[0;34m\u001b[0m\u001b[0m\n\u001b[1;32m     22\u001b[0m \u001b[0;34m\u001b[0m\u001b[0m\n",
            "\u001b[0;32m<ipython-input-17-ceb025964772>\u001b[0m in \u001b[0;36mget_image_class\u001b[0;34m(self, index)\u001b[0m\n\u001b[1;32m     15\u001b[0m         \u001b[0mimage_path\u001b[0m \u001b[0;34m=\u001b[0m \u001b[0mself\u001b[0m\u001b[0;34m.\u001b[0m\u001b[0mmura\u001b[0m\u001b[0;34m.\u001b[0m\u001b[0miloc\u001b[0m\u001b[0;34m[\u001b[0m\u001b[0mindex\u001b[0m\u001b[0;34m]\u001b[0m\u001b[0;34m[\u001b[0m\u001b[0;34m'image_path'\u001b[0m\u001b[0;34m]\u001b[0m\u001b[0;34m\u001b[0m\u001b[0;34m\u001b[0m\u001b[0m\n\u001b[1;32m     16\u001b[0m         \u001b[0mclass_name\u001b[0m \u001b[0;34m=\u001b[0m \u001b[0mself\u001b[0m\u001b[0;34m.\u001b[0m\u001b[0mmura\u001b[0m\u001b[0;34m.\u001b[0m\u001b[0miloc\u001b[0m\u001b[0;34m[\u001b[0m\u001b[0mindex\u001b[0m\u001b[0;34m]\u001b[0m\u001b[0;34m[\u001b[0m\u001b[0;34m'target'\u001b[0m\u001b[0;34m]\u001b[0m\u001b[0;34m\u001b[0m\u001b[0;34m\u001b[0m\u001b[0m\n\u001b[0;32m---> 17\u001b[0;31m         \u001b[0;32mreturn\u001b[0m \u001b[0mImage\u001b[0m\u001b[0;34m.\u001b[0m\u001b[0mopen\u001b[0m\u001b[0;34m(\u001b[0m\u001b[0mimage_path\u001b[0m\u001b[0;34m)\u001b[0m\u001b[0;34m,\u001b[0m \u001b[0mclass_name\u001b[0m\u001b[0;34m\u001b[0m\u001b[0;34m\u001b[0m\u001b[0m\n\u001b[0m\u001b[1;32m     18\u001b[0m \u001b[0;34m\u001b[0m\u001b[0m\n\u001b[1;32m     19\u001b[0m     \u001b[0;32mdef\u001b[0m \u001b[0m__getitem__\u001b[0m\u001b[0;34m(\u001b[0m\u001b[0mself\u001b[0m\u001b[0;34m,\u001b[0m \u001b[0midx\u001b[0m\u001b[0;34m)\u001b[0m\u001b[0;34m:\u001b[0m\u001b[0;34m\u001b[0m\u001b[0;34m\u001b[0m\u001b[0m\n",
            "\u001b[0;32m/usr/local/lib/python3.9/dist-packages/PIL/Image.py\u001b[0m in \u001b[0;36mopen\u001b[0;34m(fp, mode, formats)\u001b[0m\n\u001b[1;32m   2982\u001b[0m         \u001b[0mexclusive_fp\u001b[0m \u001b[0;34m=\u001b[0m \u001b[0;32mTrue\u001b[0m\u001b[0;34m\u001b[0m\u001b[0;34m\u001b[0m\u001b[0m\n\u001b[1;32m   2983\u001b[0m \u001b[0;34m\u001b[0m\u001b[0m\n\u001b[0;32m-> 2984\u001b[0;31m     \u001b[0mprefix\u001b[0m \u001b[0;34m=\u001b[0m \u001b[0mfp\u001b[0m\u001b[0;34m.\u001b[0m\u001b[0mread\u001b[0m\u001b[0;34m(\u001b[0m\u001b[0;36m16\u001b[0m\u001b[0;34m)\u001b[0m\u001b[0;34m\u001b[0m\u001b[0;34m\u001b[0m\u001b[0m\n\u001b[0m\u001b[1;32m   2985\u001b[0m \u001b[0;34m\u001b[0m\u001b[0m\n\u001b[1;32m   2986\u001b[0m     \u001b[0mpreinit\u001b[0m\u001b[0;34m(\u001b[0m\u001b[0;34m)\u001b[0m\u001b[0;34m\u001b[0m\u001b[0;34m\u001b[0m\u001b[0m\n",
            "\u001b[0;31mKeyboardInterrupt\u001b[0m: "
          ]
        }
      ]
    },
    {
      "cell_type": "markdown",
      "source": [
        "### Wrist"
      ],
      "metadata": {
        "id": "DFMLh6h0eIWU"
      }
    },
    {
      "cell_type": "code",
      "source": [
        "# create wrist base model and move to device\n",
        "torch.manual_seed(seed)\n",
        "\n",
        "wrist_base_model = base_model(input_shape=1, \n",
        "    hidden_units=10, \n",
        "    output_shape=len(wrist_test_dataset.classes)).to(device)\n",
        "\n",
        "optimizer_base_model = set_optimizer(wrist_base_model)\n",
        "\n",
        "wrist_base_model"
      ],
      "metadata": {
        "colab": {
          "base_uri": "https://localhost:8080/"
        },
        "id": "uR_T4_ufiDb6",
        "outputId": "5b45b94b-f908-470f-db6a-115c849e241f"
      },
      "execution_count": null,
      "outputs": [
        {
          "output_type": "execute_result",
          "data": {
            "text/plain": [
              "base_model(\n",
              "  (block_1): Sequential(\n",
              "    (0): Conv2d(1, 10, kernel_size=(3, 3), stride=(1, 1), padding=(1, 1))\n",
              "    (1): ReLU()\n",
              "    (2): Conv2d(10, 10, kernel_size=(3, 3), stride=(1, 1), padding=(1, 1))\n",
              "    (3): ReLU()\n",
              "    (4): MaxPool2d(kernel_size=2, stride=2, padding=0, dilation=1, ceil_mode=False)\n",
              "  )\n",
              "  (block_2): Sequential(\n",
              "    (0): Conv2d(10, 10, kernel_size=(3, 3), stride=(1, 1), padding=(1, 1))\n",
              "    (1): ReLU()\n",
              "    (2): Conv2d(10, 10, kernel_size=(3, 3), stride=(1, 1), padding=(1, 1))\n",
              "    (3): ReLU()\n",
              "    (4): MaxPool2d(kernel_size=2, stride=2, padding=0, dilation=1, ceil_mode=False)\n",
              "  )\n",
              "  (classifier): Sequential(\n",
              "    (0): Flatten(start_dim=1, end_dim=-1)\n",
              "    (1): Linear(in_features=31360, out_features=2, bias=True)\n",
              "  )\n",
              ")"
            ]
          },
          "metadata": {},
          "execution_count": 40
        }
      ]
    },
    {
      "cell_type": "code",
      "source": [
        "# train and test wrist base model\n",
        "run_model(train_data_loader=wrist_train_dataloader, test_data_loader=wrist_test_dataloader,\n",
        "          model=wrist_base_model, loss_fn=loss_fn_base_model, optimizer=optimizer_base_model, accuracy_fn=accuracy_fn,\n",
        "          epochs=epochs_base_model)"
      ],
      "metadata": {
        "id": "N1djn5P0iDVv"
      },
      "execution_count": null,
      "outputs": []
    },
    {
      "cell_type": "markdown",
      "source": [
        "### Forearm"
      ],
      "metadata": {
        "id": "8eeznWeEeINX"
      }
    },
    {
      "cell_type": "code",
      "source": [
        "# create forearm base model and move to device\n",
        "torch.manual_seed(seed)\n",
        "\n",
        "forearm_base_model = base_model(input_shape=1, \n",
        "    hidden_units=10, \n",
        "    output_shape=len(forearm_test_dataset.classes)).to(device)\n",
        "\n",
        "optimizer_base_model = set_optimizer(forearm_base_model)\n",
        "\n",
        "forearm_base_model"
      ],
      "metadata": {
        "id": "9w3zkc-6iEQF"
      },
      "execution_count": null,
      "outputs": []
    },
    {
      "cell_type": "code",
      "source": [
        "# train and test forearm base model\n",
        "run_model(train_data_loader=forearm_train_dataloader, test_data_loader=forearm_test_dataloader,\n",
        "          model=forearm_base_model, loss_fn=loss_fn_base_model, optimizer=optimizer_base_model, accuracy_fn=accuracy_fn,\n",
        "          epochs=epochs_base_model)"
      ],
      "metadata": {
        "id": "KCIVfj6JiEM2"
      },
      "execution_count": null,
      "outputs": []
    },
    {
      "cell_type": "markdown",
      "source": [
        "### Hand"
      ],
      "metadata": {
        "id": "wbtIRFz2eIGg"
      }
    },
    {
      "cell_type": "code",
      "source": [
        "# create hand base model and move to device\n",
        "torch.manual_seed(seed)\n",
        "\n",
        "hand_base_model = base_model(input_shape=1, \n",
        "    hidden_units=10, \n",
        "    output_shape=len(hand_test_dataset.classes)).to(device)\n",
        "\n",
        "optimizer_base_model = set_optimizer(hand_base_model)\n",
        "\n",
        "hand_base_model"
      ],
      "metadata": {
        "id": "lxF0WrzOiFax"
      },
      "execution_count": null,
      "outputs": []
    },
    {
      "cell_type": "code",
      "source": [
        "# train and test hand base model\n",
        "run_model(train_data_loader=hand_train_dataloader, test_data_loader=hand_test_dataloader,\n",
        "          model=hand_base_model, loss_fn=loss_fn_base_model, optimizer=optimizer_base_model, accuracy_fn=accuracy_fn,\n",
        "          epochs=epochs_base_model)"
      ],
      "metadata": {
        "id": "-G4tg0JFiFX5"
      },
      "execution_count": null,
      "outputs": []
    },
    {
      "cell_type": "markdown",
      "source": [
        "### Humerus"
      ],
      "metadata": {
        "id": "5pkhLI6oeH33"
      }
    },
    {
      "cell_type": "code",
      "source": [
        "# create humerus base model and move to device\n",
        "torch.manual_seed(seed)\n",
        "\n",
        "humerus_base_model = base_model(input_shape=1, \n",
        "    hidden_units=10, \n",
        "    output_shape=len(humerus_test_dataset.classes)).to(device)\n",
        "\n",
        "optimizer_base_model = set_optimizer(humerus_base_model)\n",
        "\n",
        "humerus_base_model"
      ],
      "metadata": {
        "colab": {
          "base_uri": "https://localhost:8080/"
        },
        "id": "daLHORzPiGvu",
        "outputId": "e2e82379-14ce-440b-cd78-c1b894630492"
      },
      "execution_count": null,
      "outputs": [
        {
          "output_type": "execute_result",
          "data": {
            "text/plain": [
              "base_model(\n",
              "  (block_1): Sequential(\n",
              "    (0): Conv2d(1, 10, kernel_size=(3, 3), stride=(1, 1), padding=(1, 1))\n",
              "    (1): ReLU()\n",
              "    (2): Conv2d(10, 10, kernel_size=(3, 3), stride=(1, 1), padding=(1, 1))\n",
              "    (3): ReLU()\n",
              "    (4): MaxPool2d(kernel_size=2, stride=2, padding=0, dilation=1, ceil_mode=False)\n",
              "  )\n",
              "  (block_2): Sequential(\n",
              "    (0): Conv2d(10, 10, kernel_size=(3, 3), stride=(1, 1), padding=(1, 1))\n",
              "    (1): ReLU()\n",
              "    (2): Conv2d(10, 10, kernel_size=(3, 3), stride=(1, 1), padding=(1, 1))\n",
              "    (3): ReLU()\n",
              "    (4): MaxPool2d(kernel_size=2, stride=2, padding=0, dilation=1, ceil_mode=False)\n",
              "  )\n",
              "  (classifier): Sequential(\n",
              "    (0): Flatten(start_dim=1, end_dim=-1)\n",
              "    (1): Linear(in_features=40960, out_features=2, bias=True)\n",
              "  )\n",
              ")"
            ]
          },
          "metadata": {},
          "execution_count": 138
        }
      ]
    },
    {
      "cell_type": "code",
      "source": [
        "# train and test humerus base model\n",
        "run_model(train_data_loader=humerus_train_dataloader, test_data_loader=humerus_test_dataloader,\n",
        "          model=humerus_base_model, loss_fn=loss_fn_base_model, optimizer=optimizer_base_model, accuracy_fn=accuracy_fn,\n",
        "          epochs=epochs_base_model)"
      ],
      "metadata": {
        "id": "USgTHdxIiGsU"
      },
      "execution_count": null,
      "outputs": []
    },
    {
      "cell_type": "markdown",
      "source": [
        "### Shoulder"
      ],
      "metadata": {
        "id": "ci2MC7BWeHuw"
      }
    },
    {
      "cell_type": "code",
      "source": [
        "# create shoulder base model and move to device\n",
        "torch.manual_seed(seed)\n",
        "\n",
        "shoulder_base_model = base_model(input_shape=1, \n",
        "    hidden_units=10, \n",
        "    output_shape=len(shoulder_test_dataset.classes)).to(device)\n",
        "\n",
        "optimizer_base_model = set_optimizer(shoulder_base_model)\n",
        "\n",
        "shoulder_base_model"
      ],
      "metadata": {
        "colab": {
          "base_uri": "https://localhost:8080/"
        },
        "id": "Y4xC9p-fiHk9",
        "outputId": "b86596ea-e566-4eef-f562-0d04e513a585"
      },
      "execution_count": null,
      "outputs": [
        {
          "output_type": "execute_result",
          "data": {
            "text/plain": [
              "base_model(\n",
              "  (block_1): Sequential(\n",
              "    (0): Conv2d(1, 10, kernel_size=(3, 3), stride=(1, 1), padding=(1, 1))\n",
              "    (1): ReLU()\n",
              "    (2): Conv2d(10, 10, kernel_size=(3, 3), stride=(1, 1), padding=(1, 1))\n",
              "    (3): ReLU()\n",
              "    (4): MaxPool2d(kernel_size=2, stride=2, padding=0, dilation=1, ceil_mode=False)\n",
              "  )\n",
              "  (block_2): Sequential(\n",
              "    (0): Conv2d(10, 10, kernel_size=(3, 3), stride=(1, 1), padding=(1, 1))\n",
              "    (1): ReLU()\n",
              "    (2): Conv2d(10, 10, kernel_size=(3, 3), stride=(1, 1), padding=(1, 1))\n",
              "    (3): ReLU()\n",
              "    (4): MaxPool2d(kernel_size=2, stride=2, padding=0, dilation=1, ceil_mode=False)\n",
              "  )\n",
              "  (classifier): Sequential(\n",
              "    (0): Flatten(start_dim=1, end_dim=-1)\n",
              "    (1): Linear(in_features=40960, out_features=2, bias=True)\n",
              "  )\n",
              ")"
            ]
          },
          "metadata": {},
          "execution_count": 149
        }
      ]
    },
    {
      "cell_type": "code",
      "source": [
        "# train and test shoulder base model\n",
        "run_model(train_data_loader=shoulder_train_dataloader, test_data_loader=shoulder_test_dataloader,\n",
        "          model=shoulder_base_model, loss_fn=loss_fn_base_model, optimizer=optimizer_base_model, accuracy_fn=accuracy_fn,\n",
        "          epochs=epochs_base_model)"
      ],
      "metadata": {
        "id": "-TkAEMo9iHht"
      },
      "execution_count": null,
      "outputs": []
    },
    {
      "cell_type": "markdown",
      "source": [
        "### Elbow"
      ],
      "metadata": {
        "id": "Lz1LDlNLeEEV"
      }
    },
    {
      "cell_type": "code",
      "source": [
        "elbow_base_model.parameters"
      ],
      "metadata": {
        "colab": {
          "base_uri": "https://localhost:8080/"
        },
        "id": "zRfBAhuSXg0K",
        "outputId": "f2273a0f-5e3b-4bbb-a6ca-7b502e96436a"
      },
      "execution_count": null,
      "outputs": [
        {
          "output_type": "execute_result",
          "data": {
            "text/plain": [
              "<bound method Module.parameters of base_model(\n",
              "  (block_1): Sequential(\n",
              "    (0): Conv2d(1, 10, kernel_size=(3, 3), stride=(1, 1), padding=(1, 1))\n",
              "    (1): ReLU()\n",
              "    (2): Conv2d(10, 10, kernel_size=(3, 3), stride=(1, 1), padding=(1, 1))\n",
              "    (3): ReLU()\n",
              "    (4): MaxPool2d(kernel_size=2, stride=2, padding=0, dilation=1, ceil_mode=False)\n",
              "  )\n",
              "  (block_2): Sequential(\n",
              "    (0): Conv2d(10, 10, kernel_size=(3, 3), stride=(1, 1), padding=(1, 1))\n",
              "    (1): ReLU()\n",
              "    (2): Conv2d(10, 10, kernel_size=(3, 3), stride=(1, 1), padding=(1, 1))\n",
              "    (3): ReLU()\n",
              "    (4): MaxPool2d(kernel_size=2, stride=2, padding=0, dilation=1, ceil_mode=False)\n",
              "  )\n",
              "  (classifier): Sequential(\n",
              "    (0): Flatten(start_dim=1, end_dim=-1)\n",
              "    (1): Linear(in_features=40960, out_features=2, bias=True)\n",
              "  )\n",
              ")>"
            ]
          },
          "metadata": {},
          "execution_count": 44
        }
      ]
    },
    {
      "cell_type": "code",
      "source": [
        "# create wrist base elbow and move to device\n",
        "torch.manual_seed(3)\n",
        "\n",
        "elbow_base_model = base_model(input_shape=50176, \n",
        "    hidden_units=10, \n",
        "    output_shape=len(elbow_test_dataset.classes)).to(device)\n",
        "\n",
        "optimizer_base_model = set_optimizer(elbow_base_model)\n",
        "\n",
        "elbow_base_model"
      ],
      "metadata": {
        "colab": {
          "base_uri": "https://localhost:8080/"
        },
        "id": "ctFunKQ1NTOE",
        "outputId": "92b8ec68-6553-47b1-f837-8b3bd22b8e3d"
      },
      "execution_count": null,
      "outputs": [
        {
          "output_type": "execute_result",
          "data": {
            "text/plain": [
              "base_model(\n",
              "  (block_1): Sequential(\n",
              "    (0): Conv2d(50176, 10, kernel_size=(3, 3), stride=(1, 1), padding=(1, 1))\n",
              "    (1): ReLU()\n",
              "    (2): Conv2d(10, 10, kernel_size=(3, 3), stride=(1, 1), padding=(1, 1))\n",
              "    (3): ReLU()\n",
              "    (4): MaxPool2d(kernel_size=2, stride=2, padding=0, dilation=1, ceil_mode=False)\n",
              "  )\n",
              "  (block_2): Sequential(\n",
              "    (0): Conv2d(10, 10, kernel_size=(3, 3), stride=(1, 1), padding=(1, 1))\n",
              "    (1): ReLU()\n",
              "    (2): Conv2d(10, 10, kernel_size=(3, 3), stride=(1, 1), padding=(1, 1))\n",
              "    (3): ReLU()\n",
              "    (4): MaxPool2d(kernel_size=2, stride=2, padding=0, dilation=1, ceil_mode=False)\n",
              "  )\n",
              "  (classifier): Sequential(\n",
              "    (0): Flatten(start_dim=1, end_dim=-1)\n",
              "    (1): Linear(in_features=40960, out_features=2, bias=True)\n",
              "  )\n",
              ")"
            ]
          },
          "metadata": {},
          "execution_count": 45
        }
      ]
    },
    {
      "cell_type": "code",
      "source": [
        "# train and test elbow base model\n",
        "run_model(train_data_loader=elbow_train_dataloader, test_data_loader=elbow_test_dataloader,\n",
        "          model=elbow_base_model, loss_fn=loss_fn_base_model, optimizer=optimizer_base_model, accuracy_fn=accuracy_fn,\n",
        "          epochs=epochs_base_model)"
      ],
      "metadata": {
        "id": "Ib6E5AdwOnPW"
      },
      "execution_count": null,
      "outputs": []
    },
    {
      "cell_type": "markdown",
      "source": [
        "Elbow With batch size = 1\n",
        " \n",
        "  0%|          | 0/3 [00:00<?, ?it/s]Epoch: 0\n",
        "---------\n",
        "Train loss: 2927377804200474425950208.00000 | Train accuracy: 57.96%\n",
        " 33%|███▎      | 1/3 [1:32:51<3:05:42, 5571.33s/it]Test loss: 0.68236 | Test accuracy: 59.32%\n",
        "\n",
        "Epoch: 1\n",
        "---------\n",
        "Train loss: 0.68688 | Train accuracy: 57.41%\n",
        " 67%|██████▋   | 2/3 [1:34:09<39:00, 2340.27s/it]  Test loss: 0.70821 | Test accuracy: 59.32%\n",
        "\n",
        "Epoch: 2\n",
        "---------\n",
        "Train loss: 0.68935 | Train accuracy: 57.70%\n",
        "100%|██████████| 3/3 [1:35:26<00:00, 1908.91s/it]Test loss: 0.71157 | Test accuracy: 40.68%\n",
        "\n"
      ],
      "metadata": {
        "id": "EBNgL3ucCTxo"
      }
    },
    {
      "cell_type": "markdown",
      "source": [
        "Elbow With batch size = 32\n",
        "\n",
        "0%|          | 0/3 [00:00<?, ?it/s]Epoch: 0\n",
        "---------\n",
        "Train loss: 0.67527 | Train accuracy: 59.56%\n",
        " 33%|███▎      | 1/3 [19:56<39:53, 1196.83s/it]Test loss: 0.67626 | Test accuracy: 59.36%\n",
        "\n",
        "Epoch: 1\n",
        "---------\n",
        "Train loss: 0.67621 | Train accuracy: 59.36%\n",
        " 67%|██████▋   | 2/3 [21:01<08:50, 530.74s/it] Test loss: 0.67643 | Test accuracy: 59.17%\n",
        "\n",
        "Epoch: 2\n",
        "---------\n",
        "Train loss: 0.67608 | Train accuracy: 59.36%\n",
        "100%|██████████| 3/3 [22:04<00:00, 441.58s/it]Test loss: 0.67713 | Test accuracy: 58.97%\n",
        "\n",
        "\n",
        "Train time on cuda: 22.079 minutes\n"
      ],
      "metadata": {
        "id": "dKp6RKk1CTmp"
      }
    },
    {
      "cell_type": "markdown",
      "source": [
        "### Finger"
      ],
      "metadata": {
        "id": "6dVZbS5ogzLe"
      }
    },
    {
      "cell_type": "code",
      "source": [
        "# create finger base model and move to device\n",
        "torch.manual_seed(seed)\n",
        "\n",
        "finger_base_model = base_model(input_shape=1, \n",
        "    hidden_units=10, \n",
        "    output_shape=len(finger_test_dataset.classes)).to(device)\n",
        "\n",
        "optimizer_base_model = set_optimizer(finger_base_model)\n",
        "\n",
        "finger_base_model"
      ],
      "metadata": {
        "colab": {
          "base_uri": "https://localhost:8080/"
        },
        "id": "VNn-Oy9GiI3U",
        "outputId": "966bc297-ab1f-42c0-f032-8fac202af590"
      },
      "execution_count": null,
      "outputs": [
        {
          "output_type": "execute_result",
          "data": {
            "text/plain": [
              "base_model(\n",
              "  (block_1): Sequential(\n",
              "    (0): Conv2d(1, 10, kernel_size=(3, 3), stride=(1, 1), padding=(1, 1))\n",
              "    (1): ReLU()\n",
              "    (2): Conv2d(10, 10, kernel_size=(3, 3), stride=(1, 1), padding=(1, 1))\n",
              "    (3): ReLU()\n",
              "    (4): MaxPool2d(kernel_size=2, stride=2, padding=0, dilation=1, ceil_mode=False)\n",
              "  )\n",
              "  (block_2): Sequential(\n",
              "    (0): Conv2d(10, 10, kernel_size=(3, 3), stride=(1, 1), padding=(1, 1))\n",
              "    (1): ReLU()\n",
              "    (2): Conv2d(10, 10, kernel_size=(3, 3), stride=(1, 1), padding=(1, 1))\n",
              "    (3): ReLU()\n",
              "    (4): MaxPool2d(kernel_size=2, stride=2, padding=0, dilation=1, ceil_mode=False)\n",
              "  )\n",
              "  (classifier): Sequential(\n",
              "    (0): Flatten(start_dim=1, end_dim=-1)\n",
              "    (1): Linear(in_features=40960, out_features=2, bias=True)\n",
              "  )\n",
              ")"
            ]
          },
          "metadata": {},
          "execution_count": 139
        }
      ]
    },
    {
      "cell_type": "code",
      "source": [
        "# train and test finger base model\n",
        "run_model(train_data_loader=finger_train_dataloader, test_data_loader=finger_test_dataloader,\n",
        "          model=finger_base_model, loss_fn=loss_fn_base_model, optimizer=optimizer_base_model, accuracy_fn=accuracy_fn,\n",
        "          epochs=epochs_base_model)"
      ],
      "metadata": {
        "id": "BFpPoKqoiI0I"
      },
      "execution_count": null,
      "outputs": []
    },
    {
      "cell_type": "markdown",
      "source": [
        "# Vision Transfomer"
      ],
      "metadata": {
        "id": "jn_3VhpYId3w"
      }
    },
    {
      "cell_type": "markdown",
      "source": [
        "https://huggingface.co/blog/fine-tune-vit\n",
        "\n",
        " https://www.learnpytorch.io/04_pytorch_custom_datasets/#41-turn-loaded-images-into-dataloaders"
      ],
      "metadata": {
        "id": "WIuZKeMFJHde"
      }
    },
    {
      "cell_type": "code",
      "source": [
        "#pre_trained model we are using\n",
        "# Vision Transformer (ViT) model pre-trained on ImageNet-21k \n",
        "# (14 million images, 21,843 classes) at resolution 224x224.\n",
        "model_name_or_path = 'google/vit-base-patch16-224-in21k'"
      ],
      "metadata": {
        "id": "ZiZu6r3kp-JU"
      },
      "execution_count": null,
      "outputs": []
    },
    {
      "cell_type": "markdown",
      "source": [
        "Images are resized/rescaled to the same resolution (224x224) and normalized across the RGB channels with mean (0.5, 0.5, 0.5) and standard deviation (0.5, 0.5, 0.5)."
      ],
      "metadata": {
        "id": "zNI0VXqcJEwf"
      }
    },
    {
      "cell_type": "code",
      "source": [
        "feature_extractor = ViTImageProcessor.from_pretrained(model_name_or_path)"
      ],
      "metadata": {
        "id": "ZSRuN8Cj2HDt"
      },
      "execution_count": null,
      "outputs": []
    },
    {
      "cell_type": "markdown",
      "source": [
        "## Create Custom Datasets"
      ],
      "metadata": {
        "id": "X-yUkmJisPxJ"
      }
    },
    {
      "cell_type": "code",
      "source": [
        "target_to_label_2 = {'normal' : 0, 'abnormal': 1}\n",
        "label_to_target_2 = {0 : 'normal', 1 : 'abnormal'}"
      ],
      "metadata": {
        "id": "_vD6w2SF9JLv"
      },
      "execution_count": null,
      "outputs": []
    },
    {
      "cell_type": "code",
      "source": [
        "target_to_label_14 = {'abnormal_WRIST': 0, 'normal_WRIST': 1,'abnormal_FOREARM' : 2, 'normal_FOREARM' : 3,\n",
        "                      'abnormal_HAND': 4, 'normal_HAND' : 5, 'abnormal_HUMERUS': 6, 'normal_HUMERUS' : 7,\n",
        "                      'abnormal_ELBOW': 8, 'normal_ELBOW' : 9, 'abnormal_SHOULDER' : 10, 'normal_SHOULDER': 11,\n",
        "                      'abnormal_FINGER': 12, 'normal_FINGER' : 13}\n",
        "\n",
        "label_to_target_14 = {0: 'abnormal_WRIST', 1:'normal_WRIST', 2:'abnormal_FOREARM', 3:'normal_FOREARM',\n",
        "                      4:'abnormal_HAND', 5:'normal_HAND', 6:'abnormal_HUMERUS', 7:'normal_HUMERUS',\n",
        "                      8:'abnormal_ELBOW', 9:'normal_ELBOW', 10:'abnormal_SHOULDER', 11:'normal_SHOULDER',\n",
        "                      12:'abnormal_FINGER', 13:'normal_FINGER'}"
      ],
      "metadata": {
        "id": "Q8geBjQ69cuu"
      },
      "execution_count": null,
      "outputs": []
    },
    {
      "cell_type": "code",
      "source": [
        "# transform our dataset to match pre trained model\n",
        "def transform(example_batch):\n",
        "    # Take a list of PIL images and turn them to pixel value\n",
        "    images = []\n",
        "    for img_path in example_batch['image_path']:\n",
        "        img_read = Image.open(img_path).convert('RGB')\n",
        "        images.append(img_read)\n",
        "    inputs = feature_extractor([x for x in images], return_tensors='pt')\n",
        "\n",
        "    # Don't forget to include the labels!\n",
        "    targets = []\n",
        "    for targ in example_batch['target']:\n",
        "        targets.append(target_to_label_2[targ])\n",
        "    inputs['labels'] = [x for x in targets]\n",
        "    return inputs"
      ],
      "metadata": {
        "id": "favqbzgD6xqK"
      },
      "execution_count": null,
      "outputs": []
    },
    {
      "cell_type": "code",
      "source": [
        "# create ViT test and train datasets for 14 targets\n",
        "ViT_mura_train_14_dataset = Dataset.from_pandas(mura_train_14).with_transform(transform)\n",
        "ViT_mura_test_14_dataset = Dataset.from_pandas(mura_test_14).with_transform(transform)\n",
        "\n",
        "\n",
        "ViT_mura_train_all = Dataset.from_pandas(mura_train.sample(frac=1).reset_index(drop=True)).with_transform(transform)\n",
        "ViT_mura_test_all = Dataset.from_pandas(mura_test.sample(frac=1).reset_index(drop=True)).with_transform(transform)"
      ],
      "metadata": {
        "id": "w9ofsZwV29_z"
      },
      "execution_count": null,
      "outputs": []
    },
    {
      "cell_type": "code",
      "source": [
        "# create subset of ViT test and train datasets for 14 targets\n",
        "#ViT_mura_train_14_subset, ViT_mura_test_14_subset = mura_sample(two_variables = False, vit=True)\n",
        "\n",
        "ViT_mura_train_subset, ViT_mura_test_subset = mura_sample(vit=True)\n",
        "\n",
        "ViT_mura_train_subset = Dataset.from_pandas(ViT_mura_train_subset.sample(frac=1).reset_index(drop=True)).with_transform(transform)\n",
        "ViT_mura_test_subset = Dataset.from_pandas(ViT_mura_test_subset.sample(frac=1).reset_index(drop=True)).with_transform(transform)"
      ],
      "metadata": {
        "id": "i1wfgRuVxsoM"
      },
      "execution_count": null,
      "outputs": []
    },
    {
      "cell_type": "code",
      "source": [
        "# create ViT train datasets by region\n",
        "ViT_shoulder_train_dataset = Dataset.from_pandas(shoulder_train).with_transform(transform)\n",
        "ViT_humerus_train_dataset = Dataset.from_pandas(humerus_train).with_transform(transform)\n",
        "ViT_finger_train_dataset = Dataset.from_pandas(finger_train).with_transform(transform)\n",
        "ViT_elbow_train_dataset = Dataset.from_pandas(elbow_train).with_transform(transform)\n",
        "ViT_wrist_train_dataset = Dataset.from_pandas(wrist_train).with_transform(transform)\n",
        "ViT_forearm_train_dataset = Dataset.from_pandas(forearm_train).with_transform(transform)\n",
        "ViT_hand_train_dataset = Dataset.from_pandas(hand_train).with_transform(transform)\n",
        "\n",
        "\n",
        "# create ViT test datasets by region\n",
        "ViT_shoulder_test_dataset = Dataset.from_pandas(shoulder_test).with_transform(transform)\n",
        "ViT_humerus_test_dataset = Dataset.from_pandas(humerus_test).with_transform(transform)\n",
        "ViT_finger_test_dataset = Dataset.from_pandas(finger_test).with_transform(transform)\n",
        "ViT_elbow_test_dataset = Dataset.from_pandas(elbow_test).with_transform(transform)\n",
        "ViT_wrist_test_dataset = Dataset.from_pandas(wrist_test).with_transform(transform)\n",
        "ViT_forearm_test_dataset = Dataset.from_pandas(forearm_test).with_transform(transform)\n",
        "ViT_hand_test_dataset = Dataset.from_pandas(hand_test).with_transform(transform)"
      ],
      "metadata": {
        "id": "bI72tqHRTaMk"
      },
      "execution_count": null,
      "outputs": []
    },
    {
      "cell_type": "code",
      "source": [
        "val_sets = {'shoulder' : ViT_shoulder_test_dataset, 'humerus' : ViT_humerus_test_dataset, \n",
        "            'finger' : ViT_finger_test_dataset, 'elbow' : ViT_elbow_test_dataset, \n",
        "            'wrist' : ViT_wrist_test_dataset, 'forearm' : forearm_test_dataset,\n",
        "            'hand' : ViT_hand_test_dataset}"
      ],
      "metadata": {
        "id": "2XaS3WO__amj"
      },
      "execution_count": null,
      "outputs": []
    },
    {
      "cell_type": "markdown",
      "source": [
        "## Run ViT Models"
      ],
      "metadata": {
        "id": "TG6VuMfdw0Qd"
      }
    },
    {
      "cell_type": "code",
      "source": [
        "# define our collate function\n",
        "def collate_fn(batch):\n",
        "    return {\n",
        "        'pixel_values': torch.stack([x['pixel_values'] for x in batch]),\n",
        "        'labels': torch.tensor([x['labels'] for x in batch])\n",
        "    }"
      ],
      "metadata": {
        "id": "QV6dWwCT3-zx"
      },
      "execution_count": null,
      "outputs": []
    },
    {
      "cell_type": "code",
      "source": [
        "# define metric same as base model\n",
        "metric = load_metric(\"accuracy\")\n",
        "#metric = load_metric(\"precision\")\n",
        "def compute_metrics(p):\n",
        "    return metric.compute(predictions=np.argmax(p.predictions, axis=1), references=p.label_ids)"
      ],
      "metadata": {
        "id": "L-tVRvoR3-wq"
      },
      "execution_count": null,
      "outputs": []
    },
    {
      "cell_type": "code",
      "source": [
        "# training argument for all ViTs\n",
        "vit_batch_size = 32\n",
        "vit_epochs = 5\n",
        "vit_lr = 2e-4"
      ],
      "metadata": {
        "id": "pRabwvuz3-oV"
      },
      "execution_count": null,
      "outputs": []
    },
    {
      "cell_type": "markdown",
      "source": [
        "### 14 targets"
      ],
      "metadata": {
        "id": "4Dbega7y7RCf"
      }
    },
    {
      "cell_type": "code",
      "source": [
        "training_args_14_targets = TrainingArguments(\n",
        "  # save checkpoints and predictions to this directory\n",
        "  output_dir=\"drive/MyDrive/Colab Notebooks/Training_Checkpoints/14_targets\",\n",
        "  per_device_train_batch_size=vit_batch_size,\n",
        "  evaluation_strategy=\"steps\",\n",
        "  num_train_epochs=vit_epochs,\n",
        "  fp16=True,\n",
        "  save_steps=100,\n",
        "  eval_steps=100,\n",
        "  logging_steps=10,\n",
        "  learning_rate=vit_lr,\n",
        "  save_total_limit=2,\n",
        "  remove_unused_columns=False,\n",
        "  push_to_hub=False,\n",
        "  report_to='tensorboard',\n",
        "  load_best_model_at_end=True,\n",
        ")"
      ],
      "metadata": {
        "id": "oBisMN3avS_F"
      },
      "execution_count": null,
      "outputs": []
    },
    {
      "cell_type": "code",
      "source": [
        "#create trainer for 14 target ViT model\n",
        "ViT_14_target_trainer = Trainer(\n",
        "    model=ViT_14_target_model,\n",
        "    args=training_args_14_targets,\n",
        "    data_collator=collate_fn,\n",
        "    compute_metrics=compute_metrics,\n",
        "    train_dataset=ViT_mura_train_14_dataset,\n",
        "    eval_dataset=ViT_mura_test_14_dataset,\n",
        "    tokenizer=feature_extractor,\n",
        ")"
      ],
      "metadata": {
        "id": "iHRx1SqK7y_F"
      },
      "execution_count": null,
      "outputs": []
    },
    {
      "cell_type": "code",
      "source": [
        "# run 14 target ViT model\n"
      ],
      "metadata": {
        "id": "gPkfsoDK7y2m"
      },
      "execution_count": null,
      "outputs": []
    },
    {
      "cell_type": "code",
      "source": [
        "print(ViT_14_targets_results)"
      ],
      "metadata": {
        "id": "3ctTMALpCGDf"
      },
      "execution_count": null,
      "outputs": []
    },
    {
      "cell_type": "markdown",
      "source": [
        "### 14 targets subset"
      ],
      "metadata": {
        "id": "ag3gRqDAyjTY"
      }
    },
    {
      "cell_type": "code",
      "source": [
        "training_args_14_targets_subset = TrainingArguments(\n",
        "  # save checkpoints and predictions to this directory\n",
        "  output_dir=\"drive/MyDrive/Colab Notebooks/Training_Checkpoints/14_targets_subset\",\n",
        "  per_device_train_batch_size=vit_batch_size,\n",
        "  evaluation_strategy=\"steps\",\n",
        "  num_train_epochs=vit_epochs,\n",
        "  fp16=True,\n",
        "  save_steps=100,\n",
        "  eval_steps=100,\n",
        "  logging_steps=10,\n",
        "  learning_rate=vit_lr,\n",
        "  save_total_limit=2,\n",
        "  remove_unused_columns=False,\n",
        "  push_to_hub=False,\n",
        "  report_to='tensorboard',\n",
        "  load_best_model_at_end=True,\n",
        ")"
      ],
      "metadata": {
        "id": "8BilGqccvuid"
      },
      "execution_count": null,
      "outputs": []
    },
    {
      "cell_type": "code",
      "source": [
        "#create trainer for 14 target ViT model\n",
        "ViT_14_target_sub_trainer = Trainer(\n",
        "    model=ViT_14_target_model,\n",
        "    args=training_args_14_targets_subset,\n",
        "    data_collator=collate_fn,\n",
        "    compute_metrics=compute_metrics,\n",
        "    train_dataset=ViT_mura_train_14_subset,\n",
        "    eval_dataset=ViT_mura_test_14_subset,\n",
        "    tokenizer=feature_extractor,\n",
        ")"
      ],
      "metadata": {
        "id": "-n2zyMoCynqo"
      },
      "execution_count": null,
      "outputs": []
    },
    {
      "cell_type": "code",
      "source": [
        "# run 14 target ViT model\n"
      ],
      "metadata": {
        "id": "oKdB0Z8Byo4v",
        "outputId": "30d1732c-e3bd-4228-e98d-524861bbdc5b",
        "colab": {
          "base_uri": "https://localhost:8080/",
          "height": 128
        }
      },
      "execution_count": null,
      "outputs": [
        {
          "output_type": "stream",
          "name": "stderr",
          "text": [
            "/usr/local/lib/python3.10/dist-packages/transformers/optimization.py:391: FutureWarning: This implementation of AdamW is deprecated and will be removed in a future version. Use the PyTorch implementation torch.optim.AdamW instead, or set `no_deprecation_warning=True` to disable this warning\n",
            "  warnings.warn(\n"
          ]
        },
        {
          "output_type": "display_data",
          "data": {
            "text/plain": [
              "<IPython.core.display.HTML object>"
            ],
            "text/html": [
              "\n",
              "    <div>\n",
              "      \n",
              "      <progress value='5' max='396' style='width:300px; height:20px; vertical-align: middle;'></progress>\n",
              "      [  5/396 03:10 < 6:53:18, 0.02 it/s, Epoch 0.04/4]\n",
              "    </div>\n",
              "    <table border=\"1\" class=\"dataframe\">\n",
              "  <thead>\n",
              " <tr style=\"text-align: left;\">\n",
              "      <th>Step</th>\n",
              "      <th>Training Loss</th>\n",
              "      <th>Validation Loss</th>\n",
              "    </tr>\n",
              "  </thead>\n",
              "  <tbody>\n",
              "  </tbody>\n",
              "</table><p>"
            ]
          },
          "metadata": {}
        }
      ]
    },
    {
      "cell_type": "code",
      "source": [
        "print(ViT_14_targets_sub_results)"
      ],
      "metadata": {
        "id": "qoHuFbaLyt0p"
      },
      "execution_count": null,
      "outputs": []
    },
    {
      "cell_type": "markdown",
      "source": [
        "### All Data Subset"
      ],
      "metadata": {
        "id": "DLgbhTCRksQY"
      }
    },
    {
      "cell_type": "code",
      "source": [
        "ViT_mura_sub_model = ViTForImageClassification.from_pretrained(\n",
        "    model_name_or_path,\n",
        "    num_labels=2,\n",
        "    id2label=label_to_target_2,\n",
        "    label2id=target_to_label_2\n",
        ")"
      ],
      "metadata": {
        "id": "xHlgE6blIc4h",
        "colab": {
          "base_uri": "https://localhost:8080/"
        },
        "outputId": "44e34c95-7bfc-477b-a4d4-c0756358d05a"
      },
      "execution_count": null,
      "outputs": [
        {
          "output_type": "stream",
          "name": "stderr",
          "text": [
            "Some weights of the model checkpoint at google/vit-base-patch16-224-in21k were not used when initializing ViTForImageClassification: ['pooler.dense.weight', 'pooler.dense.bias']\n",
            "- This IS expected if you are initializing ViTForImageClassification from the checkpoint of a model trained on another task or with another architecture (e.g. initializing a BertForSequenceClassification model from a BertForPreTraining model).\n",
            "- This IS NOT expected if you are initializing ViTForImageClassification from the checkpoint of a model that you expect to be exactly identical (initializing a BertForSequenceClassification model from a BertForSequenceClassification model).\n",
            "Some weights of ViTForImageClassification were not initialized from the model checkpoint at google/vit-base-patch16-224-in21k and are newly initialized: ['classifier.weight', 'classifier.bias']\n",
            "You should probably TRAIN this model on a down-stream task to be able to use it for predictions and inference.\n"
          ]
        }
      ]
    },
    {
      "cell_type": "code",
      "source": [
        "training_args_mura_subset = TrainingArguments(\n",
        "  # save checkpoints and predictions to this directory\n",
        "  output_dir=\"mura_Models\",\n",
        "  per_device_train_batch_size=vit_batch_size,\n",
        "  evaluation_strategy=\"steps\",\n",
        "  num_train_epochs=vit_epochs,\n",
        "  fp16=True,\n",
        "  save_steps=100,\n",
        "  eval_steps=100,\n",
        "  logging_steps=10,\n",
        "  learning_rate=vit_lr,\n",
        "  save_total_limit=2,\n",
        "  remove_unused_columns=False,\n",
        "  push_to_hub=False,\n",
        "  report_to='tensorboard',\n",
        "  load_best_model_at_end=True,\n",
        ")"
      ],
      "metadata": {
        "id": "6F1q01z0krzp"
      },
      "execution_count": null,
      "outputs": []
    },
    {
      "cell_type": "code",
      "source": [
        "#create trainer for mura subset ViT model\n",
        "ViT_mura_sub_trainer = Trainer(\n",
        "    model=ViT_mura_sub_model,\n",
        "    args=training_args_mura_subset,\n",
        "    data_collator=collate_fn,\n",
        "    compute_metrics=compute_metrics,\n",
        "    train_dataset=ViT_mura_train_subset,\n",
        "    eval_dataset=ViT_mura_test_subset,\n",
        "    tokenizer=feature_extractor,\n",
        ")"
      ],
      "metadata": {
        "id": "uQkNvnB8oWXU"
      },
      "execution_count": null,
      "outputs": []
    },
    {
      "cell_type": "code",
      "source": [
        "# run mura subset ViT model\n",
        "mura_subset_train_results = ViT_mura_sub_trainer.train()\n",
        "ViT_mura_sub_trainer.save_model()\n",
        "ViT_mura_sub_trainer.log_metrics(\"train\", mura_subset_train_results.metrics)"
      ],
      "metadata": {
        "colab": {
          "base_uri": "https://localhost:8080/",
          "height": 632
        },
        "id": "v3BxZ0VRpHWE",
        "outputId": "b8efef08-c663-49ce-f51e-d04b72c663e2"
      },
      "execution_count": null,
      "outputs": [
        {
          "output_type": "stream",
          "name": "stderr",
          "text": [
            "/usr/local/lib/python3.9/dist-packages/transformers/optimization.py:391: FutureWarning: This implementation of AdamW is deprecated and will be removed in a future version. Use the PyTorch implementation torch.optim.AdamW instead, or set `no_deprecation_warning=True` to disable this warning\n",
            "  warnings.warn(\n"
          ]
        },
        {
          "output_type": "display_data",
          "data": {
            "text/plain": [
              "<IPython.core.display.HTML object>"
            ],
            "text/html": [
              "\n",
              "    <div>\n",
              "      \n",
              "      <progress value='695' max='695' style='width:300px; height:20px; vertical-align: middle;'></progress>\n",
              "      [695/695 51:27, Epoch 5/5]\n",
              "    </div>\n",
              "    <table border=\"1\" class=\"dataframe\">\n",
              "  <thead>\n",
              " <tr style=\"text-align: left;\">\n",
              "      <th>Step</th>\n",
              "      <th>Training Loss</th>\n",
              "      <th>Validation Loss</th>\n",
              "      <th>Accuracy</th>\n",
              "    </tr>\n",
              "  </thead>\n",
              "  <tbody>\n",
              "    <tr>\n",
              "      <td>100</td>\n",
              "      <td>0.628600</td>\n",
              "      <td>0.620537</td>\n",
              "      <td>0.674503</td>\n",
              "    </tr>\n",
              "    <tr>\n",
              "      <td>200</td>\n",
              "      <td>0.500400</td>\n",
              "      <td>0.753936</td>\n",
              "      <td>0.634720</td>\n",
              "    </tr>\n",
              "    <tr>\n",
              "      <td>300</td>\n",
              "      <td>0.459700</td>\n",
              "      <td>0.605945</td>\n",
              "      <td>0.715190</td>\n",
              "    </tr>\n",
              "    <tr>\n",
              "      <td>400</td>\n",
              "      <td>0.461200</td>\n",
              "      <td>0.567429</td>\n",
              "      <td>0.710669</td>\n",
              "    </tr>\n",
              "    <tr>\n",
              "      <td>500</td>\n",
              "      <td>0.407000</td>\n",
              "      <td>0.564946</td>\n",
              "      <td>0.717902</td>\n",
              "    </tr>\n",
              "    <tr>\n",
              "      <td>600</td>\n",
              "      <td>0.257200</td>\n",
              "      <td>0.670025</td>\n",
              "      <td>0.727848</td>\n",
              "    </tr>\n",
              "  </tbody>\n",
              "</table><p>"
            ]
          },
          "metadata": {}
        },
        {
          "output_type": "stream",
          "name": "stdout",
          "text": [
            "***** train metrics *****\n",
            "  epoch                    =          5.0\n",
            "  total_flos               = 1599648920GF\n",
            "  train_loss               =       0.4514\n",
            "  train_runtime            =   0:51:34.65\n",
            "  train_samples_per_second =        7.162\n",
            "  train_steps_per_second   =        0.225\n"
          ]
        },
        {
          "output_type": "error",
          "ename": "NameError",
          "evalue": "ignored",
          "traceback": [
            "\u001b[0;31m---------------------------------------------------------------------------\u001b[0m",
            "\u001b[0;31mNameError\u001b[0m                                 Traceback (most recent call last)",
            "\u001b[0;32m<ipython-input-112-e98bed524285>\u001b[0m in \u001b[0;36m<cell line: 5>\u001b[0;34m()\u001b[0m\n\u001b[1;32m      3\u001b[0m \u001b[0mViT_mura_sub_trainer\u001b[0m\u001b[0;34m.\u001b[0m\u001b[0msave_model\u001b[0m\u001b[0;34m(\u001b[0m\u001b[0;34m)\u001b[0m\u001b[0;34m\u001b[0m\u001b[0;34m\u001b[0m\u001b[0m\n\u001b[1;32m      4\u001b[0m \u001b[0mViT_mura_sub_trainer\u001b[0m\u001b[0;34m.\u001b[0m\u001b[0mlog_metrics\u001b[0m\u001b[0;34m(\u001b[0m\u001b[0;34m\"train\"\u001b[0m\u001b[0;34m,\u001b[0m \u001b[0mmura_subset_train_results\u001b[0m\u001b[0;34m.\u001b[0m\u001b[0mmetrics\u001b[0m\u001b[0;34m)\u001b[0m\u001b[0;34m\u001b[0m\u001b[0;34m\u001b[0m\u001b[0m\n\u001b[0;32m----> 5\u001b[0;31m \u001b[0mViT_mura_sub_trainer\u001b[0m\u001b[0;34m.\u001b[0m\u001b[0msave_metrics\u001b[0m\u001b[0;34m(\u001b[0m\u001b[0;34m\"train\"\u001b[0m\u001b[0;34m,\u001b[0m \u001b[0mmurea_subset_train_results\u001b[0m\u001b[0;34m.\u001b[0m\u001b[0mmetrics\u001b[0m\u001b[0;34m)\u001b[0m\u001b[0;34m\u001b[0m\u001b[0;34m\u001b[0m\u001b[0m\n\u001b[0m\u001b[1;32m      6\u001b[0m \u001b[0mViT_mura_sub_trainer\u001b[0m\u001b[0;34m.\u001b[0m\u001b[0msave_state\u001b[0m\u001b[0;34m(\u001b[0m\u001b[0;34m)\u001b[0m\u001b[0;34m\u001b[0m\u001b[0;34m\u001b[0m\u001b[0m\n",
            "\u001b[0;31mNameError\u001b[0m: name 'murea_subset_train_results' is not defined"
          ]
        }
      ]
    },
    {
      "cell_type": "code",
      "source": [
        "ViT_mura_sub_trainer.save_metrics(\"train\", mura_subset_train_results.metrics)\n",
        "ViT_mura_sub_trainer.save_state()"
      ],
      "metadata": {
        "id": "1ofpi8rZVIXD"
      },
      "execution_count": null,
      "outputs": []
    },
    {
      "cell_type": "code",
      "source": [
        "print(mura_subset_train_results)"
      ],
      "metadata": {
        "id": "gzDMACBBpCNE",
        "colab": {
          "base_uri": "https://localhost:8080/"
        },
        "outputId": "55b95c1e-e210-4df1-a29a-4ce24d28732a"
      },
      "execution_count": null,
      "outputs": [
        {
          "output_type": "stream",
          "name": "stdout",
          "text": [
            "TrainOutput(global_step=695, training_loss=0.4513631055680968, metrics={'train_runtime': 3094.6552, 'train_samples_per_second': 7.162, 'train_steps_per_second': 0.225, 'total_flos': 1.7176099498074317e+18, 'train_loss': 0.4513631055680968, 'epoch': 5.0})\n"
          ]
        }
      ]
    },
    {
      "cell_type": "code",
      "source": [
        "metrics_mura_sub = ViT_mura_sub_trainer.evaluate(ViT_mura_test_subset)\n",
        "ViT_mura_sub_trainer.log_metrics(\"eval\", metrics_mura_sub)\n",
        "ViT_mura_sub_trainer.save_metrics(\"eval\", metrics_mura_sub)"
      ],
      "metadata": {
        "colab": {
          "base_uri": "https://localhost:8080/",
          "height": 156
        },
        "id": "gq0GFoAEXIxJ",
        "outputId": "1ddc730e-4404-44cd-f9a1-1ca97579bab1"
      },
      "execution_count": null,
      "outputs": [
        {
          "output_type": "display_data",
          "data": {
            "text/plain": [
              "<IPython.core.display.HTML object>"
            ],
            "text/html": [
              "\n",
              "    <div>\n",
              "      \n",
              "      <progress value='443' max='139' style='width:300px; height:20px; vertical-align: middle;'></progress>\n",
              "      [139/139 06:14]\n",
              "    </div>\n",
              "    "
            ]
          },
          "metadata": {}
        },
        {
          "output_type": "stream",
          "name": "stdout",
          "text": [
            "***** eval metrics *****\n",
            "  epoch                   =        5.0\n",
            "  eval_accuracy           =     0.7179\n",
            "  eval_loss               =     0.5649\n",
            "  eval_runtime            = 0:00:57.08\n",
            "  eval_samples_per_second =     19.375\n",
            "  eval_steps_per_second   =      2.435\n"
          ]
        }
      ]
    },
    {
      "cell_type": "markdown",
      "source": [
        "### All Data"
      ],
      "metadata": {
        "id": "3X4p4MWqZMr0"
      }
    },
    {
      "cell_type": "code",
      "source": [
        "ViT_mura_model = ViTForImageClassification.from_pretrained(\n",
        "    model_name_or_path,\n",
        "    num_labels=2,\n",
        "    id2label=label_to_target_2,\n",
        "    label2id=target_to_label_2\n",
        ")"
      ],
      "metadata": {
        "colab": {
          "base_uri": "https://localhost:8080/"
        },
        "id": "kCjgOsKXZQrE",
        "outputId": "e64e4522-88ef-43f0-86dc-37629f346531"
      },
      "execution_count": null,
      "outputs": [
        {
          "output_type": "stream",
          "name": "stderr",
          "text": [
            "Some weights of the model checkpoint at google/vit-base-patch16-224-in21k were not used when initializing ViTForImageClassification: ['pooler.dense.weight', 'pooler.dense.bias']\n",
            "- This IS expected if you are initializing ViTForImageClassification from the checkpoint of a model trained on another task or with another architecture (e.g. initializing a BertForSequenceClassification model from a BertForPreTraining model).\n",
            "- This IS NOT expected if you are initializing ViTForImageClassification from the checkpoint of a model that you expect to be exactly identical (initializing a BertForSequenceClassification model from a BertForSequenceClassification model).\n",
            "Some weights of ViTForImageClassification were not initialized from the model checkpoint at google/vit-base-patch16-224-in21k and are newly initialized: ['classifier.weight', 'classifier.bias']\n",
            "You should probably TRAIN this model on a down-stream task to be able to use it for predictions and inference.\n"
          ]
        }
      ]
    },
    {
      "cell_type": "code",
      "source": [
        "training_args_mura = TrainingArguments(\n",
        "  # save checkpoints and predictions to this directory\n",
        "  output_dir=\"mura_Models/all\",\n",
        "  per_device_train_batch_size=vit_batch_size,\n",
        "  evaluation_strategy=\"steps\",\n",
        "  num_train_epochs=vit_epochs,\n",
        "  fp16=True,\n",
        "  save_steps=100,\n",
        "  eval_steps=100,\n",
        "  logging_steps=10,\n",
        "  learning_rate=vit_lr,\n",
        "  save_total_limit=2,\n",
        "  remove_unused_columns=False,\n",
        "  push_to_hub=False,\n",
        "  report_to='tensorboard',\n",
        "  load_best_model_at_end=True,\n",
        ")"
      ],
      "metadata": {
        "id": "st_v0cu_ZQj-"
      },
      "execution_count": null,
      "outputs": []
    },
    {
      "cell_type": "code",
      "source": [
        "ViT_mura_trainer = Trainer(\n",
        "    model=ViT_mura_model,\n",
        "    args=training_args_mura,\n",
        "    data_collator=collate_fn,\n",
        "    compute_metrics=compute_metrics,\n",
        "    train_dataset=ViT_mura_train_all,\n",
        "    eval_dataset=ViT_mura_test_all,\n",
        "    tokenizer=feature_extractor,\n",
        ")"
      ],
      "metadata": {
        "id": "q5KQDJ0_ZQcR"
      },
      "execution_count": null,
      "outputs": []
    },
    {
      "cell_type": "code",
      "source": [
        "# run mura subset ViT model\n",
        "mura_train_results = ViT_mura_trainer.train()\n",
        "ViT_mura_trainer.save_model()\n",
        "ViT_mura_trainer.log_metrics(\"train\", mura_train_results.metrics)\n",
        "ViT_mura_trainer.save_metrics(\"train\", mura_train_results.metrics)\n",
        "ViT_mura_trainer.save_state()"
      ],
      "metadata": {
        "colab": {
          "base_uri": "https://localhost:8080/",
          "height": 1000
        },
        "id": "ViFs13tQaES1",
        "outputId": "33461864-a55f-4130-c61b-2eb1b3693823"
      },
      "execution_count": null,
      "outputs": [
        {
          "output_type": "stream",
          "name": "stderr",
          "text": [
            "/usr/local/lib/python3.9/dist-packages/transformers/optimization.py:391: FutureWarning: This implementation of AdamW is deprecated and will be removed in a future version. Use the PyTorch implementation torch.optim.AdamW instead, or set `no_deprecation_warning=True` to disable this warning\n",
            "  warnings.warn(\n"
          ]
        },
        {
          "output_type": "display_data",
          "data": {
            "text/plain": [
              "<IPython.core.display.HTML object>"
            ],
            "text/html": [
              "\n",
              "    <div>\n",
              "      \n",
              "      <progress value='5755' max='5755' style='width:300px; height:20px; vertical-align: middle;'></progress>\n",
              "      [5755/5755 9:41:37, Epoch 5/5]\n",
              "    </div>\n",
              "    <table border=\"1\" class=\"dataframe\">\n",
              "  <thead>\n",
              " <tr style=\"text-align: left;\">\n",
              "      <th>Step</th>\n",
              "      <th>Training Loss</th>\n",
              "      <th>Validation Loss</th>\n",
              "      <th>Accuracy</th>\n",
              "    </tr>\n",
              "  </thead>\n",
              "  <tbody>\n",
              "    <tr>\n",
              "      <td>100</td>\n",
              "      <td>0.670200</td>\n",
              "      <td>0.685423</td>\n",
              "      <td>0.545511</td>\n",
              "    </tr>\n",
              "    <tr>\n",
              "      <td>200</td>\n",
              "      <td>0.663400</td>\n",
              "      <td>0.676409</td>\n",
              "      <td>0.580231</td>\n",
              "    </tr>\n",
              "    <tr>\n",
              "      <td>300</td>\n",
              "      <td>0.651100</td>\n",
              "      <td>0.684792</td>\n",
              "      <td>0.561464</td>\n",
              "    </tr>\n",
              "    <tr>\n",
              "      <td>400</td>\n",
              "      <td>0.644600</td>\n",
              "      <td>0.660098</td>\n",
              "      <td>0.623710</td>\n",
              "    </tr>\n",
              "    <tr>\n",
              "      <td>500</td>\n",
              "      <td>0.666900</td>\n",
              "      <td>0.697544</td>\n",
              "      <td>0.533312</td>\n",
              "    </tr>\n",
              "    <tr>\n",
              "      <td>600</td>\n",
              "      <td>0.664500</td>\n",
              "      <td>0.666843</td>\n",
              "      <td>0.579606</td>\n",
              "    </tr>\n",
              "    <tr>\n",
              "      <td>700</td>\n",
              "      <td>0.661300</td>\n",
              "      <td>0.690251</td>\n",
              "      <td>0.560838</td>\n",
              "    </tr>\n",
              "    <tr>\n",
              "      <td>800</td>\n",
              "      <td>0.648100</td>\n",
              "      <td>0.646719</td>\n",
              "      <td>0.619331</td>\n",
              "    </tr>\n",
              "    <tr>\n",
              "      <td>900</td>\n",
              "      <td>0.605900</td>\n",
              "      <td>0.631545</td>\n",
              "      <td>0.636221</td>\n",
              "    </tr>\n",
              "    <tr>\n",
              "      <td>1000</td>\n",
              "      <td>0.615400</td>\n",
              "      <td>0.612960</td>\n",
              "      <td>0.654051</td>\n",
              "    </tr>\n",
              "    <tr>\n",
              "      <td>1100</td>\n",
              "      <td>0.569700</td>\n",
              "      <td>0.616688</td>\n",
              "      <td>0.655927</td>\n",
              "    </tr>\n",
              "    <tr>\n",
              "      <td>1200</td>\n",
              "      <td>0.583200</td>\n",
              "      <td>0.614882</td>\n",
              "      <td>0.650610</td>\n",
              "    </tr>\n",
              "    <tr>\n",
              "      <td>1300</td>\n",
              "      <td>0.598000</td>\n",
              "      <td>0.625140</td>\n",
              "      <td>0.664373</td>\n",
              "    </tr>\n",
              "    <tr>\n",
              "      <td>1400</td>\n",
              "      <td>0.557000</td>\n",
              "      <td>0.582165</td>\n",
              "      <td>0.689084</td>\n",
              "    </tr>\n",
              "    <tr>\n",
              "      <td>1500</td>\n",
              "      <td>0.606300</td>\n",
              "      <td>0.585995</td>\n",
              "      <td>0.681889</td>\n",
              "    </tr>\n",
              "    <tr>\n",
              "      <td>1600</td>\n",
              "      <td>0.531400</td>\n",
              "      <td>0.584578</td>\n",
              "      <td>0.693463</td>\n",
              "    </tr>\n",
              "    <tr>\n",
              "      <td>1700</td>\n",
              "      <td>0.539700</td>\n",
              "      <td>0.602833</td>\n",
              "      <td>0.671880</td>\n",
              "    </tr>\n",
              "    <tr>\n",
              "      <td>1800</td>\n",
              "      <td>0.531600</td>\n",
              "      <td>0.565907</td>\n",
              "      <td>0.698155</td>\n",
              "    </tr>\n",
              "    <tr>\n",
              "      <td>1900</td>\n",
              "      <td>0.537900</td>\n",
              "      <td>0.584292</td>\n",
              "      <td>0.679387</td>\n",
              "    </tr>\n",
              "    <tr>\n",
              "      <td>2000</td>\n",
              "      <td>0.554200</td>\n",
              "      <td>0.578988</td>\n",
              "      <td>0.691899</td>\n",
              "    </tr>\n",
              "    <tr>\n",
              "      <td>2100</td>\n",
              "      <td>0.550100</td>\n",
              "      <td>0.583785</td>\n",
              "      <td>0.695965</td>\n",
              "    </tr>\n",
              "    <tr>\n",
              "      <td>2200</td>\n",
              "      <td>0.465400</td>\n",
              "      <td>0.556337</td>\n",
              "      <td>0.714420</td>\n",
              "    </tr>\n",
              "    <tr>\n",
              "      <td>2300</td>\n",
              "      <td>0.526200</td>\n",
              "      <td>0.551871</td>\n",
              "      <td>0.713169</td>\n",
              "    </tr>\n",
              "    <tr>\n",
              "      <td>2400</td>\n",
              "      <td>0.505500</td>\n",
              "      <td>0.547007</td>\n",
              "      <td>0.722240</td>\n",
              "    </tr>\n",
              "    <tr>\n",
              "      <td>2500</td>\n",
              "      <td>0.486100</td>\n",
              "      <td>0.547071</td>\n",
              "      <td>0.729747</td>\n",
              "    </tr>\n",
              "    <tr>\n",
              "      <td>2600</td>\n",
              "      <td>0.477900</td>\n",
              "      <td>0.577262</td>\n",
              "      <td>0.705349</td>\n",
              "    </tr>\n",
              "    <tr>\n",
              "      <td>2700</td>\n",
              "      <td>0.535900</td>\n",
              "      <td>0.611387</td>\n",
              "      <td>0.694401</td>\n",
              "    </tr>\n",
              "    <tr>\n",
              "      <td>2800</td>\n",
              "      <td>0.448600</td>\n",
              "      <td>0.575121</td>\n",
              "      <td>0.719737</td>\n",
              "    </tr>\n",
              "    <tr>\n",
              "      <td>2900</td>\n",
              "      <td>0.473300</td>\n",
              "      <td>0.559763</td>\n",
              "      <td>0.716297</td>\n",
              "    </tr>\n",
              "    <tr>\n",
              "      <td>3000</td>\n",
              "      <td>0.496200</td>\n",
              "      <td>0.539442</td>\n",
              "      <td>0.722865</td>\n",
              "    </tr>\n",
              "    <tr>\n",
              "      <td>3100</td>\n",
              "      <td>0.454000</td>\n",
              "      <td>0.582196</td>\n",
              "      <td>0.716922</td>\n",
              "    </tr>\n",
              "    <tr>\n",
              "      <td>3200</td>\n",
              "      <td>0.432300</td>\n",
              "      <td>0.550806</td>\n",
              "      <td>0.728495</td>\n",
              "    </tr>\n",
              "    <tr>\n",
              "      <td>3300</td>\n",
              "      <td>0.442500</td>\n",
              "      <td>0.531426</td>\n",
              "      <td>0.735064</td>\n",
              "    </tr>\n",
              "    <tr>\n",
              "      <td>3400</td>\n",
              "      <td>0.448200</td>\n",
              "      <td>0.550893</td>\n",
              "      <td>0.730372</td>\n",
              "    </tr>\n",
              "    <tr>\n",
              "      <td>3500</td>\n",
              "      <td>0.329300</td>\n",
              "      <td>0.573218</td>\n",
              "      <td>0.740694</td>\n",
              "    </tr>\n",
              "    <tr>\n",
              "      <td>3600</td>\n",
              "      <td>0.386000</td>\n",
              "      <td>0.576616</td>\n",
              "      <td>0.726619</td>\n",
              "    </tr>\n",
              "    <tr>\n",
              "      <td>3700</td>\n",
              "      <td>0.429700</td>\n",
              "      <td>0.577386</td>\n",
              "      <td>0.727557</td>\n",
              "    </tr>\n",
              "    <tr>\n",
              "      <td>3800</td>\n",
              "      <td>0.366500</td>\n",
              "      <td>0.597312</td>\n",
              "      <td>0.739443</td>\n",
              "    </tr>\n",
              "    <tr>\n",
              "      <td>3900</td>\n",
              "      <td>0.384500</td>\n",
              "      <td>0.582180</td>\n",
              "      <td>0.733813</td>\n",
              "    </tr>\n",
              "    <tr>\n",
              "      <td>4000</td>\n",
              "      <td>0.443200</td>\n",
              "      <td>0.554994</td>\n",
              "      <td>0.736628</td>\n",
              "    </tr>\n",
              "    <tr>\n",
              "      <td>4100</td>\n",
              "      <td>0.434200</td>\n",
              "      <td>0.565107</td>\n",
              "      <td>0.738818</td>\n",
              "    </tr>\n",
              "    <tr>\n",
              "      <td>4200</td>\n",
              "      <td>0.360200</td>\n",
              "      <td>0.581564</td>\n",
              "      <td>0.740382</td>\n",
              "    </tr>\n",
              "    <tr>\n",
              "      <td>4300</td>\n",
              "      <td>0.419400</td>\n",
              "      <td>0.576445</td>\n",
              "      <td>0.743510</td>\n",
              "    </tr>\n",
              "    <tr>\n",
              "      <td>4400</td>\n",
              "      <td>0.430000</td>\n",
              "      <td>0.576121</td>\n",
              "      <td>0.745074</td>\n",
              "    </tr>\n",
              "    <tr>\n",
              "      <td>4500</td>\n",
              "      <td>0.353200</td>\n",
              "      <td>0.559745</td>\n",
              "      <td>0.746950</td>\n",
              "    </tr>\n",
              "    <tr>\n",
              "      <td>4600</td>\n",
              "      <td>0.311600</td>\n",
              "      <td>0.593975</td>\n",
              "      <td>0.746637</td>\n",
              "    </tr>\n",
              "    <tr>\n",
              "      <td>4700</td>\n",
              "      <td>0.242900</td>\n",
              "      <td>0.677573</td>\n",
              "      <td>0.748201</td>\n",
              "    </tr>\n",
              "    <tr>\n",
              "      <td>4800</td>\n",
              "      <td>0.217200</td>\n",
              "      <td>0.671417</td>\n",
              "      <td>0.748827</td>\n",
              "    </tr>\n",
              "    <tr>\n",
              "      <td>4900</td>\n",
              "      <td>0.316900</td>\n",
              "      <td>0.732168</td>\n",
              "      <td>0.736003</td>\n",
              "    </tr>\n",
              "    <tr>\n",
              "      <td>5000</td>\n",
              "      <td>0.233500</td>\n",
              "      <td>0.692517</td>\n",
              "      <td>0.744135</td>\n",
              "    </tr>\n",
              "    <tr>\n",
              "      <td>5100</td>\n",
              "      <td>0.270700</td>\n",
              "      <td>0.701932</td>\n",
              "      <td>0.744135</td>\n",
              "    </tr>\n",
              "    <tr>\n",
              "      <td>5200</td>\n",
              "      <td>0.207100</td>\n",
              "      <td>0.714283</td>\n",
              "      <td>0.742884</td>\n",
              "    </tr>\n",
              "    <tr>\n",
              "      <td>5300</td>\n",
              "      <td>0.186700</td>\n",
              "      <td>0.715346</td>\n",
              "      <td>0.741946</td>\n",
              "    </tr>\n",
              "    <tr>\n",
              "      <td>5400</td>\n",
              "      <td>0.232200</td>\n",
              "      <td>0.721590</td>\n",
              "      <td>0.740694</td>\n",
              "    </tr>\n",
              "    <tr>\n",
              "      <td>5500</td>\n",
              "      <td>0.315300</td>\n",
              "      <td>0.717418</td>\n",
              "      <td>0.747576</td>\n",
              "    </tr>\n",
              "    <tr>\n",
              "      <td>5600</td>\n",
              "      <td>0.277400</td>\n",
              "      <td>0.710823</td>\n",
              "      <td>0.746012</td>\n",
              "    </tr>\n",
              "    <tr>\n",
              "      <td>5700</td>\n",
              "      <td>0.251600</td>\n",
              "      <td>0.715178</td>\n",
              "      <td>0.745074</td>\n",
              "    </tr>\n",
              "  </tbody>\n",
              "</table><p>"
            ]
          },
          "metadata": {}
        },
        {
          "output_type": "stream",
          "name": "stdout",
          "text": [
            "***** train metrics *****\n",
            "  epoch                    =           5.0\n",
            "  total_flos               = 13282174029GF\n",
            "  train_loss               =        0.4554\n",
            "  train_runtime            =    9:41:43.41\n",
            "  train_samples_per_second =         5.273\n",
            "  train_steps_per_second   =         0.165\n"
          ]
        }
      ]
    },
    {
      "cell_type": "code",
      "source": [
        "print(mura_train_results)"
      ],
      "metadata": {
        "colab": {
          "base_uri": "https://localhost:8080/"
        },
        "id": "WNerpa37af0P",
        "outputId": "8054dc03-814a-4249-8204-f27c57e646bc"
      },
      "execution_count": null,
      "outputs": [
        {
          "output_type": "stream",
          "name": "stdout",
          "text": [
            "TrainOutput(global_step=5755, training_loss=0.4554387795210506, metrics={'train_runtime': 34903.4135, 'train_samples_per_second': 5.273, 'train_steps_per_second': 0.165, 'total_flos': 1.4261625768669512e+19, 'train_loss': 0.4554387795210506, 'epoch': 5.0})\n"
          ]
        }
      ]
    },
    {
      "cell_type": "code",
      "source": [
        "metrics_mura = ViT_mura_sub_trainer.evaluate(ViT_mura_test_all)\n",
        "ViT_mura_trainer.log_metrics(\"eval\", metrics_mura)\n",
        "ViT_mura_trainer.save_metrics(\"eval\", metrics_mura)"
      ],
      "metadata": {
        "colab": {
          "base_uri": "https://localhost:8080/",
          "height": 156
        },
        "id": "vMAI7tewaVaw",
        "outputId": "b2f45fe5-b543-4cc3-f34d-bd6608b9ef55"
      },
      "execution_count": null,
      "outputs": [
        {
          "output_type": "display_data",
          "data": {
            "text/plain": [
              "<IPython.core.display.HTML object>"
            ],
            "text/html": [
              "\n",
              "    <div>\n",
              "      \n",
              "      <progress value='1243' max='139' style='width:300px; height:20px; vertical-align: middle;'></progress>\n",
              "      [139/139 12:22:18]\n",
              "    </div>\n",
              "    "
            ]
          },
          "metadata": {}
        },
        {
          "output_type": "stream",
          "name": "stdout",
          "text": [
            "***** eval metrics *****\n",
            "  epoch                   =        5.0\n",
            "  eval_accuracy           =     0.6906\n",
            "  eval_loss               =     0.6185\n",
            "  eval_runtime            = 0:02:38.71\n",
            "  eval_samples_per_second =     20.143\n",
            "  eval_steps_per_second   =       2.52\n"
          ]
        }
      ]
    },
    {
      "cell_type": "code",
      "source": [
        "for val in val_sets:\n",
        "    results = ViT_mura_sub_trainer.evaluate(val_sets[val])\n",
        "    print(f'{val} : {results}')"
      ],
      "metadata": {
        "colab": {
          "base_uri": "https://localhost:8080/",
          "height": 551
        },
        "id": "ukhRpZKxAHnk",
        "outputId": "2efbdb6b-82ca-46d5-f877-9f442deedf54"
      },
      "execution_count": null,
      "outputs": [
        {
          "output_type": "display_data",
          "data": {
            "text/plain": [
              "<IPython.core.display.HTML object>"
            ],
            "text/html": [
              "\n",
              "    <div>\n",
              "      \n",
              "      <progress value='1977' max='139' style='width:300px; height:20px; vertical-align: middle;'></progress>\n",
              "      [139/139 12:30:57]\n",
              "    </div>\n",
              "    "
            ]
          },
          "metadata": {}
        },
        {
          "output_type": "stream",
          "name": "stdout",
          "text": [
            "shoulder : {'eval_loss': 0.7930088043212891, 'eval_accuracy': 0.5968028419182948, 'eval_runtime': 25.3953, 'eval_samples_per_second': 22.169, 'eval_steps_per_second': 2.796, 'epoch': 5.0}\n",
            "humerus : {'eval_loss': 0.6127851605415344, 'eval_accuracy': 0.71875, 'eval_runtime': 13.8262, 'eval_samples_per_second': 20.83, 'eval_steps_per_second': 2.604, 'epoch': 5.0}\n",
            "finger : {'eval_loss': 0.6994743943214417, 'eval_accuracy': 0.6334056399132321, 'eval_runtime': 20.2173, 'eval_samples_per_second': 22.802, 'eval_steps_per_second': 2.869, 'epoch': 5.0}\n",
            "elbow : {'eval_loss': 0.45075997710227966, 'eval_accuracy': 0.7741935483870968, 'eval_runtime': 20.0666, 'eval_samples_per_second': 23.173, 'eval_steps_per_second': 2.94, 'epoch': 5.0}\n",
            "wrist : {'eval_loss': 0.5498525500297546, 'eval_accuracy': 0.7450682852807283, 'eval_runtime': 28.4178, 'eval_samples_per_second': 23.19, 'eval_steps_per_second': 2.921, 'epoch': 5.0}\n"
          ]
        },
        {
          "output_type": "error",
          "ename": "AttributeError",
          "evalue": "ignored",
          "traceback": [
            "\u001b[0;31m---------------------------------------------------------------------------\u001b[0m",
            "\u001b[0;31mAttributeError\u001b[0m                            Traceback (most recent call last)",
            "\u001b[0;32m/usr/local/lib/python3.9/dist-packages/PIL/Image.py\u001b[0m in \u001b[0;36mopen\u001b[0;34m(fp, mode, formats)\u001b[0m\n\u001b[1;32m   2978\u001b[0m     \u001b[0;32mtry\u001b[0m\u001b[0;34m:\u001b[0m\u001b[0;34m\u001b[0m\u001b[0;34m\u001b[0m\u001b[0m\n\u001b[0;32m-> 2979\u001b[0;31m         \u001b[0mfp\u001b[0m\u001b[0;34m.\u001b[0m\u001b[0mseek\u001b[0m\u001b[0;34m(\u001b[0m\u001b[0;36m0\u001b[0m\u001b[0;34m)\u001b[0m\u001b[0;34m\u001b[0m\u001b[0;34m\u001b[0m\u001b[0m\n\u001b[0m\u001b[1;32m   2980\u001b[0m     \u001b[0;32mexcept\u001b[0m \u001b[0;34m(\u001b[0m\u001b[0mAttributeError\u001b[0m\u001b[0;34m,\u001b[0m \u001b[0mio\u001b[0m\u001b[0;34m.\u001b[0m\u001b[0mUnsupportedOperation\u001b[0m\u001b[0;34m)\u001b[0m\u001b[0;34m:\u001b[0m\u001b[0;34m\u001b[0m\u001b[0;34m\u001b[0m\u001b[0m\n",
            "\u001b[0;32m/usr/local/lib/python3.9/dist-packages/pandas/core/generic.py\u001b[0m in \u001b[0;36m__getattr__\u001b[0;34m(self, name)\u001b[0m\n\u001b[1;32m   5574\u001b[0m             \u001b[0;32mreturn\u001b[0m \u001b[0mself\u001b[0m\u001b[0;34m[\u001b[0m\u001b[0mname\u001b[0m\u001b[0;34m]\u001b[0m\u001b[0;34m\u001b[0m\u001b[0;34m\u001b[0m\u001b[0m\n\u001b[0;32m-> 5575\u001b[0;31m         \u001b[0;32mreturn\u001b[0m \u001b[0mobject\u001b[0m\u001b[0;34m.\u001b[0m\u001b[0m__getattribute__\u001b[0m\u001b[0;34m(\u001b[0m\u001b[0mself\u001b[0m\u001b[0;34m,\u001b[0m \u001b[0mname\u001b[0m\u001b[0;34m)\u001b[0m\u001b[0;34m\u001b[0m\u001b[0;34m\u001b[0m\u001b[0m\n\u001b[0m\u001b[1;32m   5576\u001b[0m \u001b[0;34m\u001b[0m\u001b[0m\n",
            "\u001b[0;31mAttributeError\u001b[0m: 'Series' object has no attribute 'seek'",
            "\nDuring handling of the above exception, another exception occurred:\n",
            "\u001b[0;31mAttributeError\u001b[0m                            Traceback (most recent call last)",
            "\u001b[0;32m<ipython-input-137-b96f1af6429d>\u001b[0m in \u001b[0;36m<cell line: 1>\u001b[0;34m()\u001b[0m\n\u001b[1;32m      1\u001b[0m \u001b[0;32mfor\u001b[0m \u001b[0mval\u001b[0m \u001b[0;32min\u001b[0m \u001b[0mval_sets\u001b[0m\u001b[0;34m:\u001b[0m\u001b[0;34m\u001b[0m\u001b[0;34m\u001b[0m\u001b[0m\n\u001b[0;32m----> 2\u001b[0;31m     \u001b[0mresults\u001b[0m \u001b[0;34m=\u001b[0m \u001b[0mViT_mura_sub_trainer\u001b[0m\u001b[0;34m.\u001b[0m\u001b[0mevaluate\u001b[0m\u001b[0;34m(\u001b[0m\u001b[0mval_sets\u001b[0m\u001b[0;34m[\u001b[0m\u001b[0mval\u001b[0m\u001b[0;34m]\u001b[0m\u001b[0;34m)\u001b[0m\u001b[0;34m\u001b[0m\u001b[0;34m\u001b[0m\u001b[0m\n\u001b[0m\u001b[1;32m      3\u001b[0m     \u001b[0mprint\u001b[0m\u001b[0;34m(\u001b[0m\u001b[0;34mf'{val} : {results}'\u001b[0m\u001b[0;34m)\u001b[0m\u001b[0;34m\u001b[0m\u001b[0;34m\u001b[0m\u001b[0m\n",
            "\u001b[0;32m/usr/local/lib/python3.9/dist-packages/transformers/trainer.py\u001b[0m in \u001b[0;36mevaluate\u001b[0;34m(self, eval_dataset, ignore_keys, metric_key_prefix)\u001b[0m\n\u001b[1;32m   2991\u001b[0m \u001b[0;34m\u001b[0m\u001b[0m\n\u001b[1;32m   2992\u001b[0m         \u001b[0meval_loop\u001b[0m \u001b[0;34m=\u001b[0m \u001b[0mself\u001b[0m\u001b[0;34m.\u001b[0m\u001b[0mprediction_loop\u001b[0m \u001b[0;32mif\u001b[0m \u001b[0mself\u001b[0m\u001b[0;34m.\u001b[0m\u001b[0margs\u001b[0m\u001b[0;34m.\u001b[0m\u001b[0muse_legacy_prediction_loop\u001b[0m \u001b[0;32melse\u001b[0m \u001b[0mself\u001b[0m\u001b[0;34m.\u001b[0m\u001b[0mevaluation_loop\u001b[0m\u001b[0;34m\u001b[0m\u001b[0;34m\u001b[0m\u001b[0m\n\u001b[0;32m-> 2993\u001b[0;31m         output = eval_loop(\n\u001b[0m\u001b[1;32m   2994\u001b[0m             \u001b[0meval_dataloader\u001b[0m\u001b[0;34m,\u001b[0m\u001b[0;34m\u001b[0m\u001b[0;34m\u001b[0m\u001b[0m\n\u001b[1;32m   2995\u001b[0m             \u001b[0mdescription\u001b[0m\u001b[0;34m=\u001b[0m\u001b[0;34m\"Evaluation\"\u001b[0m\u001b[0;34m,\u001b[0m\u001b[0;34m\u001b[0m\u001b[0;34m\u001b[0m\u001b[0m\n",
            "\u001b[0;32m/usr/local/lib/python3.9/dist-packages/transformers/trainer.py\u001b[0m in \u001b[0;36mevaluation_loop\u001b[0;34m(self, dataloader, description, prediction_loss_only, ignore_keys, metric_key_prefix)\u001b[0m\n\u001b[1;32m   3162\u001b[0m         \u001b[0mobserved_num_examples\u001b[0m \u001b[0;34m=\u001b[0m \u001b[0;36m0\u001b[0m\u001b[0;34m\u001b[0m\u001b[0;34m\u001b[0m\u001b[0m\n\u001b[1;32m   3163\u001b[0m         \u001b[0;31m# Main evaluation loop\u001b[0m\u001b[0;34m\u001b[0m\u001b[0;34m\u001b[0m\u001b[0m\n\u001b[0;32m-> 3164\u001b[0;31m         \u001b[0;32mfor\u001b[0m \u001b[0mstep\u001b[0m\u001b[0;34m,\u001b[0m \u001b[0minputs\u001b[0m \u001b[0;32min\u001b[0m \u001b[0menumerate\u001b[0m\u001b[0;34m(\u001b[0m\u001b[0mdataloader\u001b[0m\u001b[0;34m)\u001b[0m\u001b[0;34m:\u001b[0m\u001b[0;34m\u001b[0m\u001b[0;34m\u001b[0m\u001b[0m\n\u001b[0m\u001b[1;32m   3165\u001b[0m             \u001b[0;31m# Update the observed num examples\u001b[0m\u001b[0;34m\u001b[0m\u001b[0;34m\u001b[0m\u001b[0m\n\u001b[1;32m   3166\u001b[0m             \u001b[0mobserved_batch_size\u001b[0m \u001b[0;34m=\u001b[0m \u001b[0mfind_batch_size\u001b[0m\u001b[0;34m(\u001b[0m\u001b[0minputs\u001b[0m\u001b[0;34m)\u001b[0m\u001b[0;34m\u001b[0m\u001b[0;34m\u001b[0m\u001b[0m\n",
            "\u001b[0;32m/usr/local/lib/python3.9/dist-packages/torch/utils/data/dataloader.py\u001b[0m in \u001b[0;36m__next__\u001b[0;34m(self)\u001b[0m\n\u001b[1;32m    632\u001b[0m                 \u001b[0;31m# TODO(https://github.com/pytorch/pytorch/issues/76750)\u001b[0m\u001b[0;34m\u001b[0m\u001b[0;34m\u001b[0m\u001b[0m\n\u001b[1;32m    633\u001b[0m                 \u001b[0mself\u001b[0m\u001b[0;34m.\u001b[0m\u001b[0m_reset\u001b[0m\u001b[0;34m(\u001b[0m\u001b[0;34m)\u001b[0m  \u001b[0;31m# type: ignore[call-arg]\u001b[0m\u001b[0;34m\u001b[0m\u001b[0;34m\u001b[0m\u001b[0m\n\u001b[0;32m--> 634\u001b[0;31m             \u001b[0mdata\u001b[0m \u001b[0;34m=\u001b[0m \u001b[0mself\u001b[0m\u001b[0;34m.\u001b[0m\u001b[0m_next_data\u001b[0m\u001b[0;34m(\u001b[0m\u001b[0;34m)\u001b[0m\u001b[0;34m\u001b[0m\u001b[0;34m\u001b[0m\u001b[0m\n\u001b[0m\u001b[1;32m    635\u001b[0m             \u001b[0mself\u001b[0m\u001b[0;34m.\u001b[0m\u001b[0m_num_yielded\u001b[0m \u001b[0;34m+=\u001b[0m \u001b[0;36m1\u001b[0m\u001b[0;34m\u001b[0m\u001b[0;34m\u001b[0m\u001b[0m\n\u001b[1;32m    636\u001b[0m             \u001b[0;32mif\u001b[0m \u001b[0mself\u001b[0m\u001b[0;34m.\u001b[0m\u001b[0m_dataset_kind\u001b[0m \u001b[0;34m==\u001b[0m \u001b[0m_DatasetKind\u001b[0m\u001b[0;34m.\u001b[0m\u001b[0mIterable\u001b[0m \u001b[0;32mand\u001b[0m\u001b[0;31m \u001b[0m\u001b[0;31m\\\u001b[0m\u001b[0;34m\u001b[0m\u001b[0;34m\u001b[0m\u001b[0m\n",
            "\u001b[0;32m/usr/local/lib/python3.9/dist-packages/torch/utils/data/dataloader.py\u001b[0m in \u001b[0;36m_next_data\u001b[0;34m(self)\u001b[0m\n\u001b[1;32m    676\u001b[0m     \u001b[0;32mdef\u001b[0m \u001b[0m_next_data\u001b[0m\u001b[0;34m(\u001b[0m\u001b[0mself\u001b[0m\u001b[0;34m)\u001b[0m\u001b[0;34m:\u001b[0m\u001b[0;34m\u001b[0m\u001b[0;34m\u001b[0m\u001b[0m\n\u001b[1;32m    677\u001b[0m         \u001b[0mindex\u001b[0m \u001b[0;34m=\u001b[0m \u001b[0mself\u001b[0m\u001b[0;34m.\u001b[0m\u001b[0m_next_index\u001b[0m\u001b[0;34m(\u001b[0m\u001b[0;34m)\u001b[0m  \u001b[0;31m# may raise StopIteration\u001b[0m\u001b[0;34m\u001b[0m\u001b[0;34m\u001b[0m\u001b[0m\n\u001b[0;32m--> 678\u001b[0;31m         \u001b[0mdata\u001b[0m \u001b[0;34m=\u001b[0m \u001b[0mself\u001b[0m\u001b[0;34m.\u001b[0m\u001b[0m_dataset_fetcher\u001b[0m\u001b[0;34m.\u001b[0m\u001b[0mfetch\u001b[0m\u001b[0;34m(\u001b[0m\u001b[0mindex\u001b[0m\u001b[0;34m)\u001b[0m  \u001b[0;31m# may raise StopIteration\u001b[0m\u001b[0;34m\u001b[0m\u001b[0;34m\u001b[0m\u001b[0m\n\u001b[0m\u001b[1;32m    679\u001b[0m         \u001b[0;32mif\u001b[0m \u001b[0mself\u001b[0m\u001b[0;34m.\u001b[0m\u001b[0m_pin_memory\u001b[0m\u001b[0;34m:\u001b[0m\u001b[0;34m\u001b[0m\u001b[0;34m\u001b[0m\u001b[0m\n\u001b[1;32m    680\u001b[0m             \u001b[0mdata\u001b[0m \u001b[0;34m=\u001b[0m \u001b[0m_utils\u001b[0m\u001b[0;34m.\u001b[0m\u001b[0mpin_memory\u001b[0m\u001b[0;34m.\u001b[0m\u001b[0mpin_memory\u001b[0m\u001b[0;34m(\u001b[0m\u001b[0mdata\u001b[0m\u001b[0;34m,\u001b[0m \u001b[0mself\u001b[0m\u001b[0;34m.\u001b[0m\u001b[0m_pin_memory_device\u001b[0m\u001b[0;34m)\u001b[0m\u001b[0;34m\u001b[0m\u001b[0;34m\u001b[0m\u001b[0m\n",
            "\u001b[0;32m/usr/local/lib/python3.9/dist-packages/torch/utils/data/_utils/fetch.py\u001b[0m in \u001b[0;36mfetch\u001b[0;34m(self, possibly_batched_index)\u001b[0m\n\u001b[1;32m     47\u001b[0m         \u001b[0;32mif\u001b[0m \u001b[0mself\u001b[0m\u001b[0;34m.\u001b[0m\u001b[0mauto_collation\u001b[0m\u001b[0;34m:\u001b[0m\u001b[0;34m\u001b[0m\u001b[0;34m\u001b[0m\u001b[0m\n\u001b[1;32m     48\u001b[0m             \u001b[0;32mif\u001b[0m \u001b[0mhasattr\u001b[0m\u001b[0;34m(\u001b[0m\u001b[0mself\u001b[0m\u001b[0;34m.\u001b[0m\u001b[0mdataset\u001b[0m\u001b[0;34m,\u001b[0m \u001b[0;34m\"__getitems__\"\u001b[0m\u001b[0;34m)\u001b[0m \u001b[0;32mand\u001b[0m \u001b[0mself\u001b[0m\u001b[0;34m.\u001b[0m\u001b[0mdataset\u001b[0m\u001b[0;34m.\u001b[0m\u001b[0m__getitems__\u001b[0m\u001b[0;34m:\u001b[0m\u001b[0;34m\u001b[0m\u001b[0;34m\u001b[0m\u001b[0m\n\u001b[0;32m---> 49\u001b[0;31m                 \u001b[0mdata\u001b[0m \u001b[0;34m=\u001b[0m \u001b[0mself\u001b[0m\u001b[0;34m.\u001b[0m\u001b[0mdataset\u001b[0m\u001b[0;34m.\u001b[0m\u001b[0m__getitems__\u001b[0m\u001b[0;34m(\u001b[0m\u001b[0mpossibly_batched_index\u001b[0m\u001b[0;34m)\u001b[0m\u001b[0;34m\u001b[0m\u001b[0;34m\u001b[0m\u001b[0m\n\u001b[0m\u001b[1;32m     50\u001b[0m             \u001b[0;32melse\u001b[0m\u001b[0;34m:\u001b[0m\u001b[0;34m\u001b[0m\u001b[0;34m\u001b[0m\u001b[0m\n\u001b[1;32m     51\u001b[0m                 \u001b[0mdata\u001b[0m \u001b[0;34m=\u001b[0m \u001b[0;34m[\u001b[0m\u001b[0mself\u001b[0m\u001b[0;34m.\u001b[0m\u001b[0mdataset\u001b[0m\u001b[0;34m[\u001b[0m\u001b[0midx\u001b[0m\u001b[0;34m]\u001b[0m \u001b[0;32mfor\u001b[0m \u001b[0midx\u001b[0m \u001b[0;32min\u001b[0m \u001b[0mpossibly_batched_index\u001b[0m\u001b[0;34m]\u001b[0m\u001b[0;34m\u001b[0m\u001b[0;34m\u001b[0m\u001b[0m\n",
            "\u001b[0;32m/usr/local/lib/python3.9/dist-packages/datasets/arrow_dataset.py\u001b[0m in \u001b[0;36m__getitems__\u001b[0;34m(self, keys)\u001b[0m\n\u001b[1;32m   2711\u001b[0m     \u001b[0;32mdef\u001b[0m \u001b[0m__getitems__\u001b[0m\u001b[0;34m(\u001b[0m\u001b[0mself\u001b[0m\u001b[0;34m,\u001b[0m \u001b[0mkeys\u001b[0m\u001b[0;34m:\u001b[0m \u001b[0mList\u001b[0m\u001b[0;34m)\u001b[0m \u001b[0;34m->\u001b[0m \u001b[0mList\u001b[0m\u001b[0;34m:\u001b[0m\u001b[0;34m\u001b[0m\u001b[0;34m\u001b[0m\u001b[0m\n\u001b[1;32m   2712\u001b[0m         \u001b[0;34m\"\"\"Can be used to get a batch using a list of integers indices.\"\"\"\u001b[0m\u001b[0;34m\u001b[0m\u001b[0;34m\u001b[0m\u001b[0m\n\u001b[0;32m-> 2713\u001b[0;31m         \u001b[0mbatch\u001b[0m \u001b[0;34m=\u001b[0m \u001b[0mself\u001b[0m\u001b[0;34m.\u001b[0m\u001b[0m__getitem__\u001b[0m\u001b[0;34m(\u001b[0m\u001b[0mkeys\u001b[0m\u001b[0;34m)\u001b[0m\u001b[0;34m\u001b[0m\u001b[0;34m\u001b[0m\u001b[0m\n\u001b[0m\u001b[1;32m   2714\u001b[0m         \u001b[0mn_examples\u001b[0m \u001b[0;34m=\u001b[0m \u001b[0mlen\u001b[0m\u001b[0;34m(\u001b[0m\u001b[0mbatch\u001b[0m\u001b[0;34m[\u001b[0m\u001b[0mnext\u001b[0m\u001b[0;34m(\u001b[0m\u001b[0miter\u001b[0m\u001b[0;34m(\u001b[0m\u001b[0mbatch\u001b[0m\u001b[0;34m)\u001b[0m\u001b[0;34m)\u001b[0m\u001b[0;34m]\u001b[0m\u001b[0;34m)\u001b[0m\u001b[0;34m\u001b[0m\u001b[0;34m\u001b[0m\u001b[0m\n\u001b[1;32m   2715\u001b[0m         \u001b[0;32mreturn\u001b[0m \u001b[0;34m[\u001b[0m\u001b[0;34m{\u001b[0m\u001b[0mcol\u001b[0m\u001b[0;34m:\u001b[0m \u001b[0marray\u001b[0m\u001b[0;34m[\u001b[0m\u001b[0mi\u001b[0m\u001b[0;34m]\u001b[0m \u001b[0;32mfor\u001b[0m \u001b[0mcol\u001b[0m\u001b[0;34m,\u001b[0m \u001b[0marray\u001b[0m \u001b[0;32min\u001b[0m \u001b[0mbatch\u001b[0m\u001b[0;34m.\u001b[0m\u001b[0mitems\u001b[0m\u001b[0;34m(\u001b[0m\u001b[0;34m)\u001b[0m\u001b[0;34m}\u001b[0m \u001b[0;32mfor\u001b[0m \u001b[0mi\u001b[0m \u001b[0;32min\u001b[0m \u001b[0mrange\u001b[0m\u001b[0;34m(\u001b[0m\u001b[0mn_examples\u001b[0m\u001b[0;34m)\u001b[0m\u001b[0;34m]\u001b[0m\u001b[0;34m\u001b[0m\u001b[0;34m\u001b[0m\u001b[0m\n",
            "\u001b[0;32m<ipython-input-19-ceb025964772>\u001b[0m in \u001b[0;36m__getitem__\u001b[0;34m(self, idx)\u001b[0m\n\u001b[1;32m     18\u001b[0m \u001b[0;34m\u001b[0m\u001b[0m\n\u001b[1;32m     19\u001b[0m     \u001b[0;32mdef\u001b[0m \u001b[0m__getitem__\u001b[0m\u001b[0;34m(\u001b[0m\u001b[0mself\u001b[0m\u001b[0;34m,\u001b[0m \u001b[0midx\u001b[0m\u001b[0;34m)\u001b[0m\u001b[0;34m:\u001b[0m\u001b[0;34m\u001b[0m\u001b[0;34m\u001b[0m\u001b[0m\n\u001b[0;32m---> 20\u001b[0;31m         \u001b[0mimage\u001b[0m\u001b[0;34m,\u001b[0m \u001b[0mclass_name\u001b[0m \u001b[0;34m=\u001b[0m \u001b[0mself\u001b[0m\u001b[0;34m.\u001b[0m\u001b[0mget_image_class\u001b[0m\u001b[0;34m(\u001b[0m\u001b[0midx\u001b[0m\u001b[0;34m)\u001b[0m\u001b[0;34m\u001b[0m\u001b[0;34m\u001b[0m\u001b[0m\n\u001b[0m\u001b[1;32m     21\u001b[0m         \u001b[0mlabel\u001b[0m \u001b[0;34m=\u001b[0m \u001b[0mself\u001b[0m\u001b[0;34m.\u001b[0m\u001b[0mclass_to_idx\u001b[0m\u001b[0;34m[\u001b[0m\u001b[0mclass_name\u001b[0m\u001b[0;34m]\u001b[0m\u001b[0;34m\u001b[0m\u001b[0;34m\u001b[0m\u001b[0m\n\u001b[1;32m     22\u001b[0m \u001b[0;34m\u001b[0m\u001b[0m\n",
            "\u001b[0;32m<ipython-input-19-ceb025964772>\u001b[0m in \u001b[0;36mget_image_class\u001b[0;34m(self, index)\u001b[0m\n\u001b[1;32m     15\u001b[0m         \u001b[0mimage_path\u001b[0m \u001b[0;34m=\u001b[0m \u001b[0mself\u001b[0m\u001b[0;34m.\u001b[0m\u001b[0mmura\u001b[0m\u001b[0;34m.\u001b[0m\u001b[0miloc\u001b[0m\u001b[0;34m[\u001b[0m\u001b[0mindex\u001b[0m\u001b[0;34m]\u001b[0m\u001b[0;34m[\u001b[0m\u001b[0;34m'image_path'\u001b[0m\u001b[0;34m]\u001b[0m\u001b[0;34m\u001b[0m\u001b[0;34m\u001b[0m\u001b[0m\n\u001b[1;32m     16\u001b[0m         \u001b[0mclass_name\u001b[0m \u001b[0;34m=\u001b[0m \u001b[0mself\u001b[0m\u001b[0;34m.\u001b[0m\u001b[0mmura\u001b[0m\u001b[0;34m.\u001b[0m\u001b[0miloc\u001b[0m\u001b[0;34m[\u001b[0m\u001b[0mindex\u001b[0m\u001b[0;34m]\u001b[0m\u001b[0;34m[\u001b[0m\u001b[0;34m'target'\u001b[0m\u001b[0;34m]\u001b[0m\u001b[0;34m\u001b[0m\u001b[0;34m\u001b[0m\u001b[0m\n\u001b[0;32m---> 17\u001b[0;31m         \u001b[0;32mreturn\u001b[0m \u001b[0mImage\u001b[0m\u001b[0;34m.\u001b[0m\u001b[0mopen\u001b[0m\u001b[0;34m(\u001b[0m\u001b[0mimage_path\u001b[0m\u001b[0;34m)\u001b[0m\u001b[0;34m,\u001b[0m \u001b[0mclass_name\u001b[0m\u001b[0;34m\u001b[0m\u001b[0;34m\u001b[0m\u001b[0m\n\u001b[0m\u001b[1;32m     18\u001b[0m \u001b[0;34m\u001b[0m\u001b[0m\n\u001b[1;32m     19\u001b[0m     \u001b[0;32mdef\u001b[0m \u001b[0m__getitem__\u001b[0m\u001b[0;34m(\u001b[0m\u001b[0mself\u001b[0m\u001b[0;34m,\u001b[0m \u001b[0midx\u001b[0m\u001b[0;34m)\u001b[0m\u001b[0;34m:\u001b[0m\u001b[0;34m\u001b[0m\u001b[0;34m\u001b[0m\u001b[0m\n",
            "\u001b[0;32m/usr/local/lib/python3.9/dist-packages/PIL/Image.py\u001b[0m in \u001b[0;36mopen\u001b[0;34m(fp, mode, formats)\u001b[0m\n\u001b[1;32m   2979\u001b[0m         \u001b[0mfp\u001b[0m\u001b[0;34m.\u001b[0m\u001b[0mseek\u001b[0m\u001b[0;34m(\u001b[0m\u001b[0;36m0\u001b[0m\u001b[0;34m)\u001b[0m\u001b[0;34m\u001b[0m\u001b[0;34m\u001b[0m\u001b[0m\n\u001b[1;32m   2980\u001b[0m     \u001b[0;32mexcept\u001b[0m \u001b[0;34m(\u001b[0m\u001b[0mAttributeError\u001b[0m\u001b[0;34m,\u001b[0m \u001b[0mio\u001b[0m\u001b[0;34m.\u001b[0m\u001b[0mUnsupportedOperation\u001b[0m\u001b[0;34m)\u001b[0m\u001b[0;34m:\u001b[0m\u001b[0;34m\u001b[0m\u001b[0;34m\u001b[0m\u001b[0m\n\u001b[0;32m-> 2981\u001b[0;31m         \u001b[0mfp\u001b[0m \u001b[0;34m=\u001b[0m \u001b[0mio\u001b[0m\u001b[0;34m.\u001b[0m\u001b[0mBytesIO\u001b[0m\u001b[0;34m(\u001b[0m\u001b[0mfp\u001b[0m\u001b[0;34m.\u001b[0m\u001b[0mread\u001b[0m\u001b[0;34m(\u001b[0m\u001b[0;34m)\u001b[0m\u001b[0;34m)\u001b[0m\u001b[0;34m\u001b[0m\u001b[0;34m\u001b[0m\u001b[0m\n\u001b[0m\u001b[1;32m   2982\u001b[0m         \u001b[0mexclusive_fp\u001b[0m \u001b[0;34m=\u001b[0m \u001b[0;32mTrue\u001b[0m\u001b[0;34m\u001b[0m\u001b[0;34m\u001b[0m\u001b[0m\n\u001b[1;32m   2983\u001b[0m \u001b[0;34m\u001b[0m\u001b[0m\n",
            "\u001b[0;32m/usr/local/lib/python3.9/dist-packages/pandas/core/generic.py\u001b[0m in \u001b[0;36m__getattr__\u001b[0;34m(self, name)\u001b[0m\n\u001b[1;32m   5573\u001b[0m         ):\n\u001b[1;32m   5574\u001b[0m             \u001b[0;32mreturn\u001b[0m \u001b[0mself\u001b[0m\u001b[0;34m[\u001b[0m\u001b[0mname\u001b[0m\u001b[0;34m]\u001b[0m\u001b[0;34m\u001b[0m\u001b[0;34m\u001b[0m\u001b[0m\n\u001b[0;32m-> 5575\u001b[0;31m         \u001b[0;32mreturn\u001b[0m \u001b[0mobject\u001b[0m\u001b[0;34m.\u001b[0m\u001b[0m__getattribute__\u001b[0m\u001b[0;34m(\u001b[0m\u001b[0mself\u001b[0m\u001b[0;34m,\u001b[0m \u001b[0mname\u001b[0m\u001b[0;34m)\u001b[0m\u001b[0;34m\u001b[0m\u001b[0;34m\u001b[0m\u001b[0m\n\u001b[0m\u001b[1;32m   5576\u001b[0m \u001b[0;34m\u001b[0m\u001b[0m\n\u001b[1;32m   5577\u001b[0m     \u001b[0;32mdef\u001b[0m \u001b[0m__setattr__\u001b[0m\u001b[0;34m(\u001b[0m\u001b[0mself\u001b[0m\u001b[0;34m,\u001b[0m \u001b[0mname\u001b[0m\u001b[0;34m:\u001b[0m \u001b[0mstr\u001b[0m\u001b[0;34m,\u001b[0m \u001b[0mvalue\u001b[0m\u001b[0;34m)\u001b[0m \u001b[0;34m->\u001b[0m \u001b[0;32mNone\u001b[0m\u001b[0;34m:\u001b[0m\u001b[0;34m\u001b[0m\u001b[0;34m\u001b[0m\u001b[0m\n",
            "\u001b[0;31mAttributeError\u001b[0m: 'Series' object has no attribute 'read'"
          ]
        }
      ]
    },
    {
      "cell_type": "markdown",
      "source": [
        "### Wrist"
      ],
      "metadata": {
        "id": "7bEyLUBZ7Q3V"
      }
    },
    {
      "cell_type": "code",
      "source": [
        "#ViTForImageClassification\n",
        "\n",
        "ViT_wrist_model = ViTForImageClassification.from_pretrained(\n",
        "    model_name_or_path,\n",
        "    num_labels=2,\n",
        "    id2label=label_to_target_2,\n",
        "    label2id=target_to_label_2\n",
        ")"
      ],
      "metadata": {
        "colab": {
          "base_uri": "https://localhost:8080/"
        },
        "id": "jActe_o9I44t",
        "outputId": "fe187858-f422-4062-e694-392ae0993a04"
      },
      "execution_count": null,
      "outputs": [
        {
          "output_type": "stream",
          "name": "stderr",
          "text": [
            "Some weights of the model checkpoint at google/vit-base-patch16-224-in21k were not used when initializing ViTForImageClassification: ['pooler.dense.weight', 'pooler.dense.bias']\n",
            "- This IS expected if you are initializing ViTForImageClassification from the checkpoint of a model trained on another task or with another architecture (e.g. initializing a BertForSequenceClassification model from a BertForPreTraining model).\n",
            "- This IS NOT expected if you are initializing ViTForImageClassification from the checkpoint of a model that you expect to be exactly identical (initializing a BertForSequenceClassification model from a BertForSequenceClassification model).\n",
            "Some weights of ViTForImageClassification were not initialized from the model checkpoint at google/vit-base-patch16-224-in21k and are newly initialized: ['classifier.weight', 'classifier.bias']\n",
            "You should probably TRAIN this model on a down-stream task to be able to use it for predictions and inference.\n"
          ]
        }
      ]
    },
    {
      "cell_type": "code",
      "source": [
        "training_args_wrist = TrainingArguments(\n",
        "  # save checkpoints and predictions to this directory\n",
        "  output_dir=\"mura/Models/Wrist\",\n",
        "  per_device_train_batch_size=vit_batch_size,\n",
        "  evaluation_strategy=\"steps\",\n",
        "  num_train_epochs=vit_epochs,\n",
        "  fp16=True,\n",
        "  save_steps=100,\n",
        "  eval_steps=100,\n",
        "  logging_steps=10,\n",
        "  learning_rate=vit_lr,\n",
        "  save_total_limit=2,\n",
        "  remove_unused_columns=False,\n",
        "  push_to_hub=False,\n",
        "  report_to='tensorboard',\n",
        "  load_best_model_at_end=True,\n",
        "  gradient_accumulation_steps=4,\n",
        "  metric_for_best_model='accuracy'\n",
        ")"
      ],
      "metadata": {
        "id": "xIhhYQFCv12o"
      },
      "execution_count": null,
      "outputs": []
    },
    {
      "cell_type": "code",
      "source": [
        "#create trainer for wrist ViT model\n",
        "ViT_wrist_trainer = Trainer(\n",
        "    model=ViT_wrist_model,\n",
        "    args=training_args_wrist,\n",
        "    data_collator=collate_fn,\n",
        "    compute_metrics=compute_metrics,\n",
        "    train_dataset=ViT_wrist_train_dataset,\n",
        "    eval_dataset=ViT_wrist_test_dataset,\n",
        "    tokenizer=feature_extractor,\n",
        ")"
      ],
      "metadata": {
        "id": "A2MS64tY9EJX"
      },
      "execution_count": null,
      "outputs": []
    },
    {
      "cell_type": "code",
      "source": [
        "# run wrist ViT model\n",
        "#wrist_ViT_results = run_ViT(ViT_wrist_trainer)\n",
        "\n",
        "wrist_train_results = ViT_wrist_trainer.train()\n",
        "ViT_wrist_trainer.save_model()\n",
        "ViT_wrist_trainer.log_metrics(\"train\", wrist_train_results.metrics)\n",
        "ViT_wrist_trainer.save_metrics(\"train\", wrist_train_results.metrics)\n",
        "ViT_wrist_trainer.save_state()"
      ],
      "metadata": {
        "id": "2alEbD3i9Dax",
        "colab": {
          "base_uri": "https://localhost:8080/",
          "height": 341
        },
        "outputId": "ef39ef3c-8bdd-48b1-88d1-27170e1eb56e"
      },
      "execution_count": null,
      "outputs": [
        {
          "output_type": "stream",
          "name": "stderr",
          "text": [
            "/usr/local/lib/python3.9/dist-packages/transformers/optimization.py:391: FutureWarning: This implementation of AdamW is deprecated and will be removed in a future version. Use the PyTorch implementation torch.optim.AdamW instead, or set `no_deprecation_warning=True` to disable this warning\n",
            "  warnings.warn(\n"
          ]
        },
        {
          "output_type": "display_data",
          "data": {
            "text/plain": [
              "<IPython.core.display.HTML object>"
            ],
            "text/html": [
              "\n",
              "    <div>\n",
              "      \n",
              "      <progress value='380' max='380' style='width:300px; height:20px; vertical-align: middle;'></progress>\n",
              "      [380/380 1:05:10, Epoch 4/5]\n",
              "    </div>\n",
              "    <table border=\"1\" class=\"dataframe\">\n",
              "  <thead>\n",
              " <tr style=\"text-align: left;\">\n",
              "      <th>Step</th>\n",
              "      <th>Training Loss</th>\n",
              "      <th>Validation Loss</th>\n",
              "      <th>Accuracy</th>\n",
              "    </tr>\n",
              "  </thead>\n",
              "  <tbody>\n",
              "    <tr>\n",
              "      <td>100</td>\n",
              "      <td>0.370800</td>\n",
              "      <td>0.430953</td>\n",
              "      <td>0.804249</td>\n",
              "    </tr>\n",
              "    <tr>\n",
              "      <td>200</td>\n",
              "      <td>0.261500</td>\n",
              "      <td>0.493697</td>\n",
              "      <td>0.813354</td>\n",
              "    </tr>\n",
              "    <tr>\n",
              "      <td>300</td>\n",
              "      <td>0.154500</td>\n",
              "      <td>0.568769</td>\n",
              "      <td>0.811836</td>\n",
              "    </tr>\n",
              "  </tbody>\n",
              "</table><p>"
            ]
          },
          "metadata": {}
        },
        {
          "output_type": "stream",
          "name": "stdout",
          "text": [
            "***** train metrics *****\n",
            "  epoch                    =         4.98\n",
            "  total_flos               = 3508041269GF\n",
            "  train_loss               =       0.2595\n",
            "  train_runtime            =   1:05:24.52\n",
            "  train_samples_per_second =       12.424\n",
            "  train_steps_per_second   =        0.097\n"
          ]
        }
      ]
    },
    {
      "cell_type": "code",
      "source": [
        "print(wrist_train_results)"
      ],
      "metadata": {
        "id": "vrgsmeLJCDl7",
        "colab": {
          "base_uri": "https://localhost:8080/"
        },
        "outputId": "4e80f3e7-8751-4d9b-b726-5f46e9e53929"
      },
      "execution_count": null,
      "outputs": [
        {
          "output_type": "stream",
          "name": "stdout",
          "text": [
            "TrainOutput(global_step=380, training_loss=0.25945617603628257, metrics={'train_runtime': 3924.5273, 'train_samples_per_second': 12.424, 'train_steps_per_second': 0.097, 'total_flos': 3.766730631186088e+18, 'train_loss': 0.25945617603628257, 'epoch': 4.98})\n"
          ]
        }
      ]
    },
    {
      "cell_type": "code",
      "source": [
        "metrics_wrist = ViT_wrist_trainer.evaluate(ViT_wrist_test_dataset)\n",
        "ViT_wrist_trainer.log_metrics(\"eval\", metrics_wrist)\n",
        "ViT_wrist_trainer.save_metrics(\"eval\", metrics_wrist)"
      ],
      "metadata": {
        "colab": {
          "base_uri": "https://localhost:8080/",
          "height": 156
        },
        "id": "F6BmuHuJTldF",
        "outputId": "e125bc69-2a02-4be6-f827-e140b110f352"
      },
      "execution_count": null,
      "outputs": [
        {
          "output_type": "display_data",
          "data": {
            "text/plain": [
              "<IPython.core.display.HTML object>"
            ],
            "text/html": [
              "\n",
              "    <div>\n",
              "      \n",
              "      <progress value='166' max='83' style='width:300px; height:20px; vertical-align: middle;'></progress>\n",
              "      [83/83 8:37:14]\n",
              "    </div>\n",
              "    "
            ]
          },
          "metadata": {}
        },
        {
          "output_type": "stream",
          "name": "stdout",
          "text": [
            "***** eval metrics *****\n",
            "  epoch                   =       4.98\n",
            "  eval_accuracy           =     0.8134\n",
            "  eval_loss               =     0.4937\n",
            "  eval_runtime            = 0:00:53.99\n",
            "  eval_samples_per_second =     12.205\n",
            "  eval_steps_per_second   =      1.537\n"
          ]
        }
      ]
    },
    {
      "cell_type": "markdown",
      "source": [
        "### Forearm"
      ],
      "metadata": {
        "id": "GtC3i4787QsM"
      }
    },
    {
      "cell_type": "code",
      "source": [
        "ViT_forearm_model = ViTForImageClassification.from_pretrained(\n",
        "    model_name_or_path,\n",
        "    num_labels=2,\n",
        "    id2label=label_to_target_2,\n",
        "    label2id=target_to_label_2\n",
        ")"
      ],
      "metadata": {
        "colab": {
          "base_uri": "https://localhost:8080/"
        },
        "id": "NcBv9uL2SNHP",
        "outputId": "cc91effd-e93e-4e25-fbce-37bfd633c4ed"
      },
      "execution_count": null,
      "outputs": [
        {
          "output_type": "stream",
          "name": "stderr",
          "text": [
            "Some weights of the model checkpoint at google/vit-base-patch16-224-in21k were not used when initializing ViTForImageClassification: ['pooler.dense.weight', 'pooler.dense.bias']\n",
            "- This IS expected if you are initializing ViTForImageClassification from the checkpoint of a model trained on another task or with another architecture (e.g. initializing a BertForSequenceClassification model from a BertForPreTraining model).\n",
            "- This IS NOT expected if you are initializing ViTForImageClassification from the checkpoint of a model that you expect to be exactly identical (initializing a BertForSequenceClassification model from a BertForSequenceClassification model).\n",
            "Some weights of ViTForImageClassification were not initialized from the model checkpoint at google/vit-base-patch16-224-in21k and are newly initialized: ['classifier.weight', 'classifier.bias']\n",
            "You should probably TRAIN this model on a down-stream task to be able to use it for predictions and inference.\n"
          ]
        }
      ]
    },
    {
      "cell_type": "code",
      "source": [
        "training_args_forearm = TrainingArguments(\n",
        "  # save checkpoints and predictions to this directory\n",
        "  output_dir=\"mura/Models/forearm\",\n",
        "  per_device_train_batch_size=vit_batch_size,\n",
        "  evaluation_strategy=\"steps\",\n",
        "  num_train_epochs=vit_epochs,\n",
        "  fp16=True,\n",
        "  save_steps=100,\n",
        "  eval_steps=100,\n",
        "  logging_steps=10,\n",
        "  learning_rate=vit_lr,\n",
        "  save_total_limit=2,\n",
        "  remove_unused_columns=False,\n",
        "  push_to_hub=False,\n",
        "  report_to='tensorboard',\n",
        "  load_best_model_at_end=True,\n",
        ")"
      ],
      "metadata": {
        "id": "yAPUFIwjwJwR"
      },
      "execution_count": null,
      "outputs": []
    },
    {
      "cell_type": "code",
      "source": [
        "#create trainer for forearm ViT model\n",
        "ViT_forearm_trainer = Trainer(\n",
        "    model=ViT_forearm_model,\n",
        "    args=training_args_forearm,\n",
        "    data_collator=collate_fn,\n",
        "    compute_metrics=compute_metrics,\n",
        "    train_dataset=ViT_forearm_train_dataset,\n",
        "    eval_dataset=ViT_forearm_test_dataset,\n",
        "    tokenizer=feature_extractor,\n",
        ")"
      ],
      "metadata": {
        "id": "__t7mpi1_bxt"
      },
      "execution_count": null,
      "outputs": []
    },
    {
      "cell_type": "code",
      "source": [
        "forearm_train_results = ViT_forearm_trainer.train()\n",
        "ViT_forearm_trainer.save_model()\n",
        "ViT_forearm_trainer.log_metrics(\"train\", forearm_train_results.metrics)\n",
        "ViT_forearm_trainer.save_metrics(\"train\", forearm_train_results.metrics)\n",
        "ViT_forearm_trainer.save_state()"
      ],
      "metadata": {
        "colab": {
          "base_uri": "https://localhost:8080/",
          "height": 310
        },
        "id": "U2RwCJ0rTFEj",
        "outputId": "e6828951-3ec2-42bc-a428-134f7c59b28b"
      },
      "execution_count": null,
      "outputs": [
        {
          "output_type": "stream",
          "name": "stderr",
          "text": [
            "/usr/local/lib/python3.9/dist-packages/transformers/optimization.py:391: FutureWarning: This implementation of AdamW is deprecated and will be removed in a future version. Use the PyTorch implementation torch.optim.AdamW instead, or set `no_deprecation_warning=True` to disable this warning\n",
            "  warnings.warn(\n"
          ]
        },
        {
          "output_type": "display_data",
          "data": {
            "text/plain": [
              "<IPython.core.display.HTML object>"
            ],
            "text/html": [
              "\n",
              "    <div>\n",
              "      \n",
              "      <progress value='290' max='290' style='width:300px; height:20px; vertical-align: middle;'></progress>\n",
              "      [290/290 14:48, Epoch 5/5]\n",
              "    </div>\n",
              "    <table border=\"1\" class=\"dataframe\">\n",
              "  <thead>\n",
              " <tr style=\"text-align: left;\">\n",
              "      <th>Step</th>\n",
              "      <th>Training Loss</th>\n",
              "      <th>Validation Loss</th>\n",
              "      <th>Accuracy</th>\n",
              "    </tr>\n",
              "  </thead>\n",
              "  <tbody>\n",
              "    <tr>\n",
              "      <td>100</td>\n",
              "      <td>0.528000</td>\n",
              "      <td>0.672646</td>\n",
              "      <td>0.654485</td>\n",
              "    </tr>\n",
              "    <tr>\n",
              "      <td>200</td>\n",
              "      <td>0.293400</td>\n",
              "      <td>0.624178</td>\n",
              "      <td>0.714286</td>\n",
              "    </tr>\n",
              "  </tbody>\n",
              "</table><p>"
            ]
          },
          "metadata": {}
        },
        {
          "output_type": "stream",
          "name": "stdout",
          "text": [
            "***** train metrics *****\n",
            "  epoch                    =         5.0\n",
            "  total_flos               = 658551608GF\n",
            "  train_loss               =      0.4539\n",
            "  train_runtime            =  0:14:56.35\n",
            "  train_samples_per_second =       10.18\n",
            "  train_steps_per_second   =       0.324\n"
          ]
        }
      ]
    },
    {
      "cell_type": "code",
      "source": [
        "print(forearm_train_results)"
      ],
      "metadata": {
        "colab": {
          "base_uri": "https://localhost:8080/"
        },
        "id": "ggcnHigPVbeV",
        "outputId": "0ae8df23-e811-4608-bc15-684e115354a1"
      },
      "execution_count": null,
      "outputs": [
        {
          "output_type": "stream",
          "name": "stdout",
          "text": [
            "TrainOutput(global_step=290, training_loss=0.4539256589166049, metrics={'train_runtime': 896.3537, 'train_samples_per_second': 10.18, 'train_steps_per_second': 0.324, 'total_flos': 7.07114405233152e+17, 'train_loss': 0.4539256589166049, 'epoch': 5.0})\n"
          ]
        }
      ]
    },
    {
      "cell_type": "code",
      "source": [
        "metrics_forearm = ViT_forearm_trainer.evaluate(ViT_forearm_test_dataset)\n",
        "ViT_forearm_trainer.log_metrics(\"eval\", metrics_forearm)\n",
        "ViT_forearm_trainer.save_metrics(\"eval\", metrics_forearm)"
      ],
      "metadata": {
        "colab": {
          "base_uri": "https://localhost:8080/",
          "height": 156
        },
        "id": "DFEPFXVvTdGO",
        "outputId": "651af3c8-c583-47e5-b4d3-5d7b284c811f"
      },
      "execution_count": null,
      "outputs": [
        {
          "output_type": "display_data",
          "data": {
            "text/plain": [
              "<IPython.core.display.HTML object>"
            ],
            "text/html": [
              "\n",
              "    <div>\n",
              "      \n",
              "      <progress value='38' max='38' style='width:300px; height:20px; vertical-align: middle;'></progress>\n",
              "      [38/38 00:15]\n",
              "    </div>\n",
              "    "
            ]
          },
          "metadata": {}
        },
        {
          "output_type": "stream",
          "name": "stdout",
          "text": [
            "***** eval metrics *****\n",
            "  epoch                   =        5.0\n",
            "  eval_accuracy           =     0.7143\n",
            "  eval_loss               =     0.6242\n",
            "  eval_runtime            = 0:00:15.57\n",
            "  eval_samples_per_second =     19.328\n",
            "  eval_steps_per_second   =       2.44\n"
          ]
        }
      ]
    },
    {
      "cell_type": "markdown",
      "source": [
        "### Hand"
      ],
      "metadata": {
        "id": "BZNKGaxB7Qfs"
      }
    },
    {
      "cell_type": "code",
      "source": [
        "ViT_hand_model = ViTForImageClassification.from_pretrained(\n",
        "    model_name_or_path,\n",
        "    num_labels=2,\n",
        "    id2label=label_to_target_2,\n",
        "    label2id=target_to_label_2\n",
        ")"
      ],
      "metadata": {
        "colab": {
          "base_uri": "https://localhost:8080/"
        },
        "id": "VIPAcHYhTvpr",
        "outputId": "166a6f42-be19-43a9-b8ef-f8fd500215d0"
      },
      "execution_count": null,
      "outputs": [
        {
          "output_type": "stream",
          "name": "stderr",
          "text": [
            "Some weights of the model checkpoint at google/vit-base-patch16-224-in21k were not used when initializing ViTForImageClassification: ['pooler.dense.weight', 'pooler.dense.bias']\n",
            "- This IS expected if you are initializing ViTForImageClassification from the checkpoint of a model trained on another task or with another architecture (e.g. initializing a BertForSequenceClassification model from a BertForPreTraining model).\n",
            "- This IS NOT expected if you are initializing ViTForImageClassification from the checkpoint of a model that you expect to be exactly identical (initializing a BertForSequenceClassification model from a BertForSequenceClassification model).\n",
            "Some weights of ViTForImageClassification were not initialized from the model checkpoint at google/vit-base-patch16-224-in21k and are newly initialized: ['classifier.weight', 'classifier.bias']\n",
            "You should probably TRAIN this model on a down-stream task to be able to use it for predictions and inference.\n"
          ]
        }
      ]
    },
    {
      "cell_type": "code",
      "source": [
        "training_args_hand = TrainingArguments(\n",
        "  # save checkpoints and predictions to this directory\n",
        "  output_dir=\"mura/Models/Hand\",\n",
        "  per_device_train_batch_size=vit_batch_size,\n",
        "  evaluation_strategy=\"steps\",\n",
        "  num_train_epochs=vit_epochs,\n",
        "  fp16=True,\n",
        "  save_steps=100,\n",
        "  eval_steps=100,\n",
        "  logging_steps=10,\n",
        "  learning_rate=vit_lr,\n",
        "  save_total_limit=2,\n",
        "  remove_unused_columns=False,\n",
        "  push_to_hub=False,\n",
        "  report_to='tensorboard',\n",
        "  load_best_model_at_end=True,\n",
        ")"
      ],
      "metadata": {
        "id": "fB-xCzO7wgj0"
      },
      "execution_count": null,
      "outputs": []
    },
    {
      "cell_type": "code",
      "source": [
        "#create trainer for hand ViT model\n",
        "ViT_hand_trainer = Trainer(\n",
        "    model=ViT_hand_model,\n",
        "    args=training_args_hand,\n",
        "    data_collator=collate_fn,\n",
        "    compute_metrics=compute_metrics,\n",
        "    train_dataset=ViT_hand_train_dataset,\n",
        "    eval_dataset=ViT_hand_test_dataset,\n",
        "    tokenizer=feature_extractor,\n",
        ")"
      ],
      "metadata": {
        "id": "0NJT-s70_p66"
      },
      "execution_count": null,
      "outputs": []
    },
    {
      "cell_type": "code",
      "source": [
        "# run hand ViT model\n",
        "hand_train_results = ViT_hand_trainer.train()\n",
        "ViT_hand_trainer.save_model()\n",
        "ViT_hand_trainer.log_metrics(\"train\", hand_train_results.metrics)\n",
        "ViT_hand_trainer.save_metrics(\"train\", hand_train_results.metrics)\n",
        "ViT_hand_trainer.save_state()"
      ],
      "metadata": {
        "colab": {
          "base_uri": "https://localhost:8080/",
          "height": 496
        },
        "id": "4fkl6xtj_p2q",
        "outputId": "ffb14eac-8faf-4720-ffe5-6def311c5a9b"
      },
      "execution_count": null,
      "outputs": [
        {
          "output_type": "stream",
          "name": "stderr",
          "text": [
            "/usr/local/lib/python3.9/dist-packages/transformers/optimization.py:391: FutureWarning: This implementation of AdamW is deprecated and will be removed in a future version. Use the PyTorch implementation torch.optim.AdamW instead, or set `no_deprecation_warning=True` to disable this warning\n",
            "  warnings.warn(\n"
          ]
        },
        {
          "output_type": "display_data",
          "data": {
            "text/plain": [
              "<IPython.core.display.HTML object>"
            ],
            "text/html": [
              "\n",
              "    <div>\n",
              "      \n",
              "      <progress value='870' max='870' style='width:300px; height:20px; vertical-align: middle;'></progress>\n",
              "      [870/870 53:50, Epoch 5/5]\n",
              "    </div>\n",
              "    <table border=\"1\" class=\"dataframe\">\n",
              "  <thead>\n",
              " <tr style=\"text-align: left;\">\n",
              "      <th>Step</th>\n",
              "      <th>Training Loss</th>\n",
              "      <th>Validation Loss</th>\n",
              "      <th>Accuracy</th>\n",
              "    </tr>\n",
              "  </thead>\n",
              "  <tbody>\n",
              "    <tr>\n",
              "      <td>100</td>\n",
              "      <td>0.598700</td>\n",
              "      <td>0.699718</td>\n",
              "      <td>0.589130</td>\n",
              "    </tr>\n",
              "    <tr>\n",
              "      <td>200</td>\n",
              "      <td>0.605700</td>\n",
              "      <td>0.693682</td>\n",
              "      <td>0.589130</td>\n",
              "    </tr>\n",
              "    <tr>\n",
              "      <td>300</td>\n",
              "      <td>0.573600</td>\n",
              "      <td>0.746102</td>\n",
              "      <td>0.589130</td>\n",
              "    </tr>\n",
              "    <tr>\n",
              "      <td>400</td>\n",
              "      <td>0.587300</td>\n",
              "      <td>0.733341</td>\n",
              "      <td>0.589130</td>\n",
              "    </tr>\n",
              "    <tr>\n",
              "      <td>500</td>\n",
              "      <td>0.549300</td>\n",
              "      <td>0.715685</td>\n",
              "      <td>0.589130</td>\n",
              "    </tr>\n",
              "    <tr>\n",
              "      <td>600</td>\n",
              "      <td>0.580500</td>\n",
              "      <td>0.732235</td>\n",
              "      <td>0.589130</td>\n",
              "    </tr>\n",
              "    <tr>\n",
              "      <td>700</td>\n",
              "      <td>0.521200</td>\n",
              "      <td>0.760125</td>\n",
              "      <td>0.589130</td>\n",
              "    </tr>\n",
              "    <tr>\n",
              "      <td>800</td>\n",
              "      <td>0.509600</td>\n",
              "      <td>0.775598</td>\n",
              "      <td>0.593478</td>\n",
              "    </tr>\n",
              "  </tbody>\n",
              "</table><p>"
            ]
          },
          "metadata": {}
        },
        {
          "output_type": "stream",
          "name": "stdout",
          "text": [
            "***** train metrics *****\n",
            "  epoch                    =          5.0\n",
            "  total_flos               = 2000192638GF\n",
            "  train_loss               =       0.5589\n",
            "  train_runtime            =   0:53:56.81\n",
            "  train_samples_per_second =        8.562\n",
            "  train_steps_per_second   =        0.269\n"
          ]
        }
      ]
    },
    {
      "cell_type": "code",
      "source": [
        "print(hand_train_results)"
      ],
      "metadata": {
        "colab": {
          "base_uri": "https://localhost:8080/"
        },
        "id": "uipRLZiqVWkT",
        "outputId": "96b0e35f-1959-4f78-e4df-ff92a0b2ce40"
      },
      "execution_count": null,
      "outputs": [
        {
          "output_type": "stream",
          "name": "stdout",
          "text": [
            "TrainOutput(global_step=870, training_loss=0.5588529784103919, metrics={'train_runtime': 3236.8138, 'train_samples_per_second': 8.562, 'train_steps_per_second': 0.269, 'total_flos': 2.1476904921684173e+18, 'train_loss': 0.5588529784103919, 'epoch': 5.0})\n"
          ]
        }
      ]
    },
    {
      "cell_type": "code",
      "source": [
        "metrics_hand = ViT_hand_trainer.evaluate(ViT_hand_test_dataset)\n",
        "ViT_hand_trainer.log_metrics(\"eval\", metrics_hand)\n",
        "ViT_hand_trainer.save_metrics(\"eval\", metrics_hand)"
      ],
      "metadata": {
        "colab": {
          "base_uri": "https://localhost:8080/",
          "height": 156
        },
        "id": "AZadoN33UiU_",
        "outputId": "b086a07c-276b-41e6-fcf8-2ddffa2cecf9"
      },
      "execution_count": null,
      "outputs": [
        {
          "output_type": "display_data",
          "data": {
            "text/plain": [
              "<IPython.core.display.HTML object>"
            ],
            "text/html": [
              "\n",
              "    <div>\n",
              "      \n",
              "      <progress value='58' max='58' style='width:300px; height:20px; vertical-align: middle;'></progress>\n",
              "      [58/58 00:23]\n",
              "    </div>\n",
              "    "
            ]
          },
          "metadata": {}
        },
        {
          "output_type": "stream",
          "name": "stdout",
          "text": [
            "***** eval metrics *****\n",
            "  epoch                   =        5.0\n",
            "  eval_accuracy           =     0.5891\n",
            "  eval_loss               =     0.6937\n",
            "  eval_runtime            = 0:00:24.23\n",
            "  eval_samples_per_second =     18.977\n",
            "  eval_steps_per_second   =      2.393\n"
          ]
        }
      ]
    },
    {
      "cell_type": "markdown",
      "source": [
        "### Humerus"
      ],
      "metadata": {
        "id": "oMRsWMe47QVw"
      }
    },
    {
      "cell_type": "code",
      "source": [
        "ViT_humerus_model = ViTForImageClassification.from_pretrained(\n",
        "    model_name_or_path,\n",
        "    num_labels=2,\n",
        "    id2label=label_to_target_2,\n",
        "    label2id=target_to_label_2\n",
        ")"
      ],
      "metadata": {
        "colab": {
          "base_uri": "https://localhost:8080/"
        },
        "id": "F9PMpzOmUwak",
        "outputId": "9289781c-335a-45d8-cc40-1f360f355f26"
      },
      "execution_count": null,
      "outputs": [
        {
          "output_type": "stream",
          "name": "stderr",
          "text": [
            "Some weights of the model checkpoint at google/vit-base-patch16-224-in21k were not used when initializing ViTForImageClassification: ['pooler.dense.weight', 'pooler.dense.bias']\n",
            "- This IS expected if you are initializing ViTForImageClassification from the checkpoint of a model trained on another task or with another architecture (e.g. initializing a BertForSequenceClassification model from a BertForPreTraining model).\n",
            "- This IS NOT expected if you are initializing ViTForImageClassification from the checkpoint of a model that you expect to be exactly identical (initializing a BertForSequenceClassification model from a BertForSequenceClassification model).\n",
            "Some weights of ViTForImageClassification were not initialized from the model checkpoint at google/vit-base-patch16-224-in21k and are newly initialized: ['classifier.weight', 'classifier.bias']\n",
            "You should probably TRAIN this model on a down-stream task to be able to use it for predictions and inference.\n"
          ]
        }
      ]
    },
    {
      "cell_type": "code",
      "source": [
        "training_args_humerus = TrainingArguments(\n",
        "  # save checkpoints and predictions to this directory\n",
        "  output_dir=\"mura/Models/Humerus\",\n",
        "  per_device_train_batch_size=vit_batch_size,\n",
        "  evaluation_strategy=\"steps\",\n",
        "  num_train_epochs=vit_epochs,\n",
        "  fp16=True,\n",
        "  save_steps=100,\n",
        "  eval_steps=100,\n",
        "  logging_steps=10,\n",
        "  learning_rate=vit_lr,\n",
        "  save_total_limit=2,\n",
        "  remove_unused_columns=False,\n",
        "  push_to_hub=False,\n",
        "  report_to='tensorboard',\n",
        "  load_best_model_at_end=True,\n",
        ")"
      ],
      "metadata": {
        "id": "vuURsFtpwq2C"
      },
      "execution_count": null,
      "outputs": []
    },
    {
      "cell_type": "code",
      "source": [
        "#create trainer for humerus ViT model\n",
        "ViT_humerus_trainer = Trainer(\n",
        "    model=ViT_humerus_model,\n",
        "    args=training_args_humerus,\n",
        "    data_collator=collate_fn,\n",
        "    compute_metrics=compute_metrics,\n",
        "    train_dataset=ViT_humerus_train_dataset,\n",
        "    eval_dataset=ViT_humerus_test_dataset,\n",
        "    tokenizer=feature_extractor,\n",
        ")"
      ],
      "metadata": {
        "id": "vl3ADXYz_9wi"
      },
      "execution_count": null,
      "outputs": []
    },
    {
      "cell_type": "code",
      "source": [
        "# run humerus ViT model\n",
        "humerus_train_results = ViT_humerus_trainer.train()\n",
        "ViT_humerus_trainer.save_model()\n",
        "ViT_humerus_trainer.log_metrics(\"train\", humerus_train_results.metrics)\n",
        "ViT_humerus_trainer.save_metrics(\"train\", humerus_train_results.metrics)\n",
        "ViT_humerus_trainer.save_state()"
      ],
      "metadata": {
        "id": "Io3j6gUv_9jN",
        "colab": {
          "base_uri": "https://localhost:8080/",
          "height": 310
        },
        "outputId": "6ce49dac-94df-4f42-eb0e-d185dca078cc"
      },
      "execution_count": null,
      "outputs": [
        {
          "output_type": "stream",
          "name": "stderr",
          "text": [
            "/usr/local/lib/python3.9/dist-packages/transformers/optimization.py:391: FutureWarning: This implementation of AdamW is deprecated and will be removed in a future version. Use the PyTorch implementation torch.optim.AdamW instead, or set `no_deprecation_warning=True` to disable this warning\n",
            "  warnings.warn(\n"
          ]
        },
        {
          "output_type": "display_data",
          "data": {
            "text/plain": [
              "<IPython.core.display.HTML object>"
            ],
            "text/html": [
              "\n",
              "    <div>\n",
              "      \n",
              "      <progress value='200' max='200' style='width:300px; height:20px; vertical-align: middle;'></progress>\n",
              "      [200/200 09:40, Epoch 5/5]\n",
              "    </div>\n",
              "    <table border=\"1\" class=\"dataframe\">\n",
              "  <thead>\n",
              " <tr style=\"text-align: left;\">\n",
              "      <th>Step</th>\n",
              "      <th>Training Loss</th>\n",
              "      <th>Validation Loss</th>\n",
              "      <th>Accuracy</th>\n",
              "    </tr>\n",
              "  </thead>\n",
              "  <tbody>\n",
              "    <tr>\n",
              "      <td>100</td>\n",
              "      <td>0.233300</td>\n",
              "      <td>0.474974</td>\n",
              "      <td>0.833333</td>\n",
              "    </tr>\n",
              "    <tr>\n",
              "      <td>200</td>\n",
              "      <td>0.037400</td>\n",
              "      <td>0.593722</td>\n",
              "      <td>0.815972</td>\n",
              "    </tr>\n",
              "  </tbody>\n",
              "</table><p>"
            ]
          },
          "metadata": {}
        },
        {
          "output_type": "stream",
          "name": "stdout",
          "text": [
            "***** train metrics *****\n",
            "  epoch                    =         5.0\n",
            "  total_flos               = 459001449GF\n",
            "  train_loss               =      0.3019\n",
            "  train_runtime            =  0:09:47.09\n",
            "  train_samples_per_second =      10.833\n",
            "  train_steps_per_second   =       0.341\n"
          ]
        }
      ]
    },
    {
      "cell_type": "code",
      "source": [
        "print(humerus_train_results)"
      ],
      "metadata": {
        "colab": {
          "base_uri": "https://localhost:8080/"
        },
        "id": "rS6VRZndVQJP",
        "outputId": "ea8bf73e-b971-423b-bc94-38df939954eb"
      },
      "execution_count": null,
      "outputs": [
        {
          "output_type": "stream",
          "name": "stdout",
          "text": [
            "TrainOutput(global_step=200, training_loss=0.3019163477420807, metrics={'train_runtime': 587.0984, 'train_samples_per_second': 10.833, 'train_steps_per_second': 0.341, 'total_flos': 4.928490539488051e+17, 'train_loss': 0.3019163477420807, 'epoch': 5.0})\n"
          ]
        }
      ]
    },
    {
      "cell_type": "markdown",
      "source": [
        "\n",
        "Step\tTraining Loss\tValidation Loss\tAccuracy\n",
        "\n",
        "100\t0.329400\t0.497600\t0.802083\n",
        "\n",
        "***** train metrics *****\n",
        "\n",
        "  epoch                    =         4.0\n",
        "\n",
        "  total_flos               = 369510601GF\n",
        "\n",
        "  train_loss               =      0.4109\n",
        "\n",
        "  train_runtime            =  0:31:41.39\n",
        "\n",
        "  train_samples_per_second =       2.676\n",
        "\n",
        "  train_steps_per_second   =       0.084"
      ],
      "metadata": {
        "id": "kHnlDSFMosLk"
      }
    },
    {
      "cell_type": "code",
      "source": [
        "metrics_humerus = ViT_humerus_trainer.evaluate(ViT_humerus_test_dataset)\n",
        "ViT_humerus_trainer.log_metrics(\"eval\", metrics_humerus)\n",
        "ViT_humerus_trainer.save_metrics(\"eval\", metrics_humerus)"
      ],
      "metadata": {
        "colab": {
          "base_uri": "https://localhost:8080/",
          "height": 156
        },
        "id": "RysEzOgWVnbN",
        "outputId": "12b45655-9ce2-4f64-cbe8-0ec3a641a800"
      },
      "execution_count": null,
      "outputs": [
        {
          "output_type": "display_data",
          "data": {
            "text/plain": [
              "<IPython.core.display.HTML object>"
            ],
            "text/html": [
              "\n",
              "    <div>\n",
              "      \n",
              "      <progress value='36' max='36' style='width:300px; height:20px; vertical-align: middle;'></progress>\n",
              "      [36/36 00:15]\n",
              "    </div>\n",
              "    "
            ]
          },
          "metadata": {}
        },
        {
          "output_type": "stream",
          "name": "stdout",
          "text": [
            "***** eval metrics *****\n",
            "  epoch                   =        5.0\n",
            "  eval_accuracy           =     0.8333\n",
            "  eval_loss               =      0.475\n",
            "  eval_runtime            = 0:00:16.48\n",
            "  eval_samples_per_second =     17.467\n",
            "  eval_steps_per_second   =      2.183\n"
          ]
        }
      ]
    },
    {
      "cell_type": "markdown",
      "source": [
        "### Elbow"
      ],
      "metadata": {
        "id": "DYpWq8t67QLh"
      }
    },
    {
      "cell_type": "code",
      "source": [
        "ViT_elbow_model = ViTForImageClassification.from_pretrained(\n",
        "    model_name_or_path,\n",
        "    num_labels=2,\n",
        "    id2label=label_to_target_2,\n",
        "    label2id=target_to_label_2\n",
        ")"
      ],
      "metadata": {
        "colab": {
          "base_uri": "https://localhost:8080/"
        },
        "id": "T3S_K1CZVzFW",
        "outputId": "c2e16649-c1c0-4b82-fc8a-13a35c6baffe"
      },
      "execution_count": null,
      "outputs": [
        {
          "output_type": "stream",
          "name": "stderr",
          "text": [
            "Some weights of the model checkpoint at google/vit-base-patch16-224-in21k were not used when initializing ViTForImageClassification: ['pooler.dense.weight', 'pooler.dense.bias']\n",
            "- This IS expected if you are initializing ViTForImageClassification from the checkpoint of a model trained on another task or with another architecture (e.g. initializing a BertForSequenceClassification model from a BertForPreTraining model).\n",
            "- This IS NOT expected if you are initializing ViTForImageClassification from the checkpoint of a model that you expect to be exactly identical (initializing a BertForSequenceClassification model from a BertForSequenceClassification model).\n",
            "Some weights of ViTForImageClassification were not initialized from the model checkpoint at google/vit-base-patch16-224-in21k and are newly initialized: ['classifier.weight', 'classifier.bias']\n",
            "You should probably TRAIN this model on a down-stream task to be able to use it for predictions and inference.\n"
          ]
        }
      ]
    },
    {
      "cell_type": "code",
      "source": [
        "training_args_elbow = TrainingArguments(\n",
        "  # save checkpoints and predictions to this directory\n",
        "  output_dir=\"mura/Models/Elbow\",\n",
        "  per_device_train_batch_size=vit_batch_size,\n",
        "  evaluation_strategy=\"steps\",\n",
        "  num_train_epochs=vit_epochs,\n",
        "  fp16=True,\n",
        "  save_steps=100,\n",
        "  eval_steps=100,\n",
        "  logging_steps=10,\n",
        "  learning_rate=vit_lr,\n",
        "  save_total_limit=2,\n",
        "  remove_unused_columns=False,\n",
        "  push_to_hub=False,\n",
        "  report_to='tensorboard',\n",
        "  load_best_model_at_end=True,\n",
        ")"
      ],
      "metadata": {
        "id": "NoBgHFwWw02c"
      },
      "execution_count": null,
      "outputs": []
    },
    {
      "cell_type": "code",
      "source": [
        "#create trainer for elbow ViT model\n",
        "ViT_elbow_trainer = Trainer(\n",
        "    model=ViT_elbow_model,\n",
        "    args=training_args_elbow,\n",
        "    data_collator=collate_fn,\n",
        "    compute_metrics=compute_metrics,\n",
        "    train_dataset=ViT_elbow_train_dataset,\n",
        "    eval_dataset=ViT_elbow_test_dataset,\n",
        "    tokenizer=feature_extractor,\n",
        ")"
      ],
      "metadata": {
        "id": "ojWbxrK03-uD"
      },
      "execution_count": null,
      "outputs": []
    },
    {
      "cell_type": "code",
      "source": [
        "# run humerus ViT model\n",
        "elbow_train_results = ViT_elbow_trainer.train()\n",
        "ViT_elbow_trainer.save_model()\n",
        "ViT_elbow_trainer.log_metrics(\"train\", elbow_train_results.metrics)\n",
        "ViT_elbow_trainer.save_metrics(\"train\", elbow_train_results.metrics)\n",
        "ViT_elbow_trainer.save_state()"
      ],
      "metadata": {
        "id": "k37OiE0eOFOo",
        "colab": {
          "base_uri": "https://localhost:8080/",
          "height": 465
        },
        "outputId": "48071cdd-38a6-4a88-8600-fcfa7e11503d"
      },
      "execution_count": null,
      "outputs": [
        {
          "output_type": "stream",
          "name": "stderr",
          "text": [
            "/usr/local/lib/python3.9/dist-packages/transformers/optimization.py:391: FutureWarning: This implementation of AdamW is deprecated and will be removed in a future version. Use the PyTorch implementation torch.optim.AdamW instead, or set `no_deprecation_warning=True` to disable this warning\n",
            "  warnings.warn(\n"
          ]
        },
        {
          "output_type": "display_data",
          "data": {
            "text/plain": [
              "<IPython.core.display.HTML object>"
            ],
            "text/html": [
              "\n",
              "    <div>\n",
              "      \n",
              "      <progress value='775' max='775' style='width:300px; height:20px; vertical-align: middle;'></progress>\n",
              "      [775/775 48:19, Epoch 5/5]\n",
              "    </div>\n",
              "    <table border=\"1\" class=\"dataframe\">\n",
              "  <thead>\n",
              " <tr style=\"text-align: left;\">\n",
              "      <th>Step</th>\n",
              "      <th>Training Loss</th>\n",
              "      <th>Validation Loss</th>\n",
              "      <th>Accuracy</th>\n",
              "    </tr>\n",
              "  </thead>\n",
              "  <tbody>\n",
              "    <tr>\n",
              "      <td>100</td>\n",
              "      <td>0.644500</td>\n",
              "      <td>0.726395</td>\n",
              "      <td>0.554839</td>\n",
              "    </tr>\n",
              "    <tr>\n",
              "      <td>200</td>\n",
              "      <td>0.482000</td>\n",
              "      <td>0.498705</td>\n",
              "      <td>0.759140</td>\n",
              "    </tr>\n",
              "    <tr>\n",
              "      <td>300</td>\n",
              "      <td>0.514900</td>\n",
              "      <td>0.433372</td>\n",
              "      <td>0.815054</td>\n",
              "    </tr>\n",
              "    <tr>\n",
              "      <td>400</td>\n",
              "      <td>0.374300</td>\n",
              "      <td>0.561517</td>\n",
              "      <td>0.765591</td>\n",
              "    </tr>\n",
              "    <tr>\n",
              "      <td>500</td>\n",
              "      <td>0.353200</td>\n",
              "      <td>0.416712</td>\n",
              "      <td>0.815054</td>\n",
              "    </tr>\n",
              "    <tr>\n",
              "      <td>600</td>\n",
              "      <td>0.262300</td>\n",
              "      <td>0.472306</td>\n",
              "      <td>0.830108</td>\n",
              "    </tr>\n",
              "    <tr>\n",
              "      <td>700</td>\n",
              "      <td>0.243100</td>\n",
              "      <td>0.491573</td>\n",
              "      <td>0.830108</td>\n",
              "    </tr>\n",
              "  </tbody>\n",
              "</table><p>"
            ]
          },
          "metadata": {}
        },
        {
          "output_type": "stream",
          "name": "stdout",
          "text": [
            "***** train metrics *****\n",
            "  epoch                    =          5.0\n",
            "  total_flos               = 1779352318GF\n",
            "  train_loss               =       0.4291\n",
            "  train_runtime            =   0:48:27.24\n",
            "  train_samples_per_second =        8.481\n",
            "  train_steps_per_second   =        0.267\n"
          ]
        }
      ]
    },
    {
      "cell_type": "code",
      "source": [
        "print(elbow_train_results)"
      ],
      "metadata": {
        "id": "YBRrbtwTButz",
        "colab": {
          "base_uri": "https://localhost:8080/"
        },
        "outputId": "0b83f946-71d2-427c-f69a-25d2974ce5c7"
      },
      "execution_count": null,
      "outputs": [
        {
          "output_type": "stream",
          "name": "stdout",
          "text": [
            "TrainOutput(global_step=775, training_loss=0.4291260540100836, metrics={'train_runtime': 2907.2464, 'train_samples_per_second': 8.481, 'train_steps_per_second': 0.267, 'total_flos': 1.9105650039477658e+18, 'train_loss': 0.4291260540100836, 'epoch': 5.0})\n"
          ]
        }
      ]
    },
    {
      "cell_type": "code",
      "source": [
        "metrics_elbow = ViT_elbow_trainer.evaluate(ViT_elbow_test_dataset)\n",
        "ViT_elbow_trainer.log_metrics(\"eval\", metrics_elbow)\n",
        "ViT_elbow_trainer.save_metrics(\"eval\", metrics_elbow)"
      ],
      "metadata": {
        "colab": {
          "base_uri": "https://localhost:8080/",
          "height": 156
        },
        "id": "yIL4MXqbWOrO",
        "outputId": "4e24b41d-e5ae-4fce-a1c8-9594f186820b"
      },
      "execution_count": null,
      "outputs": [
        {
          "output_type": "display_data",
          "data": {
            "text/plain": [
              "<IPython.core.display.HTML object>"
            ],
            "text/html": [
              "\n",
              "    <div>\n",
              "      \n",
              "      <progress value='59' max='59' style='width:300px; height:20px; vertical-align: middle;'></progress>\n",
              "      [59/59 00:23]\n",
              "    </div>\n",
              "    "
            ]
          },
          "metadata": {}
        },
        {
          "output_type": "stream",
          "name": "stdout",
          "text": [
            "***** eval metrics *****\n",
            "  epoch                   =        5.0\n",
            "  eval_accuracy           =     0.8151\n",
            "  eval_loss               =     0.4167\n",
            "  eval_runtime            = 0:00:24.30\n",
            "  eval_samples_per_second =     19.128\n",
            "  eval_steps_per_second   =      2.427\n"
          ]
        }
      ]
    },
    {
      "cell_type": "markdown",
      "source": [
        "Elbow \n",
        "\n",
        "\n",
        "Step\tTraining Loss\tValidation Loss\tAccuracy\n",
        "\n",
        "100\t0.633700\t0.669449\t0.593186\n",
        "\n",
        "200\t0.662600\t0.674480\t0.598662\n",
        "\n",
        "300\t0.684800\t0.672798\t0.593186\n",
        "\n",
        "400\t0.636100\t0.645050\t0.611438\n",
        "\n",
        "500\t0.732300\t0.673190\t0.595214\n",
        "\n",
        "600\t0.676000\t0.656240\t0.599473\n",
        "\n",
        "700\t0.645400\t0.682207\t0.600284\n",
        "\n",
        "800\t0.677900\t0.636125\t0.639424\n",
        "\n",
        "900\t0.618500\t0.612148\t0.653214\n",
        "\n",
        "1000\t0.594100\t0.603044\t0.662949\n",
        "\n",
        "1100\t0.613800\t0.587694\t0.680389\n",
        "\n",
        "1200\t0.547200\t0.550778\t0.715271\n",
        "\n",
        "***** train metrics *****\n",
        "\n",
        "  epoch                    =          4.0\n",
        "\n",
        "  total_flos               = 1423481854GF\n",
        "\n",
        "  train_loss               =       0.6496\n",
        "\n",
        "  train_runtime            =   2:11:14.87\n",
        "\n",
        "  train_samples_per_second =        2.505\n",
        "\n",
        "  train_steps_per_second   =        0.157"
      ],
      "metadata": {
        "id": "_JZtbTwyYCzV"
      }
    },
    {
      "cell_type": "markdown",
      "source": [
        "### Finger"
      ],
      "metadata": {
        "id": "4IIMmI5i7QB2"
      }
    },
    {
      "cell_type": "code",
      "source": [
        "ViT_finger_model = ViTForImageClassification.from_pretrained(\n",
        "    model_name_or_path,\n",
        "    num_labels=2,\n",
        "    id2label=label_to_target_2,\n",
        "    label2id=target_to_label_2\n",
        ")"
      ],
      "metadata": {
        "colab": {
          "base_uri": "https://localhost:8080/"
        },
        "id": "u7nZKg_UWcS_",
        "outputId": "b3734d5d-aa94-4bd5-be99-16a90edac6d5"
      },
      "execution_count": null,
      "outputs": [
        {
          "output_type": "stream",
          "name": "stderr",
          "text": [
            "Some weights of the model checkpoint at google/vit-base-patch16-224-in21k were not used when initializing ViTForImageClassification: ['pooler.dense.weight', 'pooler.dense.bias']\n",
            "- This IS expected if you are initializing ViTForImageClassification from the checkpoint of a model trained on another task or with another architecture (e.g. initializing a BertForSequenceClassification model from a BertForPreTraining model).\n",
            "- This IS NOT expected if you are initializing ViTForImageClassification from the checkpoint of a model that you expect to be exactly identical (initializing a BertForSequenceClassification model from a BertForSequenceClassification model).\n",
            "Some weights of ViTForImageClassification were not initialized from the model checkpoint at google/vit-base-patch16-224-in21k and are newly initialized: ['classifier.weight', 'classifier.bias']\n",
            "You should probably TRAIN this model on a down-stream task to be able to use it for predictions and inference.\n"
          ]
        }
      ]
    },
    {
      "cell_type": "code",
      "source": [
        "training_args_finger = TrainingArguments(\n",
        "  # save checkpoints and predictions to this directory\n",
        "  output_dir=\"mura/Models/Finger\",\n",
        "  per_device_train_batch_size=vit_batch_size,\n",
        "  evaluation_strategy=\"steps\",\n",
        "  num_train_epochs=vit_epochs,\n",
        "  fp16=True,\n",
        "  save_steps=100,\n",
        "  eval_steps=100,\n",
        "  logging_steps=10,\n",
        "  learning_rate=vit_lr,\n",
        "  save_total_limit=2,\n",
        "  remove_unused_columns=False,\n",
        "  push_to_hub=False,\n",
        "  report_to='tensorboard',\n",
        "  load_best_model_at_end=True,\n",
        ")"
      ],
      "metadata": {
        "id": "NCGYICEtxBbS"
      },
      "execution_count": null,
      "outputs": []
    },
    {
      "cell_type": "code",
      "source": [
        "#create trainer for finger ViT model\n",
        "ViT_finger_trainer = Trainer(\n",
        "    model=ViT_finger_model,\n",
        "    args=training_args_finger,\n",
        "    data_collator=collate_fn,\n",
        "    compute_metrics=compute_metrics,\n",
        "    train_dataset=ViT_finger_train_dataset,\n",
        "    eval_dataset=ViT_finger_test_dataset,\n",
        "    tokenizer=feature_extractor,\n",
        ")"
      ],
      "metadata": {
        "id": "GDBE6AkjOFIY"
      },
      "execution_count": null,
      "outputs": []
    },
    {
      "cell_type": "code",
      "source": [
        "# run finger ViT model\n",
        "finger_train_results = ViT_finger_trainer.train()\n",
        "ViT_finger_trainer.save_model()\n",
        "ViT_finger_trainer.log_metrics(\"train\", finger_train_results.metrics)\n",
        "ViT_finger_trainer.save_metrics(\"train\", finger_train_results.metrics)\n",
        "ViT_finger_trainer.save_state()"
      ],
      "metadata": {
        "colab": {
          "base_uri": "https://localhost:8080/",
          "height": 496
        },
        "id": "YubnZnWFW2HQ",
        "outputId": "18ed197f-985c-4219-eefb-69de124414ce"
      },
      "execution_count": null,
      "outputs": [
        {
          "output_type": "stream",
          "name": "stderr",
          "text": [
            "/usr/local/lib/python3.9/dist-packages/transformers/optimization.py:391: FutureWarning: This implementation of AdamW is deprecated and will be removed in a future version. Use the PyTorch implementation torch.optim.AdamW instead, or set `no_deprecation_warning=True` to disable this warning\n",
            "  warnings.warn(\n"
          ]
        },
        {
          "output_type": "display_data",
          "data": {
            "text/plain": [
              "<IPython.core.display.HTML object>"
            ],
            "text/html": [
              "\n",
              "    <div>\n",
              "      \n",
              "      <progress value='800' max='800' style='width:300px; height:20px; vertical-align: middle;'></progress>\n",
              "      [800/800 51:25, Epoch 5/5]\n",
              "    </div>\n",
              "    <table border=\"1\" class=\"dataframe\">\n",
              "  <thead>\n",
              " <tr style=\"text-align: left;\">\n",
              "      <th>Step</th>\n",
              "      <th>Training Loss</th>\n",
              "      <th>Validation Loss</th>\n",
              "      <th>Accuracy</th>\n",
              "    </tr>\n",
              "  </thead>\n",
              "  <tbody>\n",
              "    <tr>\n",
              "      <td>100</td>\n",
              "      <td>0.593800</td>\n",
              "      <td>0.600306</td>\n",
              "      <td>0.685466</td>\n",
              "    </tr>\n",
              "    <tr>\n",
              "      <td>200</td>\n",
              "      <td>0.431400</td>\n",
              "      <td>0.655124</td>\n",
              "      <td>0.639913</td>\n",
              "    </tr>\n",
              "    <tr>\n",
              "      <td>300</td>\n",
              "      <td>0.457900</td>\n",
              "      <td>0.686712</td>\n",
              "      <td>0.665944</td>\n",
              "    </tr>\n",
              "    <tr>\n",
              "      <td>400</td>\n",
              "      <td>0.427400</td>\n",
              "      <td>0.749594</td>\n",
              "      <td>0.646421</td>\n",
              "    </tr>\n",
              "    <tr>\n",
              "      <td>500</td>\n",
              "      <td>0.230100</td>\n",
              "      <td>0.878155</td>\n",
              "      <td>0.663774</td>\n",
              "    </tr>\n",
              "    <tr>\n",
              "      <td>600</td>\n",
              "      <td>0.242600</td>\n",
              "      <td>0.921132</td>\n",
              "      <td>0.646421</td>\n",
              "    </tr>\n",
              "    <tr>\n",
              "      <td>700</td>\n",
              "      <td>0.120400</td>\n",
              "      <td>1.174790</td>\n",
              "      <td>0.650759</td>\n",
              "    </tr>\n",
              "    <tr>\n",
              "      <td>800</td>\n",
              "      <td>0.125500</td>\n",
              "      <td>1.183439</td>\n",
              "      <td>0.655098</td>\n",
              "    </tr>\n",
              "  </tbody>\n",
              "</table><p>"
            ]
          },
          "metadata": {}
        },
        {
          "output_type": "stream",
          "name": "stdout",
          "text": [
            "***** train metrics *****\n",
            "  epoch                    =          5.0\n",
            "  total_flos               = 1842501102GF\n",
            "  train_loss               =        0.365\n",
            "  train_runtime            =   0:51:32.60\n",
            "  train_samples_per_second =        8.255\n",
            "  train_steps_per_second   =        0.259\n"
          ]
        }
      ]
    },
    {
      "cell_type": "code",
      "source": [
        "print(finger_train_results)"
      ],
      "metadata": {
        "id": "VVkjNfE8OFCp",
        "colab": {
          "base_uri": "https://localhost:8080/"
        },
        "outputId": "7c970852-58b5-4e59-a884-7d413d6cd2f7"
      },
      "execution_count": null,
      "outputs": [
        {
          "output_type": "stream",
          "name": "stdout",
          "text": [
            "TrainOutput(global_step=800, training_loss=0.36502562433481217, metrics={'train_runtime': 3092.6098, 'train_samples_per_second': 8.255, 'train_steps_per_second': 0.259, 'total_flos': 1.9783704948605338e+18, 'train_loss': 0.36502562433481217, 'epoch': 5.0})\n"
          ]
        }
      ]
    },
    {
      "cell_type": "markdown",
      "source": [
        "\n",
        "Step\tTraining Loss\tValidation Loss\tAccuracy\n",
        "\n",
        "100\t0.639200\t0.609000\t0.678959\n",
        "\n",
        "200\t0.490100\t0.633611\t0.704989\n",
        "\n",
        "300\t0.510300\t0.592520\t0.685466\n",
        "\n",
        "400\t0.424900\t0.702305\t0.670282\n",
        "\n",
        "500\t0.290000\t0.855674\t0.633406\n",
        "\n",
        "600\t0.294100\t0.870166\t0.644252\n",
        "\n",
        "***** train metrics *****\n",
        "\n",
        "  epoch                    =          4.0\n",
        "\n",
        "  total_flos               = 1474000882GF\n",
        "\n",
        "  train_loss               =       0.4408\n",
        "\n",
        "  train_runtime            =   1:51:04.16\n",
        "\n",
        "  train_samples_per_second =        3.065\n",
        "\n",
        "  train_steps_per_second   =        0.096"
      ],
      "metadata": {
        "id": "DjSyNg6teO5F"
      }
    },
    {
      "cell_type": "code",
      "source": [
        "metrics_finger = ViT_finger_trainer.evaluate(ViT_finger_test_dataset)\n",
        "ViT_finger_trainer.log_metrics(\"eval\", metrics_finger)\n",
        "ViT_finger_trainer.save_metrics(\"eval\", metrics_finger)"
      ],
      "metadata": {
        "colab": {
          "base_uri": "https://localhost:8080/",
          "height": 156
        },
        "id": "_8DuWC07XFyI",
        "outputId": "7807ed80-f4b2-40f2-ed71-2a8741123360"
      },
      "execution_count": null,
      "outputs": [
        {
          "output_type": "display_data",
          "data": {
            "text/plain": [
              "<IPython.core.display.HTML object>"
            ],
            "text/html": [
              "\n",
              "    <div>\n",
              "      \n",
              "      <progress value='58' max='58' style='width:300px; height:20px; vertical-align: middle;'></progress>\n",
              "      [58/58 00:23]\n",
              "    </div>\n",
              "    "
            ]
          },
          "metadata": {}
        },
        {
          "output_type": "stream",
          "name": "stdout",
          "text": [
            "***** eval metrics *****\n",
            "  epoch                   =        5.0\n",
            "  eval_accuracy           =     0.6855\n",
            "  eval_loss               =     0.6003\n",
            "  eval_runtime            = 0:00:24.20\n",
            "  eval_samples_per_second =     19.046\n",
            "  eval_steps_per_second   =      2.396\n"
          ]
        }
      ]
    },
    {
      "cell_type": "markdown",
      "source": [
        "### Shoulder"
      ],
      "metadata": {
        "id": "qYPYt8ixzIXR"
      }
    },
    {
      "cell_type": "code",
      "source": [
        "ViT_shoulder_model = ViTForImageClassification.from_pretrained(\n",
        "    model_name_or_path,\n",
        "    num_labels=2,\n",
        "    id2label=label_to_target_2,\n",
        "    label2id=target_to_label_2\n",
        ")"
      ],
      "metadata": {
        "colab": {
          "base_uri": "https://localhost:8080/"
        },
        "id": "JE0QfD6iXRva",
        "outputId": "27cbceec-eefc-4f84-c064-f27b39c1dca5"
      },
      "execution_count": null,
      "outputs": [
        {
          "output_type": "stream",
          "name": "stderr",
          "text": [
            "Some weights of the model checkpoint at google/vit-base-patch16-224-in21k were not used when initializing ViTForImageClassification: ['pooler.dense.weight', 'pooler.dense.bias']\n",
            "- This IS expected if you are initializing ViTForImageClassification from the checkpoint of a model trained on another task or with another architecture (e.g. initializing a BertForSequenceClassification model from a BertForPreTraining model).\n",
            "- This IS NOT expected if you are initializing ViTForImageClassification from the checkpoint of a model that you expect to be exactly identical (initializing a BertForSequenceClassification model from a BertForSequenceClassification model).\n",
            "Some weights of ViTForImageClassification were not initialized from the model checkpoint at google/vit-base-patch16-224-in21k and are newly initialized: ['classifier.weight', 'classifier.bias']\n",
            "You should probably TRAIN this model on a down-stream task to be able to use it for predictions and inference.\n"
          ]
        }
      ]
    },
    {
      "cell_type": "code",
      "source": [
        "training_args_shoulder = TrainingArguments(\n",
        "  # save checkpoints and predictions to this directory\n",
        "  output_dir=\"mura/Models/Shoulder\",\n",
        "  per_device_train_batch_size=vit_batch_size,\n",
        "  evaluation_strategy=\"steps\",\n",
        "  num_train_epochs=vit_epochs,\n",
        "  fp16=True,\n",
        "  save_steps=100,\n",
        "  eval_steps=100,\n",
        "  logging_steps=10,\n",
        "  learning_rate=vit_lr,\n",
        "  save_total_limit=2,\n",
        "  remove_unused_columns=False,\n",
        "  push_to_hub=False,\n",
        "  report_to='tensorboard',\n",
        "  load_best_model_at_end=True,\n",
        ")"
      ],
      "metadata": {
        "id": "h7fJ-vexzIKv"
      },
      "execution_count": null,
      "outputs": []
    },
    {
      "cell_type": "code",
      "source": [
        "#create trainer for shoulder ViT model\n",
        "ViT_shoulder_trainer = Trainer(\n",
        "    model=ViT_shoulder_model,\n",
        "    args=training_args_shoulder,\n",
        "    data_collator=collate_fn,\n",
        "    compute_metrics=compute_metrics,\n",
        "    train_dataset=ViT_shoulder_train_dataset,\n",
        "    eval_dataset=ViT_shoulder_test_dataset,\n",
        "    tokenizer=feature_extractor,\n",
        ")"
      ],
      "metadata": {
        "id": "4x94s3BRzIC0"
      },
      "execution_count": null,
      "outputs": []
    },
    {
      "cell_type": "code",
      "source": [
        "# run shoulder ViT model\n",
        "shoulder_train_results = ViT_shoulder_trainer.train()\n",
        "ViT_shoulder_trainer.save_model()\n",
        "ViT_shoulder_trainer.log_metrics(\"train\", shoulder_train_results.metrics)\n",
        "ViT_shoulder_trainer.save_metrics(\"train\", shoulder_train_results.metrics)\n",
        "ViT_shoulder_trainer.save_state()"
      ],
      "metadata": {
        "id": "_gXj1iEtzH5D",
        "colab": {
          "base_uri": "https://localhost:8080/",
          "height": 651
        },
        "outputId": "3e914a16-4dd1-4bfb-b9f9-23a0a0e50ef0"
      },
      "execution_count": null,
      "outputs": [
        {
          "output_type": "stream",
          "name": "stderr",
          "text": [
            "/usr/local/lib/python3.9/dist-packages/transformers/optimization.py:391: FutureWarning: This implementation of AdamW is deprecated and will be removed in a future version. Use the PyTorch implementation torch.optim.AdamW instead, or set `no_deprecation_warning=True` to disable this warning\n",
            "  warnings.warn(\n"
          ]
        },
        {
          "output_type": "display_data",
          "data": {
            "text/plain": [
              "<IPython.core.display.HTML object>"
            ],
            "text/html": [
              "\n",
              "    <div>\n",
              "      \n",
              "      <progress value='1310' max='1310' style='width:300px; height:20px; vertical-align: middle;'></progress>\n",
              "      [1310/1310 1:32:34, Epoch 5/5]\n",
              "    </div>\n",
              "    <table border=\"1\" class=\"dataframe\">\n",
              "  <thead>\n",
              " <tr style=\"text-align: left;\">\n",
              "      <th>Step</th>\n",
              "      <th>Training Loss</th>\n",
              "      <th>Validation Loss</th>\n",
              "      <th>Accuracy</th>\n",
              "    </tr>\n",
              "  </thead>\n",
              "  <tbody>\n",
              "    <tr>\n",
              "      <td>100</td>\n",
              "      <td>0.694700</td>\n",
              "      <td>0.693022</td>\n",
              "      <td>0.506217</td>\n",
              "    </tr>\n",
              "    <tr>\n",
              "      <td>200</td>\n",
              "      <td>0.693600</td>\n",
              "      <td>0.692978</td>\n",
              "      <td>0.506217</td>\n",
              "    </tr>\n",
              "    <tr>\n",
              "      <td>300</td>\n",
              "      <td>0.692700</td>\n",
              "      <td>0.691501</td>\n",
              "      <td>0.518650</td>\n",
              "    </tr>\n",
              "    <tr>\n",
              "      <td>400</td>\n",
              "      <td>0.701700</td>\n",
              "      <td>0.688578</td>\n",
              "      <td>0.513321</td>\n",
              "    </tr>\n",
              "    <tr>\n",
              "      <td>500</td>\n",
              "      <td>0.693200</td>\n",
              "      <td>0.691032</td>\n",
              "      <td>0.504440</td>\n",
              "    </tr>\n",
              "    <tr>\n",
              "      <td>600</td>\n",
              "      <td>0.690700</td>\n",
              "      <td>0.693723</td>\n",
              "      <td>0.515098</td>\n",
              "    </tr>\n",
              "    <tr>\n",
              "      <td>700</td>\n",
              "      <td>0.693400</td>\n",
              "      <td>0.687808</td>\n",
              "      <td>0.509769</td>\n",
              "    </tr>\n",
              "    <tr>\n",
              "      <td>800</td>\n",
              "      <td>0.678800</td>\n",
              "      <td>0.683712</td>\n",
              "      <td>0.525755</td>\n",
              "    </tr>\n",
              "    <tr>\n",
              "      <td>900</td>\n",
              "      <td>0.685000</td>\n",
              "      <td>0.682732</td>\n",
              "      <td>0.527531</td>\n",
              "    </tr>\n",
              "    <tr>\n",
              "      <td>1000</td>\n",
              "      <td>0.687600</td>\n",
              "      <td>0.685471</td>\n",
              "      <td>0.483126</td>\n",
              "    </tr>\n",
              "    <tr>\n",
              "      <td>1100</td>\n",
              "      <td>0.682700</td>\n",
              "      <td>0.684878</td>\n",
              "      <td>0.484902</td>\n",
              "    </tr>\n",
              "    <tr>\n",
              "      <td>1200</td>\n",
              "      <td>0.689200</td>\n",
              "      <td>0.681409</td>\n",
              "      <td>0.529307</td>\n",
              "    </tr>\n",
              "    <tr>\n",
              "      <td>1300</td>\n",
              "      <td>0.691400</td>\n",
              "      <td>0.681984</td>\n",
              "      <td>0.527531</td>\n",
              "    </tr>\n",
              "  </tbody>\n",
              "</table><p>"
            ]
          },
          "metadata": {}
        },
        {
          "output_type": "stream",
          "name": "stdout",
          "text": [
            "***** train metrics *****\n",
            "  epoch                    =          5.0\n",
            "  total_flos               = 3023563795GF\n",
            "  train_loss               =       0.6911\n",
            "  train_runtime            =   1:32:41.84\n",
            "  train_samples_per_second =        7.533\n",
            "  train_steps_per_second   =        0.236\n"
          ]
        }
      ]
    },
    {
      "cell_type": "code",
      "source": [
        "print(shoulder_train_results)"
      ],
      "metadata": {
        "id": "jfC9lzMwzqrg",
        "colab": {
          "base_uri": "https://localhost:8080/"
        },
        "outputId": "4a86fe22-d553-4575-ad11-aa549b21bab3"
      },
      "execution_count": null,
      "outputs": [
        {
          "output_type": "stream",
          "name": "stdout",
          "text": [
            "TrainOutput(global_step=1310, training_loss=0.6910769983102347, metrics={'train_runtime': 5561.8463, 'train_samples_per_second': 7.533, 'train_steps_per_second': 0.236, 'total_flos': 3.246526904903332e+18, 'train_loss': 0.6910769983102347, 'epoch': 5.0})\n"
          ]
        }
      ]
    },
    {
      "cell_type": "code",
      "source": [
        "metrics_shoulder = ViT_shoulder_trainer.evaluate(ViT_shoulder_test_dataset)\n",
        "ViT_shoulder_trainer.log_metrics(\"eval\", metrics_shoulder)\n",
        "ViT_shoulder_trainer.save_metrics(\"eval\", metrics_shoulder)"
      ],
      "metadata": {
        "colab": {
          "base_uri": "https://localhost:8080/",
          "height": 156
        },
        "id": "fiaDNsKpXtAP",
        "outputId": "d8e8ba5e-44c4-4e5e-d808-6a37632c27ba"
      },
      "execution_count": null,
      "outputs": [
        {
          "output_type": "display_data",
          "data": {
            "text/plain": [
              "<IPython.core.display.HTML object>"
            ],
            "text/html": [
              "\n",
              "    <div>\n",
              "      \n",
              "      <progress value='71' max='71' style='width:300px; height:20px; vertical-align: middle;'></progress>\n",
              "      [71/71 00:27]\n",
              "    </div>\n",
              "    "
            ]
          },
          "metadata": {}
        },
        {
          "output_type": "stream",
          "name": "stdout",
          "text": [
            "***** eval metrics *****\n",
            "  epoch                   =        5.0\n",
            "  eval_accuracy           =     0.5293\n",
            "  eval_loss               =     0.6814\n",
            "  eval_runtime            = 0:00:28.21\n",
            "  eval_samples_per_second =     19.952\n",
            "  eval_steps_per_second   =      2.516\n"
          ]
        }
      ]
    }
  ]
}