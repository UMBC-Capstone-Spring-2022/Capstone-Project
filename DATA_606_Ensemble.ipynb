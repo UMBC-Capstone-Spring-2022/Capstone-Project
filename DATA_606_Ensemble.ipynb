{
  "nbformat": 4,
  "nbformat_minor": 0,
  "metadata": {
    "colab": {
      "provenance": [],
      "machine_shape": "hm"
    },
    "kernelspec": {
      "name": "python3",
      "display_name": "Python 3"
    },
    "language_info": {
      "name": "python"
    },
    "accelerator": "GPU",
    "gpuClass": "standard"
  },
  "cells": [
    {
      "cell_type": "code",
      "execution_count": null,
      "metadata": {
        "colab": {
          "base_uri": "https://localhost:8080/"
        },
        "id": "7uT6UQHumz-U",
        "outputId": "1858b353-e0c7-44ff-9b0c-a7bd8cbd2a0b"
      },
      "outputs": [
        {
          "output_type": "stream",
          "name": "stdout",
          "text": [
            "CUDA is available. Working on GPU\n"
          ]
        }
      ],
      "source": [
        "import os\n",
        "import numpy as np\n",
        "import pandas as pd\n",
        "from PIL import Image\n",
        "import matplotlib.pyplot as plt\n",
        "from tqdm import tqdm\n",
        "import copy\n",
        "from sklearn.preprocessing import LabelEncoder\n",
        "\n",
        "import torch\n",
        "import torch.nn as nn\n",
        "from torch.utils.data import Dataset, DataLoader\n",
        "from torchvision import transforms, models\n",
        "\n",
        "if torch.cuda.is_available():\n",
        "    print('CUDA is available. Working on GPU')\n",
        "    DEVICE = torch.device('cuda')\n",
        "else:\n",
        "    print('CUDA is not available. Working on CPU')\n",
        "    DEVICE = torch.device('cpu')"
      ]
    },
    {
      "cell_type": "code",
      "source": [
        "from google.colab import drive\n",
        "drive.mount('/content/drive')"
      ],
      "metadata": {
        "colab": {
          "base_uri": "https://localhost:8080/"
        },
        "id": "_SlUyoqfm3ox",
        "outputId": "5451b753-e44e-4966-c380-e36f2eabf424"
      },
      "execution_count": null,
      "outputs": [
        {
          "output_type": "stream",
          "name": "stdout",
          "text": [
            "Mounted at /content/drive\n"
          ]
        }
      ]
    },
    {
      "cell_type": "markdown",
      "source": [
        "## **Data Loading & preprocessing**"
      ],
      "metadata": {
        "id": "KwK04vXi_vqz"
      }
    },
    {
      "cell_type": "code",
      "source": [
        "# load train and test csv's with all image paths and targets\n",
        "train_img_paths = pd.read_csv('drive/MyDrive/MURA-v1.1/train_image_paths.csv', header = None, names = ['image_path'])\n",
        "test_img_paths = pd.read_csv('drive/MyDrive/MURA-v1.1/valid_image_paths.csv', header = None, names = ['image_path'])"
      ],
      "metadata": {
        "id": "wS_MRfIVnIw1"
      },
      "execution_count": null,
      "outputs": []
    },
    {
      "cell_type": "code",
      "source": [
        "# funtion to extract info from train and test dataframes\n",
        "def split_img_paths(df):\n",
        "    temp = df['image_path'].str.split('/', expand=True)\n",
        "    new_df = pd.DataFrame(df['image_path'])\n",
        "    new_df['patient_id'] = temp[3]\n",
        "    new_df['study'] = temp[4].str.split('_', expand = True)[0].str[-1:].astype(int)\n",
        "    new_df['region'] = temp[2].str.split('_', expand = True)[1]\n",
        "    map = {'positive':'abnormal', 'negative':'normal'}\n",
        "    new_df['target'] = temp[4].str.split('_', expand = True)[1]\n",
        "    new_df['target'] = new_df['target'].map(map)\n",
        "    #add google drive location to image path\n",
        "    new_df['image_path'] = 'drive/MyDrive/' + new_df['image_path']\n",
        "    \n",
        "    return new_df"
      ],
      "metadata": {
        "id": "ehq7n_zdnSdr"
      },
      "execution_count": null,
      "outputs": []
    },
    {
      "cell_type": "code",
      "source": [
        "# create df with info extracted\n",
        "mura_train = split_img_paths(train_img_paths)\n",
        "mura_test = split_img_paths(test_img_paths)\n",
        "mura_train.head()"
      ],
      "metadata": {
        "colab": {
          "base_uri": "https://localhost:8080/",
          "height": 204
        },
        "id": "ro2riYtTnTLv",
        "outputId": "2ac89e6d-15da-4eec-b621-da3382a8baa7"
      },
      "execution_count": null,
      "outputs": [
        {
          "output_type": "execute_result",
          "data": {
            "text/plain": [
              "                                          image_path    patient_id  study  \\\n",
              "0  drive/MyDrive/MURA-v1.1/train/XR_SHOULDER/pati...  patient00001      1   \n",
              "1  drive/MyDrive/MURA-v1.1/train/XR_SHOULDER/pati...  patient00001      1   \n",
              "2  drive/MyDrive/MURA-v1.1/train/XR_SHOULDER/pati...  patient00001      1   \n",
              "3  drive/MyDrive/MURA-v1.1/train/XR_SHOULDER/pati...  patient00002      1   \n",
              "4  drive/MyDrive/MURA-v1.1/train/XR_SHOULDER/pati...  patient00002      1   \n",
              "\n",
              "     region    target  \n",
              "0  SHOULDER  abnormal  \n",
              "1  SHOULDER  abnormal  \n",
              "2  SHOULDER  abnormal  \n",
              "3  SHOULDER  abnormal  \n",
              "4  SHOULDER  abnormal  "
            ],
            "text/html": [
              "\n",
              "  <div id=\"df-f9cf6168-75c7-4140-9607-6a40c3b5a580\">\n",
              "    <div class=\"colab-df-container\">\n",
              "      <div>\n",
              "<style scoped>\n",
              "    .dataframe tbody tr th:only-of-type {\n",
              "        vertical-align: middle;\n",
              "    }\n",
              "\n",
              "    .dataframe tbody tr th {\n",
              "        vertical-align: top;\n",
              "    }\n",
              "\n",
              "    .dataframe thead th {\n",
              "        text-align: right;\n",
              "    }\n",
              "</style>\n",
              "<table border=\"1\" class=\"dataframe\">\n",
              "  <thead>\n",
              "    <tr style=\"text-align: right;\">\n",
              "      <th></th>\n",
              "      <th>image_path</th>\n",
              "      <th>patient_id</th>\n",
              "      <th>study</th>\n",
              "      <th>region</th>\n",
              "      <th>target</th>\n",
              "    </tr>\n",
              "  </thead>\n",
              "  <tbody>\n",
              "    <tr>\n",
              "      <th>0</th>\n",
              "      <td>drive/MyDrive/MURA-v1.1/train/XR_SHOULDER/pati...</td>\n",
              "      <td>patient00001</td>\n",
              "      <td>1</td>\n",
              "      <td>SHOULDER</td>\n",
              "      <td>abnormal</td>\n",
              "    </tr>\n",
              "    <tr>\n",
              "      <th>1</th>\n",
              "      <td>drive/MyDrive/MURA-v1.1/train/XR_SHOULDER/pati...</td>\n",
              "      <td>patient00001</td>\n",
              "      <td>1</td>\n",
              "      <td>SHOULDER</td>\n",
              "      <td>abnormal</td>\n",
              "    </tr>\n",
              "    <tr>\n",
              "      <th>2</th>\n",
              "      <td>drive/MyDrive/MURA-v1.1/train/XR_SHOULDER/pati...</td>\n",
              "      <td>patient00001</td>\n",
              "      <td>1</td>\n",
              "      <td>SHOULDER</td>\n",
              "      <td>abnormal</td>\n",
              "    </tr>\n",
              "    <tr>\n",
              "      <th>3</th>\n",
              "      <td>drive/MyDrive/MURA-v1.1/train/XR_SHOULDER/pati...</td>\n",
              "      <td>patient00002</td>\n",
              "      <td>1</td>\n",
              "      <td>SHOULDER</td>\n",
              "      <td>abnormal</td>\n",
              "    </tr>\n",
              "    <tr>\n",
              "      <th>4</th>\n",
              "      <td>drive/MyDrive/MURA-v1.1/train/XR_SHOULDER/pati...</td>\n",
              "      <td>patient00002</td>\n",
              "      <td>1</td>\n",
              "      <td>SHOULDER</td>\n",
              "      <td>abnormal</td>\n",
              "    </tr>\n",
              "  </tbody>\n",
              "</table>\n",
              "</div>\n",
              "      <button class=\"colab-df-convert\" onclick=\"convertToInteractive('df-f9cf6168-75c7-4140-9607-6a40c3b5a580')\"\n",
              "              title=\"Convert this dataframe to an interactive table.\"\n",
              "              style=\"display:none;\">\n",
              "        \n",
              "  <svg xmlns=\"http://www.w3.org/2000/svg\" height=\"24px\"viewBox=\"0 0 24 24\"\n",
              "       width=\"24px\">\n",
              "    <path d=\"M0 0h24v24H0V0z\" fill=\"none\"/>\n",
              "    <path d=\"M18.56 5.44l.94 2.06.94-2.06 2.06-.94-2.06-.94-.94-2.06-.94 2.06-2.06.94zm-11 1L8.5 8.5l.94-2.06 2.06-.94-2.06-.94L8.5 2.5l-.94 2.06-2.06.94zm10 10l.94 2.06.94-2.06 2.06-.94-2.06-.94-.94-2.06-.94 2.06-2.06.94z\"/><path d=\"M17.41 7.96l-1.37-1.37c-.4-.4-.92-.59-1.43-.59-.52 0-1.04.2-1.43.59L10.3 9.45l-7.72 7.72c-.78.78-.78 2.05 0 2.83L4 21.41c.39.39.9.59 1.41.59.51 0 1.02-.2 1.41-.59l7.78-7.78 2.81-2.81c.8-.78.8-2.07 0-2.86zM5.41 20L4 18.59l7.72-7.72 1.47 1.35L5.41 20z\"/>\n",
              "  </svg>\n",
              "      </button>\n",
              "      \n",
              "  <style>\n",
              "    .colab-df-container {\n",
              "      display:flex;\n",
              "      flex-wrap:wrap;\n",
              "      gap: 12px;\n",
              "    }\n",
              "\n",
              "    .colab-df-convert {\n",
              "      background-color: #E8F0FE;\n",
              "      border: none;\n",
              "      border-radius: 50%;\n",
              "      cursor: pointer;\n",
              "      display: none;\n",
              "      fill: #1967D2;\n",
              "      height: 32px;\n",
              "      padding: 0 0 0 0;\n",
              "      width: 32px;\n",
              "    }\n",
              "\n",
              "    .colab-df-convert:hover {\n",
              "      background-color: #E2EBFA;\n",
              "      box-shadow: 0px 1px 2px rgba(60, 64, 67, 0.3), 0px 1px 3px 1px rgba(60, 64, 67, 0.15);\n",
              "      fill: #174EA6;\n",
              "    }\n",
              "\n",
              "    [theme=dark] .colab-df-convert {\n",
              "      background-color: #3B4455;\n",
              "      fill: #D2E3FC;\n",
              "    }\n",
              "\n",
              "    [theme=dark] .colab-df-convert:hover {\n",
              "      background-color: #434B5C;\n",
              "      box-shadow: 0px 1px 3px 1px rgba(0, 0, 0, 0.15);\n",
              "      filter: drop-shadow(0px 1px 2px rgba(0, 0, 0, 0.3));\n",
              "      fill: #FFFFFF;\n",
              "    }\n",
              "  </style>\n",
              "\n",
              "      <script>\n",
              "        const buttonEl =\n",
              "          document.querySelector('#df-f9cf6168-75c7-4140-9607-6a40c3b5a580 button.colab-df-convert');\n",
              "        buttonEl.style.display =\n",
              "          google.colab.kernel.accessAllowed ? 'block' : 'none';\n",
              "\n",
              "        async function convertToInteractive(key) {\n",
              "          const element = document.querySelector('#df-f9cf6168-75c7-4140-9607-6a40c3b5a580');\n",
              "          const dataTable =\n",
              "            await google.colab.kernel.invokeFunction('convertToInteractive',\n",
              "                                                     [key], {});\n",
              "          if (!dataTable) return;\n",
              "\n",
              "          const docLinkHtml = 'Like what you see? Visit the ' +\n",
              "            '<a target=\"_blank\" href=https://colab.research.google.com/notebooks/data_table.ipynb>data table notebook</a>'\n",
              "            + ' to learn more about interactive tables.';\n",
              "          element.innerHTML = '';\n",
              "          dataTable['output_type'] = 'display_data';\n",
              "          await google.colab.output.renderOutput(dataTable, element);\n",
              "          const docLink = document.createElement('div');\n",
              "          docLink.innerHTML = docLinkHtml;\n",
              "          element.appendChild(docLink);\n",
              "        }\n",
              "      </script>\n",
              "    </div>\n",
              "  </div>\n",
              "  "
            ]
          },
          "metadata": {},
          "execution_count": 5
        }
      ]
    },
    {
      "cell_type": "code",
      "source": [
        "data_transforms = transforms.Compose([\n",
        "    #\n",
        "    #note that output channel is 1, will need to change and re-run for use with 3 channels\n",
        "    #\n",
        "    transforms.Grayscale(num_output_channels=3),\n",
        "    transforms.Resize((224,224)),\n",
        "    transforms.ToTensor()\n",
        "])"
      ],
      "metadata": {
        "id": "3hK_mX6MnbW2"
      },
      "execution_count": null,
      "outputs": []
    },
    {
      "cell_type": "code",
      "source": [
        "def class_dict(two_targets):\n",
        "    classes_2 = ['normal', 'abnormal']\n",
        "    dict_2 = {'normal' : 0, 'abnormal': 1}\n",
        "    \n",
        "    return classes_2, dict_2"
      ],
      "metadata": {
        "id": "NZ1SGPa7nllo"
      },
      "execution_count": null,
      "outputs": []
    },
    {
      "cell_type": "code",
      "source": [
        "class MuraDataset(Dataset):\n",
        "    # change two targets to False if using 14 target data\n",
        "    def __init__(self, mura_df, two_targets, transform=data_transforms):\n",
        "        self.mura = mura_df\n",
        "        self.transform = transform\n",
        "        self.classes, self.class_to_idx = class_dict(two_targets=two_targets)\n",
        "\n",
        "    def __len__(self):\n",
        "        return len(self.mura)\n",
        "\n",
        "    # retrives image from path in df file and target from df\n",
        "    def get_image_class(self, index):\n",
        "        image_path = self.mura.iloc[index]['image_path']\n",
        "        class_name = self.mura.iloc[index]['target']\n",
        "        return Image.open(image_path), class_name  \n",
        "\n",
        "    def __getitem__(self, idx):\n",
        "        image, class_name = self.get_image_class(idx)\n",
        "        label = self.class_to_idx[class_name]\n",
        "\n",
        "        return self.transform(image), label\n",
        "        "
      ],
      "metadata": {
        "id": "lndsxAEDoeCd"
      },
      "execution_count": null,
      "outputs": []
    },
    {
      "cell_type": "code",
      "source": [
        "mura_train_dataset = MuraDataset(mura_df = mura_train, two_targets=True)\n",
        "mura_train_dataset = MuraDataset(mura_df = mura_train, two_targets=True)"
      ],
      "metadata": {
        "id": "tF74UuvzoP47"
      },
      "execution_count": null,
      "outputs": []
    },
    {
      "cell_type": "code",
      "source": [
        "# create train df by region\n",
        "wrist_train = mura_train[mura_train['region']=='WRIST']\n",
        "forearm_train = mura_train[mura_train['region']=='FOREARM']\n",
        "hand_train = mura_train[mura_train['region']=='HAND']\n",
        "humerus_train = mura_train[mura_train['region']=='HUMERUS']\n",
        "elbow_train = mura_train[mura_train['region']=='ELBOW']\n",
        "shoulder_train = mura_train[mura_train['region']=='SHOULDER']\n",
        "finger_train = mura_train[mura_train['region']=='FINGER']\n",
        "\n",
        "# create test df by region\n",
        "wrist_test = mura_test[mura_test['region']=='WRIST']\n",
        "forearm_test = mura_test[mura_test['region']=='FOREARM']\n",
        "hand_test = mura_test[mura_test['region']=='HAND']\n",
        "humerus_test = mura_test[mura_test['region']=='HUMERUS']\n",
        "elbow_test = mura_test[mura_test['region']=='ELBOW']\n",
        "shoulder_test = mura_test[mura_test['region']=='SHOULDER']\n",
        "finger_test = mura_test[mura_test['region']=='FINGER']"
      ],
      "metadata": {
        "id": "2ntPyjpCpmuo"
      },
      "execution_count": null,
      "outputs": []
    },
    {
      "cell_type": "code",
      "source": [
        "# create train datasets by region\n",
        "wrist_train_dataset = MuraDataset(mura_df = wrist_train, two_targets=True)\n",
        "forearm_train_dataset = MuraDataset(mura_df = forearm_train, two_targets=True)\n",
        "hand_train_dataset = MuraDataset(mura_df = hand_train, two_targets=True)\n",
        "humerus_train_dataset = MuraDataset(mura_df = humerus_train, two_targets=True)\n",
        "elbow_train_dataset = MuraDataset(mura_df = elbow_train, two_targets=True)\n",
        "shoulder_train_dataset = MuraDataset(mura_df = shoulder_train, two_targets=True)\n",
        "finger_train_dataset = MuraDataset(mura_df = finger_train, two_targets=True)\n",
        "\n",
        "# create test datasets by region\n",
        "wrist_test_dataset = MuraDataset(mura_df = wrist_test, two_targets=True)\n",
        "forearm_test_dataset = MuraDataset(mura_df = forearm_test, two_targets=True)\n",
        "hand_test_dataset = MuraDataset(mura_df = hand_test, two_targets=True)\n",
        "humerus_test_dataset = MuraDataset(mura_df = humerus_test, two_targets=True)\n",
        "elbow_test_dataset = MuraDataset(mura_df = elbow_test, two_targets=True)\n",
        "shoulder_test_dataset = MuraDataset(mura_df = shoulder_test, two_targets=True)\n",
        "finger_test_dataset = MuraDataset(mura_df = finger_test, two_targets=True)"
      ],
      "metadata": {
        "id": "0ewMjDYjpw42"
      },
      "execution_count": null,
      "outputs": []
    },
    {
      "cell_type": "markdown",
      "source": [
        "## **Sample Dataset**"
      ],
      "metadata": {
        "id": "PSlygWyBA27n"
      }
    },
    {
      "cell_type": "code",
      "source": [
        "wrist_len = len(wrist_train)\n",
        "forearm_len = len(forearm_train)\n",
        "hand_len = len(hand_train)\n",
        "humerus_len = len(humerus_train)\n",
        "elbow_len = len(elbow_train)\n",
        "shoulder_len = len(shoulder_train)\n",
        "finger_len = len(finger_train)\n",
        "\n",
        "total = len(mura_train)\n",
        "\n",
        "# ratio of portion of samples we want from each region\n",
        "wrist_ratio = round(wrist_len/total,5)\n",
        "forearm_ratio = round(forearm_len/total,5)\n",
        "hand_ratio = round(hand_len/total,5)\n",
        "humerus_ratio = round(humerus_len/total,5)\n",
        "elbow_ratio = round(elbow_len/total,5)\n",
        "shoulder_ratio = round(shoulder_len/total,5)\n",
        "finger_ratio = round(finger_len/total,5)"
      ],
      "metadata": {
        "id": "Xv4cgygMp7LJ"
      },
      "execution_count": null,
      "outputs": []
    },
    {
      "cell_type": "code",
      "source": [
        "def mura_sample(num_samples):\n",
        "    a = wrist_train.sample(n=int(wrist_ratio*num_samples))\n",
        "    b = forearm_train.sample(n=int(forearm_ratio*num_samples)) \n",
        "    c = hand_train.sample(n=int(hand_ratio*num_samples)) \n",
        "    d = humerus_train.sample(n=int(humerus_ratio*num_samples)) \n",
        "    el = elbow_train.sample(n=int(elbow_ratio*num_samples)) \n",
        "    f = shoulder_train.sample(n=int(shoulder_ratio*num_samples)) \n",
        "    g = finger_train.sample(n=int(finger_ratio*num_samples)) \n",
        "    \n",
        "    frames = [a,b,c,d,el,f,g]\n",
        "    keys = mura_test.columns\n",
        "    result = pd.concat(frames, keys=keys)\n",
        "\n",
        "    ds = MuraDataset(mura_df = result, two_targets=False)\n",
        "    return ds"
      ],
      "metadata": {
        "id": "OzXX9PbhqVVQ"
      },
      "execution_count": null,
      "outputs": []
    },
    {
      "cell_type": "code",
      "source": [
        "mura_train_subset = mura_sample(7000) "
      ],
      "metadata": {
        "id": "PL181W3pqt6U"
      },
      "execution_count": null,
      "outputs": []
    },
    {
      "cell_type": "code",
      "source": [
        "len(mura_train_subset)"
      ],
      "metadata": {
        "colab": {
          "base_uri": "https://localhost:8080/"
        },
        "id": "L0L8oj-KrEs3",
        "outputId": "a3e1a628-0d78-4e64-f97d-c4b68eeb3224"
      },
      "execution_count": null,
      "outputs": [
        {
          "output_type": "execute_result",
          "data": {
            "text/plain": [
              "4433"
            ]
          },
          "metadata": {},
          "execution_count": 41
        }
      ]
    },
    {
      "cell_type": "code",
      "source": [
        "wrist_l = len(wrist_test)\n",
        "forearm_l = len(forearm_test)\n",
        "hand_l = len(hand_test)\n",
        "humerus_l = len(humerus_test)\n",
        "elbow_l = len(elbow_test)\n",
        "shoulder_l = len(shoulder_test)\n",
        "finger_l = len(finger_test)\n",
        "\n",
        "total = len(mura_test)\n",
        "\n",
        "# ratio of portion of samples we want from each region\n",
        "wrist_rat = round(wrist_l/total,5)\n",
        "forearm_rat = round(forearm_l/total,5)\n",
        "hand_rat = round(hand_l/total,5)\n",
        "humerus_rat = round(humerus_l/total,5)\n",
        "elbow_rat = round(elbow_l/total,5)\n",
        "shoulder_rat = round(shoulder_l/total,5)\n",
        "finger_rat = round(finger_l/total,5)"
      ],
      "metadata": {
        "id": "ABAeMKTirIPP"
      },
      "execution_count": null,
      "outputs": []
    },
    {
      "cell_type": "code",
      "source": [
        "def mura_test_sample(num_samples):\n",
        "    a = wrist_test.sample(n=int(wrist_rat*num_samples))\n",
        "    b = forearm_test.sample(n=int(forearm_rat*num_samples)) \n",
        "    c = hand_test.sample(n=int(hand_rat*num_samples)) \n",
        "    d = humerus_test.sample(n=int(humerus_rat*num_samples)) \n",
        "    el = elbow_test.sample(n=int(elbow_rat*num_samples)) \n",
        "    f = shoulder_test.sample(n=int(shoulder_rat*num_samples)) \n",
        "    g = finger_test.sample(n=int(finger_rat*num_samples)) \n",
        "    \n",
        "    frames = [a,b,c,d,el,f,g]\n",
        "    keys = mura_test.columns\n",
        "    result = pd.concat(frames, keys=keys)\n",
        "\n",
        "    ds = MuraDataset(mura_df = result, two_targets=False)\n",
        "    return ds"
      ],
      "metadata": {
        "id": "3DWK0aAIrIRz"
      },
      "execution_count": null,
      "outputs": []
    },
    {
      "cell_type": "code",
      "source": [
        "mura_test_subset = mura_sample(2000) "
      ],
      "metadata": {
        "id": "MG1quzTQrIUU"
      },
      "execution_count": null,
      "outputs": []
    },
    {
      "cell_type": "code",
      "source": [
        "len(mura_test_subset)"
      ],
      "metadata": {
        "colab": {
          "base_uri": "https://localhost:8080/"
        },
        "id": "1EkUYuNgr_g-",
        "outputId": "86743353-c5cb-41d4-8ecf-b268eba16c63"
      },
      "execution_count": null,
      "outputs": [
        {
          "output_type": "execute_result",
          "data": {
            "text/plain": [
              "1265"
            ]
          },
          "metadata": {},
          "execution_count": 43
        }
      ]
    },
    {
      "cell_type": "markdown",
      "source": [
        "## **Model Building**"
      ],
      "metadata": {
        "id": "14-VqoscA-Hj"
      }
    },
    {
      "cell_type": "code",
      "source": [
        "def training(model, model_name, num_epochs, train_dataloader, test_dataloader):\n",
        "\n",
        "    loss_function = torch.nn.CrossEntropyLoss()\n",
        "    optimizer = torch.optim.Adam(model.parameters(), lr=0.0003)\n",
        "    scheduler = torch.optim.lr_scheduler.StepLR(optimizer, step_size=3, gamma=0.33)\n",
        "\n",
        "    train_loss_array = []\n",
        "    train_acc_array = []\n",
        "    test_loss_array = []\n",
        "    test_acc_array = []\n",
        "    lowest_test_loss = np.inf\n",
        "    best_model = None\n",
        "\n",
        "    for epoch in tqdm(range(num_epochs)):\n",
        "\n",
        "        print('Epoch: {} | Learning rate: {}'.format(epoch + 1, scheduler.get_lr()))\n",
        "\n",
        "        for phase in ['train', 'val']:\n",
        "\n",
        "            epoch_loss = 0\n",
        "            epoch_correct_items = 0\n",
        "            epoch_items = 0\n",
        "\n",
        "            if phase == 'train':\n",
        "                model.train()\n",
        "                with torch.enable_grad():\n",
        "                    for samples, targets in train_dataloader:\n",
        "                        samples = samples.to(DEVICE)\n",
        "                        targets = targets.to(DEVICE)\n",
        "\n",
        "                        optimizer.zero_grad()\n",
        "                        outputs = model(samples)\n",
        "                        loss = loss_function(outputs, targets)\n",
        "                        preds = outputs.argmax(dim=1)\n",
        "                        correct_items = (preds == targets).float().sum()\n",
        "                        \n",
        "                        loss.backward()\n",
        "                        optimizer.step()\n",
        "\n",
        "                        epoch_loss += loss.item()\n",
        "                        epoch_correct_items += correct_items.item()\n",
        "                        epoch_items += len(targets)\n",
        "\n",
        "                train_loss_array.append(epoch_loss / epoch_items)\n",
        "                train_acc_array.append(epoch_correct_items / epoch_items)\n",
        "\n",
        "                scheduler.step()\n",
        "\n",
        "            elif phase == 'val':\n",
        "                model.eval()\n",
        "                with torch.no_grad():\n",
        "                    for samples, targets in test_dataloader:\n",
        "                        samples = samples.to(DEVICE)\n",
        "                        targets = targets.to(DEVICE)\n",
        "\n",
        "                        outputs = model(samples)\n",
        "                        loss = loss_function(outputs, targets)\n",
        "                        preds = outputs.argmax(dim=1)\n",
        "                        correct_items = (preds == targets).float().sum()\n",
        "\n",
        "                        epoch_loss += loss.item()\n",
        "                        epoch_correct_items += correct_items.item()\n",
        "                        epoch_items += len(targets)\n",
        "\n",
        "                test_loss_array.append(epoch_loss / epoch_items)\n",
        "                test_acc_array.append(epoch_correct_items / epoch_items)\n",
        "\n",
        "                if epoch_loss / epoch_items < lowest_test_loss:\n",
        "                    lowest_test_loss = epoch_loss / epoch_items\n",
        "                    torch.save(model.state_dict(), '{}_weights.pth'.format(model_name))\n",
        "                    best_model = copy.deepcopy(model)\n",
        "                    print(\"\\t| New lowest test loss for {}: {}\".format(model_name, lowest_test_loss))\n",
        "\n",
        "    return best_model, train_loss_array, train_acc_array, test_loss_array, test_acc_array\n",
        "    \n"
      ],
      "metadata": {
        "id": "_Z-LMjwPnvAb"
      },
      "execution_count": null,
      "outputs": []
    },
    {
      "cell_type": "code",
      "source": [
        "train_dataloader = DataLoader(mura_train_subset, batch_size=64, shuffle=True)\n",
        "test_dataloader = DataLoader(mura_test_subset, batch_size=64, shuffle=False)\n",
        "num_epochs = 15"
      ],
      "metadata": {
        "id": "zKGQZDmxoIk7"
      },
      "execution_count": null,
      "outputs": []
    },
    {
      "cell_type": "markdown",
      "source": [
        "## **DenseNet Model**"
      ],
      "metadata": {
        "id": "zaKGcib4_SzV"
      }
    },
    {
      "cell_type": "code",
      "source": [
        "model_densenet161 = models.densenet161(pretrained=True)\n",
        "for param in model_densenet161.parameters():\n",
        "    param.requires_grad = False\n",
        "model_densenet161.classifier = torch.nn.Linear(model_densenet161.classifier.in_features, out_features=200)\n",
        "model_densenet161 = model_densenet161.to(DEVICE)\n",
        "\n",
        "densenet161_training_results = training(model=model_densenet161,\n",
        "                                        model_name='DenseNet161',\n",
        "                                        num_epochs=num_epochs,\n",
        "                                        train_dataloader=train_dataloader,\n",
        "                                        test_dataloader=test_dataloader)\n",
        "\n",
        "model_densenet161, train_loss_array, train_acc_array, test_loss_array, test_acc_array = densenet161_training_results\n",
        "\n",
        "min_loss = min(test_loss_array)\n",
        "min_loss_epoch = test_loss_array.index(min_loss)\n",
        "min_loss_accuracy = test_acc_array[min_loss_epoch]\n"
      ],
      "metadata": {
        "colab": {
          "base_uri": "https://localhost:8080/"
        },
        "id": "vNWjYg6usMcp",
        "outputId": "2a8e26bb-b8f6-44b5-8104-9a1c4b24e39e"
      },
      "execution_count": null,
      "outputs": [
        {
          "output_type": "stream",
          "name": "stderr",
          "text": [
            "/usr/local/lib/python3.10/dist-packages/torchvision/models/_utils.py:208: UserWarning: The parameter 'pretrained' is deprecated since 0.13 and may be removed in the future, please use 'weights' instead.\n",
            "  warnings.warn(\n",
            "/usr/local/lib/python3.10/dist-packages/torchvision/models/_utils.py:223: UserWarning: Arguments other than a weight enum or `None` for 'weights' are deprecated since 0.13 and may be removed in the future. The current behavior is equivalent to passing `weights=DenseNet161_Weights.IMAGENET1K_V1`. You can also use `weights=DenseNet161_Weights.DEFAULT` to get the most up-to-date weights.\n",
            "  warnings.warn(msg)\n",
            "  0%|          | 0/15 [00:00<?, ?it/s]/usr/local/lib/python3.10/dist-packages/torch/optim/lr_scheduler.py:389: UserWarning: To get the last learning rate computed by the scheduler, please use `get_last_lr()`.\n",
            "  warnings.warn(\"To get the last learning rate computed by the scheduler, \"\n"
          ]
        },
        {
          "output_type": "stream",
          "name": "stdout",
          "text": [
            "Epoch: 1 | Learning rate: [0.0003]\n"
          ]
        },
        {
          "output_type": "stream",
          "name": "stderr",
          "text": [
            "\r  7%|▋         | 1/15 [1:18:43<18:22:05, 4723.22s/it]"
          ]
        },
        {
          "output_type": "stream",
          "name": "stdout",
          "text": [
            "\t| New lowest test loss for DenseNet161: 0.010396043490986578\n",
            "Epoch: 2 | Learning rate: [0.0003]\n"
          ]
        },
        {
          "output_type": "stream",
          "name": "stderr",
          "text": [
            "\r 13%|█▎        | 2/15 [1:20:10<7:12:30, 1996.18s/it] "
          ]
        },
        {
          "output_type": "stream",
          "name": "stdout",
          "text": [
            "\t| New lowest test loss for DenseNet161: 0.009558412444450168\n",
            "Epoch: 3 | Learning rate: [0.0003]\n"
          ]
        },
        {
          "output_type": "stream",
          "name": "stderr",
          "text": [
            "\r 20%|██        | 3/15 [1:21:37<3:44:51, 1124.28s/it]"
          ]
        },
        {
          "output_type": "stream",
          "name": "stdout",
          "text": [
            "\t| New lowest test loss for DenseNet161: 0.009045493838344167\n",
            "Epoch: 4 | Learning rate: [3.267e-05]\n"
          ]
        },
        {
          "output_type": "stream",
          "name": "stderr",
          "text": [
            "\r 27%|██▋       | 4/15 [1:23:03<2:11:01, 714.67s/it] "
          ]
        },
        {
          "output_type": "stream",
          "name": "stdout",
          "text": [
            "\t| New lowest test loss for DenseNet161: 0.008921816933296415\n",
            "Epoch: 5 | Learning rate: [9.9e-05]\n"
          ]
        },
        {
          "output_type": "stream",
          "name": "stderr",
          "text": [
            "\r 33%|███▎      | 5/15 [1:24:30<1:21:22, 488.28s/it]"
          ]
        },
        {
          "output_type": "stream",
          "name": "stdout",
          "text": [
            "\t| New lowest test loss for DenseNet161: 0.00881937582031069\n",
            "Epoch: 6 | Learning rate: [9.9e-05]\n"
          ]
        },
        {
          "output_type": "stream",
          "name": "stderr",
          "text": [
            "\r 40%|████      | 6/15 [1:25:57<52:45, 351.76s/it]  "
          ]
        },
        {
          "output_type": "stream",
          "name": "stdout",
          "text": [
            "\t| New lowest test loss for DenseNet161: 0.008715694459530675\n",
            "Epoch: 7 | Learning rate: [1.0781099999999999e-05]\n"
          ]
        },
        {
          "output_type": "stream",
          "name": "stderr",
          "text": [
            "\r 47%|████▋     | 7/15 [1:27:23<35:19, 264.95s/it]"
          ]
        },
        {
          "output_type": "stream",
          "name": "stdout",
          "text": [
            "\t| New lowest test loss for DenseNet161: 0.008701218093336807\n",
            "Epoch: 8 | Learning rate: [3.267e-05]\n"
          ]
        },
        {
          "output_type": "stream",
          "name": "stderr",
          "text": [
            "\r 53%|█████▎    | 8/15 [1:28:50<24:17, 208.15s/it]"
          ]
        },
        {
          "output_type": "stream",
          "name": "stdout",
          "text": [
            "\t| New lowest test loss for DenseNet161: 0.008664159718238317\n",
            "Epoch: 9 | Learning rate: [3.267e-05]\n"
          ]
        },
        {
          "output_type": "stream",
          "name": "stderr",
          "text": [
            "\r 60%|██████    | 9/15 [1:30:16<17:01, 170.17s/it]"
          ]
        },
        {
          "output_type": "stream",
          "name": "stdout",
          "text": [
            "\t| New lowest test loss for DenseNet161: 0.008625144049112975\n",
            "Epoch: 10 | Learning rate: [3.557763e-06]\n"
          ]
        },
        {
          "output_type": "stream",
          "name": "stderr",
          "text": [
            "\r 67%|██████▋   | 10/15 [1:31:43<12:01, 144.32s/it]"
          ]
        },
        {
          "output_type": "stream",
          "name": "stdout",
          "text": [
            "\t| New lowest test loss for DenseNet161: 0.008618250760165128\n",
            "Epoch: 11 | Learning rate: [1.0781099999999999e-05]\n"
          ]
        },
        {
          "output_type": "stream",
          "name": "stderr",
          "text": [
            "\r 73%|███████▎  | 11/15 [1:33:10<08:27, 126.76s/it]"
          ]
        },
        {
          "output_type": "stream",
          "name": "stdout",
          "text": [
            "\t| New lowest test loss for DenseNet161: 0.008597433355014786\n",
            "Epoch: 12 | Learning rate: [1.0781099999999999e-05]\n"
          ]
        },
        {
          "output_type": "stream",
          "name": "stderr",
          "text": [
            "\r 80%|████████  | 12/15 [1:34:36<05:43, 114.56s/it]"
          ]
        },
        {
          "output_type": "stream",
          "name": "stdout",
          "text": [
            "Epoch: 13 | Learning rate: [1.17406179e-06]\n"
          ]
        },
        {
          "output_type": "stream",
          "name": "stderr",
          "text": [
            "\r 87%|████████▋ | 13/15 [1:36:04<03:32, 106.24s/it]"
          ]
        },
        {
          "output_type": "stream",
          "name": "stdout",
          "text": [
            "\t| New lowest test loss for DenseNet161: 0.008593763028208917\n",
            "Epoch: 14 | Learning rate: [3.557763e-06]\n"
          ]
        },
        {
          "output_type": "stream",
          "name": "stderr",
          "text": [
            "\r 93%|█████████▎| 14/15 [1:37:30<01:40, 100.34s/it]"
          ]
        },
        {
          "output_type": "stream",
          "name": "stdout",
          "text": [
            "\t| New lowest test loss for DenseNet161: 0.008589638457467904\n",
            "Epoch: 15 | Learning rate: [3.557763e-06]\n"
          ]
        },
        {
          "output_type": "stream",
          "name": "stderr",
          "text": [
            "100%|██████████| 15/15 [1:38:57<00:00, 395.83s/it]"
          ]
        },
        {
          "output_type": "stream",
          "name": "stdout",
          "text": [
            "\t| New lowest test loss for DenseNet161: 0.008588070525482237\n"
          ]
        },
        {
          "output_type": "stream",
          "name": "stderr",
          "text": [
            "\n"
          ]
        }
      ]
    },
    {
      "cell_type": "code",
      "source": [
        "print(\"\\nTraining results:\")\n",
        "print(\"\\tMin test loss {:.4f} was achieved during epoch #{}\".format(min_loss, min_loss_epoch + 1))\n",
        "print(\"\\t test accuracy during min test loss is {:.4f}\".format(min_loss_accuracy))"
      ],
      "metadata": {
        "colab": {
          "base_uri": "https://localhost:8080/"
        },
        "id": "La6NU1U6shmC",
        "outputId": "08fc99c1-155f-4091-ae14-f06119a37b6e"
      },
      "execution_count": null,
      "outputs": [
        {
          "output_type": "stream",
          "name": "stdout",
          "text": [
            "\n",
            "Training results:\n",
            "\tMin test loss 0.0086 was achieved during epoch #15\n",
            "\t test accuracy during min test loss is 0.7478\n"
          ]
        }
      ]
    },
    {
      "cell_type": "markdown",
      "source": [
        "## **ResNet Model**"
      ],
      "metadata": {
        "id": "PNjgGp1l_b6_"
      }
    },
    {
      "cell_type": "code",
      "source": [
        "model_resnet152 = models.resnet152(pretrained=True)\n",
        "for param in model_resnet152.parameters():\n",
        "    param.requires_grad = False\n",
        "model_resnet152.fc = torch.nn.Linear(model_resnet152.fc.in_features, 200)\n",
        "model_resnet152 = model_resnet152.to(DEVICE)\n",
        "\n",
        "resnet152_training_results = training(model=model_resnet152,\n",
        "                                      model_name='ResNet152',\n",
        "                                      num_epochs=num_epochs,\n",
        "                                      train_dataloader=train_dataloader,\n",
        "                                      test_dataloader=test_dataloader)\n",
        "\n",
        "model_resnet152, train_loss_array, train_acc_array, test_loss_array, test_acc_array = resnet152_training_results\n",
        "\n",
        "min_loss = min(test_loss_array)\n",
        "min_loss_epoch = test_loss_array.index(min_loss)\n",
        "min_loss_accuracy = test_acc_array[min_loss_epoch]\n"
      ],
      "metadata": {
        "colab": {
          "base_uri": "https://localhost:8080/"
        },
        "id": "LrMOxbZQx7bl",
        "outputId": "3778b1f2-f90c-422f-ca61-ea84b71c7de5"
      },
      "execution_count": null,
      "outputs": [
        {
          "output_type": "stream",
          "name": "stderr",
          "text": [
            "/usr/local/lib/python3.10/dist-packages/torchvision/models/_utils.py:223: UserWarning: Arguments other than a weight enum or `None` for 'weights' are deprecated since 0.13 and may be removed in the future. The current behavior is equivalent to passing `weights=ResNet152_Weights.IMAGENET1K_V1`. You can also use `weights=ResNet152_Weights.DEFAULT` to get the most up-to-date weights.\n",
            "  warnings.warn(msg)\n",
            "  0%|          | 0/15 [00:00<?, ?it/s]"
          ]
        },
        {
          "output_type": "stream",
          "name": "stdout",
          "text": [
            "Epoch: 1 | Learning rate: [0.0003]\n"
          ]
        },
        {
          "output_type": "stream",
          "name": "stderr",
          "text": [
            "\r  7%|▋         | 1/15 [01:25<20:00, 85.76s/it]"
          ]
        },
        {
          "output_type": "stream",
          "name": "stdout",
          "text": [
            "\t| New lowest test loss for ResNet152: 0.010153063907924849\n",
            "Epoch: 2 | Learning rate: [0.0003]\n"
          ]
        },
        {
          "output_type": "stream",
          "name": "stderr",
          "text": [
            "\r 13%|█▎        | 2/15 [02:50<18:25, 85.01s/it]"
          ]
        },
        {
          "output_type": "stream",
          "name": "stdout",
          "text": [
            "\t| New lowest test loss for ResNet152: 0.009332442095157186\n",
            "Epoch: 3 | Learning rate: [0.0003]\n"
          ]
        },
        {
          "output_type": "stream",
          "name": "stderr",
          "text": [
            "\r 20%|██        | 3/15 [04:14<16:56, 84.73s/it]"
          ]
        },
        {
          "output_type": "stream",
          "name": "stdout",
          "text": [
            "\t| New lowest test loss for ResNet152: 0.0089997290386984\n",
            "Epoch: 4 | Learning rate: [3.267e-05]\n"
          ]
        },
        {
          "output_type": "stream",
          "name": "stderr",
          "text": [
            "\r 27%|██▋       | 4/15 [05:38<15:29, 84.47s/it]"
          ]
        },
        {
          "output_type": "stream",
          "name": "stdout",
          "text": [
            "\t| New lowest test loss for ResNet152: 0.00895997961990447\n",
            "Epoch: 5 | Learning rate: [9.9e-05]\n"
          ]
        },
        {
          "output_type": "stream",
          "name": "stderr",
          "text": [
            "\r 33%|███▎      | 5/15 [07:02<14:00, 84.10s/it]"
          ]
        },
        {
          "output_type": "stream",
          "name": "stdout",
          "text": [
            "Epoch: 6 | Learning rate: [9.9e-05]\n"
          ]
        },
        {
          "output_type": "stream",
          "name": "stderr",
          "text": [
            "\r 40%|████      | 6/15 [08:26<12:37, 84.15s/it]"
          ]
        },
        {
          "output_type": "stream",
          "name": "stdout",
          "text": [
            "\t| New lowest test loss for ResNet152: 0.008854874391329618\n",
            "Epoch: 7 | Learning rate: [1.0781099999999999e-05]\n"
          ]
        },
        {
          "output_type": "stream",
          "name": "stderr",
          "text": [
            "\r 47%|████▋     | 7/15 [09:51<11:15, 84.41s/it]"
          ]
        },
        {
          "output_type": "stream",
          "name": "stdout",
          "text": [
            "\t| New lowest test loss for ResNet152: 0.008830320976468414\n",
            "Epoch: 8 | Learning rate: [3.267e-05]\n"
          ]
        },
        {
          "output_type": "stream",
          "name": "stderr",
          "text": [
            "\r 53%|█████▎    | 8/15 [11:15<09:49, 84.26s/it]"
          ]
        },
        {
          "output_type": "stream",
          "name": "stdout",
          "text": [
            "\t| New lowest test loss for ResNet152: 0.008794563160583435\n",
            "Epoch: 9 | Learning rate: [3.267e-05]\n"
          ]
        },
        {
          "output_type": "stream",
          "name": "stderr",
          "text": [
            "\r 60%|██████    | 9/15 [12:39<08:25, 84.31s/it]"
          ]
        },
        {
          "output_type": "stream",
          "name": "stdout",
          "text": [
            "\t| New lowest test loss for ResNet152: 0.008768173192329557\n",
            "Epoch: 10 | Learning rate: [3.557763e-06]\n"
          ]
        },
        {
          "output_type": "stream",
          "name": "stderr",
          "text": [
            "\r 67%|██████▋   | 10/15 [14:03<07:00, 84.01s/it]"
          ]
        },
        {
          "output_type": "stream",
          "name": "stdout",
          "text": [
            "Epoch: 11 | Learning rate: [1.0781099999999999e-05]\n"
          ]
        },
        {
          "output_type": "stream",
          "name": "stderr",
          "text": [
            "\r 73%|███████▎  | 11/15 [15:26<05:35, 83.85s/it]"
          ]
        },
        {
          "output_type": "stream",
          "name": "stdout",
          "text": [
            "Epoch: 12 | Learning rate: [1.0781099999999999e-05]\n"
          ]
        },
        {
          "output_type": "stream",
          "name": "stderr",
          "text": [
            "\r 80%|████████  | 12/15 [16:50<04:11, 83.91s/it]"
          ]
        },
        {
          "output_type": "stream",
          "name": "stdout",
          "text": [
            "\t| New lowest test loss for ResNet152: 0.00876063638525047\n",
            "Epoch: 13 | Learning rate: [1.17406179e-06]\n"
          ]
        },
        {
          "output_type": "stream",
          "name": "stderr",
          "text": [
            "\r 87%|████████▋ | 13/15 [18:14<02:47, 83.84s/it]"
          ]
        },
        {
          "output_type": "stream",
          "name": "stdout",
          "text": [
            "\t| New lowest test loss for ResNet152: 0.008760142609064757\n",
            "Epoch: 14 | Learning rate: [3.557763e-06]\n"
          ]
        },
        {
          "output_type": "stream",
          "name": "stderr",
          "text": [
            "\r 93%|█████████▎| 14/15 [19:39<01:24, 84.23s/it]"
          ]
        },
        {
          "output_type": "stream",
          "name": "stdout",
          "text": [
            "\t| New lowest test loss for ResNet152: 0.00875241188663739\n",
            "Epoch: 15 | Learning rate: [3.557763e-06]\n"
          ]
        },
        {
          "output_type": "stream",
          "name": "stderr",
          "text": [
            "100%|██████████| 15/15 [21:04<00:00, 84.27s/it]"
          ]
        },
        {
          "output_type": "stream",
          "name": "stdout",
          "text": [
            "\t| New lowest test loss for ResNet152: 0.008749379730036136\n"
          ]
        },
        {
          "output_type": "stream",
          "name": "stderr",
          "text": [
            "\n"
          ]
        }
      ]
    },
    {
      "cell_type": "code",
      "source": [
        "print(\"\\nTraining results:\")\n",
        "print(\"\\tMin test loss {:.4f} was achieved during epoch #{}\".format(min_loss, min_loss_epoch + 1))\n",
        "print(\"\\tTest accuracy during min val loss is {:.4f}\".format(min_loss_accuracy))"
      ],
      "metadata": {
        "colab": {
          "base_uri": "https://localhost:8080/"
        },
        "id": "eHIrxmz8x8d4",
        "outputId": "d45e6e78-75ad-42c0-b71b-41f39b9d8cb9"
      },
      "execution_count": null,
      "outputs": [
        {
          "output_type": "stream",
          "name": "stdout",
          "text": [
            "\n",
            "Training results:\n",
            "\tMin test loss 0.0087 was achieved during epoch #15\n",
            "\tTest accuracy during min val loss is 0.7289\n"
          ]
        }
      ]
    },
    {
      "cell_type": "markdown",
      "source": [
        "## **Ensemble model**"
      ],
      "metadata": {
        "id": "yS_OkPC6_OSW"
      }
    },
    {
      "cell_type": "code",
      "source": [
        "class EnsembleModel(nn.Module):   \n",
        "    def __init__(self, modelA, modelB):\n",
        "        super().__init__()\n",
        "        self.modelA = modelA\n",
        "        self.modelB = modelB\n",
        "        self.classifier = nn.Linear(200*2, 200)\n",
        "        \n",
        "    def forward(self, x):\n",
        "        x1 = self.modelA(x)\n",
        "        x2 = self.modelB(x)\n",
        "        x = torch.cat((x1, x2), dim=1)\n",
        "        out = self.classifier(x)\n",
        "        return out\n",
        "    \n",
        "ensemble_model = EnsembleModel(model_densenet161, model_resnet152)\n",
        "\n",
        "for param in ensemble_model.parameters():\n",
        "    param.requires_grad = False\n",
        "\n",
        "for param in ensemble_model.classifier.parameters():\n",
        "    param.requires_grad = True    \n",
        "\n",
        "ensemble_model = ensemble_model.to(DEVICE)"
      ],
      "metadata": {
        "id": "y0P6w8ub-Cw2"
      },
      "execution_count": null,
      "outputs": []
    },
    {
      "cell_type": "code",
      "source": [
        "ensemble_training_results = training(model=ensemble_model,\n",
        "                                     model_name='Ensemble',\n",
        "                                     num_epochs=15,\n",
        "                                     train_dataloader=train_dataloader,\n",
        "                                     test_dataloader=test_dataloader)\n",
        "\n",
        "ensemble_model, train_loss_array, train_acc_array, test_loss_array, test_acc_array = ensemble_training_results\n",
        "\n",
        "min_loss = min(test_loss_array)\n",
        "min_loss_iteration = test_loss_array.index(min_loss)\n",
        "min_loss_accuracy = test_acc_array[min_loss_iteration]"
      ],
      "metadata": {
        "colab": {
          "base_uri": "https://localhost:8080/"
        },
        "id": "aG9WFUgKAIZs",
        "outputId": "8516ae14-9f6e-4d55-bcd3-a124f1eab26d"
      },
      "execution_count": null,
      "outputs": [
        {
          "metadata": {
            "tags": null
          },
          "name": "stderr",
          "output_type": "stream",
          "text": [
            "\r  0%|          | 0/15 [00:00<?, ?it/s]"
          ]
        },
        {
          "metadata": {
            "tags": null
          },
          "name": "stdout",
          "output_type": "stream",
          "text": [
            "Epoch: 1 | Learning rate: [0.0003]\n"
          ]
        },
        {
          "metadata": {
            "tags": null
          },
          "name": "stderr",
          "output_type": "stream",
          "text": [
            "\r  7%|▋         | 1/15 [02:07<29:42, 127.34s/it]"
          ]
        },
        {
          "metadata": {
            "tags": null
          },
          "name": "stdout",
          "output_type": "stream",
          "text": [
            "\t| New lowest test loss for Ensemble: 0.011071529878458015\n",
            "Epoch: 2 | Learning rate: [0.0003]\n"
          ]
        },
        {
          "metadata": {
            "tags": null
          },
          "name": "stderr",
          "output_type": "stream",
          "text": [
            "\r 13%|█▎        | 2/15 [04:15<27:38, 127.58s/it]"
          ]
        },
        {
          "metadata": {
            "tags": null
          },
          "name": "stdout",
          "output_type": "stream",
          "text": [
            "\t| New lowest test loss for Ensemble: 0.010879814012248525\n",
            "Epoch: 3 | Learning rate: [0.0003]\n"
          ]
        },
        {
          "metadata": {
            "tags": null
          },
          "name": "stderr",
          "output_type": "stream",
          "text": [
            "\r 20%|██        | 3/15 [06:22<25:31, 127.65s/it]"
          ]
        },
        {
          "metadata": {
            "tags": null
          },
          "name": "stdout",
          "output_type": "stream",
          "text": [
            "\t| New lowest test loss for Ensemble: 0.010864586980917709\n",
            "Epoch: 4 | Learning rate: [3.267e-05]\n"
          ]
        },
        {
          "metadata": {
            "tags": null
          },
          "name": "stderr",
          "output_type": "stream",
          "text": [
            "\r 27%|██▋       | 4/15 [08:30<23:22, 127.53s/it]"
          ]
        },
        {
          "metadata": {
            "tags": null
          },
          "name": "stdout",
          "output_type": "stream",
          "text": [
            "\t| New lowest test loss for Ensemble: 0.010731597097494857\n",
            "Epoch: 5 | Learning rate: [9.9e-05]\n"
          ]
        },
        {
          "metadata": {
            "tags": null
          },
          "name": "stderr",
          "output_type": "stream",
          "text": [
            "\r 33%|███▎      | 5/15 [10:37<21:14, 127.48s/it]"
          ]
        },
        {
          "metadata": {
            "tags": null
          },
          "name": "stdout",
          "output_type": "stream",
          "text": [
            "\t| New lowest test loss for Ensemble: 0.010708712212181845\n",
            "Epoch: 6 | Learning rate: [9.9e-05]\n"
          ]
        },
        {
          "metadata": {
            "tags": null
          },
          "name": "stderr",
          "output_type": "stream",
          "text": [
            "\r 40%|████      | 6/15 [12:45<19:07, 127.52s/it]"
          ]
        },
        {
          "metadata": {
            "tags": null
          },
          "name": "stdout",
          "output_type": "stream",
          "text": [
            "\t| New lowest test loss for Ensemble: 0.01069496648584901\n",
            "Epoch: 7 | Learning rate: [1.0781099999999999e-05]\n"
          ]
        },
        {
          "metadata": {
            "tags": null
          },
          "name": "stderr",
          "output_type": "stream",
          "text": [
            "\r 47%|████▋     | 7/15 [14:51<16:57, 127.21s/it]"
          ]
        },
        {
          "metadata": {
            "tags": null
          },
          "name": "stdout",
          "output_type": "stream",
          "text": [
            "Epoch: 8 | Learning rate: [3.267e-05]\n"
          ]
        },
        {
          "metadata": {
            "tags": null
          },
          "name": "stderr",
          "output_type": "stream",
          "text": [
            "\r 53%|█████▎    | 8/15 [16:58<14:48, 126.98s/it]"
          ]
        },
        {
          "metadata": {
            "tags": null
          },
          "name": "stdout",
          "output_type": "stream",
          "text": [
            "Epoch: 9 | Learning rate: [3.267e-05]\n"
          ]
        },
        {
          "metadata": {
            "tags": null
          },
          "name": "stderr",
          "output_type": "stream",
          "text": [
            "\r 60%|██████    | 9/15 [19:04<12:40, 126.76s/it]"
          ]
        },
        {
          "metadata": {
            "tags": null
          },
          "name": "stdout",
          "output_type": "stream",
          "text": [
            "Epoch: 10 | Learning rate: [3.557763e-06]\n"
          ]
        },
        {
          "output_type": "stream",
          "name": "stderr",
          "text": [
            "\r 67%|██████▋   | 10/15 [21:10<10:33, 126.68s/it]"
          ]
        },
        {
          "output_type": "stream",
          "name": "stdout",
          "text": [
            "\t| New lowest test loss for Ensemble: 0.010663628813777517\n",
            "Epoch: 11 | Learning rate: [1.0781099999999999e-05]\n"
          ]
        },
        {
          "output_type": "stream",
          "name": "stderr",
          "text": [
            "\r 73%|███████▎  | 11/15 [23:18<08:27, 126.81s/it]"
          ]
        },
        {
          "output_type": "stream",
          "name": "stdout",
          "text": [
            "\t| New lowest test loss for Ensemble: 0.010651967883581229\n",
            "Epoch: 12 | Learning rate: [1.0781099999999999e-05]\n"
          ]
        },
        {
          "output_type": "stream",
          "name": "stderr",
          "text": [
            "\r 80%|████████  | 12/15 [25:24<06:19, 126.62s/it]"
          ]
        },
        {
          "output_type": "stream",
          "name": "stdout",
          "text": [
            "Epoch: 13 | Learning rate: [1.17406179e-06]\n"
          ]
        },
        {
          "output_type": "stream",
          "name": "stderr",
          "text": [
            "\r 87%|████████▋ | 13/15 [27:31<04:13, 126.72s/it]"
          ]
        },
        {
          "output_type": "stream",
          "name": "stdout",
          "text": [
            "\t| New lowest test loss for Ensemble: 0.010644147707068402\n",
            "Epoch: 14 | Learning rate: [3.557763e-06]\n"
          ]
        },
        {
          "output_type": "stream",
          "name": "stderr",
          "text": [
            "\r 93%|█████████▎| 14/15 [29:38<02:06, 126.80s/it]"
          ]
        },
        {
          "output_type": "stream",
          "name": "stdout",
          "text": [
            "\t| New lowest test loss for Ensemble: 0.010640235239338026\n",
            "Epoch: 15 | Learning rate: [3.557763e-06]\n"
          ]
        },
        {
          "output_type": "stream",
          "name": "stderr",
          "text": [
            "100%|██████████| 15/15 [31:44<00:00, 126.96s/it]\n"
          ]
        }
      ]
    },
    {
      "cell_type": "code",
      "source": [
        "print(\"\\nTraining results:\")\n",
        "print(\"\\tMin test loss {:.4f} was achieved during iteration #{}\".format(min_loss, min_loss_iteration + 1))\n",
        "print(\"\\tTest accuracy during min test loss is {:.4f}\".format(min_loss_accuracy))"
      ],
      "metadata": {
        "colab": {
          "base_uri": "https://localhost:8080/"
        },
        "id": "MoqPF1pXsrko",
        "outputId": "a1d6effc-1032-4f45-bd94-f0061d8d5b18"
      },
      "execution_count": null,
      "outputs": [
        {
          "output_type": "stream",
          "name": "stdout",
          "text": [
            "\n",
            "Training results:\n",
            "\tMin test loss 0.0106 was achieved during iteration #14\n",
            "\tTest accuracy during min test loss is 0.6079\n"
          ]
        }
      ]
    },
    {
      "cell_type": "code",
      "source": [
        "print(\"\\nTraining results:\")\n",
        "print(\"\\tMin test loss {:.4f} was achieved during iteration #{}\".format(min_loss, min_loss_iteration + 1))\n",
        "print(\"\\tTest accuracy during min test loss is {:.4f}\".format(min_loss_accuracy))"
      ],
      "metadata": {
        "colab": {
          "base_uri": "https://localhost:8080/"
        },
        "id": "HbMp2H3CAc9a",
        "outputId": "f5bb472f-ec03-405f-910c-f55804849cfa"
      },
      "execution_count": null,
      "outputs": [
        {
          "output_type": "stream",
          "name": "stdout",
          "text": [
            "\n",
            "Training results:\n",
            "\tMin test loss 0.0106 was achieved during iteration #20\n",
            "\tTest accuracy during min test loss is 0.6190\n"
          ]
        }
      ]
    },
    {
      "cell_type": "markdown",
      "source": [
        "# **Results comparision**"
      ],
      "metadata": {
        "id": "OA4k14EJdI4J"
      }
    },
    {
      "cell_type": "markdown",
      "source": [
        "![image.png](data:image/png;base64,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)"
      ],
      "metadata": {
        "id": "vQ3RmVDSvsyr"
      }
    }
  ]
}